{
 "cells": [
  {
   "cell_type": "markdown",
   "metadata": {},
   "source": [
    "# Выбор локации для скважины"
   ]
  },
  {
   "cell_type": "markdown",
   "metadata": {},
   "source": [
    "Допустим, вы работаете в добывающей компании «ГлавРосГосНефть». Нужно решить, где бурить новую скважину.\n",
    "\n",
    "Вам предоставлены пробы нефти в трёх регионах: в каждом 10 000 месторождений, где измерили качество нефти и объём её запасов. Постройте модель машинного обучения, которая поможет определить регион, где добыча принесёт наибольшую прибыль. Проанализируйте возможную прибыль и риски техникой *Bootstrap.*\n",
    "\n",
    "Шаги для выбора локации:\n",
    "\n",
    "- В избранном регионе ищут месторождения, для каждого определяют значения признаков;\n",
    "- Строят модель и оценивают объём запасов;\n",
    "- Выбирают месторождения с самым высокими оценками значений. Количество месторождений зависит от бюджета компании и стоимости разработки одной скважины;\n",
    "- Прибыль равна суммарной прибыли отобранных месторождений."
   ]
  },
  {
   "cell_type": "markdown",
   "metadata": {},
   "source": [
    "## Загрузка и подготовка данных"
   ]
  },
  {
   "cell_type": "code",
   "execution_count": 1,
   "metadata": {},
   "outputs": [],
   "source": [
    "import pandas as pd\n",
    "import numpy as np\n",
    "from sklearn.model_selection import train_test_split\n",
    "from sklearn.linear_model import LinearRegression\n",
    "from sklearn.metrics import mean_squared_error"
   ]
  },
  {
   "cell_type": "code",
   "execution_count": 2,
   "metadata": {},
   "outputs": [],
   "source": [
    "region_1 = pd.read_csv('/datasets/geo_data_0.csv')\n",
    "region_2 = pd.read_csv('/datasets/geo_data_1.csv')\n",
    "region_3 = pd.read_csv('/datasets/geo_data_2.csv')"
   ]
  },
  {
   "cell_type": "markdown",
   "metadata": {},
   "source": [
    "### Регион 1."
   ]
  },
  {
   "cell_type": "code",
   "execution_count": 3,
   "metadata": {
    "scrolled": true
   },
   "outputs": [
    {
     "data": {
      "text/html": [
       "<div>\n",
       "<style scoped>\n",
       "    .dataframe tbody tr th:only-of-type {\n",
       "        vertical-align: middle;\n",
       "    }\n",
       "\n",
       "    .dataframe tbody tr th {\n",
       "        vertical-align: top;\n",
       "    }\n",
       "\n",
       "    .dataframe thead th {\n",
       "        text-align: right;\n",
       "    }\n",
       "</style>\n",
       "<table border=\"1\" class=\"dataframe\">\n",
       "  <thead>\n",
       "    <tr style=\"text-align: right;\">\n",
       "      <th></th>\n",
       "      <th>id</th>\n",
       "      <th>f0</th>\n",
       "      <th>f1</th>\n",
       "      <th>f2</th>\n",
       "      <th>product</th>\n",
       "    </tr>\n",
       "  </thead>\n",
       "  <tbody>\n",
       "    <tr>\n",
       "      <th>0</th>\n",
       "      <td>txEyH</td>\n",
       "      <td>0.705745</td>\n",
       "      <td>-0.497823</td>\n",
       "      <td>1.221170</td>\n",
       "      <td>105.280062</td>\n",
       "    </tr>\n",
       "    <tr>\n",
       "      <th>1</th>\n",
       "      <td>2acmU</td>\n",
       "      <td>1.334711</td>\n",
       "      <td>-0.340164</td>\n",
       "      <td>4.365080</td>\n",
       "      <td>73.037750</td>\n",
       "    </tr>\n",
       "    <tr>\n",
       "      <th>2</th>\n",
       "      <td>409Wp</td>\n",
       "      <td>1.022732</td>\n",
       "      <td>0.151990</td>\n",
       "      <td>1.419926</td>\n",
       "      <td>85.265647</td>\n",
       "    </tr>\n",
       "    <tr>\n",
       "      <th>3</th>\n",
       "      <td>iJLyR</td>\n",
       "      <td>-0.032172</td>\n",
       "      <td>0.139033</td>\n",
       "      <td>2.978566</td>\n",
       "      <td>168.620776</td>\n",
       "    </tr>\n",
       "    <tr>\n",
       "      <th>4</th>\n",
       "      <td>Xdl7t</td>\n",
       "      <td>1.988431</td>\n",
       "      <td>0.155413</td>\n",
       "      <td>4.751769</td>\n",
       "      <td>154.036647</td>\n",
       "    </tr>\n",
       "  </tbody>\n",
       "</table>\n",
       "</div>"
      ],
      "text/plain": [
       "      id        f0        f1        f2     product\n",
       "0  txEyH  0.705745 -0.497823  1.221170  105.280062\n",
       "1  2acmU  1.334711 -0.340164  4.365080   73.037750\n",
       "2  409Wp  1.022732  0.151990  1.419926   85.265647\n",
       "3  iJLyR -0.032172  0.139033  2.978566  168.620776\n",
       "4  Xdl7t  1.988431  0.155413  4.751769  154.036647"
      ]
     },
     "execution_count": 3,
     "metadata": {},
     "output_type": "execute_result"
    }
   ],
   "source": [
    "region_1.head()"
   ]
  },
  {
   "cell_type": "code",
   "execution_count": 4,
   "metadata": {
    "scrolled": false
   },
   "outputs": [
    {
     "name": "stdout",
     "output_type": "stream",
     "text": [
      "<class 'pandas.core.frame.DataFrame'>\n",
      "RangeIndex: 100000 entries, 0 to 99999\n",
      "Data columns (total 5 columns):\n",
      " #   Column   Non-Null Count   Dtype  \n",
      "---  ------   --------------   -----  \n",
      " 0   id       100000 non-null  object \n",
      " 1   f0       100000 non-null  float64\n",
      " 2   f1       100000 non-null  float64\n",
      " 3   f2       100000 non-null  float64\n",
      " 4   product  100000 non-null  float64\n",
      "dtypes: float64(4), object(1)\n",
      "memory usage: 3.8+ MB\n"
     ]
    }
   ],
   "source": [
    "region_1.info()"
   ]
  },
  {
   "cell_type": "code",
   "execution_count": 5,
   "metadata": {
    "scrolled": true
   },
   "outputs": [
    {
     "data": {
      "text/plain": [
       "0"
      ]
     },
     "execution_count": 5,
     "metadata": {},
     "output_type": "execute_result"
    }
   ],
   "source": [
    "region_1.duplicated().sum()"
   ]
  },
  {
   "cell_type": "code",
   "execution_count": 6,
   "metadata": {},
   "outputs": [
    {
     "data": {
      "text/plain": [
       "10"
      ]
     },
     "execution_count": 6,
     "metadata": {},
     "output_type": "execute_result"
    }
   ],
   "source": [
    "region_1['id'].duplicated().sum()"
   ]
  },
  {
   "cell_type": "code",
   "execution_count": 7,
   "metadata": {
    "scrolled": false
   },
   "outputs": [
    {
     "data": {
      "text/html": [
       "<div>\n",
       "<style scoped>\n",
       "    .dataframe tbody tr th:only-of-type {\n",
       "        vertical-align: middle;\n",
       "    }\n",
       "\n",
       "    .dataframe tbody tr th {\n",
       "        vertical-align: top;\n",
       "    }\n",
       "\n",
       "    .dataframe thead th {\n",
       "        text-align: right;\n",
       "    }\n",
       "</style>\n",
       "<table border=\"1\" class=\"dataframe\">\n",
       "  <thead>\n",
       "    <tr style=\"text-align: right;\">\n",
       "      <th></th>\n",
       "      <th>id</th>\n",
       "      <th>f0</th>\n",
       "      <th>f1</th>\n",
       "      <th>f2</th>\n",
       "      <th>product</th>\n",
       "    </tr>\n",
       "  </thead>\n",
       "  <tbody>\n",
       "    <tr>\n",
       "      <th>66136</th>\n",
       "      <td>74z30</td>\n",
       "      <td>1.084962</td>\n",
       "      <td>-0.312358</td>\n",
       "      <td>6.990771</td>\n",
       "      <td>127.643327</td>\n",
       "    </tr>\n",
       "    <tr>\n",
       "      <th>64022</th>\n",
       "      <td>74z30</td>\n",
       "      <td>0.741456</td>\n",
       "      <td>0.459229</td>\n",
       "      <td>5.153109</td>\n",
       "      <td>140.771492</td>\n",
       "    </tr>\n",
       "    <tr>\n",
       "      <th>51970</th>\n",
       "      <td>A5aEY</td>\n",
       "      <td>-0.180335</td>\n",
       "      <td>0.935548</td>\n",
       "      <td>-2.094773</td>\n",
       "      <td>33.020205</td>\n",
       "    </tr>\n",
       "    <tr>\n",
       "      <th>3389</th>\n",
       "      <td>A5aEY</td>\n",
       "      <td>-0.039949</td>\n",
       "      <td>0.156872</td>\n",
       "      <td>0.209861</td>\n",
       "      <td>89.249364</td>\n",
       "    </tr>\n",
       "    <tr>\n",
       "      <th>69163</th>\n",
       "      <td>AGS9W</td>\n",
       "      <td>-0.933795</td>\n",
       "      <td>0.116194</td>\n",
       "      <td>-3.655896</td>\n",
       "      <td>19.230453</td>\n",
       "    </tr>\n",
       "    <tr>\n",
       "      <th>42529</th>\n",
       "      <td>AGS9W</td>\n",
       "      <td>1.454747</td>\n",
       "      <td>-0.479651</td>\n",
       "      <td>0.683380</td>\n",
       "      <td>126.370504</td>\n",
       "    </tr>\n",
       "    <tr>\n",
       "      <th>931</th>\n",
       "      <td>HZww2</td>\n",
       "      <td>0.755284</td>\n",
       "      <td>0.368511</td>\n",
       "      <td>1.863211</td>\n",
       "      <td>30.681774</td>\n",
       "    </tr>\n",
       "    <tr>\n",
       "      <th>7530</th>\n",
       "      <td>HZww2</td>\n",
       "      <td>1.061194</td>\n",
       "      <td>-0.373969</td>\n",
       "      <td>10.430210</td>\n",
       "      <td>158.828695</td>\n",
       "    </tr>\n",
       "    <tr>\n",
       "      <th>63593</th>\n",
       "      <td>QcMuo</td>\n",
       "      <td>0.635635</td>\n",
       "      <td>-0.473422</td>\n",
       "      <td>0.862670</td>\n",
       "      <td>64.578675</td>\n",
       "    </tr>\n",
       "    <tr>\n",
       "      <th>1949</th>\n",
       "      <td>QcMuo</td>\n",
       "      <td>0.506563</td>\n",
       "      <td>-0.323775</td>\n",
       "      <td>-2.215583</td>\n",
       "      <td>75.496502</td>\n",
       "    </tr>\n",
       "    <tr>\n",
       "      <th>75715</th>\n",
       "      <td>Tdehs</td>\n",
       "      <td>0.112079</td>\n",
       "      <td>0.430296</td>\n",
       "      <td>3.218993</td>\n",
       "      <td>60.964018</td>\n",
       "    </tr>\n",
       "    <tr>\n",
       "      <th>21426</th>\n",
       "      <td>Tdehs</td>\n",
       "      <td>0.829407</td>\n",
       "      <td>0.298807</td>\n",
       "      <td>-0.049563</td>\n",
       "      <td>96.035308</td>\n",
       "    </tr>\n",
       "    <tr>\n",
       "      <th>92341</th>\n",
       "      <td>TtcGQ</td>\n",
       "      <td>0.110711</td>\n",
       "      <td>1.022689</td>\n",
       "      <td>0.911381</td>\n",
       "      <td>101.318008</td>\n",
       "    </tr>\n",
       "    <tr>\n",
       "      <th>60140</th>\n",
       "      <td>TtcGQ</td>\n",
       "      <td>0.569276</td>\n",
       "      <td>-0.104876</td>\n",
       "      <td>6.440215</td>\n",
       "      <td>85.350186</td>\n",
       "    </tr>\n",
       "    <tr>\n",
       "      <th>89582</th>\n",
       "      <td>bsk9y</td>\n",
       "      <td>0.398908</td>\n",
       "      <td>-0.400253</td>\n",
       "      <td>10.122376</td>\n",
       "      <td>163.433078</td>\n",
       "    </tr>\n",
       "    <tr>\n",
       "      <th>97785</th>\n",
       "      <td>bsk9y</td>\n",
       "      <td>0.378429</td>\n",
       "      <td>0.005837</td>\n",
       "      <td>0.160827</td>\n",
       "      <td>160.637302</td>\n",
       "    </tr>\n",
       "    <tr>\n",
       "      <th>41724</th>\n",
       "      <td>bxg6G</td>\n",
       "      <td>-0.823752</td>\n",
       "      <td>0.546319</td>\n",
       "      <td>3.630479</td>\n",
       "      <td>93.007798</td>\n",
       "    </tr>\n",
       "    <tr>\n",
       "      <th>1364</th>\n",
       "      <td>bxg6G</td>\n",
       "      <td>0.411645</td>\n",
       "      <td>0.856830</td>\n",
       "      <td>-3.653440</td>\n",
       "      <td>73.604260</td>\n",
       "    </tr>\n",
       "    <tr>\n",
       "      <th>16633</th>\n",
       "      <td>fiKDv</td>\n",
       "      <td>0.157341</td>\n",
       "      <td>1.028359</td>\n",
       "      <td>5.585586</td>\n",
       "      <td>95.817889</td>\n",
       "    </tr>\n",
       "    <tr>\n",
       "      <th>90815</th>\n",
       "      <td>fiKDv</td>\n",
       "      <td>0.049883</td>\n",
       "      <td>0.841313</td>\n",
       "      <td>6.394613</td>\n",
       "      <td>137.346586</td>\n",
       "    </tr>\n",
       "  </tbody>\n",
       "</table>\n",
       "</div>"
      ],
      "text/plain": [
       "          id        f0        f1         f2     product\n",
       "66136  74z30  1.084962 -0.312358   6.990771  127.643327\n",
       "64022  74z30  0.741456  0.459229   5.153109  140.771492\n",
       "51970  A5aEY -0.180335  0.935548  -2.094773   33.020205\n",
       "3389   A5aEY -0.039949  0.156872   0.209861   89.249364\n",
       "69163  AGS9W -0.933795  0.116194  -3.655896   19.230453\n",
       "42529  AGS9W  1.454747 -0.479651   0.683380  126.370504\n",
       "931    HZww2  0.755284  0.368511   1.863211   30.681774\n",
       "7530   HZww2  1.061194 -0.373969  10.430210  158.828695\n",
       "63593  QcMuo  0.635635 -0.473422   0.862670   64.578675\n",
       "1949   QcMuo  0.506563 -0.323775  -2.215583   75.496502\n",
       "75715  Tdehs  0.112079  0.430296   3.218993   60.964018\n",
       "21426  Tdehs  0.829407  0.298807  -0.049563   96.035308\n",
       "92341  TtcGQ  0.110711  1.022689   0.911381  101.318008\n",
       "60140  TtcGQ  0.569276 -0.104876   6.440215   85.350186\n",
       "89582  bsk9y  0.398908 -0.400253  10.122376  163.433078\n",
       "97785  bsk9y  0.378429  0.005837   0.160827  160.637302\n",
       "41724  bxg6G -0.823752  0.546319   3.630479   93.007798\n",
       "1364   bxg6G  0.411645  0.856830  -3.653440   73.604260\n",
       "16633  fiKDv  0.157341  1.028359   5.585586   95.817889\n",
       "90815  fiKDv  0.049883  0.841313   6.394613  137.346586"
      ]
     },
     "execution_count": 7,
     "metadata": {},
     "output_type": "execute_result"
    }
   ],
   "source": [
    "region_1[region_1.duplicated(subset=['id'], keep=False)].sort_values(by='id')"
   ]
  },
  {
   "cell_type": "code",
   "execution_count": 8,
   "metadata": {},
   "outputs": [],
   "source": [
    "region_1 = region_1.drop_duplicates(subset=['id'], keep='last')"
   ]
  },
  {
   "cell_type": "code",
   "execution_count": 9,
   "metadata": {
    "scrolled": true
   },
   "outputs": [
    {
     "data": {
      "text/plain": [
       "0"
      ]
     },
     "execution_count": 9,
     "metadata": {},
     "output_type": "execute_result"
    }
   ],
   "source": [
    "region_1['id'].duplicated().sum()"
   ]
  },
  {
   "cell_type": "markdown",
   "metadata": {},
   "source": [
    "### Регион 2."
   ]
  },
  {
   "cell_type": "code",
   "execution_count": 10,
   "metadata": {},
   "outputs": [
    {
     "data": {
      "text/html": [
       "<div>\n",
       "<style scoped>\n",
       "    .dataframe tbody tr th:only-of-type {\n",
       "        vertical-align: middle;\n",
       "    }\n",
       "\n",
       "    .dataframe tbody tr th {\n",
       "        vertical-align: top;\n",
       "    }\n",
       "\n",
       "    .dataframe thead th {\n",
       "        text-align: right;\n",
       "    }\n",
       "</style>\n",
       "<table border=\"1\" class=\"dataframe\">\n",
       "  <thead>\n",
       "    <tr style=\"text-align: right;\">\n",
       "      <th></th>\n",
       "      <th>id</th>\n",
       "      <th>f0</th>\n",
       "      <th>f1</th>\n",
       "      <th>f2</th>\n",
       "      <th>product</th>\n",
       "    </tr>\n",
       "  </thead>\n",
       "  <tbody>\n",
       "    <tr>\n",
       "      <th>0</th>\n",
       "      <td>kBEdx</td>\n",
       "      <td>-15.001348</td>\n",
       "      <td>-8.276000</td>\n",
       "      <td>-0.005876</td>\n",
       "      <td>3.179103</td>\n",
       "    </tr>\n",
       "    <tr>\n",
       "      <th>1</th>\n",
       "      <td>62mP7</td>\n",
       "      <td>14.272088</td>\n",
       "      <td>-3.475083</td>\n",
       "      <td>0.999183</td>\n",
       "      <td>26.953261</td>\n",
       "    </tr>\n",
       "    <tr>\n",
       "      <th>2</th>\n",
       "      <td>vyE1P</td>\n",
       "      <td>6.263187</td>\n",
       "      <td>-5.948386</td>\n",
       "      <td>5.001160</td>\n",
       "      <td>134.766305</td>\n",
       "    </tr>\n",
       "    <tr>\n",
       "      <th>3</th>\n",
       "      <td>KcrkZ</td>\n",
       "      <td>-13.081196</td>\n",
       "      <td>-11.506057</td>\n",
       "      <td>4.999415</td>\n",
       "      <td>137.945408</td>\n",
       "    </tr>\n",
       "    <tr>\n",
       "      <th>4</th>\n",
       "      <td>AHL4O</td>\n",
       "      <td>12.702195</td>\n",
       "      <td>-8.147433</td>\n",
       "      <td>5.004363</td>\n",
       "      <td>134.766305</td>\n",
       "    </tr>\n",
       "  </tbody>\n",
       "</table>\n",
       "</div>"
      ],
      "text/plain": [
       "      id         f0         f1        f2     product\n",
       "0  kBEdx -15.001348  -8.276000 -0.005876    3.179103\n",
       "1  62mP7  14.272088  -3.475083  0.999183   26.953261\n",
       "2  vyE1P   6.263187  -5.948386  5.001160  134.766305\n",
       "3  KcrkZ -13.081196 -11.506057  4.999415  137.945408\n",
       "4  AHL4O  12.702195  -8.147433  5.004363  134.766305"
      ]
     },
     "execution_count": 10,
     "metadata": {},
     "output_type": "execute_result"
    }
   ],
   "source": [
    "region_2.head()"
   ]
  },
  {
   "cell_type": "code",
   "execution_count": 11,
   "metadata": {
    "scrolled": true
   },
   "outputs": [
    {
     "name": "stdout",
     "output_type": "stream",
     "text": [
      "<class 'pandas.core.frame.DataFrame'>\n",
      "RangeIndex: 100000 entries, 0 to 99999\n",
      "Data columns (total 5 columns):\n",
      " #   Column   Non-Null Count   Dtype  \n",
      "---  ------   --------------   -----  \n",
      " 0   id       100000 non-null  object \n",
      " 1   f0       100000 non-null  float64\n",
      " 2   f1       100000 non-null  float64\n",
      " 3   f2       100000 non-null  float64\n",
      " 4   product  100000 non-null  float64\n",
      "dtypes: float64(4), object(1)\n",
      "memory usage: 3.8+ MB\n"
     ]
    }
   ],
   "source": [
    "region_2.info()"
   ]
  },
  {
   "cell_type": "code",
   "execution_count": 12,
   "metadata": {},
   "outputs": [
    {
     "data": {
      "text/plain": [
       "0"
      ]
     },
     "execution_count": 12,
     "metadata": {},
     "output_type": "execute_result"
    }
   ],
   "source": [
    "region_2.duplicated().sum()"
   ]
  },
  {
   "cell_type": "code",
   "execution_count": 13,
   "metadata": {
    "scrolled": true
   },
   "outputs": [
    {
     "data": {
      "text/plain": [
       "4"
      ]
     },
     "execution_count": 13,
     "metadata": {},
     "output_type": "execute_result"
    }
   ],
   "source": [
    "region_2['id'].duplicated().sum()"
   ]
  },
  {
   "cell_type": "code",
   "execution_count": 14,
   "metadata": {
    "scrolled": true
   },
   "outputs": [
    {
     "data": {
      "text/html": [
       "<div>\n",
       "<style scoped>\n",
       "    .dataframe tbody tr th:only-of-type {\n",
       "        vertical-align: middle;\n",
       "    }\n",
       "\n",
       "    .dataframe tbody tr th {\n",
       "        vertical-align: top;\n",
       "    }\n",
       "\n",
       "    .dataframe thead th {\n",
       "        text-align: right;\n",
       "    }\n",
       "</style>\n",
       "<table border=\"1\" class=\"dataframe\">\n",
       "  <thead>\n",
       "    <tr style=\"text-align: right;\">\n",
       "      <th></th>\n",
       "      <th>id</th>\n",
       "      <th>f0</th>\n",
       "      <th>f1</th>\n",
       "      <th>f2</th>\n",
       "      <th>product</th>\n",
       "    </tr>\n",
       "  </thead>\n",
       "  <tbody>\n",
       "    <tr>\n",
       "      <th>5849</th>\n",
       "      <td>5ltQ6</td>\n",
       "      <td>-3.435401</td>\n",
       "      <td>-12.296043</td>\n",
       "      <td>1.999796</td>\n",
       "      <td>57.085625</td>\n",
       "    </tr>\n",
       "    <tr>\n",
       "      <th>84461</th>\n",
       "      <td>5ltQ6</td>\n",
       "      <td>18.213839</td>\n",
       "      <td>2.191999</td>\n",
       "      <td>3.993869</td>\n",
       "      <td>107.813044</td>\n",
       "    </tr>\n",
       "    <tr>\n",
       "      <th>1305</th>\n",
       "      <td>LHZR0</td>\n",
       "      <td>11.170835</td>\n",
       "      <td>-1.945066</td>\n",
       "      <td>3.002872</td>\n",
       "      <td>80.859783</td>\n",
       "    </tr>\n",
       "    <tr>\n",
       "      <th>41906</th>\n",
       "      <td>LHZR0</td>\n",
       "      <td>-8.989672</td>\n",
       "      <td>-4.286607</td>\n",
       "      <td>2.009139</td>\n",
       "      <td>57.085625</td>\n",
       "    </tr>\n",
       "    <tr>\n",
       "      <th>2721</th>\n",
       "      <td>bfPNe</td>\n",
       "      <td>-9.494442</td>\n",
       "      <td>-5.463692</td>\n",
       "      <td>4.006042</td>\n",
       "      <td>110.992147</td>\n",
       "    </tr>\n",
       "    <tr>\n",
       "      <th>82178</th>\n",
       "      <td>bfPNe</td>\n",
       "      <td>-6.202799</td>\n",
       "      <td>-4.820045</td>\n",
       "      <td>2.995107</td>\n",
       "      <td>84.038886</td>\n",
       "    </tr>\n",
       "    <tr>\n",
       "      <th>47591</th>\n",
       "      <td>wt4Uk</td>\n",
       "      <td>-9.091098</td>\n",
       "      <td>-8.109279</td>\n",
       "      <td>-0.002314</td>\n",
       "      <td>3.179103</td>\n",
       "    </tr>\n",
       "    <tr>\n",
       "      <th>82873</th>\n",
       "      <td>wt4Uk</td>\n",
       "      <td>10.259972</td>\n",
       "      <td>-9.376355</td>\n",
       "      <td>4.994297</td>\n",
       "      <td>134.766305</td>\n",
       "    </tr>\n",
       "  </tbody>\n",
       "</table>\n",
       "</div>"
      ],
      "text/plain": [
       "          id         f0         f1        f2     product\n",
       "5849   5ltQ6  -3.435401 -12.296043  1.999796   57.085625\n",
       "84461  5ltQ6  18.213839   2.191999  3.993869  107.813044\n",
       "1305   LHZR0  11.170835  -1.945066  3.002872   80.859783\n",
       "41906  LHZR0  -8.989672  -4.286607  2.009139   57.085625\n",
       "2721   bfPNe  -9.494442  -5.463692  4.006042  110.992147\n",
       "82178  bfPNe  -6.202799  -4.820045  2.995107   84.038886\n",
       "47591  wt4Uk  -9.091098  -8.109279 -0.002314    3.179103\n",
       "82873  wt4Uk  10.259972  -9.376355  4.994297  134.766305"
      ]
     },
     "execution_count": 14,
     "metadata": {},
     "output_type": "execute_result"
    }
   ],
   "source": [
    "region_2[region_2.duplicated(subset=['id'], keep=False)].sort_values(by='id')"
   ]
  },
  {
   "cell_type": "code",
   "execution_count": 15,
   "metadata": {},
   "outputs": [],
   "source": [
    "region_2 = region_2.drop_duplicates(subset=['id'], keep='last')"
   ]
  },
  {
   "cell_type": "code",
   "execution_count": 16,
   "metadata": {
    "scrolled": true
   },
   "outputs": [
    {
     "data": {
      "text/plain": [
       "0"
      ]
     },
     "execution_count": 16,
     "metadata": {},
     "output_type": "execute_result"
    }
   ],
   "source": [
    "region_2['id'].duplicated().sum()"
   ]
  },
  {
   "cell_type": "markdown",
   "metadata": {},
   "source": [
    "### Регион 3."
   ]
  },
  {
   "cell_type": "code",
   "execution_count": 17,
   "metadata": {},
   "outputs": [
    {
     "data": {
      "text/html": [
       "<div>\n",
       "<style scoped>\n",
       "    .dataframe tbody tr th:only-of-type {\n",
       "        vertical-align: middle;\n",
       "    }\n",
       "\n",
       "    .dataframe tbody tr th {\n",
       "        vertical-align: top;\n",
       "    }\n",
       "\n",
       "    .dataframe thead th {\n",
       "        text-align: right;\n",
       "    }\n",
       "</style>\n",
       "<table border=\"1\" class=\"dataframe\">\n",
       "  <thead>\n",
       "    <tr style=\"text-align: right;\">\n",
       "      <th></th>\n",
       "      <th>id</th>\n",
       "      <th>f0</th>\n",
       "      <th>f1</th>\n",
       "      <th>f2</th>\n",
       "      <th>product</th>\n",
       "    </tr>\n",
       "  </thead>\n",
       "  <tbody>\n",
       "    <tr>\n",
       "      <th>0</th>\n",
       "      <td>fwXo0</td>\n",
       "      <td>-1.146987</td>\n",
       "      <td>0.963328</td>\n",
       "      <td>-0.828965</td>\n",
       "      <td>27.758673</td>\n",
       "    </tr>\n",
       "    <tr>\n",
       "      <th>1</th>\n",
       "      <td>WJtFt</td>\n",
       "      <td>0.262778</td>\n",
       "      <td>0.269839</td>\n",
       "      <td>-2.530187</td>\n",
       "      <td>56.069697</td>\n",
       "    </tr>\n",
       "    <tr>\n",
       "      <th>2</th>\n",
       "      <td>ovLUW</td>\n",
       "      <td>0.194587</td>\n",
       "      <td>0.289035</td>\n",
       "      <td>-5.586433</td>\n",
       "      <td>62.871910</td>\n",
       "    </tr>\n",
       "    <tr>\n",
       "      <th>3</th>\n",
       "      <td>q6cA6</td>\n",
       "      <td>2.236060</td>\n",
       "      <td>-0.553760</td>\n",
       "      <td>0.930038</td>\n",
       "      <td>114.572842</td>\n",
       "    </tr>\n",
       "    <tr>\n",
       "      <th>4</th>\n",
       "      <td>WPMUX</td>\n",
       "      <td>-0.515993</td>\n",
       "      <td>1.716266</td>\n",
       "      <td>5.899011</td>\n",
       "      <td>149.600746</td>\n",
       "    </tr>\n",
       "  </tbody>\n",
       "</table>\n",
       "</div>"
      ],
      "text/plain": [
       "      id        f0        f1        f2     product\n",
       "0  fwXo0 -1.146987  0.963328 -0.828965   27.758673\n",
       "1  WJtFt  0.262778  0.269839 -2.530187   56.069697\n",
       "2  ovLUW  0.194587  0.289035 -5.586433   62.871910\n",
       "3  q6cA6  2.236060 -0.553760  0.930038  114.572842\n",
       "4  WPMUX -0.515993  1.716266  5.899011  149.600746"
      ]
     },
     "execution_count": 17,
     "metadata": {},
     "output_type": "execute_result"
    }
   ],
   "source": [
    "region_3.head()"
   ]
  },
  {
   "cell_type": "code",
   "execution_count": 18,
   "metadata": {},
   "outputs": [
    {
     "name": "stdout",
     "output_type": "stream",
     "text": [
      "<class 'pandas.core.frame.DataFrame'>\n",
      "RangeIndex: 100000 entries, 0 to 99999\n",
      "Data columns (total 5 columns):\n",
      " #   Column   Non-Null Count   Dtype  \n",
      "---  ------   --------------   -----  \n",
      " 0   id       100000 non-null  object \n",
      " 1   f0       100000 non-null  float64\n",
      " 2   f1       100000 non-null  float64\n",
      " 3   f2       100000 non-null  float64\n",
      " 4   product  100000 non-null  float64\n",
      "dtypes: float64(4), object(1)\n",
      "memory usage: 3.8+ MB\n"
     ]
    }
   ],
   "source": [
    "region_3.info()"
   ]
  },
  {
   "cell_type": "code",
   "execution_count": 19,
   "metadata": {},
   "outputs": [
    {
     "data": {
      "text/plain": [
       "0"
      ]
     },
     "execution_count": 19,
     "metadata": {},
     "output_type": "execute_result"
    }
   ],
   "source": [
    "region_3.duplicated().sum()"
   ]
  },
  {
   "cell_type": "code",
   "execution_count": 20,
   "metadata": {},
   "outputs": [
    {
     "data": {
      "text/plain": [
       "4"
      ]
     },
     "execution_count": 20,
     "metadata": {},
     "output_type": "execute_result"
    }
   ],
   "source": [
    "region_3['id'].duplicated().sum()"
   ]
  },
  {
   "cell_type": "code",
   "execution_count": 21,
   "metadata": {
    "scrolled": true
   },
   "outputs": [
    {
     "data": {
      "text/html": [
       "<div>\n",
       "<style scoped>\n",
       "    .dataframe tbody tr th:only-of-type {\n",
       "        vertical-align: middle;\n",
       "    }\n",
       "\n",
       "    .dataframe tbody tr th {\n",
       "        vertical-align: top;\n",
       "    }\n",
       "\n",
       "    .dataframe thead th {\n",
       "        text-align: right;\n",
       "    }\n",
       "</style>\n",
       "<table border=\"1\" class=\"dataframe\">\n",
       "  <thead>\n",
       "    <tr style=\"text-align: right;\">\n",
       "      <th></th>\n",
       "      <th>id</th>\n",
       "      <th>f0</th>\n",
       "      <th>f1</th>\n",
       "      <th>f2</th>\n",
       "      <th>product</th>\n",
       "    </tr>\n",
       "  </thead>\n",
       "  <tbody>\n",
       "    <tr>\n",
       "      <th>45404</th>\n",
       "      <td>KUPhW</td>\n",
       "      <td>0.231846</td>\n",
       "      <td>-1.698941</td>\n",
       "      <td>4.990775</td>\n",
       "      <td>11.716299</td>\n",
       "    </tr>\n",
       "    <tr>\n",
       "      <th>55967</th>\n",
       "      <td>KUPhW</td>\n",
       "      <td>1.211150</td>\n",
       "      <td>3.176408</td>\n",
       "      <td>5.543540</td>\n",
       "      <td>132.831802</td>\n",
       "    </tr>\n",
       "    <tr>\n",
       "      <th>11449</th>\n",
       "      <td>VF7Jo</td>\n",
       "      <td>2.122656</td>\n",
       "      <td>-0.858275</td>\n",
       "      <td>5.746001</td>\n",
       "      <td>181.716817</td>\n",
       "    </tr>\n",
       "    <tr>\n",
       "      <th>49564</th>\n",
       "      <td>VF7Jo</td>\n",
       "      <td>-0.883115</td>\n",
       "      <td>0.560537</td>\n",
       "      <td>0.723601</td>\n",
       "      <td>136.233420</td>\n",
       "    </tr>\n",
       "    <tr>\n",
       "      <th>44378</th>\n",
       "      <td>Vcm5J</td>\n",
       "      <td>-1.229484</td>\n",
       "      <td>-2.439204</td>\n",
       "      <td>1.222909</td>\n",
       "      <td>137.968290</td>\n",
       "    </tr>\n",
       "    <tr>\n",
       "      <th>95090</th>\n",
       "      <td>Vcm5J</td>\n",
       "      <td>2.587702</td>\n",
       "      <td>1.986875</td>\n",
       "      <td>2.482245</td>\n",
       "      <td>92.327572</td>\n",
       "    </tr>\n",
       "    <tr>\n",
       "      <th>28039</th>\n",
       "      <td>xCHr8</td>\n",
       "      <td>1.633027</td>\n",
       "      <td>0.368135</td>\n",
       "      <td>-2.378367</td>\n",
       "      <td>6.120525</td>\n",
       "    </tr>\n",
       "    <tr>\n",
       "      <th>43233</th>\n",
       "      <td>xCHr8</td>\n",
       "      <td>-0.847066</td>\n",
       "      <td>2.101796</td>\n",
       "      <td>5.597130</td>\n",
       "      <td>184.388641</td>\n",
       "    </tr>\n",
       "  </tbody>\n",
       "</table>\n",
       "</div>"
      ],
      "text/plain": [
       "          id        f0        f1        f2     product\n",
       "45404  KUPhW  0.231846 -1.698941  4.990775   11.716299\n",
       "55967  KUPhW  1.211150  3.176408  5.543540  132.831802\n",
       "11449  VF7Jo  2.122656 -0.858275  5.746001  181.716817\n",
       "49564  VF7Jo -0.883115  0.560537  0.723601  136.233420\n",
       "44378  Vcm5J -1.229484 -2.439204  1.222909  137.968290\n",
       "95090  Vcm5J  2.587702  1.986875  2.482245   92.327572\n",
       "28039  xCHr8  1.633027  0.368135 -2.378367    6.120525\n",
       "43233  xCHr8 -0.847066  2.101796  5.597130  184.388641"
      ]
     },
     "execution_count": 21,
     "metadata": {},
     "output_type": "execute_result"
    }
   ],
   "source": [
    "region_3[region_3.duplicated(subset=['id'], keep=False)].sort_values(by='id')"
   ]
  },
  {
   "cell_type": "code",
   "execution_count": 22,
   "metadata": {},
   "outputs": [],
   "source": [
    "region_3 = region_3.drop_duplicates(subset=['id'], keep='last')"
   ]
  },
  {
   "cell_type": "code",
   "execution_count": 23,
   "metadata": {},
   "outputs": [
    {
     "data": {
      "text/plain": [
       "0"
      ]
     },
     "execution_count": 23,
     "metadata": {},
     "output_type": "execute_result"
    }
   ],
   "source": [
    "region_3.duplicated().sum()"
   ]
  },
  {
   "cell_type": "markdown",
   "metadata": {},
   "source": [
    "### Вывод."
   ]
  },
  {
   "cell_type": "markdown",
   "metadata": {},
   "source": [
    "При подготовке данных не было обнаружено явных дубликатов, однако, во всех датасетах в столбце `id` присутствовали повторяющиеся значения. Предположив, что по этим скважинам были сделаны повторные замеры, было принято решение удалить повторы, оставив только последнее значение каждого из дубликатов."
   ]
  },
  {
   "cell_type": "markdown",
   "metadata": {},
   "source": [
    "## Обучение и проверка модели"
   ]
  },
  {
   "cell_type": "code",
   "execution_count": 24,
   "metadata": {},
   "outputs": [],
   "source": [
    "def linear_model(data):\n",
    "    target = data['product']\n",
    "    features = data.drop(['id', 'product'], axis=1)\n",
    "    \n",
    "    features_train, features_valid, target_train, target_valid = train_test_split(features, target,\n",
    "                                                                                  test_size=0.25, random_state=12345)\n",
    "    \n",
    "    model = LinearRegression()\n",
    "    model.fit(features_train, target_train)\n",
    "    \n",
    "    predicted_valid = model.predict(features_valid)\n",
    "    \n",
    "    rmse = mean_squared_error(target_valid, predicted_valid) ** 0.5\n",
    "    \n",
    "    # Средний запас предсказанного сырья\n",
    "    product_mean = predicted_valid.sum() / len(predicted_valid)\n",
    "    \n",
    "    return product_mean, rmse, target_valid ,pd.Series(predicted_valid)"
   ]
  },
  {
   "cell_type": "code",
   "execution_count": 25,
   "metadata": {},
   "outputs": [],
   "source": [
    "product_mean_1, rmse_1, target_valid_1, predicted_valid_1 = linear_model(region_1)\n",
    "product_mean_2, rmse_2, target_valid_2, predicted_valid_2 = linear_model(region_2)\n",
    "product_mean_3, rmse_3, target_valid_3, predicted_valid_3 = linear_model(region_3)"
   ]
  },
  {
   "cell_type": "code",
   "execution_count": 26,
   "metadata": {
    "scrolled": true
   },
   "outputs": [
    {
     "name": "stdout",
     "output_type": "stream",
     "text": [
      "Регион 1. Средний запас сырья: 92.6 , rmse: 37.93\n",
      "Регион 2. Средний запас сырья: 68.53 , rmse: 0.89\n",
      "Регион 3. Средний запас сырья: 94.94 , rmse: 40.19\n"
     ]
    }
   ],
   "source": [
    "print('Регион 1. Средний запас сырья:', round(product_mean_1, 2), ', rmse:', round(rmse_1, 2))\n",
    "print('Регион 2. Средний запас сырья:', round(product_mean_2, 2), ', rmse:', round(rmse_2, 2))\n",
    "print('Регион 3. Средний запас сырья:', round(product_mean_3, 2), ', rmse:', round(rmse_3, 2))"
   ]
  },
  {
   "cell_type": "markdown",
   "metadata": {},
   "source": [
    "### Вывод."
   ]
  },
  {
   "cell_type": "markdown",
   "metadata": {},
   "source": [
    "- Наибольшие средние запасы сырья наблюдаются в регионах 1 и 3, однако значения имеют большой разброс.\n",
    "- В регионе 2 количество запасов меньше, но разброс минимальный."
   ]
  },
  {
   "cell_type": "markdown",
   "metadata": {},
   "source": [
    "## Подготовка к расчёту прибыли"
   ]
  },
  {
   "cell_type": "code",
   "execution_count": 27,
   "metadata": {},
   "outputs": [],
   "source": [
    "REGION_BUDGET = 10 * 10**9\n",
    "PRODUCT_INCOME = 450 * 10**3\n",
    "TOTAL_POINTS = 500\n",
    "SELECTED_POINTS = 200"
   ]
  },
  {
   "cell_type": "markdown",
   "metadata": {},
   "source": [
    "Достаточный объем сырья для безубыточной разработки (тыс. баррелей)."
   ]
  },
  {
   "cell_type": "code",
   "execution_count": 28,
   "metadata": {},
   "outputs": [
    {
     "data": {
      "text/plain": [
       "111.11111111111111"
      ]
     },
     "execution_count": 28,
     "metadata": {},
     "output_type": "execute_result"
    }
   ],
   "source": [
    "min_volume_product = REGION_BUDGET / SELECTED_POINTS / PRODUCT_INCOME\n",
    "min_volume_product"
   ]
  },
  {
   "cell_type": "code",
   "execution_count": 29,
   "metadata": {},
   "outputs": [
    {
     "name": "stdout",
     "output_type": "stream",
     "text": [
      "Регион 1. Отклонение от среднего: -18.52\n",
      "Регион 2. Отклонение от среднего: -42.58\n",
      "Регион 3. Отклонение от среднего: -16.18\n"
     ]
    }
   ],
   "source": [
    "print('Регион 1. Отклонение от среднего:', round(product_mean_1 - min_volume_product, 2))\n",
    "print('Регион 2. Отклонение от среднего:', round(product_mean_2 - min_volume_product, 2))\n",
    "print('Регион 3. Отклонение от среднего:', round(product_mean_3 - min_volume_product, 2))"
   ]
  },
  {
   "cell_type": "markdown",
   "metadata": {},
   "source": [
    "### Вывод."
   ]
  },
  {
   "cell_type": "markdown",
   "metadata": {},
   "source": [
    "- Был рассчитан достаточный объем сырья для безубыточной разработки; он составил `111.111` единиц продукта.\n",
    "- Во всех регионах наблюдается отклонение в меньшую сторону по средним запасам сырья.\n",
    "- Среди всех регионов выделяется регион 2 - он имеет самое большое отклонение: `-42.6` единиц продукта."
   ]
  },
  {
   "cell_type": "markdown",
   "metadata": {},
   "source": [
    "## Расчёт прибыли и рисков "
   ]
  },
  {
   "cell_type": "code",
   "execution_count": 30,
   "metadata": {},
   "outputs": [],
   "source": [
    "# Расчет прибыли\n",
    "def total_revenue(target, predicted):\n",
    "    target = target.reset_index(drop=True)\n",
    "    \n",
    "    pred_sorted = predicted.sort_values(ascending=False)\n",
    "    selected = target[pred_sorted.index][:SELECTED_POINTS]\n",
    "    \n",
    "    return selected.sum() * PRODUCT_INCOME - REGION_BUDGET"
   ]
  },
  {
   "cell_type": "code",
   "execution_count": 31,
   "metadata": {},
   "outputs": [],
   "source": [
    "def bootstrap_revenue(target, predicted):\n",
    "    state = np.random.RandomState(12345)\n",
    "    \n",
    "    bootstrap_samples = 1000\n",
    "    values = []\n",
    "    \n",
    "    for i in range(bootstrap_samples):\n",
    "        subsample = predicted.sample(n=TOTAL_POINTS, replace=True, random_state=state)\n",
    "        \n",
    "        values.append(total_revenue(target, subsample))\n",
    "        \n",
    "    values = pd.Series(values)\n",
    "    \n",
    "    # Средняя прибыль\n",
    "    mean_revenue = values.mean()\n",
    "    \n",
    "    # 95% доверительный интервал\n",
    "    lower = round(values.quantile(0.025), 2)\n",
    "    upper = round(values.quantile(0.975), 2)\n",
    "    \n",
    "    # Вероятность убытка, %\n",
    "    loss_risk = len(values[values < 0]) / len(values) * 100\n",
    "    \n",
    "    return round(mean_revenue, 2), lower, upper, round(loss_risk, 2)"
   ]
  },
  {
   "cell_type": "code",
   "execution_count": 32,
   "metadata": {},
   "outputs": [],
   "source": [
    "mean_revenue_1, lower_1, upper_1, loss_risk_1 = bootstrap_revenue(target_valid_1, predicted_valid_1)\n",
    "mean_revenue_2, lower_2, upper_2, loss_risk_2 = bootstrap_revenue(target_valid_2, predicted_valid_2)\n",
    "mean_revenue_3, lower_3, upper_3, loss_risk_3 = bootstrap_revenue(target_valid_3, predicted_valid_3)"
   ]
  },
  {
   "cell_type": "code",
   "execution_count": 33,
   "metadata": {
    "scrolled": true
   },
   "outputs": [
    {
     "name": "stdout",
     "output_type": "stream",
     "text": [
      "Регион 1. Средняя прибыль лучших месторождений: 399_953_488.86\n",
      "Регион 2. Средняя прибыль лучших месторождений: 441_524_243.74\n",
      "Регион 3. Средняя прибыль лучших месторождений: 303_793_868.29\n"
     ]
    }
   ],
   "source": [
    "print('Регион 1. Средняя прибыль лучших месторождений:', f'{mean_revenue_1:_}')\n",
    "print('Регион 2. Средняя прибыль лучших месторождений:', f'{mean_revenue_2:_}')\n",
    "print('Регион 3. Средняя прибыль лучших месторождений:', f'{mean_revenue_3:_}')"
   ]
  },
  {
   "cell_type": "code",
   "execution_count": 34,
   "metadata": {
    "scrolled": true
   },
   "outputs": [
    {
     "name": "stdout",
     "output_type": "stream",
     "text": [
      "Регион 1. 95% доверительный интервал: (-130_263_689.89, 916_732_138.96)\n",
      "Регион 2. 95% доверительный интервал: (58_209_063.98, 838_801_420.05)\n",
      "Регион 3. 95% доверительный интервал: (-226_395_997.83, 861_077_922.29)\n"
     ]
    }
   ],
   "source": [
    "print('Регион 1. 95% доверительный интервал:', f'({lower_1:_}, {upper_1:_})')\n",
    "print('Регион 2. 95% доверительный интервал:', f'({lower_2:_}, {upper_2:_})')\n",
    "print('Регион 3. 95% доверительный интервал:', f'({lower_3:_}, {upper_3:_})')"
   ]
  },
  {
   "cell_type": "code",
   "execution_count": 35,
   "metadata": {},
   "outputs": [
    {
     "name": "stdout",
     "output_type": "stream",
     "text": [
      "Регион 1. Риск убытков, %: 6.6\n",
      "Регион 2. Риск убытков, %: 1.4\n",
      "Регион 3. Риск убытков, %: 12.3\n"
     ]
    }
   ],
   "source": [
    "print('Регион 1. Риск убытков, %:', loss_risk_1)\n",
    "print('Регион 2. Риск убытков, %:', loss_risk_2)\n",
    "print('Регион 3. Риск убытков, %:', loss_risk_3)"
   ]
  },
  {
   "cell_type": "markdown",
   "metadata": {},
   "source": [
    "## Вывод."
   ]
  },
  {
   "cell_type": "markdown",
   "metadata": {},
   "source": [
    "- Было проведено исследование, целью которого было выяснить, какой из регионов принесет наибольшую прибыль при его разработке. Для этого было проделано следующее:\n",
    "    - Загружены и обработаны данные;\n",
    "    - Произведен расчет достаточного объема сырья для безубыточной разработки;\n",
    "    - Обучена модель линейной регрессии;\n",
    "    - Проведен расчет прибыли на основании 200 лучших месторождений в каждом регионе;\n",
    "    - Определены 95% доверительные интервалы;\n",
    "    - Произведен расчет риска убытков в каждом регионе.\n",
    "- Получили следующие данные:\n",
    "    - Достаточный объем сырья составил `111.111` единиц продукта.\n",
    "    - Во всех регионах средние запасы продукта оказались ниже достаточного объема:\n",
    "        - Регион 1. Отклонение от среднего: `-18.52`\n",
    "        - Регион 2. Отклонение от среднего: `-42.58`\n",
    "        - Регион 3. Отклонение от среднего: `-16.18`\n",
    "    - Применили технику `bootstrap` на 1000 выборок для распределения прибыли и вычислили прибыль для `200` лучших месторождений в каждом регионе:\n",
    "        - Регион 1. Средняя прибыль лучших месторождений: `399_953_488.86`\n",
    "        - Регион 2. Средняя прибыль лучших месторождений: `441_524_243.74`\n",
    "        - Регион 3. Средняя прибыль лучших месторождений: `303_793_868.29`\n",
    "    - 95% доверительные интервалы в каждом регионе:\n",
    "        - Регион 1. 95% доверительный интервал: `(-130_263_689.89, 916_732_138.96)`\n",
    "        - Регион 2. 95% доверительный интервал: `(58_209_063.98, 838_801_420.05)`\n",
    "        - Регион 3. 95% доверительный интервал: `(-226_395_997.83, 861_077_922.29)`\n",
    "    - Значение рисков для каждого региона:\n",
    "        - Регион 1. Риск убытков, %: `6.6`\n",
    "        - Регион 2. Риск убытков, %: `1.4`\n",
    "        - Регион 3. Риск убытков, %: `12.3`\n",
    "- На основании полученных данных рекомендуемым регионом для разработки является `регион 2`. Несмотря на то, что средние запасы сырья имеют наибольшее отклонение от достаточного объема, в этом регионе наибольшая прибыль для 200 лучших месторождений, самые узкие рамки доверительного интервала, самые низкие риски понести убытки."
   ]
  }
 ],
 "metadata": {
  "ExecuteTimeLog": [
   {
    "duration": 1130,
    "start_time": "2023-02-13T17:47:07.065Z"
   },
   {
    "duration": 911,
    "start_time": "2023-02-13T17:49:06.497Z"
   },
   {
    "duration": 16,
    "start_time": "2023-02-13T17:49:17.110Z"
   },
   {
    "duration": 10,
    "start_time": "2023-02-13T17:49:34.660Z"
   },
   {
    "duration": 10,
    "start_time": "2023-02-13T17:49:44.417Z"
   },
   {
    "duration": 121,
    "start_time": "2023-02-13T17:51:36.848Z"
   },
   {
    "duration": 329,
    "start_time": "2023-02-13T17:51:41.700Z"
   },
   {
    "duration": 9,
    "start_time": "2023-02-13T17:51:42.192Z"
   },
   {
    "duration": 19,
    "start_time": "2023-02-13T17:51:44.135Z"
   },
   {
    "duration": 13,
    "start_time": "2023-02-13T17:52:00.381Z"
   },
   {
    "duration": 20,
    "start_time": "2023-02-13T17:52:16.117Z"
   },
   {
    "duration": 43,
    "start_time": "2023-02-13T17:52:46.024Z"
   },
   {
    "duration": 41,
    "start_time": "2023-02-13T17:52:51.866Z"
   },
   {
    "duration": 21,
    "start_time": "2023-02-13T17:53:36.504Z"
   },
   {
    "duration": 19,
    "start_time": "2023-02-13T17:53:45.974Z"
   },
   {
    "duration": 873,
    "start_time": "2023-02-13T17:53:50.283Z"
   },
   {
    "duration": 17,
    "start_time": "2023-02-13T17:54:18.832Z"
   },
   {
    "duration": 11,
    "start_time": "2023-02-13T17:54:23.973Z"
   },
   {
    "duration": 53,
    "start_time": "2023-02-13T17:55:04.294Z"
   },
   {
    "duration": 1259,
    "start_time": "2023-02-21T06:12:25.199Z"
   },
   {
    "duration": 1867,
    "start_time": "2023-02-21T06:12:26.461Z"
   },
   {
    "duration": 18,
    "start_time": "2023-02-21T06:12:28.329Z"
   },
   {
    "duration": 14,
    "start_time": "2023-02-21T06:12:28.348Z"
   },
   {
    "duration": 9,
    "start_time": "2023-02-21T06:12:28.364Z"
   },
   {
    "duration": 65,
    "start_time": "2023-02-21T06:12:28.375Z"
   },
   {
    "duration": 9,
    "start_time": "2023-02-21T06:12:28.441Z"
   },
   {
    "duration": 15,
    "start_time": "2023-02-21T06:12:28.451Z"
   },
   {
    "duration": 147,
    "start_time": "2023-02-21T06:12:28.467Z"
   },
   {
    "duration": 133,
    "start_time": "2023-02-21T06:12:51.146Z"
   },
   {
    "duration": 4,
    "start_time": "2023-02-21T06:13:53.425Z"
   },
   {
    "duration": 1242,
    "start_time": "2023-02-21T06:28:54.972Z"
   },
   {
    "duration": 441,
    "start_time": "2023-02-21T06:28:56.226Z"
   },
   {
    "duration": 26,
    "start_time": "2023-02-21T06:28:56.669Z"
   },
   {
    "duration": 34,
    "start_time": "2023-02-21T06:28:56.702Z"
   },
   {
    "duration": 13,
    "start_time": "2023-02-21T06:28:56.738Z"
   },
   {
    "duration": 21,
    "start_time": "2023-02-21T06:28:56.752Z"
   },
   {
    "duration": 52,
    "start_time": "2023-02-21T06:28:56.775Z"
   },
   {
    "duration": 19,
    "start_time": "2023-02-21T06:28:56.829Z"
   },
   {
    "duration": 144,
    "start_time": "2023-02-21T06:28:56.850Z"
   },
   {
    "duration": 5,
    "start_time": "2023-02-21T06:28:56.996Z"
   },
   {
    "duration": 386,
    "start_time": "2023-02-21T06:30:16.337Z"
   },
   {
    "duration": 6,
    "start_time": "2023-02-21T06:32:09.165Z"
   },
   {
    "duration": 126,
    "start_time": "2023-02-21T06:32:52.406Z"
   },
   {
    "duration": 7,
    "start_time": "2023-02-21T06:34:42.502Z"
   },
   {
    "duration": 77,
    "start_time": "2023-02-21T06:34:51.286Z"
   },
   {
    "duration": 4,
    "start_time": "2023-02-21T06:36:37.783Z"
   },
   {
    "duration": 4,
    "start_time": "2023-02-21T06:36:53.866Z"
   },
   {
    "duration": 5,
    "start_time": "2023-02-21T06:37:29.078Z"
   },
   {
    "duration": 5,
    "start_time": "2023-02-21T06:37:40.220Z"
   },
   {
    "duration": 6,
    "start_time": "2023-02-21T06:38:23.013Z"
   },
   {
    "duration": 9,
    "start_time": "2023-02-21T07:01:54.528Z"
   },
   {
    "duration": 4,
    "start_time": "2023-02-21T07:01:57.962Z"
   },
   {
    "duration": 5,
    "start_time": "2023-02-21T07:01:58.535Z"
   },
   {
    "duration": 3,
    "start_time": "2023-02-21T07:08:33.147Z"
   },
   {
    "duration": 3,
    "start_time": "2023-02-21T07:08:55.264Z"
   },
   {
    "duration": 1098,
    "start_time": "2023-02-21T07:50:40.756Z"
   },
   {
    "duration": 399,
    "start_time": "2023-02-21T07:50:41.856Z"
   },
   {
    "duration": 16,
    "start_time": "2023-02-21T07:50:42.257Z"
   },
   {
    "duration": 27,
    "start_time": "2023-02-21T07:50:42.275Z"
   },
   {
    "duration": 24,
    "start_time": "2023-02-21T07:50:42.304Z"
   },
   {
    "duration": 32,
    "start_time": "2023-02-21T07:50:42.329Z"
   },
   {
    "duration": 8,
    "start_time": "2023-02-21T07:50:42.363Z"
   },
   {
    "duration": 15,
    "start_time": "2023-02-21T07:50:42.373Z"
   },
   {
    "duration": 128,
    "start_time": "2023-02-21T07:50:42.390Z"
   },
   {
    "duration": 5,
    "start_time": "2023-02-21T07:50:42.520Z"
   },
   {
    "duration": 368,
    "start_time": "2023-02-21T07:50:42.527Z"
   },
   {
    "duration": 5,
    "start_time": "2023-02-21T07:50:42.897Z"
   },
   {
    "duration": 190,
    "start_time": "2023-02-21T07:50:42.903Z"
   },
   {
    "duration": 10,
    "start_time": "2023-02-21T07:50:43.095Z"
   },
   {
    "duration": 22,
    "start_time": "2023-02-21T07:50:43.106Z"
   },
   {
    "duration": 7,
    "start_time": "2023-02-21T07:50:43.130Z"
   },
   {
    "duration": 101,
    "start_time": "2023-02-21T07:52:04.172Z"
   },
   {
    "duration": 5,
    "start_time": "2023-02-21T07:52:46.436Z"
   },
   {
    "duration": 12,
    "start_time": "2023-02-21T07:52:50.792Z"
   },
   {
    "duration": 4,
    "start_time": "2023-02-21T07:53:56.401Z"
   },
   {
    "duration": 7,
    "start_time": "2023-02-21T07:53:57.237Z"
   },
   {
    "duration": 5,
    "start_time": "2023-02-21T07:55:11.329Z"
   },
   {
    "duration": 264,
    "start_time": "2023-02-21T07:55:14.839Z"
   },
   {
    "duration": 3,
    "start_time": "2023-02-21T07:55:26.656Z"
   },
   {
    "duration": 7,
    "start_time": "2023-02-21T07:55:27.373Z"
   },
   {
    "duration": 14,
    "start_time": "2023-02-21T07:55:52.462Z"
   },
   {
    "duration": 3,
    "start_time": "2023-02-21T07:57:18.084Z"
   },
   {
    "duration": 20,
    "start_time": "2023-02-21T07:57:19.292Z"
   },
   {
    "duration": 4,
    "start_time": "2023-02-21T07:57:35.909Z"
   },
   {
    "duration": 14,
    "start_time": "2023-02-21T07:57:36.544Z"
   },
   {
    "duration": 4,
    "start_time": "2023-02-21T07:58:09.960Z"
   },
   {
    "duration": 18,
    "start_time": "2023-02-21T07:58:11.194Z"
   },
   {
    "duration": 3,
    "start_time": "2023-02-21T07:58:42.107Z"
   },
   {
    "duration": 13,
    "start_time": "2023-02-21T07:58:42.524Z"
   },
   {
    "duration": 1059,
    "start_time": "2023-02-22T06:57:29.176Z"
   },
   {
    "duration": 1012,
    "start_time": "2023-02-22T06:57:30.238Z"
   },
   {
    "duration": 18,
    "start_time": "2023-02-22T06:57:31.252Z"
   },
   {
    "duration": 18,
    "start_time": "2023-02-22T06:57:31.272Z"
   },
   {
    "duration": 12,
    "start_time": "2023-02-22T06:57:31.292Z"
   },
   {
    "duration": 30,
    "start_time": "2023-02-22T06:57:31.306Z"
   },
   {
    "duration": 21,
    "start_time": "2023-02-22T06:57:31.337Z"
   },
   {
    "duration": 19,
    "start_time": "2023-02-22T06:57:31.360Z"
   },
   {
    "duration": 136,
    "start_time": "2023-02-22T06:57:31.381Z"
   },
   {
    "duration": 4,
    "start_time": "2023-02-22T06:57:31.520Z"
   },
   {
    "duration": 313,
    "start_time": "2023-02-22T06:57:31.526Z"
   },
   {
    "duration": 5,
    "start_time": "2023-02-22T06:57:31.841Z"
   },
   {
    "duration": 101,
    "start_time": "2023-02-22T06:57:31.927Z"
   },
   {
    "duration": 8,
    "start_time": "2023-02-22T06:57:32.030Z"
   },
   {
    "duration": 12,
    "start_time": "2023-02-22T06:57:32.040Z"
   },
   {
    "duration": 20,
    "start_time": "2023-02-22T06:57:32.054Z"
   },
   {
    "duration": 57,
    "start_time": "2023-02-22T06:57:32.076Z"
   },
   {
    "duration": 6,
    "start_time": "2023-02-22T07:13:02.228Z"
   },
   {
    "duration": 5,
    "start_time": "2023-02-22T07:43:35.696Z"
   },
   {
    "duration": 96,
    "start_time": "2023-02-22T07:43:37.351Z"
   },
   {
    "duration": 3,
    "start_time": "2023-02-22T07:43:53.159Z"
   },
   {
    "duration": 12,
    "start_time": "2023-02-22T07:44:01.039Z"
   },
   {
    "duration": 4,
    "start_time": "2023-02-22T07:44:02.959Z"
   },
   {
    "duration": 4,
    "start_time": "2023-02-22T07:44:09.024Z"
   },
   {
    "duration": 14,
    "start_time": "2023-02-22T07:44:09.641Z"
   },
   {
    "duration": 5,
    "start_time": "2023-02-22T07:44:11.402Z"
   },
   {
    "duration": 1261,
    "start_time": "2023-02-22T07:44:13.820Z"
   },
   {
    "duration": 3,
    "start_time": "2023-02-22T07:44:55.298Z"
   },
   {
    "duration": 4,
    "start_time": "2023-02-22T07:45:46.428Z"
   },
   {
    "duration": 3,
    "start_time": "2023-02-22T07:46:47.188Z"
   },
   {
    "duration": 3,
    "start_time": "2023-02-22T07:48:04.651Z"
   },
   {
    "duration": 4,
    "start_time": "2023-02-22T07:48:38.796Z"
   },
   {
    "duration": 1251,
    "start_time": "2023-02-22T07:48:39.636Z"
   },
   {
    "duration": 4,
    "start_time": "2023-02-22T07:48:42.058Z"
   },
   {
    "duration": 3,
    "start_time": "2023-02-22T07:48:43.031Z"
   },
   {
    "duration": 6,
    "start_time": "2023-02-22T07:49:20.276Z"
   },
   {
    "duration": 3,
    "start_time": "2023-02-22T07:50:31.543Z"
   },
   {
    "duration": 4,
    "start_time": "2023-02-22T07:51:01.604Z"
   },
   {
    "duration": 1057,
    "start_time": "2023-02-22T07:56:56.164Z"
   },
   {
    "duration": 345,
    "start_time": "2023-02-22T07:56:57.223Z"
   },
   {
    "duration": 16,
    "start_time": "2023-02-22T07:56:57.572Z"
   },
   {
    "duration": 15,
    "start_time": "2023-02-22T07:56:57.589Z"
   },
   {
    "duration": 23,
    "start_time": "2023-02-22T07:56:57.606Z"
   },
   {
    "duration": 17,
    "start_time": "2023-02-22T07:56:57.630Z"
   },
   {
    "duration": 10,
    "start_time": "2023-02-22T07:56:57.648Z"
   },
   {
    "duration": 21,
    "start_time": "2023-02-22T07:56:57.659Z"
   },
   {
    "duration": 143,
    "start_time": "2023-02-22T07:56:57.682Z"
   },
   {
    "duration": 4,
    "start_time": "2023-02-22T07:56:57.826Z"
   },
   {
    "duration": 304,
    "start_time": "2023-02-22T07:56:57.832Z"
   },
   {
    "duration": 6,
    "start_time": "2023-02-22T07:56:58.227Z"
   },
   {
    "duration": 101,
    "start_time": "2023-02-22T07:56:58.235Z"
   },
   {
    "duration": 7,
    "start_time": "2023-02-22T07:56:58.337Z"
   },
   {
    "duration": 8,
    "start_time": "2023-02-22T07:56:58.346Z"
   },
   {
    "duration": 5,
    "start_time": "2023-02-22T07:56:58.356Z"
   },
   {
    "duration": 3,
    "start_time": "2023-02-22T07:56:58.363Z"
   },
   {
    "duration": 6,
    "start_time": "2023-02-22T07:56:58.368Z"
   },
   {
    "duration": 1171,
    "start_time": "2023-02-22T07:56:58.375Z"
   },
   {
    "duration": 4,
    "start_time": "2023-02-22T07:56:59.548Z"
   },
   {
    "duration": 12,
    "start_time": "2023-02-22T07:56:59.553Z"
   },
   {
    "duration": 6,
    "start_time": "2023-02-22T07:56:59.566Z"
   },
   {
    "duration": 6,
    "start_time": "2023-02-22T07:57:36.476Z"
   },
   {
    "duration": 3,
    "start_time": "2023-02-22T08:00:19.615Z"
   },
   {
    "duration": 4,
    "start_time": "2023-02-22T08:00:21.002Z"
   },
   {
    "duration": 99,
    "start_time": "2023-02-22T08:00:24.123Z"
   },
   {
    "duration": 5,
    "start_time": "2023-02-22T08:00:55.627Z"
   },
   {
    "duration": 9,
    "start_time": "2023-02-22T08:00:56.817Z"
   },
   {
    "duration": 20,
    "start_time": "2023-02-22T08:01:23.739Z"
   },
   {
    "duration": 3,
    "start_time": "2023-02-22T08:01:35.271Z"
   },
   {
    "duration": 5,
    "start_time": "2023-02-22T08:01:36.427Z"
   },
   {
    "duration": 2546,
    "start_time": "2023-02-22T08:01:37.804Z"
   },
   {
    "duration": 3,
    "start_time": "2023-02-22T08:01:43.456Z"
   },
   {
    "duration": 4,
    "start_time": "2023-02-22T08:01:46.147Z"
   },
   {
    "duration": 3,
    "start_time": "2023-02-22T08:01:52.571Z"
   },
   {
    "duration": 4,
    "start_time": "2023-02-22T08:03:17.573Z"
   },
   {
    "duration": 4,
    "start_time": "2023-02-22T08:07:22.506Z"
   },
   {
    "duration": 3,
    "start_time": "2023-02-22T08:07:30.922Z"
   },
   {
    "duration": 3,
    "start_time": "2023-02-22T08:07:41.776Z"
   },
   {
    "duration": 4,
    "start_time": "2023-02-22T08:08:02.627Z"
   },
   {
    "duration": 5,
    "start_time": "2023-02-22T08:08:32.380Z"
   },
   {
    "duration": 5,
    "start_time": "2023-02-22T08:09:16.977Z"
   },
   {
    "duration": 3,
    "start_time": "2023-02-22T08:10:26.184Z"
   },
   {
    "duration": 8,
    "start_time": "2023-02-22T08:10:53.903Z"
   },
   {
    "duration": 5,
    "start_time": "2023-02-22T08:11:03.919Z"
   },
   {
    "duration": 4,
    "start_time": "2023-02-22T08:11:26.401Z"
   },
   {
    "duration": 9,
    "start_time": "2023-02-22T08:12:26.693Z"
   },
   {
    "duration": 3,
    "start_time": "2023-02-22T08:12:39.355Z"
   },
   {
    "duration": 9,
    "start_time": "2023-02-22T08:12:42.685Z"
   },
   {
    "duration": 75,
    "start_time": "2023-02-22T08:12:53.047Z"
   },
   {
    "duration": 2,
    "start_time": "2023-02-22T08:12:57.209Z"
   },
   {
    "duration": 9,
    "start_time": "2023-02-22T08:13:01.293Z"
   },
   {
    "duration": 4,
    "start_time": "2023-02-22T08:13:11.875Z"
   },
   {
    "duration": 1083,
    "start_time": "2023-02-22T08:13:32.331Z"
   },
   {
    "duration": 345,
    "start_time": "2023-02-22T08:13:33.416Z"
   },
   {
    "duration": 16,
    "start_time": "2023-02-22T08:13:33.762Z"
   },
   {
    "duration": 15,
    "start_time": "2023-02-22T08:13:33.780Z"
   },
   {
    "duration": 10,
    "start_time": "2023-02-22T08:13:33.797Z"
   },
   {
    "duration": 34,
    "start_time": "2023-02-22T08:13:33.808Z"
   },
   {
    "duration": 9,
    "start_time": "2023-02-22T08:13:33.843Z"
   },
   {
    "duration": 14,
    "start_time": "2023-02-22T08:13:33.854Z"
   },
   {
    "duration": 144,
    "start_time": "2023-02-22T08:13:33.870Z"
   },
   {
    "duration": 4,
    "start_time": "2023-02-22T08:13:34.016Z"
   },
   {
    "duration": 401,
    "start_time": "2023-02-22T08:13:34.026Z"
   },
   {
    "duration": 6,
    "start_time": "2023-02-22T08:13:34.429Z"
   },
   {
    "duration": 91,
    "start_time": "2023-02-22T08:13:34.437Z"
   },
   {
    "duration": 5,
    "start_time": "2023-02-22T08:13:34.531Z"
   },
   {
    "duration": 6,
    "start_time": "2023-02-22T08:13:34.538Z"
   },
   {
    "duration": 5,
    "start_time": "2023-02-22T08:13:34.545Z"
   },
   {
    "duration": 9,
    "start_time": "2023-02-22T08:13:34.552Z"
   },
   {
    "duration": 2514,
    "start_time": "2023-02-22T08:13:34.562Z"
   },
   {
    "duration": 5,
    "start_time": "2023-02-22T08:13:37.077Z"
   },
   {
    "duration": 12,
    "start_time": "2023-02-22T08:13:37.083Z"
   },
   {
    "duration": 8,
    "start_time": "2023-02-22T08:13:37.096Z"
   },
   {
    "duration": 62,
    "start_time": "2023-02-22T08:15:59.926Z"
   },
   {
    "duration": 48,
    "start_time": "2023-02-22T08:16:05.612Z"
   },
   {
    "duration": 18,
    "start_time": "2023-02-22T08:16:25.579Z"
   },
   {
    "duration": 14,
    "start_time": "2023-02-22T08:18:44.711Z"
   },
   {
    "duration": 18,
    "start_time": "2023-02-22T08:18:55.513Z"
   },
   {
    "duration": 18,
    "start_time": "2023-02-22T08:20:49.007Z"
   },
   {
    "duration": 17,
    "start_time": "2023-02-22T08:21:05.888Z"
   },
   {
    "duration": 108,
    "start_time": "2023-02-22T08:21:32.663Z"
   },
   {
    "duration": 17,
    "start_time": "2023-02-22T08:21:44.475Z"
   },
   {
    "duration": 17,
    "start_time": "2023-02-22T08:22:00.562Z"
   },
   {
    "duration": 21,
    "start_time": "2023-02-22T08:22:29.901Z"
   },
   {
    "duration": 26,
    "start_time": "2023-02-22T08:22:36.299Z"
   },
   {
    "duration": 22,
    "start_time": "2023-02-22T08:23:10.572Z"
   },
   {
    "duration": 24,
    "start_time": "2023-02-22T08:23:30.670Z"
   },
   {
    "duration": 19,
    "start_time": "2023-02-22T08:24:19.168Z"
   },
   {
    "duration": 17,
    "start_time": "2023-02-22T08:25:01.668Z"
   },
   {
    "duration": 17,
    "start_time": "2023-02-22T08:25:10.141Z"
   },
   {
    "duration": 77,
    "start_time": "2023-02-22T08:25:32.190Z"
   },
   {
    "duration": 57,
    "start_time": "2023-02-22T08:25:44.168Z"
   },
   {
    "duration": 116,
    "start_time": "2023-02-22T08:26:30.665Z"
   },
   {
    "duration": 66,
    "start_time": "2023-02-22T08:26:38.687Z"
   },
   {
    "duration": 368,
    "start_time": "2023-02-22T08:27:01.064Z"
   },
   {
    "duration": 17,
    "start_time": "2023-02-22T08:27:37.625Z"
   },
   {
    "duration": 14,
    "start_time": "2023-02-22T08:27:48.311Z"
   },
   {
    "duration": 18,
    "start_time": "2023-02-22T08:28:08.774Z"
   },
   {
    "duration": 16,
    "start_time": "2023-02-22T08:28:21.767Z"
   },
   {
    "duration": 17,
    "start_time": "2023-02-22T08:28:40.633Z"
   },
   {
    "duration": 15,
    "start_time": "2023-02-22T08:29:02.573Z"
   },
   {
    "duration": 13,
    "start_time": "2023-02-22T08:29:32.033Z"
   },
   {
    "duration": 12,
    "start_time": "2023-02-22T08:29:44.042Z"
   },
   {
    "duration": 10,
    "start_time": "2023-02-22T08:29:54.714Z"
   },
   {
    "duration": 10,
    "start_time": "2023-02-22T08:30:25.578Z"
   },
   {
    "duration": 18,
    "start_time": "2023-02-22T08:31:14.250Z"
   },
   {
    "duration": 16,
    "start_time": "2023-02-22T08:32:58.654Z"
   },
   {
    "duration": 14,
    "start_time": "2023-02-22T08:33:30.182Z"
   },
   {
    "duration": 12,
    "start_time": "2023-02-22T08:33:36.518Z"
   },
   {
    "duration": 14,
    "start_time": "2023-02-22T08:34:06.021Z"
   },
   {
    "duration": 85,
    "start_time": "2023-02-22T08:35:48.022Z"
   },
   {
    "duration": 13,
    "start_time": "2023-02-22T08:35:59.650Z"
   },
   {
    "duration": 15,
    "start_time": "2023-02-22T08:36:04.183Z"
   },
   {
    "duration": 17,
    "start_time": "2023-02-22T08:36:12.198Z"
   },
   {
    "duration": 15,
    "start_time": "2023-02-22T08:37:37.141Z"
   },
   {
    "duration": 14,
    "start_time": "2023-02-22T08:37:48.333Z"
   },
   {
    "duration": 15,
    "start_time": "2023-02-22T08:38:08.148Z"
   },
   {
    "duration": 51,
    "start_time": "2023-02-22T08:38:33.701Z"
   },
   {
    "duration": 76,
    "start_time": "2023-02-22T08:38:46.480Z"
   },
   {
    "duration": 3,
    "start_time": "2023-02-22T08:40:20.285Z"
   },
   {
    "duration": 77,
    "start_time": "2023-02-22T08:40:30.940Z"
   },
   {
    "duration": 91,
    "start_time": "2023-02-22T08:41:17.085Z"
   },
   {
    "duration": 14,
    "start_time": "2023-02-22T08:42:05.132Z"
   },
   {
    "duration": 27,
    "start_time": "2023-02-22T08:44:53.223Z"
   },
   {
    "duration": 15,
    "start_time": "2023-02-22T08:45:17.287Z"
   },
   {
    "duration": 41,
    "start_time": "2023-02-22T08:47:39.372Z"
   },
   {
    "duration": 18,
    "start_time": "2023-02-22T08:48:02.207Z"
   },
   {
    "duration": 26,
    "start_time": "2023-02-22T08:48:35.623Z"
   },
   {
    "duration": 34,
    "start_time": "2023-02-22T08:48:40.430Z"
   },
   {
    "duration": 46,
    "start_time": "2023-02-22T08:48:48.898Z"
   },
   {
    "duration": 3,
    "start_time": "2023-02-22T08:49:40.526Z"
   },
   {
    "duration": 14,
    "start_time": "2023-02-22T08:49:55.690Z"
   },
   {
    "duration": 43,
    "start_time": "2023-02-22T08:50:11.478Z"
   },
   {
    "duration": 26,
    "start_time": "2023-02-22T08:51:03.647Z"
   },
   {
    "duration": 16,
    "start_time": "2023-02-22T08:51:21.480Z"
   },
   {
    "duration": 51,
    "start_time": "2023-02-22T08:52:01.404Z"
   },
   {
    "duration": 18,
    "start_time": "2023-02-22T08:52:17.363Z"
   },
   {
    "duration": 42,
    "start_time": "2023-02-22T08:52:35.384Z"
   },
   {
    "duration": 31,
    "start_time": "2023-02-22T08:53:32.461Z"
   },
   {
    "duration": 48,
    "start_time": "2023-02-22T08:53:55.871Z"
   },
   {
    "duration": 1057,
    "start_time": "2023-02-22T08:54:31.857Z"
   },
   {
    "duration": 369,
    "start_time": "2023-02-22T08:54:32.916Z"
   },
   {
    "duration": 3,
    "start_time": "2023-02-22T08:54:33.286Z"
   },
   {
    "duration": 23,
    "start_time": "2023-02-22T08:54:33.291Z"
   },
   {
    "duration": 21,
    "start_time": "2023-02-22T08:54:33.315Z"
   },
   {
    "duration": 64,
    "start_time": "2023-02-22T08:54:33.337Z"
   },
   {
    "duration": 25,
    "start_time": "2023-02-22T08:54:33.403Z"
   },
   {
    "duration": 97,
    "start_time": "2023-02-22T08:54:33.430Z"
   },
   {
    "duration": 25,
    "start_time": "2023-02-22T08:54:33.528Z"
   },
   {
    "duration": 18,
    "start_time": "2023-02-22T08:54:33.556Z"
   },
   {
    "duration": 19,
    "start_time": "2023-02-22T08:54:33.576Z"
   },
   {
    "duration": 30,
    "start_time": "2023-02-22T08:54:33.597Z"
   },
   {
    "duration": 46,
    "start_time": "2023-02-22T08:54:33.629Z"
   },
   {
    "duration": 19,
    "start_time": "2023-02-22T08:54:33.677Z"
   },
   {
    "duration": 66,
    "start_time": "2023-02-22T08:54:33.697Z"
   },
   {
    "duration": 28,
    "start_time": "2023-02-22T08:54:33.764Z"
   },
   {
    "duration": 15,
    "start_time": "2023-02-22T08:54:33.794Z"
   },
   {
    "duration": 9,
    "start_time": "2023-02-22T08:54:33.828Z"
   },
   {
    "duration": 17,
    "start_time": "2023-02-22T08:54:33.839Z"
   },
   {
    "duration": 54,
    "start_time": "2023-02-22T08:54:33.857Z"
   },
   {
    "duration": 19,
    "start_time": "2023-02-22T08:54:33.927Z"
   },
   {
    "duration": 43,
    "start_time": "2023-02-22T08:54:33.947Z"
   },
   {
    "duration": 45,
    "start_time": "2023-02-22T08:54:33.992Z"
   },
   {
    "duration": 56,
    "start_time": "2023-02-22T08:54:34.039Z"
   },
   {
    "duration": 5,
    "start_time": "2023-02-22T08:54:34.096Z"
   },
   {
    "duration": 428,
    "start_time": "2023-02-22T08:54:34.103Z"
   },
   {
    "duration": 6,
    "start_time": "2023-02-22T08:54:34.533Z"
   },
   {
    "duration": 90,
    "start_time": "2023-02-22T08:54:34.640Z"
   },
   {
    "duration": 7,
    "start_time": "2023-02-22T08:54:34.732Z"
   },
   {
    "duration": 9,
    "start_time": "2023-02-22T08:54:34.740Z"
   },
   {
    "duration": 5,
    "start_time": "2023-02-22T08:54:34.751Z"
   },
   {
    "duration": 9,
    "start_time": "2023-02-22T08:54:34.758Z"
   },
   {
    "duration": 2543,
    "start_time": "2023-02-22T08:54:34.768Z"
   },
   {
    "duration": 4,
    "start_time": "2023-02-22T08:54:37.312Z"
   },
   {
    "duration": 11,
    "start_time": "2023-02-22T08:54:37.318Z"
   },
   {
    "duration": 6,
    "start_time": "2023-02-22T08:54:37.330Z"
   },
   {
    "duration": 5,
    "start_time": "2023-02-22T08:55:23.337Z"
   },
   {
    "duration": 4,
    "start_time": "2023-02-22T08:55:26.937Z"
   },
   {
    "duration": 1201,
    "start_time": "2023-02-22T08:55:35.926Z"
   },
   {
    "duration": 378,
    "start_time": "2023-02-22T08:55:37.129Z"
   },
   {
    "duration": 3,
    "start_time": "2023-02-22T08:55:37.508Z"
   },
   {
    "duration": 19,
    "start_time": "2023-02-22T08:55:37.514Z"
   },
   {
    "duration": 16,
    "start_time": "2023-02-22T08:55:37.535Z"
   },
   {
    "duration": 48,
    "start_time": "2023-02-22T08:55:37.552Z"
   },
   {
    "duration": 36,
    "start_time": "2023-02-22T08:55:37.602Z"
   },
   {
    "duration": 104,
    "start_time": "2023-02-22T08:55:37.640Z"
   },
   {
    "duration": 24,
    "start_time": "2023-02-22T08:55:37.746Z"
   },
   {
    "duration": 14,
    "start_time": "2023-02-22T08:55:37.773Z"
   },
   {
    "duration": 11,
    "start_time": "2023-02-22T08:55:37.789Z"
   },
   {
    "duration": 35,
    "start_time": "2023-02-22T08:55:37.801Z"
   },
   {
    "duration": 43,
    "start_time": "2023-02-22T08:55:37.838Z"
   },
   {
    "duration": 18,
    "start_time": "2023-02-22T08:55:37.882Z"
   },
   {
    "duration": 67,
    "start_time": "2023-02-22T08:55:37.902Z"
   },
   {
    "duration": 27,
    "start_time": "2023-02-22T08:55:37.971Z"
   },
   {
    "duration": 28,
    "start_time": "2023-02-22T08:55:38.000Z"
   },
   {
    "duration": 9,
    "start_time": "2023-02-22T08:55:38.029Z"
   },
   {
    "duration": 21,
    "start_time": "2023-02-22T08:55:38.039Z"
   },
   {
    "duration": 50,
    "start_time": "2023-02-22T08:55:38.062Z"
   },
   {
    "duration": 17,
    "start_time": "2023-02-22T08:55:38.128Z"
   },
   {
    "duration": 49,
    "start_time": "2023-02-22T08:55:38.147Z"
   },
   {
    "duration": 44,
    "start_time": "2023-02-22T08:55:38.198Z"
   },
   {
    "duration": 49,
    "start_time": "2023-02-22T08:55:38.244Z"
   },
   {
    "duration": 5,
    "start_time": "2023-02-22T08:55:38.295Z"
   },
   {
    "duration": 315,
    "start_time": "2023-02-22T08:55:38.326Z"
   },
   {
    "duration": 86,
    "start_time": "2023-02-22T08:55:38.642Z"
   },
   {
    "duration": 105,
    "start_time": "2023-02-22T08:55:38.732Z"
   },
   {
    "duration": 26,
    "start_time": "2023-02-22T08:55:38.838Z"
   },
   {
    "duration": 9,
    "start_time": "2023-02-22T08:55:38.866Z"
   },
   {
    "duration": 14,
    "start_time": "2023-02-22T08:55:38.876Z"
   },
   {
    "duration": 13,
    "start_time": "2023-02-22T08:55:38.891Z"
   },
   {
    "duration": 2629,
    "start_time": "2023-02-22T08:55:38.906Z"
   },
   {
    "duration": 3,
    "start_time": "2023-02-22T08:55:41.537Z"
   },
   {
    "duration": 12,
    "start_time": "2023-02-22T08:55:41.542Z"
   },
   {
    "duration": 4,
    "start_time": "2023-02-22T08:55:41.556Z"
   },
   {
    "duration": 3,
    "start_time": "2023-02-22T08:57:46.948Z"
   },
   {
    "duration": 4,
    "start_time": "2023-02-22T08:57:47.600Z"
   },
   {
    "duration": 5029,
    "start_time": "2023-02-22T08:57:49.928Z"
   },
   {
    "duration": 3,
    "start_time": "2023-02-22T08:58:11.640Z"
   },
   {
    "duration": 4,
    "start_time": "2023-02-22T08:58:12.042Z"
   },
   {
    "duration": 2463,
    "start_time": "2023-02-22T08:58:13.570Z"
   },
   {
    "duration": 1085,
    "start_time": "2023-02-22T08:58:25.454Z"
   },
   {
    "duration": 367,
    "start_time": "2023-02-22T08:58:26.540Z"
   },
   {
    "duration": 4,
    "start_time": "2023-02-22T08:58:26.909Z"
   },
   {
    "duration": 21,
    "start_time": "2023-02-22T08:58:26.915Z"
   },
   {
    "duration": 16,
    "start_time": "2023-02-22T08:58:26.939Z"
   },
   {
    "duration": 45,
    "start_time": "2023-02-22T08:58:26.958Z"
   },
   {
    "duration": 38,
    "start_time": "2023-02-22T08:58:27.004Z"
   },
   {
    "duration": 100,
    "start_time": "2023-02-22T08:58:27.043Z"
   },
   {
    "duration": 24,
    "start_time": "2023-02-22T08:58:27.145Z"
   },
   {
    "duration": 14,
    "start_time": "2023-02-22T08:58:27.171Z"
   },
   {
    "duration": 9,
    "start_time": "2023-02-22T08:58:27.187Z"
   },
   {
    "duration": 36,
    "start_time": "2023-02-22T08:58:27.198Z"
   },
   {
    "duration": 46,
    "start_time": "2023-02-22T08:58:27.235Z"
   },
   {
    "duration": 17,
    "start_time": "2023-02-22T08:58:27.282Z"
   },
   {
    "duration": 66,
    "start_time": "2023-02-22T08:58:27.300Z"
   },
   {
    "duration": 29,
    "start_time": "2023-02-22T08:58:27.367Z"
   },
   {
    "duration": 30,
    "start_time": "2023-02-22T08:58:27.398Z"
   },
   {
    "duration": 10,
    "start_time": "2023-02-22T08:58:27.429Z"
   },
   {
    "duration": 14,
    "start_time": "2023-02-22T08:58:27.440Z"
   },
   {
    "duration": 50,
    "start_time": "2023-02-22T08:58:27.456Z"
   },
   {
    "duration": 18,
    "start_time": "2023-02-22T08:58:27.528Z"
   },
   {
    "duration": 47,
    "start_time": "2023-02-22T08:58:27.547Z"
   },
   {
    "duration": 46,
    "start_time": "2023-02-22T08:58:27.596Z"
   },
   {
    "duration": 49,
    "start_time": "2023-02-22T08:58:27.644Z"
   },
   {
    "duration": 5,
    "start_time": "2023-02-22T08:58:27.695Z"
   },
   {
    "duration": 328,
    "start_time": "2023-02-22T08:58:27.702Z"
   },
   {
    "duration": 6,
    "start_time": "2023-02-22T08:58:28.031Z"
   },
   {
    "duration": 105,
    "start_time": "2023-02-22T08:58:28.130Z"
   },
   {
    "duration": 7,
    "start_time": "2023-02-22T08:58:28.237Z"
   },
   {
    "duration": 7,
    "start_time": "2023-02-22T08:58:28.245Z"
   },
   {
    "duration": 5,
    "start_time": "2023-02-22T08:58:28.254Z"
   },
   {
    "duration": 5,
    "start_time": "2023-02-22T08:58:28.260Z"
   },
   {
    "duration": 2585,
    "start_time": "2023-02-22T08:58:28.267Z"
   },
   {
    "duration": 4,
    "start_time": "2023-02-22T08:58:30.854Z"
   },
   {
    "duration": 21,
    "start_time": "2023-02-22T08:58:30.860Z"
   },
   {
    "duration": 19,
    "start_time": "2023-02-22T08:58:30.883Z"
   },
   {
    "duration": 5,
    "start_time": "2023-02-22T08:58:49.675Z"
   },
   {
    "duration": 2562,
    "start_time": "2023-02-22T08:58:50.128Z"
   },
   {
    "duration": 5,
    "start_time": "2023-02-22T08:58:52.692Z"
   },
   {
    "duration": 12,
    "start_time": "2023-02-22T08:58:52.699Z"
   },
   {
    "duration": 19,
    "start_time": "2023-02-22T09:11:01.562Z"
   },
   {
    "duration": 27,
    "start_time": "2023-02-22T09:11:30.199Z"
   },
   {
    "duration": 1034,
    "start_time": "2023-02-22T09:11:46.582Z"
   },
   {
    "duration": 361,
    "start_time": "2023-02-22T09:11:47.619Z"
   },
   {
    "duration": 3,
    "start_time": "2023-02-22T09:11:47.982Z"
   },
   {
    "duration": 19,
    "start_time": "2023-02-22T09:11:47.986Z"
   },
   {
    "duration": 27,
    "start_time": "2023-02-22T09:11:48.007Z"
   },
   {
    "duration": 51,
    "start_time": "2023-02-22T09:11:48.036Z"
   },
   {
    "duration": 40,
    "start_time": "2023-02-22T09:11:48.089Z"
   },
   {
    "duration": 37,
    "start_time": "2023-02-22T09:11:48.131Z"
   },
   {
    "duration": 112,
    "start_time": "2023-02-22T09:11:48.170Z"
   },
   {
    "duration": 0,
    "start_time": "2023-02-22T09:11:48.285Z"
   },
   {
    "duration": 0,
    "start_time": "2023-02-22T09:11:48.286Z"
   },
   {
    "duration": 0,
    "start_time": "2023-02-22T09:11:48.288Z"
   },
   {
    "duration": 0,
    "start_time": "2023-02-22T09:11:48.290Z"
   },
   {
    "duration": 0,
    "start_time": "2023-02-22T09:11:48.291Z"
   },
   {
    "duration": 0,
    "start_time": "2023-02-22T09:11:48.292Z"
   },
   {
    "duration": 0,
    "start_time": "2023-02-22T09:11:48.294Z"
   },
   {
    "duration": 0,
    "start_time": "2023-02-22T09:11:48.295Z"
   },
   {
    "duration": 0,
    "start_time": "2023-02-22T09:11:48.296Z"
   },
   {
    "duration": 0,
    "start_time": "2023-02-22T09:11:48.297Z"
   },
   {
    "duration": 0,
    "start_time": "2023-02-22T09:11:48.298Z"
   },
   {
    "duration": 0,
    "start_time": "2023-02-22T09:11:48.327Z"
   },
   {
    "duration": 0,
    "start_time": "2023-02-22T09:11:48.328Z"
   },
   {
    "duration": 0,
    "start_time": "2023-02-22T09:11:48.329Z"
   },
   {
    "duration": 0,
    "start_time": "2023-02-22T09:11:48.330Z"
   },
   {
    "duration": 0,
    "start_time": "2023-02-22T09:11:48.332Z"
   },
   {
    "duration": 0,
    "start_time": "2023-02-22T09:11:48.333Z"
   },
   {
    "duration": 0,
    "start_time": "2023-02-22T09:11:48.334Z"
   },
   {
    "duration": 0,
    "start_time": "2023-02-22T09:11:48.335Z"
   },
   {
    "duration": 0,
    "start_time": "2023-02-22T09:11:48.337Z"
   },
   {
    "duration": 0,
    "start_time": "2023-02-22T09:11:48.338Z"
   },
   {
    "duration": 0,
    "start_time": "2023-02-22T09:11:48.339Z"
   },
   {
    "duration": 0,
    "start_time": "2023-02-22T09:11:48.340Z"
   },
   {
    "duration": 0,
    "start_time": "2023-02-22T09:11:48.341Z"
   },
   {
    "duration": 0,
    "start_time": "2023-02-22T09:11:48.342Z"
   },
   {
    "duration": 0,
    "start_time": "2023-02-22T09:11:48.344Z"
   },
   {
    "duration": 0,
    "start_time": "2023-02-22T09:11:48.345Z"
   },
   {
    "duration": 0,
    "start_time": "2023-02-22T09:11:48.346Z"
   },
   {
    "duration": 31,
    "start_time": "2023-02-22T09:12:11.171Z"
   },
   {
    "duration": 34,
    "start_time": "2023-02-22T09:12:20.736Z"
   },
   {
    "duration": 1091,
    "start_time": "2023-02-22T09:13:27.420Z"
   },
   {
    "duration": 381,
    "start_time": "2023-02-22T09:13:28.514Z"
   },
   {
    "duration": 19,
    "start_time": "2023-02-22T09:13:28.897Z"
   },
   {
    "duration": 30,
    "start_time": "2023-02-22T09:13:28.927Z"
   },
   {
    "duration": 43,
    "start_time": "2023-02-22T09:13:28.959Z"
   },
   {
    "duration": 26,
    "start_time": "2023-02-22T09:13:29.003Z"
   },
   {
    "duration": 34,
    "start_time": "2023-02-22T09:13:29.031Z"
   },
   {
    "duration": 25,
    "start_time": "2023-02-22T09:13:29.067Z"
   },
   {
    "duration": 33,
    "start_time": "2023-02-22T09:13:29.094Z"
   },
   {
    "duration": 10,
    "start_time": "2023-02-22T09:13:29.131Z"
   },
   {
    "duration": 19,
    "start_time": "2023-02-22T09:13:29.143Z"
   },
   {
    "duration": 65,
    "start_time": "2023-02-22T09:13:29.163Z"
   },
   {
    "duration": 19,
    "start_time": "2023-02-22T09:13:29.230Z"
   },
   {
    "duration": 33,
    "start_time": "2023-02-22T09:13:29.251Z"
   },
   {
    "duration": 59,
    "start_time": "2023-02-22T09:13:29.287Z"
   },
   {
    "duration": 23,
    "start_time": "2023-02-22T09:13:29.348Z"
   },
   {
    "duration": 30,
    "start_time": "2023-02-22T09:13:29.373Z"
   },
   {
    "duration": 15,
    "start_time": "2023-02-22T09:13:29.405Z"
   },
   {
    "duration": 55,
    "start_time": "2023-02-22T09:13:29.421Z"
   },
   {
    "duration": 23,
    "start_time": "2023-02-22T09:13:29.477Z"
   },
   {
    "duration": 48,
    "start_time": "2023-02-22T09:13:29.501Z"
   },
   {
    "duration": 24,
    "start_time": "2023-02-22T09:13:29.551Z"
   },
   {
    "duration": 67,
    "start_time": "2023-02-22T09:13:29.577Z"
   },
   {
    "duration": 4,
    "start_time": "2023-02-22T09:13:29.646Z"
   },
   {
    "duration": 284,
    "start_time": "2023-02-22T09:13:29.652Z"
   },
   {
    "duration": 91,
    "start_time": "2023-02-22T09:13:29.938Z"
   },
   {
    "duration": 4,
    "start_time": "2023-02-22T09:13:30.035Z"
   },
   {
    "duration": 19,
    "start_time": "2023-02-22T09:13:30.128Z"
   },
   {
    "duration": 8,
    "start_time": "2023-02-22T09:13:30.149Z"
   },
   {
    "duration": 9,
    "start_time": "2023-02-22T09:13:30.159Z"
   },
   {
    "duration": 23,
    "start_time": "2023-02-22T09:13:30.169Z"
   },
   {
    "duration": 2768,
    "start_time": "2023-02-22T09:13:30.194Z"
   },
   {
    "duration": 5,
    "start_time": "2023-02-22T09:13:32.963Z"
   },
   {
    "duration": 21,
    "start_time": "2023-02-22T09:13:32.970Z"
   },
   {
    "duration": 11,
    "start_time": "2023-02-22T09:13:32.993Z"
   },
   {
    "duration": 4,
    "start_time": "2023-02-22T09:48:46.168Z"
   },
   {
    "duration": 4,
    "start_time": "2023-02-22T09:59:44.982Z"
   },
   {
    "duration": 1125,
    "start_time": "2023-02-22T10:00:07.801Z"
   },
   {
    "duration": 351,
    "start_time": "2023-02-22T10:00:08.928Z"
   },
   {
    "duration": 15,
    "start_time": "2023-02-22T10:00:09.281Z"
   },
   {
    "duration": 14,
    "start_time": "2023-02-22T10:00:09.298Z"
   },
   {
    "duration": 64,
    "start_time": "2023-02-22T10:00:09.313Z"
   },
   {
    "duration": 20,
    "start_time": "2023-02-22T10:00:09.379Z"
   },
   {
    "duration": 51,
    "start_time": "2023-02-22T10:00:09.401Z"
   },
   {
    "duration": 25,
    "start_time": "2023-02-22T10:00:09.454Z"
   },
   {
    "duration": 15,
    "start_time": "2023-02-22T10:00:09.481Z"
   },
   {
    "duration": 34,
    "start_time": "2023-02-22T10:00:09.499Z"
   },
   {
    "duration": 20,
    "start_time": "2023-02-22T10:00:09.535Z"
   },
   {
    "duration": 46,
    "start_time": "2023-02-22T10:00:09.556Z"
   },
   {
    "duration": 35,
    "start_time": "2023-02-22T10:00:09.604Z"
   },
   {
    "duration": 36,
    "start_time": "2023-02-22T10:00:09.640Z"
   },
   {
    "duration": 24,
    "start_time": "2023-02-22T10:00:09.678Z"
   },
   {
    "duration": 31,
    "start_time": "2023-02-22T10:00:09.703Z"
   },
   {
    "duration": 12,
    "start_time": "2023-02-22T10:00:09.736Z"
   },
   {
    "duration": 16,
    "start_time": "2023-02-22T10:00:09.750Z"
   },
   {
    "duration": 71,
    "start_time": "2023-02-22T10:00:09.768Z"
   },
   {
    "duration": 18,
    "start_time": "2023-02-22T10:00:09.841Z"
   },
   {
    "duration": 31,
    "start_time": "2023-02-22T10:00:09.861Z"
   },
   {
    "duration": 52,
    "start_time": "2023-02-22T10:00:09.894Z"
   },
   {
    "duration": 50,
    "start_time": "2023-02-22T10:00:09.948Z"
   },
   {
    "duration": 4,
    "start_time": "2023-02-22T10:00:10.000Z"
   },
   {
    "duration": 329,
    "start_time": "2023-02-22T10:00:10.005Z"
   },
   {
    "duration": 91,
    "start_time": "2023-02-22T10:00:10.336Z"
   },
   {
    "duration": 102,
    "start_time": "2023-02-22T10:00:10.429Z"
   },
   {
    "duration": 13,
    "start_time": "2023-02-22T10:00:10.534Z"
   },
   {
    "duration": 9,
    "start_time": "2023-02-22T10:00:10.549Z"
   },
   {
    "duration": 9,
    "start_time": "2023-02-22T10:00:10.560Z"
   },
   {
    "duration": 8,
    "start_time": "2023-02-22T10:00:10.571Z"
   },
   {
    "duration": 2503,
    "start_time": "2023-02-22T10:00:10.581Z"
   },
   {
    "duration": 4,
    "start_time": "2023-02-22T10:00:13.086Z"
   },
   {
    "duration": 16,
    "start_time": "2023-02-22T10:00:13.092Z"
   },
   {
    "duration": 11,
    "start_time": "2023-02-22T10:00:13.110Z"
   },
   {
    "duration": 5,
    "start_time": "2023-02-22T10:08:57.334Z"
   },
   {
    "duration": 1132,
    "start_time": "2023-02-22T10:23:05.507Z"
   },
   {
    "duration": 356,
    "start_time": "2023-02-22T10:23:06.641Z"
   },
   {
    "duration": 17,
    "start_time": "2023-02-22T10:23:06.999Z"
   },
   {
    "duration": 19,
    "start_time": "2023-02-22T10:23:07.019Z"
   },
   {
    "duration": 45,
    "start_time": "2023-02-22T10:23:07.040Z"
   },
   {
    "duration": 16,
    "start_time": "2023-02-22T10:23:07.087Z"
   },
   {
    "duration": 53,
    "start_time": "2023-02-22T10:23:07.105Z"
   },
   {
    "duration": 25,
    "start_time": "2023-02-22T10:23:07.160Z"
   },
   {
    "duration": 16,
    "start_time": "2023-02-22T10:23:07.187Z"
   },
   {
    "duration": 10,
    "start_time": "2023-02-22T10:23:07.227Z"
   },
   {
    "duration": 16,
    "start_time": "2023-02-22T10:23:07.239Z"
   },
   {
    "duration": 70,
    "start_time": "2023-02-22T10:23:07.258Z"
   },
   {
    "duration": 22,
    "start_time": "2023-02-22T10:23:07.330Z"
   },
   {
    "duration": 39,
    "start_time": "2023-02-22T10:23:07.354Z"
   },
   {
    "duration": 45,
    "start_time": "2023-02-22T10:23:07.395Z"
   },
   {
    "duration": 15,
    "start_time": "2023-02-22T10:23:07.442Z"
   },
   {
    "duration": 12,
    "start_time": "2023-02-22T10:23:07.459Z"
   },
   {
    "duration": 14,
    "start_time": "2023-02-22T10:23:07.472Z"
   },
   {
    "duration": 74,
    "start_time": "2023-02-22T10:23:07.488Z"
   },
   {
    "duration": 17,
    "start_time": "2023-02-22T10:23:07.564Z"
   },
   {
    "duration": 44,
    "start_time": "2023-02-22T10:23:07.583Z"
   },
   {
    "duration": 26,
    "start_time": "2023-02-22T10:23:07.629Z"
   },
   {
    "duration": 53,
    "start_time": "2023-02-22T10:23:07.656Z"
   },
   {
    "duration": 5,
    "start_time": "2023-02-22T10:23:07.727Z"
   },
   {
    "duration": 397,
    "start_time": "2023-02-22T10:23:07.734Z"
   },
   {
    "duration": 6,
    "start_time": "2023-02-22T10:23:08.133Z"
   },
   {
    "duration": 87,
    "start_time": "2023-02-22T10:23:08.141Z"
   },
   {
    "duration": 10,
    "start_time": "2023-02-22T10:23:08.232Z"
   },
   {
    "duration": 8,
    "start_time": "2023-02-22T10:23:08.328Z"
   },
   {
    "duration": 10,
    "start_time": "2023-02-22T10:23:08.338Z"
   },
   {
    "duration": 6,
    "start_time": "2023-02-22T10:23:08.350Z"
   },
   {
    "duration": 2654,
    "start_time": "2023-02-22T10:23:08.359Z"
   },
   {
    "duration": 4,
    "start_time": "2023-02-22T10:23:11.015Z"
   },
   {
    "duration": 22,
    "start_time": "2023-02-22T10:23:11.027Z"
   },
   {
    "duration": 9,
    "start_time": "2023-02-22T10:23:11.051Z"
   },
   {
    "duration": 1845,
    "start_time": "2023-02-22T22:57:53.438Z"
   },
   {
    "duration": 1731,
    "start_time": "2023-02-22T22:57:55.285Z"
   },
   {
    "duration": 20,
    "start_time": "2023-02-22T22:57:57.018Z"
   },
   {
    "duration": 55,
    "start_time": "2023-02-22T22:57:57.040Z"
   },
   {
    "duration": 63,
    "start_time": "2023-02-22T22:57:57.099Z"
   },
   {
    "duration": 25,
    "start_time": "2023-02-22T22:57:57.165Z"
   },
   {
    "duration": 34,
    "start_time": "2023-02-22T22:57:57.192Z"
   },
   {
    "duration": 45,
    "start_time": "2023-02-22T22:57:57.227Z"
   },
   {
    "duration": 22,
    "start_time": "2023-02-22T22:57:57.275Z"
   },
   {
    "duration": 10,
    "start_time": "2023-02-22T22:57:57.299Z"
   },
   {
    "duration": 36,
    "start_time": "2023-02-22T22:57:57.311Z"
   },
   {
    "duration": 60,
    "start_time": "2023-02-22T22:57:57.349Z"
   },
   {
    "duration": 18,
    "start_time": "2023-02-22T22:57:57.411Z"
   },
   {
    "duration": 47,
    "start_time": "2023-02-22T22:57:57.460Z"
   },
   {
    "duration": 24,
    "start_time": "2023-02-22T22:57:57.509Z"
   },
   {
    "duration": 39,
    "start_time": "2023-02-22T22:57:57.535Z"
   },
   {
    "duration": 14,
    "start_time": "2023-02-22T22:57:57.577Z"
   },
   {
    "duration": 17,
    "start_time": "2023-02-22T22:57:57.593Z"
   },
   {
    "duration": 89,
    "start_time": "2023-02-22T22:57:57.611Z"
   },
   {
    "duration": 17,
    "start_time": "2023-02-22T22:57:57.702Z"
   },
   {
    "duration": 66,
    "start_time": "2023-02-22T22:57:57.720Z"
   },
   {
    "duration": 28,
    "start_time": "2023-02-22T22:57:57.788Z"
   },
   {
    "duration": 76,
    "start_time": "2023-02-22T22:57:57.818Z"
   },
   {
    "duration": 4,
    "start_time": "2023-02-22T22:57:57.896Z"
   },
   {
    "duration": 350,
    "start_time": "2023-02-22T22:57:57.902Z"
   },
   {
    "duration": 10,
    "start_time": "2023-02-22T22:57:58.265Z"
   },
   {
    "duration": 102,
    "start_time": "2023-02-22T22:57:58.278Z"
   },
   {
    "duration": 6,
    "start_time": "2023-02-22T22:57:58.382Z"
   },
   {
    "duration": 10,
    "start_time": "2023-02-22T22:57:58.390Z"
   },
   {
    "duration": 6,
    "start_time": "2023-02-22T22:57:58.402Z"
   },
   {
    "duration": 6,
    "start_time": "2023-02-22T22:57:58.410Z"
   },
   {
    "duration": 3177,
    "start_time": "2023-02-22T22:57:58.417Z"
   },
   {
    "duration": 4,
    "start_time": "2023-02-22T22:58:01.596Z"
   },
   {
    "duration": 34,
    "start_time": "2023-02-22T22:58:01.602Z"
   },
   {
    "duration": 62,
    "start_time": "2023-02-22T22:58:01.637Z"
   },
   {
    "duration": 6,
    "start_time": "2023-02-22T23:04:37.337Z"
   },
   {
    "duration": 6,
    "start_time": "2023-02-22T23:06:07.873Z"
   },
   {
    "duration": 115,
    "start_time": "2023-02-22T23:07:19.771Z"
   },
   {
    "duration": 7,
    "start_time": "2023-02-22T23:07:23.573Z"
   },
   {
    "duration": 6,
    "start_time": "2023-02-22T23:07:45.963Z"
   },
   {
    "duration": 8,
    "start_time": "2023-02-22T23:08:01.867Z"
   },
   {
    "duration": 8,
    "start_time": "2023-02-22T23:08:10.424Z"
   },
   {
    "duration": 7,
    "start_time": "2023-02-22T23:08:12.362Z"
   },
   {
    "duration": 7,
    "start_time": "2023-02-22T23:08:18.412Z"
   },
   {
    "duration": 9,
    "start_time": "2023-02-22T23:08:58.781Z"
   },
   {
    "duration": 856,
    "start_time": "2023-02-22T23:09:05.810Z"
   },
   {
    "duration": 692,
    "start_time": "2023-02-22T23:10:03.383Z"
   }
  ],
  "kernelspec": {
   "display_name": "Python 3 (ipykernel)",
   "language": "python",
   "name": "python3"
  },
  "language_info": {
   "codemirror_mode": {
    "name": "ipython",
    "version": 3
   },
   "file_extension": ".py",
   "mimetype": "text/x-python",
   "name": "python",
   "nbconvert_exporter": "python",
   "pygments_lexer": "ipython3",
   "version": "3.9.13"
  },
  "toc": {
   "base_numbering": 1,
   "nav_menu": {},
   "number_sections": true,
   "sideBar": true,
   "skip_h1_title": true,
   "title_cell": "Table of Contents",
   "title_sidebar": "Contents",
   "toc_cell": false,
   "toc_position": {},
   "toc_section_display": true,
   "toc_window_display": false
  }
 },
 "nbformat": 4,
 "nbformat_minor": 2
}
