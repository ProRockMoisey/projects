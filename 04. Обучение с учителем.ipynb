{
 "cells": [
  {
   "cell_type": "markdown",
   "metadata": {
    "toc": true
   },
   "source": [
    "<h1>Содержание<span class=\"tocSkip\"></span></h1>\n",
    "<div class=\"toc\"><ul class=\"toc-item\"><li><span><a href=\"#Подготовка-данных\" data-toc-modified-id=\"Подготовка-данных-1\"><span class=\"toc-item-num\">1&nbsp;&nbsp;</span>Подготовка данных</a></span><ul class=\"toc-item\"><li><span><a href=\"#Вывод.\" data-toc-modified-id=\"Вывод.-1.1\"><span class=\"toc-item-num\">1.1&nbsp;&nbsp;</span>Вывод.</a></span></li><li><span><a href=\"#Приводим-наименования-колонок-к-нижнему-регистру.\" data-toc-modified-id=\"Приводим-наименования-колонок-к-нижнему-регистру.-1.2\"><span class=\"toc-item-num\">1.2&nbsp;&nbsp;</span>Приводим наименования колонок к нижнему регистру.</a></span></li><li><span><a href=\"#Обрабатываем-пропуски-в-данных.\" data-toc-modified-id=\"Обрабатываем-пропуски-в-данных.-1.3\"><span class=\"toc-item-num\">1.3&nbsp;&nbsp;</span>Обрабатываем пропуски в данных.</a></span></li><li><span><a href=\"#Проверяем-данные-на-наличие-дубликатов.\" data-toc-modified-id=\"Проверяем-данные-на-наличие-дубликатов.-1.4\"><span class=\"toc-item-num\">1.4&nbsp;&nbsp;</span>Проверяем данные на наличие дубликатов.</a></span></li><li><span><a href=\"#Преобразуем-категориальные-переменные-в-признаки.\" data-toc-modified-id=\"Преобразуем-категориальные-переменные-в-признаки.-1.5\"><span class=\"toc-item-num\">1.5&nbsp;&nbsp;</span>Преобразуем категориальные переменные в признаки.</a></span></li><li><span><a href=\"#Разбиваем-данные.\" data-toc-modified-id=\"Разбиваем-данные.-1.6\"><span class=\"toc-item-num\">1.6&nbsp;&nbsp;</span>Разбиваем данные.</a></span></li><li><span><a href=\"#Масштабируем-численные-признаки.\" data-toc-modified-id=\"Масштабируем-численные-признаки.-1.7\"><span class=\"toc-item-num\">1.7&nbsp;&nbsp;</span>Масштабируем численные признаки.</a></span></li><li><span><a href=\"#Вывод.\" data-toc-modified-id=\"Вывод.-1.8\"><span class=\"toc-item-num\">1.8&nbsp;&nbsp;</span>Вывод.</a></span></li></ul></li><li><span><a href=\"#Исследование-задачи\" data-toc-modified-id=\"Исследование-задачи-2\"><span class=\"toc-item-num\">2&nbsp;&nbsp;</span>Исследование задачи</a></span><ul class=\"toc-item\"><li><span><a href=\"#Дерево.\" data-toc-modified-id=\"Дерево.-2.1\"><span class=\"toc-item-num\">2.1&nbsp;&nbsp;</span>Дерево.</a></span></li><li><span><a href=\"#Случайный-лес.\" data-toc-modified-id=\"Случайный-лес.-2.2\"><span class=\"toc-item-num\">2.2&nbsp;&nbsp;</span>Случайный лес.</a></span></li><li><span><a href=\"#Логистическая-регрессия.\" data-toc-modified-id=\"Логистическая-регрессия.-2.3\"><span class=\"toc-item-num\">2.3&nbsp;&nbsp;</span>Логистическая регрессия.</a></span></li><li><span><a href=\"#Вывод.\" data-toc-modified-id=\"Вывод.-2.4\"><span class=\"toc-item-num\">2.4&nbsp;&nbsp;</span>Вывод.</a></span></li></ul></li><li><span><a href=\"#Борьба-с-дисбалансом\" data-toc-modified-id=\"Борьба-с-дисбалансом-3\"><span class=\"toc-item-num\">3&nbsp;&nbsp;</span>Борьба с дисбалансом</a></span><ul class=\"toc-item\"><li><span><a href=\"#Class-weight.\" data-toc-modified-id=\"Class-weight.-3.1\"><span class=\"toc-item-num\">3.1&nbsp;&nbsp;</span>Class weight.</a></span><ul class=\"toc-item\"><li><span><a href=\"#Дерево.\" data-toc-modified-id=\"Дерево.-3.1.1\"><span class=\"toc-item-num\">3.1.1&nbsp;&nbsp;</span>Дерево.</a></span></li><li><span><a href=\"#Случайный-лес.\" data-toc-modified-id=\"Случайный-лес.-3.1.2\"><span class=\"toc-item-num\">3.1.2&nbsp;&nbsp;</span>Случайный лес.</a></span></li><li><span><a href=\"#Логистическая-регрессия.\" data-toc-modified-id=\"Логистическая-регрессия.-3.1.3\"><span class=\"toc-item-num\">3.1.3&nbsp;&nbsp;</span>Логистическая регрессия.</a></span></li></ul></li><li><span><a href=\"#Upsampling.\" data-toc-modified-id=\"Upsampling.-3.2\"><span class=\"toc-item-num\">3.2&nbsp;&nbsp;</span>Upsampling.</a></span><ul class=\"toc-item\"><li><span><a href=\"#Дерево.\" data-toc-modified-id=\"Дерево.-3.2.1\"><span class=\"toc-item-num\">3.2.1&nbsp;&nbsp;</span>Дерево.</a></span></li><li><span><a href=\"#Случайный-лес.\" data-toc-modified-id=\"Случайный-лес.-3.2.2\"><span class=\"toc-item-num\">3.2.2&nbsp;&nbsp;</span>Случайный лес.</a></span></li><li><span><a href=\"#Логистическая-регрессия.\" data-toc-modified-id=\"Логистическая-регрессия.-3.2.3\"><span class=\"toc-item-num\">3.2.3&nbsp;&nbsp;</span>Логистическая регрессия.</a></span></li></ul></li><li><span><a href=\"#Downsampling.\" data-toc-modified-id=\"Downsampling.-3.3\"><span class=\"toc-item-num\">3.3&nbsp;&nbsp;</span>Downsampling.</a></span><ul class=\"toc-item\"><li><span><a href=\"#Дерево.\" data-toc-modified-id=\"Дерево.-3.3.1\"><span class=\"toc-item-num\">3.3.1&nbsp;&nbsp;</span>Дерево.</a></span></li><li><span><a href=\"#Случайный-лес.\" data-toc-modified-id=\"Случайный-лес.-3.3.2\"><span class=\"toc-item-num\">3.3.2&nbsp;&nbsp;</span>Случайный лес.</a></span></li><li><span><a href=\"#Логистическая-регрессия.\" data-toc-modified-id=\"Логистическая-регрессия.-3.3.3\"><span class=\"toc-item-num\">3.3.3&nbsp;&nbsp;</span>Логистическая регрессия.</a></span></li></ul></li><li><span><a href=\"#Вывод.\" data-toc-modified-id=\"Вывод.-3.4\"><span class=\"toc-item-num\">3.4&nbsp;&nbsp;</span>Вывод.</a></span></li></ul></li><li><span><a href=\"#Тестирование-модели\" data-toc-modified-id=\"Тестирование-модели-4\"><span class=\"toc-item-num\">4&nbsp;&nbsp;</span>Тестирование модели</a></span><ul class=\"toc-item\"><li><span><a href=\"#Проверка-на-тестовых-данных.\" data-toc-modified-id=\"Проверка-на-тестовых-данных.-4.1\"><span class=\"toc-item-num\">4.1&nbsp;&nbsp;</span>Проверка на тестовых данных.</a></span></li><li><span><a href=\"#Проверка-на-адекватность.\" data-toc-modified-id=\"Проверка-на-адекватность.-4.2\"><span class=\"toc-item-num\">4.2&nbsp;&nbsp;</span>Проверка на адекватность.</a></span></li><li><span><a href=\"#Вывод.\" data-toc-modified-id=\"Вывод.-4.3\"><span class=\"toc-item-num\">4.3&nbsp;&nbsp;</span>Вывод.</a></span></li></ul></li><li><span><a href=\"#Чек-лист-готовности-проекта\" data-toc-modified-id=\"Чек-лист-готовности-проекта-5\"><span class=\"toc-item-num\">5&nbsp;&nbsp;</span>Чек-лист готовности проекта</a></span></li></ul></div>"
   ]
  },
  {
   "cell_type": "markdown",
   "metadata": {},
   "source": [
    "# Отток клиентов"
   ]
  },
  {
   "cell_type": "markdown",
   "metadata": {},
   "source": [
    "Из «Бета-Банка» стали уходить клиенты. Каждый месяц. Немного, но заметно. Банковские маркетологи посчитали: сохранять текущих клиентов дешевле, чем привлекать новых.\n",
    "\n",
    "Нужно спрогнозировать, уйдёт клиент из банка в ближайшее время или нет. Вам предоставлены исторические данные о поведении клиентов и расторжении договоров с банком. \n",
    "\n",
    "Постройте модель с предельно большим значением *F1*-меры. Чтобы сдать проект успешно, нужно довести метрику до 0.59. Проверьте *F1*-меру на тестовой выборке самостоятельно.\n",
    "\n",
    "Дополнительно измеряйте *AUC-ROC*, сравнивайте её значение с *F1*-мерой.\n",
    "\n",
    "Источник данных: [https://www.kaggle.com/barelydedicated/bank-customer-churn-modeling](https://www.kaggle.com/barelydedicated/bank-customer-churn-modeling)"
   ]
  },
  {
   "cell_type": "markdown",
   "metadata": {},
   "source": [
    "## Подготовка данных"
   ]
  },
  {
   "cell_type": "code",
   "execution_count": 1,
   "metadata": {},
   "outputs": [],
   "source": [
    "import pandas as pd\n",
    "import numpy as np\n",
    "import warnings\n",
    "from sklearn.model_selection import train_test_split\n",
    "from sklearn.preprocessing import StandardScaler\n",
    "from sklearn.tree import DecisionTreeClassifier\n",
    "from sklearn.ensemble import RandomForestClassifier\n",
    "from sklearn.linear_model import LogisticRegression\n",
    "from sklearn.utils import shuffle\n",
    "from sklearn.metrics import (\n",
    "    f1_score,\n",
    "    accuracy_score,\n",
    "    roc_auc_score,\n",
    "    recall_score\n",
    ")"
   ]
  },
  {
   "cell_type": "code",
   "execution_count": 2,
   "metadata": {},
   "outputs": [],
   "source": [
    "warnings.filterwarnings('ignore')"
   ]
  },
  {
   "cell_type": "code",
   "execution_count": 3,
   "metadata": {},
   "outputs": [],
   "source": [
    "random_state = 12345"
   ]
  },
  {
   "cell_type": "code",
   "execution_count": 4,
   "metadata": {
    "scrolled": true
   },
   "outputs": [
    {
     "data": {
      "text/html": [
       "<div>\n",
       "<style scoped>\n",
       "    .dataframe tbody tr th:only-of-type {\n",
       "        vertical-align: middle;\n",
       "    }\n",
       "\n",
       "    .dataframe tbody tr th {\n",
       "        vertical-align: top;\n",
       "    }\n",
       "\n",
       "    .dataframe thead th {\n",
       "        text-align: right;\n",
       "    }\n",
       "</style>\n",
       "<table border=\"1\" class=\"dataframe\">\n",
       "  <thead>\n",
       "    <tr style=\"text-align: right;\">\n",
       "      <th></th>\n",
       "      <th>RowNumber</th>\n",
       "      <th>CustomerId</th>\n",
       "      <th>Surname</th>\n",
       "      <th>CreditScore</th>\n",
       "      <th>Geography</th>\n",
       "      <th>Gender</th>\n",
       "      <th>Age</th>\n",
       "      <th>Tenure</th>\n",
       "      <th>Balance</th>\n",
       "      <th>NumOfProducts</th>\n",
       "      <th>HasCrCard</th>\n",
       "      <th>IsActiveMember</th>\n",
       "      <th>EstimatedSalary</th>\n",
       "      <th>Exited</th>\n",
       "    </tr>\n",
       "  </thead>\n",
       "  <tbody>\n",
       "    <tr>\n",
       "      <th>0</th>\n",
       "      <td>1</td>\n",
       "      <td>15634602</td>\n",
       "      <td>Hargrave</td>\n",
       "      <td>619</td>\n",
       "      <td>France</td>\n",
       "      <td>Female</td>\n",
       "      <td>42</td>\n",
       "      <td>2.0</td>\n",
       "      <td>0.00</td>\n",
       "      <td>1</td>\n",
       "      <td>1</td>\n",
       "      <td>1</td>\n",
       "      <td>101348.88</td>\n",
       "      <td>1</td>\n",
       "    </tr>\n",
       "    <tr>\n",
       "      <th>1</th>\n",
       "      <td>2</td>\n",
       "      <td>15647311</td>\n",
       "      <td>Hill</td>\n",
       "      <td>608</td>\n",
       "      <td>Spain</td>\n",
       "      <td>Female</td>\n",
       "      <td>41</td>\n",
       "      <td>1.0</td>\n",
       "      <td>83807.86</td>\n",
       "      <td>1</td>\n",
       "      <td>0</td>\n",
       "      <td>1</td>\n",
       "      <td>112542.58</td>\n",
       "      <td>0</td>\n",
       "    </tr>\n",
       "    <tr>\n",
       "      <th>2</th>\n",
       "      <td>3</td>\n",
       "      <td>15619304</td>\n",
       "      <td>Onio</td>\n",
       "      <td>502</td>\n",
       "      <td>France</td>\n",
       "      <td>Female</td>\n",
       "      <td>42</td>\n",
       "      <td>8.0</td>\n",
       "      <td>159660.80</td>\n",
       "      <td>3</td>\n",
       "      <td>1</td>\n",
       "      <td>0</td>\n",
       "      <td>113931.57</td>\n",
       "      <td>1</td>\n",
       "    </tr>\n",
       "    <tr>\n",
       "      <th>3</th>\n",
       "      <td>4</td>\n",
       "      <td>15701354</td>\n",
       "      <td>Boni</td>\n",
       "      <td>699</td>\n",
       "      <td>France</td>\n",
       "      <td>Female</td>\n",
       "      <td>39</td>\n",
       "      <td>1.0</td>\n",
       "      <td>0.00</td>\n",
       "      <td>2</td>\n",
       "      <td>0</td>\n",
       "      <td>0</td>\n",
       "      <td>93826.63</td>\n",
       "      <td>0</td>\n",
       "    </tr>\n",
       "    <tr>\n",
       "      <th>4</th>\n",
       "      <td>5</td>\n",
       "      <td>15737888</td>\n",
       "      <td>Mitchell</td>\n",
       "      <td>850</td>\n",
       "      <td>Spain</td>\n",
       "      <td>Female</td>\n",
       "      <td>43</td>\n",
       "      <td>2.0</td>\n",
       "      <td>125510.82</td>\n",
       "      <td>1</td>\n",
       "      <td>1</td>\n",
       "      <td>1</td>\n",
       "      <td>79084.10</td>\n",
       "      <td>0</td>\n",
       "    </tr>\n",
       "    <tr>\n",
       "      <th>5</th>\n",
       "      <td>6</td>\n",
       "      <td>15574012</td>\n",
       "      <td>Chu</td>\n",
       "      <td>645</td>\n",
       "      <td>Spain</td>\n",
       "      <td>Male</td>\n",
       "      <td>44</td>\n",
       "      <td>8.0</td>\n",
       "      <td>113755.78</td>\n",
       "      <td>2</td>\n",
       "      <td>1</td>\n",
       "      <td>0</td>\n",
       "      <td>149756.71</td>\n",
       "      <td>1</td>\n",
       "    </tr>\n",
       "    <tr>\n",
       "      <th>6</th>\n",
       "      <td>7</td>\n",
       "      <td>15592531</td>\n",
       "      <td>Bartlett</td>\n",
       "      <td>822</td>\n",
       "      <td>France</td>\n",
       "      <td>Male</td>\n",
       "      <td>50</td>\n",
       "      <td>7.0</td>\n",
       "      <td>0.00</td>\n",
       "      <td>2</td>\n",
       "      <td>1</td>\n",
       "      <td>1</td>\n",
       "      <td>10062.80</td>\n",
       "      <td>0</td>\n",
       "    </tr>\n",
       "    <tr>\n",
       "      <th>7</th>\n",
       "      <td>8</td>\n",
       "      <td>15656148</td>\n",
       "      <td>Obinna</td>\n",
       "      <td>376</td>\n",
       "      <td>Germany</td>\n",
       "      <td>Female</td>\n",
       "      <td>29</td>\n",
       "      <td>4.0</td>\n",
       "      <td>115046.74</td>\n",
       "      <td>4</td>\n",
       "      <td>1</td>\n",
       "      <td>0</td>\n",
       "      <td>119346.88</td>\n",
       "      <td>1</td>\n",
       "    </tr>\n",
       "    <tr>\n",
       "      <th>8</th>\n",
       "      <td>9</td>\n",
       "      <td>15792365</td>\n",
       "      <td>He</td>\n",
       "      <td>501</td>\n",
       "      <td>France</td>\n",
       "      <td>Male</td>\n",
       "      <td>44</td>\n",
       "      <td>4.0</td>\n",
       "      <td>142051.07</td>\n",
       "      <td>2</td>\n",
       "      <td>0</td>\n",
       "      <td>1</td>\n",
       "      <td>74940.50</td>\n",
       "      <td>0</td>\n",
       "    </tr>\n",
       "    <tr>\n",
       "      <th>9</th>\n",
       "      <td>10</td>\n",
       "      <td>15592389</td>\n",
       "      <td>H?</td>\n",
       "      <td>684</td>\n",
       "      <td>France</td>\n",
       "      <td>Male</td>\n",
       "      <td>27</td>\n",
       "      <td>2.0</td>\n",
       "      <td>134603.88</td>\n",
       "      <td>1</td>\n",
       "      <td>1</td>\n",
       "      <td>1</td>\n",
       "      <td>71725.73</td>\n",
       "      <td>0</td>\n",
       "    </tr>\n",
       "  </tbody>\n",
       "</table>\n",
       "</div>"
      ],
      "text/plain": [
       "   RowNumber  CustomerId   Surname  CreditScore Geography  Gender  Age  \\\n",
       "0          1    15634602  Hargrave          619    France  Female   42   \n",
       "1          2    15647311      Hill          608     Spain  Female   41   \n",
       "2          3    15619304      Onio          502    France  Female   42   \n",
       "3          4    15701354      Boni          699    France  Female   39   \n",
       "4          5    15737888  Mitchell          850     Spain  Female   43   \n",
       "5          6    15574012       Chu          645     Spain    Male   44   \n",
       "6          7    15592531  Bartlett          822    France    Male   50   \n",
       "7          8    15656148    Obinna          376   Germany  Female   29   \n",
       "8          9    15792365        He          501    France    Male   44   \n",
       "9         10    15592389        H?          684    France    Male   27   \n",
       "\n",
       "   Tenure    Balance  NumOfProducts  HasCrCard  IsActiveMember  \\\n",
       "0     2.0       0.00              1          1               1   \n",
       "1     1.0   83807.86              1          0               1   \n",
       "2     8.0  159660.80              3          1               0   \n",
       "3     1.0       0.00              2          0               0   \n",
       "4     2.0  125510.82              1          1               1   \n",
       "5     8.0  113755.78              2          1               0   \n",
       "6     7.0       0.00              2          1               1   \n",
       "7     4.0  115046.74              4          1               0   \n",
       "8     4.0  142051.07              2          0               1   \n",
       "9     2.0  134603.88              1          1               1   \n",
       "\n",
       "   EstimatedSalary  Exited  \n",
       "0        101348.88       1  \n",
       "1        112542.58       0  \n",
       "2        113931.57       1  \n",
       "3         93826.63       0  \n",
       "4         79084.10       0  \n",
       "5        149756.71       1  \n",
       "6         10062.80       0  \n",
       "7        119346.88       1  \n",
       "8         74940.50       0  \n",
       "9         71725.73       0  "
      ]
     },
     "execution_count": 4,
     "metadata": {},
     "output_type": "execute_result"
    }
   ],
   "source": [
    "data = pd.read_csv('/datasets/Churn.csv')\n",
    "data.head(10)"
   ]
  },
  {
   "cell_type": "code",
   "execution_count": 5,
   "metadata": {},
   "outputs": [
    {
     "name": "stdout",
     "output_type": "stream",
     "text": [
      "<class 'pandas.core.frame.DataFrame'>\n",
      "RangeIndex: 10000 entries, 0 to 9999\n",
      "Data columns (total 14 columns):\n",
      " #   Column           Non-Null Count  Dtype  \n",
      "---  ------           --------------  -----  \n",
      " 0   RowNumber        10000 non-null  int64  \n",
      " 1   CustomerId       10000 non-null  int64  \n",
      " 2   Surname          10000 non-null  object \n",
      " 3   CreditScore      10000 non-null  int64  \n",
      " 4   Geography        10000 non-null  object \n",
      " 5   Gender           10000 non-null  object \n",
      " 6   Age              10000 non-null  int64  \n",
      " 7   Tenure           9091 non-null   float64\n",
      " 8   Balance          10000 non-null  float64\n",
      " 9   NumOfProducts    10000 non-null  int64  \n",
      " 10  HasCrCard        10000 non-null  int64  \n",
      " 11  IsActiveMember   10000 non-null  int64  \n",
      " 12  EstimatedSalary  10000 non-null  float64\n",
      " 13  Exited           10000 non-null  int64  \n",
      "dtypes: float64(3), int64(8), object(3)\n",
      "memory usage: 1.1+ MB\n"
     ]
    }
   ],
   "source": [
    "data.info()"
   ]
  },
  {
   "cell_type": "code",
   "execution_count": 6,
   "metadata": {},
   "outputs": [
    {
     "data": {
      "image/png": "[encoded data removed]",
      "text/plain": [
       "<Figure size 1800x1800 with 12 Axes>"
      ]
     },
     "metadata": {
      "needs_background": "light"
     },
     "output_type": "display_data"
    }
   ],
   "source": [
    "data.hist(bins=35, figsize=(25, 25));"
   ]
  },
  {
   "cell_type": "markdown",
   "metadata": {},
   "source": [
    "### Вывод."
   ]
  },
  {
   "cell_type": "markdown",
   "metadata": {},
   "source": [
    "- Наименования столбцов нужно привести к \"змеиному регистру\".\n",
    "- В столбце `Tenure` присутствуют пропуски, необходимо их обработать.\n",
    "- Также нужно проверить данные на наличие дубликатов: явных и неявных.\n",
    "- Принимая во внимание специфику данных, выбросы выглядят естественно."
   ]
  },
  {
   "cell_type": "markdown",
   "metadata": {},
   "source": [
    "### Приводим наименования колонок к нижнему регистру."
   ]
  },
  {
   "cell_type": "code",
   "execution_count": 7,
   "metadata": {},
   "outputs": [
    {
     "data": {
      "text/plain": [
       "Index(['RowNumber', 'CustomerId', 'Surname', 'CreditScore', 'Geography',\n",
       "       'Gender', 'Age', 'Tenure', 'Balance', 'NumOfProducts', 'HasCrCard',\n",
       "       'IsActiveMember', 'EstimatedSalary', 'Exited'],\n",
       "      dtype='object')"
      ]
     },
     "execution_count": 7,
     "metadata": {},
     "output_type": "execute_result"
    }
   ],
   "source": [
    "data.columns"
   ]
  },
  {
   "cell_type": "code",
   "execution_count": 8,
   "metadata": {},
   "outputs": [],
   "source": [
    "data = data.rename(columns={\n",
    "    'RowNumber': 'row_number',\n",
    "    'CustomerId': 'customer_id',\n",
    "    'CreditScore': 'credit_score',\n",
    "    'NumOfProducts': 'num_of_products',\n",
    "    'HasCrCard': 'has_cr_card',\n",
    "    'IsActiveMember': 'is_active_member',\n",
    "    'EstimatedSalary': 'estimated_salary',\n",
    "})"
   ]
  },
  {
   "cell_type": "code",
   "execution_count": 9,
   "metadata": {},
   "outputs": [
    {
     "data": {
      "text/plain": [
       "Index(['row_number', 'customer_id', 'surname', 'credit_score', 'geography',\n",
       "       'gender', 'age', 'tenure', 'balance', 'num_of_products', 'has_cr_card',\n",
       "       'is_active_member', 'estimated_salary', 'exited'],\n",
       "      dtype='object')"
      ]
     },
     "execution_count": 9,
     "metadata": {},
     "output_type": "execute_result"
    }
   ],
   "source": [
    "data.columns = data.columns.str.lower()\n",
    "data.columns"
   ]
  },
  {
   "cell_type": "markdown",
   "metadata": {},
   "source": [
    "### Обрабатываем пропуски в данных."
   ]
  },
  {
   "cell_type": "code",
   "execution_count": 10,
   "metadata": {},
   "outputs": [
    {
     "data": {
      "text/plain": [
       "row_number            0\n",
       "customer_id           0\n",
       "surname               0\n",
       "credit_score          0\n",
       "geography             0\n",
       "gender                0\n",
       "age                   0\n",
       "tenure              909\n",
       "balance               0\n",
       "num_of_products       0\n",
       "has_cr_card           0\n",
       "is_active_member      0\n",
       "estimated_salary      0\n",
       "exited                0\n",
       "dtype: int64"
      ]
     },
     "execution_count": 10,
     "metadata": {},
     "output_type": "execute_result"
    }
   ],
   "source": [
    "data.isna().sum()"
   ]
  },
  {
   "cell_type": "code",
   "execution_count": 11,
   "metadata": {
    "scrolled": false
   },
   "outputs": [
    {
     "data": {
      "text/html": [
       "<div>\n",
       "<style scoped>\n",
       "    .dataframe tbody tr th:only-of-type {\n",
       "        vertical-align: middle;\n",
       "    }\n",
       "\n",
       "    .dataframe tbody tr th {\n",
       "        vertical-align: top;\n",
       "    }\n",
       "\n",
       "    .dataframe thead th {\n",
       "        text-align: right;\n",
       "    }\n",
       "</style>\n",
       "<table border=\"1\" class=\"dataframe\">\n",
       "  <thead>\n",
       "    <tr style=\"text-align: right;\">\n",
       "      <th></th>\n",
       "      <th>row_number</th>\n",
       "      <th>customer_id</th>\n",
       "      <th>surname</th>\n",
       "      <th>credit_score</th>\n",
       "      <th>geography</th>\n",
       "      <th>gender</th>\n",
       "      <th>age</th>\n",
       "      <th>tenure</th>\n",
       "      <th>balance</th>\n",
       "      <th>num_of_products</th>\n",
       "      <th>has_cr_card</th>\n",
       "      <th>is_active_member</th>\n",
       "      <th>estimated_salary</th>\n",
       "      <th>exited</th>\n",
       "    </tr>\n",
       "  </thead>\n",
       "  <tbody>\n",
       "    <tr>\n",
       "      <th>30</th>\n",
       "      <td>31</td>\n",
       "      <td>15589475</td>\n",
       "      <td>Azikiwe</td>\n",
       "      <td>591</td>\n",
       "      <td>Spain</td>\n",
       "      <td>Female</td>\n",
       "      <td>39</td>\n",
       "      <td>NaN</td>\n",
       "      <td>0.00</td>\n",
       "      <td>3</td>\n",
       "      <td>1</td>\n",
       "      <td>0</td>\n",
       "      <td>140469.38</td>\n",
       "      <td>1</td>\n",
       "    </tr>\n",
       "    <tr>\n",
       "      <th>48</th>\n",
       "      <td>49</td>\n",
       "      <td>15766205</td>\n",
       "      <td>Yin</td>\n",
       "      <td>550</td>\n",
       "      <td>Germany</td>\n",
       "      <td>Male</td>\n",
       "      <td>38</td>\n",
       "      <td>NaN</td>\n",
       "      <td>103391.38</td>\n",
       "      <td>1</td>\n",
       "      <td>0</td>\n",
       "      <td>1</td>\n",
       "      <td>90878.13</td>\n",
       "      <td>0</td>\n",
       "    </tr>\n",
       "    <tr>\n",
       "      <th>51</th>\n",
       "      <td>52</td>\n",
       "      <td>15768193</td>\n",
       "      <td>Trevisani</td>\n",
       "      <td>585</td>\n",
       "      <td>Germany</td>\n",
       "      <td>Male</td>\n",
       "      <td>36</td>\n",
       "      <td>NaN</td>\n",
       "      <td>146050.97</td>\n",
       "      <td>2</td>\n",
       "      <td>0</td>\n",
       "      <td>0</td>\n",
       "      <td>86424.57</td>\n",
       "      <td>0</td>\n",
       "    </tr>\n",
       "    <tr>\n",
       "      <th>53</th>\n",
       "      <td>54</td>\n",
       "      <td>15702298</td>\n",
       "      <td>Parkhill</td>\n",
       "      <td>655</td>\n",
       "      <td>Germany</td>\n",
       "      <td>Male</td>\n",
       "      <td>41</td>\n",
       "      <td>NaN</td>\n",
       "      <td>125561.97</td>\n",
       "      <td>1</td>\n",
       "      <td>0</td>\n",
       "      <td>0</td>\n",
       "      <td>164040.94</td>\n",
       "      <td>1</td>\n",
       "    </tr>\n",
       "    <tr>\n",
       "      <th>60</th>\n",
       "      <td>61</td>\n",
       "      <td>15651280</td>\n",
       "      <td>Hunter</td>\n",
       "      <td>742</td>\n",
       "      <td>Germany</td>\n",
       "      <td>Male</td>\n",
       "      <td>35</td>\n",
       "      <td>NaN</td>\n",
       "      <td>136857.00</td>\n",
       "      <td>1</td>\n",
       "      <td>0</td>\n",
       "      <td>0</td>\n",
       "      <td>84509.57</td>\n",
       "      <td>0</td>\n",
       "    </tr>\n",
       "    <tr>\n",
       "      <th>82</th>\n",
       "      <td>83</td>\n",
       "      <td>15641732</td>\n",
       "      <td>Mills</td>\n",
       "      <td>543</td>\n",
       "      <td>France</td>\n",
       "      <td>Female</td>\n",
       "      <td>36</td>\n",
       "      <td>NaN</td>\n",
       "      <td>0.00</td>\n",
       "      <td>2</td>\n",
       "      <td>0</td>\n",
       "      <td>0</td>\n",
       "      <td>26019.59</td>\n",
       "      <td>0</td>\n",
       "    </tr>\n",
       "    <tr>\n",
       "      <th>85</th>\n",
       "      <td>86</td>\n",
       "      <td>15805254</td>\n",
       "      <td>Ndukaku</td>\n",
       "      <td>652</td>\n",
       "      <td>Spain</td>\n",
       "      <td>Female</td>\n",
       "      <td>75</td>\n",
       "      <td>NaN</td>\n",
       "      <td>0.00</td>\n",
       "      <td>2</td>\n",
       "      <td>1</td>\n",
       "      <td>1</td>\n",
       "      <td>114675.75</td>\n",
       "      <td>0</td>\n",
       "    </tr>\n",
       "    <tr>\n",
       "      <th>94</th>\n",
       "      <td>95</td>\n",
       "      <td>15676966</td>\n",
       "      <td>Capon</td>\n",
       "      <td>730</td>\n",
       "      <td>Spain</td>\n",
       "      <td>Male</td>\n",
       "      <td>42</td>\n",
       "      <td>NaN</td>\n",
       "      <td>0.00</td>\n",
       "      <td>2</td>\n",
       "      <td>0</td>\n",
       "      <td>1</td>\n",
       "      <td>85982.47</td>\n",
       "      <td>0</td>\n",
       "    </tr>\n",
       "    <tr>\n",
       "      <th>99</th>\n",
       "      <td>100</td>\n",
       "      <td>15633059</td>\n",
       "      <td>Fanucci</td>\n",
       "      <td>413</td>\n",
       "      <td>France</td>\n",
       "      <td>Male</td>\n",
       "      <td>34</td>\n",
       "      <td>NaN</td>\n",
       "      <td>0.00</td>\n",
       "      <td>2</td>\n",
       "      <td>0</td>\n",
       "      <td>0</td>\n",
       "      <td>6534.18</td>\n",
       "      <td>0</td>\n",
       "    </tr>\n",
       "    <tr>\n",
       "      <th>111</th>\n",
       "      <td>112</td>\n",
       "      <td>15665790</td>\n",
       "      <td>Rowntree</td>\n",
       "      <td>538</td>\n",
       "      <td>Germany</td>\n",
       "      <td>Male</td>\n",
       "      <td>39</td>\n",
       "      <td>NaN</td>\n",
       "      <td>108055.10</td>\n",
       "      <td>2</td>\n",
       "      <td>1</td>\n",
       "      <td>0</td>\n",
       "      <td>27231.26</td>\n",
       "      <td>0</td>\n",
       "    </tr>\n",
       "  </tbody>\n",
       "</table>\n",
       "</div>"
      ],
      "text/plain": [
       "     row_number  customer_id    surname  credit_score geography  gender  age  \\\n",
       "30           31     15589475    Azikiwe           591     Spain  Female   39   \n",
       "48           49     15766205        Yin           550   Germany    Male   38   \n",
       "51           52     15768193  Trevisani           585   Germany    Male   36   \n",
       "53           54     15702298   Parkhill           655   Germany    Male   41   \n",
       "60           61     15651280     Hunter           742   Germany    Male   35   \n",
       "82           83     15641732      Mills           543    France  Female   36   \n",
       "85           86     15805254    Ndukaku           652     Spain  Female   75   \n",
       "94           95     15676966      Capon           730     Spain    Male   42   \n",
       "99          100     15633059    Fanucci           413    France    Male   34   \n",
       "111         112     15665790   Rowntree           538   Germany    Male   39   \n",
       "\n",
       "     tenure    balance  num_of_products  has_cr_card  is_active_member  \\\n",
       "30      NaN       0.00                3            1                 0   \n",
       "48      NaN  103391.38                1            0                 1   \n",
       "51      NaN  146050.97                2            0                 0   \n",
       "53      NaN  125561.97                1            0                 0   \n",
       "60      NaN  136857.00                1            0                 0   \n",
       "82      NaN       0.00                2            0                 0   \n",
       "85      NaN       0.00                2            1                 1   \n",
       "94      NaN       0.00                2            0                 1   \n",
       "99      NaN       0.00                2            0                 0   \n",
       "111     NaN  108055.10                2            1                 0   \n",
       "\n",
       "     estimated_salary  exited  \n",
       "30          140469.38       1  \n",
       "48           90878.13       0  \n",
       "51           86424.57       0  \n",
       "53          164040.94       1  \n",
       "60           84509.57       0  \n",
       "82           26019.59       0  \n",
       "85          114675.75       0  \n",
       "94           85982.47       0  \n",
       "99            6534.18       0  \n",
       "111          27231.26       0  "
      ]
     },
     "execution_count": 11,
     "metadata": {},
     "output_type": "execute_result"
    }
   ],
   "source": [
    "data[data['tenure'].isna()].head(10)"
   ]
  },
  {
   "cell_type": "markdown",
   "metadata": {},
   "source": [
    "Заполним пропущенные значения медианой."
   ]
  },
  {
   "cell_type": "code",
   "execution_count": 12,
   "metadata": {},
   "outputs": [
    {
     "data": {
      "text/plain": [
       "5.0"
      ]
     },
     "execution_count": 12,
     "metadata": {},
     "output_type": "execute_result"
    }
   ],
   "source": [
    "median = data['tenure'].median()\n",
    "median"
   ]
  },
  {
   "cell_type": "code",
   "execution_count": 13,
   "metadata": {},
   "outputs": [],
   "source": [
    "data['tenure'] = data['tenure'].fillna(median)"
   ]
  },
  {
   "cell_type": "code",
   "execution_count": 14,
   "metadata": {},
   "outputs": [
    {
     "data": {
      "text/plain": [
       "0"
      ]
     },
     "execution_count": 14,
     "metadata": {},
     "output_type": "execute_result"
    }
   ],
   "source": [
    "data['tenure'].isna().sum()"
   ]
  },
  {
   "cell_type": "markdown",
   "metadata": {},
   "source": [
    "### Проверяем данные на наличие дубликатов."
   ]
  },
  {
   "cell_type": "code",
   "execution_count": 15,
   "metadata": {},
   "outputs": [
    {
     "data": {
      "text/plain": [
       "0"
      ]
     },
     "execution_count": 15,
     "metadata": {},
     "output_type": "execute_result"
    }
   ],
   "source": [
    "data.duplicated().sum()"
   ]
  },
  {
   "cell_type": "code",
   "execution_count": 16,
   "metadata": {},
   "outputs": [
    {
     "data": {
      "text/plain": [
       "0"
      ]
     },
     "execution_count": 16,
     "metadata": {},
     "output_type": "execute_result"
    }
   ],
   "source": [
    "data['customer_id'].duplicated().sum()"
   ]
  },
  {
   "cell_type": "code",
   "execution_count": 17,
   "metadata": {},
   "outputs": [
    {
     "data": {
      "text/plain": [
       "array(['France', 'Spain', 'Germany'], dtype=object)"
      ]
     },
     "execution_count": 17,
     "metadata": {},
     "output_type": "execute_result"
    }
   ],
   "source": [
    "data['geography'].unique()"
   ]
  },
  {
   "cell_type": "code",
   "execution_count": 18,
   "metadata": {},
   "outputs": [
    {
     "data": {
      "text/plain": [
       "array(['Female', 'Male'], dtype=object)"
      ]
     },
     "execution_count": 18,
     "metadata": {},
     "output_type": "execute_result"
    }
   ],
   "source": [
    "data['gender'].unique()"
   ]
  },
  {
   "cell_type": "markdown",
   "metadata": {},
   "source": [
    "Избавимся от столбцов, которые в дальнейшем нам не понадобятся."
   ]
  },
  {
   "cell_type": "code",
   "execution_count": 19,
   "metadata": {},
   "outputs": [],
   "source": [
    "data.drop(columns=['row_number', 'customer_id', 'surname'], inplace=True)"
   ]
  },
  {
   "cell_type": "markdown",
   "metadata": {},
   "source": [
    "### Преобразуем категориальные переменные в признаки."
   ]
  },
  {
   "cell_type": "code",
   "execution_count": 20,
   "metadata": {},
   "outputs": [
    {
     "data": {
      "text/html": [
       "<div>\n",
       "<style scoped>\n",
       "    .dataframe tbody tr th:only-of-type {\n",
       "        vertical-align: middle;\n",
       "    }\n",
       "\n",
       "    .dataframe tbody tr th {\n",
       "        vertical-align: top;\n",
       "    }\n",
       "\n",
       "    .dataframe thead th {\n",
       "        text-align: right;\n",
       "    }\n",
       "</style>\n",
       "<table border=\"1\" class=\"dataframe\">\n",
       "  <thead>\n",
       "    <tr style=\"text-align: right;\">\n",
       "      <th></th>\n",
       "      <th>credit_score</th>\n",
       "      <th>age</th>\n",
       "      <th>tenure</th>\n",
       "      <th>balance</th>\n",
       "      <th>num_of_products</th>\n",
       "      <th>has_cr_card</th>\n",
       "      <th>is_active_member</th>\n",
       "      <th>estimated_salary</th>\n",
       "      <th>exited</th>\n",
       "      <th>geography_Germany</th>\n",
       "      <th>geography_Spain</th>\n",
       "      <th>gender_Male</th>\n",
       "    </tr>\n",
       "  </thead>\n",
       "  <tbody>\n",
       "    <tr>\n",
       "      <th>0</th>\n",
       "      <td>619</td>\n",
       "      <td>42</td>\n",
       "      <td>2.0</td>\n",
       "      <td>0.00</td>\n",
       "      <td>1</td>\n",
       "      <td>1</td>\n",
       "      <td>1</td>\n",
       "      <td>101348.88</td>\n",
       "      <td>1</td>\n",
       "      <td>0</td>\n",
       "      <td>0</td>\n",
       "      <td>0</td>\n",
       "    </tr>\n",
       "    <tr>\n",
       "      <th>1</th>\n",
       "      <td>608</td>\n",
       "      <td>41</td>\n",
       "      <td>1.0</td>\n",
       "      <td>83807.86</td>\n",
       "      <td>1</td>\n",
       "      <td>0</td>\n",
       "      <td>1</td>\n",
       "      <td>112542.58</td>\n",
       "      <td>0</td>\n",
       "      <td>0</td>\n",
       "      <td>1</td>\n",
       "      <td>0</td>\n",
       "    </tr>\n",
       "    <tr>\n",
       "      <th>2</th>\n",
       "      <td>502</td>\n",
       "      <td>42</td>\n",
       "      <td>8.0</td>\n",
       "      <td>159660.80</td>\n",
       "      <td>3</td>\n",
       "      <td>1</td>\n",
       "      <td>0</td>\n",
       "      <td>113931.57</td>\n",
       "      <td>1</td>\n",
       "      <td>0</td>\n",
       "      <td>0</td>\n",
       "      <td>0</td>\n",
       "    </tr>\n",
       "    <tr>\n",
       "      <th>3</th>\n",
       "      <td>699</td>\n",
       "      <td>39</td>\n",
       "      <td>1.0</td>\n",
       "      <td>0.00</td>\n",
       "      <td>2</td>\n",
       "      <td>0</td>\n",
       "      <td>0</td>\n",
       "      <td>93826.63</td>\n",
       "      <td>0</td>\n",
       "      <td>0</td>\n",
       "      <td>0</td>\n",
       "      <td>0</td>\n",
       "    </tr>\n",
       "    <tr>\n",
       "      <th>4</th>\n",
       "      <td>850</td>\n",
       "      <td>43</td>\n",
       "      <td>2.0</td>\n",
       "      <td>125510.82</td>\n",
       "      <td>1</td>\n",
       "      <td>1</td>\n",
       "      <td>1</td>\n",
       "      <td>79084.10</td>\n",
       "      <td>0</td>\n",
       "      <td>0</td>\n",
       "      <td>1</td>\n",
       "      <td>0</td>\n",
       "    </tr>\n",
       "    <tr>\n",
       "      <th>5</th>\n",
       "      <td>645</td>\n",
       "      <td>44</td>\n",
       "      <td>8.0</td>\n",
       "      <td>113755.78</td>\n",
       "      <td>2</td>\n",
       "      <td>1</td>\n",
       "      <td>0</td>\n",
       "      <td>149756.71</td>\n",
       "      <td>1</td>\n",
       "      <td>0</td>\n",
       "      <td>1</td>\n",
       "      <td>1</td>\n",
       "    </tr>\n",
       "    <tr>\n",
       "      <th>6</th>\n",
       "      <td>822</td>\n",
       "      <td>50</td>\n",
       "      <td>7.0</td>\n",
       "      <td>0.00</td>\n",
       "      <td>2</td>\n",
       "      <td>1</td>\n",
       "      <td>1</td>\n",
       "      <td>10062.80</td>\n",
       "      <td>0</td>\n",
       "      <td>0</td>\n",
       "      <td>0</td>\n",
       "      <td>1</td>\n",
       "    </tr>\n",
       "    <tr>\n",
       "      <th>7</th>\n",
       "      <td>376</td>\n",
       "      <td>29</td>\n",
       "      <td>4.0</td>\n",
       "      <td>115046.74</td>\n",
       "      <td>4</td>\n",
       "      <td>1</td>\n",
       "      <td>0</td>\n",
       "      <td>119346.88</td>\n",
       "      <td>1</td>\n",
       "      <td>1</td>\n",
       "      <td>0</td>\n",
       "      <td>0</td>\n",
       "    </tr>\n",
       "    <tr>\n",
       "      <th>8</th>\n",
       "      <td>501</td>\n",
       "      <td>44</td>\n",
       "      <td>4.0</td>\n",
       "      <td>142051.07</td>\n",
       "      <td>2</td>\n",
       "      <td>0</td>\n",
       "      <td>1</td>\n",
       "      <td>74940.50</td>\n",
       "      <td>0</td>\n",
       "      <td>0</td>\n",
       "      <td>0</td>\n",
       "      <td>1</td>\n",
       "    </tr>\n",
       "    <tr>\n",
       "      <th>9</th>\n",
       "      <td>684</td>\n",
       "      <td>27</td>\n",
       "      <td>2.0</td>\n",
       "      <td>134603.88</td>\n",
       "      <td>1</td>\n",
       "      <td>1</td>\n",
       "      <td>1</td>\n",
       "      <td>71725.73</td>\n",
       "      <td>0</td>\n",
       "      <td>0</td>\n",
       "      <td>0</td>\n",
       "      <td>1</td>\n",
       "    </tr>\n",
       "  </tbody>\n",
       "</table>\n",
       "</div>"
      ],
      "text/plain": [
       "   credit_score  age  tenure    balance  num_of_products  has_cr_card  \\\n",
       "0           619   42     2.0       0.00                1            1   \n",
       "1           608   41     1.0   83807.86                1            0   \n",
       "2           502   42     8.0  159660.80                3            1   \n",
       "3           699   39     1.0       0.00                2            0   \n",
       "4           850   43     2.0  125510.82                1            1   \n",
       "5           645   44     8.0  113755.78                2            1   \n",
       "6           822   50     7.0       0.00                2            1   \n",
       "7           376   29     4.0  115046.74                4            1   \n",
       "8           501   44     4.0  142051.07                2            0   \n",
       "9           684   27     2.0  134603.88                1            1   \n",
       "\n",
       "   is_active_member  estimated_salary  exited  geography_Germany  \\\n",
       "0                 1         101348.88       1                  0   \n",
       "1                 1         112542.58       0                  0   \n",
       "2                 0         113931.57       1                  0   \n",
       "3                 0          93826.63       0                  0   \n",
       "4                 1          79084.10       0                  0   \n",
       "5                 0         149756.71       1                  0   \n",
       "6                 1          10062.80       0                  0   \n",
       "7                 0         119346.88       1                  1   \n",
       "8                 1          74940.50       0                  0   \n",
       "9                 1          71725.73       0                  0   \n",
       "\n",
       "   geography_Spain  gender_Male  \n",
       "0                0            0  \n",
       "1                1            0  \n",
       "2                0            0  \n",
       "3                0            0  \n",
       "4                1            0  \n",
       "5                1            1  \n",
       "6                0            1  \n",
       "7                0            0  \n",
       "8                0            1  \n",
       "9                0            1  "
      ]
     },
     "execution_count": 20,
     "metadata": {},
     "output_type": "execute_result"
    }
   ],
   "source": [
    "data = pd.get_dummies(data, drop_first=True)\n",
    "data.head(10)"
   ]
  },
  {
   "cell_type": "code",
   "execution_count": 21,
   "metadata": {
    "scrolled": true
   },
   "outputs": [
    {
     "data": {
      "text/plain": [
       "Index(['credit_score', 'age', 'tenure', 'balance', 'num_of_products',\n",
       "       'has_cr_card', 'is_active_member', 'estimated_salary', 'exited',\n",
       "       'geography_germany', 'geography_spain', 'gender_male'],\n",
       "      dtype='object')"
      ]
     },
     "execution_count": 21,
     "metadata": {},
     "output_type": "execute_result"
    }
   ],
   "source": [
    "data.columns = data.columns.str.lower()\n",
    "data.columns"
   ]
  },
  {
   "cell_type": "markdown",
   "metadata": {},
   "source": [
    "### Разбиваем данные."
   ]
  },
  {
   "cell_type": "code",
   "execution_count": 22,
   "metadata": {},
   "outputs": [],
   "source": [
    "# features, target\n",
    "features = data.drop('exited', axis=1)\n",
    "target = data['exited']"
   ]
  },
  {
   "cell_type": "code",
   "execution_count": 23,
   "metadata": {},
   "outputs": [],
   "source": [
    "# train, valid, test\n",
    "features_train, features_valid, target_train, target_valid = train_test_split(features, target,\n",
    "                                                                              test_size=0.2, random_state=random_state)\n",
    "features_train, features_test, target_train, target_test = train_test_split(features_train, target_train,\n",
    "                                                                            test_size=0.25, random_state=random_state)"
   ]
  },
  {
   "cell_type": "code",
   "execution_count": 24,
   "metadata": {},
   "outputs": [
    {
     "name": "stdout",
     "output_type": "stream",
     "text": [
      "train: 6000\n",
      "valid: 2000\n",
      "test: 2000\n"
     ]
    }
   ],
   "source": [
    "print('train:', len(features_train))\n",
    "print('valid:', len(features_valid))\n",
    "print('test:', len(features_test))"
   ]
  },
  {
   "cell_type": "markdown",
   "metadata": {},
   "source": [
    "### Масштабируем численные признаки."
   ]
  },
  {
   "cell_type": "code",
   "execution_count": 25,
   "metadata": {},
   "outputs": [
    {
     "data": {
      "text/html": [
       "<div>\n",
       "<style scoped>\n",
       "    .dataframe tbody tr th:only-of-type {\n",
       "        vertical-align: middle;\n",
       "    }\n",
       "\n",
       "    .dataframe tbody tr th {\n",
       "        vertical-align: top;\n",
       "    }\n",
       "\n",
       "    .dataframe thead th {\n",
       "        text-align: right;\n",
       "    }\n",
       "</style>\n",
       "<table border=\"1\" class=\"dataframe\">\n",
       "  <thead>\n",
       "    <tr style=\"text-align: right;\">\n",
       "      <th></th>\n",
       "      <th>credit_score</th>\n",
       "      <th>age</th>\n",
       "      <th>tenure</th>\n",
       "      <th>balance</th>\n",
       "      <th>num_of_products</th>\n",
       "      <th>has_cr_card</th>\n",
       "      <th>is_active_member</th>\n",
       "      <th>estimated_salary</th>\n",
       "      <th>geography_germany</th>\n",
       "      <th>geography_spain</th>\n",
       "      <th>gender_male</th>\n",
       "    </tr>\n",
       "  </thead>\n",
       "  <tbody>\n",
       "    <tr>\n",
       "      <th>492</th>\n",
       "      <td>639</td>\n",
       "      <td>38</td>\n",
       "      <td>4.0</td>\n",
       "      <td>81550.94</td>\n",
       "      <td>2</td>\n",
       "      <td>0</td>\n",
       "      <td>1</td>\n",
       "      <td>118974.77</td>\n",
       "      <td>0</td>\n",
       "      <td>0</td>\n",
       "      <td>0</td>\n",
       "    </tr>\n",
       "    <tr>\n",
       "      <th>6655</th>\n",
       "      <td>554</td>\n",
       "      <td>44</td>\n",
       "      <td>5.0</td>\n",
       "      <td>85304.27</td>\n",
       "      <td>1</td>\n",
       "      <td>1</td>\n",
       "      <td>1</td>\n",
       "      <td>58076.52</td>\n",
       "      <td>0</td>\n",
       "      <td>0</td>\n",
       "      <td>1</td>\n",
       "    </tr>\n",
       "    <tr>\n",
       "      <th>4287</th>\n",
       "      <td>714</td>\n",
       "      <td>53</td>\n",
       "      <td>1.0</td>\n",
       "      <td>99141.86</td>\n",
       "      <td>1</td>\n",
       "      <td>1</td>\n",
       "      <td>1</td>\n",
       "      <td>72496.05</td>\n",
       "      <td>1</td>\n",
       "      <td>0</td>\n",
       "      <td>1</td>\n",
       "    </tr>\n",
       "    <tr>\n",
       "      <th>42</th>\n",
       "      <td>556</td>\n",
       "      <td>61</td>\n",
       "      <td>2.0</td>\n",
       "      <td>117419.35</td>\n",
       "      <td>1</td>\n",
       "      <td>1</td>\n",
       "      <td>1</td>\n",
       "      <td>94153.83</td>\n",
       "      <td>0</td>\n",
       "      <td>0</td>\n",
       "      <td>0</td>\n",
       "    </tr>\n",
       "    <tr>\n",
       "      <th>8178</th>\n",
       "      <td>707</td>\n",
       "      <td>46</td>\n",
       "      <td>7.0</td>\n",
       "      <td>127476.73</td>\n",
       "      <td>2</td>\n",
       "      <td>1</td>\n",
       "      <td>1</td>\n",
       "      <td>146011.55</td>\n",
       "      <td>0</td>\n",
       "      <td>0</td>\n",
       "      <td>0</td>\n",
       "    </tr>\n",
       "  </tbody>\n",
       "</table>\n",
       "</div>"
      ],
      "text/plain": [
       "      credit_score  age  tenure    balance  num_of_products  has_cr_card  \\\n",
       "492            639   38     4.0   81550.94                2            0   \n",
       "6655           554   44     5.0   85304.27                1            1   \n",
       "4287           714   53     1.0   99141.86                1            1   \n",
       "42             556   61     2.0  117419.35                1            1   \n",
       "8178           707   46     7.0  127476.73                2            1   \n",
       "\n",
       "      is_active_member  estimated_salary  geography_germany  geography_spain  \\\n",
       "492                  1         118974.77                  0                0   \n",
       "6655                 1          58076.52                  0                0   \n",
       "4287                 1          72496.05                  1                0   \n",
       "42                   1          94153.83                  0                0   \n",
       "8178                 1         146011.55                  0                0   \n",
       "\n",
       "      gender_male  \n",
       "492             0  \n",
       "6655            1  \n",
       "4287            1  \n",
       "42              0  \n",
       "8178            0  "
      ]
     },
     "execution_count": 25,
     "metadata": {},
     "output_type": "execute_result"
    }
   ],
   "source": [
    "features_train.head()"
   ]
  },
  {
   "cell_type": "code",
   "execution_count": 26,
   "metadata": {},
   "outputs": [],
   "source": [
    "numeric = ['credit_score', 'age', 'tenure', 'balance', 'estimated_salary']"
   ]
  },
  {
   "cell_type": "code",
   "execution_count": 27,
   "metadata": {},
   "outputs": [],
   "source": [
    "scaler = StandardScaler()"
   ]
  },
  {
   "cell_type": "code",
   "execution_count": 28,
   "metadata": {},
   "outputs": [
    {
     "data": {
      "text/plain": [
       "StandardScaler()"
      ]
     },
     "execution_count": 28,
     "metadata": {},
     "output_type": "execute_result"
    }
   ],
   "source": [
    "scaler.fit(features_train[numeric])"
   ]
  },
  {
   "cell_type": "code",
   "execution_count": 29,
   "metadata": {},
   "outputs": [],
   "source": [
    "features_train[numeric] = scaler.transform(features_train[numeric])\n",
    "features_valid[numeric] = scaler.transform(features_valid[numeric])\n",
    "features_test[numeric] = scaler.transform(features_test[numeric])"
   ]
  },
  {
   "cell_type": "code",
   "execution_count": 30,
   "metadata": {},
   "outputs": [
    {
     "data": {
      "text/html": [
       "<div>\n",
       "<style scoped>\n",
       "    .dataframe tbody tr th:only-of-type {\n",
       "        vertical-align: middle;\n",
       "    }\n",
       "\n",
       "    .dataframe tbody tr th {\n",
       "        vertical-align: top;\n",
       "    }\n",
       "\n",
       "    .dataframe thead th {\n",
       "        text-align: right;\n",
       "    }\n",
       "</style>\n",
       "<table border=\"1\" class=\"dataframe\">\n",
       "  <thead>\n",
       "    <tr style=\"text-align: right;\">\n",
       "      <th></th>\n",
       "      <th>credit_score</th>\n",
       "      <th>age</th>\n",
       "      <th>tenure</th>\n",
       "      <th>balance</th>\n",
       "      <th>num_of_products</th>\n",
       "      <th>has_cr_card</th>\n",
       "      <th>is_active_member</th>\n",
       "      <th>estimated_salary</th>\n",
       "      <th>geography_germany</th>\n",
       "      <th>geography_spain</th>\n",
       "      <th>gender_male</th>\n",
       "    </tr>\n",
       "  </thead>\n",
       "  <tbody>\n",
       "    <tr>\n",
       "      <th>492</th>\n",
       "      <td>-0.134048</td>\n",
       "      <td>-0.078068</td>\n",
       "      <td>-0.369113</td>\n",
       "      <td>0.076163</td>\n",
       "      <td>2</td>\n",
       "      <td>0</td>\n",
       "      <td>1</td>\n",
       "      <td>0.331571</td>\n",
       "      <td>0</td>\n",
       "      <td>0</td>\n",
       "      <td>0</td>\n",
       "    </tr>\n",
       "    <tr>\n",
       "      <th>6655</th>\n",
       "      <td>-1.010798</td>\n",
       "      <td>0.494555</td>\n",
       "      <td>-0.007415</td>\n",
       "      <td>0.136391</td>\n",
       "      <td>1</td>\n",
       "      <td>1</td>\n",
       "      <td>1</td>\n",
       "      <td>-0.727858</td>\n",
       "      <td>0</td>\n",
       "      <td>0</td>\n",
       "      <td>1</td>\n",
       "    </tr>\n",
       "    <tr>\n",
       "      <th>4287</th>\n",
       "      <td>0.639554</td>\n",
       "      <td>1.353490</td>\n",
       "      <td>-1.454209</td>\n",
       "      <td>0.358435</td>\n",
       "      <td>1</td>\n",
       "      <td>1</td>\n",
       "      <td>1</td>\n",
       "      <td>-0.477006</td>\n",
       "      <td>1</td>\n",
       "      <td>0</td>\n",
       "      <td>1</td>\n",
       "    </tr>\n",
       "    <tr>\n",
       "      <th>42</th>\n",
       "      <td>-0.990168</td>\n",
       "      <td>2.116987</td>\n",
       "      <td>-1.092511</td>\n",
       "      <td>0.651725</td>\n",
       "      <td>1</td>\n",
       "      <td>1</td>\n",
       "      <td>1</td>\n",
       "      <td>-0.100232</td>\n",
       "      <td>0</td>\n",
       "      <td>0</td>\n",
       "      <td>0</td>\n",
       "    </tr>\n",
       "    <tr>\n",
       "      <th>8178</th>\n",
       "      <td>0.567351</td>\n",
       "      <td>0.685430</td>\n",
       "      <td>0.715982</td>\n",
       "      <td>0.813110</td>\n",
       "      <td>2</td>\n",
       "      <td>1</td>\n",
       "      <td>1</td>\n",
       "      <td>0.801922</td>\n",
       "      <td>0</td>\n",
       "      <td>0</td>\n",
       "      <td>0</td>\n",
       "    </tr>\n",
       "  </tbody>\n",
       "</table>\n",
       "</div>"
      ],
      "text/plain": [
       "      credit_score       age    tenure   balance  num_of_products  \\\n",
       "492      -0.134048 -0.078068 -0.369113  0.076163                2   \n",
       "6655     -1.010798  0.494555 -0.007415  0.136391                1   \n",
       "4287      0.639554  1.353490 -1.454209  0.358435                1   \n",
       "42       -0.990168  2.116987 -1.092511  0.651725                1   \n",
       "8178      0.567351  0.685430  0.715982  0.813110                2   \n",
       "\n",
       "      has_cr_card  is_active_member  estimated_salary  geography_germany  \\\n",
       "492             0                 1          0.331571                  0   \n",
       "6655            1                 1         -0.727858                  0   \n",
       "4287            1                 1         -0.477006                  1   \n",
       "42              1                 1         -0.100232                  0   \n",
       "8178            1                 1          0.801922                  0   \n",
       "\n",
       "      geography_spain  gender_male  \n",
       "492                 0            0  \n",
       "6655                0            1  \n",
       "4287                0            1  \n",
       "42                  0            0  \n",
       "8178                0            0  "
      ]
     },
     "execution_count": 30,
     "metadata": {},
     "output_type": "execute_result"
    }
   ],
   "source": [
    "features_train.head()"
   ]
  },
  {
   "cell_type": "markdown",
   "metadata": {},
   "source": [
    "### Вывод."
   ]
  },
  {
   "cell_type": "markdown",
   "metadata": {},
   "source": [
    "- Наименования колонок были приведены к единому стилю - змеиному регистру.\n",
    "- Пропуски в данных в столбце `tenure` были заполнены медианным значением.\n",
    "- Проверены на наличие дубликатов столбцы `customer_id`, `geography`, `gender` и весь датасет в целом.\n",
    "- Были удалены столбцы, которые нам не пригодятся для обучения модели: `row_number`, `customer_id`, `surname`.\n",
    "- Категориальные переменные были преобразованы в признаки.\n",
    "- Все данные были разбиты на тренировочную, валидационную и тестовую выборки в соотношении 3:1:1.\n",
    "- Численные признаки были приведены к одному масштабу."
   ]
  },
  {
   "cell_type": "markdown",
   "metadata": {},
   "source": [
    "## Исследование задачи"
   ]
  },
  {
   "cell_type": "code",
   "execution_count": 31,
   "metadata": {},
   "outputs": [],
   "source": [
    "def auc_roc(model, features, target):\n",
    "    probabilities_valid = model.predict_proba(features)\n",
    "    probabilities_one_valid = probabilities_valid[:, 1]\n",
    "    \n",
    "    return roc_auc_score(target, probabilities_one_valid)"
   ]
  },
  {
   "cell_type": "code",
   "execution_count": 32,
   "metadata": {},
   "outputs": [],
   "source": [
    "# tree\n",
    "def tree(train_features, train_target, balanced=False):\n",
    "    best_depth = 0\n",
    "    best_score = 0\n",
    "    best_model = None\n",
    "\n",
    "    for depth in range(1, 16, 1):\n",
    "        if balanced:\n",
    "            model = DecisionTreeClassifier(max_depth=depth, random_state=random_state, class_weight='balanced')\n",
    "        else:\n",
    "            model = DecisionTreeClassifier(max_depth=depth, random_state=random_state)\n",
    "            \n",
    "        model.fit(train_features, train_target)\n",
    "\n",
    "        predicted_valid = model.predict(features_valid)\n",
    "\n",
    "        score = f1_score(target_valid, predicted_valid)\n",
    "\n",
    "        if best_score < score:\n",
    "            best_score = score\n",
    "            best_depth = depth\n",
    "            best_model = model\n",
    "            \n",
    "    auc_roc_metric = auc_roc(best_model, features_valid, target_valid)\n",
    "    \n",
    "    return best_depth, best_score, auc_roc_metric"
   ]
  },
  {
   "cell_type": "code",
   "execution_count": 33,
   "metadata": {},
   "outputs": [],
   "source": [
    "# random forest\n",
    "def forest(train_features, train_target, balanced=False):\n",
    "    best_est = 0\n",
    "    best_depth = 0\n",
    "    best_score = 0\n",
    "    best_model = None\n",
    "\n",
    "    for est in range(10, 110, 10):\n",
    "        for depth in range(1, 16, 1):\n",
    "            if balanced:\n",
    "                model = RandomForestClassifier(n_estimators=est, max_depth=depth, random_state=random_state, class_weight='balanced')\n",
    "            else:\n",
    "                model = RandomForestClassifier(n_estimators=est, max_depth=depth, random_state=random_state)\n",
    "                \n",
    "            model.fit(train_features, train_target)\n",
    "\n",
    "            predicted_valid = model.predict(features_valid)\n",
    "\n",
    "            score = f1_score(target_valid, predicted_valid)\n",
    "\n",
    "            if score > best_score:\n",
    "                best_score = score\n",
    "                best_est = est\n",
    "                best_depth = depth\n",
    "                best_model = model\n",
    "                \n",
    "    auc_roc_metric = auc_roc(best_model, features_valid, target_valid)\n",
    "    \n",
    "    return best_depth, best_est, best_score, auc_roc_metric"
   ]
  },
  {
   "cell_type": "code",
   "execution_count": 34,
   "metadata": {},
   "outputs": [],
   "source": [
    "# logistic regression\n",
    "def logistic(train_features, train_target, balanced=False):\n",
    "    best_c = 0\n",
    "    best_score = 0\n",
    "    best_model = None\n",
    "\n",
    "    for c in np.arange(0.1, 2, 0.1):\n",
    "        if balanced:\n",
    "            model = LogisticRegression(C=c, random_state=random_state, solver='liblinear', class_weight='balanced')\n",
    "        else:\n",
    "            model = LogisticRegression(C=c, random_state=random_state, solver='liblinear')\n",
    "            \n",
    "        model.fit(train_features, train_target)\n",
    "\n",
    "        predicted_valid = model.predict(features_valid)\n",
    "\n",
    "        score = f1_score(target_valid, predicted_valid)\n",
    "\n",
    "        if score > best_score:\n",
    "            best_score = score\n",
    "            best_c = c\n",
    "            best_model = model\n",
    "            \n",
    "    auc_roc_metric = auc_roc(best_model, features_valid, target_valid)\n",
    "    \n",
    "    return best_c, best_score, auc_roc_metric"
   ]
  },
  {
   "cell_type": "code",
   "execution_count": 35,
   "metadata": {},
   "outputs": [],
   "source": [
    "index_name = ['non_balanced', 'balanced', 'upsampled', 'downsampled']\n",
    "\n",
    "tree_table = []\n",
    "forest_table = []\n",
    "logistic_table = []\n",
    "main_table = {}"
   ]
  },
  {
   "cell_type": "markdown",
   "metadata": {},
   "source": [
    "### Дерево."
   ]
  },
  {
   "cell_type": "code",
   "execution_count": 36,
   "metadata": {},
   "outputs": [
    {
     "name": "stdout",
     "output_type": "stream",
     "text": [
      "CPU times: user 402 ms, sys: 4.06 ms, total: 406 ms\n",
      "Wall time: 405 ms\n"
     ]
    }
   ],
   "source": [
    "%%time\n",
    "depth, score, auc_roc_metric = tree(features_train, target_train)"
   ]
  },
  {
   "cell_type": "code",
   "execution_count": 37,
   "metadata": {},
   "outputs": [],
   "source": [
    "tree_table.append([score, auc_roc_metric, depth])\n",
    "main_table['tree_non_balanced'] = [score, auc_roc_metric]"
   ]
  },
  {
   "cell_type": "code",
   "execution_count": 38,
   "metadata": {},
   "outputs": [
    {
     "name": "stdout",
     "output_type": "stream",
     "text": [
      "F1 score: 0.5608011444921316\n",
      "AUC-ROC score: 0.8468610376210971\n",
      "depth: 5\n"
     ]
    }
   ],
   "source": [
    "print('F1 score:', score)\n",
    "print('AUC-ROC score:', auc_roc_metric)\n",
    "print('depth:', depth)"
   ]
  },
  {
   "cell_type": "markdown",
   "metadata": {},
   "source": [
    "### Случайный лес."
   ]
  },
  {
   "cell_type": "code",
   "execution_count": 39,
   "metadata": {},
   "outputs": [
    {
     "name": "stdout",
     "output_type": "stream",
     "text": [
      "CPU times: user 42.5 s, sys: 108 ms, total: 42.6 s\n",
      "Wall time: 42.9 s\n"
     ]
    }
   ],
   "source": [
    "%%time\n",
    "depth, est, score, auc_roc_metric = forest(features_train, target_train)"
   ]
  },
  {
   "cell_type": "code",
   "execution_count": 40,
   "metadata": {},
   "outputs": [],
   "source": [
    "forest_table.append([score, auc_roc_metric, depth, est])\n",
    "main_table['forest_non_balanced'] = [score, auc_roc_metric]"
   ]
  },
  {
   "cell_type": "code",
   "execution_count": 41,
   "metadata": {},
   "outputs": [
    {
     "name": "stdout",
     "output_type": "stream",
     "text": [
      "F1 score: 0.5789473684210527\n",
      "AUC-ROC score: 0.8595532634280771\n",
      "depth: 15\n",
      "est: 100\n"
     ]
    }
   ],
   "source": [
    "print('F1 score:', score)\n",
    "print('AUC-ROC score:', auc_roc_metric)\n",
    "print('depth:', depth)\n",
    "print('est:', est)"
   ]
  },
  {
   "cell_type": "markdown",
   "metadata": {},
   "source": [
    "### Логистическая регрессия."
   ]
  },
  {
   "cell_type": "code",
   "execution_count": 42,
   "metadata": {},
   "outputs": [
    {
     "name": "stdout",
     "output_type": "stream",
     "text": [
      "CPU times: user 1.11 s, sys: 1 s, total: 2.11 s\n",
      "Wall time: 2.08 s\n"
     ]
    }
   ],
   "source": [
    "%%time\n",
    "c, score, auc_roc_metric = logistic(features_train, target_train)"
   ]
  },
  {
   "cell_type": "code",
   "execution_count": 43,
   "metadata": {},
   "outputs": [],
   "source": [
    "logistic_table.append([score, auc_roc_metric, c])\n",
    "main_table['logistic_non_balanced'] = [score, auc_roc_metric]"
   ]
  },
  {
   "cell_type": "code",
   "execution_count": 44,
   "metadata": {},
   "outputs": [
    {
     "name": "stdout",
     "output_type": "stream",
     "text": [
      "F1 score: 0.3012259194395797\n",
      "AUC-ROC score: 0.7585067689389597\n",
      "C: 0.4\n"
     ]
    }
   ],
   "source": [
    "print('F1 score:', score)\n",
    "print('AUC-ROC score:', auc_roc_metric)\n",
    "print('C:', c)"
   ]
  },
  {
   "cell_type": "markdown",
   "metadata": {},
   "source": [
    "### Вывод."
   ]
  },
  {
   "cell_type": "markdown",
   "metadata": {},
   "source": [
    "- Без учета дисбаланса классов лучшие показатели F1-меры выдают модели случайного леса и решающего дерева.\n",
    "- С метрикой AUC-ROC ситуация аналогичная.\n",
    "- Худшие показатели - логистическая регрессия."
   ]
  },
  {
   "cell_type": "markdown",
   "metadata": {},
   "source": [
    "## Борьба с дисбалансом"
   ]
  },
  {
   "cell_type": "markdown",
   "metadata": {},
   "source": [
    "Проверим балансировку классов на всех моделях. Также подберем гиперпараметры, при которых модели выдают наилучшие результаты. Полученные результаты запишем в таблицу, чтобы можно было их удобно сравнить."
   ]
  },
  {
   "cell_type": "markdown",
   "metadata": {},
   "source": [
    "### Class weight."
   ]
  },
  {
   "cell_type": "markdown",
   "metadata": {},
   "source": [
    "#### Дерево."
   ]
  },
  {
   "cell_type": "code",
   "execution_count": 45,
   "metadata": {},
   "outputs": [
    {
     "name": "stdout",
     "output_type": "stream",
     "text": [
      "CPU times: user 329 ms, sys: 0 ns, total: 329 ms\n",
      "Wall time: 336 ms\n"
     ]
    }
   ],
   "source": [
    "%%time\n",
    "depth, score, auc_roc_metric = tree(features_train, target_train, balanced=True)"
   ]
  },
  {
   "cell_type": "code",
   "execution_count": 46,
   "metadata": {},
   "outputs": [],
   "source": [
    "tree_table.append([score, auc_roc_metric, depth])\n",
    "main_table['tree_balanced'] = [score, auc_roc_metric]"
   ]
  },
  {
   "cell_type": "code",
   "execution_count": 47,
   "metadata": {},
   "outputs": [
    {
     "name": "stdout",
     "output_type": "stream",
     "text": [
      "F1 score: 0.595617529880478\n",
      "AUC-ROC score: 0.8077354835924135\n",
      "depth: 8\n"
     ]
    }
   ],
   "source": [
    "print('F1 score:', score)\n",
    "print('AUC-ROC score:', auc_roc_metric)\n",
    "print('depth:', depth)"
   ]
  },
  {
   "cell_type": "markdown",
   "metadata": {},
   "source": [
    "#### Случайный лес."
   ]
  },
  {
   "cell_type": "code",
   "execution_count": 48,
   "metadata": {},
   "outputs": [
    {
     "name": "stdout",
     "output_type": "stream",
     "text": [
      "CPU times: user 41.6 s, sys: 118 ms, total: 41.7 s\n",
      "Wall time: 41.8 s\n"
     ]
    }
   ],
   "source": [
    "%%time\n",
    "depth, est, score, auc_roc_metric = forest(features_train, target_train, balanced=True)"
   ]
  },
  {
   "cell_type": "code",
   "execution_count": 49,
   "metadata": {},
   "outputs": [],
   "source": [
    "forest_table.append([score, auc_roc_metric, depth, est])\n",
    "main_table['forest_balanced'] = [score, auc_roc_metric]"
   ]
  },
  {
   "cell_type": "code",
   "execution_count": 50,
   "metadata": {},
   "outputs": [
    {
     "name": "stdout",
     "output_type": "stream",
     "text": [
      "F1 score: 0.6478209658421673\n",
      "AUC-ROC score: 0.8669437864668864\n",
      "depth: 10\n",
      "est: 90\n"
     ]
    }
   ],
   "source": [
    "print('F1 score:', score)\n",
    "print('AUC-ROC score:', auc_roc_metric)\n",
    "print('depth:', depth)\n",
    "print('est:', est)"
   ]
  },
  {
   "cell_type": "markdown",
   "metadata": {},
   "source": [
    "#### Логистическая регрессия."
   ]
  },
  {
   "cell_type": "code",
   "execution_count": 51,
   "metadata": {},
   "outputs": [
    {
     "name": "stdout",
     "output_type": "stream",
     "text": [
      "CPU times: user 954 ms, sys: 810 ms, total: 1.76 s\n",
      "Wall time: 1.75 s\n"
     ]
    }
   ],
   "source": [
    "%%time\n",
    "c, score, auc_roc_metric = logistic(features_train, target_train, balanced=True)"
   ]
  },
  {
   "cell_type": "code",
   "execution_count": 52,
   "metadata": {},
   "outputs": [],
   "source": [
    "logistic_table.append([score, auc_roc_metric, c])\n",
    "main_table['logistic_balanced'] = [score, auc_roc_metric]"
   ]
  },
  {
   "cell_type": "code",
   "execution_count": 53,
   "metadata": {},
   "outputs": [
    {
     "name": "stdout",
     "output_type": "stream",
     "text": [
      "F1 score: 0.5029337803855826\n",
      "AUC-ROC score: 0.7638829129142094\n",
      "C: 0.6\n"
     ]
    }
   ],
   "source": [
    "print('F1 score:', score)\n",
    "print('AUC-ROC score:', auc_roc_metric)\n",
    "print('C:', c)"
   ]
  },
  {
   "cell_type": "markdown",
   "metadata": {},
   "source": [
    "### Upsampling."
   ]
  },
  {
   "cell_type": "code",
   "execution_count": 54,
   "metadata": {},
   "outputs": [
    {
     "data": {
      "text/plain": [
       "0    0.796833\n",
       "1    0.203167\n",
       "Name: exited, dtype: float64"
      ]
     },
     "execution_count": 54,
     "metadata": {},
     "output_type": "execute_result"
    }
   ],
   "source": [
    "target_train.value_counts(normalize=True)"
   ]
  },
  {
   "cell_type": "code",
   "execution_count": 55,
   "metadata": {},
   "outputs": [],
   "source": [
    "def upsampling(features, target, repeat):\n",
    "    features_zeros = features[target == 0]\n",
    "    features_ones = features[target == 1]\n",
    "    target_zeros = target[target == 0]\n",
    "    target_ones = target[target == 1]\n",
    "    \n",
    "    features_upsampled = pd.concat([features_zeros] + [features_ones] * repeat)\n",
    "    target_upsampled = pd.concat([target_zeros] + [target_ones] * repeat)\n",
    "    \n",
    "    return shuffle(features_upsampled, target_upsampled, random_state=random_state)"
   ]
  },
  {
   "cell_type": "code",
   "execution_count": 56,
   "metadata": {},
   "outputs": [],
   "source": [
    "features_upsampled, target_upsampled = upsampling(features_train, target_train, 4)"
   ]
  },
  {
   "cell_type": "code",
   "execution_count": 57,
   "metadata": {},
   "outputs": [
    {
     "name": "stdout",
     "output_type": "stream",
     "text": [
      "(9657, 11)\n",
      "(9657,)\n"
     ]
    }
   ],
   "source": [
    "print(features_upsampled.shape)\n",
    "print(target_upsampled.shape)"
   ]
  },
  {
   "cell_type": "markdown",
   "metadata": {},
   "source": [
    "---"
   ]
  },
  {
   "cell_type": "markdown",
   "metadata": {},
   "source": [
    "#### Дерево."
   ]
  },
  {
   "cell_type": "code",
   "execution_count": 58,
   "metadata": {},
   "outputs": [
    {
     "name": "stdout",
     "output_type": "stream",
     "text": [
      "CPU times: user 410 ms, sys: 0 ns, total: 410 ms\n",
      "Wall time: 409 ms\n"
     ]
    }
   ],
   "source": [
    "%%time\n",
    "depth, score, auc_roc_metric = tree(features_upsampled, target_upsampled)"
   ]
  },
  {
   "cell_type": "code",
   "execution_count": 59,
   "metadata": {},
   "outputs": [],
   "source": [
    "tree_table.append([score, auc_roc_metric, depth])\n",
    "main_table['tree_upsampled'] = [score, auc_roc_metric]"
   ]
  },
  {
   "cell_type": "code",
   "execution_count": 60,
   "metadata": {},
   "outputs": [
    {
     "name": "stdout",
     "output_type": "stream",
     "text": [
      "F1 score: 0.5933852140077821\n",
      "AUC-ROC score: 0.8190259814700948\n",
      "depth: 6\n"
     ]
    }
   ],
   "source": [
    "print('F1 score:', score)\n",
    "print('AUC-ROC score:', auc_roc_metric)\n",
    "print('depth:', depth)"
   ]
  },
  {
   "cell_type": "markdown",
   "metadata": {},
   "source": [
    "#### Случайный лес."
   ]
  },
  {
   "cell_type": "code",
   "execution_count": 61,
   "metadata": {},
   "outputs": [
    {
     "name": "stdout",
     "output_type": "stream",
     "text": [
      "CPU times: user 57.9 s, sys: 122 ms, total: 58 s\n",
      "Wall time: 58.4 s\n"
     ]
    }
   ],
   "source": [
    "%%time\n",
    "depth, est, score, auc_roc_metric = forest(features_upsampled, target_upsampled)"
   ]
  },
  {
   "cell_type": "code",
   "execution_count": 62,
   "metadata": {},
   "outputs": [],
   "source": [
    "forest_table.append([score, auc_roc_metric, depth, est])\n",
    "main_table['forest_upsampled'] = [score, auc_roc_metric]"
   ]
  },
  {
   "cell_type": "code",
   "execution_count": 63,
   "metadata": {},
   "outputs": [
    {
     "name": "stdout",
     "output_type": "stream",
     "text": [
      "F1 score: 0.6475583864118897\n",
      "AUC-ROC score: 0.8665983792660393\n",
      "depth: 10\n",
      "est: 90\n"
     ]
    }
   ],
   "source": [
    "print('F1 score:', score)\n",
    "print('AUC-ROC score:', auc_roc_metric)\n",
    "print('depth:', depth)\n",
    "print('est:', est)"
   ]
  },
  {
   "cell_type": "markdown",
   "metadata": {},
   "source": [
    "#### Логистическая регрессия."
   ]
  },
  {
   "cell_type": "code",
   "execution_count": 64,
   "metadata": {},
   "outputs": [
    {
     "name": "stdout",
     "output_type": "stream",
     "text": [
      "CPU times: user 1.45 s, sys: 1.63 s, total: 3.08 s\n",
      "Wall time: 2.99 s\n"
     ]
    }
   ],
   "source": [
    "%%time\n",
    "c, score, auc_roc_metric = logistic(features_upsampled, target_upsampled)"
   ]
  },
  {
   "cell_type": "code",
   "execution_count": 65,
   "metadata": {},
   "outputs": [],
   "source": [
    "logistic_table.append([score, auc_roc_metric, c])\n",
    "main_table['logistic_upsampled'] = [score, auc_roc_metric]"
   ]
  },
  {
   "cell_type": "code",
   "execution_count": 66,
   "metadata": {},
   "outputs": [
    {
     "name": "stdout",
     "output_type": "stream",
     "text": [
      "F1 score: 0.505804311774461\n",
      "AUC-ROC score: 0.7642580965978879\n",
      "C: 0.1\n"
     ]
    }
   ],
   "source": [
    "print('F1 score:', score)\n",
    "print('AUC-ROC score:', auc_roc_metric)\n",
    "print('C:', c)"
   ]
  },
  {
   "cell_type": "markdown",
   "metadata": {},
   "source": [
    "### Downsampling."
   ]
  },
  {
   "cell_type": "code",
   "execution_count": 67,
   "metadata": {},
   "outputs": [],
   "source": [
    "def downsampling(features, target, fraction):\n",
    "    features_zeros = features[target == 0]\n",
    "    features_ones = features[target == 1]\n",
    "    target_zeros = target[target == 0]\n",
    "    target_ones = target[target == 1]\n",
    "    \n",
    "    features_downsampled = pd.concat([features_zeros.sample(frac=fraction, random_state=random_state)] + [features_ones])\n",
    "    target_downsampled = pd.concat([target_zeros.sample(frac=fraction, random_state=random_state)] + [target_ones])\n",
    "    \n",
    "    return shuffle(features_downsampled, target_downsampled, random_state=random_state)"
   ]
  },
  {
   "cell_type": "code",
   "execution_count": 68,
   "metadata": {},
   "outputs": [],
   "source": [
    "features_downsampled, target_downsampled = downsampling(features_train, target_train, 0.25)"
   ]
  },
  {
   "cell_type": "code",
   "execution_count": 69,
   "metadata": {},
   "outputs": [
    {
     "name": "stdout",
     "output_type": "stream",
     "text": [
      "(2414, 11)\n",
      "(2414,)\n"
     ]
    }
   ],
   "source": [
    "print(features_downsampled.shape)\n",
    "print(target_downsampled.shape)"
   ]
  },
  {
   "cell_type": "markdown",
   "metadata": {},
   "source": [
    "---"
   ]
  },
  {
   "cell_type": "markdown",
   "metadata": {},
   "source": [
    "#### Дерево."
   ]
  },
  {
   "cell_type": "code",
   "execution_count": 70,
   "metadata": {},
   "outputs": [
    {
     "name": "stdout",
     "output_type": "stream",
     "text": [
      "CPU times: user 166 ms, sys: 94 µs, total: 166 ms\n",
      "Wall time: 166 ms\n"
     ]
    }
   ],
   "source": [
    "%%time\n",
    "depth, score, auc_roc_metric = tree(features_downsampled, target_downsampled)"
   ]
  },
  {
   "cell_type": "code",
   "execution_count": 71,
   "metadata": {},
   "outputs": [],
   "source": [
    "tree_table.append([score, auc_roc_metric, depth])\n",
    "main_table['tree_downsampled'] = [score, auc_roc_metric]"
   ]
  },
  {
   "cell_type": "code",
   "execution_count": 72,
   "metadata": {},
   "outputs": [
    {
     "name": "stdout",
     "output_type": "stream",
     "text": [
      "F1 score: 0.5839285714285714\n",
      "AUC-ROC score: 0.818658986319195\n",
      "depth: 7\n"
     ]
    }
   ],
   "source": [
    "print('F1 score:', score)\n",
    "print('AUC-ROC score:', auc_roc_metric)\n",
    "print('depth:', depth)"
   ]
  },
  {
   "cell_type": "markdown",
   "metadata": {},
   "source": [
    "#### Случайный лес."
   ]
  },
  {
   "cell_type": "code",
   "execution_count": 73,
   "metadata": {},
   "outputs": [
    {
     "name": "stdout",
     "output_type": "stream",
     "text": [
      "CPU times: user 25 s, sys: 114 ms, total: 25.2 s\n",
      "Wall time: 25.2 s\n"
     ]
    }
   ],
   "source": [
    "%%time\n",
    "depth, est, score, auc_roc_metric = forest(features_downsampled, target_downsampled)"
   ]
  },
  {
   "cell_type": "code",
   "execution_count": 74,
   "metadata": {},
   "outputs": [],
   "source": [
    "forest_table.append([score, auc_roc_metric, depth, est])\n",
    "main_table['forest_downsampled'] = [score, auc_roc_metric]"
   ]
  },
  {
   "cell_type": "code",
   "execution_count": 75,
   "metadata": {},
   "outputs": [
    {
     "name": "stdout",
     "output_type": "stream",
     "text": [
      "F1 score: 0.6216955332725616\n",
      "AUC-ROC score: 0.8625130458215404\n",
      "depth: 9\n",
      "est: 60\n"
     ]
    }
   ],
   "source": [
    "print('F1 score:', score)\n",
    "print('AUC-ROC score:', auc_roc_metric)\n",
    "print('depth:', depth)\n",
    "print('est:', est)"
   ]
  },
  {
   "cell_type": "markdown",
   "metadata": {},
   "source": [
    "#### Логистическая регрессия."
   ]
  },
  {
   "cell_type": "code",
   "execution_count": 76,
   "metadata": {},
   "outputs": [
    {
     "name": "stdout",
     "output_type": "stream",
     "text": [
      "CPU times: user 931 ms, sys: 921 ms, total: 1.85 s\n",
      "Wall time: 1.8 s\n"
     ]
    }
   ],
   "source": [
    "%%time\n",
    "c, score, auc_roc_metric = logistic(features_downsampled, target_downsampled)"
   ]
  },
  {
   "cell_type": "code",
   "execution_count": 77,
   "metadata": {},
   "outputs": [],
   "source": [
    "logistic_table.append([score, auc_roc_metric, c])\n",
    "main_table['logistic_downsampled'] = [score, auc_roc_metric]"
   ]
  },
  {
   "cell_type": "code",
   "execution_count": 78,
   "metadata": {},
   "outputs": [
    {
     "name": "stdout",
     "output_type": "stream",
     "text": [
      "F1 score: 0.4991680532445924\n",
      "AUC-ROC score: 0.7667846311661511\n",
      "C: 0.6\n"
     ]
    }
   ],
   "source": [
    "print('F1 score:', score)\n",
    "print('AUC-ROC score:', auc_roc_metric)\n",
    "print('C:', c)"
   ]
  },
  {
   "cell_type": "code",
   "execution_count": 79,
   "metadata": {
    "scrolled": true
   },
   "outputs": [
    {
     "data": {
      "text/html": [
       "<div>\n",
       "<style scoped>\n",
       "    .dataframe tbody tr th:only-of-type {\n",
       "        vertical-align: middle;\n",
       "    }\n",
       "\n",
       "    .dataframe tbody tr th {\n",
       "        vertical-align: top;\n",
       "    }\n",
       "\n",
       "    .dataframe thead th {\n",
       "        text-align: right;\n",
       "    }\n",
       "</style>\n",
       "<table border=\"1\" class=\"dataframe\">\n",
       "  <thead>\n",
       "    <tr style=\"text-align: right;\">\n",
       "      <th></th>\n",
       "      <th>f1_score</th>\n",
       "      <th>auc_roc_score</th>\n",
       "      <th>max_depth</th>\n",
       "    </tr>\n",
       "  </thead>\n",
       "  <tbody>\n",
       "    <tr>\n",
       "      <th>balanced</th>\n",
       "      <td>0.595618</td>\n",
       "      <td>0.807735</td>\n",
       "      <td>8</td>\n",
       "    </tr>\n",
       "    <tr>\n",
       "      <th>upsampled</th>\n",
       "      <td>0.593385</td>\n",
       "      <td>0.819026</td>\n",
       "      <td>6</td>\n",
       "    </tr>\n",
       "    <tr>\n",
       "      <th>downsampled</th>\n",
       "      <td>0.583929</td>\n",
       "      <td>0.818659</td>\n",
       "      <td>7</td>\n",
       "    </tr>\n",
       "    <tr>\n",
       "      <th>non_balanced</th>\n",
       "      <td>0.560801</td>\n",
       "      <td>0.846861</td>\n",
       "      <td>5</td>\n",
       "    </tr>\n",
       "  </tbody>\n",
       "</table>\n",
       "</div>"
      ],
      "text/plain": [
       "              f1_score  auc_roc_score  max_depth\n",
       "balanced      0.595618       0.807735          8\n",
       "upsampled     0.593385       0.819026          6\n",
       "downsampled   0.583929       0.818659          7\n",
       "non_balanced  0.560801       0.846861          5"
      ]
     },
     "execution_count": 79,
     "metadata": {},
     "output_type": "execute_result"
    }
   ],
   "source": [
    "pd.DataFrame(tree_table,\n",
    "             columns=['f1_score', 'auc_roc_score', 'max_depth'],\n",
    "             index=index_name)\\\n",
    ".sort_values(by='f1_score', ascending=False)"
   ]
  },
  {
   "cell_type": "code",
   "execution_count": 80,
   "metadata": {
    "scrolled": true
   },
   "outputs": [
    {
     "data": {
      "text/html": [
       "<div>\n",
       "<style scoped>\n",
       "    .dataframe tbody tr th:only-of-type {\n",
       "        vertical-align: middle;\n",
       "    }\n",
       "\n",
       "    .dataframe tbody tr th {\n",
       "        vertical-align: top;\n",
       "    }\n",
       "\n",
       "    .dataframe thead th {\n",
       "        text-align: right;\n",
       "    }\n",
       "</style>\n",
       "<table border=\"1\" class=\"dataframe\">\n",
       "  <thead>\n",
       "    <tr style=\"text-align: right;\">\n",
       "      <th></th>\n",
       "      <th>f1_score</th>\n",
       "      <th>auc_roc_score</th>\n",
       "      <th>max_depth</th>\n",
       "      <th>n_est</th>\n",
       "    </tr>\n",
       "  </thead>\n",
       "  <tbody>\n",
       "    <tr>\n",
       "      <th>balanced</th>\n",
       "      <td>0.647821</td>\n",
       "      <td>0.866944</td>\n",
       "      <td>10</td>\n",
       "      <td>90</td>\n",
       "    </tr>\n",
       "    <tr>\n",
       "      <th>upsampled</th>\n",
       "      <td>0.647558</td>\n",
       "      <td>0.866598</td>\n",
       "      <td>10</td>\n",
       "      <td>90</td>\n",
       "    </tr>\n",
       "    <tr>\n",
       "      <th>downsampled</th>\n",
       "      <td>0.621696</td>\n",
       "      <td>0.862513</td>\n",
       "      <td>9</td>\n",
       "      <td>60</td>\n",
       "    </tr>\n",
       "    <tr>\n",
       "      <th>non_balanced</th>\n",
       "      <td>0.578947</td>\n",
       "      <td>0.859553</td>\n",
       "      <td>15</td>\n",
       "      <td>100</td>\n",
       "    </tr>\n",
       "  </tbody>\n",
       "</table>\n",
       "</div>"
      ],
      "text/plain": [
       "              f1_score  auc_roc_score  max_depth  n_est\n",
       "balanced      0.647821       0.866944         10     90\n",
       "upsampled     0.647558       0.866598         10     90\n",
       "downsampled   0.621696       0.862513          9     60\n",
       "non_balanced  0.578947       0.859553         15    100"
      ]
     },
     "execution_count": 80,
     "metadata": {},
     "output_type": "execute_result"
    }
   ],
   "source": [
    "pd.DataFrame(forest_table,\n",
    "             columns=['f1_score', 'auc_roc_score', 'max_depth', 'n_est'],\n",
    "             index=index_name)\\\n",
    ".sort_values(by='f1_score', ascending=False)"
   ]
  },
  {
   "cell_type": "code",
   "execution_count": 81,
   "metadata": {
    "scrolled": true
   },
   "outputs": [
    {
     "data": {
      "text/html": [
       "<div>\n",
       "<style scoped>\n",
       "    .dataframe tbody tr th:only-of-type {\n",
       "        vertical-align: middle;\n",
       "    }\n",
       "\n",
       "    .dataframe tbody tr th {\n",
       "        vertical-align: top;\n",
       "    }\n",
       "\n",
       "    .dataframe thead th {\n",
       "        text-align: right;\n",
       "    }\n",
       "</style>\n",
       "<table border=\"1\" class=\"dataframe\">\n",
       "  <thead>\n",
       "    <tr style=\"text-align: right;\">\n",
       "      <th></th>\n",
       "      <th>f1_score</th>\n",
       "      <th>auc_roc_score</th>\n",
       "      <th>c</th>\n",
       "    </tr>\n",
       "  </thead>\n",
       "  <tbody>\n",
       "    <tr>\n",
       "      <th>upsampled</th>\n",
       "      <td>0.505804</td>\n",
       "      <td>0.764258</td>\n",
       "      <td>0.1</td>\n",
       "    </tr>\n",
       "    <tr>\n",
       "      <th>balanced</th>\n",
       "      <td>0.502934</td>\n",
       "      <td>0.763883</td>\n",
       "      <td>0.6</td>\n",
       "    </tr>\n",
       "    <tr>\n",
       "      <th>downsampled</th>\n",
       "      <td>0.499168</td>\n",
       "      <td>0.766785</td>\n",
       "      <td>0.6</td>\n",
       "    </tr>\n",
       "    <tr>\n",
       "      <th>non_balanced</th>\n",
       "      <td>0.301226</td>\n",
       "      <td>0.758507</td>\n",
       "      <td>0.4</td>\n",
       "    </tr>\n",
       "  </tbody>\n",
       "</table>\n",
       "</div>"
      ],
      "text/plain": [
       "              f1_score  auc_roc_score    c\n",
       "upsampled     0.505804       0.764258  0.1\n",
       "balanced      0.502934       0.763883  0.6\n",
       "downsampled   0.499168       0.766785  0.6\n",
       "non_balanced  0.301226       0.758507  0.4"
      ]
     },
     "execution_count": 81,
     "metadata": {},
     "output_type": "execute_result"
    }
   ],
   "source": [
    "pd.DataFrame(logistic_table,\n",
    "             columns=['f1_score', 'auc_roc_score', 'c'],\n",
    "             index=index_name)\\\n",
    ".sort_values(by='f1_score', ascending=False)"
   ]
  },
  {
   "cell_type": "code",
   "execution_count": 82,
   "metadata": {},
   "outputs": [
    {
     "data": {
      "text/html": [
       "<div>\n",
       "<style scoped>\n",
       "    .dataframe tbody tr th:only-of-type {\n",
       "        vertical-align: middle;\n",
       "    }\n",
       "\n",
       "    .dataframe tbody tr th {\n",
       "        vertical-align: top;\n",
       "    }\n",
       "\n",
       "    .dataframe thead th {\n",
       "        text-align: right;\n",
       "    }\n",
       "</style>\n",
       "<table border=\"1\" class=\"dataframe\">\n",
       "  <thead>\n",
       "    <tr style=\"text-align: right;\">\n",
       "      <th></th>\n",
       "      <th>f1_score</th>\n",
       "      <th>auc_roc_score</th>\n",
       "    </tr>\n",
       "  </thead>\n",
       "  <tbody>\n",
       "    <tr>\n",
       "      <th>forest_balanced</th>\n",
       "      <td>0.647821</td>\n",
       "      <td>0.866944</td>\n",
       "    </tr>\n",
       "    <tr>\n",
       "      <th>forest_upsampled</th>\n",
       "      <td>0.647558</td>\n",
       "      <td>0.866598</td>\n",
       "    </tr>\n",
       "    <tr>\n",
       "      <th>forest_downsampled</th>\n",
       "      <td>0.621696</td>\n",
       "      <td>0.862513</td>\n",
       "    </tr>\n",
       "    <tr>\n",
       "      <th>tree_balanced</th>\n",
       "      <td>0.595618</td>\n",
       "      <td>0.807735</td>\n",
       "    </tr>\n",
       "    <tr>\n",
       "      <th>tree_upsampled</th>\n",
       "      <td>0.593385</td>\n",
       "      <td>0.819026</td>\n",
       "    </tr>\n",
       "    <tr>\n",
       "      <th>tree_downsampled</th>\n",
       "      <td>0.583929</td>\n",
       "      <td>0.818659</td>\n",
       "    </tr>\n",
       "    <tr>\n",
       "      <th>forest_non_balanced</th>\n",
       "      <td>0.578947</td>\n",
       "      <td>0.859553</td>\n",
       "    </tr>\n",
       "    <tr>\n",
       "      <th>tree_non_balanced</th>\n",
       "      <td>0.560801</td>\n",
       "      <td>0.846861</td>\n",
       "    </tr>\n",
       "    <tr>\n",
       "      <th>logistic_upsampled</th>\n",
       "      <td>0.505804</td>\n",
       "      <td>0.764258</td>\n",
       "    </tr>\n",
       "    <tr>\n",
       "      <th>logistic_balanced</th>\n",
       "      <td>0.502934</td>\n",
       "      <td>0.763883</td>\n",
       "    </tr>\n",
       "    <tr>\n",
       "      <th>logistic_downsampled</th>\n",
       "      <td>0.499168</td>\n",
       "      <td>0.766785</td>\n",
       "    </tr>\n",
       "    <tr>\n",
       "      <th>logistic_non_balanced</th>\n",
       "      <td>0.301226</td>\n",
       "      <td>0.758507</td>\n",
       "    </tr>\n",
       "  </tbody>\n",
       "</table>\n",
       "</div>"
      ],
      "text/plain": [
       "                       f1_score  auc_roc_score\n",
       "forest_balanced        0.647821       0.866944\n",
       "forest_upsampled       0.647558       0.866598\n",
       "forest_downsampled     0.621696       0.862513\n",
       "tree_balanced          0.595618       0.807735\n",
       "tree_upsampled         0.593385       0.819026\n",
       "tree_downsampled       0.583929       0.818659\n",
       "forest_non_balanced    0.578947       0.859553\n",
       "tree_non_balanced      0.560801       0.846861\n",
       "logistic_upsampled     0.505804       0.764258\n",
       "logistic_balanced      0.502934       0.763883\n",
       "logistic_downsampled   0.499168       0.766785\n",
       "logistic_non_balanced  0.301226       0.758507"
      ]
     },
     "execution_count": 82,
     "metadata": {},
     "output_type": "execute_result"
    }
   ],
   "source": [
    "pd.DataFrame(main_table, index=['f1_score', 'auc_roc_score']).transpose().sort_values(by='f1_score', ascending=False)"
   ]
  },
  {
   "cell_type": "markdown",
   "metadata": {},
   "source": [
    "### Вывод."
   ]
  },
  {
   "cell_type": "markdown",
   "metadata": {},
   "source": [
    "- Балансировка классов для модели логистической регрессии улучшила показатели F1-меры в 1.7 раза. При этом метрика AUC-ROC осталась примерно на том же уровне.\n",
    "- Для случайного леса и решающего дерева F1-мера также увеличилась.\n",
    "- Проводить тестрование будем на модели случайный лес, так как она показала наилучший результат как F1-меры (0.65), так и AUC-ROC метрики (0.87).\n",
    "- Оптимальными гиперпараметрами для модели будут: `max_depth=10`, `n_estimators=90`, `class_weight='balanced'`."
   ]
  },
  {
   "cell_type": "markdown",
   "metadata": {},
   "source": [
    "## Тестирование модели"
   ]
  },
  {
   "cell_type": "markdown",
   "metadata": {},
   "source": [
    "### Проверка на тестовых данных."
   ]
  },
  {
   "cell_type": "code",
   "execution_count": 83,
   "metadata": {},
   "outputs": [],
   "source": [
    "model_forest = RandomForestClassifier(max_depth=10, n_estimators=90, class_weight='balanced', random_state=random_state)\n",
    "model_forest.fit(features_train, target_train)\n",
    "predicted_test = model_forest.predict(features_test)"
   ]
  },
  {
   "cell_type": "code",
   "execution_count": 84,
   "metadata": {},
   "outputs": [
    {
     "name": "stdout",
     "output_type": "stream",
     "text": [
      "F1 score: 0.5952080706179067\n"
     ]
    }
   ],
   "source": [
    "print('F1 score:', f1_score(target_test, predicted_test))"
   ]
  },
  {
   "cell_type": "code",
   "execution_count": 85,
   "metadata": {},
   "outputs": [
    {
     "name": "stdout",
     "output_type": "stream",
     "text": [
      "AUC-ROC score: 0.854459967033264\n"
     ]
    }
   ],
   "source": [
    "print('AUC-ROC score:', auc_roc(model_forest, features_test, target_test))"
   ]
  },
  {
   "cell_type": "markdown",
   "metadata": {},
   "source": [
    "### Проверка на адекватность."
   ]
  },
  {
   "cell_type": "markdown",
   "metadata": {},
   "source": [
    "Для проверки модели на адекватность создадим объект целевого признака, где все ответы будут нулями."
   ]
  },
  {
   "cell_type": "code",
   "execution_count": 86,
   "metadata": {},
   "outputs": [
    {
     "data": {
      "text/plain": [
       "(2000,)"
      ]
     },
     "execution_count": 86,
     "metadata": {},
     "output_type": "execute_result"
    }
   ],
   "source": [
    "target_pred_const = pd.Series([0 for i in range(len(target_test))])\n",
    "target_pred_const.shape"
   ]
  },
  {
   "cell_type": "code",
   "execution_count": 87,
   "metadata": {},
   "outputs": [
    {
     "name": "stdout",
     "output_type": "stream",
     "text": [
      "Accuracy тестовой модели: 0.8395\n",
      "Accuracy случайной модели: 0.8045\n"
     ]
    }
   ],
   "source": [
    "print('Accuracy тестовой модели:', accuracy_score(target_test, predicted_test))\n",
    "print('Accuracy случайной модели:', accuracy_score(target_test, target_pred_const))"
   ]
  },
  {
   "cell_type": "markdown",
   "metadata": {},
   "source": [
    "Accuracy тестовой модели больше, чем случайной. Исходя из этого, можно сделать вывод, что полученная модель проходит проверку на адекватность."
   ]
  },
  {
   "cell_type": "code",
   "execution_count": 88,
   "metadata": {},
   "outputs": [
    {
     "data": {
      "text/plain": [
       "0.6035805626598465"
      ]
     },
     "execution_count": 88,
     "metadata": {},
     "output_type": "execute_result"
    }
   ],
   "source": [
    "recall_score(target_test, predicted_test)"
   ]
  },
  {
   "cell_type": "markdown",
   "metadata": {},
   "source": [
    "### Вывод."
   ]
  },
  {
   "cell_type": "markdown",
   "metadata": {},
   "source": [
    "В результате исследования было проведено сравнение моделей машинного обучения: дерво решений, случайный лес и логистическая регрессия.\n",
    "\n",
    "Наилучшие показатели на валидационных данных показала модель случайного леса. Исходя из этого она была выбрана для дальнейшей работы с тестовыми данными и для нее были подобраны оптимальные гиперпараметры: `max_depth=10`, `n_estimators=90`, `class_weight='balanced'`.\n",
    "\n",
    "При проверке модели на тестовых данных было достигнуто качество F1-меры, равное 0.5952, что соответствует условию задачи.\n",
    "\n",
    "Также была проведена проверка на адекватность, при которой `accuracy` на константных данных оказалось ниже, чем на тех, которые предсказывает наша модель.\n",
    "\n",
    "Была вычислена метрика `recall`. Она оказалась равна 0.6, это значит, что чуть меньше, чем в 2/3 случаях модель правильно предсказывает уход клиента из банка."
   ]
  }
 ],
 "metadata": {
  "ExecuteTimeLog": [
   {
    "duration": 413,
    "start_time": "2023-01-30T11:10:10.104Z"
   },
   {
    "duration": 198,
    "start_time": "2023-01-30T11:11:08.101Z"
   },
   {
    "duration": 12,
    "start_time": "2023-01-30T11:12:04.373Z"
   },
   {
    "duration": 22,
    "start_time": "2023-01-30T11:12:54.974Z"
   },
   {
    "duration": 13,
    "start_time": "2023-01-30T11:13:51.519Z"
   },
   {
    "duration": 11,
    "start_time": "2023-01-30T11:13:58.695Z"
   },
   {
    "duration": 6,
    "start_time": "2023-01-30T11:16:24.259Z"
   },
   {
    "duration": 8,
    "start_time": "2023-01-30T11:24:03.773Z"
   },
   {
    "duration": 7,
    "start_time": "2023-01-30T11:24:16.379Z"
   },
   {
    "duration": 6,
    "start_time": "2023-01-30T11:24:27.802Z"
   },
   {
    "duration": 6,
    "start_time": "2023-01-30T11:24:33.434Z"
   },
   {
    "duration": 7,
    "start_time": "2023-01-30T11:26:26.013Z"
   },
   {
    "duration": 20,
    "start_time": "2023-01-30T11:26:35.452Z"
   },
   {
    "duration": 5,
    "start_time": "2023-01-30T11:27:04.581Z"
   },
   {
    "duration": 6,
    "start_time": "2023-01-30T11:27:22.605Z"
   },
   {
    "duration": 6,
    "start_time": "2023-01-30T11:29:25.384Z"
   },
   {
    "duration": 29,
    "start_time": "2023-01-30T11:29:36.071Z"
   },
   {
    "duration": 4,
    "start_time": "2023-01-30T11:30:55.794Z"
   },
   {
    "duration": 6,
    "start_time": "2023-01-30T11:31:12.937Z"
   },
   {
    "duration": 4,
    "start_time": "2023-01-30T11:50:18.094Z"
   },
   {
    "duration": 12,
    "start_time": "2023-01-30T11:50:27.142Z"
   },
   {
    "duration": 72,
    "start_time": "2023-01-30T11:51:55.847Z"
   },
   {
    "duration": 50,
    "start_time": "2023-01-30T18:08:36.236Z"
   },
   {
    "duration": 439,
    "start_time": "2023-01-30T18:08:44.034Z"
   },
   {
    "duration": 94,
    "start_time": "2023-01-30T18:08:44.474Z"
   },
   {
    "duration": 12,
    "start_time": "2023-01-30T18:08:44.570Z"
   },
   {
    "duration": 19,
    "start_time": "2023-01-30T18:08:44.584Z"
   },
   {
    "duration": 3,
    "start_time": "2023-01-30T18:08:44.605Z"
   },
   {
    "duration": 27,
    "start_time": "2023-01-30T18:08:44.610Z"
   },
   {
    "duration": 1163,
    "start_time": "2023-02-02T10:53:27.817Z"
   },
   {
    "duration": 10,
    "start_time": "2023-02-02T10:53:44.790Z"
   },
   {
    "duration": 4,
    "start_time": "2023-02-02T10:54:11.547Z"
   },
   {
    "duration": 1138,
    "start_time": "2023-02-02T10:54:20.028Z"
   },
   {
    "duration": 99,
    "start_time": "2023-02-02T10:54:21.168Z"
   },
   {
    "duration": 17,
    "start_time": "2023-02-02T10:54:21.269Z"
   },
   {
    "duration": 4,
    "start_time": "2023-02-02T11:00:01.810Z"
   },
   {
    "duration": 4,
    "start_time": "2023-02-02T11:03:07.185Z"
   },
   {
    "duration": 94,
    "start_time": "2023-02-02T11:03:50.235Z"
   },
   {
    "duration": 10,
    "start_time": "2023-02-02T11:04:11.236Z"
   },
   {
    "duration": 1198,
    "start_time": "2023-02-02T11:04:37.664Z"
   },
   {
    "duration": 55,
    "start_time": "2023-02-02T11:04:38.864Z"
   },
   {
    "duration": 13,
    "start_time": "2023-02-02T11:04:38.921Z"
   },
   {
    "duration": 13,
    "start_time": "2023-02-02T11:04:38.936Z"
   },
   {
    "duration": 8,
    "start_time": "2023-02-02T11:04:38.951Z"
   },
   {
    "duration": 11,
    "start_time": "2023-02-02T11:04:38.961Z"
   },
   {
    "duration": 7,
    "start_time": "2023-02-02T11:14:18.738Z"
   },
   {
    "duration": 103,
    "start_time": "2023-02-02T11:16:49.252Z"
   },
   {
    "duration": 5,
    "start_time": "2023-02-02T11:17:14.799Z"
   },
   {
    "duration": 13,
    "start_time": "2023-02-02T11:17:33.054Z"
   },
   {
    "duration": 24,
    "start_time": "2023-02-02T11:17:57.097Z"
   },
   {
    "duration": 20,
    "start_time": "2023-02-02T11:18:10.700Z"
   },
   {
    "duration": 4,
    "start_time": "2023-02-02T11:22:49.296Z"
   },
   {
    "duration": 5,
    "start_time": "2023-02-02T11:23:07.031Z"
   },
   {
    "duration": 15,
    "start_time": "2023-02-02T11:33:09.965Z"
   },
   {
    "duration": 11,
    "start_time": "2023-02-02T11:33:19.764Z"
   },
   {
    "duration": 13,
    "start_time": "2023-02-02T11:33:37.752Z"
   },
   {
    "duration": 10,
    "start_time": "2023-02-02T11:38:55.253Z"
   },
   {
    "duration": 26,
    "start_time": "2023-02-02T11:39:21.833Z"
   },
   {
    "duration": 7,
    "start_time": "2023-02-02T11:40:06.983Z"
   },
   {
    "duration": 6,
    "start_time": "2023-02-02T11:40:40.337Z"
   },
   {
    "duration": 6,
    "start_time": "2023-02-02T11:42:06.213Z"
   },
   {
    "duration": 6,
    "start_time": "2023-02-02T11:42:12.036Z"
   },
   {
    "duration": 4,
    "start_time": "2023-02-02T11:54:00.324Z"
   },
   {
    "duration": 6,
    "start_time": "2023-02-02T15:46:12.806Z"
   },
   {
    "duration": 27,
    "start_time": "2023-02-02T15:50:40.113Z"
   },
   {
    "duration": 19,
    "start_time": "2023-02-02T15:50:50.815Z"
   },
   {
    "duration": 6,
    "start_time": "2023-02-02T15:51:39.227Z"
   },
   {
    "duration": 51,
    "start_time": "2023-02-02T16:03:51.278Z"
   },
   {
    "duration": 1139,
    "start_time": "2023-02-02T16:03:58.241Z"
   },
   {
    "duration": 218,
    "start_time": "2023-02-02T16:03:59.382Z"
   },
   {
    "duration": 12,
    "start_time": "2023-02-02T16:03:59.602Z"
   },
   {
    "duration": 6,
    "start_time": "2023-02-02T16:03:59.618Z"
   },
   {
    "duration": 8,
    "start_time": "2023-02-02T16:03:59.626Z"
   },
   {
    "duration": 14,
    "start_time": "2023-02-02T16:03:59.635Z"
   },
   {
    "duration": 22,
    "start_time": "2023-02-02T16:03:59.650Z"
   },
   {
    "duration": 17,
    "start_time": "2023-02-02T16:03:59.673Z"
   },
   {
    "duration": 4,
    "start_time": "2023-02-02T16:03:59.692Z"
   },
   {
    "duration": 7,
    "start_time": "2023-02-02T16:03:59.698Z"
   },
   {
    "duration": 12,
    "start_time": "2023-02-02T16:03:59.706Z"
   },
   {
    "duration": 4,
    "start_time": "2023-02-02T16:03:59.719Z"
   },
   {
    "duration": 33,
    "start_time": "2023-02-02T16:03:59.725Z"
   },
   {
    "duration": 5,
    "start_time": "2023-02-02T16:03:59.762Z"
   },
   {
    "duration": 15,
    "start_time": "2023-02-02T16:03:59.768Z"
   },
   {
    "duration": 30,
    "start_time": "2023-02-02T16:03:59.785Z"
   },
   {
    "duration": 5,
    "start_time": "2023-02-02T16:03:59.817Z"
   },
   {
    "duration": 11,
    "start_time": "2023-02-02T16:03:59.824Z"
   },
   {
    "duration": 4,
    "start_time": "2023-02-02T16:04:36.961Z"
   },
   {
    "duration": 1060,
    "start_time": "2023-02-02T16:31:29.193Z"
   },
   {
    "duration": 96,
    "start_time": "2023-02-02T16:31:30.255Z"
   },
   {
    "duration": 15,
    "start_time": "2023-02-02T16:31:30.353Z"
   },
   {
    "duration": 31,
    "start_time": "2023-02-02T16:31:30.371Z"
   },
   {
    "duration": 59,
    "start_time": "2023-02-02T16:31:30.404Z"
   },
   {
    "duration": 51,
    "start_time": "2023-02-02T16:31:30.466Z"
   },
   {
    "duration": 78,
    "start_time": "2023-02-02T16:31:30.519Z"
   },
   {
    "duration": 34,
    "start_time": "2023-02-02T16:31:30.599Z"
   },
   {
    "duration": 37,
    "start_time": "2023-02-02T16:31:30.635Z"
   },
   {
    "duration": 28,
    "start_time": "2023-02-02T16:31:30.675Z"
   },
   {
    "duration": 58,
    "start_time": "2023-02-02T16:31:30.705Z"
   },
   {
    "duration": 45,
    "start_time": "2023-02-02T16:31:30.765Z"
   },
   {
    "duration": 27,
    "start_time": "2023-02-02T16:31:30.812Z"
   },
   {
    "duration": 34,
    "start_time": "2023-02-02T16:31:30.841Z"
   },
   {
    "duration": 34,
    "start_time": "2023-02-02T16:31:30.877Z"
   },
   {
    "duration": 79,
    "start_time": "2023-02-02T16:31:30.913Z"
   },
   {
    "duration": 7,
    "start_time": "2023-02-02T16:31:30.994Z"
   },
   {
    "duration": 26,
    "start_time": "2023-02-02T16:31:31.003Z"
   },
   {
    "duration": 25,
    "start_time": "2023-02-02T16:31:31.032Z"
   },
   {
    "duration": 1161,
    "start_time": "2023-02-02T16:32:42.207Z"
   },
   {
    "duration": 71,
    "start_time": "2023-02-02T16:32:43.370Z"
   },
   {
    "duration": 18,
    "start_time": "2023-02-02T16:32:43.446Z"
   },
   {
    "duration": 8,
    "start_time": "2023-02-02T16:32:43.466Z"
   },
   {
    "duration": 27,
    "start_time": "2023-02-02T16:32:43.475Z"
   },
   {
    "duration": 18,
    "start_time": "2023-02-02T16:32:43.504Z"
   },
   {
    "duration": 39,
    "start_time": "2023-02-02T16:32:43.524Z"
   },
   {
    "duration": 24,
    "start_time": "2023-02-02T16:32:43.565Z"
   },
   {
    "duration": 4,
    "start_time": "2023-02-02T16:32:43.592Z"
   },
   {
    "duration": 20,
    "start_time": "2023-02-02T16:32:43.598Z"
   },
   {
    "duration": 17,
    "start_time": "2023-02-02T16:32:43.620Z"
   },
   {
    "duration": 5,
    "start_time": "2023-02-02T16:32:43.639Z"
   },
   {
    "duration": 6,
    "start_time": "2023-02-02T16:32:43.653Z"
   },
   {
    "duration": 12,
    "start_time": "2023-02-02T16:32:43.661Z"
   },
   {
    "duration": 7,
    "start_time": "2023-02-02T16:32:43.675Z"
   },
   {
    "duration": 31,
    "start_time": "2023-02-02T16:32:43.684Z"
   },
   {
    "duration": 5,
    "start_time": "2023-02-02T16:32:43.717Z"
   },
   {
    "duration": 9,
    "start_time": "2023-02-02T16:32:43.724Z"
   },
   {
    "duration": 4,
    "start_time": "2023-02-02T16:34:15.121Z"
   },
   {
    "duration": 6,
    "start_time": "2023-02-02T16:38:30.562Z"
   },
   {
    "duration": 4,
    "start_time": "2023-02-02T16:38:31.301Z"
   },
   {
    "duration": 4,
    "start_time": "2023-02-02T16:38:31.906Z"
   },
   {
    "duration": 4,
    "start_time": "2023-02-02T17:05:46.626Z"
   },
   {
    "duration": 1148,
    "start_time": "2023-02-02T17:05:54.705Z"
   },
   {
    "duration": 57,
    "start_time": "2023-02-02T17:05:55.855Z"
   },
   {
    "duration": 14,
    "start_time": "2023-02-02T17:05:55.914Z"
   },
   {
    "duration": 8,
    "start_time": "2023-02-02T17:05:55.929Z"
   },
   {
    "duration": 11,
    "start_time": "2023-02-02T17:05:55.940Z"
   },
   {
    "duration": 10,
    "start_time": "2023-02-02T17:05:55.953Z"
   },
   {
    "duration": 15,
    "start_time": "2023-02-02T17:05:55.964Z"
   },
   {
    "duration": 24,
    "start_time": "2023-02-02T17:05:55.981Z"
   },
   {
    "duration": 4,
    "start_time": "2023-02-02T17:05:56.007Z"
   },
   {
    "duration": 20,
    "start_time": "2023-02-02T17:05:56.013Z"
   },
   {
    "duration": 22,
    "start_time": "2023-02-02T17:05:56.034Z"
   },
   {
    "duration": 8,
    "start_time": "2023-02-02T17:05:56.058Z"
   },
   {
    "duration": 9,
    "start_time": "2023-02-02T17:05:56.067Z"
   },
   {
    "duration": 7,
    "start_time": "2023-02-02T17:05:56.078Z"
   },
   {
    "duration": 10,
    "start_time": "2023-02-02T17:05:56.087Z"
   },
   {
    "duration": 22,
    "start_time": "2023-02-02T17:05:56.098Z"
   },
   {
    "duration": 5,
    "start_time": "2023-02-02T17:05:56.122Z"
   },
   {
    "duration": 25,
    "start_time": "2023-02-02T17:05:56.128Z"
   },
   {
    "duration": 4,
    "start_time": "2023-02-02T17:05:56.155Z"
   },
   {
    "duration": 6,
    "start_time": "2023-02-02T17:05:56.161Z"
   },
   {
    "duration": 8,
    "start_time": "2023-02-02T17:05:56.168Z"
   },
   {
    "duration": 7,
    "start_time": "2023-02-02T17:05:56.178Z"
   },
   {
    "duration": 12,
    "start_time": "2023-02-02T17:07:45.495Z"
   },
   {
    "duration": 3,
    "start_time": "2023-02-02T17:08:18.069Z"
   },
   {
    "duration": 2,
    "start_time": "2023-02-02T17:10:13.878Z"
   },
   {
    "duration": 2,
    "start_time": "2023-02-02T17:10:40.958Z"
   },
   {
    "duration": 9,
    "start_time": "2023-02-02T17:11:48.034Z"
   },
   {
    "duration": 3,
    "start_time": "2023-02-02T17:14:10.461Z"
   },
   {
    "duration": 21,
    "start_time": "2023-02-02T17:16:39.430Z"
   },
   {
    "duration": 10,
    "start_time": "2023-02-02T17:17:06.830Z"
   },
   {
    "duration": 94,
    "start_time": "2023-02-02T17:24:28.147Z"
   },
   {
    "duration": 16,
    "start_time": "2023-02-02T17:26:05.266Z"
   },
   {
    "duration": 4,
    "start_time": "2023-02-02T17:27:46.024Z"
   },
   {
    "duration": 1121,
    "start_time": "2023-02-02T17:28:15.336Z"
   },
   {
    "duration": 53,
    "start_time": "2023-02-02T17:28:16.460Z"
   },
   {
    "duration": 12,
    "start_time": "2023-02-02T17:28:16.514Z"
   },
   {
    "duration": 3,
    "start_time": "2023-02-02T17:28:16.527Z"
   },
   {
    "duration": 9,
    "start_time": "2023-02-02T17:28:16.532Z"
   },
   {
    "duration": 6,
    "start_time": "2023-02-02T17:28:16.542Z"
   },
   {
    "duration": 15,
    "start_time": "2023-02-02T17:28:16.549Z"
   },
   {
    "duration": 16,
    "start_time": "2023-02-02T17:28:16.565Z"
   },
   {
    "duration": 3,
    "start_time": "2023-02-02T17:28:16.582Z"
   },
   {
    "duration": 6,
    "start_time": "2023-02-02T17:28:16.587Z"
   },
   {
    "duration": 15,
    "start_time": "2023-02-02T17:28:16.594Z"
   },
   {
    "duration": 4,
    "start_time": "2023-02-02T17:28:16.611Z"
   },
   {
    "duration": 6,
    "start_time": "2023-02-02T17:28:16.616Z"
   },
   {
    "duration": 35,
    "start_time": "2023-02-02T17:28:16.623Z"
   },
   {
    "duration": 9,
    "start_time": "2023-02-02T17:28:16.660Z"
   },
   {
    "duration": 22,
    "start_time": "2023-02-02T17:28:16.671Z"
   },
   {
    "duration": 4,
    "start_time": "2023-02-02T17:28:16.695Z"
   },
   {
    "duration": 13,
    "start_time": "2023-02-02T17:28:16.701Z"
   },
   {
    "duration": 9,
    "start_time": "2023-02-02T17:28:16.716Z"
   },
   {
    "duration": 20,
    "start_time": "2023-02-02T17:28:16.726Z"
   },
   {
    "duration": 8,
    "start_time": "2023-02-02T17:28:16.748Z"
   },
   {
    "duration": 5,
    "start_time": "2023-02-02T17:28:16.757Z"
   },
   {
    "duration": 11,
    "start_time": "2023-02-02T17:28:16.764Z"
   },
   {
    "duration": 18,
    "start_time": "2023-02-02T17:28:16.776Z"
   },
   {
    "duration": 24,
    "start_time": "2023-02-02T17:28:16.796Z"
   },
   {
    "duration": 13,
    "start_time": "2023-02-02T17:28:16.822Z"
   },
   {
    "duration": 22,
    "start_time": "2023-02-02T17:28:16.837Z"
   },
   {
    "duration": 2,
    "start_time": "2023-02-02T17:28:16.862Z"
   },
   {
    "duration": 22,
    "start_time": "2023-02-02T17:28:16.866Z"
   },
   {
    "duration": 11,
    "start_time": "2023-02-02T17:28:16.890Z"
   },
   {
    "duration": 6,
    "start_time": "2023-02-02T17:28:16.902Z"
   },
   {
    "duration": 6,
    "start_time": "2023-02-02T17:28:16.909Z"
   },
   {
    "duration": 30,
    "start_time": "2023-02-02T17:28:37.116Z"
   },
   {
    "duration": 94,
    "start_time": "2023-02-02T17:29:30.770Z"
   },
   {
    "duration": 6,
    "start_time": "2023-02-02T17:29:42.086Z"
   },
   {
    "duration": 5,
    "start_time": "2023-02-02T17:30:29.163Z"
   },
   {
    "duration": 613,
    "start_time": "2023-02-02T17:31:56.767Z"
   },
   {
    "duration": 54,
    "start_time": "2023-02-02T17:32:41.025Z"
   },
   {
    "duration": 8,
    "start_time": "2023-02-02T17:34:50.200Z"
   },
   {
    "duration": 6,
    "start_time": "2023-02-02T17:35:30.256Z"
   },
   {
    "duration": 9,
    "start_time": "2023-02-02T17:36:20.408Z"
   },
   {
    "duration": 140,
    "start_time": "2023-02-02T17:37:07.428Z"
   },
   {
    "duration": 5,
    "start_time": "2023-02-02T17:38:16.962Z"
   },
   {
    "duration": 6,
    "start_time": "2023-02-02T17:38:44.408Z"
   },
   {
    "duration": 1065,
    "start_time": "2023-02-02T17:40:29.291Z"
   },
   {
    "duration": 56,
    "start_time": "2023-02-02T17:40:30.359Z"
   },
   {
    "duration": 14,
    "start_time": "2023-02-02T17:40:30.417Z"
   },
   {
    "duration": 38,
    "start_time": "2023-02-02T17:40:30.433Z"
   },
   {
    "duration": 52,
    "start_time": "2023-02-02T17:40:30.474Z"
   },
   {
    "duration": 47,
    "start_time": "2023-02-02T17:40:30.527Z"
   },
   {
    "duration": 30,
    "start_time": "2023-02-02T17:40:30.576Z"
   },
   {
    "duration": 49,
    "start_time": "2023-02-02T17:40:30.608Z"
   },
   {
    "duration": 34,
    "start_time": "2023-02-02T17:40:30.659Z"
   },
   {
    "duration": 38,
    "start_time": "2023-02-02T17:40:30.695Z"
   },
   {
    "duration": 42,
    "start_time": "2023-02-02T17:40:30.735Z"
   },
   {
    "duration": 27,
    "start_time": "2023-02-02T17:40:30.778Z"
   },
   {
    "duration": 35,
    "start_time": "2023-02-02T17:40:30.806Z"
   },
   {
    "duration": 38,
    "start_time": "2023-02-02T17:40:30.844Z"
   },
   {
    "duration": 34,
    "start_time": "2023-02-02T17:40:30.884Z"
   },
   {
    "duration": 54,
    "start_time": "2023-02-02T17:40:30.920Z"
   },
   {
    "duration": 41,
    "start_time": "2023-02-02T17:40:30.976Z"
   },
   {
    "duration": 18,
    "start_time": "2023-02-02T17:40:31.019Z"
   },
   {
    "duration": 21,
    "start_time": "2023-02-02T17:40:31.039Z"
   },
   {
    "duration": 63,
    "start_time": "2023-02-02T17:40:31.062Z"
   },
   {
    "duration": 22,
    "start_time": "2023-02-02T17:40:31.127Z"
   },
   {
    "duration": 61,
    "start_time": "2023-02-02T17:40:31.151Z"
   },
   {
    "duration": 23,
    "start_time": "2023-02-02T17:40:31.214Z"
   },
   {
    "duration": 60,
    "start_time": "2023-02-02T17:40:31.238Z"
   },
   {
    "duration": 72,
    "start_time": "2023-02-02T17:40:31.299Z"
   },
   {
    "duration": 85,
    "start_time": "2023-02-02T17:40:31.373Z"
   },
   {
    "duration": 55,
    "start_time": "2023-02-02T17:40:31.459Z"
   },
   {
    "duration": 26,
    "start_time": "2023-02-02T17:40:31.515Z"
   },
   {
    "duration": 44,
    "start_time": "2023-02-02T17:40:31.543Z"
   },
   {
    "duration": 22,
    "start_time": "2023-02-02T17:40:31.589Z"
   },
   {
    "duration": 47,
    "start_time": "2023-02-02T17:40:31.612Z"
   },
   {
    "duration": 9,
    "start_time": "2023-02-02T17:40:31.661Z"
   },
   {
    "duration": 22,
    "start_time": "2023-02-02T17:40:31.671Z"
   },
   {
    "duration": 634,
    "start_time": "2023-02-02T17:40:31.694Z"
   },
   {
    "duration": 60,
    "start_time": "2023-02-02T17:40:32.330Z"
   },
   {
    "duration": 5,
    "start_time": "2023-02-02T17:40:32.392Z"
   },
   {
    "duration": 69,
    "start_time": "2023-02-02T17:40:32.399Z"
   },
   {
    "duration": 6,
    "start_time": "2023-02-02T17:40:32.554Z"
   },
   {
    "duration": 97,
    "start_time": "2023-02-02T17:40:32.561Z"
   },
   {
    "duration": 1141,
    "start_time": "2023-02-02T17:48:45.910Z"
   },
   {
    "duration": 60,
    "start_time": "2023-02-02T17:48:47.053Z"
   },
   {
    "duration": 12,
    "start_time": "2023-02-02T17:48:47.114Z"
   },
   {
    "duration": 6,
    "start_time": "2023-02-02T17:48:47.128Z"
   },
   {
    "duration": 28,
    "start_time": "2023-02-02T17:48:47.136Z"
   },
   {
    "duration": 7,
    "start_time": "2023-02-02T17:48:47.167Z"
   },
   {
    "duration": 26,
    "start_time": "2023-02-02T17:48:47.176Z"
   },
   {
    "duration": 22,
    "start_time": "2023-02-02T17:48:47.205Z"
   },
   {
    "duration": 3,
    "start_time": "2023-02-02T17:48:47.230Z"
   },
   {
    "duration": 5,
    "start_time": "2023-02-02T17:48:47.237Z"
   },
   {
    "duration": 31,
    "start_time": "2023-02-02T17:48:47.244Z"
   },
   {
    "duration": 8,
    "start_time": "2023-02-02T17:48:47.277Z"
   },
   {
    "duration": 30,
    "start_time": "2023-02-02T17:48:47.289Z"
   },
   {
    "duration": 22,
    "start_time": "2023-02-02T17:48:47.321Z"
   },
   {
    "duration": 31,
    "start_time": "2023-02-02T17:48:47.345Z"
   },
   {
    "duration": 38,
    "start_time": "2023-02-02T17:48:47.379Z"
   },
   {
    "duration": 13,
    "start_time": "2023-02-02T17:48:47.419Z"
   },
   {
    "duration": 17,
    "start_time": "2023-02-02T17:48:47.434Z"
   },
   {
    "duration": 34,
    "start_time": "2023-02-02T17:48:47.453Z"
   },
   {
    "duration": 17,
    "start_time": "2023-02-02T17:48:47.489Z"
   },
   {
    "duration": 25,
    "start_time": "2023-02-02T17:48:47.508Z"
   },
   {
    "duration": 15,
    "start_time": "2023-02-02T17:48:47.535Z"
   },
   {
    "duration": 39,
    "start_time": "2023-02-02T17:48:47.553Z"
   },
   {
    "duration": 22,
    "start_time": "2023-02-02T17:48:47.594Z"
   },
   {
    "duration": 18,
    "start_time": "2023-02-02T17:48:47.618Z"
   },
   {
    "duration": 52,
    "start_time": "2023-02-02T17:48:47.638Z"
   },
   {
    "duration": 15,
    "start_time": "2023-02-02T17:48:47.692Z"
   },
   {
    "duration": 5,
    "start_time": "2023-02-02T17:48:47.711Z"
   },
   {
    "duration": 40,
    "start_time": "2023-02-02T17:48:47.717Z"
   },
   {
    "duration": 14,
    "start_time": "2023-02-02T17:48:47.759Z"
   },
   {
    "duration": 71,
    "start_time": "2023-02-02T17:48:47.775Z"
   },
   {
    "duration": 7,
    "start_time": "2023-02-02T17:48:47.848Z"
   },
   {
    "duration": 28,
    "start_time": "2023-02-02T17:48:47.856Z"
   },
   {
    "duration": 773,
    "start_time": "2023-02-02T17:48:47.886Z"
   },
   {
    "duration": 52,
    "start_time": "2023-02-02T17:48:48.660Z"
   },
   {
    "duration": 5,
    "start_time": "2023-02-02T17:48:48.714Z"
   },
   {
    "duration": 143,
    "start_time": "2023-02-02T17:48:48.721Z"
   },
   {
    "duration": 90,
    "start_time": "2023-02-02T17:48:48.866Z"
   },
   {
    "duration": 111,
    "start_time": "2023-02-02T17:48:48.958Z"
   },
   {
    "duration": 139,
    "start_time": "2023-02-02T17:50:17.920Z"
   },
   {
    "duration": 1076,
    "start_time": "2023-02-02T17:50:27.755Z"
   },
   {
    "duration": 53,
    "start_time": "2023-02-02T17:50:28.833Z"
   },
   {
    "duration": 13,
    "start_time": "2023-02-02T17:50:28.887Z"
   },
   {
    "duration": 17,
    "start_time": "2023-02-02T17:50:28.901Z"
   },
   {
    "duration": 27,
    "start_time": "2023-02-02T17:50:28.920Z"
   },
   {
    "duration": 27,
    "start_time": "2023-02-02T17:50:28.949Z"
   },
   {
    "duration": 25,
    "start_time": "2023-02-02T17:50:28.977Z"
   },
   {
    "duration": 32,
    "start_time": "2023-02-02T17:50:29.003Z"
   },
   {
    "duration": 16,
    "start_time": "2023-02-02T17:50:29.036Z"
   },
   {
    "duration": 29,
    "start_time": "2023-02-02T17:50:29.054Z"
   },
   {
    "duration": 24,
    "start_time": "2023-02-02T17:50:29.085Z"
   },
   {
    "duration": 17,
    "start_time": "2023-02-02T17:50:29.110Z"
   },
   {
    "duration": 21,
    "start_time": "2023-02-02T17:50:29.129Z"
   },
   {
    "duration": 23,
    "start_time": "2023-02-02T17:50:29.152Z"
   },
   {
    "duration": 25,
    "start_time": "2023-02-02T17:50:29.176Z"
   },
   {
    "duration": 41,
    "start_time": "2023-02-02T17:50:29.203Z"
   },
   {
    "duration": 10,
    "start_time": "2023-02-02T17:50:29.246Z"
   },
   {
    "duration": 27,
    "start_time": "2023-02-02T17:50:29.257Z"
   },
   {
    "duration": 17,
    "start_time": "2023-02-02T17:50:29.286Z"
   },
   {
    "duration": 35,
    "start_time": "2023-02-02T17:50:29.304Z"
   },
   {
    "duration": 20,
    "start_time": "2023-02-02T17:50:29.341Z"
   },
   {
    "duration": 22,
    "start_time": "2023-02-02T17:50:29.363Z"
   },
   {
    "duration": 36,
    "start_time": "2023-02-02T17:50:29.386Z"
   },
   {
    "duration": 50,
    "start_time": "2023-02-02T17:50:29.423Z"
   },
   {
    "duration": 25,
    "start_time": "2023-02-02T17:50:29.475Z"
   },
   {
    "duration": 30,
    "start_time": "2023-02-02T17:50:29.502Z"
   },
   {
    "duration": 36,
    "start_time": "2023-02-02T17:50:29.534Z"
   },
   {
    "duration": 25,
    "start_time": "2023-02-02T17:50:29.571Z"
   },
   {
    "duration": 43,
    "start_time": "2023-02-02T17:50:29.598Z"
   },
   {
    "duration": 14,
    "start_time": "2023-02-02T17:50:29.643Z"
   },
   {
    "duration": 64,
    "start_time": "2023-02-02T17:50:29.659Z"
   },
   {
    "duration": 5,
    "start_time": "2023-02-02T17:50:29.725Z"
   },
   {
    "duration": 31,
    "start_time": "2023-02-02T17:50:29.732Z"
   },
   {
    "duration": 618,
    "start_time": "2023-02-02T17:50:29.765Z"
   },
   {
    "duration": 45,
    "start_time": "2023-02-02T17:50:30.384Z"
   },
   {
    "duration": 23,
    "start_time": "2023-02-02T17:50:30.431Z"
   },
   {
    "duration": 204,
    "start_time": "2023-02-02T17:50:30.455Z"
   },
   {
    "duration": 193,
    "start_time": "2023-02-02T17:50:30.662Z"
   },
   {
    "duration": 103,
    "start_time": "2023-02-02T17:50:30.857Z"
   },
   {
    "duration": 19,
    "start_time": "2023-02-02T17:54:15.983Z"
   },
   {
    "duration": 8,
    "start_time": "2023-02-02T17:54:17.651Z"
   },
   {
    "duration": 5,
    "start_time": "2023-02-02T17:54:18.439Z"
   },
   {
    "duration": 1135,
    "start_time": "2023-02-02T18:10:57.278Z"
   },
   {
    "duration": 58,
    "start_time": "2023-02-02T18:10:58.415Z"
   },
   {
    "duration": 13,
    "start_time": "2023-02-02T18:10:58.475Z"
   },
   {
    "duration": 34,
    "start_time": "2023-02-02T18:10:58.490Z"
   },
   {
    "duration": 5,
    "start_time": "2023-02-02T18:10:58.526Z"
   },
   {
    "duration": 6,
    "start_time": "2023-02-02T18:10:58.533Z"
   },
   {
    "duration": 9,
    "start_time": "2023-02-02T18:10:58.541Z"
   },
   {
    "duration": 24,
    "start_time": "2023-02-02T18:10:58.551Z"
   },
   {
    "duration": 17,
    "start_time": "2023-02-02T18:10:58.576Z"
   },
   {
    "duration": 17,
    "start_time": "2023-02-02T18:10:58.594Z"
   },
   {
    "duration": 15,
    "start_time": "2023-02-02T18:10:58.612Z"
   },
   {
    "duration": 4,
    "start_time": "2023-02-02T18:10:58.629Z"
   },
   {
    "duration": 36,
    "start_time": "2023-02-02T18:10:58.635Z"
   },
   {
    "duration": 14,
    "start_time": "2023-02-02T18:10:58.674Z"
   },
   {
    "duration": 18,
    "start_time": "2023-02-02T18:10:58.689Z"
   },
   {
    "duration": 21,
    "start_time": "2023-02-02T18:10:58.708Z"
   },
   {
    "duration": 4,
    "start_time": "2023-02-02T18:10:58.731Z"
   },
   {
    "duration": 11,
    "start_time": "2023-02-02T18:10:58.737Z"
   },
   {
    "duration": 7,
    "start_time": "2023-02-02T18:10:58.750Z"
   },
   {
    "duration": 10,
    "start_time": "2023-02-02T18:10:58.758Z"
   },
   {
    "duration": 7,
    "start_time": "2023-02-02T18:10:58.770Z"
   },
   {
    "duration": 16,
    "start_time": "2023-02-02T18:10:58.778Z"
   },
   {
    "duration": 25,
    "start_time": "2023-02-02T18:10:58.796Z"
   },
   {
    "duration": 17,
    "start_time": "2023-02-02T18:10:58.822Z"
   },
   {
    "duration": 8,
    "start_time": "2023-02-02T18:10:58.841Z"
   },
   {
    "duration": 22,
    "start_time": "2023-02-02T18:10:58.851Z"
   },
   {
    "duration": 17,
    "start_time": "2023-02-02T18:10:58.875Z"
   },
   {
    "duration": 2,
    "start_time": "2023-02-02T18:10:58.894Z"
   },
   {
    "duration": 27,
    "start_time": "2023-02-02T18:10:58.898Z"
   },
   {
    "duration": 101,
    "start_time": "2023-02-02T18:10:58.926Z"
   },
   {
    "duration": 0,
    "start_time": "2023-02-02T18:10:59.029Z"
   },
   {
    "duration": 0,
    "start_time": "2023-02-02T18:10:59.030Z"
   },
   {
    "duration": 0,
    "start_time": "2023-02-02T18:10:59.031Z"
   },
   {
    "duration": 0,
    "start_time": "2023-02-02T18:10:59.032Z"
   },
   {
    "duration": 0,
    "start_time": "2023-02-02T18:10:59.033Z"
   },
   {
    "duration": 0,
    "start_time": "2023-02-02T18:10:59.033Z"
   },
   {
    "duration": 0,
    "start_time": "2023-02-02T18:10:59.034Z"
   },
   {
    "duration": 0,
    "start_time": "2023-02-02T18:10:59.035Z"
   },
   {
    "duration": 0,
    "start_time": "2023-02-02T18:10:59.053Z"
   },
   {
    "duration": 11,
    "start_time": "2023-02-02T18:11:10.766Z"
   },
   {
    "duration": 1158,
    "start_time": "2023-02-02T18:11:17.813Z"
   },
   {
    "duration": 61,
    "start_time": "2023-02-02T18:11:18.973Z"
   },
   {
    "duration": 13,
    "start_time": "2023-02-02T18:11:19.035Z"
   },
   {
    "duration": 20,
    "start_time": "2023-02-02T18:11:19.050Z"
   },
   {
    "duration": 9,
    "start_time": "2023-02-02T18:11:19.072Z"
   },
   {
    "duration": 6,
    "start_time": "2023-02-02T18:11:19.082Z"
   },
   {
    "duration": 8,
    "start_time": "2023-02-02T18:11:19.090Z"
   },
   {
    "duration": 13,
    "start_time": "2023-02-02T18:11:19.100Z"
   },
   {
    "duration": 2,
    "start_time": "2023-02-02T18:11:19.115Z"
   },
   {
    "duration": 8,
    "start_time": "2023-02-02T18:11:19.120Z"
   },
   {
    "duration": 25,
    "start_time": "2023-02-02T18:11:19.129Z"
   },
   {
    "duration": 4,
    "start_time": "2023-02-02T18:11:19.156Z"
   },
   {
    "duration": 8,
    "start_time": "2023-02-02T18:11:19.162Z"
   },
   {
    "duration": 6,
    "start_time": "2023-02-02T18:11:19.172Z"
   },
   {
    "duration": 9,
    "start_time": "2023-02-02T18:11:19.180Z"
   },
   {
    "duration": 35,
    "start_time": "2023-02-02T18:11:19.191Z"
   },
   {
    "duration": 4,
    "start_time": "2023-02-02T18:11:19.228Z"
   },
   {
    "duration": 8,
    "start_time": "2023-02-02T18:11:19.233Z"
   },
   {
    "duration": 12,
    "start_time": "2023-02-02T18:11:19.242Z"
   },
   {
    "duration": 8,
    "start_time": "2023-02-02T18:11:19.256Z"
   },
   {
    "duration": 12,
    "start_time": "2023-02-02T18:11:19.266Z"
   },
   {
    "duration": 7,
    "start_time": "2023-02-02T18:11:19.279Z"
   },
   {
    "duration": 6,
    "start_time": "2023-02-02T18:11:19.287Z"
   },
   {
    "duration": 14,
    "start_time": "2023-02-02T18:11:19.294Z"
   },
   {
    "duration": 4,
    "start_time": "2023-02-02T18:11:19.310Z"
   },
   {
    "duration": 5,
    "start_time": "2023-02-02T18:11:19.316Z"
   },
   {
    "duration": 11,
    "start_time": "2023-02-02T18:11:19.323Z"
   },
   {
    "duration": 2,
    "start_time": "2023-02-02T18:11:19.337Z"
   },
   {
    "duration": 39,
    "start_time": "2023-02-02T18:11:19.341Z"
   },
   {
    "duration": 9,
    "start_time": "2023-02-02T18:11:19.382Z"
   },
   {
    "duration": 34,
    "start_time": "2023-02-02T18:11:19.393Z"
   },
   {
    "duration": 5,
    "start_time": "2023-02-02T18:11:19.428Z"
   },
   {
    "duration": 7,
    "start_time": "2023-02-02T18:11:19.454Z"
   },
   {
    "duration": 694,
    "start_time": "2023-02-02T18:11:19.463Z"
   },
   {
    "duration": 52,
    "start_time": "2023-02-02T18:11:20.159Z"
   },
   {
    "duration": 5,
    "start_time": "2023-02-02T18:11:20.213Z"
   },
   {
    "duration": 36,
    "start_time": "2023-02-02T18:11:20.219Z"
   },
   {
    "duration": 12,
    "start_time": "2023-02-02T18:11:20.258Z"
   },
   {
    "duration": 191,
    "start_time": "2023-02-02T18:11:20.272Z"
   },
   {
    "duration": 1045,
    "start_time": "2023-02-02T18:11:33.613Z"
   },
   {
    "duration": 55,
    "start_time": "2023-02-02T18:11:34.660Z"
   },
   {
    "duration": 11,
    "start_time": "2023-02-02T18:11:34.717Z"
   },
   {
    "duration": 4,
    "start_time": "2023-02-02T18:11:34.730Z"
   },
   {
    "duration": 4,
    "start_time": "2023-02-02T18:11:34.736Z"
   },
   {
    "duration": 6,
    "start_time": "2023-02-02T18:11:34.742Z"
   },
   {
    "duration": 10,
    "start_time": "2023-02-02T18:11:34.753Z"
   },
   {
    "duration": 24,
    "start_time": "2023-02-02T18:11:34.765Z"
   },
   {
    "duration": 3,
    "start_time": "2023-02-02T18:11:34.791Z"
   },
   {
    "duration": 6,
    "start_time": "2023-02-02T18:11:34.797Z"
   },
   {
    "duration": 13,
    "start_time": "2023-02-02T18:11:34.805Z"
   },
   {
    "duration": 5,
    "start_time": "2023-02-02T18:11:34.820Z"
   },
   {
    "duration": 28,
    "start_time": "2023-02-02T18:11:34.826Z"
   },
   {
    "duration": 5,
    "start_time": "2023-02-02T18:11:34.856Z"
   },
   {
    "duration": 11,
    "start_time": "2023-02-02T18:11:34.863Z"
   },
   {
    "duration": 31,
    "start_time": "2023-02-02T18:11:34.876Z"
   },
   {
    "duration": 13,
    "start_time": "2023-02-02T18:11:34.909Z"
   },
   {
    "duration": 34,
    "start_time": "2023-02-02T18:11:34.925Z"
   },
   {
    "duration": 8,
    "start_time": "2023-02-02T18:11:34.961Z"
   },
   {
    "duration": 9,
    "start_time": "2023-02-02T18:11:34.971Z"
   },
   {
    "duration": 7,
    "start_time": "2023-02-02T18:11:34.982Z"
   },
   {
    "duration": 7,
    "start_time": "2023-02-02T18:11:34.990Z"
   },
   {
    "duration": 8,
    "start_time": "2023-02-02T18:11:34.999Z"
   },
   {
    "duration": 21,
    "start_time": "2023-02-02T18:11:35.009Z"
   },
   {
    "duration": 5,
    "start_time": "2023-02-02T18:11:35.033Z"
   },
   {
    "duration": 15,
    "start_time": "2023-02-02T18:11:35.060Z"
   },
   {
    "duration": 21,
    "start_time": "2023-02-02T18:11:35.077Z"
   },
   {
    "duration": 23,
    "start_time": "2023-02-02T18:11:35.101Z"
   },
   {
    "duration": 9,
    "start_time": "2023-02-02T18:11:35.126Z"
   },
   {
    "duration": 34,
    "start_time": "2023-02-02T18:11:35.137Z"
   },
   {
    "duration": 5,
    "start_time": "2023-02-02T18:11:35.173Z"
   },
   {
    "duration": 10,
    "start_time": "2023-02-02T18:11:35.180Z"
   },
   {
    "duration": 697,
    "start_time": "2023-02-02T18:11:35.192Z"
   },
   {
    "duration": 69,
    "start_time": "2023-02-02T18:11:35.891Z"
   },
   {
    "duration": 7,
    "start_time": "2023-02-02T18:11:35.966Z"
   },
   {
    "duration": 107,
    "start_time": "2023-02-02T18:11:35.975Z"
   },
   {
    "duration": 68,
    "start_time": "2023-02-02T18:11:36.084Z"
   },
   {
    "duration": 134,
    "start_time": "2023-02-02T18:11:36.166Z"
   },
   {
    "duration": 3,
    "start_time": "2023-02-02T20:30:00.407Z"
   },
   {
    "duration": 6,
    "start_time": "2023-02-02T20:30:46.584Z"
   },
   {
    "duration": 110,
    "start_time": "2023-02-02T20:31:01.612Z"
   },
   {
    "duration": 13,
    "start_time": "2023-02-02T20:31:21.089Z"
   },
   {
    "duration": 8,
    "start_time": "2023-02-02T20:33:27.983Z"
   },
   {
    "duration": 4,
    "start_time": "2023-02-02T20:34:01.393Z"
   },
   {
    "duration": 1149,
    "start_time": "2023-02-02T20:43:36.720Z"
   },
   {
    "duration": 52,
    "start_time": "2023-02-02T20:43:37.870Z"
   },
   {
    "duration": 15,
    "start_time": "2023-02-02T20:43:37.924Z"
   },
   {
    "duration": 5,
    "start_time": "2023-02-02T20:43:37.941Z"
   },
   {
    "duration": 6,
    "start_time": "2023-02-02T20:43:37.949Z"
   },
   {
    "duration": 8,
    "start_time": "2023-02-02T20:43:37.956Z"
   },
   {
    "duration": 9,
    "start_time": "2023-02-02T20:43:37.966Z"
   },
   {
    "duration": 14,
    "start_time": "2023-02-02T20:43:37.977Z"
   },
   {
    "duration": 3,
    "start_time": "2023-02-02T20:43:37.993Z"
   },
   {
    "duration": 8,
    "start_time": "2023-02-02T20:43:37.997Z"
   },
   {
    "duration": 15,
    "start_time": "2023-02-02T20:43:38.006Z"
   },
   {
    "duration": 32,
    "start_time": "2023-02-02T20:43:38.022Z"
   },
   {
    "duration": 7,
    "start_time": "2023-02-02T20:43:38.055Z"
   },
   {
    "duration": 6,
    "start_time": "2023-02-02T20:43:38.065Z"
   },
   {
    "duration": 13,
    "start_time": "2023-02-02T20:43:38.072Z"
   },
   {
    "duration": 25,
    "start_time": "2023-02-02T20:43:38.086Z"
   },
   {
    "duration": 6,
    "start_time": "2023-02-02T20:43:38.112Z"
   },
   {
    "duration": 20,
    "start_time": "2023-02-02T20:43:38.120Z"
   },
   {
    "duration": 15,
    "start_time": "2023-02-02T20:43:38.142Z"
   },
   {
    "duration": 4,
    "start_time": "2023-02-02T20:43:38.159Z"
   },
   {
    "duration": 116,
    "start_time": "2023-02-02T20:43:38.165Z"
   },
   {
    "duration": 0,
    "start_time": "2023-02-02T20:43:38.283Z"
   },
   {
    "duration": 0,
    "start_time": "2023-02-02T20:43:38.284Z"
   },
   {
    "duration": 0,
    "start_time": "2023-02-02T20:43:38.285Z"
   },
   {
    "duration": 0,
    "start_time": "2023-02-02T20:43:38.286Z"
   },
   {
    "duration": 0,
    "start_time": "2023-02-02T20:43:38.287Z"
   },
   {
    "duration": 0,
    "start_time": "2023-02-02T20:43:38.288Z"
   },
   {
    "duration": 0,
    "start_time": "2023-02-02T20:43:38.289Z"
   },
   {
    "duration": 0,
    "start_time": "2023-02-02T20:43:38.290Z"
   },
   {
    "duration": 0,
    "start_time": "2023-02-02T20:43:38.291Z"
   },
   {
    "duration": 0,
    "start_time": "2023-02-02T20:43:38.292Z"
   },
   {
    "duration": 0,
    "start_time": "2023-02-02T20:43:38.293Z"
   },
   {
    "duration": 0,
    "start_time": "2023-02-02T20:43:38.294Z"
   },
   {
    "duration": 0,
    "start_time": "2023-02-02T20:43:38.296Z"
   },
   {
    "duration": 0,
    "start_time": "2023-02-02T20:43:38.296Z"
   },
   {
    "duration": 0,
    "start_time": "2023-02-02T20:43:38.298Z"
   },
   {
    "duration": 0,
    "start_time": "2023-02-02T20:43:38.299Z"
   },
   {
    "duration": 0,
    "start_time": "2023-02-02T20:43:38.300Z"
   },
   {
    "duration": 0,
    "start_time": "2023-02-02T20:43:38.302Z"
   },
   {
    "duration": 0,
    "start_time": "2023-02-02T20:43:38.303Z"
   },
   {
    "duration": 0,
    "start_time": "2023-02-02T20:43:38.304Z"
   },
   {
    "duration": 1,
    "start_time": "2023-02-02T20:43:38.305Z"
   },
   {
    "duration": 0,
    "start_time": "2023-02-02T20:43:38.307Z"
   },
   {
    "duration": 0,
    "start_time": "2023-02-02T20:43:38.309Z"
   },
   {
    "duration": 0,
    "start_time": "2023-02-02T20:43:38.353Z"
   },
   {
    "duration": 0,
    "start_time": "2023-02-02T20:43:38.354Z"
   },
   {
    "duration": 1082,
    "start_time": "2023-02-02T20:45:21.179Z"
   },
   {
    "duration": 53,
    "start_time": "2023-02-02T20:45:22.263Z"
   },
   {
    "duration": 14,
    "start_time": "2023-02-02T20:45:22.318Z"
   },
   {
    "duration": 4,
    "start_time": "2023-02-02T20:45:22.334Z"
   },
   {
    "duration": 8,
    "start_time": "2023-02-02T20:45:22.339Z"
   },
   {
    "duration": 8,
    "start_time": "2023-02-02T20:45:22.348Z"
   },
   {
    "duration": 12,
    "start_time": "2023-02-02T20:45:22.357Z"
   },
   {
    "duration": 14,
    "start_time": "2023-02-02T20:45:22.370Z"
   },
   {
    "duration": 5,
    "start_time": "2023-02-02T20:45:22.386Z"
   },
   {
    "duration": 9,
    "start_time": "2023-02-02T20:45:22.393Z"
   },
   {
    "duration": 15,
    "start_time": "2023-02-02T20:45:22.404Z"
   },
   {
    "duration": 4,
    "start_time": "2023-02-02T20:45:22.420Z"
   },
   {
    "duration": 28,
    "start_time": "2023-02-02T20:45:22.426Z"
   },
   {
    "duration": 8,
    "start_time": "2023-02-02T20:45:22.456Z"
   },
   {
    "duration": 6,
    "start_time": "2023-02-02T20:45:22.466Z"
   },
   {
    "duration": 26,
    "start_time": "2023-02-02T20:45:22.473Z"
   },
   {
    "duration": 4,
    "start_time": "2023-02-02T20:45:22.500Z"
   },
   {
    "duration": 14,
    "start_time": "2023-02-02T20:45:22.506Z"
   },
   {
    "duration": 38,
    "start_time": "2023-02-02T20:45:22.521Z"
   },
   {
    "duration": 4,
    "start_time": "2023-02-02T20:45:22.561Z"
   },
   {
    "duration": 10,
    "start_time": "2023-02-02T20:45:22.567Z"
   },
   {
    "duration": 8,
    "start_time": "2023-02-02T20:45:22.579Z"
   },
   {
    "duration": 5,
    "start_time": "2023-02-02T20:45:22.589Z"
   },
   {
    "duration": 5,
    "start_time": "2023-02-02T20:45:22.596Z"
   },
   {
    "duration": 4,
    "start_time": "2023-02-02T20:45:22.603Z"
   },
   {
    "duration": 6,
    "start_time": "2023-02-02T20:45:22.609Z"
   },
   {
    "duration": 19,
    "start_time": "2023-02-02T20:45:22.616Z"
   },
   {
    "duration": 17,
    "start_time": "2023-02-02T20:45:22.639Z"
   },
   {
    "duration": 23,
    "start_time": "2023-02-02T20:45:22.658Z"
   },
   {
    "duration": 16,
    "start_time": "2023-02-02T20:45:22.682Z"
   },
   {
    "duration": 38,
    "start_time": "2023-02-02T20:45:22.701Z"
   },
   {
    "duration": 15,
    "start_time": "2023-02-02T20:45:22.741Z"
   },
   {
    "duration": 33,
    "start_time": "2023-02-02T20:45:22.758Z"
   },
   {
    "duration": 6,
    "start_time": "2023-02-02T20:45:22.793Z"
   },
   {
    "duration": 18,
    "start_time": "2023-02-02T20:45:22.801Z"
   },
   {
    "duration": 640,
    "start_time": "2023-02-02T20:45:22.821Z"
   },
   {
    "duration": 66,
    "start_time": "2023-02-02T20:45:23.463Z"
   },
   {
    "duration": 7,
    "start_time": "2023-02-02T20:45:23.530Z"
   },
   {
    "duration": 42,
    "start_time": "2023-02-02T20:45:23.538Z"
   },
   {
    "duration": 18,
    "start_time": "2023-02-02T20:45:23.582Z"
   },
   {
    "duration": 70,
    "start_time": "2023-02-02T20:45:23.602Z"
   },
   {
    "duration": 11,
    "start_time": "2023-02-02T20:45:23.754Z"
   },
   {
    "duration": 6,
    "start_time": "2023-02-02T20:45:23.767Z"
   },
   {
    "duration": 35,
    "start_time": "2023-02-02T20:45:23.775Z"
   },
   {
    "duration": 4,
    "start_time": "2023-02-02T20:45:23.813Z"
   },
   {
    "duration": 1134,
    "start_time": "2023-02-02T20:46:05.832Z"
   },
   {
    "duration": 52,
    "start_time": "2023-02-02T20:46:06.968Z"
   },
   {
    "duration": 14,
    "start_time": "2023-02-02T20:46:07.022Z"
   },
   {
    "duration": 5,
    "start_time": "2023-02-02T20:46:07.039Z"
   },
   {
    "duration": 14,
    "start_time": "2023-02-02T20:46:07.046Z"
   },
   {
    "duration": 11,
    "start_time": "2023-02-02T20:46:07.062Z"
   },
   {
    "duration": 13,
    "start_time": "2023-02-02T20:46:07.075Z"
   },
   {
    "duration": 19,
    "start_time": "2023-02-02T20:46:07.090Z"
   },
   {
    "duration": 3,
    "start_time": "2023-02-02T20:46:07.111Z"
   },
   {
    "duration": 9,
    "start_time": "2023-02-02T20:46:07.117Z"
   },
   {
    "duration": 28,
    "start_time": "2023-02-02T20:46:07.128Z"
   },
   {
    "duration": 5,
    "start_time": "2023-02-02T20:46:07.157Z"
   },
   {
    "duration": 8,
    "start_time": "2023-02-02T20:46:07.164Z"
   },
   {
    "duration": 8,
    "start_time": "2023-02-02T20:46:07.174Z"
   },
   {
    "duration": 10,
    "start_time": "2023-02-02T20:46:07.183Z"
   },
   {
    "duration": 35,
    "start_time": "2023-02-02T20:46:07.195Z"
   },
   {
    "duration": 5,
    "start_time": "2023-02-02T20:46:07.232Z"
   },
   {
    "duration": 12,
    "start_time": "2023-02-02T20:46:07.254Z"
   },
   {
    "duration": 16,
    "start_time": "2023-02-02T20:46:07.268Z"
   },
   {
    "duration": 6,
    "start_time": "2023-02-02T20:46:07.285Z"
   },
   {
    "duration": 19,
    "start_time": "2023-02-02T20:46:07.293Z"
   },
   {
    "duration": 8,
    "start_time": "2023-02-02T20:46:07.314Z"
   },
   {
    "duration": 4,
    "start_time": "2023-02-02T20:46:07.327Z"
   },
   {
    "duration": 27,
    "start_time": "2023-02-02T20:46:07.333Z"
   },
   {
    "duration": 37,
    "start_time": "2023-02-02T20:46:07.362Z"
   },
   {
    "duration": 10,
    "start_time": "2023-02-02T20:46:07.401Z"
   },
   {
    "duration": 66,
    "start_time": "2023-02-02T20:46:07.413Z"
   },
   {
    "duration": 5,
    "start_time": "2023-02-02T20:46:07.482Z"
   },
   {
    "duration": 10,
    "start_time": "2023-02-02T20:46:07.489Z"
   },
   {
    "duration": 682,
    "start_time": "2023-02-02T20:46:07.500Z"
   },
   {
    "duration": 51,
    "start_time": "2023-02-02T20:46:08.184Z"
   },
   {
    "duration": 6,
    "start_time": "2023-02-02T20:46:08.236Z"
   },
   {
    "duration": 18,
    "start_time": "2023-02-02T20:46:08.253Z"
   },
   {
    "duration": 5,
    "start_time": "2023-02-02T20:46:08.273Z"
   },
   {
    "duration": 81,
    "start_time": "2023-02-02T20:46:08.280Z"
   },
   {
    "duration": 100,
    "start_time": "2023-02-02T20:46:08.364Z"
   },
   {
    "duration": 7,
    "start_time": "2023-02-02T20:46:08.465Z"
   },
   {
    "duration": 15,
    "start_time": "2023-02-02T20:46:08.473Z"
   },
   {
    "duration": 3,
    "start_time": "2023-02-02T20:46:08.490Z"
   },
   {
    "duration": 48,
    "start_time": "2023-02-03T06:32:00.315Z"
   },
   {
    "duration": 1205,
    "start_time": "2023-02-03T06:32:05.283Z"
   },
   {
    "duration": 99,
    "start_time": "2023-02-03T06:32:06.490Z"
   },
   {
    "duration": 13,
    "start_time": "2023-02-03T06:32:06.591Z"
   },
   {
    "duration": 5,
    "start_time": "2023-02-03T06:32:06.606Z"
   },
   {
    "duration": 15,
    "start_time": "2023-02-03T06:32:06.613Z"
   },
   {
    "duration": 7,
    "start_time": "2023-02-03T06:32:06.630Z"
   },
   {
    "duration": 19,
    "start_time": "2023-02-03T06:32:06.639Z"
   },
   {
    "duration": 22,
    "start_time": "2023-02-03T06:32:06.660Z"
   },
   {
    "duration": 4,
    "start_time": "2023-02-03T06:32:06.683Z"
   },
   {
    "duration": 7,
    "start_time": "2023-02-03T06:32:06.689Z"
   },
   {
    "duration": 33,
    "start_time": "2023-02-03T06:32:06.698Z"
   },
   {
    "duration": 5,
    "start_time": "2023-02-03T06:32:06.733Z"
   },
   {
    "duration": 18,
    "start_time": "2023-02-03T06:32:06.739Z"
   },
   {
    "duration": 13,
    "start_time": "2023-02-03T06:32:06.759Z"
   },
   {
    "duration": 13,
    "start_time": "2023-02-03T06:32:06.773Z"
   },
   {
    "duration": 25,
    "start_time": "2023-02-03T06:32:06.787Z"
   },
   {
    "duration": 5,
    "start_time": "2023-02-03T06:32:06.813Z"
   },
   {
    "duration": 5,
    "start_time": "2023-02-03T06:32:06.827Z"
   },
   {
    "duration": 18,
    "start_time": "2023-02-03T06:32:06.833Z"
   },
   {
    "duration": 4,
    "start_time": "2023-02-03T06:32:06.853Z"
   },
   {
    "duration": 20,
    "start_time": "2023-02-03T06:32:06.858Z"
   },
   {
    "duration": 6,
    "start_time": "2023-02-03T06:32:06.879Z"
   },
   {
    "duration": 8,
    "start_time": "2023-02-03T06:32:06.887Z"
   },
   {
    "duration": 31,
    "start_time": "2023-02-03T06:32:06.897Z"
   },
   {
    "duration": 25,
    "start_time": "2023-02-03T06:32:06.929Z"
   },
   {
    "duration": 12,
    "start_time": "2023-02-03T06:32:06.955Z"
   },
   {
    "duration": 59,
    "start_time": "2023-02-03T06:32:06.969Z"
   },
   {
    "duration": 5,
    "start_time": "2023-02-03T06:32:07.031Z"
   },
   {
    "duration": 9,
    "start_time": "2023-02-03T06:32:07.038Z"
   },
   {
    "duration": 635,
    "start_time": "2023-02-03T06:32:07.049Z"
   },
   {
    "duration": 64,
    "start_time": "2023-02-03T06:32:07.686Z"
   },
   {
    "duration": 5,
    "start_time": "2023-02-03T06:32:07.752Z"
   },
   {
    "duration": 26,
    "start_time": "2023-02-03T06:32:07.758Z"
   },
   {
    "duration": 9,
    "start_time": "2023-02-03T06:32:07.786Z"
   },
   {
    "duration": 111,
    "start_time": "2023-02-03T06:32:07.827Z"
   },
   {
    "duration": 15,
    "start_time": "2023-02-03T06:32:07.939Z"
   },
   {
    "duration": 19,
    "start_time": "2023-02-03T06:32:07.955Z"
   },
   {
    "duration": 22,
    "start_time": "2023-02-03T06:32:07.975Z"
   },
   {
    "duration": 5,
    "start_time": "2023-02-03T06:32:07.999Z"
   },
   {
    "duration": 109,
    "start_time": "2023-02-03T06:32:08.005Z"
   },
   {
    "duration": 61,
    "start_time": "2023-02-03T06:32:13.463Z"
   },
   {
    "duration": 5,
    "start_time": "2023-02-03T06:33:02.962Z"
   },
   {
    "duration": 16,
    "start_time": "2023-02-03T06:33:34.225Z"
   },
   {
    "duration": 5,
    "start_time": "2023-02-03T06:34:34.067Z"
   },
   {
    "duration": 1163,
    "start_time": "2023-02-03T06:42:26.703Z"
   },
   {
    "duration": 58,
    "start_time": "2023-02-03T06:42:27.868Z"
   },
   {
    "duration": 13,
    "start_time": "2023-02-03T06:42:27.927Z"
   },
   {
    "duration": 3,
    "start_time": "2023-02-03T06:42:27.942Z"
   },
   {
    "duration": 5,
    "start_time": "2023-02-03T06:42:27.947Z"
   },
   {
    "duration": 6,
    "start_time": "2023-02-03T06:42:27.953Z"
   },
   {
    "duration": 10,
    "start_time": "2023-02-03T06:42:27.960Z"
   },
   {
    "duration": 19,
    "start_time": "2023-02-03T06:42:27.972Z"
   },
   {
    "duration": 4,
    "start_time": "2023-02-03T06:42:27.992Z"
   },
   {
    "duration": 5,
    "start_time": "2023-02-03T06:42:28.027Z"
   },
   {
    "duration": 12,
    "start_time": "2023-02-03T06:42:28.034Z"
   },
   {
    "duration": 5,
    "start_time": "2023-02-03T06:42:28.048Z"
   },
   {
    "duration": 11,
    "start_time": "2023-02-03T06:42:28.054Z"
   },
   {
    "duration": 20,
    "start_time": "2023-02-03T06:42:28.067Z"
   },
   {
    "duration": 6,
    "start_time": "2023-02-03T06:42:28.088Z"
   },
   {
    "duration": 43,
    "start_time": "2023-02-03T06:42:28.096Z"
   },
   {
    "duration": 5,
    "start_time": "2023-02-03T06:42:28.140Z"
   },
   {
    "duration": 9,
    "start_time": "2023-02-03T06:42:28.146Z"
   },
   {
    "duration": 8,
    "start_time": "2023-02-03T06:42:28.157Z"
   },
   {
    "duration": 6,
    "start_time": "2023-02-03T06:42:28.167Z"
   },
   {
    "duration": 15,
    "start_time": "2023-02-03T06:42:28.175Z"
   },
   {
    "duration": 8,
    "start_time": "2023-02-03T06:42:28.192Z"
   },
   {
    "duration": 26,
    "start_time": "2023-02-03T06:42:28.202Z"
   },
   {
    "duration": 16,
    "start_time": "2023-02-03T06:42:28.230Z"
   },
   {
    "duration": 34,
    "start_time": "2023-02-03T06:42:28.248Z"
   },
   {
    "duration": 15,
    "start_time": "2023-02-03T06:42:28.285Z"
   },
   {
    "duration": 53,
    "start_time": "2023-02-03T06:42:28.302Z"
   },
   {
    "duration": 6,
    "start_time": "2023-02-03T06:42:28.359Z"
   },
   {
    "duration": 8,
    "start_time": "2023-02-03T06:42:28.367Z"
   },
   {
    "duration": 683,
    "start_time": "2023-02-03T06:42:28.377Z"
   },
   {
    "duration": 55,
    "start_time": "2023-02-03T06:42:29.063Z"
   },
   {
    "duration": 5,
    "start_time": "2023-02-03T06:42:29.127Z"
   },
   {
    "duration": 18,
    "start_time": "2023-02-03T06:42:29.134Z"
   },
   {
    "duration": 10,
    "start_time": "2023-02-03T06:42:29.154Z"
   },
   {
    "duration": 98,
    "start_time": "2023-02-03T06:42:29.232Z"
   },
   {
    "duration": 7,
    "start_time": "2023-02-03T06:42:29.332Z"
   },
   {
    "duration": 5,
    "start_time": "2023-02-03T06:42:29.340Z"
   },
   {
    "duration": 14,
    "start_time": "2023-02-03T06:42:29.346Z"
   },
   {
    "duration": 3,
    "start_time": "2023-02-03T06:42:29.362Z"
   },
   {
    "duration": 64,
    "start_time": "2023-02-03T06:42:29.366Z"
   },
   {
    "duration": 5,
    "start_time": "2023-02-03T06:42:29.431Z"
   },
   {
    "duration": 8,
    "start_time": "2023-02-03T06:42:29.437Z"
   },
   {
    "duration": 867,
    "start_time": "2023-02-03T06:43:53.084Z"
   },
   {
    "duration": 58,
    "start_time": "2023-02-03T06:44:35.451Z"
   },
   {
    "duration": 6,
    "start_time": "2023-02-03T06:45:04.931Z"
   },
   {
    "duration": 82,
    "start_time": "2023-02-03T06:46:45.958Z"
   },
   {
    "duration": 96,
    "start_time": "2023-02-03T06:47:31.190Z"
   },
   {
    "duration": 5,
    "start_time": "2023-02-03T06:47:37.286Z"
   },
   {
    "duration": 7,
    "start_time": "2023-02-03T06:48:09.375Z"
   },
   {
    "duration": 25,
    "start_time": "2023-02-03T06:48:39.214Z"
   },
   {
    "duration": 6,
    "start_time": "2023-02-03T06:48:39.817Z"
   },
   {
    "duration": 6,
    "start_time": "2023-02-03T06:48:40.438Z"
   },
   {
    "duration": 1082,
    "start_time": "2023-02-03T06:49:02.428Z"
   },
   {
    "duration": 56,
    "start_time": "2023-02-03T06:49:03.512Z"
   },
   {
    "duration": 12,
    "start_time": "2023-02-03T06:49:03.570Z"
   },
   {
    "duration": 4,
    "start_time": "2023-02-03T06:49:03.584Z"
   },
   {
    "duration": 6,
    "start_time": "2023-02-03T06:49:03.589Z"
   },
   {
    "duration": 6,
    "start_time": "2023-02-03T06:49:03.597Z"
   },
   {
    "duration": 23,
    "start_time": "2023-02-03T06:49:03.605Z"
   },
   {
    "duration": 20,
    "start_time": "2023-02-03T06:49:03.630Z"
   },
   {
    "duration": 3,
    "start_time": "2023-02-03T06:49:03.652Z"
   },
   {
    "duration": 6,
    "start_time": "2023-02-03T06:49:03.658Z"
   },
   {
    "duration": 17,
    "start_time": "2023-02-03T06:49:03.666Z"
   },
   {
    "duration": 5,
    "start_time": "2023-02-03T06:49:03.685Z"
   },
   {
    "duration": 42,
    "start_time": "2023-02-03T06:49:03.692Z"
   },
   {
    "duration": 7,
    "start_time": "2023-02-03T06:49:03.736Z"
   },
   {
    "duration": 8,
    "start_time": "2023-02-03T06:49:03.744Z"
   },
   {
    "duration": 29,
    "start_time": "2023-02-03T06:49:03.753Z"
   },
   {
    "duration": 5,
    "start_time": "2023-02-03T06:49:03.784Z"
   },
   {
    "duration": 8,
    "start_time": "2023-02-03T06:49:03.790Z"
   },
   {
    "duration": 32,
    "start_time": "2023-02-03T06:49:03.800Z"
   },
   {
    "duration": 4,
    "start_time": "2023-02-03T06:49:03.834Z"
   },
   {
    "duration": 16,
    "start_time": "2023-02-03T06:49:03.839Z"
   },
   {
    "duration": 10,
    "start_time": "2023-02-03T06:49:03.857Z"
   },
   {
    "duration": 12,
    "start_time": "2023-02-03T06:49:03.869Z"
   },
   {
    "duration": 18,
    "start_time": "2023-02-03T06:49:03.883Z"
   },
   {
    "duration": 27,
    "start_time": "2023-02-03T06:49:03.903Z"
   },
   {
    "duration": 11,
    "start_time": "2023-02-03T06:49:03.931Z"
   },
   {
    "duration": 34,
    "start_time": "2023-02-03T06:49:03.944Z"
   },
   {
    "duration": 6,
    "start_time": "2023-02-03T06:49:03.982Z"
   },
   {
    "duration": 9,
    "start_time": "2023-02-03T06:49:03.990Z"
   },
   {
    "duration": 660,
    "start_time": "2023-02-03T06:49:04.000Z"
   },
   {
    "duration": 54,
    "start_time": "2023-02-03T06:49:04.661Z"
   },
   {
    "duration": 13,
    "start_time": "2023-02-03T06:49:04.717Z"
   },
   {
    "duration": 103,
    "start_time": "2023-02-03T06:49:04.732Z"
   },
   {
    "duration": 97,
    "start_time": "2023-02-03T06:49:04.836Z"
   },
   {
    "duration": 95,
    "start_time": "2023-02-03T06:49:04.936Z"
   },
   {
    "duration": 105,
    "start_time": "2023-02-03T06:49:05.032Z"
   },
   {
    "duration": 7,
    "start_time": "2023-02-03T06:49:05.139Z"
   },
   {
    "duration": 27,
    "start_time": "2023-02-03T06:49:05.147Z"
   },
   {
    "duration": 4,
    "start_time": "2023-02-03T06:49:05.176Z"
   },
   {
    "duration": 40,
    "start_time": "2023-02-03T06:49:05.182Z"
   },
   {
    "duration": 8,
    "start_time": "2023-02-03T06:49:05.224Z"
   },
   {
    "duration": 7,
    "start_time": "2023-02-03T06:49:05.234Z"
   },
   {
    "duration": 898,
    "start_time": "2023-02-03T06:49:05.243Z"
   },
   {
    "duration": 56,
    "start_time": "2023-02-03T06:49:06.143Z"
   },
   {
    "duration": 6,
    "start_time": "2023-02-03T06:49:06.201Z"
   },
   {
    "duration": 234,
    "start_time": "2023-02-03T06:49:06.208Z"
   },
   {
    "duration": 11,
    "start_time": "2023-02-03T06:49:06.528Z"
   },
   {
    "duration": 99,
    "start_time": "2023-02-03T06:49:06.633Z"
   },
   {
    "duration": 54490,
    "start_time": "2023-02-03T07:05:41.904Z"
   },
   {
    "duration": 4,
    "start_time": "2023-02-03T07:06:53.920Z"
   },
   {
    "duration": 6,
    "start_time": "2023-02-03T07:24:20.340Z"
   },
   {
    "duration": 6,
    "start_time": "2023-02-03T07:24:28.172Z"
   },
   {
    "duration": 7,
    "start_time": "2023-02-03T07:24:33.989Z"
   },
   {
    "duration": 5,
    "start_time": "2023-02-03T07:27:15.599Z"
   },
   {
    "duration": 683,
    "start_time": "2023-02-03T07:27:50.400Z"
   },
   {
    "duration": 732,
    "start_time": "2023-02-03T07:28:06.463Z"
   },
   {
    "duration": 1062,
    "start_time": "2023-02-03T07:28:18.856Z"
   },
   {
    "duration": 51,
    "start_time": "2023-02-03T07:28:19.920Z"
   },
   {
    "duration": 12,
    "start_time": "2023-02-03T07:28:19.973Z"
   },
   {
    "duration": 3,
    "start_time": "2023-02-03T07:28:19.987Z"
   },
   {
    "duration": 5,
    "start_time": "2023-02-03T07:28:19.992Z"
   },
   {
    "duration": 6,
    "start_time": "2023-02-03T07:28:19.998Z"
   },
   {
    "duration": 11,
    "start_time": "2023-02-03T07:28:20.005Z"
   },
   {
    "duration": 17,
    "start_time": "2023-02-03T07:28:20.017Z"
   },
   {
    "duration": 3,
    "start_time": "2023-02-03T07:28:20.035Z"
   },
   {
    "duration": 6,
    "start_time": "2023-02-03T07:28:20.041Z"
   },
   {
    "duration": 15,
    "start_time": "2023-02-03T07:28:20.049Z"
   },
   {
    "duration": 4,
    "start_time": "2023-02-03T07:28:20.066Z"
   },
   {
    "duration": 9,
    "start_time": "2023-02-03T07:28:20.072Z"
   },
   {
    "duration": 5,
    "start_time": "2023-02-03T07:28:20.083Z"
   },
   {
    "duration": 37,
    "start_time": "2023-02-03T07:28:20.090Z"
   },
   {
    "duration": 26,
    "start_time": "2023-02-03T07:28:20.129Z"
   },
   {
    "duration": 5,
    "start_time": "2023-02-03T07:28:20.156Z"
   },
   {
    "duration": 20,
    "start_time": "2023-02-03T07:28:20.163Z"
   },
   {
    "duration": 19,
    "start_time": "2023-02-03T07:28:20.185Z"
   },
   {
    "duration": 8,
    "start_time": "2023-02-03T07:28:20.209Z"
   },
   {
    "duration": 35,
    "start_time": "2023-02-03T07:28:20.219Z"
   },
   {
    "duration": 14,
    "start_time": "2023-02-03T07:28:20.256Z"
   },
   {
    "duration": 24,
    "start_time": "2023-02-03T07:28:20.272Z"
   },
   {
    "duration": 23,
    "start_time": "2023-02-03T07:28:20.298Z"
   },
   {
    "duration": 60,
    "start_time": "2023-02-03T07:28:20.323Z"
   },
   {
    "duration": 15,
    "start_time": "2023-02-03T07:28:20.385Z"
   },
   {
    "duration": 55,
    "start_time": "2023-02-03T07:28:20.402Z"
   },
   {
    "duration": 6,
    "start_time": "2023-02-03T07:28:20.462Z"
   },
   {
    "duration": 12,
    "start_time": "2023-02-03T07:28:20.471Z"
   },
   {
    "duration": 649,
    "start_time": "2023-02-03T07:28:20.485Z"
   },
   {
    "duration": 50,
    "start_time": "2023-02-03T07:28:21.137Z"
   },
   {
    "duration": 5,
    "start_time": "2023-02-03T07:28:21.189Z"
   },
   {
    "duration": 238,
    "start_time": "2023-02-03T07:28:21.196Z"
   },
   {
    "duration": 98,
    "start_time": "2023-02-03T07:28:21.435Z"
   },
   {
    "duration": 196,
    "start_time": "2023-02-03T07:28:21.534Z"
   },
   {
    "duration": 9,
    "start_time": "2023-02-03T07:28:21.732Z"
   },
   {
    "duration": 6,
    "start_time": "2023-02-03T07:28:21.743Z"
   },
   {
    "duration": 12,
    "start_time": "2023-02-03T07:28:21.751Z"
   },
   {
    "duration": 3,
    "start_time": "2023-02-03T07:28:21.765Z"
   },
   {
    "duration": 59,
    "start_time": "2023-02-03T07:28:21.769Z"
   },
   {
    "duration": 5,
    "start_time": "2023-02-03T07:28:21.830Z"
   },
   {
    "duration": 9,
    "start_time": "2023-02-03T07:28:21.836Z"
   },
   {
    "duration": 880,
    "start_time": "2023-02-03T07:28:21.847Z"
   },
   {
    "duration": 54,
    "start_time": "2023-02-03T07:28:22.728Z"
   },
   {
    "duration": 6,
    "start_time": "2023-02-03T07:28:22.783Z"
   },
   {
    "duration": 237,
    "start_time": "2023-02-03T07:28:22.791Z"
   },
   {
    "duration": 5,
    "start_time": "2023-02-03T07:28:23.030Z"
   },
   {
    "duration": 192,
    "start_time": "2023-02-03T07:28:23.037Z"
   },
   {
    "duration": 53004,
    "start_time": "2023-02-03T07:28:23.231Z"
   },
   {
    "duration": 3,
    "start_time": "2023-02-03T07:29:16.237Z"
   },
   {
    "duration": 683,
    "start_time": "2023-02-03T07:29:16.241Z"
   },
   {
    "duration": 6,
    "start_time": "2023-02-03T07:29:16.925Z"
   },
   {
    "duration": 41,
    "start_time": "2023-02-03T07:32:05.357Z"
   },
   {
    "duration": 5,
    "start_time": "2023-02-03T07:32:17.004Z"
   },
   {
    "duration": 107,
    "start_time": "2023-02-03T07:38:16.874Z"
   },
   {
    "duration": 4,
    "start_time": "2023-02-03T07:39:20.892Z"
   },
   {
    "duration": 5,
    "start_time": "2023-02-03T07:39:48.845Z"
   },
   {
    "duration": 6,
    "start_time": "2023-02-03T07:50:30.957Z"
   },
   {
    "duration": 1103,
    "start_time": "2023-02-03T08:15:31.235Z"
   },
   {
    "duration": 68,
    "start_time": "2023-02-03T08:15:32.340Z"
   },
   {
    "duration": 13,
    "start_time": "2023-02-03T08:15:32.410Z"
   },
   {
    "duration": 4,
    "start_time": "2023-02-03T08:15:32.425Z"
   },
   {
    "duration": 9,
    "start_time": "2023-02-03T08:15:32.431Z"
   },
   {
    "duration": 9,
    "start_time": "2023-02-03T08:15:32.442Z"
   },
   {
    "duration": 16,
    "start_time": "2023-02-03T08:15:32.453Z"
   },
   {
    "duration": 24,
    "start_time": "2023-02-03T08:15:32.471Z"
   },
   {
    "duration": 4,
    "start_time": "2023-02-03T08:15:32.497Z"
   },
   {
    "duration": 7,
    "start_time": "2023-02-03T08:15:32.526Z"
   },
   {
    "duration": 18,
    "start_time": "2023-02-03T08:15:32.535Z"
   },
   {
    "duration": 4,
    "start_time": "2023-02-03T08:15:32.555Z"
   },
   {
    "duration": 9,
    "start_time": "2023-02-03T08:15:32.560Z"
   },
   {
    "duration": 7,
    "start_time": "2023-02-03T08:15:32.571Z"
   },
   {
    "duration": 10,
    "start_time": "2023-02-03T08:15:32.579Z"
   },
   {
    "duration": 64,
    "start_time": "2023-02-03T08:15:32.591Z"
   },
   {
    "duration": 6,
    "start_time": "2023-02-03T08:15:32.658Z"
   },
   {
    "duration": 15,
    "start_time": "2023-02-03T08:15:32.666Z"
   },
   {
    "duration": 9,
    "start_time": "2023-02-03T08:15:32.683Z"
   },
   {
    "duration": 14,
    "start_time": "2023-02-03T08:15:32.694Z"
   },
   {
    "duration": 25,
    "start_time": "2023-02-03T08:15:32.710Z"
   },
   {
    "duration": 25,
    "start_time": "2023-02-03T08:15:32.736Z"
   },
   {
    "duration": 14,
    "start_time": "2023-02-03T08:15:32.762Z"
   },
   {
    "duration": 5,
    "start_time": "2023-02-03T08:15:32.778Z"
   },
   {
    "duration": 13,
    "start_time": "2023-02-03T08:15:32.785Z"
   },
   {
    "duration": 34,
    "start_time": "2023-02-03T08:15:32.800Z"
   },
   {
    "duration": 12,
    "start_time": "2023-02-03T08:15:32.835Z"
   },
   {
    "duration": 55,
    "start_time": "2023-02-03T08:15:32.851Z"
   },
   {
    "duration": 6,
    "start_time": "2023-02-03T08:15:32.908Z"
   },
   {
    "duration": 8,
    "start_time": "2023-02-03T08:15:32.926Z"
   },
   {
    "duration": 681,
    "start_time": "2023-02-03T08:15:32.936Z"
   },
   {
    "duration": 60,
    "start_time": "2023-02-03T08:15:33.618Z"
   },
   {
    "duration": 7,
    "start_time": "2023-02-03T08:15:33.679Z"
   },
   {
    "duration": 145,
    "start_time": "2023-02-03T08:15:33.687Z"
   },
   {
    "duration": 5,
    "start_time": "2023-02-03T08:15:33.834Z"
   },
   {
    "duration": 187,
    "start_time": "2023-02-03T08:15:33.841Z"
   },
   {
    "duration": 14,
    "start_time": "2023-02-03T08:15:34.030Z"
   },
   {
    "duration": 6,
    "start_time": "2023-02-03T08:15:34.046Z"
   },
   {
    "duration": 22,
    "start_time": "2023-02-03T08:15:34.054Z"
   },
   {
    "duration": 4,
    "start_time": "2023-02-03T08:15:34.079Z"
   },
   {
    "duration": 60,
    "start_time": "2023-02-03T08:15:34.084Z"
   },
   {
    "duration": 5,
    "start_time": "2023-02-03T08:15:34.146Z"
   },
   {
    "duration": 9,
    "start_time": "2023-02-03T08:15:34.152Z"
   },
   {
    "duration": 951,
    "start_time": "2023-02-03T08:15:34.162Z"
   },
   {
    "duration": 61,
    "start_time": "2023-02-03T08:15:35.115Z"
   },
   {
    "duration": 7,
    "start_time": "2023-02-03T08:15:35.178Z"
   },
   {
    "duration": 245,
    "start_time": "2023-02-03T08:15:35.187Z"
   },
   {
    "duration": 99,
    "start_time": "2023-02-03T08:15:35.434Z"
   },
   {
    "duration": 93,
    "start_time": "2023-02-03T08:15:35.535Z"
   },
   {
    "duration": 57622,
    "start_time": "2023-02-03T08:15:35.630Z"
   },
   {
    "duration": 4,
    "start_time": "2023-02-03T08:16:33.254Z"
   },
   {
    "duration": 705,
    "start_time": "2023-02-03T08:16:33.259Z"
   },
   {
    "duration": 44,
    "start_time": "2023-02-03T08:16:33.965Z"
   },
   {
    "duration": 18,
    "start_time": "2023-02-03T08:16:34.010Z"
   },
   {
    "duration": 6,
    "start_time": "2023-02-03T08:16:34.029Z"
   },
   {
    "duration": 29,
    "start_time": "2023-02-03T08:16:34.037Z"
   },
   {
    "duration": 1131,
    "start_time": "2023-02-03T08:20:13.926Z"
   },
   {
    "duration": 58,
    "start_time": "2023-02-03T08:20:15.060Z"
   },
   {
    "duration": 13,
    "start_time": "2023-02-03T08:20:15.119Z"
   },
   {
    "duration": 5,
    "start_time": "2023-02-03T08:20:15.135Z"
   },
   {
    "duration": 11,
    "start_time": "2023-02-03T08:20:15.141Z"
   },
   {
    "duration": 7,
    "start_time": "2023-02-03T08:20:15.154Z"
   },
   {
    "duration": 22,
    "start_time": "2023-02-03T08:20:15.163Z"
   },
   {
    "duration": 18,
    "start_time": "2023-02-03T08:20:15.187Z"
   },
   {
    "duration": 4,
    "start_time": "2023-02-03T08:20:15.210Z"
   },
   {
    "duration": 6,
    "start_time": "2023-02-03T08:20:15.230Z"
   },
   {
    "duration": 17,
    "start_time": "2023-02-03T08:20:15.238Z"
   },
   {
    "duration": 5,
    "start_time": "2023-02-03T08:20:15.257Z"
   },
   {
    "duration": 11,
    "start_time": "2023-02-03T08:20:15.263Z"
   },
   {
    "duration": 8,
    "start_time": "2023-02-03T08:20:15.276Z"
   },
   {
    "duration": 5,
    "start_time": "2023-02-03T08:20:15.286Z"
   },
   {
    "duration": 50,
    "start_time": "2023-02-03T08:20:15.293Z"
   },
   {
    "duration": 6,
    "start_time": "2023-02-03T08:20:15.344Z"
   },
   {
    "duration": 7,
    "start_time": "2023-02-03T08:20:15.351Z"
   },
   {
    "duration": 8,
    "start_time": "2023-02-03T08:20:15.359Z"
   },
   {
    "duration": 12,
    "start_time": "2023-02-03T08:20:15.369Z"
   },
   {
    "duration": 4,
    "start_time": "2023-02-03T08:20:15.383Z"
   },
   {
    "duration": 51,
    "start_time": "2023-02-03T08:20:15.389Z"
   },
   {
    "duration": 6,
    "start_time": "2023-02-03T08:20:15.442Z"
   },
   {
    "duration": 4,
    "start_time": "2023-02-03T08:20:15.450Z"
   },
   {
    "duration": 16,
    "start_time": "2023-02-03T08:20:15.456Z"
   },
   {
    "duration": 33,
    "start_time": "2023-02-03T08:20:15.474Z"
   },
   {
    "duration": 17,
    "start_time": "2023-02-03T08:20:15.527Z"
   },
   {
    "duration": 55,
    "start_time": "2023-02-03T08:20:15.549Z"
   },
   {
    "duration": 7,
    "start_time": "2023-02-03T08:20:15.605Z"
   },
   {
    "duration": 32,
    "start_time": "2023-02-03T08:20:15.626Z"
   },
   {
    "duration": 761,
    "start_time": "2023-02-03T08:20:15.660Z"
   },
   {
    "duration": 66,
    "start_time": "2023-02-03T08:20:16.431Z"
   },
   {
    "duration": 7,
    "start_time": "2023-02-03T08:20:16.499Z"
   },
   {
    "duration": 426,
    "start_time": "2023-02-03T08:20:16.507Z"
   },
   {
    "duration": 93,
    "start_time": "2023-02-03T08:20:16.936Z"
   },
   {
    "duration": 109,
    "start_time": "2023-02-03T08:20:17.032Z"
   },
   {
    "duration": 89,
    "start_time": "2023-02-03T08:20:17.143Z"
   },
   {
    "duration": 5,
    "start_time": "2023-02-03T08:20:17.234Z"
   },
   {
    "duration": 24,
    "start_time": "2023-02-03T08:20:17.241Z"
   },
   {
    "duration": 7,
    "start_time": "2023-02-03T08:20:17.267Z"
   },
   {
    "duration": 54,
    "start_time": "2023-02-03T08:20:17.275Z"
   },
   {
    "duration": 5,
    "start_time": "2023-02-03T08:20:17.331Z"
   },
   {
    "duration": 10,
    "start_time": "2023-02-03T08:20:17.337Z"
   },
   {
    "duration": 956,
    "start_time": "2023-02-03T08:20:17.349Z"
   },
   {
    "duration": 62,
    "start_time": "2023-02-03T08:20:18.307Z"
   },
   {
    "duration": 7,
    "start_time": "2023-02-03T08:20:18.371Z"
   },
   {
    "duration": 548,
    "start_time": "2023-02-03T08:20:18.380Z"
   },
   {
    "duration": 96,
    "start_time": "2023-02-03T08:20:18.930Z"
   },
   {
    "duration": 108,
    "start_time": "2023-02-03T08:20:19.029Z"
   },
   {
    "duration": 54771,
    "start_time": "2023-02-03T08:20:19.139Z"
   },
   {
    "duration": 5,
    "start_time": "2023-02-03T08:21:13.912Z"
   },
   {
    "duration": 783,
    "start_time": "2023-02-03T08:21:13.928Z"
   },
   {
    "duration": 49,
    "start_time": "2023-02-03T08:21:14.713Z"
   },
   {
    "duration": 6,
    "start_time": "2023-02-03T08:21:14.764Z"
   },
   {
    "duration": 26,
    "start_time": "2023-02-03T08:21:14.772Z"
   },
   {
    "duration": 21,
    "start_time": "2023-02-03T08:21:14.801Z"
   },
   {
    "duration": 49,
    "start_time": "2023-02-03T08:35:09.772Z"
   },
   {
    "duration": 8,
    "start_time": "2023-02-03T08:36:12.734Z"
   },
   {
    "duration": 1147,
    "start_time": "2023-02-03T08:36:21.893Z"
   },
   {
    "duration": 54,
    "start_time": "2023-02-03T08:36:23.042Z"
   },
   {
    "duration": 15,
    "start_time": "2023-02-03T08:36:23.098Z"
   },
   {
    "duration": 5,
    "start_time": "2023-02-03T08:36:23.115Z"
   },
   {
    "duration": 6,
    "start_time": "2023-02-03T08:36:23.121Z"
   },
   {
    "duration": 7,
    "start_time": "2023-02-03T08:36:23.129Z"
   },
   {
    "duration": 12,
    "start_time": "2023-02-03T08:36:23.138Z"
   },
   {
    "duration": 17,
    "start_time": "2023-02-03T08:36:23.151Z"
   },
   {
    "duration": 4,
    "start_time": "2023-02-03T08:36:23.170Z"
   },
   {
    "duration": 8,
    "start_time": "2023-02-03T08:36:23.177Z"
   },
   {
    "duration": 42,
    "start_time": "2023-02-03T08:36:23.186Z"
   },
   {
    "duration": 5,
    "start_time": "2023-02-03T08:36:23.230Z"
   },
   {
    "duration": 15,
    "start_time": "2023-02-03T08:36:23.237Z"
   },
   {
    "duration": 11,
    "start_time": "2023-02-03T08:36:23.254Z"
   },
   {
    "duration": 5,
    "start_time": "2023-02-03T08:36:23.268Z"
   },
   {
    "duration": 58,
    "start_time": "2023-02-03T08:36:23.276Z"
   },
   {
    "duration": 9,
    "start_time": "2023-02-03T08:36:23.337Z"
   },
   {
    "duration": 16,
    "start_time": "2023-02-03T08:36:23.349Z"
   },
   {
    "duration": 15,
    "start_time": "2023-02-03T08:36:23.367Z"
   },
   {
    "duration": 19,
    "start_time": "2023-02-03T08:36:23.384Z"
   },
   {
    "duration": 6,
    "start_time": "2023-02-03T08:36:23.405Z"
   },
   {
    "duration": 30,
    "start_time": "2023-02-03T08:36:23.412Z"
   },
   {
    "duration": 11,
    "start_time": "2023-02-03T08:36:23.444Z"
   },
   {
    "duration": 26,
    "start_time": "2023-02-03T08:36:23.457Z"
   },
   {
    "duration": 17,
    "start_time": "2023-02-03T08:36:23.486Z"
   },
   {
    "duration": 28,
    "start_time": "2023-02-03T08:36:23.505Z"
   },
   {
    "duration": 13,
    "start_time": "2023-02-03T08:36:23.535Z"
   },
   {
    "duration": 41,
    "start_time": "2023-02-03T08:36:23.551Z"
   },
   {
    "duration": 9,
    "start_time": "2023-02-03T08:36:23.594Z"
   },
   {
    "duration": 28,
    "start_time": "2023-02-03T08:36:23.605Z"
   },
   {
    "duration": 709,
    "start_time": "2023-02-03T08:36:23.635Z"
   },
   {
    "duration": 55,
    "start_time": "2023-02-03T08:36:24.346Z"
   },
   {
    "duration": 24,
    "start_time": "2023-02-03T08:36:24.403Z"
   },
   {
    "duration": 307,
    "start_time": "2023-02-03T08:36:24.429Z"
   },
   {
    "duration": 96,
    "start_time": "2023-02-03T08:36:24.739Z"
   },
   {
    "duration": 207,
    "start_time": "2023-02-03T08:36:24.837Z"
   },
   {
    "duration": 16,
    "start_time": "2023-02-03T08:36:25.046Z"
   },
   {
    "duration": 8,
    "start_time": "2023-02-03T08:36:25.064Z"
   },
   {
    "duration": 37,
    "start_time": "2023-02-03T08:36:25.076Z"
   },
   {
    "duration": 5,
    "start_time": "2023-02-03T08:36:25.115Z"
   },
   {
    "duration": 43,
    "start_time": "2023-02-03T08:36:25.121Z"
   },
   {
    "duration": 5,
    "start_time": "2023-02-03T08:36:25.165Z"
   },
   {
    "duration": 9,
    "start_time": "2023-02-03T08:36:25.171Z"
   },
   {
    "duration": 938,
    "start_time": "2023-02-03T08:36:25.182Z"
   },
   {
    "duration": 57,
    "start_time": "2023-02-03T08:36:26.122Z"
   },
   {
    "duration": 6,
    "start_time": "2023-02-03T08:36:26.181Z"
   },
   {
    "duration": 151,
    "start_time": "2023-02-03T08:36:26.188Z"
   },
   {
    "duration": 90,
    "start_time": "2023-02-03T08:36:26.341Z"
   },
   {
    "duration": 110,
    "start_time": "2023-02-03T08:36:26.432Z"
   },
   {
    "duration": 56402,
    "start_time": "2023-02-03T08:36:26.544Z"
   },
   {
    "duration": 6,
    "start_time": "2023-02-03T08:37:22.948Z"
   },
   {
    "duration": 725,
    "start_time": "2023-02-03T08:37:22.956Z"
   },
   {
    "duration": 53,
    "start_time": "2023-02-03T08:37:23.683Z"
   },
   {
    "duration": 7,
    "start_time": "2023-02-03T08:37:23.738Z"
   },
   {
    "duration": 44,
    "start_time": "2023-02-03T08:37:23.747Z"
   },
   {
    "duration": 8,
    "start_time": "2023-02-03T08:37:23.792Z"
   },
   {
    "duration": 7,
    "start_time": "2023-02-03T08:37:23.828Z"
   },
   {
    "duration": 9,
    "start_time": "2023-02-03T08:37:23.837Z"
   },
   {
    "duration": 1227,
    "start_time": "2023-02-03T08:53:04.611Z"
   },
   {
    "duration": 69,
    "start_time": "2023-02-03T08:53:05.841Z"
   },
   {
    "duration": 13,
    "start_time": "2023-02-03T08:53:05.912Z"
   },
   {
    "duration": 9,
    "start_time": "2023-02-03T08:53:05.927Z"
   },
   {
    "duration": 16,
    "start_time": "2023-02-03T08:53:05.937Z"
   },
   {
    "duration": 24,
    "start_time": "2023-02-03T08:53:05.955Z"
   },
   {
    "duration": 11,
    "start_time": "2023-02-03T08:53:05.981Z"
   },
   {
    "duration": 16,
    "start_time": "2023-02-03T08:53:05.994Z"
   },
   {
    "duration": 16,
    "start_time": "2023-02-03T08:53:06.012Z"
   },
   {
    "duration": 7,
    "start_time": "2023-02-03T08:53:06.031Z"
   },
   {
    "duration": 42,
    "start_time": "2023-02-03T08:53:06.041Z"
   },
   {
    "duration": 5,
    "start_time": "2023-02-03T08:53:06.085Z"
   },
   {
    "duration": 14,
    "start_time": "2023-02-03T08:53:06.092Z"
   },
   {
    "duration": 15,
    "start_time": "2023-02-03T08:53:06.107Z"
   },
   {
    "duration": 8,
    "start_time": "2023-02-03T08:53:06.124Z"
   },
   {
    "duration": 24,
    "start_time": "2023-02-03T08:53:06.135Z"
   },
   {
    "duration": 5,
    "start_time": "2023-02-03T08:53:06.161Z"
   },
   {
    "duration": 9,
    "start_time": "2023-02-03T08:53:06.168Z"
   },
   {
    "duration": 7,
    "start_time": "2023-02-03T08:53:06.180Z"
   },
   {
    "duration": 12,
    "start_time": "2023-02-03T08:53:06.188Z"
   },
   {
    "duration": 4,
    "start_time": "2023-02-03T08:53:06.228Z"
   },
   {
    "duration": 16,
    "start_time": "2023-02-03T08:53:06.234Z"
   },
   {
    "duration": 6,
    "start_time": "2023-02-03T08:53:06.252Z"
   },
   {
    "duration": 14,
    "start_time": "2023-02-03T08:53:06.260Z"
   },
   {
    "duration": 35,
    "start_time": "2023-02-03T08:53:06.276Z"
   },
   {
    "duration": 31,
    "start_time": "2023-02-03T08:53:06.313Z"
   },
   {
    "duration": 16,
    "start_time": "2023-02-03T08:53:06.346Z"
   },
   {
    "duration": 40,
    "start_time": "2023-02-03T08:53:06.366Z"
   },
   {
    "duration": 22,
    "start_time": "2023-02-03T08:53:06.408Z"
   },
   {
    "duration": 18,
    "start_time": "2023-02-03T08:53:06.432Z"
   },
   {
    "duration": 18,
    "start_time": "2023-02-03T08:53:06.451Z"
   },
   {
    "duration": 8,
    "start_time": "2023-02-03T08:53:06.472Z"
   },
   {
    "duration": 691,
    "start_time": "2023-02-03T08:53:06.481Z"
   },
   {
    "duration": 75,
    "start_time": "2023-02-03T08:53:07.174Z"
   },
   {
    "duration": 9,
    "start_time": "2023-02-03T08:53:07.251Z"
   },
   {
    "duration": 76,
    "start_time": "2023-02-03T08:53:07.264Z"
   },
   {
    "duration": 8,
    "start_time": "2023-02-03T08:53:07.342Z"
   },
   {
    "duration": 387,
    "start_time": "2023-02-03T08:53:07.352Z"
   },
   {
    "duration": 90,
    "start_time": "2023-02-03T08:53:07.741Z"
   },
   {
    "duration": 199,
    "start_time": "2023-02-03T08:53:07.834Z"
   },
   {
    "duration": 18,
    "start_time": "2023-02-03T08:53:08.035Z"
   },
   {
    "duration": 179,
    "start_time": "2023-02-03T08:53:08.055Z"
   },
   {
    "duration": 12,
    "start_time": "2023-02-03T08:53:08.236Z"
   },
   {
    "duration": 7,
    "start_time": "2023-02-03T08:53:08.250Z"
   },
   {
    "duration": 20,
    "start_time": "2023-02-03T08:53:08.258Z"
   },
   {
    "duration": 4,
    "start_time": "2023-02-03T08:53:08.281Z"
   },
   {
    "duration": 61,
    "start_time": "2023-02-03T08:53:08.287Z"
   },
   {
    "duration": 6,
    "start_time": "2023-02-03T08:53:08.350Z"
   },
   {
    "duration": 8,
    "start_time": "2023-02-03T08:53:08.358Z"
   },
   {
    "duration": 15,
    "start_time": "2023-02-03T08:53:08.367Z"
   },
   {
    "duration": 8,
    "start_time": "2023-02-03T08:53:08.384Z"
   },
   {
    "duration": 981,
    "start_time": "2023-02-03T08:53:08.400Z"
   },
   {
    "duration": 65,
    "start_time": "2023-02-03T08:53:09.382Z"
   },
   {
    "duration": 6,
    "start_time": "2023-02-03T08:53:09.448Z"
   },
   {
    "duration": 72,
    "start_time": "2023-02-03T08:53:09.455Z"
   },
   {
    "duration": 6,
    "start_time": "2023-02-03T08:53:09.529Z"
   },
   {
    "duration": 500,
    "start_time": "2023-02-03T08:53:09.537Z"
   },
   {
    "duration": 91,
    "start_time": "2023-02-03T08:53:10.039Z"
   },
   {
    "duration": 102,
    "start_time": "2023-02-03T08:53:10.132Z"
   },
   {
    "duration": 11,
    "start_time": "2023-02-03T08:53:10.236Z"
   },
   {
    "duration": 187,
    "start_time": "2023-02-03T08:53:10.253Z"
   },
   {
    "duration": 58487,
    "start_time": "2023-02-03T08:53:10.442Z"
   },
   {
    "duration": 4,
    "start_time": "2023-02-03T08:54:08.931Z"
   },
   {
    "duration": 732,
    "start_time": "2023-02-03T08:54:08.937Z"
   },
   {
    "duration": 44,
    "start_time": "2023-02-03T08:54:09.671Z"
   },
   {
    "duration": 15,
    "start_time": "2023-02-03T08:54:09.717Z"
   },
   {
    "duration": 53,
    "start_time": "2023-02-03T08:54:09.734Z"
   },
   {
    "duration": 7,
    "start_time": "2023-02-03T08:54:09.789Z"
   },
   {
    "duration": 30,
    "start_time": "2023-02-03T08:54:09.798Z"
   },
   {
    "duration": 7,
    "start_time": "2023-02-03T08:54:09.830Z"
   },
   {
    "duration": 1114,
    "start_time": "2023-02-04T02:07:01.420Z"
   },
   {
    "duration": 187,
    "start_time": "2023-02-04T02:07:02.537Z"
   },
   {
    "duration": 13,
    "start_time": "2023-02-04T02:07:02.725Z"
   },
   {
    "duration": 6,
    "start_time": "2023-02-04T02:07:02.740Z"
   },
   {
    "duration": 31,
    "start_time": "2023-02-04T02:07:02.748Z"
   },
   {
    "duration": 16,
    "start_time": "2023-02-04T02:07:02.781Z"
   },
   {
    "duration": 14,
    "start_time": "2023-02-04T02:07:02.799Z"
   },
   {
    "duration": 15,
    "start_time": "2023-02-04T02:07:02.815Z"
   },
   {
    "duration": 4,
    "start_time": "2023-02-04T02:07:02.832Z"
   },
   {
    "duration": 7,
    "start_time": "2023-02-04T02:07:02.839Z"
   },
   {
    "duration": 14,
    "start_time": "2023-02-04T02:07:02.847Z"
   },
   {
    "duration": 4,
    "start_time": "2023-02-04T02:07:02.865Z"
   },
   {
    "duration": 9,
    "start_time": "2023-02-04T02:07:02.871Z"
   },
   {
    "duration": 9,
    "start_time": "2023-02-04T02:07:02.882Z"
   },
   {
    "duration": 5,
    "start_time": "2023-02-04T02:07:02.893Z"
   },
   {
    "duration": 40,
    "start_time": "2023-02-04T02:07:02.900Z"
   },
   {
    "duration": 4,
    "start_time": "2023-02-04T02:07:02.942Z"
   },
   {
    "duration": 4,
    "start_time": "2023-02-04T02:07:02.948Z"
   },
   {
    "duration": 35,
    "start_time": "2023-02-04T02:07:02.954Z"
   },
   {
    "duration": 29,
    "start_time": "2023-02-04T02:07:02.991Z"
   },
   {
    "duration": 4,
    "start_time": "2023-02-04T02:07:03.022Z"
   },
   {
    "duration": 32,
    "start_time": "2023-02-04T02:07:03.028Z"
   },
   {
    "duration": 12,
    "start_time": "2023-02-04T02:07:03.062Z"
   },
   {
    "duration": 5,
    "start_time": "2023-02-04T02:07:03.076Z"
   },
   {
    "duration": 11,
    "start_time": "2023-02-04T02:07:03.082Z"
   },
   {
    "duration": 23,
    "start_time": "2023-02-04T02:07:03.094Z"
   },
   {
    "duration": 11,
    "start_time": "2023-02-04T02:07:03.119Z"
   },
   {
    "duration": 307,
    "start_time": "2023-02-04T02:07:03.137Z"
   },
   {
    "duration": 4,
    "start_time": "2023-02-04T02:07:03.445Z"
   },
   {
    "duration": 107,
    "start_time": "2023-02-04T02:07:03.450Z"
   },
   {
    "duration": 0,
    "start_time": "2023-02-04T02:07:03.559Z"
   },
   {
    "duration": 0,
    "start_time": "2023-02-04T02:07:03.560Z"
   },
   {
    "duration": 0,
    "start_time": "2023-02-04T02:07:03.561Z"
   },
   {
    "duration": 0,
    "start_time": "2023-02-04T02:07:03.562Z"
   },
   {
    "duration": 0,
    "start_time": "2023-02-04T02:07:03.563Z"
   },
   {
    "duration": 0,
    "start_time": "2023-02-04T02:07:03.564Z"
   },
   {
    "duration": 0,
    "start_time": "2023-02-04T02:07:03.565Z"
   },
   {
    "duration": 0,
    "start_time": "2023-02-04T02:07:03.566Z"
   },
   {
    "duration": 0,
    "start_time": "2023-02-04T02:07:03.567Z"
   },
   {
    "duration": 0,
    "start_time": "2023-02-04T02:07:03.568Z"
   },
   {
    "duration": 0,
    "start_time": "2023-02-04T02:07:03.569Z"
   },
   {
    "duration": 0,
    "start_time": "2023-02-04T02:07:03.570Z"
   },
   {
    "duration": 0,
    "start_time": "2023-02-04T02:07:03.571Z"
   },
   {
    "duration": 0,
    "start_time": "2023-02-04T02:07:03.572Z"
   },
   {
    "duration": 0,
    "start_time": "2023-02-04T02:07:03.573Z"
   },
   {
    "duration": 0,
    "start_time": "2023-02-04T02:07:03.574Z"
   },
   {
    "duration": 0,
    "start_time": "2023-02-04T02:07:03.575Z"
   },
   {
    "duration": 0,
    "start_time": "2023-02-04T02:07:03.576Z"
   },
   {
    "duration": 0,
    "start_time": "2023-02-04T02:07:03.577Z"
   },
   {
    "duration": 0,
    "start_time": "2023-02-04T02:07:03.578Z"
   },
   {
    "duration": 0,
    "start_time": "2023-02-04T02:07:03.580Z"
   },
   {
    "duration": 0,
    "start_time": "2023-02-04T02:07:03.581Z"
   },
   {
    "duration": 0,
    "start_time": "2023-02-04T02:07:03.582Z"
   },
   {
    "duration": 0,
    "start_time": "2023-02-04T02:07:03.583Z"
   },
   {
    "duration": 0,
    "start_time": "2023-02-04T02:07:03.584Z"
   },
   {
    "duration": 0,
    "start_time": "2023-02-04T02:07:03.585Z"
   },
   {
    "duration": 0,
    "start_time": "2023-02-04T02:07:03.586Z"
   },
   {
    "duration": 0,
    "start_time": "2023-02-04T02:07:03.587Z"
   },
   {
    "duration": 0,
    "start_time": "2023-02-04T02:07:03.588Z"
   },
   {
    "duration": 0,
    "start_time": "2023-02-04T02:07:03.588Z"
   },
   {
    "duration": 0,
    "start_time": "2023-02-04T02:07:03.589Z"
   },
   {
    "duration": 0,
    "start_time": "2023-02-04T02:07:03.637Z"
   },
   {
    "duration": 0,
    "start_time": "2023-02-04T02:07:03.639Z"
   },
   {
    "duration": 0,
    "start_time": "2023-02-04T02:07:03.640Z"
   },
   {
    "duration": 0,
    "start_time": "2023-02-04T02:07:03.641Z"
   },
   {
    "duration": 0,
    "start_time": "2023-02-04T02:07:03.641Z"
   },
   {
    "duration": 0,
    "start_time": "2023-02-04T02:07:03.642Z"
   },
   {
    "duration": 0,
    "start_time": "2023-02-04T02:07:03.643Z"
   },
   {
    "duration": 0,
    "start_time": "2023-02-04T02:07:03.644Z"
   },
   {
    "duration": 0,
    "start_time": "2023-02-04T02:07:03.645Z"
   },
   {
    "duration": 1097,
    "start_time": "2023-02-04T02:07:51.241Z"
   },
   {
    "duration": 68,
    "start_time": "2023-02-04T02:07:52.340Z"
   },
   {
    "duration": 16,
    "start_time": "2023-02-04T02:07:52.410Z"
   },
   {
    "duration": 12,
    "start_time": "2023-02-04T02:07:52.429Z"
   },
   {
    "duration": 21,
    "start_time": "2023-02-04T02:07:52.443Z"
   },
   {
    "duration": 28,
    "start_time": "2023-02-04T02:07:52.466Z"
   },
   {
    "duration": 31,
    "start_time": "2023-02-04T02:07:52.496Z"
   },
   {
    "duration": 34,
    "start_time": "2023-02-04T02:07:52.529Z"
   },
   {
    "duration": 4,
    "start_time": "2023-02-04T02:07:52.565Z"
   },
   {
    "duration": 22,
    "start_time": "2023-02-04T02:07:52.573Z"
   },
   {
    "duration": 32,
    "start_time": "2023-02-04T02:07:52.597Z"
   },
   {
    "duration": 8,
    "start_time": "2023-02-04T02:07:52.631Z"
   },
   {
    "duration": 39,
    "start_time": "2023-02-04T02:07:52.641Z"
   },
   {
    "duration": 19,
    "start_time": "2023-02-04T02:07:52.682Z"
   },
   {
    "duration": 27,
    "start_time": "2023-02-04T02:07:52.702Z"
   },
   {
    "duration": 39,
    "start_time": "2023-02-04T02:07:52.731Z"
   },
   {
    "duration": 10,
    "start_time": "2023-02-04T02:07:52.772Z"
   },
   {
    "duration": 21,
    "start_time": "2023-02-04T02:07:52.784Z"
   },
   {
    "duration": 8,
    "start_time": "2023-02-04T02:07:52.807Z"
   },
   {
    "duration": 15,
    "start_time": "2023-02-04T02:07:52.816Z"
   },
   {
    "duration": 5,
    "start_time": "2023-02-04T02:07:52.833Z"
   },
   {
    "duration": 14,
    "start_time": "2023-02-04T02:07:52.839Z"
   },
   {
    "duration": 13,
    "start_time": "2023-02-04T02:07:52.855Z"
   },
   {
    "duration": 15,
    "start_time": "2023-02-04T02:07:52.870Z"
   },
   {
    "duration": 11,
    "start_time": "2023-02-04T02:07:52.886Z"
   },
   {
    "duration": 37,
    "start_time": "2023-02-04T02:07:52.899Z"
   },
   {
    "duration": 11,
    "start_time": "2023-02-04T02:07:52.937Z"
   },
   {
    "duration": 16,
    "start_time": "2023-02-04T02:07:52.954Z"
   },
   {
    "duration": 0,
    "start_time": "2023-02-04T02:07:52.971Z"
   },
   {
    "duration": 0,
    "start_time": "2023-02-04T02:07:52.973Z"
   },
   {
    "duration": 0,
    "start_time": "2023-02-04T02:07:52.974Z"
   },
   {
    "duration": 0,
    "start_time": "2023-02-04T02:07:52.975Z"
   },
   {
    "duration": 0,
    "start_time": "2023-02-04T02:07:52.976Z"
   },
   {
    "duration": 0,
    "start_time": "2023-02-04T02:07:52.978Z"
   },
   {
    "duration": 0,
    "start_time": "2023-02-04T02:07:52.979Z"
   },
   {
    "duration": 0,
    "start_time": "2023-02-04T02:07:52.980Z"
   },
   {
    "duration": 0,
    "start_time": "2023-02-04T02:07:52.981Z"
   },
   {
    "duration": 0,
    "start_time": "2023-02-04T02:07:52.983Z"
   },
   {
    "duration": 0,
    "start_time": "2023-02-04T02:07:52.984Z"
   },
   {
    "duration": 0,
    "start_time": "2023-02-04T02:07:52.985Z"
   },
   {
    "duration": 0,
    "start_time": "2023-02-04T02:07:52.986Z"
   },
   {
    "duration": 0,
    "start_time": "2023-02-04T02:07:52.987Z"
   },
   {
    "duration": 0,
    "start_time": "2023-02-04T02:07:52.988Z"
   },
   {
    "duration": 0,
    "start_time": "2023-02-04T02:07:52.989Z"
   },
   {
    "duration": 0,
    "start_time": "2023-02-04T02:07:52.991Z"
   },
   {
    "duration": 0,
    "start_time": "2023-02-04T02:07:52.991Z"
   },
   {
    "duration": 0,
    "start_time": "2023-02-04T02:07:52.992Z"
   },
   {
    "duration": 0,
    "start_time": "2023-02-04T02:07:52.993Z"
   },
   {
    "duration": 0,
    "start_time": "2023-02-04T02:07:53.037Z"
   },
   {
    "duration": 0,
    "start_time": "2023-02-04T02:07:53.039Z"
   },
   {
    "duration": 0,
    "start_time": "2023-02-04T02:07:53.040Z"
   },
   {
    "duration": 0,
    "start_time": "2023-02-04T02:07:53.041Z"
   },
   {
    "duration": 0,
    "start_time": "2023-02-04T02:07:53.042Z"
   },
   {
    "duration": 0,
    "start_time": "2023-02-04T02:07:53.043Z"
   },
   {
    "duration": 0,
    "start_time": "2023-02-04T02:07:53.044Z"
   },
   {
    "duration": 0,
    "start_time": "2023-02-04T02:07:53.045Z"
   },
   {
    "duration": 0,
    "start_time": "2023-02-04T02:07:53.046Z"
   },
   {
    "duration": 0,
    "start_time": "2023-02-04T02:07:53.047Z"
   },
   {
    "duration": 0,
    "start_time": "2023-02-04T02:07:53.048Z"
   },
   {
    "duration": 0,
    "start_time": "2023-02-04T02:07:53.049Z"
   },
   {
    "duration": 0,
    "start_time": "2023-02-04T02:07:53.050Z"
   },
   {
    "duration": 1,
    "start_time": "2023-02-04T02:07:53.051Z"
   },
   {
    "duration": 0,
    "start_time": "2023-02-04T02:07:53.052Z"
   },
   {
    "duration": 0,
    "start_time": "2023-02-04T02:07:53.054Z"
   },
   {
    "duration": 0,
    "start_time": "2023-02-04T02:07:53.055Z"
   },
   {
    "duration": 0,
    "start_time": "2023-02-04T02:07:53.056Z"
   },
   {
    "duration": 0,
    "start_time": "2023-02-04T02:07:53.057Z"
   },
   {
    "duration": 0,
    "start_time": "2023-02-04T02:07:53.058Z"
   },
   {
    "duration": 0,
    "start_time": "2023-02-04T02:07:53.059Z"
   },
   {
    "duration": 0,
    "start_time": "2023-02-04T02:07:53.061Z"
   },
   {
    "duration": 1055,
    "start_time": "2023-02-04T02:08:28.882Z"
   },
   {
    "duration": 57,
    "start_time": "2023-02-04T02:08:29.938Z"
   },
   {
    "duration": 11,
    "start_time": "2023-02-04T02:08:29.997Z"
   },
   {
    "duration": 16,
    "start_time": "2023-02-04T02:08:30.010Z"
   },
   {
    "duration": 25,
    "start_time": "2023-02-04T02:08:30.028Z"
   },
   {
    "duration": 10,
    "start_time": "2023-02-04T02:08:30.055Z"
   },
   {
    "duration": 14,
    "start_time": "2023-02-04T02:08:30.066Z"
   },
   {
    "duration": 22,
    "start_time": "2023-02-04T02:08:30.081Z"
   },
   {
    "duration": 6,
    "start_time": "2023-02-04T02:08:30.104Z"
   },
   {
    "duration": 6,
    "start_time": "2023-02-04T02:08:30.112Z"
   },
   {
    "duration": 22,
    "start_time": "2023-02-04T02:08:30.120Z"
   },
   {
    "duration": 12,
    "start_time": "2023-02-04T02:08:30.143Z"
   },
   {
    "duration": 23,
    "start_time": "2023-02-04T02:08:30.157Z"
   },
   {
    "duration": 22,
    "start_time": "2023-02-04T02:08:30.181Z"
   },
   {
    "duration": 38,
    "start_time": "2023-02-04T02:08:30.205Z"
   },
   {
    "duration": 49,
    "start_time": "2023-02-04T02:08:30.245Z"
   },
   {
    "duration": 14,
    "start_time": "2023-02-04T02:08:30.296Z"
   },
   {
    "duration": 24,
    "start_time": "2023-02-04T02:08:30.312Z"
   },
   {
    "duration": 15,
    "start_time": "2023-02-04T02:08:30.338Z"
   },
   {
    "duration": 44,
    "start_time": "2023-02-04T02:08:30.354Z"
   },
   {
    "duration": 29,
    "start_time": "2023-02-04T02:08:30.400Z"
   },
   {
    "duration": 33,
    "start_time": "2023-02-04T02:08:30.430Z"
   },
   {
    "duration": 21,
    "start_time": "2023-02-04T02:08:30.465Z"
   },
   {
    "duration": 29,
    "start_time": "2023-02-04T02:08:30.488Z"
   },
   {
    "duration": 37,
    "start_time": "2023-02-04T02:08:30.519Z"
   },
   {
    "duration": 42,
    "start_time": "2023-02-04T02:08:30.558Z"
   },
   {
    "duration": 41,
    "start_time": "2023-02-04T02:08:30.602Z"
   },
   {
    "duration": 305,
    "start_time": "2023-02-04T02:08:30.647Z"
   },
   {
    "duration": 4,
    "start_time": "2023-02-04T02:08:30.954Z"
   },
   {
    "duration": 107,
    "start_time": "2023-02-04T02:08:30.959Z"
   },
   {
    "duration": 0,
    "start_time": "2023-02-04T02:08:31.068Z"
   },
   {
    "duration": 0,
    "start_time": "2023-02-04T02:08:31.069Z"
   },
   {
    "duration": 0,
    "start_time": "2023-02-04T02:08:31.070Z"
   },
   {
    "duration": 0,
    "start_time": "2023-02-04T02:08:31.071Z"
   },
   {
    "duration": 0,
    "start_time": "2023-02-04T02:08:31.072Z"
   },
   {
    "duration": 0,
    "start_time": "2023-02-04T02:08:31.073Z"
   },
   {
    "duration": 0,
    "start_time": "2023-02-04T02:08:31.074Z"
   },
   {
    "duration": 0,
    "start_time": "2023-02-04T02:08:31.075Z"
   },
   {
    "duration": 0,
    "start_time": "2023-02-04T02:08:31.076Z"
   },
   {
    "duration": 0,
    "start_time": "2023-02-04T02:08:31.077Z"
   },
   {
    "duration": 0,
    "start_time": "2023-02-04T02:08:31.078Z"
   },
   {
    "duration": 0,
    "start_time": "2023-02-04T02:08:31.079Z"
   },
   {
    "duration": 0,
    "start_time": "2023-02-04T02:08:31.080Z"
   },
   {
    "duration": 0,
    "start_time": "2023-02-04T02:08:31.081Z"
   },
   {
    "duration": 0,
    "start_time": "2023-02-04T02:08:31.082Z"
   },
   {
    "duration": 0,
    "start_time": "2023-02-04T02:08:31.083Z"
   },
   {
    "duration": 0,
    "start_time": "2023-02-04T02:08:31.084Z"
   },
   {
    "duration": 0,
    "start_time": "2023-02-04T02:08:31.085Z"
   },
   {
    "duration": 0,
    "start_time": "2023-02-04T02:08:31.086Z"
   },
   {
    "duration": 0,
    "start_time": "2023-02-04T02:08:31.087Z"
   },
   {
    "duration": 0,
    "start_time": "2023-02-04T02:08:31.088Z"
   },
   {
    "duration": 0,
    "start_time": "2023-02-04T02:08:31.089Z"
   },
   {
    "duration": 0,
    "start_time": "2023-02-04T02:08:31.090Z"
   },
   {
    "duration": 0,
    "start_time": "2023-02-04T02:08:31.091Z"
   },
   {
    "duration": 0,
    "start_time": "2023-02-04T02:08:31.092Z"
   },
   {
    "duration": 0,
    "start_time": "2023-02-04T02:08:31.093Z"
   },
   {
    "duration": 0,
    "start_time": "2023-02-04T02:08:31.094Z"
   },
   {
    "duration": 0,
    "start_time": "2023-02-04T02:08:31.095Z"
   },
   {
    "duration": 0,
    "start_time": "2023-02-04T02:08:31.096Z"
   },
   {
    "duration": 0,
    "start_time": "2023-02-04T02:08:31.138Z"
   },
   {
    "duration": 0,
    "start_time": "2023-02-04T02:08:31.139Z"
   },
   {
    "duration": 0,
    "start_time": "2023-02-04T02:08:31.140Z"
   },
   {
    "duration": 0,
    "start_time": "2023-02-04T02:08:31.141Z"
   },
   {
    "duration": 0,
    "start_time": "2023-02-04T02:08:31.142Z"
   },
   {
    "duration": 0,
    "start_time": "2023-02-04T02:08:31.143Z"
   },
   {
    "duration": 0,
    "start_time": "2023-02-04T02:08:31.144Z"
   },
   {
    "duration": 0,
    "start_time": "2023-02-04T02:08:31.145Z"
   },
   {
    "duration": 0,
    "start_time": "2023-02-04T02:08:31.146Z"
   },
   {
    "duration": 0,
    "start_time": "2023-02-04T02:08:31.146Z"
   },
   {
    "duration": 0,
    "start_time": "2023-02-04T02:08:31.148Z"
   },
   {
    "duration": 4,
    "start_time": "2023-02-04T02:09:00.849Z"
   },
   {
    "duration": 10,
    "start_time": "2023-02-04T02:09:46.921Z"
   },
   {
    "duration": 330,
    "start_time": "2023-02-04T02:09:50.986Z"
   },
   {
    "duration": 4,
    "start_time": "2023-02-04T02:09:53.976Z"
   },
   {
    "duration": 6,
    "start_time": "2023-02-04T02:10:34.747Z"
   },
   {
    "duration": 5,
    "start_time": "2023-02-04T02:10:36.001Z"
   },
   {
    "duration": 332,
    "start_time": "2023-02-04T02:13:17.981Z"
   },
   {
    "duration": 4,
    "start_time": "2023-02-04T02:13:20.946Z"
   },
   {
    "duration": 5,
    "start_time": "2023-02-04T02:13:30.611Z"
   },
   {
    "duration": 5,
    "start_time": "2023-02-04T02:13:31.316Z"
   },
   {
    "duration": 1137,
    "start_time": "2023-02-04T02:15:21.752Z"
   },
   {
    "duration": 63,
    "start_time": "2023-02-04T02:15:22.891Z"
   },
   {
    "duration": 13,
    "start_time": "2023-02-04T02:15:22.956Z"
   },
   {
    "duration": 4,
    "start_time": "2023-02-04T02:15:22.971Z"
   },
   {
    "duration": 9,
    "start_time": "2023-02-04T02:15:22.976Z"
   },
   {
    "duration": 11,
    "start_time": "2023-02-04T02:15:22.987Z"
   },
   {
    "duration": 13,
    "start_time": "2023-02-04T02:15:22.999Z"
   },
   {
    "duration": 33,
    "start_time": "2023-02-04T02:15:23.013Z"
   },
   {
    "duration": 3,
    "start_time": "2023-02-04T02:15:23.048Z"
   },
   {
    "duration": 9,
    "start_time": "2023-02-04T02:15:23.053Z"
   },
   {
    "duration": 19,
    "start_time": "2023-02-04T02:15:23.063Z"
   },
   {
    "duration": 4,
    "start_time": "2023-02-04T02:15:23.083Z"
   },
   {
    "duration": 6,
    "start_time": "2023-02-04T02:15:23.089Z"
   },
   {
    "duration": 6,
    "start_time": "2023-02-04T02:15:23.096Z"
   },
   {
    "duration": 5,
    "start_time": "2023-02-04T02:15:23.104Z"
   },
   {
    "duration": 43,
    "start_time": "2023-02-04T02:15:23.110Z"
   },
   {
    "duration": 4,
    "start_time": "2023-02-04T02:15:23.155Z"
   },
   {
    "duration": 10,
    "start_time": "2023-02-04T02:15:23.160Z"
   },
   {
    "duration": 7,
    "start_time": "2023-02-04T02:15:23.172Z"
   },
   {
    "duration": 13,
    "start_time": "2023-02-04T02:15:23.180Z"
   },
   {
    "duration": 5,
    "start_time": "2023-02-04T02:15:23.195Z"
   },
   {
    "duration": 12,
    "start_time": "2023-02-04T02:15:23.201Z"
   },
   {
    "duration": 24,
    "start_time": "2023-02-04T02:15:23.214Z"
   },
   {
    "duration": 3,
    "start_time": "2023-02-04T02:15:23.239Z"
   },
   {
    "duration": 13,
    "start_time": "2023-02-04T02:15:23.243Z"
   },
   {
    "duration": 22,
    "start_time": "2023-02-04T02:15:23.257Z"
   },
   {
    "duration": 11,
    "start_time": "2023-02-04T02:15:23.280Z"
   },
   {
    "duration": 309,
    "start_time": "2023-02-04T02:15:23.295Z"
   },
   {
    "duration": 4,
    "start_time": "2023-02-04T02:15:23.606Z"
   },
   {
    "duration": 9,
    "start_time": "2023-02-04T02:15:23.611Z"
   },
   {
    "duration": 16,
    "start_time": "2023-02-04T02:15:23.621Z"
   },
   {
    "duration": 40281,
    "start_time": "2023-02-04T02:15:23.639Z"
   },
   {
    "duration": 5,
    "start_time": "2023-02-04T02:16:03.922Z"
   },
   {
    "duration": 35,
    "start_time": "2023-02-04T02:16:03.937Z"
   },
   {
    "duration": 34,
    "start_time": "2023-02-04T02:16:03.974Z"
   },
   {
    "duration": 140,
    "start_time": "2023-02-04T02:16:04.010Z"
   },
   {
    "duration": 0,
    "start_time": "2023-02-04T02:16:04.152Z"
   },
   {
    "duration": 0,
    "start_time": "2023-02-04T02:16:04.154Z"
   },
   {
    "duration": 0,
    "start_time": "2023-02-04T02:16:04.155Z"
   },
   {
    "duration": 0,
    "start_time": "2023-02-04T02:16:04.156Z"
   },
   {
    "duration": 0,
    "start_time": "2023-02-04T02:16:04.158Z"
   },
   {
    "duration": 0,
    "start_time": "2023-02-04T02:16:04.159Z"
   },
   {
    "duration": 0,
    "start_time": "2023-02-04T02:16:04.161Z"
   },
   {
    "duration": 0,
    "start_time": "2023-02-04T02:16:04.162Z"
   },
   {
    "duration": 0,
    "start_time": "2023-02-04T02:16:04.163Z"
   },
   {
    "duration": 0,
    "start_time": "2023-02-04T02:16:04.164Z"
   },
   {
    "duration": 0,
    "start_time": "2023-02-04T02:16:04.166Z"
   },
   {
    "duration": 0,
    "start_time": "2023-02-04T02:16:04.167Z"
   },
   {
    "duration": 0,
    "start_time": "2023-02-04T02:16:04.168Z"
   },
   {
    "duration": 0,
    "start_time": "2023-02-04T02:16:04.169Z"
   },
   {
    "duration": 0,
    "start_time": "2023-02-04T02:16:04.170Z"
   },
   {
    "duration": 0,
    "start_time": "2023-02-04T02:16:04.171Z"
   },
   {
    "duration": 0,
    "start_time": "2023-02-04T02:16:04.172Z"
   },
   {
    "duration": 0,
    "start_time": "2023-02-04T02:16:04.173Z"
   },
   {
    "duration": 0,
    "start_time": "2023-02-04T02:16:04.175Z"
   },
   {
    "duration": 0,
    "start_time": "2023-02-04T02:16:04.176Z"
   },
   {
    "duration": 0,
    "start_time": "2023-02-04T02:16:04.177Z"
   },
   {
    "duration": 0,
    "start_time": "2023-02-04T02:16:04.178Z"
   },
   {
    "duration": 0,
    "start_time": "2023-02-04T02:16:04.179Z"
   },
   {
    "duration": 0,
    "start_time": "2023-02-04T02:16:04.180Z"
   },
   {
    "duration": 0,
    "start_time": "2023-02-04T02:16:04.181Z"
   },
   {
    "duration": 0,
    "start_time": "2023-02-04T02:16:04.182Z"
   },
   {
    "duration": 0,
    "start_time": "2023-02-04T02:16:04.183Z"
   },
   {
    "duration": 0,
    "start_time": "2023-02-04T02:16:04.184Z"
   },
   {
    "duration": 0,
    "start_time": "2023-02-04T02:16:04.238Z"
   },
   {
    "duration": 0,
    "start_time": "2023-02-04T02:16:04.239Z"
   },
   {
    "duration": 0,
    "start_time": "2023-02-04T02:16:04.240Z"
   },
   {
    "duration": 0,
    "start_time": "2023-02-04T02:16:04.241Z"
   },
   {
    "duration": 0,
    "start_time": "2023-02-04T02:16:04.242Z"
   },
   {
    "duration": 1041,
    "start_time": "2023-02-04T02:16:34.478Z"
   },
   {
    "duration": 58,
    "start_time": "2023-02-04T02:16:35.521Z"
   },
   {
    "duration": 12,
    "start_time": "2023-02-04T02:16:35.581Z"
   },
   {
    "duration": 14,
    "start_time": "2023-02-04T02:16:35.595Z"
   },
   {
    "duration": 10,
    "start_time": "2023-02-04T02:16:35.610Z"
   },
   {
    "duration": 9,
    "start_time": "2023-02-04T02:16:35.622Z"
   },
   {
    "duration": 11,
    "start_time": "2023-02-04T02:16:35.633Z"
   },
   {
    "duration": 16,
    "start_time": "2023-02-04T02:16:35.645Z"
   },
   {
    "duration": 3,
    "start_time": "2023-02-04T02:16:35.663Z"
   },
   {
    "duration": 4,
    "start_time": "2023-02-04T02:16:35.670Z"
   },
   {
    "duration": 24,
    "start_time": "2023-02-04T02:16:35.676Z"
   },
   {
    "duration": 5,
    "start_time": "2023-02-04T02:16:35.702Z"
   },
   {
    "duration": 30,
    "start_time": "2023-02-04T02:16:35.709Z"
   },
   {
    "duration": 6,
    "start_time": "2023-02-04T02:16:35.740Z"
   },
   {
    "duration": 14,
    "start_time": "2023-02-04T02:16:35.747Z"
   },
   {
    "duration": 30,
    "start_time": "2023-02-04T02:16:35.762Z"
   },
   {
    "duration": 6,
    "start_time": "2023-02-04T02:16:35.794Z"
   },
   {
    "duration": 27,
    "start_time": "2023-02-04T02:16:35.801Z"
   },
   {
    "duration": 19,
    "start_time": "2023-02-04T02:16:35.830Z"
   },
   {
    "duration": 15,
    "start_time": "2023-02-04T02:16:35.851Z"
   },
   {
    "duration": 17,
    "start_time": "2023-02-04T02:16:35.868Z"
   },
   {
    "duration": 22,
    "start_time": "2023-02-04T02:16:35.887Z"
   },
   {
    "duration": 9,
    "start_time": "2023-02-04T02:16:35.910Z"
   },
   {
    "duration": 17,
    "start_time": "2023-02-04T02:16:35.920Z"
   },
   {
    "duration": 27,
    "start_time": "2023-02-04T02:16:35.938Z"
   },
   {
    "duration": 39,
    "start_time": "2023-02-04T02:16:35.967Z"
   },
   {
    "duration": 11,
    "start_time": "2023-02-04T02:16:36.008Z"
   },
   {
    "duration": 345,
    "start_time": "2023-02-04T02:16:36.023Z"
   },
   {
    "duration": 4,
    "start_time": "2023-02-04T02:16:36.370Z"
   },
   {
    "duration": 27,
    "start_time": "2023-02-04T02:16:36.375Z"
   },
   {
    "duration": 27,
    "start_time": "2023-02-04T02:16:36.404Z"
   },
   {
    "duration": 41049,
    "start_time": "2023-02-04T02:16:36.432Z"
   },
   {
    "duration": 5,
    "start_time": "2023-02-04T02:17:17.482Z"
   },
   {
    "duration": 23,
    "start_time": "2023-02-04T02:17:17.488Z"
   },
   {
    "duration": 6,
    "start_time": "2023-02-04T02:17:17.512Z"
   },
   {
    "duration": 114,
    "start_time": "2023-02-04T02:17:17.519Z"
   },
   {
    "duration": 0,
    "start_time": "2023-02-04T02:17:17.638Z"
   },
   {
    "duration": 0,
    "start_time": "2023-02-04T02:17:17.639Z"
   },
   {
    "duration": 0,
    "start_time": "2023-02-04T02:17:17.640Z"
   },
   {
    "duration": 0,
    "start_time": "2023-02-04T02:17:17.642Z"
   },
   {
    "duration": 0,
    "start_time": "2023-02-04T02:17:17.643Z"
   },
   {
    "duration": 0,
    "start_time": "2023-02-04T02:17:17.644Z"
   },
   {
    "duration": 0,
    "start_time": "2023-02-04T02:17:17.645Z"
   },
   {
    "duration": 0,
    "start_time": "2023-02-04T02:17:17.646Z"
   },
   {
    "duration": 0,
    "start_time": "2023-02-04T02:17:17.647Z"
   },
   {
    "duration": 0,
    "start_time": "2023-02-04T02:17:17.648Z"
   },
   {
    "duration": 0,
    "start_time": "2023-02-04T02:17:17.649Z"
   },
   {
    "duration": 0,
    "start_time": "2023-02-04T02:17:17.651Z"
   },
   {
    "duration": 0,
    "start_time": "2023-02-04T02:17:17.652Z"
   },
   {
    "duration": 0,
    "start_time": "2023-02-04T02:17:17.653Z"
   },
   {
    "duration": 0,
    "start_time": "2023-02-04T02:17:17.653Z"
   },
   {
    "duration": 0,
    "start_time": "2023-02-04T02:17:17.655Z"
   },
   {
    "duration": 0,
    "start_time": "2023-02-04T02:17:17.656Z"
   },
   {
    "duration": 0,
    "start_time": "2023-02-04T02:17:17.658Z"
   },
   {
    "duration": 0,
    "start_time": "2023-02-04T02:17:17.659Z"
   },
   {
    "duration": 0,
    "start_time": "2023-02-04T02:17:17.660Z"
   },
   {
    "duration": 0,
    "start_time": "2023-02-04T02:17:17.661Z"
   },
   {
    "duration": 0,
    "start_time": "2023-02-04T02:17:17.662Z"
   },
   {
    "duration": 0,
    "start_time": "2023-02-04T02:17:17.663Z"
   },
   {
    "duration": 0,
    "start_time": "2023-02-04T02:17:17.664Z"
   },
   {
    "duration": 0,
    "start_time": "2023-02-04T02:17:17.666Z"
   },
   {
    "duration": 0,
    "start_time": "2023-02-04T02:17:17.667Z"
   },
   {
    "duration": 0,
    "start_time": "2023-02-04T02:17:17.671Z"
   },
   {
    "duration": 0,
    "start_time": "2023-02-04T02:17:17.672Z"
   },
   {
    "duration": 0,
    "start_time": "2023-02-04T02:17:17.673Z"
   },
   {
    "duration": 0,
    "start_time": "2023-02-04T02:17:17.739Z"
   },
   {
    "duration": 0,
    "start_time": "2023-02-04T02:17:17.740Z"
   },
   {
    "duration": 0,
    "start_time": "2023-02-04T02:17:17.741Z"
   },
   {
    "duration": 0,
    "start_time": "2023-02-04T02:17:17.742Z"
   },
   {
    "duration": 3,
    "start_time": "2023-02-04T02:19:54.763Z"
   },
   {
    "duration": 1161,
    "start_time": "2023-02-04T02:24:34.126Z"
   },
   {
    "duration": 59,
    "start_time": "2023-02-04T02:24:35.289Z"
   },
   {
    "duration": 14,
    "start_time": "2023-02-04T02:24:35.351Z"
   },
   {
    "duration": 4,
    "start_time": "2023-02-04T02:24:35.367Z"
   },
   {
    "duration": 23,
    "start_time": "2023-02-04T02:24:35.372Z"
   },
   {
    "duration": 10,
    "start_time": "2023-02-04T02:24:35.398Z"
   },
   {
    "duration": 19,
    "start_time": "2023-02-04T02:24:35.410Z"
   },
   {
    "duration": 20,
    "start_time": "2023-02-04T02:24:35.430Z"
   },
   {
    "duration": 3,
    "start_time": "2023-02-04T02:24:35.452Z"
   },
   {
    "duration": 12,
    "start_time": "2023-02-04T02:24:35.457Z"
   },
   {
    "duration": 24,
    "start_time": "2023-02-04T02:24:35.471Z"
   },
   {
    "duration": 19,
    "start_time": "2023-02-04T02:24:35.496Z"
   },
   {
    "duration": 8,
    "start_time": "2023-02-04T02:24:35.516Z"
   },
   {
    "duration": 7,
    "start_time": "2023-02-04T02:24:35.525Z"
   },
   {
    "duration": 5,
    "start_time": "2023-02-04T02:24:35.538Z"
   },
   {
    "duration": 28,
    "start_time": "2023-02-04T02:24:35.545Z"
   },
   {
    "duration": 6,
    "start_time": "2023-02-04T02:24:35.575Z"
   },
   {
    "duration": 17,
    "start_time": "2023-02-04T02:24:35.583Z"
   },
   {
    "duration": 12,
    "start_time": "2023-02-04T02:24:35.602Z"
   },
   {
    "duration": 11,
    "start_time": "2023-02-04T02:24:35.615Z"
   },
   {
    "duration": 10,
    "start_time": "2023-02-04T02:24:35.628Z"
   },
   {
    "duration": 16,
    "start_time": "2023-02-04T02:24:35.640Z"
   },
   {
    "duration": 9,
    "start_time": "2023-02-04T02:24:35.657Z"
   },
   {
    "duration": 6,
    "start_time": "2023-02-04T02:24:35.668Z"
   },
   {
    "duration": 16,
    "start_time": "2023-02-04T02:24:35.676Z"
   },
   {
    "duration": 30,
    "start_time": "2023-02-04T02:24:35.693Z"
   },
   {
    "duration": 15,
    "start_time": "2023-02-04T02:24:35.724Z"
   },
   {
    "duration": 332,
    "start_time": "2023-02-04T02:24:35.743Z"
   },
   {
    "duration": 4,
    "start_time": "2023-02-04T02:24:36.077Z"
   },
   {
    "duration": 8,
    "start_time": "2023-02-04T02:24:36.082Z"
   },
   {
    "duration": 12,
    "start_time": "2023-02-04T02:24:36.092Z"
   },
   {
    "duration": 41218,
    "start_time": "2023-02-04T02:24:36.106Z"
   },
   {
    "duration": 5,
    "start_time": "2023-02-04T02:25:17.326Z"
   },
   {
    "duration": 23,
    "start_time": "2023-02-04T02:25:17.338Z"
   },
   {
    "duration": 5,
    "start_time": "2023-02-04T02:25:17.363Z"
   },
   {
    "duration": 16476,
    "start_time": "2023-02-04T02:25:17.369Z"
   },
   {
    "duration": 93,
    "start_time": "2023-02-04T02:25:33.847Z"
   },
   {
    "duration": 106,
    "start_time": "2023-02-04T02:25:33.943Z"
   },
   {
    "duration": 90,
    "start_time": "2023-02-04T02:25:34.057Z"
   },
   {
    "duration": 105,
    "start_time": "2023-02-04T02:25:34.238Z"
   },
   {
    "duration": 0,
    "start_time": "2023-02-04T02:25:34.344Z"
   },
   {
    "duration": 0,
    "start_time": "2023-02-04T02:25:34.346Z"
   },
   {
    "duration": 0,
    "start_time": "2023-02-04T02:25:34.346Z"
   },
   {
    "duration": 0,
    "start_time": "2023-02-04T02:25:34.347Z"
   },
   {
    "duration": 0,
    "start_time": "2023-02-04T02:25:34.349Z"
   },
   {
    "duration": 0,
    "start_time": "2023-02-04T02:25:34.350Z"
   },
   {
    "duration": 0,
    "start_time": "2023-02-04T02:25:34.351Z"
   },
   {
    "duration": 0,
    "start_time": "2023-02-04T02:25:34.352Z"
   },
   {
    "duration": 0,
    "start_time": "2023-02-04T02:25:34.352Z"
   },
   {
    "duration": 0,
    "start_time": "2023-02-04T02:25:34.353Z"
   },
   {
    "duration": 0,
    "start_time": "2023-02-04T02:25:34.354Z"
   },
   {
    "duration": 0,
    "start_time": "2023-02-04T02:25:34.355Z"
   },
   {
    "duration": 0,
    "start_time": "2023-02-04T02:25:34.356Z"
   },
   {
    "duration": 0,
    "start_time": "2023-02-04T02:25:34.357Z"
   },
   {
    "duration": 0,
    "start_time": "2023-02-04T02:25:34.358Z"
   },
   {
    "duration": 0,
    "start_time": "2023-02-04T02:25:34.358Z"
   },
   {
    "duration": 0,
    "start_time": "2023-02-04T02:25:34.360Z"
   },
   {
    "duration": 0,
    "start_time": "2023-02-04T02:25:34.362Z"
   },
   {
    "duration": 0,
    "start_time": "2023-02-04T02:25:34.364Z"
   },
   {
    "duration": 0,
    "start_time": "2023-02-04T02:25:34.364Z"
   },
   {
    "duration": 0,
    "start_time": "2023-02-04T02:25:34.365Z"
   },
   {
    "duration": 0,
    "start_time": "2023-02-04T02:25:34.366Z"
   },
   {
    "duration": 0,
    "start_time": "2023-02-04T02:25:34.367Z"
   },
   {
    "duration": 0,
    "start_time": "2023-02-04T02:25:34.368Z"
   },
   {
    "duration": 0,
    "start_time": "2023-02-04T02:25:34.369Z"
   },
   {
    "duration": 0,
    "start_time": "2023-02-04T02:25:34.370Z"
   },
   {
    "duration": 0,
    "start_time": "2023-02-04T02:25:34.371Z"
   },
   {
    "duration": 0,
    "start_time": "2023-02-04T02:25:34.372Z"
   },
   {
    "duration": 5725,
    "start_time": "2023-02-04T02:25:57.417Z"
   },
   {
    "duration": 5,
    "start_time": "2023-02-04T02:26:10.544Z"
   },
   {
    "duration": 7,
    "start_time": "2023-02-04T02:26:18.104Z"
   },
   {
    "duration": 6,
    "start_time": "2023-02-04T02:26:20.536Z"
   },
   {
    "duration": 1199,
    "start_time": "2023-02-04T02:26:47.584Z"
   },
   {
    "duration": 71,
    "start_time": "2023-02-04T02:26:48.786Z"
   },
   {
    "duration": 13,
    "start_time": "2023-02-04T02:26:48.859Z"
   },
   {
    "duration": 5,
    "start_time": "2023-02-04T02:26:48.874Z"
   },
   {
    "duration": 8,
    "start_time": "2023-02-04T02:26:48.880Z"
   },
   {
    "duration": 12,
    "start_time": "2023-02-04T02:26:48.890Z"
   },
   {
    "duration": 19,
    "start_time": "2023-02-04T02:26:48.904Z"
   },
   {
    "duration": 28,
    "start_time": "2023-02-04T02:26:48.925Z"
   },
   {
    "duration": 4,
    "start_time": "2023-02-04T02:26:48.956Z"
   },
   {
    "duration": 13,
    "start_time": "2023-02-04T02:26:48.964Z"
   },
   {
    "duration": 19,
    "start_time": "2023-02-04T02:26:48.979Z"
   },
   {
    "duration": 9,
    "start_time": "2023-02-04T02:26:49.000Z"
   },
   {
    "duration": 28,
    "start_time": "2023-02-04T02:26:49.011Z"
   },
   {
    "duration": 12,
    "start_time": "2023-02-04T02:26:49.041Z"
   },
   {
    "duration": 10,
    "start_time": "2023-02-04T02:26:49.055Z"
   },
   {
    "duration": 25,
    "start_time": "2023-02-04T02:26:49.067Z"
   },
   {
    "duration": 5,
    "start_time": "2023-02-04T02:26:49.094Z"
   },
   {
    "duration": 11,
    "start_time": "2023-02-04T02:26:49.101Z"
   },
   {
    "duration": 19,
    "start_time": "2023-02-04T02:26:49.113Z"
   },
   {
    "duration": 13,
    "start_time": "2023-02-04T02:26:49.134Z"
   },
   {
    "duration": 7,
    "start_time": "2023-02-04T02:26:49.149Z"
   },
   {
    "duration": 29,
    "start_time": "2023-02-04T02:26:49.157Z"
   },
   {
    "duration": 9,
    "start_time": "2023-02-04T02:26:49.187Z"
   },
   {
    "duration": 8,
    "start_time": "2023-02-04T02:26:49.198Z"
   },
   {
    "duration": 24,
    "start_time": "2023-02-04T02:26:49.208Z"
   },
   {
    "duration": 28,
    "start_time": "2023-02-04T02:26:49.234Z"
   },
   {
    "duration": 13,
    "start_time": "2023-02-04T02:26:49.264Z"
   },
   {
    "duration": 360,
    "start_time": "2023-02-04T02:26:49.281Z"
   },
   {
    "duration": 5,
    "start_time": "2023-02-04T02:26:49.643Z"
   },
   {
    "duration": 11,
    "start_time": "2023-02-04T02:26:49.649Z"
   },
   {
    "duration": 14,
    "start_time": "2023-02-04T02:26:49.662Z"
   },
   {
    "duration": 41266,
    "start_time": "2023-02-04T02:26:49.678Z"
   },
   {
    "duration": 4,
    "start_time": "2023-02-04T02:27:30.945Z"
   },
   {
    "duration": 41,
    "start_time": "2023-02-04T02:27:30.950Z"
   },
   {
    "duration": 9,
    "start_time": "2023-02-04T02:27:30.992Z"
   },
   {
    "duration": 5840,
    "start_time": "2023-02-04T02:27:31.002Z"
   },
   {
    "duration": 98,
    "start_time": "2023-02-04T02:27:36.844Z"
   },
   {
    "duration": 109,
    "start_time": "2023-02-04T02:27:36.944Z"
   },
   {
    "duration": 186,
    "start_time": "2023-02-04T02:27:37.056Z"
   },
   {
    "duration": 14,
    "start_time": "2023-02-04T02:27:37.243Z"
   },
   {
    "duration": 11,
    "start_time": "2023-02-04T02:27:37.259Z"
   },
   {
    "duration": 20,
    "start_time": "2023-02-04T02:27:37.272Z"
   },
   {
    "duration": 8,
    "start_time": "2023-02-04T02:27:37.293Z"
   },
   {
    "duration": 127,
    "start_time": "2023-02-04T02:27:37.303Z"
   },
   {
    "duration": 0,
    "start_time": "2023-02-04T02:27:37.432Z"
   },
   {
    "duration": 0,
    "start_time": "2023-02-04T02:27:37.434Z"
   },
   {
    "duration": 0,
    "start_time": "2023-02-04T02:27:37.435Z"
   },
   {
    "duration": 0,
    "start_time": "2023-02-04T02:27:37.437Z"
   },
   {
    "duration": 0,
    "start_time": "2023-02-04T02:27:37.438Z"
   },
   {
    "duration": 0,
    "start_time": "2023-02-04T02:27:37.439Z"
   },
   {
    "duration": 0,
    "start_time": "2023-02-04T02:27:37.440Z"
   },
   {
    "duration": 0,
    "start_time": "2023-02-04T02:27:37.443Z"
   },
   {
    "duration": 0,
    "start_time": "2023-02-04T02:27:37.444Z"
   },
   {
    "duration": 0,
    "start_time": "2023-02-04T02:27:37.446Z"
   },
   {
    "duration": 0,
    "start_time": "2023-02-04T02:27:37.447Z"
   },
   {
    "duration": 0,
    "start_time": "2023-02-04T02:27:37.448Z"
   },
   {
    "duration": 0,
    "start_time": "2023-02-04T02:27:37.450Z"
   },
   {
    "duration": 0,
    "start_time": "2023-02-04T02:27:37.451Z"
   },
   {
    "duration": 0,
    "start_time": "2023-02-04T02:27:37.453Z"
   },
   {
    "duration": 0,
    "start_time": "2023-02-04T02:27:37.454Z"
   },
   {
    "duration": 0,
    "start_time": "2023-02-04T02:27:37.455Z"
   },
   {
    "duration": 0,
    "start_time": "2023-02-04T02:27:37.456Z"
   },
   {
    "duration": 0,
    "start_time": "2023-02-04T02:27:37.457Z"
   },
   {
    "duration": 0,
    "start_time": "2023-02-04T02:27:37.459Z"
   },
   {
    "duration": 0,
    "start_time": "2023-02-04T02:27:37.460Z"
   },
   {
    "duration": 0,
    "start_time": "2023-02-04T02:27:37.461Z"
   },
   {
    "duration": 0,
    "start_time": "2023-02-04T02:27:37.462Z"
   },
   {
    "duration": 0,
    "start_time": "2023-02-04T02:27:37.463Z"
   },
   {
    "duration": 1149,
    "start_time": "2023-02-04T02:31:14.034Z"
   },
   {
    "duration": 61,
    "start_time": "2023-02-04T02:31:15.185Z"
   },
   {
    "duration": 13,
    "start_time": "2023-02-04T02:31:15.247Z"
   },
   {
    "duration": 10,
    "start_time": "2023-02-04T02:31:15.262Z"
   },
   {
    "duration": 11,
    "start_time": "2023-02-04T02:31:15.274Z"
   },
   {
    "duration": 12,
    "start_time": "2023-02-04T02:31:15.286Z"
   },
   {
    "duration": 12,
    "start_time": "2023-02-04T02:31:15.300Z"
   },
   {
    "duration": 27,
    "start_time": "2023-02-04T02:31:15.313Z"
   },
   {
    "duration": 3,
    "start_time": "2023-02-04T02:31:15.342Z"
   },
   {
    "duration": 14,
    "start_time": "2023-02-04T02:31:15.348Z"
   },
   {
    "duration": 20,
    "start_time": "2023-02-04T02:31:15.364Z"
   },
   {
    "duration": 6,
    "start_time": "2023-02-04T02:31:15.385Z"
   },
   {
    "duration": 20,
    "start_time": "2023-02-04T02:31:15.392Z"
   },
   {
    "duration": 13,
    "start_time": "2023-02-04T02:31:15.414Z"
   },
   {
    "duration": 20,
    "start_time": "2023-02-04T02:31:15.430Z"
   },
   {
    "duration": 150,
    "start_time": "2023-02-04T02:31:15.451Z"
   },
   {
    "duration": 0,
    "start_time": "2023-02-04T02:31:15.603Z"
   },
   {
    "duration": 0,
    "start_time": "2023-02-04T02:31:15.605Z"
   },
   {
    "duration": 0,
    "start_time": "2023-02-04T02:31:15.606Z"
   },
   {
    "duration": 0,
    "start_time": "2023-02-04T02:31:15.607Z"
   },
   {
    "duration": 0,
    "start_time": "2023-02-04T02:31:15.608Z"
   },
   {
    "duration": 0,
    "start_time": "2023-02-04T02:31:15.609Z"
   },
   {
    "duration": 0,
    "start_time": "2023-02-04T02:31:15.610Z"
   },
   {
    "duration": 0,
    "start_time": "2023-02-04T02:31:15.611Z"
   },
   {
    "duration": 0,
    "start_time": "2023-02-04T02:31:15.611Z"
   },
   {
    "duration": 0,
    "start_time": "2023-02-04T02:31:15.613Z"
   },
   {
    "duration": 0,
    "start_time": "2023-02-04T02:31:15.614Z"
   },
   {
    "duration": 0,
    "start_time": "2023-02-04T02:31:15.637Z"
   },
   {
    "duration": 0,
    "start_time": "2023-02-04T02:31:15.638Z"
   },
   {
    "duration": 0,
    "start_time": "2023-02-04T02:31:15.640Z"
   },
   {
    "duration": 0,
    "start_time": "2023-02-04T02:31:15.641Z"
   },
   {
    "duration": 0,
    "start_time": "2023-02-04T02:31:15.642Z"
   },
   {
    "duration": 0,
    "start_time": "2023-02-04T02:31:15.643Z"
   },
   {
    "duration": 0,
    "start_time": "2023-02-04T02:31:15.645Z"
   },
   {
    "duration": 0,
    "start_time": "2023-02-04T02:31:15.646Z"
   },
   {
    "duration": 0,
    "start_time": "2023-02-04T02:31:15.647Z"
   },
   {
    "duration": 0,
    "start_time": "2023-02-04T02:31:15.648Z"
   },
   {
    "duration": 0,
    "start_time": "2023-02-04T02:31:15.649Z"
   },
   {
    "duration": 0,
    "start_time": "2023-02-04T02:31:15.650Z"
   },
   {
    "duration": 0,
    "start_time": "2023-02-04T02:31:15.652Z"
   },
   {
    "duration": 0,
    "start_time": "2023-02-04T02:31:15.653Z"
   },
   {
    "duration": 0,
    "start_time": "2023-02-04T02:31:15.654Z"
   },
   {
    "duration": 0,
    "start_time": "2023-02-04T02:31:15.655Z"
   },
   {
    "duration": 0,
    "start_time": "2023-02-04T02:31:15.656Z"
   },
   {
    "duration": 0,
    "start_time": "2023-02-04T02:31:15.657Z"
   },
   {
    "duration": 0,
    "start_time": "2023-02-04T02:31:15.658Z"
   },
   {
    "duration": 0,
    "start_time": "2023-02-04T02:31:15.659Z"
   },
   {
    "duration": 0,
    "start_time": "2023-02-04T02:31:15.660Z"
   },
   {
    "duration": 0,
    "start_time": "2023-02-04T02:31:15.661Z"
   },
   {
    "duration": 0,
    "start_time": "2023-02-04T02:31:15.662Z"
   },
   {
    "duration": 0,
    "start_time": "2023-02-04T02:31:15.663Z"
   },
   {
    "duration": 0,
    "start_time": "2023-02-04T02:31:15.664Z"
   },
   {
    "duration": 0,
    "start_time": "2023-02-04T02:31:15.665Z"
   },
   {
    "duration": 0,
    "start_time": "2023-02-04T02:31:15.666Z"
   },
   {
    "duration": 0,
    "start_time": "2023-02-04T02:31:15.667Z"
   },
   {
    "duration": 0,
    "start_time": "2023-02-04T02:31:15.669Z"
   },
   {
    "duration": 0,
    "start_time": "2023-02-04T02:31:15.670Z"
   },
   {
    "duration": 0,
    "start_time": "2023-02-04T02:31:15.671Z"
   },
   {
    "duration": 0,
    "start_time": "2023-02-04T02:31:15.673Z"
   },
   {
    "duration": 0,
    "start_time": "2023-02-04T02:31:15.673Z"
   },
   {
    "duration": 0,
    "start_time": "2023-02-04T02:31:15.675Z"
   },
   {
    "duration": 0,
    "start_time": "2023-02-04T02:31:15.676Z"
   },
   {
    "duration": 0,
    "start_time": "2023-02-04T02:31:15.677Z"
   },
   {
    "duration": 0,
    "start_time": "2023-02-04T02:31:15.738Z"
   },
   {
    "duration": 0,
    "start_time": "2023-02-04T02:31:15.740Z"
   },
   {
    "duration": 0,
    "start_time": "2023-02-04T02:31:15.741Z"
   },
   {
    "duration": 1136,
    "start_time": "2023-02-04T02:31:59.911Z"
   },
   {
    "duration": 60,
    "start_time": "2023-02-04T02:32:01.049Z"
   },
   {
    "duration": 13,
    "start_time": "2023-02-04T02:32:01.111Z"
   },
   {
    "duration": 11,
    "start_time": "2023-02-04T02:32:01.126Z"
   },
   {
    "duration": 21,
    "start_time": "2023-02-04T02:32:01.139Z"
   },
   {
    "duration": 21,
    "start_time": "2023-02-04T02:32:01.161Z"
   },
   {
    "duration": 23,
    "start_time": "2023-02-04T02:32:01.184Z"
   },
   {
    "duration": 57,
    "start_time": "2023-02-04T02:32:01.208Z"
   },
   {
    "duration": 3,
    "start_time": "2023-02-04T02:32:01.267Z"
   },
   {
    "duration": 19,
    "start_time": "2023-02-04T02:32:01.273Z"
   },
   {
    "duration": 22,
    "start_time": "2023-02-04T02:32:01.294Z"
   },
   {
    "duration": 32,
    "start_time": "2023-02-04T02:32:01.317Z"
   },
   {
    "duration": 32,
    "start_time": "2023-02-04T02:32:01.351Z"
   },
   {
    "duration": 49,
    "start_time": "2023-02-04T02:32:01.384Z"
   },
   {
    "duration": 38,
    "start_time": "2023-02-04T02:32:01.435Z"
   },
   {
    "duration": 58,
    "start_time": "2023-02-04T02:32:01.474Z"
   },
   {
    "duration": 11,
    "start_time": "2023-02-04T02:32:01.534Z"
   },
   {
    "duration": 21,
    "start_time": "2023-02-04T02:32:01.547Z"
   },
   {
    "duration": 52,
    "start_time": "2023-02-04T02:32:01.569Z"
   },
   {
    "duration": 16,
    "start_time": "2023-02-04T02:32:01.622Z"
   },
   {
    "duration": 28,
    "start_time": "2023-02-04T02:32:01.640Z"
   },
   {
    "duration": 25,
    "start_time": "2023-02-04T02:32:01.670Z"
   },
   {
    "duration": 28,
    "start_time": "2023-02-04T02:32:01.696Z"
   },
   {
    "duration": 17,
    "start_time": "2023-02-04T02:32:01.726Z"
   },
   {
    "duration": 13,
    "start_time": "2023-02-04T02:32:01.745Z"
   },
   {
    "duration": 28,
    "start_time": "2023-02-04T02:32:01.759Z"
   },
   {
    "duration": 12,
    "start_time": "2023-02-04T02:32:01.788Z"
   },
   {
    "duration": 331,
    "start_time": "2023-02-04T02:32:01.803Z"
   },
   {
    "duration": 5,
    "start_time": "2023-02-04T02:32:02.137Z"
   },
   {
    "duration": 19,
    "start_time": "2023-02-04T02:32:02.144Z"
   },
   {
    "duration": 15,
    "start_time": "2023-02-04T02:32:02.165Z"
   },
   {
    "duration": 41071,
    "start_time": "2023-02-04T02:32:02.182Z"
   },
   {
    "duration": 4,
    "start_time": "2023-02-04T02:32:43.255Z"
   },
   {
    "duration": 26,
    "start_time": "2023-02-04T02:32:43.261Z"
   },
   {
    "duration": 7,
    "start_time": "2023-02-04T02:32:43.288Z"
   },
   {
    "duration": 6245,
    "start_time": "2023-02-04T02:32:43.297Z"
   },
   {
    "duration": 92,
    "start_time": "2023-02-04T02:32:49.547Z"
   },
   {
    "duration": 10,
    "start_time": "2023-02-04T02:32:49.641Z"
   },
   {
    "duration": 186,
    "start_time": "2023-02-04T02:32:49.656Z"
   },
   {
    "duration": 7,
    "start_time": "2023-02-04T02:32:49.844Z"
   },
   {
    "duration": 5,
    "start_time": "2023-02-04T02:32:49.853Z"
   },
   {
    "duration": 14,
    "start_time": "2023-02-04T02:32:49.859Z"
   },
   {
    "duration": 8,
    "start_time": "2023-02-04T02:32:49.875Z"
   },
   {
    "duration": 128,
    "start_time": "2023-02-04T02:32:49.885Z"
   },
   {
    "duration": 0,
    "start_time": "2023-02-04T02:32:50.015Z"
   },
   {
    "duration": 1,
    "start_time": "2023-02-04T02:32:50.016Z"
   },
   {
    "duration": 0,
    "start_time": "2023-02-04T02:32:50.018Z"
   },
   {
    "duration": 0,
    "start_time": "2023-02-04T02:32:50.019Z"
   },
   {
    "duration": 0,
    "start_time": "2023-02-04T02:32:50.020Z"
   },
   {
    "duration": 0,
    "start_time": "2023-02-04T02:32:50.021Z"
   },
   {
    "duration": 0,
    "start_time": "2023-02-04T02:32:50.021Z"
   },
   {
    "duration": 0,
    "start_time": "2023-02-04T02:32:50.023Z"
   },
   {
    "duration": 0,
    "start_time": "2023-02-04T02:32:50.038Z"
   },
   {
    "duration": 0,
    "start_time": "2023-02-04T02:32:50.039Z"
   },
   {
    "duration": 0,
    "start_time": "2023-02-04T02:32:50.040Z"
   },
   {
    "duration": 0,
    "start_time": "2023-02-04T02:32:50.041Z"
   },
   {
    "duration": 0,
    "start_time": "2023-02-04T02:32:50.042Z"
   },
   {
    "duration": 0,
    "start_time": "2023-02-04T02:32:50.043Z"
   },
   {
    "duration": 0,
    "start_time": "2023-02-04T02:32:50.044Z"
   },
   {
    "duration": 0,
    "start_time": "2023-02-04T02:32:50.045Z"
   },
   {
    "duration": 0,
    "start_time": "2023-02-04T02:32:50.046Z"
   },
   {
    "duration": 0,
    "start_time": "2023-02-04T02:32:50.047Z"
   },
   {
    "duration": 0,
    "start_time": "2023-02-04T02:32:50.049Z"
   },
   {
    "duration": 0,
    "start_time": "2023-02-04T02:32:50.050Z"
   },
   {
    "duration": 0,
    "start_time": "2023-02-04T02:32:50.051Z"
   },
   {
    "duration": 0,
    "start_time": "2023-02-04T02:32:50.052Z"
   },
   {
    "duration": 412,
    "start_time": "2023-02-04T02:33:02.093Z"
   },
   {
    "duration": 4,
    "start_time": "2023-02-04T02:33:06.710Z"
   },
   {
    "duration": 5,
    "start_time": "2023-02-04T02:33:11.455Z"
   },
   {
    "duration": 7,
    "start_time": "2023-02-04T02:33:12.890Z"
   },
   {
    "duration": 57009,
    "start_time": "2023-02-04T02:33:27.287Z"
   },
   {
    "duration": 4,
    "start_time": "2023-02-04T02:34:28.265Z"
   },
   {
    "duration": 44,
    "start_time": "2023-02-04T02:34:36.313Z"
   },
   {
    "duration": 6,
    "start_time": "2023-02-04T02:34:37.056Z"
   },
   {
    "duration": 7418,
    "start_time": "2023-02-04T02:34:43.720Z"
   },
   {
    "duration": 4,
    "start_time": "2023-02-04T02:34:54.048Z"
   },
   {
    "duration": 6,
    "start_time": "2023-02-04T02:35:00.256Z"
   },
   {
    "duration": 6,
    "start_time": "2023-02-04T02:35:01.609Z"
   },
   {
    "duration": 41,
    "start_time": "2023-02-04T02:37:27.971Z"
   },
   {
    "duration": 5,
    "start_time": "2023-02-04T02:37:29.283Z"
   },
   {
    "duration": 19,
    "start_time": "2023-02-04T02:37:33.843Z"
   },
   {
    "duration": 5,
    "start_time": "2023-02-04T02:37:34.907Z"
   },
   {
    "duration": 6,
    "start_time": "2023-02-04T02:38:05.524Z"
   },
   {
    "duration": 7,
    "start_time": "2023-02-04T02:38:07.403Z"
   },
   {
    "duration": 1149,
    "start_time": "2023-02-04T02:39:41.111Z"
   },
   {
    "duration": 60,
    "start_time": "2023-02-04T02:39:42.261Z"
   },
   {
    "duration": 13,
    "start_time": "2023-02-04T02:39:42.323Z"
   },
   {
    "duration": 26,
    "start_time": "2023-02-04T02:39:42.338Z"
   },
   {
    "duration": 42,
    "start_time": "2023-02-04T02:39:42.366Z"
   },
   {
    "duration": 15,
    "start_time": "2023-02-04T02:39:42.411Z"
   },
   {
    "duration": 37,
    "start_time": "2023-02-04T02:39:42.428Z"
   },
   {
    "duration": 39,
    "start_time": "2023-02-04T02:39:42.468Z"
   },
   {
    "duration": 14,
    "start_time": "2023-02-04T02:39:42.509Z"
   },
   {
    "duration": 34,
    "start_time": "2023-02-04T02:39:42.526Z"
   },
   {
    "duration": 42,
    "start_time": "2023-02-04T02:39:42.562Z"
   },
   {
    "duration": 16,
    "start_time": "2023-02-04T02:39:42.606Z"
   },
   {
    "duration": 30,
    "start_time": "2023-02-04T02:39:42.624Z"
   },
   {
    "duration": 31,
    "start_time": "2023-02-04T02:39:42.656Z"
   },
   {
    "duration": 23,
    "start_time": "2023-02-04T02:39:42.689Z"
   },
   {
    "duration": 56,
    "start_time": "2023-02-04T02:39:42.714Z"
   },
   {
    "duration": 28,
    "start_time": "2023-02-04T02:39:42.772Z"
   },
   {
    "duration": 25,
    "start_time": "2023-02-04T02:39:42.802Z"
   },
   {
    "duration": 15,
    "start_time": "2023-02-04T02:39:42.829Z"
   },
   {
    "duration": 23,
    "start_time": "2023-02-04T02:39:42.846Z"
   },
   {
    "duration": 19,
    "start_time": "2023-02-04T02:39:42.871Z"
   },
   {
    "duration": 21,
    "start_time": "2023-02-04T02:39:42.892Z"
   },
   {
    "duration": 12,
    "start_time": "2023-02-04T02:39:42.915Z"
   },
   {
    "duration": 10,
    "start_time": "2023-02-04T02:39:42.928Z"
   },
   {
    "duration": 23,
    "start_time": "2023-02-04T02:39:42.940Z"
   },
   {
    "duration": 33,
    "start_time": "2023-02-04T02:39:42.965Z"
   },
   {
    "duration": 12,
    "start_time": "2023-02-04T02:39:43.001Z"
   },
   {
    "duration": 352,
    "start_time": "2023-02-04T02:39:43.017Z"
   },
   {
    "duration": 6,
    "start_time": "2023-02-04T02:39:43.371Z"
   },
   {
    "duration": 12,
    "start_time": "2023-02-04T02:39:43.379Z"
   },
   {
    "duration": 40,
    "start_time": "2023-02-04T02:39:43.393Z"
   },
   {
    "duration": 42313,
    "start_time": "2023-02-04T02:39:43.435Z"
   },
   {
    "duration": 5,
    "start_time": "2023-02-04T02:40:25.750Z"
   },
   {
    "duration": 22,
    "start_time": "2023-02-04T02:40:25.757Z"
   },
   {
    "duration": 6,
    "start_time": "2023-02-04T02:40:25.781Z"
   },
   {
    "duration": 6157,
    "start_time": "2023-02-04T02:40:25.789Z"
   },
   {
    "duration": 6,
    "start_time": "2023-02-04T02:40:32.040Z"
   },
   {
    "duration": 11,
    "start_time": "2023-02-04T02:40:32.138Z"
   },
   {
    "duration": 183,
    "start_time": "2023-02-04T02:40:32.155Z"
   },
   {
    "duration": 15,
    "start_time": "2023-02-04T02:40:32.340Z"
   },
   {
    "duration": 14,
    "start_time": "2023-02-04T02:40:32.357Z"
   },
   {
    "duration": 31,
    "start_time": "2023-02-04T02:40:32.372Z"
   },
   {
    "duration": 10,
    "start_time": "2023-02-04T02:40:32.405Z"
   },
   {
    "duration": 425,
    "start_time": "2023-02-04T02:40:32.417Z"
   },
   {
    "duration": 3,
    "start_time": "2023-02-04T02:40:32.844Z"
   },
   {
    "duration": 18,
    "start_time": "2023-02-04T02:40:32.849Z"
   },
   {
    "duration": 19,
    "start_time": "2023-02-04T02:40:32.868Z"
   },
   {
    "duration": 56555,
    "start_time": "2023-02-04T02:40:32.888Z"
   },
   {
    "duration": 4,
    "start_time": "2023-02-04T02:41:29.444Z"
   },
   {
    "duration": 47,
    "start_time": "2023-02-04T02:41:29.450Z"
   },
   {
    "duration": 5,
    "start_time": "2023-02-04T02:41:29.499Z"
   },
   {
    "duration": 6437,
    "start_time": "2023-02-04T02:41:29.506Z"
   },
   {
    "duration": 94,
    "start_time": "2023-02-04T02:41:35.945Z"
   },
   {
    "duration": 9,
    "start_time": "2023-02-04T02:41:36.041Z"
   },
   {
    "duration": 186,
    "start_time": "2023-02-04T02:41:36.052Z"
   },
   {
    "duration": 42,
    "start_time": "2023-02-04T02:41:36.240Z"
   },
   {
    "duration": 6,
    "start_time": "2023-02-04T02:41:36.283Z"
   },
   {
    "duration": 49,
    "start_time": "2023-02-04T02:41:36.290Z"
   },
   {
    "duration": 96,
    "start_time": "2023-02-04T02:41:36.345Z"
   },
   {
    "duration": 5,
    "start_time": "2023-02-04T02:41:36.443Z"
   },
   {
    "duration": 11,
    "start_time": "2023-02-04T02:41:36.449Z"
   },
   {
    "duration": 1090,
    "start_time": "2023-02-04T05:11:45.228Z"
   },
   {
    "duration": 57,
    "start_time": "2023-02-04T05:11:46.320Z"
   },
   {
    "duration": 11,
    "start_time": "2023-02-04T05:11:46.379Z"
   },
   {
    "duration": 9,
    "start_time": "2023-02-04T05:11:46.392Z"
   },
   {
    "duration": 7,
    "start_time": "2023-02-04T05:11:46.403Z"
   },
   {
    "duration": 7,
    "start_time": "2023-02-04T05:11:46.412Z"
   },
   {
    "duration": 10,
    "start_time": "2023-02-04T05:11:46.420Z"
   },
   {
    "duration": 16,
    "start_time": "2023-02-04T05:11:46.431Z"
   },
   {
    "duration": 16,
    "start_time": "2023-02-04T05:11:46.448Z"
   },
   {
    "duration": 6,
    "start_time": "2023-02-04T05:11:46.467Z"
   },
   {
    "duration": 19,
    "start_time": "2023-02-04T05:11:46.474Z"
   },
   {
    "duration": 11,
    "start_time": "2023-02-04T05:11:46.495Z"
   },
   {
    "duration": 9,
    "start_time": "2023-02-04T05:11:46.507Z"
   },
   {
    "duration": 12,
    "start_time": "2023-02-04T05:11:46.518Z"
   },
   {
    "duration": 9,
    "start_time": "2023-02-04T05:11:46.531Z"
   },
   {
    "duration": 22,
    "start_time": "2023-02-04T05:11:46.542Z"
   },
   {
    "duration": 5,
    "start_time": "2023-02-04T05:11:46.566Z"
   },
   {
    "duration": 9,
    "start_time": "2023-02-04T05:11:46.572Z"
   },
   {
    "duration": 17,
    "start_time": "2023-02-04T05:11:46.582Z"
   },
   {
    "duration": 12,
    "start_time": "2023-02-04T05:11:46.601Z"
   },
   {
    "duration": 7,
    "start_time": "2023-02-04T05:11:46.614Z"
   },
   {
    "duration": 17,
    "start_time": "2023-02-04T05:11:46.623Z"
   },
   {
    "duration": 6,
    "start_time": "2023-02-04T05:11:46.641Z"
   },
   {
    "duration": 9,
    "start_time": "2023-02-04T05:11:46.649Z"
   },
   {
    "duration": 10,
    "start_time": "2023-02-04T05:11:46.660Z"
   },
   {
    "duration": 26,
    "start_time": "2023-02-04T05:11:46.671Z"
   },
   {
    "duration": 11,
    "start_time": "2023-02-04T05:11:46.698Z"
   },
   {
    "duration": 306,
    "start_time": "2023-02-04T05:11:46.713Z"
   },
   {
    "duration": 5,
    "start_time": "2023-02-04T05:11:47.020Z"
   },
   {
    "duration": 5,
    "start_time": "2023-02-04T05:11:47.037Z"
   },
   {
    "duration": 10,
    "start_time": "2023-02-04T05:11:47.043Z"
   },
   {
    "duration": 40997,
    "start_time": "2023-02-04T05:11:47.055Z"
   },
   {
    "duration": 6,
    "start_time": "2023-02-04T05:12:28.054Z"
   },
   {
    "duration": 39,
    "start_time": "2023-02-04T05:12:28.063Z"
   },
   {
    "duration": 7,
    "start_time": "2023-02-04T05:12:28.104Z"
   },
   {
    "duration": 5730,
    "start_time": "2023-02-04T05:12:28.113Z"
   },
   {
    "duration": 94,
    "start_time": "2023-02-04T05:12:33.845Z"
   },
   {
    "duration": 97,
    "start_time": "2023-02-04T05:12:33.941Z"
   },
   {
    "duration": 104,
    "start_time": "2023-02-04T05:12:34.040Z"
   },
   {
    "duration": 293,
    "start_time": "2023-02-04T05:12:34.146Z"
   },
   {
    "duration": 98,
    "start_time": "2023-02-04T05:12:34.441Z"
   },
   {
    "duration": 113,
    "start_time": "2023-02-04T05:12:34.541Z"
   },
   {
    "duration": 18,
    "start_time": "2023-02-04T05:12:34.656Z"
   },
   {
    "duration": 67,
    "start_time": "2023-02-04T05:12:34.677Z"
   },
   {
    "duration": 98,
    "start_time": "2023-02-04T05:12:34.746Z"
   },
   {
    "duration": 4,
    "start_time": "2023-02-04T05:12:34.846Z"
   },
   {
    "duration": 20,
    "start_time": "2023-02-04T05:12:34.851Z"
   },
   {
    "duration": 4,
    "start_time": "2023-02-04T05:12:34.872Z"
   },
   {
    "duration": 366,
    "start_time": "2023-02-04T05:12:34.877Z"
   },
   {
    "duration": 95,
    "start_time": "2023-02-04T05:12:35.245Z"
   },
   {
    "duration": 105,
    "start_time": "2023-02-04T05:12:35.342Z"
   },
   {
    "duration": 89,
    "start_time": "2023-02-04T05:12:35.450Z"
   },
   {
    "duration": 97,
    "start_time": "2023-02-04T05:12:35.542Z"
   },
   {
    "duration": 468,
    "start_time": "2023-02-04T05:12:35.641Z"
   },
   {
    "duration": 4,
    "start_time": "2023-02-04T05:12:36.111Z"
   },
   {
    "duration": 8,
    "start_time": "2023-02-04T05:12:36.116Z"
   },
   {
    "duration": 13,
    "start_time": "2023-02-04T05:12:36.126Z"
   },
   {
    "duration": 55824,
    "start_time": "2023-02-04T05:12:36.140Z"
   },
   {
    "duration": 4,
    "start_time": "2023-02-04T05:13:31.966Z"
   },
   {
    "duration": 55,
    "start_time": "2023-02-04T05:13:31.972Z"
   },
   {
    "duration": 8,
    "start_time": "2023-02-04T05:13:32.029Z"
   },
   {
    "duration": 8502,
    "start_time": "2023-02-04T05:13:32.039Z"
   },
   {
    "duration": 5,
    "start_time": "2023-02-04T05:13:40.637Z"
   },
   {
    "duration": 17,
    "start_time": "2023-02-04T05:13:40.644Z"
   },
   {
    "duration": 81,
    "start_time": "2023-02-04T05:13:40.663Z"
   },
   {
    "duration": 148,
    "start_time": "2023-02-04T05:13:40.746Z"
   },
   {
    "duration": 5,
    "start_time": "2023-02-04T05:13:40.896Z"
   },
   {
    "duration": 36,
    "start_time": "2023-02-04T05:13:40.902Z"
   },
   {
    "duration": 99,
    "start_time": "2023-02-04T05:13:40.945Z"
   },
   {
    "duration": 138,
    "start_time": "2023-02-04T05:13:41.045Z"
   },
   {
    "duration": 16,
    "start_time": "2023-02-04T05:13:41.184Z"
   },
   {
    "duration": 47,
    "start_time": "2023-02-04T05:14:38.929Z"
   },
   {
    "duration": 6,
    "start_time": "2023-02-04T05:14:40.096Z"
   },
   {
    "duration": 1098,
    "start_time": "2023-02-04T05:14:51.241Z"
   },
   {
    "duration": 64,
    "start_time": "2023-02-04T05:14:52.341Z"
   },
   {
    "duration": 17,
    "start_time": "2023-02-04T05:14:52.407Z"
   },
   {
    "duration": 5,
    "start_time": "2023-02-04T05:14:52.426Z"
   },
   {
    "duration": 18,
    "start_time": "2023-02-04T05:14:52.433Z"
   },
   {
    "duration": 38,
    "start_time": "2023-02-04T05:14:52.454Z"
   },
   {
    "duration": 33,
    "start_time": "2023-02-04T05:14:52.493Z"
   },
   {
    "duration": 34,
    "start_time": "2023-02-04T05:14:52.529Z"
   },
   {
    "duration": 8,
    "start_time": "2023-02-04T05:14:52.566Z"
   },
   {
    "duration": 23,
    "start_time": "2023-02-04T05:14:52.576Z"
   },
   {
    "duration": 28,
    "start_time": "2023-02-04T05:14:52.600Z"
   },
   {
    "duration": 4,
    "start_time": "2023-02-04T05:14:52.629Z"
   },
   {
    "duration": 9,
    "start_time": "2023-02-04T05:14:52.635Z"
   },
   {
    "duration": 11,
    "start_time": "2023-02-04T05:14:52.645Z"
   },
   {
    "duration": 18,
    "start_time": "2023-02-04T05:14:52.657Z"
   },
   {
    "duration": 45,
    "start_time": "2023-02-04T05:14:52.677Z"
   },
   {
    "duration": 13,
    "start_time": "2023-02-04T05:14:52.723Z"
   },
   {
    "duration": 18,
    "start_time": "2023-02-04T05:14:52.738Z"
   },
   {
    "duration": 15,
    "start_time": "2023-02-04T05:14:52.758Z"
   },
   {
    "duration": 21,
    "start_time": "2023-02-04T05:14:52.774Z"
   },
   {
    "duration": 10,
    "start_time": "2023-02-04T05:14:52.797Z"
   },
   {
    "duration": 14,
    "start_time": "2023-02-04T05:14:52.810Z"
   },
   {
    "duration": 13,
    "start_time": "2023-02-04T05:14:52.826Z"
   },
   {
    "duration": 26,
    "start_time": "2023-02-04T05:14:52.841Z"
   },
   {
    "duration": 25,
    "start_time": "2023-02-04T05:14:52.869Z"
   },
   {
    "duration": 24,
    "start_time": "2023-02-04T05:14:52.896Z"
   },
   {
    "duration": 12,
    "start_time": "2023-02-04T05:14:52.921Z"
   },
   {
    "duration": 347,
    "start_time": "2023-02-04T05:14:52.938Z"
   },
   {
    "duration": 5,
    "start_time": "2023-02-04T05:14:53.287Z"
   },
   {
    "duration": 19,
    "start_time": "2023-02-04T05:14:53.294Z"
   },
   {
    "duration": 17,
    "start_time": "2023-02-04T05:14:53.315Z"
   },
   {
    "duration": 41448,
    "start_time": "2023-02-04T05:14:53.335Z"
   },
   {
    "duration": 5,
    "start_time": "2023-02-04T05:15:34.785Z"
   },
   {
    "duration": 22,
    "start_time": "2023-02-04T05:15:34.792Z"
   },
   {
    "duration": 22,
    "start_time": "2023-02-04T05:15:34.816Z"
   },
   {
    "duration": 7501,
    "start_time": "2023-02-04T05:15:34.839Z"
   },
   {
    "duration": 96,
    "start_time": "2023-02-04T05:15:42.342Z"
   },
   {
    "duration": 27,
    "start_time": "2023-02-04T05:15:42.441Z"
   },
   {
    "duration": 188,
    "start_time": "2023-02-04T05:15:42.470Z"
   },
   {
    "duration": 179,
    "start_time": "2023-02-04T05:15:42.660Z"
   },
   {
    "duration": 100,
    "start_time": "2023-02-04T05:15:42.841Z"
   },
   {
    "duration": 96,
    "start_time": "2023-02-04T05:15:42.944Z"
   },
   {
    "duration": 104,
    "start_time": "2023-02-04T05:15:43.041Z"
   },
   {
    "duration": 203,
    "start_time": "2023-02-04T05:15:43.153Z"
   },
   {
    "duration": 9,
    "start_time": "2023-02-04T05:15:43.358Z"
   },
   {
    "duration": 10,
    "start_time": "2023-02-04T05:15:43.368Z"
   },
   {
    "duration": 26,
    "start_time": "2023-02-04T05:15:43.380Z"
   },
   {
    "duration": 12,
    "start_time": "2023-02-04T05:15:43.408Z"
   },
   {
    "duration": 320,
    "start_time": "2023-02-04T05:15:43.422Z"
   },
   {
    "duration": 95,
    "start_time": "2023-02-04T05:15:43.744Z"
   },
   {
    "duration": 102,
    "start_time": "2023-02-04T05:15:43.841Z"
   },
   {
    "duration": 15,
    "start_time": "2023-02-04T05:15:43.945Z"
   },
   {
    "duration": 175,
    "start_time": "2023-02-04T05:15:43.963Z"
   },
   {
    "duration": 416,
    "start_time": "2023-02-04T05:15:44.140Z"
   },
   {
    "duration": 4,
    "start_time": "2023-02-04T05:15:44.558Z"
   },
   {
    "duration": 14,
    "start_time": "2023-02-04T05:15:44.564Z"
   },
   {
    "duration": 10,
    "start_time": "2023-02-04T05:15:44.580Z"
   },
   {
    "duration": 55720,
    "start_time": "2023-02-04T05:15:44.592Z"
   },
   {
    "duration": 5,
    "start_time": "2023-02-04T05:16:40.314Z"
   },
   {
    "duration": 67,
    "start_time": "2023-02-04T05:16:40.320Z"
   },
   {
    "duration": 6,
    "start_time": "2023-02-04T05:16:40.388Z"
   },
   {
    "duration": 7644,
    "start_time": "2023-02-04T05:16:40.396Z"
   },
   {
    "duration": 6,
    "start_time": "2023-02-04T05:16:48.042Z"
   },
   {
    "duration": 9,
    "start_time": "2023-02-04T05:16:48.139Z"
   },
   {
    "duration": 186,
    "start_time": "2023-02-04T05:16:48.151Z"
   },
   {
    "duration": 41,
    "start_time": "2023-02-04T05:16:48.339Z"
   },
   {
    "duration": 5,
    "start_time": "2023-02-04T05:16:48.381Z"
   },
   {
    "duration": 60,
    "start_time": "2023-02-04T05:16:48.388Z"
   },
   {
    "duration": 5,
    "start_time": "2023-02-04T05:16:48.450Z"
   },
   {
    "duration": 5,
    "start_time": "2023-02-04T05:16:48.457Z"
   },
   {
    "duration": 6,
    "start_time": "2023-02-04T05:16:48.464Z"
   },
   {
    "duration": 1162,
    "start_time": "2023-02-04T05:20:11.447Z"
   },
   {
    "duration": 3,
    "start_time": "2023-02-04T05:20:12.611Z"
   },
   {
    "duration": 72,
    "start_time": "2023-02-04T05:20:12.616Z"
   },
   {
    "duration": 14,
    "start_time": "2023-02-04T05:20:12.690Z"
   },
   {
    "duration": 10,
    "start_time": "2023-02-04T05:20:12.705Z"
   },
   {
    "duration": 18,
    "start_time": "2023-02-04T05:20:12.717Z"
   },
   {
    "duration": 24,
    "start_time": "2023-02-04T05:20:12.737Z"
   },
   {
    "duration": 27,
    "start_time": "2023-02-04T05:20:12.762Z"
   },
   {
    "duration": 22,
    "start_time": "2023-02-04T05:20:12.791Z"
   },
   {
    "duration": 7,
    "start_time": "2023-02-04T05:20:12.816Z"
   },
   {
    "duration": 28,
    "start_time": "2023-02-04T05:20:12.824Z"
   },
   {
    "duration": 26,
    "start_time": "2023-02-04T05:20:12.854Z"
   },
   {
    "duration": 8,
    "start_time": "2023-02-04T05:20:12.881Z"
   },
   {
    "duration": 13,
    "start_time": "2023-02-04T05:20:12.890Z"
   },
   {
    "duration": 20,
    "start_time": "2023-02-04T05:20:12.905Z"
   },
   {
    "duration": 32,
    "start_time": "2023-02-04T05:20:12.926Z"
   },
   {
    "duration": 29,
    "start_time": "2023-02-04T05:20:12.960Z"
   },
   {
    "duration": 20,
    "start_time": "2023-02-04T05:20:12.990Z"
   },
   {
    "duration": 50,
    "start_time": "2023-02-04T05:20:13.012Z"
   },
   {
    "duration": 20,
    "start_time": "2023-02-04T05:20:13.063Z"
   },
   {
    "duration": 19,
    "start_time": "2023-02-04T05:20:13.084Z"
   },
   {
    "duration": 19,
    "start_time": "2023-02-04T05:20:13.105Z"
   },
   {
    "duration": 15,
    "start_time": "2023-02-04T05:20:13.126Z"
   },
   {
    "duration": 20,
    "start_time": "2023-02-04T05:20:13.143Z"
   },
   {
    "duration": 29,
    "start_time": "2023-02-04T05:20:13.165Z"
   },
   {
    "duration": 31,
    "start_time": "2023-02-04T05:20:13.196Z"
   },
   {
    "duration": 11,
    "start_time": "2023-02-04T05:20:13.229Z"
   },
   {
    "duration": 360,
    "start_time": "2023-02-04T05:20:13.244Z"
   },
   {
    "duration": 4,
    "start_time": "2023-02-04T05:20:13.606Z"
   },
   {
    "duration": 15,
    "start_time": "2023-02-04T05:20:13.611Z"
   },
   {
    "duration": 11,
    "start_time": "2023-02-04T05:20:13.628Z"
   },
   {
    "duration": 41334,
    "start_time": "2023-02-04T05:20:13.640Z"
   },
   {
    "duration": 4,
    "start_time": "2023-02-04T05:20:54.976Z"
   },
   {
    "duration": 23,
    "start_time": "2023-02-04T05:20:54.982Z"
   },
   {
    "duration": 6,
    "start_time": "2023-02-04T05:20:55.006Z"
   },
   {
    "duration": 8130,
    "start_time": "2023-02-04T05:20:55.014Z"
   },
   {
    "duration": 4,
    "start_time": "2023-02-04T05:21:03.237Z"
   },
   {
    "duration": 8,
    "start_time": "2023-02-04T05:21:03.243Z"
   },
   {
    "duration": 89,
    "start_time": "2023-02-04T05:21:03.253Z"
   },
   {
    "duration": 203,
    "start_time": "2023-02-04T05:21:03.344Z"
   },
   {
    "duration": 96,
    "start_time": "2023-02-04T05:21:03.643Z"
   },
   {
    "duration": 195,
    "start_time": "2023-02-04T05:21:03.746Z"
   },
   {
    "duration": 7,
    "start_time": "2023-02-04T05:21:03.943Z"
   },
   {
    "duration": 90,
    "start_time": "2023-02-04T05:21:03.956Z"
   },
   {
    "duration": 96,
    "start_time": "2023-02-04T05:21:04.051Z"
   },
   {
    "duration": 7,
    "start_time": "2023-02-04T05:21:04.150Z"
   },
   {
    "duration": 18,
    "start_time": "2023-02-04T05:21:04.159Z"
   },
   {
    "duration": 3,
    "start_time": "2023-02-04T05:21:04.179Z"
   },
   {
    "duration": 455,
    "start_time": "2023-02-04T05:21:04.184Z"
   },
   {
    "duration": 6,
    "start_time": "2023-02-04T05:21:04.641Z"
   },
   {
    "duration": 101,
    "start_time": "2023-02-04T05:21:04.649Z"
   },
   {
    "duration": 93,
    "start_time": "2023-02-04T05:21:04.752Z"
   },
   {
    "duration": 90,
    "start_time": "2023-02-04T05:21:04.848Z"
   },
   {
    "duration": 488,
    "start_time": "2023-02-04T05:21:04.941Z"
   },
   {
    "duration": 9,
    "start_time": "2023-02-04T05:21:05.431Z"
   },
   {
    "duration": 9,
    "start_time": "2023-02-04T05:21:05.442Z"
   },
   {
    "duration": 13,
    "start_time": "2023-02-04T05:21:05.452Z"
   },
   {
    "duration": 55839,
    "start_time": "2023-02-04T05:21:05.467Z"
   },
   {
    "duration": 5,
    "start_time": "2023-02-04T05:22:01.307Z"
   },
   {
    "duration": 56,
    "start_time": "2023-02-04T05:22:01.313Z"
   },
   {
    "duration": 6,
    "start_time": "2023-02-04T05:22:01.371Z"
   },
   {
    "duration": 7363,
    "start_time": "2023-02-04T05:22:01.379Z"
   },
   {
    "duration": 97,
    "start_time": "2023-02-04T05:22:08.744Z"
   },
   {
    "duration": 103,
    "start_time": "2023-02-04T05:22:08.844Z"
   },
   {
    "duration": 93,
    "start_time": "2023-02-04T05:22:08.949Z"
   },
   {
    "duration": 133,
    "start_time": "2023-02-04T05:22:09.044Z"
   },
   {
    "duration": 6,
    "start_time": "2023-02-04T05:22:09.179Z"
   },
   {
    "duration": 58,
    "start_time": "2023-02-04T05:22:09.187Z"
   },
   {
    "duration": 6,
    "start_time": "2023-02-04T05:22:09.247Z"
   },
   {
    "duration": 24,
    "start_time": "2023-02-04T05:22:09.254Z"
   },
   {
    "duration": 25,
    "start_time": "2023-02-04T05:22:09.279Z"
   },
   {
    "duration": 1172,
    "start_time": "2023-02-04T06:56:41.411Z"
   },
   {
    "duration": 5,
    "start_time": "2023-02-04T06:56:42.586Z"
   },
   {
    "duration": 76,
    "start_time": "2023-02-04T06:56:42.593Z"
   },
   {
    "duration": 13,
    "start_time": "2023-02-04T06:56:42.671Z"
   },
   {
    "duration": 4,
    "start_time": "2023-02-04T06:56:42.686Z"
   },
   {
    "duration": 14,
    "start_time": "2023-02-04T06:56:42.691Z"
   },
   {
    "duration": 14,
    "start_time": "2023-02-04T06:56:42.707Z"
   },
   {
    "duration": 16,
    "start_time": "2023-02-04T06:56:42.723Z"
   },
   {
    "duration": 21,
    "start_time": "2023-02-04T06:56:42.741Z"
   },
   {
    "duration": 20,
    "start_time": "2023-02-04T06:56:42.765Z"
   },
   {
    "duration": 9,
    "start_time": "2023-02-04T06:56:42.786Z"
   },
   {
    "duration": 19,
    "start_time": "2023-02-04T06:56:42.797Z"
   },
   {
    "duration": 5,
    "start_time": "2023-02-04T06:56:42.818Z"
   },
   {
    "duration": 19,
    "start_time": "2023-02-04T06:56:42.824Z"
   },
   {
    "duration": 15,
    "start_time": "2023-02-04T06:56:42.846Z"
   },
   {
    "duration": 15,
    "start_time": "2023-02-04T06:56:42.863Z"
   },
   {
    "duration": 26,
    "start_time": "2023-02-04T06:56:42.880Z"
   },
   {
    "duration": 5,
    "start_time": "2023-02-04T06:56:42.908Z"
   },
   {
    "duration": 14,
    "start_time": "2023-02-04T06:56:42.914Z"
   },
   {
    "duration": 21,
    "start_time": "2023-02-04T06:56:42.930Z"
   },
   {
    "duration": 31,
    "start_time": "2023-02-04T06:56:42.953Z"
   },
   {
    "duration": 30,
    "start_time": "2023-02-04T06:56:42.986Z"
   },
   {
    "duration": 20,
    "start_time": "2023-02-04T06:56:43.018Z"
   },
   {
    "duration": 20,
    "start_time": "2023-02-04T06:56:43.039Z"
   },
   {
    "duration": 16,
    "start_time": "2023-02-04T06:56:43.060Z"
   },
   {
    "duration": 23,
    "start_time": "2023-02-04T06:56:43.078Z"
   },
   {
    "duration": 11,
    "start_time": "2023-02-04T06:56:43.102Z"
   },
   {
    "duration": 354,
    "start_time": "2023-02-04T06:56:43.117Z"
   },
   {
    "duration": 6,
    "start_time": "2023-02-04T06:56:43.473Z"
   },
   {
    "duration": 15,
    "start_time": "2023-02-04T06:56:43.481Z"
   },
   {
    "duration": 12,
    "start_time": "2023-02-04T06:56:43.497Z"
   },
   {
    "duration": 42642,
    "start_time": "2023-02-04T06:56:43.510Z"
   },
   {
    "duration": 4,
    "start_time": "2023-02-04T06:57:26.153Z"
   },
   {
    "duration": 48,
    "start_time": "2023-02-04T06:57:26.159Z"
   },
   {
    "duration": 10,
    "start_time": "2023-02-04T06:57:26.209Z"
   },
   {
    "duration": 6518,
    "start_time": "2023-02-04T06:57:26.220Z"
   },
   {
    "duration": 98,
    "start_time": "2023-02-04T06:57:32.740Z"
   },
   {
    "duration": 12,
    "start_time": "2023-02-04T06:57:32.841Z"
   },
   {
    "duration": 196,
    "start_time": "2023-02-04T06:57:32.854Z"
   },
   {
    "duration": 287,
    "start_time": "2023-02-04T06:57:33.052Z"
   },
   {
    "duration": 102,
    "start_time": "2023-02-04T06:57:33.341Z"
   },
   {
    "duration": 203,
    "start_time": "2023-02-04T06:57:33.446Z"
   },
   {
    "duration": 22,
    "start_time": "2023-02-04T06:57:33.651Z"
   },
   {
    "duration": 177,
    "start_time": "2023-02-04T06:57:33.678Z"
   },
   {
    "duration": 9,
    "start_time": "2023-02-04T06:57:33.856Z"
   },
   {
    "duration": 8,
    "start_time": "2023-02-04T06:57:33.867Z"
   },
   {
    "duration": 18,
    "start_time": "2023-02-04T06:57:33.877Z"
   },
   {
    "duration": 8,
    "start_time": "2023-02-04T06:57:33.896Z"
   },
   {
    "duration": 340,
    "start_time": "2023-02-04T06:57:33.906Z"
   },
   {
    "duration": 191,
    "start_time": "2023-02-04T06:57:34.247Z"
   },
   {
    "duration": 17,
    "start_time": "2023-02-04T06:57:34.441Z"
   },
   {
    "duration": 6,
    "start_time": "2023-02-04T06:57:34.538Z"
   },
   {
    "duration": 194,
    "start_time": "2023-02-04T06:57:34.546Z"
   },
   {
    "duration": 31,
    "start_time": "2023-02-04T06:57:34.741Z"
   },
   {
    "duration": 17,
    "start_time": "2023-02-04T06:57:34.774Z"
   },
   {
    "duration": 11,
    "start_time": "2023-02-04T06:57:34.793Z"
   },
   {
    "duration": 142,
    "start_time": "2023-02-04T06:57:34.805Z"
   },
   {
    "duration": 194,
    "start_time": "2023-02-04T06:57:34.948Z"
   },
   {
    "duration": 196,
    "start_time": "2023-02-04T06:57:35.145Z"
   },
   {
    "duration": 38,
    "start_time": "2023-02-04T06:57:35.343Z"
   },
   {
    "duration": 106,
    "start_time": "2023-02-04T06:57:35.443Z"
   },
   {
    "duration": 113,
    "start_time": "2023-02-04T06:57:35.551Z"
   },
   {
    "duration": 0,
    "start_time": "2023-02-04T06:57:35.665Z"
   },
   {
    "duration": 0,
    "start_time": "2023-02-04T06:57:35.667Z"
   },
   {
    "duration": 0,
    "start_time": "2023-02-04T06:57:35.668Z"
   },
   {
    "duration": 0,
    "start_time": "2023-02-04T06:57:35.669Z"
   },
   {
    "duration": 0,
    "start_time": "2023-02-04T06:57:35.671Z"
   },
   {
    "duration": 0,
    "start_time": "2023-02-04T06:57:35.673Z"
   },
   {
    "duration": 0,
    "start_time": "2023-02-04T06:57:35.674Z"
   },
   {
    "duration": 0,
    "start_time": "2023-02-04T06:57:35.675Z"
   },
   {
    "duration": 0,
    "start_time": "2023-02-04T06:57:35.677Z"
   },
   {
    "duration": 0,
    "start_time": "2023-02-04T06:57:35.678Z"
   },
   {
    "duration": 0,
    "start_time": "2023-02-04T06:57:35.680Z"
   },
   {
    "duration": 0,
    "start_time": "2023-02-04T06:57:35.681Z"
   },
   {
    "duration": 0,
    "start_time": "2023-02-04T06:57:35.682Z"
   },
   {
    "duration": 0,
    "start_time": "2023-02-04T06:57:35.684Z"
   },
   {
    "duration": 0,
    "start_time": "2023-02-04T06:57:35.685Z"
   },
   {
    "duration": 0,
    "start_time": "2023-02-04T06:57:35.686Z"
   },
   {
    "duration": 0,
    "start_time": "2023-02-04T06:57:35.687Z"
   },
   {
    "duration": 0,
    "start_time": "2023-02-04T06:57:35.688Z"
   },
   {
    "duration": 1157,
    "start_time": "2023-02-04T06:58:03.688Z"
   },
   {
    "duration": 3,
    "start_time": "2023-02-04T06:58:04.846Z"
   },
   {
    "duration": 72,
    "start_time": "2023-02-04T06:58:04.851Z"
   },
   {
    "duration": 13,
    "start_time": "2023-02-04T06:58:04.925Z"
   },
   {
    "duration": 6,
    "start_time": "2023-02-04T06:58:04.940Z"
   },
   {
    "duration": 15,
    "start_time": "2023-02-04T06:58:04.948Z"
   },
   {
    "duration": 14,
    "start_time": "2023-02-04T06:58:04.964Z"
   },
   {
    "duration": 20,
    "start_time": "2023-02-04T06:58:04.979Z"
   },
   {
    "duration": 20,
    "start_time": "2023-02-04T06:58:05.001Z"
   },
   {
    "duration": 12,
    "start_time": "2023-02-04T06:58:05.024Z"
   },
   {
    "duration": 37,
    "start_time": "2023-02-04T06:58:05.038Z"
   },
   {
    "duration": 40,
    "start_time": "2023-02-04T06:58:05.076Z"
   },
   {
    "duration": 9,
    "start_time": "2023-02-04T06:58:05.117Z"
   },
   {
    "duration": 20,
    "start_time": "2023-02-04T06:58:05.127Z"
   },
   {
    "duration": 11,
    "start_time": "2023-02-04T06:58:05.148Z"
   },
   {
    "duration": 10,
    "start_time": "2023-02-04T06:58:05.160Z"
   },
   {
    "duration": 30,
    "start_time": "2023-02-04T06:58:05.171Z"
   },
   {
    "duration": 6,
    "start_time": "2023-02-04T06:58:05.203Z"
   },
   {
    "duration": 31,
    "start_time": "2023-02-04T06:58:05.210Z"
   },
   {
    "duration": 37,
    "start_time": "2023-02-04T06:58:05.243Z"
   },
   {
    "duration": 36,
    "start_time": "2023-02-04T06:58:05.282Z"
   },
   {
    "duration": 28,
    "start_time": "2023-02-04T06:58:05.321Z"
   },
   {
    "duration": 33,
    "start_time": "2023-02-04T06:58:05.350Z"
   },
   {
    "duration": 37,
    "start_time": "2023-02-04T06:58:05.385Z"
   },
   {
    "duration": 44,
    "start_time": "2023-02-04T06:58:05.423Z"
   },
   {
    "duration": 44,
    "start_time": "2023-02-04T06:58:05.469Z"
   },
   {
    "duration": 11,
    "start_time": "2023-02-04T06:58:05.515Z"
   },
   {
    "duration": 336,
    "start_time": "2023-02-04T06:58:05.530Z"
   },
   {
    "duration": 5,
    "start_time": "2023-02-04T06:58:05.867Z"
   },
   {
    "duration": 41,
    "start_time": "2023-02-04T06:58:05.873Z"
   },
   {
    "duration": 26,
    "start_time": "2023-02-04T06:58:05.915Z"
   },
   {
    "duration": 42322,
    "start_time": "2023-02-04T06:58:05.943Z"
   },
   {
    "duration": 5,
    "start_time": "2023-02-04T06:58:48.267Z"
   },
   {
    "duration": 32,
    "start_time": "2023-02-04T06:58:48.273Z"
   },
   {
    "duration": 6,
    "start_time": "2023-02-04T06:58:48.307Z"
   },
   {
    "duration": 5933,
    "start_time": "2023-02-04T06:58:48.314Z"
   },
   {
    "duration": 7,
    "start_time": "2023-02-04T06:58:54.339Z"
   },
   {
    "duration": 106,
    "start_time": "2023-02-04T06:58:54.348Z"
   },
   {
    "duration": 182,
    "start_time": "2023-02-04T06:58:54.457Z"
   },
   {
    "duration": 201,
    "start_time": "2023-02-04T06:58:54.641Z"
   },
   {
    "duration": 196,
    "start_time": "2023-02-04T06:58:54.845Z"
   },
   {
    "duration": 10,
    "start_time": "2023-02-04T06:58:55.137Z"
   },
   {
    "duration": 7,
    "start_time": "2023-02-04T06:58:55.148Z"
   },
   {
    "duration": 180,
    "start_time": "2023-02-04T06:58:55.157Z"
   },
   {
    "duration": 7,
    "start_time": "2023-02-04T06:58:55.340Z"
   },
   {
    "duration": 8,
    "start_time": "2023-02-04T06:58:55.348Z"
   },
   {
    "duration": 19,
    "start_time": "2023-02-04T06:58:55.358Z"
   },
   {
    "duration": 9,
    "start_time": "2023-02-04T06:58:55.378Z"
   },
   {
    "duration": 352,
    "start_time": "2023-02-04T06:58:55.389Z"
   },
   {
    "duration": 97,
    "start_time": "2023-02-04T06:58:55.743Z"
   },
   {
    "duration": 103,
    "start_time": "2023-02-04T06:58:55.843Z"
   },
   {
    "duration": 93,
    "start_time": "2023-02-04T06:58:55.949Z"
   },
   {
    "duration": 99,
    "start_time": "2023-02-04T06:58:56.045Z"
   },
   {
    "duration": 92,
    "start_time": "2023-02-04T06:58:56.146Z"
   },
   {
    "duration": 12,
    "start_time": "2023-02-04T06:58:56.240Z"
   },
   {
    "duration": 10,
    "start_time": "2023-02-04T06:58:56.254Z"
   },
   {
    "duration": 174,
    "start_time": "2023-02-04T06:58:56.266Z"
   },
   {
    "duration": 100,
    "start_time": "2023-02-04T06:58:56.442Z"
   },
   {
    "duration": 98,
    "start_time": "2023-02-04T06:58:56.545Z"
   },
   {
    "duration": 96,
    "start_time": "2023-02-04T06:58:56.646Z"
   },
   {
    "duration": 101,
    "start_time": "2023-02-04T06:58:56.744Z"
   },
   {
    "duration": 201,
    "start_time": "2023-02-04T06:58:56.848Z"
   },
   {
    "duration": 0,
    "start_time": "2023-02-04T06:58:57.050Z"
   },
   {
    "duration": 0,
    "start_time": "2023-02-04T06:58:57.052Z"
   },
   {
    "duration": 0,
    "start_time": "2023-02-04T06:58:57.053Z"
   },
   {
    "duration": 0,
    "start_time": "2023-02-04T06:58:57.054Z"
   },
   {
    "duration": 0,
    "start_time": "2023-02-04T06:58:57.055Z"
   },
   {
    "duration": 0,
    "start_time": "2023-02-04T06:58:57.056Z"
   },
   {
    "duration": 0,
    "start_time": "2023-02-04T06:58:57.057Z"
   },
   {
    "duration": 0,
    "start_time": "2023-02-04T06:58:57.058Z"
   },
   {
    "duration": 0,
    "start_time": "2023-02-04T06:58:57.059Z"
   },
   {
    "duration": 0,
    "start_time": "2023-02-04T06:58:57.061Z"
   },
   {
    "duration": 0,
    "start_time": "2023-02-04T06:58:57.062Z"
   },
   {
    "duration": 0,
    "start_time": "2023-02-04T06:58:57.063Z"
   },
   {
    "duration": 1,
    "start_time": "2023-02-04T06:58:57.063Z"
   },
   {
    "duration": 0,
    "start_time": "2023-02-04T06:58:57.065Z"
   },
   {
    "duration": 0,
    "start_time": "2023-02-04T06:58:57.065Z"
   },
   {
    "duration": 0,
    "start_time": "2023-02-04T06:58:57.066Z"
   },
   {
    "duration": 0,
    "start_time": "2023-02-04T06:58:57.067Z"
   },
   {
    "duration": 0,
    "start_time": "2023-02-04T06:58:57.068Z"
   },
   {
    "duration": 1088,
    "start_time": "2023-02-04T07:02:00.127Z"
   },
   {
    "duration": 2,
    "start_time": "2023-02-04T07:02:01.217Z"
   },
   {
    "duration": 79,
    "start_time": "2023-02-04T07:02:01.221Z"
   },
   {
    "duration": 11,
    "start_time": "2023-02-04T07:02:01.302Z"
   },
   {
    "duration": 16,
    "start_time": "2023-02-04T07:02:01.315Z"
   },
   {
    "duration": 26,
    "start_time": "2023-02-04T07:02:01.332Z"
   },
   {
    "duration": 31,
    "start_time": "2023-02-04T07:02:01.360Z"
   },
   {
    "duration": 38,
    "start_time": "2023-02-04T07:02:01.393Z"
   },
   {
    "duration": 41,
    "start_time": "2023-02-04T07:02:01.433Z"
   },
   {
    "duration": 30,
    "start_time": "2023-02-04T07:02:01.476Z"
   },
   {
    "duration": 15,
    "start_time": "2023-02-04T07:02:01.507Z"
   },
   {
    "duration": 31,
    "start_time": "2023-02-04T07:02:01.523Z"
   },
   {
    "duration": 7,
    "start_time": "2023-02-04T07:02:01.556Z"
   },
   {
    "duration": 30,
    "start_time": "2023-02-04T07:02:01.565Z"
   },
   {
    "duration": 21,
    "start_time": "2023-02-04T07:02:01.597Z"
   },
   {
    "duration": 41,
    "start_time": "2023-02-04T07:02:01.620Z"
   },
   {
    "duration": 46,
    "start_time": "2023-02-04T07:02:01.663Z"
   },
   {
    "duration": 21,
    "start_time": "2023-02-04T07:02:01.710Z"
   },
   {
    "duration": 30,
    "start_time": "2023-02-04T07:02:01.733Z"
   },
   {
    "duration": 21,
    "start_time": "2023-02-04T07:02:01.765Z"
   },
   {
    "duration": 41,
    "start_time": "2023-02-04T07:02:01.788Z"
   },
   {
    "duration": 44,
    "start_time": "2023-02-04T07:02:01.830Z"
   },
   {
    "duration": 17,
    "start_time": "2023-02-04T07:02:01.876Z"
   },
   {
    "duration": 25,
    "start_time": "2023-02-04T07:02:01.895Z"
   },
   {
    "duration": 22,
    "start_time": "2023-02-04T07:02:01.922Z"
   },
   {
    "duration": 38,
    "start_time": "2023-02-04T07:02:01.946Z"
   },
   {
    "duration": 18,
    "start_time": "2023-02-04T07:02:01.986Z"
   },
   {
    "duration": 306,
    "start_time": "2023-02-04T07:02:02.009Z"
   },
   {
    "duration": 5,
    "start_time": "2023-02-04T07:02:02.317Z"
   },
   {
    "duration": 13,
    "start_time": "2023-02-04T07:02:02.338Z"
   },
   {
    "duration": 35,
    "start_time": "2023-02-04T07:02:02.353Z"
   },
   {
    "duration": 40360,
    "start_time": "2023-02-04T07:02:02.389Z"
   },
   {
    "duration": 5,
    "start_time": "2023-02-04T07:02:42.751Z"
   },
   {
    "duration": 27,
    "start_time": "2023-02-04T07:02:42.758Z"
   },
   {
    "duration": 7,
    "start_time": "2023-02-04T07:02:42.786Z"
   },
   {
    "duration": 9448,
    "start_time": "2023-02-04T07:02:42.795Z"
   },
   {
    "duration": 95,
    "start_time": "2023-02-04T07:02:52.245Z"
   },
   {
    "duration": 97,
    "start_time": "2023-02-04T07:02:52.342Z"
   },
   {
    "duration": 112,
    "start_time": "2023-02-04T07:02:52.442Z"
   },
   {
    "duration": 288,
    "start_time": "2023-02-04T07:02:52.556Z"
   },
   {
    "duration": 192,
    "start_time": "2023-02-04T07:02:52.846Z"
   },
   {
    "duration": 100,
    "start_time": "2023-02-04T07:02:53.041Z"
   },
   {
    "duration": 12,
    "start_time": "2023-02-04T07:02:53.143Z"
   },
   {
    "duration": 185,
    "start_time": "2023-02-04T07:02:53.157Z"
   },
   {
    "duration": 29,
    "start_time": "2023-02-04T07:02:53.344Z"
   },
   {
    "duration": 4,
    "start_time": "2023-02-04T07:02:53.374Z"
   },
   {
    "duration": 19,
    "start_time": "2023-02-04T07:02:53.380Z"
   },
   {
    "duration": 4,
    "start_time": "2023-02-04T07:02:53.401Z"
   },
   {
    "duration": 338,
    "start_time": "2023-02-04T07:02:53.406Z"
   },
   {
    "duration": 93,
    "start_time": "2023-02-04T07:02:53.746Z"
   },
   {
    "duration": 115,
    "start_time": "2023-02-04T07:02:53.842Z"
   },
   {
    "duration": 79,
    "start_time": "2023-02-04T07:02:53.960Z"
   },
   {
    "duration": 8,
    "start_time": "2023-02-04T07:02:54.042Z"
   },
   {
    "duration": 6,
    "start_time": "2023-02-04T07:02:54.139Z"
   },
   {
    "duration": 109,
    "start_time": "2023-02-04T07:02:54.147Z"
   },
   {
    "duration": 16,
    "start_time": "2023-02-04T07:02:54.257Z"
   },
   {
    "duration": 164,
    "start_time": "2023-02-04T07:02:54.275Z"
   },
   {
    "duration": 99,
    "start_time": "2023-02-04T07:02:54.442Z"
   },
   {
    "duration": 98,
    "start_time": "2023-02-04T07:02:54.544Z"
   },
   {
    "duration": 96,
    "start_time": "2023-02-04T07:02:54.645Z"
   },
   {
    "duration": 206,
    "start_time": "2023-02-04T07:02:54.748Z"
   },
   {
    "duration": 452,
    "start_time": "2023-02-04T07:02:54.956Z"
   },
   {
    "duration": 5,
    "start_time": "2023-02-04T07:02:55.412Z"
   },
   {
    "duration": 72,
    "start_time": "2023-02-04T07:02:55.418Z"
   },
   {
    "duration": 34,
    "start_time": "2023-02-04T07:02:55.492Z"
   },
   {
    "duration": 56029,
    "start_time": "2023-02-04T07:02:55.528Z"
   },
   {
    "duration": 5,
    "start_time": "2023-02-04T07:03:51.559Z"
   },
   {
    "duration": 93,
    "start_time": "2023-02-04T07:03:51.565Z"
   },
   {
    "duration": 7,
    "start_time": "2023-02-04T07:03:51.660Z"
   },
   {
    "duration": 8272,
    "start_time": "2023-02-04T07:03:51.668Z"
   },
   {
    "duration": 92,
    "start_time": "2023-02-04T07:03:59.947Z"
   },
   {
    "duration": 48,
    "start_time": "2023-02-04T07:04:00.041Z"
   },
   {
    "duration": 145,
    "start_time": "2023-02-04T07:04:00.096Z"
   },
   {
    "duration": 56,
    "start_time": "2023-02-04T07:04:00.243Z"
   },
   {
    "duration": 5,
    "start_time": "2023-02-04T07:04:00.301Z"
   },
   {
    "duration": 56,
    "start_time": "2023-02-04T07:04:00.308Z"
   },
   {
    "duration": 6,
    "start_time": "2023-02-04T07:04:00.366Z"
   },
   {
    "duration": 44,
    "start_time": "2023-02-04T07:04:00.373Z"
   },
   {
    "duration": 52,
    "start_time": "2023-02-04T07:04:00.418Z"
   },
   {
    "duration": 1165,
    "start_time": "2023-02-05T08:08:35.485Z"
   },
   {
    "duration": 3,
    "start_time": "2023-02-05T08:08:36.653Z"
   },
   {
    "duration": 119,
    "start_time": "2023-02-05T08:08:36.658Z"
   },
   {
    "duration": 15,
    "start_time": "2023-02-05T08:08:36.779Z"
   },
   {
    "duration": 5,
    "start_time": "2023-02-05T08:08:36.797Z"
   },
   {
    "duration": 9,
    "start_time": "2023-02-05T08:08:36.803Z"
   },
   {
    "duration": 9,
    "start_time": "2023-02-05T08:08:36.814Z"
   },
   {
    "duration": 8,
    "start_time": "2023-02-05T08:08:36.824Z"
   },
   {
    "duration": 18,
    "start_time": "2023-02-05T08:08:36.833Z"
   },
   {
    "duration": 3,
    "start_time": "2023-02-05T08:08:36.852Z"
   },
   {
    "duration": 4,
    "start_time": "2023-02-05T08:08:36.857Z"
   },
   {
    "duration": 12,
    "start_time": "2023-02-05T08:08:36.862Z"
   },
   {
    "duration": 4,
    "start_time": "2023-02-05T08:08:36.875Z"
   },
   {
    "duration": 4,
    "start_time": "2023-02-05T08:08:36.909Z"
   },
   {
    "duration": 4,
    "start_time": "2023-02-05T08:08:36.915Z"
   },
   {
    "duration": 5,
    "start_time": "2023-02-05T08:08:36.921Z"
   },
   {
    "duration": 21,
    "start_time": "2023-02-05T08:08:36.927Z"
   },
   {
    "duration": 5,
    "start_time": "2023-02-05T08:08:36.949Z"
   },
   {
    "duration": 5,
    "start_time": "2023-02-05T08:08:36.956Z"
   },
   {
    "duration": 48,
    "start_time": "2023-02-05T08:08:36.962Z"
   },
   {
    "duration": 5,
    "start_time": "2023-02-05T08:08:37.011Z"
   },
   {
    "duration": 20,
    "start_time": "2023-02-05T08:08:37.018Z"
   },
   {
    "duration": 7,
    "start_time": "2023-02-05T08:08:37.040Z"
   },
   {
    "duration": 5,
    "start_time": "2023-02-05T08:08:37.048Z"
   },
   {
    "duration": 10,
    "start_time": "2023-02-05T08:08:37.054Z"
   },
   {
    "duration": 20,
    "start_time": "2023-02-05T08:08:37.065Z"
   },
   {
    "duration": 28,
    "start_time": "2023-02-05T08:08:37.086Z"
   },
   {
    "duration": 9,
    "start_time": "2023-02-05T08:08:37.116Z"
   },
   {
    "duration": 350,
    "start_time": "2023-02-05T08:08:37.127Z"
   },
   {
    "duration": 4,
    "start_time": "2023-02-05T08:08:37.478Z"
   },
   {
    "duration": 5,
    "start_time": "2023-02-05T08:08:37.484Z"
   },
   {
    "duration": 4,
    "start_time": "2023-02-05T08:08:37.490Z"
   },
   {
    "duration": 20,
    "start_time": "2023-02-05T08:08:37.496Z"
   },
   {
    "duration": 121,
    "start_time": "2023-02-05T08:08:37.518Z"
   },
   {
    "duration": 0,
    "start_time": "2023-02-05T08:08:37.642Z"
   },
   {
    "duration": 0,
    "start_time": "2023-02-05T08:08:37.644Z"
   },
   {
    "duration": 0,
    "start_time": "2023-02-05T08:08:37.645Z"
   },
   {
    "duration": 0,
    "start_time": "2023-02-05T08:08:37.646Z"
   },
   {
    "duration": 0,
    "start_time": "2023-02-05T08:08:37.647Z"
   },
   {
    "duration": 0,
    "start_time": "2023-02-05T08:08:37.648Z"
   },
   {
    "duration": 0,
    "start_time": "2023-02-05T08:08:37.649Z"
   },
   {
    "duration": 0,
    "start_time": "2023-02-05T08:08:37.650Z"
   },
   {
    "duration": 0,
    "start_time": "2023-02-05T08:08:37.651Z"
   },
   {
    "duration": 0,
    "start_time": "2023-02-05T08:08:37.652Z"
   },
   {
    "duration": 0,
    "start_time": "2023-02-05T08:08:37.653Z"
   },
   {
    "duration": 0,
    "start_time": "2023-02-05T08:08:37.654Z"
   },
   {
    "duration": 0,
    "start_time": "2023-02-05T08:08:37.655Z"
   },
   {
    "duration": 0,
    "start_time": "2023-02-05T08:08:37.656Z"
   },
   {
    "duration": 0,
    "start_time": "2023-02-05T08:08:37.657Z"
   },
   {
    "duration": 0,
    "start_time": "2023-02-05T08:08:37.658Z"
   },
   {
    "duration": 0,
    "start_time": "2023-02-05T08:08:37.659Z"
   },
   {
    "duration": 0,
    "start_time": "2023-02-05T08:08:37.660Z"
   },
   {
    "duration": 0,
    "start_time": "2023-02-05T08:08:37.661Z"
   },
   {
    "duration": 0,
    "start_time": "2023-02-05T08:08:37.662Z"
   },
   {
    "duration": 0,
    "start_time": "2023-02-05T08:08:37.663Z"
   },
   {
    "duration": 0,
    "start_time": "2023-02-05T08:08:37.664Z"
   },
   {
    "duration": 0,
    "start_time": "2023-02-05T08:08:37.665Z"
   },
   {
    "duration": 0,
    "start_time": "2023-02-05T08:08:37.666Z"
   },
   {
    "duration": 0,
    "start_time": "2023-02-05T08:08:37.709Z"
   },
   {
    "duration": 0,
    "start_time": "2023-02-05T08:08:37.710Z"
   },
   {
    "duration": 0,
    "start_time": "2023-02-05T08:08:37.711Z"
   },
   {
    "duration": 0,
    "start_time": "2023-02-05T08:08:37.712Z"
   },
   {
    "duration": 0,
    "start_time": "2023-02-05T08:08:37.713Z"
   },
   {
    "duration": 0,
    "start_time": "2023-02-05T08:08:37.714Z"
   },
   {
    "duration": 0,
    "start_time": "2023-02-05T08:08:37.715Z"
   },
   {
    "duration": 0,
    "start_time": "2023-02-05T08:08:37.716Z"
   },
   {
    "duration": 0,
    "start_time": "2023-02-05T08:08:37.717Z"
   },
   {
    "duration": 0,
    "start_time": "2023-02-05T08:08:37.718Z"
   },
   {
    "duration": 0,
    "start_time": "2023-02-05T08:08:37.719Z"
   },
   {
    "duration": 0,
    "start_time": "2023-02-05T08:08:37.720Z"
   },
   {
    "duration": 0,
    "start_time": "2023-02-05T08:08:37.721Z"
   },
   {
    "duration": 0,
    "start_time": "2023-02-05T08:08:37.721Z"
   },
   {
    "duration": 0,
    "start_time": "2023-02-05T08:08:37.722Z"
   },
   {
    "duration": 0,
    "start_time": "2023-02-05T08:08:37.723Z"
   },
   {
    "duration": 0,
    "start_time": "2023-02-05T08:08:37.724Z"
   },
   {
    "duration": 0,
    "start_time": "2023-02-05T08:08:37.725Z"
   },
   {
    "duration": 0,
    "start_time": "2023-02-05T08:08:37.726Z"
   },
   {
    "duration": 0,
    "start_time": "2023-02-05T08:08:37.727Z"
   },
   {
    "duration": 0,
    "start_time": "2023-02-05T08:08:37.728Z"
   },
   {
    "duration": 0,
    "start_time": "2023-02-05T08:08:37.729Z"
   },
   {
    "duration": 0,
    "start_time": "2023-02-05T08:08:37.730Z"
   },
   {
    "duration": 0,
    "start_time": "2023-02-05T08:08:37.732Z"
   },
   {
    "duration": 1105,
    "start_time": "2023-02-05T08:09:04.963Z"
   },
   {
    "duration": 3,
    "start_time": "2023-02-05T08:09:06.070Z"
   },
   {
    "duration": 54,
    "start_time": "2023-02-05T08:09:06.074Z"
   },
   {
    "duration": 12,
    "start_time": "2023-02-05T08:09:06.130Z"
   },
   {
    "duration": 8,
    "start_time": "2023-02-05T08:09:06.144Z"
   },
   {
    "duration": 7,
    "start_time": "2023-02-05T08:09:06.154Z"
   },
   {
    "duration": 8,
    "start_time": "2023-02-05T08:09:06.162Z"
   },
   {
    "duration": 7,
    "start_time": "2023-02-05T08:09:06.171Z"
   },
   {
    "duration": 33,
    "start_time": "2023-02-05T08:09:06.180Z"
   },
   {
    "duration": 4,
    "start_time": "2023-02-05T08:09:06.216Z"
   },
   {
    "duration": 6,
    "start_time": "2023-02-05T08:09:06.221Z"
   },
   {
    "duration": 14,
    "start_time": "2023-02-05T08:09:06.229Z"
   },
   {
    "duration": 5,
    "start_time": "2023-02-05T08:09:06.244Z"
   },
   {
    "duration": 7,
    "start_time": "2023-02-05T08:09:06.251Z"
   },
   {
    "duration": 5,
    "start_time": "2023-02-05T08:09:06.259Z"
   },
   {
    "duration": 45,
    "start_time": "2023-02-05T08:09:06.266Z"
   },
   {
    "duration": 27,
    "start_time": "2023-02-05T08:09:06.313Z"
   },
   {
    "duration": 5,
    "start_time": "2023-02-05T08:09:06.342Z"
   },
   {
    "duration": 7,
    "start_time": "2023-02-05T08:09:06.348Z"
   },
   {
    "duration": 11,
    "start_time": "2023-02-05T08:09:06.356Z"
   },
   {
    "duration": 7,
    "start_time": "2023-02-05T08:09:06.368Z"
   },
   {
    "duration": 14,
    "start_time": "2023-02-05T08:09:06.377Z"
   },
   {
    "duration": 3,
    "start_time": "2023-02-05T08:09:06.410Z"
   },
   {
    "duration": 14,
    "start_time": "2023-02-05T08:09:06.414Z"
   },
   {
    "duration": 11,
    "start_time": "2023-02-05T08:09:06.430Z"
   },
   {
    "duration": 23,
    "start_time": "2023-02-05T08:09:06.443Z"
   },
   {
    "duration": 10,
    "start_time": "2023-02-05T08:09:06.468Z"
   },
   {
    "duration": 3,
    "start_time": "2023-02-05T08:09:06.483Z"
   },
   {
    "duration": 397,
    "start_time": "2023-02-05T08:09:06.488Z"
   },
   {
    "duration": 4,
    "start_time": "2023-02-05T08:09:06.887Z"
   },
   {
    "duration": 20,
    "start_time": "2023-02-05T08:09:06.892Z"
   },
   {
    "duration": 6,
    "start_time": "2023-02-05T08:09:06.914Z"
   },
   {
    "duration": 8,
    "start_time": "2023-02-05T08:09:06.922Z"
   },
   {
    "duration": 122,
    "start_time": "2023-02-05T08:09:06.931Z"
   },
   {
    "duration": 0,
    "start_time": "2023-02-05T08:09:07.055Z"
   },
   {
    "duration": 0,
    "start_time": "2023-02-05T08:09:07.056Z"
   },
   {
    "duration": 0,
    "start_time": "2023-02-05T08:09:07.058Z"
   },
   {
    "duration": 0,
    "start_time": "2023-02-05T08:09:07.059Z"
   },
   {
    "duration": 0,
    "start_time": "2023-02-05T08:09:07.060Z"
   },
   {
    "duration": 0,
    "start_time": "2023-02-05T08:09:07.062Z"
   },
   {
    "duration": 0,
    "start_time": "2023-02-05T08:09:07.063Z"
   },
   {
    "duration": 0,
    "start_time": "2023-02-05T08:09:07.064Z"
   },
   {
    "duration": 0,
    "start_time": "2023-02-05T08:09:07.065Z"
   },
   {
    "duration": 0,
    "start_time": "2023-02-05T08:09:07.067Z"
   },
   {
    "duration": 0,
    "start_time": "2023-02-05T08:09:07.068Z"
   },
   {
    "duration": 0,
    "start_time": "2023-02-05T08:09:07.069Z"
   },
   {
    "duration": 0,
    "start_time": "2023-02-05T08:09:07.070Z"
   },
   {
    "duration": 0,
    "start_time": "2023-02-05T08:09:07.071Z"
   },
   {
    "duration": 0,
    "start_time": "2023-02-05T08:09:07.073Z"
   },
   {
    "duration": 0,
    "start_time": "2023-02-05T08:09:07.074Z"
   },
   {
    "duration": 0,
    "start_time": "2023-02-05T08:09:07.075Z"
   },
   {
    "duration": 0,
    "start_time": "2023-02-05T08:09:07.076Z"
   },
   {
    "duration": 0,
    "start_time": "2023-02-05T08:09:07.110Z"
   },
   {
    "duration": 0,
    "start_time": "2023-02-05T08:09:07.111Z"
   },
   {
    "duration": 0,
    "start_time": "2023-02-05T08:09:07.112Z"
   },
   {
    "duration": 0,
    "start_time": "2023-02-05T08:09:07.113Z"
   },
   {
    "duration": 0,
    "start_time": "2023-02-05T08:09:07.115Z"
   },
   {
    "duration": 0,
    "start_time": "2023-02-05T08:09:07.116Z"
   },
   {
    "duration": 0,
    "start_time": "2023-02-05T08:09:07.117Z"
   },
   {
    "duration": 0,
    "start_time": "2023-02-05T08:09:07.119Z"
   },
   {
    "duration": 0,
    "start_time": "2023-02-05T08:09:07.121Z"
   },
   {
    "duration": 0,
    "start_time": "2023-02-05T08:09:07.122Z"
   },
   {
    "duration": 0,
    "start_time": "2023-02-05T08:09:07.123Z"
   },
   {
    "duration": 0,
    "start_time": "2023-02-05T08:09:07.125Z"
   },
   {
    "duration": 0,
    "start_time": "2023-02-05T08:09:07.126Z"
   },
   {
    "duration": 0,
    "start_time": "2023-02-05T08:09:07.127Z"
   },
   {
    "duration": 0,
    "start_time": "2023-02-05T08:09:07.129Z"
   },
   {
    "duration": 0,
    "start_time": "2023-02-05T08:09:07.130Z"
   },
   {
    "duration": 0,
    "start_time": "2023-02-05T08:09:07.131Z"
   },
   {
    "duration": 0,
    "start_time": "2023-02-05T08:09:07.132Z"
   },
   {
    "duration": 0,
    "start_time": "2023-02-05T08:09:07.134Z"
   },
   {
    "duration": 0,
    "start_time": "2023-02-05T08:09:07.135Z"
   },
   {
    "duration": 0,
    "start_time": "2023-02-05T08:09:07.136Z"
   },
   {
    "duration": 0,
    "start_time": "2023-02-05T08:09:07.137Z"
   },
   {
    "duration": 0,
    "start_time": "2023-02-05T08:09:07.138Z"
   },
   {
    "duration": 0,
    "start_time": "2023-02-05T08:09:07.139Z"
   },
   {
    "duration": 0,
    "start_time": "2023-02-05T08:09:07.140Z"
   },
   {
    "duration": 0,
    "start_time": "2023-02-05T08:09:07.142Z"
   },
   {
    "duration": 0,
    "start_time": "2023-02-05T08:09:07.143Z"
   },
   {
    "duration": 0,
    "start_time": "2023-02-05T08:09:07.144Z"
   },
   {
    "duration": 0,
    "start_time": "2023-02-05T08:09:07.145Z"
   },
   {
    "duration": 0,
    "start_time": "2023-02-05T08:09:07.209Z"
   },
   {
    "duration": 1128,
    "start_time": "2023-02-05T08:13:42.426Z"
   },
   {
    "duration": 2,
    "start_time": "2023-02-05T08:13:43.557Z"
   },
   {
    "duration": 55,
    "start_time": "2023-02-05T08:13:43.561Z"
   },
   {
    "duration": 13,
    "start_time": "2023-02-05T08:13:43.618Z"
   },
   {
    "duration": 4,
    "start_time": "2023-02-05T08:13:43.632Z"
   },
   {
    "duration": 6,
    "start_time": "2023-02-05T08:13:43.637Z"
   },
   {
    "duration": 6,
    "start_time": "2023-02-05T08:13:43.645Z"
   },
   {
    "duration": 9,
    "start_time": "2023-02-05T08:13:43.652Z"
   },
   {
    "duration": 48,
    "start_time": "2023-02-05T08:13:43.662Z"
   },
   {
    "duration": 4,
    "start_time": "2023-02-05T08:13:43.713Z"
   },
   {
    "duration": 7,
    "start_time": "2023-02-05T08:13:43.719Z"
   },
   {
    "duration": 17,
    "start_time": "2023-02-05T08:13:43.727Z"
   },
   {
    "duration": 4,
    "start_time": "2023-02-05T08:13:43.745Z"
   },
   {
    "duration": 5,
    "start_time": "2023-02-05T08:13:43.751Z"
   },
   {
    "duration": 7,
    "start_time": "2023-02-05T08:13:43.758Z"
   },
   {
    "duration": 6,
    "start_time": "2023-02-05T08:13:43.767Z"
   },
   {
    "duration": 45,
    "start_time": "2023-02-05T08:13:43.775Z"
   },
   {
    "duration": 4,
    "start_time": "2023-02-05T08:13:43.822Z"
   },
   {
    "duration": 22,
    "start_time": "2023-02-05T08:13:43.827Z"
   },
   {
    "duration": 11,
    "start_time": "2023-02-05T08:13:43.851Z"
   },
   {
    "duration": 4,
    "start_time": "2023-02-05T08:13:43.863Z"
   },
   {
    "duration": 18,
    "start_time": "2023-02-05T08:13:43.869Z"
   },
   {
    "duration": 5,
    "start_time": "2023-02-05T08:13:43.889Z"
   },
   {
    "duration": 3,
    "start_time": "2023-02-05T08:13:43.910Z"
   },
   {
    "duration": 11,
    "start_time": "2023-02-05T08:13:43.914Z"
   },
   {
    "duration": 25,
    "start_time": "2023-02-05T08:13:43.926Z"
   },
   {
    "duration": 10,
    "start_time": "2023-02-05T08:13:43.953Z"
   },
   {
    "duration": 3,
    "start_time": "2023-02-05T08:13:43.968Z"
   },
   {
    "duration": 364,
    "start_time": "2023-02-05T08:13:43.973Z"
   },
   {
    "duration": 4,
    "start_time": "2023-02-05T08:13:44.339Z"
   },
   {
    "duration": 10,
    "start_time": "2023-02-05T08:13:44.344Z"
   },
   {
    "duration": 43161,
    "start_time": "2023-02-05T08:13:44.355Z"
   },
   {
    "duration": 5,
    "start_time": "2023-02-05T08:14:27.517Z"
   },
   {
    "duration": 30,
    "start_time": "2023-02-05T08:14:27.524Z"
   },
   {
    "duration": 15361,
    "start_time": "2023-02-05T08:14:27.555Z"
   },
   {
    "duration": 95,
    "start_time": "2023-02-05T08:14:42.918Z"
   },
   {
    "duration": 105,
    "start_time": "2023-02-05T08:14:43.015Z"
   },
   {
    "duration": 292,
    "start_time": "2023-02-05T08:14:43.122Z"
   },
   {
    "duration": 95,
    "start_time": "2023-02-05T08:14:43.416Z"
   },
   {
    "duration": 206,
    "start_time": "2023-02-05T08:14:43.513Z"
   },
   {
    "duration": 8,
    "start_time": "2023-02-05T08:14:43.720Z"
   },
   {
    "duration": 189,
    "start_time": "2023-02-05T08:14:43.729Z"
   },
   {
    "duration": 4,
    "start_time": "2023-02-05T08:14:43.919Z"
   },
   {
    "duration": 12,
    "start_time": "2023-02-05T08:14:43.924Z"
   },
   {
    "duration": 20,
    "start_time": "2023-02-05T08:14:43.937Z"
   },
   {
    "duration": 153,
    "start_time": "2023-02-05T08:14:43.958Z"
   },
   {
    "duration": 97,
    "start_time": "2023-02-05T08:14:44.113Z"
   },
   {
    "duration": 6,
    "start_time": "2023-02-05T08:14:44.212Z"
   },
   {
    "duration": 102,
    "start_time": "2023-02-05T08:14:44.219Z"
   },
   {
    "duration": 90,
    "start_time": "2023-02-05T08:14:44.326Z"
   },
   {
    "duration": 100,
    "start_time": "2023-02-05T08:14:44.422Z"
   },
   {
    "duration": 5,
    "start_time": "2023-02-05T08:14:44.524Z"
   },
   {
    "duration": 80,
    "start_time": "2023-02-05T08:14:44.531Z"
   },
   {
    "duration": 8,
    "start_time": "2023-02-05T08:14:44.613Z"
   },
   {
    "duration": 12,
    "start_time": "2023-02-05T08:14:44.711Z"
   },
   {
    "duration": 11,
    "start_time": "2023-02-05T08:14:44.810Z"
   },
   {
    "duration": 616,
    "start_time": "2023-02-05T08:14:44.823Z"
   },
   {
    "duration": 3,
    "start_time": "2023-02-05T08:14:45.440Z"
   },
   {
    "duration": 11,
    "start_time": "2023-02-05T08:14:45.445Z"
   },
   {
    "duration": 59170,
    "start_time": "2023-02-05T08:14:45.458Z"
   },
   {
    "duration": 6,
    "start_time": "2023-02-05T08:15:44.630Z"
   },
   {
    "duration": 47,
    "start_time": "2023-02-05T08:15:44.638Z"
   },
   {
    "duration": 4831,
    "start_time": "2023-02-05T08:15:44.687Z"
   },
   {
    "duration": 8,
    "start_time": "2023-02-05T08:15:49.610Z"
   },
   {
    "duration": 99,
    "start_time": "2023-02-05T08:15:49.621Z"
   },
   {
    "duration": 211,
    "start_time": "2023-02-05T08:15:49.722Z"
   },
   {
    "duration": 6,
    "start_time": "2023-02-05T08:15:49.935Z"
   },
   {
    "duration": 8,
    "start_time": "2023-02-05T08:15:49.943Z"
   },
   {
    "duration": 107,
    "start_time": "2023-02-05T08:15:50.011Z"
   },
   {
    "duration": 6,
    "start_time": "2023-02-05T08:15:50.119Z"
   },
   {
    "duration": 36,
    "start_time": "2023-02-05T08:16:13.822Z"
   },
   {
    "duration": 1158,
    "start_time": "2023-02-05T08:17:06.531Z"
   },
   {
    "duration": 3,
    "start_time": "2023-02-05T08:17:07.691Z"
   },
   {
    "duration": 55,
    "start_time": "2023-02-05T08:17:07.695Z"
   },
   {
    "duration": 12,
    "start_time": "2023-02-05T08:17:07.751Z"
   },
   {
    "duration": 4,
    "start_time": "2023-02-05T08:17:07.765Z"
   },
   {
    "duration": 4,
    "start_time": "2023-02-05T08:17:07.771Z"
   },
   {
    "duration": 5,
    "start_time": "2023-02-05T08:17:07.777Z"
   },
   {
    "duration": 9,
    "start_time": "2023-02-05T08:17:07.783Z"
   },
   {
    "duration": 15,
    "start_time": "2023-02-05T08:17:07.810Z"
   },
   {
    "duration": 5,
    "start_time": "2023-02-05T08:17:07.826Z"
   },
   {
    "duration": 6,
    "start_time": "2023-02-05T08:17:07.832Z"
   },
   {
    "duration": 15,
    "start_time": "2023-02-05T08:17:07.839Z"
   },
   {
    "duration": 4,
    "start_time": "2023-02-05T08:17:07.855Z"
   },
   {
    "duration": 8,
    "start_time": "2023-02-05T08:17:07.862Z"
   },
   {
    "duration": 8,
    "start_time": "2023-02-05T08:17:07.871Z"
   },
   {
    "duration": 32,
    "start_time": "2023-02-05T08:17:07.880Z"
   },
   {
    "duration": 22,
    "start_time": "2023-02-05T08:17:07.914Z"
   },
   {
    "duration": 4,
    "start_time": "2023-02-05T08:17:07.937Z"
   },
   {
    "duration": 4,
    "start_time": "2023-02-05T08:17:07.943Z"
   },
   {
    "duration": 7,
    "start_time": "2023-02-05T08:17:07.949Z"
   },
   {
    "duration": 4,
    "start_time": "2023-02-05T08:17:07.957Z"
   },
   {
    "duration": 16,
    "start_time": "2023-02-05T08:17:07.963Z"
   },
   {
    "duration": 3,
    "start_time": "2023-02-05T08:17:08.010Z"
   },
   {
    "duration": 6,
    "start_time": "2023-02-05T08:17:08.015Z"
   },
   {
    "duration": 17,
    "start_time": "2023-02-05T08:17:08.022Z"
   },
   {
    "duration": 20,
    "start_time": "2023-02-05T08:17:08.041Z"
   },
   {
    "duration": 11,
    "start_time": "2023-02-05T08:17:08.063Z"
   },
   {
    "duration": 8,
    "start_time": "2023-02-05T08:17:08.075Z"
   },
   {
    "duration": 371,
    "start_time": "2023-02-05T08:17:08.084Z"
   },
   {
    "duration": 3,
    "start_time": "2023-02-05T08:17:08.457Z"
   },
   {
    "duration": 7,
    "start_time": "2023-02-05T08:17:08.462Z"
   },
   {
    "duration": 42471,
    "start_time": "2023-02-05T08:17:08.470Z"
   },
   {
    "duration": 5,
    "start_time": "2023-02-05T08:17:50.942Z"
   },
   {
    "duration": 21,
    "start_time": "2023-02-05T08:17:50.948Z"
   },
   {
    "duration": 6449,
    "start_time": "2023-02-05T08:17:50.971Z"
   },
   {
    "duration": 7,
    "start_time": "2023-02-05T08:17:57.424Z"
   },
   {
    "duration": 186,
    "start_time": "2023-02-05T08:17:57.433Z"
   },
   {
    "duration": 205,
    "start_time": "2023-02-05T08:17:57.624Z"
   },
   {
    "duration": 192,
    "start_time": "2023-02-05T08:17:57.832Z"
   },
   {
    "duration": 89,
    "start_time": "2023-02-05T08:17:58.026Z"
   },
   {
    "duration": 90,
    "start_time": "2023-02-05T08:17:58.128Z"
   },
   {
    "duration": 94,
    "start_time": "2023-02-05T08:17:58.223Z"
   },
   {
    "duration": 85,
    "start_time": "2023-02-05T08:17:58.325Z"
   },
   {
    "duration": 22,
    "start_time": "2023-02-05T08:17:58.413Z"
   },
   {
    "duration": 3,
    "start_time": "2023-02-05T08:17:58.437Z"
   },
   {
    "duration": 170,
    "start_time": "2023-02-05T08:17:58.442Z"
   },
   {
    "duration": 123,
    "start_time": "2023-02-05T08:17:58.613Z"
   },
   {
    "duration": 101,
    "start_time": "2023-02-05T08:17:58.738Z"
   },
   {
    "duration": 9,
    "start_time": "2023-02-05T08:17:58.913Z"
   },
   {
    "duration": 13,
    "start_time": "2023-02-05T08:17:58.924Z"
   },
   {
    "duration": 24,
    "start_time": "2023-02-05T08:17:59.011Z"
   },
   {
    "duration": 15,
    "start_time": "2023-02-05T08:17:59.111Z"
   },
   {
    "duration": 84,
    "start_time": "2023-02-05T08:17:59.127Z"
   },
   {
    "duration": 100,
    "start_time": "2023-02-05T08:17:59.213Z"
   },
   {
    "duration": 207,
    "start_time": "2023-02-05T08:17:59.315Z"
   },
   {
    "duration": 11,
    "start_time": "2023-02-05T08:17:59.525Z"
   },
   {
    "duration": 626,
    "start_time": "2023-02-05T08:17:59.537Z"
   },
   {
    "duration": 5,
    "start_time": "2023-02-05T08:18:00.164Z"
   },
   {
    "duration": 25,
    "start_time": "2023-02-05T08:18:00.170Z"
   },
   {
    "duration": 59084,
    "start_time": "2023-02-05T08:18:00.197Z"
   },
   {
    "duration": 6,
    "start_time": "2023-02-05T08:18:59.283Z"
   },
   {
    "duration": 57,
    "start_time": "2023-02-05T08:18:59.290Z"
   },
   {
    "duration": 7671,
    "start_time": "2023-02-05T08:18:59.349Z"
   },
   {
    "duration": 5,
    "start_time": "2023-02-05T08:19:07.111Z"
   },
   {
    "duration": 99,
    "start_time": "2023-02-05T08:19:07.118Z"
   },
   {
    "duration": 204,
    "start_time": "2023-02-05T08:19:07.220Z"
   },
   {
    "duration": 6,
    "start_time": "2023-02-05T08:19:07.426Z"
   },
   {
    "duration": 39,
    "start_time": "2023-02-05T08:19:07.434Z"
   },
   {
    "duration": 6,
    "start_time": "2023-02-05T08:19:07.475Z"
   },
   {
    "duration": 6,
    "start_time": "2023-02-05T08:19:07.511Z"
   },
   {
    "duration": 2082,
    "start_time": "2023-02-05T08:22:48.134Z"
   },
   {
    "duration": 1689,
    "start_time": "2023-02-05T08:23:07.876Z"
   },
   {
    "duration": 1064,
    "start_time": "2023-02-05T08:23:23.929Z"
   },
   {
    "duration": 2,
    "start_time": "2023-02-05T08:23:24.995Z"
   },
   {
    "duration": 55,
    "start_time": "2023-02-05T08:23:24.999Z"
   },
   {
    "duration": 13,
    "start_time": "2023-02-05T08:23:25.055Z"
   },
   {
    "duration": 1954,
    "start_time": "2023-02-05T08:23:25.070Z"
   },
   {
    "duration": 4,
    "start_time": "2023-02-05T08:23:27.026Z"
   },
   {
    "duration": 13,
    "start_time": "2023-02-05T08:23:27.031Z"
   },
   {
    "duration": 6,
    "start_time": "2023-02-05T08:23:27.046Z"
   },
   {
    "duration": 10,
    "start_time": "2023-02-05T08:23:27.054Z"
   },
   {
    "duration": 15,
    "start_time": "2023-02-05T08:23:27.066Z"
   },
   {
    "duration": 4,
    "start_time": "2023-02-05T08:23:27.082Z"
   },
   {
    "duration": 8,
    "start_time": "2023-02-05T08:23:27.087Z"
   },
   {
    "duration": 21,
    "start_time": "2023-02-05T08:23:27.097Z"
   },
   {
    "duration": 4,
    "start_time": "2023-02-05T08:23:27.121Z"
   },
   {
    "duration": 16,
    "start_time": "2023-02-05T08:23:27.126Z"
   },
   {
    "duration": 4,
    "start_time": "2023-02-05T08:23:27.144Z"
   },
   {
    "duration": 6,
    "start_time": "2023-02-05T08:23:27.150Z"
   },
   {
    "duration": 21,
    "start_time": "2023-02-05T08:23:27.157Z"
   },
   {
    "duration": 4,
    "start_time": "2023-02-05T08:23:27.180Z"
   },
   {
    "duration": 5,
    "start_time": "2023-02-05T08:23:27.186Z"
   },
   {
    "duration": 10,
    "start_time": "2023-02-05T08:23:27.210Z"
   },
   {
    "duration": 4,
    "start_time": "2023-02-05T08:23:27.221Z"
   },
   {
    "duration": 11,
    "start_time": "2023-02-05T08:23:27.226Z"
   },
   {
    "duration": 6,
    "start_time": "2023-02-05T08:23:27.238Z"
   },
   {
    "duration": 17,
    "start_time": "2023-02-05T08:23:27.246Z"
   },
   {
    "duration": 12,
    "start_time": "2023-02-05T08:23:27.265Z"
   },
   {
    "duration": 49,
    "start_time": "2023-02-05T08:23:27.279Z"
   },
   {
    "duration": 11,
    "start_time": "2023-02-05T08:23:27.330Z"
   },
   {
    "duration": 4,
    "start_time": "2023-02-05T08:23:27.343Z"
   },
   {
    "duration": 362,
    "start_time": "2023-02-05T08:23:27.349Z"
   },
   {
    "duration": 5,
    "start_time": "2023-02-05T08:23:27.712Z"
   },
   {
    "duration": 11,
    "start_time": "2023-02-05T08:23:27.718Z"
   },
   {
    "duration": 42747,
    "start_time": "2023-02-05T08:23:27.731Z"
   },
   {
    "duration": 6,
    "start_time": "2023-02-05T08:24:10.479Z"
   },
   {
    "duration": 32,
    "start_time": "2023-02-05T08:24:10.487Z"
   },
   {
    "duration": 3796,
    "start_time": "2023-02-05T08:24:10.521Z"
   },
   {
    "duration": 93,
    "start_time": "2023-02-05T08:24:14.318Z"
   },
   {
    "duration": 101,
    "start_time": "2023-02-05T08:24:14.413Z"
   },
   {
    "duration": 296,
    "start_time": "2023-02-05T08:24:14.517Z"
   },
   {
    "duration": 100,
    "start_time": "2023-02-05T08:24:14.817Z"
   },
   {
    "duration": 189,
    "start_time": "2023-02-05T08:24:14.927Z"
   },
   {
    "duration": 13,
    "start_time": "2023-02-05T08:24:15.118Z"
   },
   {
    "duration": 107,
    "start_time": "2023-02-05T08:24:15.209Z"
   },
   {
    "duration": 28,
    "start_time": "2023-02-05T08:24:15.317Z"
   },
   {
    "duration": 32,
    "start_time": "2023-02-05T08:24:15.347Z"
   },
   {
    "duration": 11,
    "start_time": "2023-02-05T08:24:15.380Z"
   },
   {
    "duration": 218,
    "start_time": "2023-02-05T08:24:15.393Z"
   },
   {
    "duration": 105,
    "start_time": "2023-02-05T08:24:15.613Z"
   },
   {
    "duration": 91,
    "start_time": "2023-02-05T08:24:15.720Z"
   },
   {
    "duration": 110,
    "start_time": "2023-02-05T08:24:15.813Z"
   },
   {
    "duration": 187,
    "start_time": "2023-02-05T08:24:15.928Z"
   },
   {
    "duration": 11,
    "start_time": "2023-02-05T08:24:16.117Z"
   },
   {
    "duration": 3,
    "start_time": "2023-02-05T08:24:16.129Z"
   },
   {
    "duration": 186,
    "start_time": "2023-02-05T08:24:16.134Z"
   },
   {
    "duration": 97,
    "start_time": "2023-02-05T08:24:16.322Z"
   },
   {
    "duration": 101,
    "start_time": "2023-02-05T08:24:16.512Z"
   },
   {
    "duration": 14,
    "start_time": "2023-02-05T08:24:16.617Z"
   },
   {
    "duration": 631,
    "start_time": "2023-02-05T08:24:16.633Z"
   },
   {
    "duration": 4,
    "start_time": "2023-02-05T08:24:17.266Z"
   },
   {
    "duration": 14,
    "start_time": "2023-02-05T08:24:17.272Z"
   },
   {
    "duration": 59133,
    "start_time": "2023-02-05T08:24:17.288Z"
   },
   {
    "duration": 4,
    "start_time": "2023-02-05T08:25:16.423Z"
   },
   {
    "duration": 41,
    "start_time": "2023-02-05T08:25:16.428Z"
   },
   {
    "duration": 4342,
    "start_time": "2023-02-05T08:25:16.471Z"
   },
   {
    "duration": 5,
    "start_time": "2023-02-05T08:25:20.815Z"
   },
   {
    "duration": 15,
    "start_time": "2023-02-05T08:25:20.910Z"
   },
   {
    "duration": 210,
    "start_time": "2023-02-05T08:25:20.926Z"
   },
   {
    "duration": 6,
    "start_time": "2023-02-05T08:25:21.138Z"
   },
   {
    "duration": 39,
    "start_time": "2023-02-05T08:25:21.146Z"
   },
   {
    "duration": 24,
    "start_time": "2023-02-05T08:25:21.186Z"
   },
   {
    "duration": 5,
    "start_time": "2023-02-05T08:25:21.212Z"
   },
   {
    "duration": 1850,
    "start_time": "2023-02-05T08:34:13.345Z"
   },
   {
    "duration": 1900,
    "start_time": "2023-02-05T08:34:30.267Z"
   },
   {
    "duration": 6307,
    "start_time": "2023-02-05T08:34:46.171Z"
   },
   {
    "duration": 2404,
    "start_time": "2023-02-05T08:35:08.919Z"
   },
   {
    "duration": 2008,
    "start_time": "2023-02-05T08:35:22.154Z"
   },
   {
    "duration": 1887,
    "start_time": "2023-02-05T08:36:01.954Z"
   },
   {
    "duration": 2124,
    "start_time": "2023-02-05T08:36:12.642Z"
   },
   {
    "duration": 1164,
    "start_time": "2023-02-05T08:38:44.962Z"
   },
   {
    "duration": 2,
    "start_time": "2023-02-05T08:38:46.128Z"
   },
   {
    "duration": 82,
    "start_time": "2023-02-05T08:38:46.132Z"
   },
   {
    "duration": 13,
    "start_time": "2023-02-05T08:38:46.215Z"
   },
   {
    "duration": 2307,
    "start_time": "2023-02-05T08:38:46.230Z"
   },
   {
    "duration": 6,
    "start_time": "2023-02-05T08:38:48.538Z"
   },
   {
    "duration": 12,
    "start_time": "2023-02-05T08:38:48.547Z"
   },
   {
    "duration": 11,
    "start_time": "2023-02-05T08:38:48.561Z"
   },
   {
    "duration": 20,
    "start_time": "2023-02-05T08:38:48.574Z"
   },
   {
    "duration": 23,
    "start_time": "2023-02-05T08:38:48.596Z"
   },
   {
    "duration": 4,
    "start_time": "2023-02-05T08:38:48.621Z"
   },
   {
    "duration": 19,
    "start_time": "2023-02-05T08:38:48.626Z"
   },
   {
    "duration": 31,
    "start_time": "2023-02-05T08:38:48.647Z"
   },
   {
    "duration": 6,
    "start_time": "2023-02-05T08:38:48.682Z"
   },
   {
    "duration": 9,
    "start_time": "2023-02-05T08:38:48.690Z"
   },
   {
    "duration": 5,
    "start_time": "2023-02-05T08:38:48.711Z"
   },
   {
    "duration": 8,
    "start_time": "2023-02-05T08:38:48.718Z"
   },
   {
    "duration": 26,
    "start_time": "2023-02-05T08:38:48.728Z"
   },
   {
    "duration": 9,
    "start_time": "2023-02-05T08:38:48.756Z"
   },
   {
    "duration": 11,
    "start_time": "2023-02-05T08:38:48.767Z"
   },
   {
    "duration": 15,
    "start_time": "2023-02-05T08:38:48.779Z"
   },
   {
    "duration": 17,
    "start_time": "2023-02-05T08:38:48.796Z"
   },
   {
    "duration": 22,
    "start_time": "2023-02-05T08:38:48.815Z"
   },
   {
    "duration": 9,
    "start_time": "2023-02-05T08:38:48.839Z"
   },
   {
    "duration": 9,
    "start_time": "2023-02-05T08:38:48.850Z"
   },
   {
    "duration": 15,
    "start_time": "2023-02-05T08:38:48.861Z"
   },
   {
    "duration": 43,
    "start_time": "2023-02-05T08:38:48.878Z"
   },
   {
    "duration": 12,
    "start_time": "2023-02-05T08:38:48.923Z"
   },
   {
    "duration": 26,
    "start_time": "2023-02-05T08:38:48.937Z"
   },
   {
    "duration": 405,
    "start_time": "2023-02-05T08:38:48.965Z"
   },
   {
    "duration": 4,
    "start_time": "2023-02-05T08:38:49.372Z"
   },
   {
    "duration": 21,
    "start_time": "2023-02-05T08:38:49.378Z"
   },
   {
    "duration": 45095,
    "start_time": "2023-02-05T08:38:49.401Z"
   },
   {
    "duration": 5,
    "start_time": "2023-02-05T08:39:34.498Z"
   },
   {
    "duration": 23,
    "start_time": "2023-02-05T08:39:34.514Z"
   },
   {
    "duration": 2971,
    "start_time": "2023-02-05T08:39:34.539Z"
   },
   {
    "duration": 9,
    "start_time": "2023-02-05T08:39:37.516Z"
   },
   {
    "duration": 11,
    "start_time": "2023-02-05T08:39:37.611Z"
   },
   {
    "duration": 283,
    "start_time": "2023-02-05T08:39:37.628Z"
   },
   {
    "duration": 97,
    "start_time": "2023-02-05T08:39:37.917Z"
   },
   {
    "duration": 186,
    "start_time": "2023-02-05T08:39:38.024Z"
   },
   {
    "duration": 10,
    "start_time": "2023-02-05T08:39:38.212Z"
   },
   {
    "duration": 184,
    "start_time": "2023-02-05T08:39:38.227Z"
   },
   {
    "duration": 4,
    "start_time": "2023-02-05T08:39:38.413Z"
   },
   {
    "duration": 11,
    "start_time": "2023-02-05T08:39:38.418Z"
   },
   {
    "duration": 4,
    "start_time": "2023-02-05T08:39:38.430Z"
   },
   {
    "duration": 183,
    "start_time": "2023-02-05T08:39:38.436Z"
   },
   {
    "duration": 8,
    "start_time": "2023-02-05T08:39:38.710Z"
   },
   {
    "duration": 195,
    "start_time": "2023-02-05T08:39:38.720Z"
   },
   {
    "duration": 10,
    "start_time": "2023-02-05T08:39:38.918Z"
   },
   {
    "duration": 82,
    "start_time": "2023-02-05T08:39:38.931Z"
   },
   {
    "duration": 99,
    "start_time": "2023-02-05T08:39:39.016Z"
   },
   {
    "duration": 6,
    "start_time": "2023-02-05T08:39:39.117Z"
   },
   {
    "duration": 19,
    "start_time": "2023-02-05T08:39:39.125Z"
   },
   {
    "duration": 14,
    "start_time": "2023-02-05T08:39:39.210Z"
   },
   {
    "duration": 105,
    "start_time": "2023-02-05T08:39:39.311Z"
   },
   {
    "duration": 14,
    "start_time": "2023-02-05T08:39:39.417Z"
   },
   {
    "duration": 610,
    "start_time": "2023-02-05T08:39:39.433Z"
   },
   {
    "duration": 5,
    "start_time": "2023-02-05T08:39:40.045Z"
   },
   {
    "duration": 27,
    "start_time": "2023-02-05T08:39:40.051Z"
   },
   {
    "duration": 61503,
    "start_time": "2023-02-05T08:39:40.079Z"
   },
   {
    "duration": 4,
    "start_time": "2023-02-05T08:40:41.584Z"
   },
   {
    "duration": 50,
    "start_time": "2023-02-05T08:40:41.589Z"
   },
   {
    "duration": 10475,
    "start_time": "2023-02-05T08:40:41.640Z"
   },
   {
    "duration": 90,
    "start_time": "2023-02-05T08:40:52.120Z"
   },
   {
    "duration": 132,
    "start_time": "2023-02-05T08:40:52.217Z"
   },
   {
    "duration": 200,
    "start_time": "2023-02-05T08:40:52.354Z"
   },
   {
    "duration": 6,
    "start_time": "2023-02-05T08:40:52.556Z"
   },
   {
    "duration": 45,
    "start_time": "2023-02-05T08:40:52.565Z"
   },
   {
    "duration": 5,
    "start_time": "2023-02-05T08:40:52.612Z"
   },
   {
    "duration": 33,
    "start_time": "2023-02-05T08:40:52.618Z"
   },
   {
    "duration": 1203,
    "start_time": "2023-02-05T09:04:54.583Z"
   },
   {
    "duration": 3,
    "start_time": "2023-02-05T09:04:55.788Z"
   },
   {
    "duration": 93,
    "start_time": "2023-02-05T09:04:55.793Z"
   },
   {
    "duration": 18,
    "start_time": "2023-02-05T09:04:55.888Z"
   },
   {
    "duration": 2556,
    "start_time": "2023-02-05T09:04:55.908Z"
   },
   {
    "duration": 6,
    "start_time": "2023-02-05T09:04:58.466Z"
   },
   {
    "duration": 7,
    "start_time": "2023-02-05T09:04:58.474Z"
   },
   {
    "duration": 6,
    "start_time": "2023-02-05T09:04:58.483Z"
   },
   {
    "duration": 12,
    "start_time": "2023-02-05T09:04:58.491Z"
   },
   {
    "duration": 23,
    "start_time": "2023-02-05T09:04:58.506Z"
   },
   {
    "duration": 6,
    "start_time": "2023-02-05T09:04:58.530Z"
   },
   {
    "duration": 9,
    "start_time": "2023-02-05T09:04:58.538Z"
   },
   {
    "duration": 17,
    "start_time": "2023-02-05T09:04:58.549Z"
   },
   {
    "duration": 5,
    "start_time": "2023-02-05T09:04:58.568Z"
   },
   {
    "duration": 6,
    "start_time": "2023-02-05T09:04:58.575Z"
   },
   {
    "duration": 37,
    "start_time": "2023-02-05T09:04:58.582Z"
   },
   {
    "duration": 15,
    "start_time": "2023-02-05T09:04:58.620Z"
   },
   {
    "duration": 55,
    "start_time": "2023-02-05T09:04:58.636Z"
   },
   {
    "duration": 6,
    "start_time": "2023-02-05T09:04:58.693Z"
   },
   {
    "duration": 6,
    "start_time": "2023-02-05T09:04:58.700Z"
   },
   {
    "duration": 30,
    "start_time": "2023-02-05T09:04:58.708Z"
   },
   {
    "duration": 6,
    "start_time": "2023-02-05T09:04:58.740Z"
   },
   {
    "duration": 17,
    "start_time": "2023-02-05T09:04:58.749Z"
   },
   {
    "duration": 22,
    "start_time": "2023-02-05T09:04:58.768Z"
   },
   {
    "duration": 8,
    "start_time": "2023-02-05T09:04:58.791Z"
   },
   {
    "duration": 30,
    "start_time": "2023-02-05T09:04:58.801Z"
   },
   {
    "duration": 22,
    "start_time": "2023-02-05T09:04:58.833Z"
   },
   {
    "duration": 11,
    "start_time": "2023-02-05T09:04:58.859Z"
   },
   {
    "duration": 5,
    "start_time": "2023-02-05T09:04:58.872Z"
   },
   {
    "duration": 377,
    "start_time": "2023-02-05T09:04:58.879Z"
   },
   {
    "duration": 5,
    "start_time": "2023-02-05T09:04:59.258Z"
   },
   {
    "duration": 12,
    "start_time": "2023-02-05T09:04:59.264Z"
   },
   {
    "duration": 46300,
    "start_time": "2023-02-05T09:04:59.278Z"
   },
   {
    "duration": 5,
    "start_time": "2023-02-05T09:05:45.580Z"
   },
   {
    "duration": 36,
    "start_time": "2023-02-05T09:05:45.587Z"
   },
   {
    "duration": 8012,
    "start_time": "2023-02-05T09:05:45.628Z"
   },
   {
    "duration": 79,
    "start_time": "2023-02-05T09:05:53.642Z"
   },
   {
    "duration": 112,
    "start_time": "2023-02-05T09:05:53.726Z"
   },
   {
    "duration": 387,
    "start_time": "2023-02-05T09:05:53.840Z"
   },
   {
    "duration": 82,
    "start_time": "2023-02-05T09:05:54.237Z"
   },
   {
    "duration": 119,
    "start_time": "2023-02-05T09:05:54.324Z"
   },
   {
    "duration": 19,
    "start_time": "2023-02-05T09:05:54.512Z"
   },
   {
    "duration": 203,
    "start_time": "2023-02-05T09:05:54.533Z"
   },
   {
    "duration": 13,
    "start_time": "2023-02-05T09:05:54.737Z"
   },
   {
    "duration": 10,
    "start_time": "2023-02-05T09:05:54.752Z"
   },
   {
    "duration": 3,
    "start_time": "2023-02-05T09:05:54.764Z"
   },
   {
    "duration": 372,
    "start_time": "2023-02-05T09:05:54.769Z"
   },
   {
    "duration": 76,
    "start_time": "2023-02-05T09:05:55.143Z"
   },
   {
    "duration": 119,
    "start_time": "2023-02-05T09:05:55.221Z"
   },
   {
    "duration": 98,
    "start_time": "2023-02-05T09:05:55.342Z"
   },
   {
    "duration": 105,
    "start_time": "2023-02-05T09:05:55.511Z"
   },
   {
    "duration": 24,
    "start_time": "2023-02-05T09:05:55.624Z"
   },
   {
    "duration": 4,
    "start_time": "2023-02-05T09:05:55.650Z"
   },
   {
    "duration": 178,
    "start_time": "2023-02-05T09:05:55.656Z"
   },
   {
    "duration": 84,
    "start_time": "2023-02-05T09:05:55.837Z"
   },
   {
    "duration": 207,
    "start_time": "2023-02-05T09:05:55.928Z"
   },
   {
    "duration": 10,
    "start_time": "2023-02-05T09:05:56.136Z"
   },
   {
    "duration": 706,
    "start_time": "2023-02-05T09:05:56.147Z"
   },
   {
    "duration": 5,
    "start_time": "2023-02-05T09:05:56.855Z"
   },
   {
    "duration": 13,
    "start_time": "2023-02-05T09:05:56.861Z"
   },
   {
    "duration": 61278,
    "start_time": "2023-02-05T09:05:56.876Z"
   },
   {
    "duration": 5,
    "start_time": "2023-02-05T09:06:58.155Z"
   },
   {
    "duration": 58,
    "start_time": "2023-02-05T09:06:58.161Z"
   },
   {
    "duration": 10698,
    "start_time": "2023-02-05T09:06:58.225Z"
   },
   {
    "duration": 9,
    "start_time": "2023-02-05T09:07:08.925Z"
   },
   {
    "duration": 106,
    "start_time": "2023-02-05T09:07:08.937Z"
   },
   {
    "duration": 196,
    "start_time": "2023-02-05T09:07:09.045Z"
   },
   {
    "duration": 6,
    "start_time": "2023-02-05T09:07:09.242Z"
   },
   {
    "duration": 41,
    "start_time": "2023-02-05T09:07:09.249Z"
   },
   {
    "duration": 30,
    "start_time": "2023-02-05T09:07:09.292Z"
   },
   {
    "duration": 15,
    "start_time": "2023-02-05T09:07:09.324Z"
   },
   {
    "duration": 1078,
    "start_time": "2023-02-05T09:09:33.145Z"
   },
   {
    "duration": 2,
    "start_time": "2023-02-05T09:09:34.226Z"
   },
   {
    "duration": 58,
    "start_time": "2023-02-05T09:09:34.229Z"
   },
   {
    "duration": 11,
    "start_time": "2023-02-05T09:09:34.288Z"
   },
   {
    "duration": 2159,
    "start_time": "2023-02-05T09:09:34.301Z"
   },
   {
    "duration": 4,
    "start_time": "2023-02-05T09:09:36.462Z"
   },
   {
    "duration": 9,
    "start_time": "2023-02-05T09:09:36.467Z"
   },
   {
    "duration": 7,
    "start_time": "2023-02-05T09:09:36.477Z"
   },
   {
    "duration": 8,
    "start_time": "2023-02-05T09:09:36.486Z"
   },
   {
    "duration": 23,
    "start_time": "2023-02-05T09:09:36.495Z"
   },
   {
    "duration": 9,
    "start_time": "2023-02-05T09:09:36.527Z"
   },
   {
    "duration": 5,
    "start_time": "2023-02-05T09:09:36.539Z"
   },
   {
    "duration": 12,
    "start_time": "2023-02-05T09:09:36.546Z"
   },
   {
    "duration": 3,
    "start_time": "2023-02-05T09:09:36.561Z"
   },
   {
    "duration": 6,
    "start_time": "2023-02-05T09:09:36.566Z"
   },
   {
    "duration": 4,
    "start_time": "2023-02-05T09:09:36.574Z"
   },
   {
    "duration": 6,
    "start_time": "2023-02-05T09:09:36.580Z"
   },
   {
    "duration": 41,
    "start_time": "2023-02-05T09:09:36.588Z"
   },
   {
    "duration": 4,
    "start_time": "2023-02-05T09:09:36.631Z"
   },
   {
    "duration": 6,
    "start_time": "2023-02-05T09:09:36.636Z"
   },
   {
    "duration": 10,
    "start_time": "2023-02-05T09:09:36.644Z"
   },
   {
    "duration": 4,
    "start_time": "2023-02-05T09:09:36.656Z"
   },
   {
    "duration": 13,
    "start_time": "2023-02-05T09:09:36.662Z"
   },
   {
    "duration": 39,
    "start_time": "2023-02-05T09:09:36.676Z"
   },
   {
    "duration": 20,
    "start_time": "2023-02-05T09:09:36.716Z"
   },
   {
    "duration": 11,
    "start_time": "2023-02-05T09:09:36.738Z"
   },
   {
    "duration": 25,
    "start_time": "2023-02-05T09:09:36.750Z"
   },
   {
    "duration": 12,
    "start_time": "2023-02-05T09:09:36.776Z"
   },
   {
    "duration": 5,
    "start_time": "2023-02-05T09:09:36.790Z"
   },
   {
    "duration": 390,
    "start_time": "2023-02-05T09:09:36.815Z"
   },
   {
    "duration": 3,
    "start_time": "2023-02-05T09:09:37.209Z"
   },
   {
    "duration": 16,
    "start_time": "2023-02-05T09:09:37.213Z"
   },
   {
    "duration": 44319,
    "start_time": "2023-02-05T09:09:37.230Z"
   },
   {
    "duration": 6,
    "start_time": "2023-02-05T09:10:21.550Z"
   },
   {
    "duration": 23,
    "start_time": "2023-02-05T09:10:21.557Z"
   },
   {
    "duration": 2042,
    "start_time": "2023-02-05T09:10:21.581Z"
   },
   {
    "duration": 83,
    "start_time": "2023-02-05T09:10:23.629Z"
   },
   {
    "duration": 104,
    "start_time": "2023-02-05T09:10:23.717Z"
   },
   {
    "duration": 110,
    "start_time": "2023-02-05T09:10:23.823Z"
   },
   {
    "duration": 6,
    "start_time": "2023-02-05T09:10:23.934Z"
   },
   {
    "duration": 180,
    "start_time": "2023-02-05T09:10:23.946Z"
   },
   {
    "duration": 10,
    "start_time": "2023-02-05T09:10:24.127Z"
   },
   {
    "duration": 182,
    "start_time": "2023-02-05T09:10:24.141Z"
   },
   {
    "duration": 6,
    "start_time": "2023-02-05T09:10:24.325Z"
   },
   {
    "duration": 13,
    "start_time": "2023-02-05T09:10:24.334Z"
   },
   {
    "duration": 3,
    "start_time": "2023-02-05T09:10:24.348Z"
   },
   {
    "duration": 25,
    "start_time": "2023-02-05T09:10:24.353Z"
   },
   {
    "duration": 48,
    "start_time": "2023-02-05T09:10:24.379Z"
   },
   {
    "duration": 80,
    "start_time": "2023-02-05T09:10:24.431Z"
   },
   {
    "duration": 17,
    "start_time": "2023-02-05T09:10:24.521Z"
   },
   {
    "duration": 173,
    "start_time": "2023-02-05T09:10:24.539Z"
   },
   {
    "duration": 26,
    "start_time": "2023-02-05T09:10:24.713Z"
   },
   {
    "duration": 3,
    "start_time": "2023-02-05T09:10:24.740Z"
   },
   {
    "duration": 11,
    "start_time": "2023-02-05T09:10:24.745Z"
   },
   {
    "duration": 5,
    "start_time": "2023-02-05T09:10:24.758Z"
   },
   {
    "duration": 51,
    "start_time": "2023-02-05T09:10:24.765Z"
   },
   {
    "duration": 119,
    "start_time": "2023-02-05T09:10:24.817Z"
   },
   {
    "duration": 627,
    "start_time": "2023-02-05T09:10:24.939Z"
   },
   {
    "duration": 4,
    "start_time": "2023-02-05T09:10:25.568Z"
   },
   {
    "duration": 8,
    "start_time": "2023-02-05T09:10:25.573Z"
   },
   {
    "duration": 60622,
    "start_time": "2023-02-05T09:10:25.583Z"
   },
   {
    "duration": 5,
    "start_time": "2023-02-05T09:11:26.207Z"
   },
   {
    "duration": 54,
    "start_time": "2023-02-05T09:11:26.213Z"
   },
   {
    "duration": 2662,
    "start_time": "2023-02-05T09:11:26.269Z"
   },
   {
    "duration": 81,
    "start_time": "2023-02-05T09:11:28.932Z"
   },
   {
    "duration": 20,
    "start_time": "2023-02-05T09:11:29.016Z"
   },
   {
    "duration": 142,
    "start_time": "2023-02-05T09:11:29.118Z"
   },
   {
    "duration": 6,
    "start_time": "2023-02-05T09:11:29.262Z"
   },
   {
    "duration": 54,
    "start_time": "2023-02-05T09:11:29.269Z"
   },
   {
    "duration": 5,
    "start_time": "2023-02-05T09:11:29.325Z"
   },
   {
    "duration": 9,
    "start_time": "2023-02-05T09:11:29.331Z"
   },
   {
    "duration": 1328,
    "start_time": "2023-02-06T10:05:20.657Z"
   },
   {
    "duration": 3,
    "start_time": "2023-02-06T10:05:21.987Z"
   },
   {
    "duration": 43,
    "start_time": "2023-02-06T10:05:21.992Z"
   },
   {
    "duration": 155,
    "start_time": "2023-02-06T10:05:22.038Z"
   },
   {
    "duration": 20,
    "start_time": "2023-02-06T10:05:22.195Z"
   },
   {
    "duration": 3212,
    "start_time": "2023-02-06T10:05:22.217Z"
   },
   {
    "duration": 9,
    "start_time": "2023-02-06T10:05:25.437Z"
   },
   {
    "duration": 22,
    "start_time": "2023-02-06T10:05:25.447Z"
   },
   {
    "duration": 15,
    "start_time": "2023-02-06T10:05:25.472Z"
   },
   {
    "duration": 60,
    "start_time": "2023-02-06T10:05:25.490Z"
   },
   {
    "duration": 22,
    "start_time": "2023-02-06T10:05:25.551Z"
   },
   {
    "duration": 6,
    "start_time": "2023-02-06T10:05:25.574Z"
   },
   {
    "duration": 14,
    "start_time": "2023-02-06T10:05:25.581Z"
   },
   {
    "duration": 75,
    "start_time": "2023-02-06T10:05:25.596Z"
   },
   {
    "duration": 18,
    "start_time": "2023-02-06T10:05:25.673Z"
   },
   {
    "duration": 67,
    "start_time": "2023-02-06T10:05:25.693Z"
   },
   {
    "duration": 14,
    "start_time": "2023-02-06T10:05:25.763Z"
   },
   {
    "duration": 14,
    "start_time": "2023-02-06T10:05:25.778Z"
   },
   {
    "duration": 46,
    "start_time": "2023-02-06T10:05:25.794Z"
   },
   {
    "duration": 24,
    "start_time": "2023-02-06T10:05:25.842Z"
   },
   {
    "duration": 16,
    "start_time": "2023-02-06T10:05:25.867Z"
   },
   {
    "duration": 73,
    "start_time": "2023-02-06T10:05:25.885Z"
   },
   {
    "duration": 13,
    "start_time": "2023-02-06T10:05:25.961Z"
   },
   {
    "duration": 41,
    "start_time": "2023-02-06T10:05:25.975Z"
   },
   {
    "duration": 49,
    "start_time": "2023-02-06T10:05:26.021Z"
   },
   {
    "duration": 18,
    "start_time": "2023-02-06T10:05:26.072Z"
   },
   {
    "duration": 51,
    "start_time": "2023-02-06T10:05:26.093Z"
   },
   {
    "duration": 40,
    "start_time": "2023-02-06T10:05:26.151Z"
   },
   {
    "duration": 30,
    "start_time": "2023-02-06T10:05:26.193Z"
   },
   {
    "duration": 36,
    "start_time": "2023-02-06T10:05:26.228Z"
   },
   {
    "duration": 347,
    "start_time": "2023-02-06T10:05:26.266Z"
   },
   {
    "duration": 10,
    "start_time": "2023-02-06T10:05:26.616Z"
   },
   {
    "duration": 46121,
    "start_time": "2023-02-06T10:05:26.628Z"
   },
   {
    "duration": 79,
    "start_time": "2023-02-06T10:06:12.751Z"
   },
   {
    "duration": 1921,
    "start_time": "2023-02-06T10:06:12.839Z"
   },
   {
    "duration": 65,
    "start_time": "2023-02-06T10:06:14.762Z"
   },
   {
    "duration": 439,
    "start_time": "2023-02-06T10:06:14.838Z"
   },
   {
    "duration": 9,
    "start_time": "2023-02-06T10:06:15.279Z"
   },
   {
    "duration": 47285,
    "start_time": "2023-02-06T10:06:15.289Z"
   },
   {
    "duration": 51,
    "start_time": "2023-02-06T10:07:02.576Z"
   },
   {
    "duration": 2022,
    "start_time": "2023-02-06T10:07:02.630Z"
   },
   {
    "duration": 15,
    "start_time": "2023-02-06T10:07:04.702Z"
   },
   {
    "duration": 133,
    "start_time": "2023-02-06T10:07:04.721Z"
   },
   {
    "duration": 166,
    "start_time": "2023-02-06T10:07:04.857Z"
   },
   {
    "duration": 86,
    "start_time": "2023-02-06T10:07:05.029Z"
   },
   {
    "duration": 29,
    "start_time": "2023-02-06T10:07:05.128Z"
   },
   {
    "duration": 23,
    "start_time": "2023-02-06T10:07:05.159Z"
   },
   {
    "duration": 5,
    "start_time": "2023-02-06T10:07:05.184Z"
   },
   {
    "duration": 517,
    "start_time": "2023-02-06T10:07:05.190Z"
   },
   {
    "duration": 24,
    "start_time": "2023-02-06T10:07:05.715Z"
   },
   {
    "duration": 63469,
    "start_time": "2023-02-06T10:07:05.741Z"
   },
   {
    "duration": 52,
    "start_time": "2023-02-06T10:08:09.217Z"
   },
   {
    "duration": 2550,
    "start_time": "2023-02-06T10:08:09.271Z"
   },
   {
    "duration": 4,
    "start_time": "2023-02-06T10:08:11.823Z"
   },
   {
    "duration": 120,
    "start_time": "2023-02-06T10:08:11.829Z"
   },
   {
    "duration": 205,
    "start_time": "2023-02-06T10:08:11.951Z"
   },
   {
    "duration": 146,
    "start_time": "2023-02-06T10:08:12.157Z"
   },
   {
    "duration": 57,
    "start_time": "2023-02-06T10:08:12.305Z"
   },
   {
    "duration": 14,
    "start_time": "2023-02-06T10:08:12.364Z"
   },
   {
    "duration": 14,
    "start_time": "2023-02-06T10:08:12.380Z"
   },
   {
    "duration": 19,
    "start_time": "2023-02-06T10:08:12.396Z"
   },
   {
    "duration": 140,
    "start_time": "2023-02-06T10:08:12.422Z"
   },
   {
    "duration": 11,
    "start_time": "2023-02-06T10:08:12.564Z"
   },
   {
    "duration": 258,
    "start_time": "2023-02-06T10:08:12.600Z"
   },
   {
    "duration": 7,
    "start_time": "2023-02-06T10:08:12.860Z"
   },
   {
    "duration": 15,
    "start_time": "2023-02-06T10:08:12.869Z"
   },
   {
    "duration": 23,
    "start_time": "2023-02-06T10:08:12.886Z"
   },
   {
    "duration": 39,
    "start_time": "2023-02-06T10:08:12.913Z"
   },
   {
    "duration": 26,
    "start_time": "2023-02-06T10:08:12.955Z"
   },
   {
    "duration": 13,
    "start_time": "2023-02-06T10:08:12.982Z"
   },
   {
    "duration": 54,
    "start_time": "2023-02-06T10:08:12.996Z"
   },
   {
    "duration": 5,
    "start_time": "2023-02-06T10:08:13.052Z"
   },
   {
    "duration": 47,
    "start_time": "2023-02-06T10:08:13.058Z"
   },
   {
    "duration": 8,
    "start_time": "2023-02-06T10:08:13.106Z"
   },
   {
    "duration": 81,
    "start_time": "2023-02-06T10:08:13.116Z"
   },
   {
    "duration": 21,
    "start_time": "2023-02-06T10:08:13.212Z"
   },
   {
    "duration": 18,
    "start_time": "2023-02-06T10:08:13.239Z"
   },
   {
    "duration": 13,
    "start_time": "2023-02-06T10:13:14.522Z"
   },
   {
    "duration": 1446,
    "start_time": "2023-02-06T10:13:27.526Z"
   },
   {
    "duration": 5,
    "start_time": "2023-02-06T10:13:28.974Z"
   },
   {
    "duration": 10,
    "start_time": "2023-02-06T10:13:28.980Z"
   },
   {
    "duration": 112,
    "start_time": "2023-02-06T10:13:28.992Z"
   },
   {
    "duration": 19,
    "start_time": "2023-02-06T10:13:29.106Z"
   },
   {
    "duration": 2866,
    "start_time": "2023-02-06T10:13:29.127Z"
   },
   {
    "duration": 17,
    "start_time": "2023-02-06T10:13:31.995Z"
   },
   {
    "duration": 48,
    "start_time": "2023-02-06T10:13:32.014Z"
   },
   {
    "duration": 9,
    "start_time": "2023-02-06T10:13:32.063Z"
   },
   {
    "duration": 14,
    "start_time": "2023-02-06T10:13:32.075Z"
   },
   {
    "duration": 29,
    "start_time": "2023-02-06T10:13:32.091Z"
   },
   {
    "duration": 34,
    "start_time": "2023-02-06T10:13:32.126Z"
   },
   {
    "duration": 14,
    "start_time": "2023-02-06T10:13:32.162Z"
   },
   {
    "duration": 8,
    "start_time": "2023-02-06T10:13:32.178Z"
   },
   {
    "duration": 83,
    "start_time": "2023-02-06T10:13:32.187Z"
   },
   {
    "duration": 17,
    "start_time": "2023-02-06T10:13:32.272Z"
   },
   {
    "duration": 63,
    "start_time": "2023-02-06T10:13:32.291Z"
   },
   {
    "duration": 22,
    "start_time": "2023-02-06T10:13:32.356Z"
   },
   {
    "duration": 11,
    "start_time": "2023-02-06T10:13:32.380Z"
   },
   {
    "duration": 71,
    "start_time": "2023-02-06T10:13:32.392Z"
   },
   {
    "duration": 5,
    "start_time": "2023-02-06T10:13:32.465Z"
   },
   {
    "duration": 13,
    "start_time": "2023-02-06T10:13:32.471Z"
   },
   {
    "duration": 37,
    "start_time": "2023-02-06T10:13:32.486Z"
   },
   {
    "duration": 23,
    "start_time": "2023-02-06T10:13:32.529Z"
   },
   {
    "duration": 22,
    "start_time": "2023-02-06T10:13:32.553Z"
   },
   {
    "duration": 7,
    "start_time": "2023-02-06T10:13:32.577Z"
   },
   {
    "duration": 59,
    "start_time": "2023-02-06T10:13:32.586Z"
   },
   {
    "duration": 26,
    "start_time": "2023-02-06T10:13:32.649Z"
   },
   {
    "duration": 36,
    "start_time": "2023-02-06T10:13:32.677Z"
   },
   {
    "duration": 20,
    "start_time": "2023-02-06T10:13:32.717Z"
   },
   {
    "duration": 43,
    "start_time": "2023-02-06T10:13:32.740Z"
   },
   {
    "duration": 397,
    "start_time": "2023-02-06T10:13:32.785Z"
   },
   {
    "duration": 17,
    "start_time": "2023-02-06T10:13:33.184Z"
   },
   {
    "duration": 46616,
    "start_time": "2023-02-06T10:13:33.208Z"
   },
   {
    "duration": 67,
    "start_time": "2023-02-06T10:14:19.827Z"
   },
   {
    "duration": 2565,
    "start_time": "2023-02-06T10:14:19.895Z"
   },
   {
    "duration": 47,
    "start_time": "2023-02-06T10:14:22.503Z"
   },
   {
    "duration": 525,
    "start_time": "2023-02-06T10:14:22.554Z"
   },
   {
    "duration": 26,
    "start_time": "2023-02-06T10:14:23.081Z"
   },
   {
    "duration": 47174,
    "start_time": "2023-02-06T10:14:23.109Z"
   },
   {
    "duration": 56,
    "start_time": "2023-02-06T10:15:10.285Z"
   },
   {
    "duration": 1672,
    "start_time": "2023-02-06T10:15:10.346Z"
   },
   {
    "duration": 5,
    "start_time": "2023-02-06T10:15:12.024Z"
   },
   {
    "duration": 88,
    "start_time": "2023-02-06T10:15:12.035Z"
   },
   {
    "duration": 167,
    "start_time": "2023-02-06T10:15:12.140Z"
   },
   {
    "duration": 135,
    "start_time": "2023-02-06T10:15:12.309Z"
   },
   {
    "duration": 13,
    "start_time": "2023-02-06T10:15:12.446Z"
   },
   {
    "duration": 13,
    "start_time": "2023-02-06T10:15:12.461Z"
   },
   {
    "duration": 14,
    "start_time": "2023-02-06T10:15:12.475Z"
   },
   {
    "duration": 447,
    "start_time": "2023-02-06T10:15:12.491Z"
   },
   {
    "duration": 10,
    "start_time": "2023-02-06T10:15:12.943Z"
   },
   {
    "duration": 64298,
    "start_time": "2023-02-06T10:15:12.954Z"
   },
   {
    "duration": 53,
    "start_time": "2023-02-06T10:16:17.254Z"
   },
   {
    "duration": 2641,
    "start_time": "2023-02-06T10:16:17.309Z"
   },
   {
    "duration": 3,
    "start_time": "2023-02-06T10:16:19.956Z"
   },
   {
    "duration": 154,
    "start_time": "2023-02-06T10:16:20.030Z"
   },
   {
    "duration": 174,
    "start_time": "2023-02-06T10:16:20.187Z"
   },
   {
    "duration": 115,
    "start_time": "2023-02-06T10:16:20.404Z"
   },
   {
    "duration": 50,
    "start_time": "2023-02-06T10:16:20.521Z"
   },
   {
    "duration": 6,
    "start_time": "2023-02-06T10:16:20.573Z"
   },
   {
    "duration": 47,
    "start_time": "2023-02-06T10:16:20.580Z"
   },
   {
    "duration": 25,
    "start_time": "2023-02-06T10:16:20.636Z"
   },
   {
    "duration": 60,
    "start_time": "2023-02-06T10:16:20.663Z"
   },
   {
    "duration": 125,
    "start_time": "2023-02-06T10:16:20.739Z"
   },
   {
    "duration": 178,
    "start_time": "2023-02-06T10:16:20.870Z"
   },
   {
    "duration": 31,
    "start_time": "2023-02-06T10:16:21.050Z"
   },
   {
    "duration": 32,
    "start_time": "2023-02-06T10:16:21.083Z"
   },
   {
    "duration": 81,
    "start_time": "2023-02-06T10:16:21.117Z"
   },
   {
    "duration": 47,
    "start_time": "2023-02-06T10:16:21.214Z"
   },
   {
    "duration": 11,
    "start_time": "2023-02-06T10:16:21.263Z"
   },
   {
    "duration": 11,
    "start_time": "2023-02-06T10:16:21.276Z"
   },
   {
    "duration": 8,
    "start_time": "2023-02-06T10:16:21.289Z"
   },
   {
    "duration": 51,
    "start_time": "2023-02-06T10:16:21.304Z"
   },
   {
    "duration": 58,
    "start_time": "2023-02-06T10:16:21.357Z"
   },
   {
    "duration": 14,
    "start_time": "2023-02-06T10:16:21.421Z"
   },
   {
    "duration": 71,
    "start_time": "2023-02-06T10:16:21.436Z"
   },
   {
    "duration": 8,
    "start_time": "2023-02-06T10:16:21.509Z"
   },
   {
    "duration": 36,
    "start_time": "2023-02-06T10:16:21.521Z"
   },
   {
    "duration": 626,
    "start_time": "2023-02-06T10:21:05.156Z"
   },
   {
    "duration": 10,
    "start_time": "2023-02-06T10:21:06.718Z"
   },
   {
    "duration": 62,
    "start_time": "2023-02-06T10:21:17.553Z"
   },
   {
    "duration": 7,
    "start_time": "2023-02-06T10:21:22.955Z"
   },
   {
    "duration": 7,
    "start_time": "2023-02-06T10:21:28.134Z"
   },
   {
    "duration": 1273,
    "start_time": "2023-02-06T10:26:10.448Z"
   },
   {
    "duration": 6,
    "start_time": "2023-02-06T10:26:11.724Z"
   },
   {
    "duration": 19,
    "start_time": "2023-02-06T10:26:11.736Z"
   },
   {
    "duration": 81,
    "start_time": "2023-02-06T10:26:11.758Z"
   },
   {
    "duration": 16,
    "start_time": "2023-02-06T10:26:11.845Z"
   },
   {
    "duration": 2859,
    "start_time": "2023-02-06T10:26:11.863Z"
   },
   {
    "duration": 5,
    "start_time": "2023-02-06T10:26:14.728Z"
   },
   {
    "duration": 12,
    "start_time": "2023-02-06T10:26:14.734Z"
   },
   {
    "duration": 23,
    "start_time": "2023-02-06T10:26:14.748Z"
   },
   {
    "duration": 15,
    "start_time": "2023-02-06T10:26:14.773Z"
   },
   {
    "duration": 39,
    "start_time": "2023-02-06T10:26:14.789Z"
   },
   {
    "duration": 12,
    "start_time": "2023-02-06T10:26:14.830Z"
   },
   {
    "duration": 8,
    "start_time": "2023-02-06T10:26:14.843Z"
   },
   {
    "duration": 9,
    "start_time": "2023-02-06T10:26:14.853Z"
   },
   {
    "duration": 22,
    "start_time": "2023-02-06T10:26:14.863Z"
   },
   {
    "duration": 47,
    "start_time": "2023-02-06T10:26:14.887Z"
   },
   {
    "duration": 11,
    "start_time": "2023-02-06T10:26:14.936Z"
   },
   {
    "duration": 16,
    "start_time": "2023-02-06T10:26:14.949Z"
   },
   {
    "duration": 13,
    "start_time": "2023-02-06T10:26:14.967Z"
   },
   {
    "duration": 49,
    "start_time": "2023-02-06T10:26:14.982Z"
   },
   {
    "duration": 46,
    "start_time": "2023-02-06T10:26:15.034Z"
   },
   {
    "duration": 57,
    "start_time": "2023-02-06T10:26:15.082Z"
   },
   {
    "duration": 17,
    "start_time": "2023-02-06T10:26:15.142Z"
   },
   {
    "duration": 5,
    "start_time": "2023-02-06T10:26:15.161Z"
   },
   {
    "duration": 27,
    "start_time": "2023-02-06T10:26:15.168Z"
   },
   {
    "duration": 39,
    "start_time": "2023-02-06T10:26:15.197Z"
   },
   {
    "duration": 11,
    "start_time": "2023-02-06T10:26:15.238Z"
   },
   {
    "duration": 15,
    "start_time": "2023-02-06T10:26:15.253Z"
   },
   {
    "duration": 27,
    "start_time": "2023-02-06T10:26:15.270Z"
   },
   {
    "duration": 32,
    "start_time": "2023-02-06T10:26:15.299Z"
   },
   {
    "duration": 14,
    "start_time": "2023-02-06T10:26:15.333Z"
   },
   {
    "duration": 362,
    "start_time": "2023-02-06T10:26:15.349Z"
   },
   {
    "duration": 13,
    "start_time": "2023-02-06T10:26:15.716Z"
   },
   {
    "duration": 48246,
    "start_time": "2023-02-06T10:26:15.731Z"
   },
   {
    "duration": 77,
    "start_time": "2023-02-06T10:27:03.979Z"
   },
   {
    "duration": 1877,
    "start_time": "2023-02-06T10:27:04.059Z"
   },
   {
    "duration": 154,
    "start_time": "2023-02-06T10:27:05.946Z"
   },
   {
    "duration": 493,
    "start_time": "2023-02-06T10:27:06.102Z"
   },
   {
    "duration": 37,
    "start_time": "2023-02-06T10:27:06.597Z"
   },
   {
    "duration": 46813,
    "start_time": "2023-02-06T10:27:06.640Z"
   },
   {
    "duration": 75,
    "start_time": "2023-02-06T10:27:53.455Z"
   },
   {
    "duration": 2087,
    "start_time": "2023-02-06T10:27:53.536Z"
   },
   {
    "duration": 90,
    "start_time": "2023-02-06T10:27:55.640Z"
   },
   {
    "duration": 204,
    "start_time": "2023-02-06T10:27:55.737Z"
   },
   {
    "duration": 53,
    "start_time": "2023-02-06T10:27:55.998Z"
   },
   {
    "duration": 6,
    "start_time": "2023-02-06T10:27:56.053Z"
   },
   {
    "duration": 13,
    "start_time": "2023-02-06T10:27:56.061Z"
   },
   {
    "duration": 6,
    "start_time": "2023-02-06T10:27:56.101Z"
   },
   {
    "duration": 477,
    "start_time": "2023-02-06T10:27:56.112Z"
   },
   {
    "duration": 25,
    "start_time": "2023-02-06T10:27:56.590Z"
   },
   {
    "duration": 65790,
    "start_time": "2023-02-06T10:27:56.625Z"
   },
   {
    "duration": 50,
    "start_time": "2023-02-06T10:29:02.427Z"
   },
   {
    "duration": 2439,
    "start_time": "2023-02-06T10:29:02.479Z"
   },
   {
    "duration": 30,
    "start_time": "2023-02-06T10:29:04.920Z"
   },
   {
    "duration": 208,
    "start_time": "2023-02-06T10:29:04.959Z"
   },
   {
    "duration": 59,
    "start_time": "2023-02-06T10:29:05.170Z"
   },
   {
    "duration": 137,
    "start_time": "2023-02-06T10:29:05.230Z"
   },
   {
    "duration": 14,
    "start_time": "2023-02-06T10:29:05.369Z"
   },
   {
    "duration": 222,
    "start_time": "2023-02-06T10:29:05.385Z"
   },
   {
    "duration": 18,
    "start_time": "2023-02-06T10:29:05.610Z"
   },
   {
    "duration": 31524,
    "start_time": "2023-02-06T10:29:05.634Z"
   },
   {
    "duration": 35,
    "start_time": "2023-02-06T10:29:37.163Z"
   },
   {
    "duration": 1528,
    "start_time": "2023-02-06T10:29:37.208Z"
   },
   {
    "duration": 19,
    "start_time": "2023-02-06T10:29:38.744Z"
   },
   {
    "duration": 151,
    "start_time": "2023-02-06T10:29:38.816Z"
   },
   {
    "duration": 774,
    "start_time": "2023-02-06T10:29:38.972Z"
   },
   {
    "duration": 9,
    "start_time": "2023-02-06T10:29:39.753Z"
   },
   {
    "duration": 75,
    "start_time": "2023-02-06T10:29:39.772Z"
   },
   {
    "duration": 6,
    "start_time": "2023-02-06T10:29:39.853Z"
   },
   {
    "duration": 22,
    "start_time": "2023-02-06T10:29:39.862Z"
   },
   {
    "duration": 1143,
    "start_time": "2023-02-06T17:06:23.050Z"
   },
   {
    "duration": 3,
    "start_time": "2023-02-06T17:06:24.195Z"
   },
   {
    "duration": 17,
    "start_time": "2023-02-06T17:06:24.200Z"
   },
   {
    "duration": 216,
    "start_time": "2023-02-06T17:06:24.220Z"
   },
   {
    "duration": 15,
    "start_time": "2023-02-06T17:06:24.438Z"
   },
   {
    "duration": 2310,
    "start_time": "2023-02-06T17:06:24.455Z"
   },
   {
    "duration": 5,
    "start_time": "2023-02-06T17:06:26.766Z"
   },
   {
    "duration": 10,
    "start_time": "2023-02-06T17:06:26.772Z"
   },
   {
    "duration": 17,
    "start_time": "2023-02-06T17:06:26.783Z"
   },
   {
    "duration": 12,
    "start_time": "2023-02-06T17:06:26.803Z"
   },
   {
    "duration": 15,
    "start_time": "2023-02-06T17:06:26.816Z"
   },
   {
    "duration": 4,
    "start_time": "2023-02-06T17:06:26.832Z"
   },
   {
    "duration": 7,
    "start_time": "2023-02-06T17:06:26.837Z"
   },
   {
    "duration": 6,
    "start_time": "2023-02-06T17:06:26.845Z"
   },
   {
    "duration": 15,
    "start_time": "2023-02-06T17:06:26.852Z"
   },
   {
    "duration": 5,
    "start_time": "2023-02-06T17:06:26.868Z"
   },
   {
    "duration": 6,
    "start_time": "2023-02-06T17:06:26.874Z"
   },
   {
    "duration": 7,
    "start_time": "2023-02-06T17:06:26.882Z"
   },
   {
    "duration": 7,
    "start_time": "2023-02-06T17:06:26.891Z"
   },
   {
    "duration": 25,
    "start_time": "2023-02-06T17:06:26.900Z"
   },
   {
    "duration": 5,
    "start_time": "2023-02-06T17:06:26.944Z"
   },
   {
    "duration": 15,
    "start_time": "2023-02-06T17:06:26.950Z"
   },
   {
    "duration": 14,
    "start_time": "2023-02-06T17:06:26.966Z"
   },
   {
    "duration": 22,
    "start_time": "2023-02-06T17:06:26.982Z"
   },
   {
    "duration": 15,
    "start_time": "2023-02-06T17:06:27.005Z"
   },
   {
    "duration": 7,
    "start_time": "2023-02-06T17:06:27.022Z"
   },
   {
    "duration": 7,
    "start_time": "2023-02-06T17:06:27.030Z"
   },
   {
    "duration": 8,
    "start_time": "2023-02-06T17:06:27.043Z"
   },
   {
    "duration": 21,
    "start_time": "2023-02-06T17:06:27.052Z"
   },
   {
    "duration": 11,
    "start_time": "2023-02-06T17:06:27.074Z"
   },
   {
    "duration": 5,
    "start_time": "2023-02-06T17:06:27.087Z"
   },
   {
    "duration": 9,
    "start_time": "2023-02-06T17:06:27.094Z"
   },
   {
    "duration": 322,
    "start_time": "2023-02-06T17:06:27.105Z"
   },
   {
    "duration": 15,
    "start_time": "2023-02-06T17:06:27.429Z"
   },
   {
    "duration": 4,
    "start_time": "2023-02-06T17:06:27.445Z"
   },
   {
    "duration": 37994,
    "start_time": "2023-02-06T17:06:27.450Z"
   },
   {
    "duration": 111,
    "start_time": "2023-02-06T17:07:05.445Z"
   },
   {
    "duration": 0,
    "start_time": "2023-02-06T17:07:05.558Z"
   },
   {
    "duration": 0,
    "start_time": "2023-02-06T17:07:05.559Z"
   },
   {
    "duration": 0,
    "start_time": "2023-02-06T17:07:05.560Z"
   },
   {
    "duration": 0,
    "start_time": "2023-02-06T17:07:05.561Z"
   },
   {
    "duration": 0,
    "start_time": "2023-02-06T17:07:05.563Z"
   },
   {
    "duration": 0,
    "start_time": "2023-02-06T17:07:05.565Z"
   },
   {
    "duration": 0,
    "start_time": "2023-02-06T17:07:05.566Z"
   },
   {
    "duration": 0,
    "start_time": "2023-02-06T17:07:05.568Z"
   },
   {
    "duration": 0,
    "start_time": "2023-02-06T17:07:05.570Z"
   },
   {
    "duration": 0,
    "start_time": "2023-02-06T17:07:05.571Z"
   },
   {
    "duration": 0,
    "start_time": "2023-02-06T17:07:05.572Z"
   },
   {
    "duration": 0,
    "start_time": "2023-02-06T17:07:05.574Z"
   },
   {
    "duration": 0,
    "start_time": "2023-02-06T17:07:05.575Z"
   },
   {
    "duration": 0,
    "start_time": "2023-02-06T17:07:05.576Z"
   },
   {
    "duration": 0,
    "start_time": "2023-02-06T17:07:05.578Z"
   },
   {
    "duration": 0,
    "start_time": "2023-02-06T17:07:05.579Z"
   },
   {
    "duration": 0,
    "start_time": "2023-02-06T17:07:05.581Z"
   },
   {
    "duration": 0,
    "start_time": "2023-02-06T17:07:05.583Z"
   },
   {
    "duration": 0,
    "start_time": "2023-02-06T17:07:05.584Z"
   },
   {
    "duration": 0,
    "start_time": "2023-02-06T17:07:05.586Z"
   },
   {
    "duration": 0,
    "start_time": "2023-02-06T17:07:05.587Z"
   },
   {
    "duration": 0,
    "start_time": "2023-02-06T17:07:05.589Z"
   },
   {
    "duration": 0,
    "start_time": "2023-02-06T17:07:05.590Z"
   },
   {
    "duration": 0,
    "start_time": "2023-02-06T17:07:05.645Z"
   },
   {
    "duration": 0,
    "start_time": "2023-02-06T17:07:05.646Z"
   },
   {
    "duration": 0,
    "start_time": "2023-02-06T17:07:05.649Z"
   },
   {
    "duration": 0,
    "start_time": "2023-02-06T17:07:05.650Z"
   },
   {
    "duration": 0,
    "start_time": "2023-02-06T17:07:05.651Z"
   },
   {
    "duration": 0,
    "start_time": "2023-02-06T17:07:05.653Z"
   },
   {
    "duration": 0,
    "start_time": "2023-02-06T17:07:05.654Z"
   },
   {
    "duration": 0,
    "start_time": "2023-02-06T17:07:05.656Z"
   },
   {
    "duration": 0,
    "start_time": "2023-02-06T17:07:05.657Z"
   },
   {
    "duration": 0,
    "start_time": "2023-02-06T17:07:05.658Z"
   },
   {
    "duration": 0,
    "start_time": "2023-02-06T17:07:05.660Z"
   },
   {
    "duration": 0,
    "start_time": "2023-02-06T17:07:05.661Z"
   },
   {
    "duration": 0,
    "start_time": "2023-02-06T17:07:05.662Z"
   },
   {
    "duration": 0,
    "start_time": "2023-02-06T17:07:05.664Z"
   },
   {
    "duration": 0,
    "start_time": "2023-02-06T17:07:05.665Z"
   },
   {
    "duration": 0,
    "start_time": "2023-02-06T17:07:05.667Z"
   },
   {
    "duration": 0,
    "start_time": "2023-02-06T17:07:05.668Z"
   },
   {
    "duration": 0,
    "start_time": "2023-02-06T17:07:05.670Z"
   },
   {
    "duration": 0,
    "start_time": "2023-02-06T17:07:05.671Z"
   },
   {
    "duration": 0,
    "start_time": "2023-02-06T17:07:05.673Z"
   },
   {
    "duration": 0,
    "start_time": "2023-02-06T17:07:05.674Z"
   },
   {
    "duration": 1101,
    "start_time": "2023-02-06T17:10:52.155Z"
   },
   {
    "duration": 2,
    "start_time": "2023-02-06T17:10:53.258Z"
   },
   {
    "duration": 5,
    "start_time": "2023-02-06T17:10:53.262Z"
   },
   {
    "duration": 73,
    "start_time": "2023-02-06T17:10:53.270Z"
   },
   {
    "duration": 18,
    "start_time": "2023-02-06T17:10:53.349Z"
   },
   {
    "duration": 2248,
    "start_time": "2023-02-06T17:10:53.369Z"
   },
   {
    "duration": 6,
    "start_time": "2023-02-06T17:10:55.619Z"
   },
   {
    "duration": 15,
    "start_time": "2023-02-06T17:10:55.626Z"
   },
   {
    "duration": 5,
    "start_time": "2023-02-06T17:10:55.643Z"
   },
   {
    "duration": 13,
    "start_time": "2023-02-06T17:10:55.652Z"
   },
   {
    "duration": 15,
    "start_time": "2023-02-06T17:10:55.666Z"
   },
   {
    "duration": 7,
    "start_time": "2023-02-06T17:10:55.683Z"
   },
   {
    "duration": 29,
    "start_time": "2023-02-06T17:10:55.692Z"
   },
   {
    "duration": 7,
    "start_time": "2023-02-06T17:10:55.723Z"
   },
   {
    "duration": 19,
    "start_time": "2023-02-06T17:10:55.732Z"
   },
   {
    "duration": 5,
    "start_time": "2023-02-06T17:10:55.752Z"
   },
   {
    "duration": 8,
    "start_time": "2023-02-06T17:10:55.758Z"
   },
   {
    "duration": 13,
    "start_time": "2023-02-06T17:10:55.767Z"
   },
   {
    "duration": 17,
    "start_time": "2023-02-06T17:10:55.782Z"
   },
   {
    "duration": 29,
    "start_time": "2023-02-06T17:10:55.801Z"
   },
   {
    "duration": 5,
    "start_time": "2023-02-06T17:10:55.843Z"
   },
   {
    "duration": 26,
    "start_time": "2023-02-06T17:10:55.849Z"
   },
   {
    "duration": 25,
    "start_time": "2023-02-06T17:10:55.876Z"
   },
   {
    "duration": 8,
    "start_time": "2023-02-06T17:10:55.903Z"
   },
   {
    "duration": 29,
    "start_time": "2023-02-06T17:10:55.912Z"
   },
   {
    "duration": 4,
    "start_time": "2023-02-06T17:10:55.943Z"
   },
   {
    "duration": 7,
    "start_time": "2023-02-06T17:10:55.949Z"
   },
   {
    "duration": 11,
    "start_time": "2023-02-06T17:10:55.963Z"
   },
   {
    "duration": 21,
    "start_time": "2023-02-06T17:10:55.976Z"
   },
   {
    "duration": 11,
    "start_time": "2023-02-06T17:10:55.999Z"
   },
   {
    "duration": 32,
    "start_time": "2023-02-06T17:10:56.012Z"
   },
   {
    "duration": 5,
    "start_time": "2023-02-06T17:10:56.046Z"
   },
   {
    "duration": 296,
    "start_time": "2023-02-06T17:10:56.053Z"
   },
   {
    "duration": 5,
    "start_time": "2023-02-06T17:10:56.351Z"
   },
   {
    "duration": 6,
    "start_time": "2023-02-06T17:10:56.358Z"
   },
   {
    "duration": 38929,
    "start_time": "2023-02-06T17:10:56.366Z"
   },
   {
    "duration": 73,
    "start_time": "2023-02-06T17:11:35.297Z"
   },
   {
    "duration": 5,
    "start_time": "2023-02-06T17:11:35.373Z"
   },
   {
    "duration": 2074,
    "start_time": "2023-02-06T17:11:35.380Z"
   },
   {
    "duration": 90,
    "start_time": "2023-02-06T17:11:37.456Z"
   },
   {
    "duration": 18,
    "start_time": "2023-02-06T17:11:37.548Z"
   },
   {
    "duration": 336,
    "start_time": "2023-02-06T17:11:37.645Z"
   },
   {
    "duration": 8,
    "start_time": "2023-02-06T17:11:37.986Z"
   },
   {
    "duration": 29,
    "start_time": "2023-02-06T17:11:37.996Z"
   },
   {
    "duration": 41280,
    "start_time": "2023-02-06T17:11:38.028Z"
   },
   {
    "duration": 65,
    "start_time": "2023-02-06T17:12:19.310Z"
   },
   {
    "duration": 6,
    "start_time": "2023-02-06T17:12:19.378Z"
   },
   {
    "duration": 1461,
    "start_time": "2023-02-06T17:12:19.386Z"
   },
   {
    "duration": 103,
    "start_time": "2023-02-06T17:12:20.859Z"
   },
   {
    "duration": 105,
    "start_time": "2023-02-06T17:12:20.976Z"
   },
   {
    "duration": 36,
    "start_time": "2023-02-06T17:12:21.083Z"
   },
   {
    "duration": 21,
    "start_time": "2023-02-06T17:12:21.121Z"
   },
   {
    "duration": 41,
    "start_time": "2023-02-06T17:12:21.145Z"
   },
   {
    "duration": 25,
    "start_time": "2023-02-06T17:12:21.187Z"
   },
   {
    "duration": 573,
    "start_time": "2023-02-06T17:12:21.214Z"
   },
   {
    "duration": 8,
    "start_time": "2023-02-06T17:12:21.789Z"
   },
   {
    "duration": 36,
    "start_time": "2023-02-06T17:12:21.799Z"
   },
   {
    "duration": 56385,
    "start_time": "2023-02-06T17:12:21.836Z"
   },
   {
    "duration": 59,
    "start_time": "2023-02-06T17:13:18.226Z"
   },
   {
    "duration": 8,
    "start_time": "2023-02-06T17:13:18.287Z"
   },
   {
    "duration": 3076,
    "start_time": "2023-02-06T17:13:18.297Z"
   },
   {
    "duration": 98,
    "start_time": "2023-02-06T17:13:21.446Z"
   },
   {
    "duration": 102,
    "start_time": "2023-02-06T17:13:21.546Z"
   },
   {
    "duration": 54,
    "start_time": "2023-02-06T17:13:21.650Z"
   },
   {
    "duration": 28,
    "start_time": "2023-02-06T17:13:21.706Z"
   },
   {
    "duration": 45,
    "start_time": "2023-02-06T17:13:21.737Z"
   },
   {
    "duration": 169,
    "start_time": "2023-02-06T17:13:21.783Z"
   },
   {
    "duration": 9,
    "start_time": "2023-02-06T17:13:21.954Z"
   },
   {
    "duration": 19,
    "start_time": "2023-02-06T17:13:21.965Z"
   },
   {
    "duration": 23351,
    "start_time": "2023-02-06T17:13:21.987Z"
   },
   {
    "duration": 34,
    "start_time": "2023-02-06T17:13:45.343Z"
   },
   {
    "duration": 5,
    "start_time": "2023-02-06T17:13:45.380Z"
   },
   {
    "duration": 1457,
    "start_time": "2023-02-06T17:13:45.387Z"
   },
   {
    "duration": 98,
    "start_time": "2023-02-06T17:13:46.850Z"
   },
   {
    "duration": 198,
    "start_time": "2023-02-06T17:13:46.950Z"
   },
   {
    "duration": 523,
    "start_time": "2023-02-06T17:13:47.150Z"
   },
   {
    "duration": 6,
    "start_time": "2023-02-06T17:13:47.674Z"
   },
   {
    "duration": 45,
    "start_time": "2023-02-06T17:13:47.681Z"
   },
   {
    "duration": 6,
    "start_time": "2023-02-06T17:13:47.744Z"
   },
   {
    "duration": 8,
    "start_time": "2023-02-06T17:13:47.751Z"
   },
   {
    "duration": 8,
    "start_time": "2023-02-06T17:14:45.583Z"
   },
   {
    "duration": 8,
    "start_time": "2023-02-06T17:15:23.082Z"
   },
   {
    "duration": 8,
    "start_time": "2023-02-06T17:15:51.982Z"
   },
   {
    "duration": 1100,
    "start_time": "2023-02-06T17:20:48.495Z"
   },
   {
    "duration": 3,
    "start_time": "2023-02-06T17:20:49.597Z"
   },
   {
    "duration": 17,
    "start_time": "2023-02-06T17:20:49.602Z"
   },
   {
    "duration": 66,
    "start_time": "2023-02-06T17:20:49.621Z"
   },
   {
    "duration": 13,
    "start_time": "2023-02-06T17:20:49.690Z"
   },
   {
    "duration": 2124,
    "start_time": "2023-02-06T17:20:49.705Z"
   },
   {
    "duration": 5,
    "start_time": "2023-02-06T17:20:51.831Z"
   },
   {
    "duration": 10,
    "start_time": "2023-02-06T17:20:51.838Z"
   },
   {
    "duration": 6,
    "start_time": "2023-02-06T17:20:51.850Z"
   },
   {
    "duration": 14,
    "start_time": "2023-02-06T17:20:51.858Z"
   },
   {
    "duration": 19,
    "start_time": "2023-02-06T17:20:51.873Z"
   },
   {
    "duration": 11,
    "start_time": "2023-02-06T17:20:51.894Z"
   },
   {
    "duration": 22,
    "start_time": "2023-02-06T17:20:51.907Z"
   },
   {
    "duration": 12,
    "start_time": "2023-02-06T17:20:51.933Z"
   },
   {
    "duration": 12,
    "start_time": "2023-02-06T17:20:51.946Z"
   },
   {
    "duration": 15,
    "start_time": "2023-02-06T17:20:51.959Z"
   },
   {
    "duration": 7,
    "start_time": "2023-02-06T17:20:51.976Z"
   },
   {
    "duration": 10,
    "start_time": "2023-02-06T17:20:51.984Z"
   },
   {
    "duration": 6,
    "start_time": "2023-02-06T17:20:51.995Z"
   },
   {
    "duration": 42,
    "start_time": "2023-02-06T17:20:52.003Z"
   },
   {
    "duration": 6,
    "start_time": "2023-02-06T17:20:52.046Z"
   },
   {
    "duration": 16,
    "start_time": "2023-02-06T17:20:52.054Z"
   },
   {
    "duration": 22,
    "start_time": "2023-02-06T17:20:52.072Z"
   },
   {
    "duration": 8,
    "start_time": "2023-02-06T17:20:52.096Z"
   },
   {
    "duration": 14,
    "start_time": "2023-02-06T17:20:52.106Z"
   },
   {
    "duration": 11,
    "start_time": "2023-02-06T17:20:52.121Z"
   },
   {
    "duration": 5,
    "start_time": "2023-02-06T17:20:52.134Z"
   },
   {
    "duration": 10,
    "start_time": "2023-02-06T17:20:52.141Z"
   },
   {
    "duration": 36,
    "start_time": "2023-02-06T17:20:52.153Z"
   },
   {
    "duration": 15,
    "start_time": "2023-02-06T17:20:52.192Z"
   },
   {
    "duration": 8,
    "start_time": "2023-02-06T17:20:52.209Z"
   },
   {
    "duration": 5,
    "start_time": "2023-02-06T17:20:52.219Z"
   },
   {
    "duration": 321,
    "start_time": "2023-02-06T17:20:52.226Z"
   },
   {
    "duration": 6,
    "start_time": "2023-02-06T17:20:52.549Z"
   },
   {
    "duration": 6,
    "start_time": "2023-02-06T17:20:52.557Z"
   },
   {
    "duration": 38355,
    "start_time": "2023-02-06T17:20:52.564Z"
   },
   {
    "duration": 55,
    "start_time": "2023-02-06T17:21:30.921Z"
   },
   {
    "duration": 5,
    "start_time": "2023-02-06T17:21:30.978Z"
   },
   {
    "duration": 2568,
    "start_time": "2023-02-06T17:21:30.985Z"
   },
   {
    "duration": 93,
    "start_time": "2023-02-06T17:21:33.555Z"
   },
   {
    "duration": 106,
    "start_time": "2023-02-06T17:21:33.655Z"
   },
   {
    "duration": 393,
    "start_time": "2023-02-06T17:21:33.763Z"
   },
   {
    "duration": 7,
    "start_time": "2023-02-06T17:21:34.157Z"
   },
   {
    "duration": 40,
    "start_time": "2023-02-06T17:21:34.166Z"
   },
   {
    "duration": 39312,
    "start_time": "2023-02-06T17:21:34.207Z"
   },
   {
    "duration": 53,
    "start_time": "2023-02-06T17:22:13.521Z"
   },
   {
    "duration": 7,
    "start_time": "2023-02-06T17:22:13.576Z"
   },
   {
    "duration": 2271,
    "start_time": "2023-02-06T17:22:13.585Z"
   },
   {
    "duration": 8,
    "start_time": "2023-02-06T17:22:15.945Z"
   },
   {
    "duration": 91,
    "start_time": "2023-02-06T17:22:15.955Z"
   },
   {
    "duration": 99,
    "start_time": "2023-02-06T17:22:16.050Z"
   },
   {
    "duration": 6,
    "start_time": "2023-02-06T17:22:16.151Z"
   },
   {
    "duration": 22,
    "start_time": "2023-02-06T17:22:16.158Z"
   },
   {
    "duration": 3,
    "start_time": "2023-02-06T17:22:16.182Z"
   },
   {
    "duration": 392,
    "start_time": "2023-02-06T17:22:16.187Z"
   },
   {
    "duration": 7,
    "start_time": "2023-02-06T17:22:16.580Z"
   },
   {
    "duration": 8,
    "start_time": "2023-02-06T17:22:16.588Z"
   },
   {
    "duration": 52389,
    "start_time": "2023-02-06T17:22:16.597Z"
   },
   {
    "duration": 43,
    "start_time": "2023-02-06T17:23:08.988Z"
   },
   {
    "duration": 14,
    "start_time": "2023-02-06T17:23:09.033Z"
   },
   {
    "duration": 3697,
    "start_time": "2023-02-06T17:23:09.048Z"
   },
   {
    "duration": 103,
    "start_time": "2023-02-06T17:23:12.748Z"
   },
   {
    "duration": 121,
    "start_time": "2023-02-06T17:23:12.855Z"
   },
   {
    "duration": 27,
    "start_time": "2023-02-06T17:23:12.978Z"
   },
   {
    "duration": 15,
    "start_time": "2023-02-06T17:23:13.006Z"
   },
   {
    "duration": 5,
    "start_time": "2023-02-06T17:23:13.022Z"
   },
   {
    "duration": 166,
    "start_time": "2023-02-06T17:23:13.029Z"
   },
   {
    "duration": 9,
    "start_time": "2023-02-06T17:23:13.197Z"
   },
   {
    "duration": 12,
    "start_time": "2023-02-06T17:23:13.208Z"
   },
   {
    "duration": 23812,
    "start_time": "2023-02-06T17:23:13.222Z"
   },
   {
    "duration": 36,
    "start_time": "2023-02-06T17:23:37.036Z"
   },
   {
    "duration": 5,
    "start_time": "2023-02-06T17:23:37.074Z"
   },
   {
    "duration": 1571,
    "start_time": "2023-02-06T17:23:37.080Z"
   },
   {
    "duration": 94,
    "start_time": "2023-02-06T17:23:38.654Z"
   },
   {
    "duration": 104,
    "start_time": "2023-02-06T17:23:38.751Z"
   },
   {
    "duration": 103,
    "start_time": "2023-02-06T17:23:38.858Z"
   },
   {
    "duration": 9,
    "start_time": "2023-02-06T17:23:38.964Z"
   },
   {
    "duration": 9,
    "start_time": "2023-02-06T17:23:38.975Z"
   },
   {
    "duration": 10,
    "start_time": "2023-02-06T17:23:38.986Z"
   },
   {
    "duration": 516,
    "start_time": "2023-02-06T17:23:38.997Z"
   },
   {
    "duration": 5,
    "start_time": "2023-02-06T17:23:39.515Z"
   },
   {
    "duration": 51,
    "start_time": "2023-02-06T17:23:39.521Z"
   },
   {
    "duration": 7,
    "start_time": "2023-02-06T17:23:39.574Z"
   },
   {
    "duration": 9,
    "start_time": "2023-02-06T17:23:39.583Z"
   },
   {
    "duration": 13,
    "start_time": "2023-02-06T17:28:52.742Z"
   },
   {
    "duration": 9,
    "start_time": "2023-02-06T17:30:17.857Z"
   },
   {
    "duration": 11,
    "start_time": "2023-02-06T17:30:53.243Z"
   },
   {
    "duration": 8,
    "start_time": "2023-02-06T17:32:30.805Z"
   },
   {
    "duration": 9,
    "start_time": "2023-02-06T17:32:33.522Z"
   },
   {
    "duration": 10,
    "start_time": "2023-02-06T17:32:36.659Z"
   },
   {
    "duration": 8,
    "start_time": "2023-02-06T17:33:10.027Z"
   },
   {
    "duration": 9,
    "start_time": "2023-02-06T17:39:19.453Z"
   },
   {
    "duration": 9,
    "start_time": "2023-02-06T17:42:41.189Z"
   },
   {
    "duration": 18,
    "start_time": "2023-02-06T17:46:26.248Z"
   },
   {
    "duration": 14,
    "start_time": "2023-02-06T17:47:19.308Z"
   },
   {
    "duration": 756,
    "start_time": "2023-02-06T17:47:36.949Z"
   },
   {
    "duration": 233,
    "start_time": "2023-02-06T17:48:00.986Z"
   },
   {
    "duration": 13,
    "start_time": "2023-02-06T17:48:17.112Z"
   },
   {
    "duration": 13,
    "start_time": "2023-02-06T17:49:08.932Z"
   },
   {
    "duration": 9,
    "start_time": "2023-02-06T17:49:35.920Z"
   },
   {
    "duration": 10,
    "start_time": "2023-02-06T17:49:47.288Z"
   },
   {
    "duration": 10,
    "start_time": "2023-02-06T17:49:52.112Z"
   },
   {
    "duration": 10,
    "start_time": "2023-02-06T17:50:22.826Z"
   },
   {
    "duration": 10,
    "start_time": "2023-02-06T17:50:39.080Z"
   },
   {
    "duration": 9,
    "start_time": "2023-02-06T17:51:40.839Z"
   },
   {
    "duration": 8,
    "start_time": "2023-02-06T17:51:59.905Z"
   },
   {
    "duration": 14,
    "start_time": "2023-02-06T17:52:22.313Z"
   },
   {
    "duration": 10,
    "start_time": "2023-02-06T17:52:35.571Z"
   },
   {
    "duration": 132,
    "start_time": "2023-02-06T17:52:42.437Z"
   },
   {
    "duration": 10,
    "start_time": "2023-02-06T17:53:46.655Z"
   },
   {
    "duration": 16,
    "start_time": "2023-02-06T17:55:20.250Z"
   },
   {
    "duration": 13,
    "start_time": "2023-02-06T17:55:27.431Z"
   },
   {
    "duration": 1181,
    "start_time": "2023-02-06T20:09:41.044Z"
   },
   {
    "duration": 3,
    "start_time": "2023-02-06T20:09:42.228Z"
   },
   {
    "duration": 7,
    "start_time": "2023-02-06T20:09:42.232Z"
   },
   {
    "duration": 433,
    "start_time": "2023-02-06T20:09:42.241Z"
   },
   {
    "duration": 24,
    "start_time": "2023-02-06T20:09:42.675Z"
   },
   {
    "duration": 2560,
    "start_time": "2023-02-06T20:09:42.705Z"
   },
   {
    "duration": 4,
    "start_time": "2023-02-06T20:09:45.267Z"
   },
   {
    "duration": 10,
    "start_time": "2023-02-06T20:09:45.272Z"
   },
   {
    "duration": 28,
    "start_time": "2023-02-06T20:09:45.284Z"
   },
   {
    "duration": 9,
    "start_time": "2023-02-06T20:09:45.314Z"
   },
   {
    "duration": 14,
    "start_time": "2023-02-06T20:09:45.325Z"
   },
   {
    "duration": 5,
    "start_time": "2023-02-06T20:09:45.340Z"
   },
   {
    "duration": 7,
    "start_time": "2023-02-06T20:09:45.346Z"
   },
   {
    "duration": 6,
    "start_time": "2023-02-06T20:09:45.354Z"
   },
   {
    "duration": 32,
    "start_time": "2023-02-06T20:09:45.361Z"
   },
   {
    "duration": 6,
    "start_time": "2023-02-06T20:09:45.395Z"
   },
   {
    "duration": 24,
    "start_time": "2023-02-06T20:09:45.403Z"
   },
   {
    "duration": 10,
    "start_time": "2023-02-06T20:09:45.429Z"
   },
   {
    "duration": 5,
    "start_time": "2023-02-06T20:09:45.441Z"
   },
   {
    "duration": 22,
    "start_time": "2023-02-06T20:09:45.447Z"
   },
   {
    "duration": 4,
    "start_time": "2023-02-06T20:09:45.471Z"
   },
   {
    "duration": 6,
    "start_time": "2023-02-06T20:09:45.477Z"
   },
   {
    "duration": 33,
    "start_time": "2023-02-06T20:09:45.486Z"
   },
   {
    "duration": 4,
    "start_time": "2023-02-06T20:09:45.521Z"
   },
   {
    "duration": 12,
    "start_time": "2023-02-06T20:09:45.527Z"
   },
   {
    "duration": 5,
    "start_time": "2023-02-06T20:09:45.541Z"
   },
   {
    "duration": 11,
    "start_time": "2023-02-06T20:09:45.548Z"
   },
   {
    "duration": 8,
    "start_time": "2023-02-06T20:09:45.565Z"
   },
   {
    "duration": 33,
    "start_time": "2023-02-06T20:09:45.574Z"
   },
   {
    "duration": 14,
    "start_time": "2023-02-06T20:09:45.610Z"
   },
   {
    "duration": 12,
    "start_time": "2023-02-06T20:09:45.626Z"
   },
   {
    "duration": 15,
    "start_time": "2023-02-06T20:09:45.640Z"
   },
   {
    "duration": 14,
    "start_time": "2023-02-06T20:09:45.656Z"
   },
   {
    "duration": 6,
    "start_time": "2023-02-06T20:09:45.671Z"
   },
   {
    "duration": 32,
    "start_time": "2023-02-06T20:09:45.679Z"
   },
   {
    "duration": 332,
    "start_time": "2023-02-06T20:09:45.713Z"
   },
   {
    "duration": 116,
    "start_time": "2023-02-06T20:09:46.047Z"
   },
   {
    "duration": 0,
    "start_time": "2023-02-06T20:09:46.164Z"
   },
   {
    "duration": 0,
    "start_time": "2023-02-06T20:09:46.166Z"
   },
   {
    "duration": 0,
    "start_time": "2023-02-06T20:09:46.167Z"
   },
   {
    "duration": 0,
    "start_time": "2023-02-06T20:09:46.168Z"
   },
   {
    "duration": 0,
    "start_time": "2023-02-06T20:09:46.183Z"
   },
   {
    "duration": 0,
    "start_time": "2023-02-06T20:09:46.189Z"
   },
   {
    "duration": 0,
    "start_time": "2023-02-06T20:09:46.190Z"
   },
   {
    "duration": 0,
    "start_time": "2023-02-06T20:09:46.190Z"
   },
   {
    "duration": 0,
    "start_time": "2023-02-06T20:09:46.191Z"
   },
   {
    "duration": 1,
    "start_time": "2023-02-06T20:09:46.191Z"
   },
   {
    "duration": 0,
    "start_time": "2023-02-06T20:09:46.192Z"
   },
   {
    "duration": 0,
    "start_time": "2023-02-06T20:09:46.193Z"
   },
   {
    "duration": 0,
    "start_time": "2023-02-06T20:09:46.193Z"
   },
   {
    "duration": 0,
    "start_time": "2023-02-06T20:09:46.194Z"
   },
   {
    "duration": 0,
    "start_time": "2023-02-06T20:09:46.194Z"
   },
   {
    "duration": 0,
    "start_time": "2023-02-06T20:09:46.195Z"
   },
   {
    "duration": 0,
    "start_time": "2023-02-06T20:09:46.196Z"
   },
   {
    "duration": 0,
    "start_time": "2023-02-06T20:09:46.200Z"
   },
   {
    "duration": 0,
    "start_time": "2023-02-06T20:09:46.201Z"
   },
   {
    "duration": 0,
    "start_time": "2023-02-06T20:09:46.202Z"
   },
   {
    "duration": 0,
    "start_time": "2023-02-06T20:09:46.206Z"
   },
   {
    "duration": 0,
    "start_time": "2023-02-06T20:09:46.207Z"
   },
   {
    "duration": 0,
    "start_time": "2023-02-06T20:09:46.209Z"
   },
   {
    "duration": 0,
    "start_time": "2023-02-06T20:09:46.210Z"
   },
   {
    "duration": 0,
    "start_time": "2023-02-06T20:09:46.215Z"
   },
   {
    "duration": 0,
    "start_time": "2023-02-06T20:09:46.216Z"
   },
   {
    "duration": 0,
    "start_time": "2023-02-06T20:09:46.217Z"
   },
   {
    "duration": 0,
    "start_time": "2023-02-06T20:09:46.218Z"
   },
   {
    "duration": 0,
    "start_time": "2023-02-06T20:09:46.219Z"
   },
   {
    "duration": 0,
    "start_time": "2023-02-06T20:09:46.220Z"
   },
   {
    "duration": 0,
    "start_time": "2023-02-06T20:09:46.222Z"
   },
   {
    "duration": 0,
    "start_time": "2023-02-06T20:09:46.223Z"
   },
   {
    "duration": 0,
    "start_time": "2023-02-06T20:09:46.224Z"
   },
   {
    "duration": 0,
    "start_time": "2023-02-06T20:09:46.225Z"
   },
   {
    "duration": 0,
    "start_time": "2023-02-06T20:09:46.227Z"
   },
   {
    "duration": 0,
    "start_time": "2023-02-06T20:09:46.228Z"
   },
   {
    "duration": 0,
    "start_time": "2023-02-06T20:09:46.229Z"
   },
   {
    "duration": 0,
    "start_time": "2023-02-06T20:09:46.230Z"
   },
   {
    "duration": 0,
    "start_time": "2023-02-06T20:09:46.232Z"
   },
   {
    "duration": 0,
    "start_time": "2023-02-06T20:09:46.234Z"
   },
   {
    "duration": 0,
    "start_time": "2023-02-06T20:09:46.235Z"
   },
   {
    "duration": 0,
    "start_time": "2023-02-06T20:09:46.281Z"
   },
   {
    "duration": 0,
    "start_time": "2023-02-06T20:09:46.282Z"
   },
   {
    "duration": 0,
    "start_time": "2023-02-06T20:09:46.282Z"
   },
   {
    "duration": 0,
    "start_time": "2023-02-06T20:09:46.283Z"
   },
   {
    "duration": 0,
    "start_time": "2023-02-06T20:09:46.284Z"
   },
   {
    "duration": 0,
    "start_time": "2023-02-06T20:09:46.287Z"
   },
   {
    "duration": 0,
    "start_time": "2023-02-06T20:09:46.288Z"
   },
   {
    "duration": 0,
    "start_time": "2023-02-06T20:09:46.288Z"
   },
   {
    "duration": 0,
    "start_time": "2023-02-06T20:09:46.289Z"
   },
   {
    "duration": 0,
    "start_time": "2023-02-06T20:09:46.290Z"
   },
   {
    "duration": 0,
    "start_time": "2023-02-06T20:09:46.291Z"
   },
   {
    "duration": 3,
    "start_time": "2023-02-06T20:10:05.030Z"
   },
   {
    "duration": 4,
    "start_time": "2023-02-06T20:10:06.113Z"
   },
   {
    "duration": 1160,
    "start_time": "2023-02-06T20:13:00.368Z"
   },
   {
    "duration": 2,
    "start_time": "2023-02-06T20:13:01.530Z"
   },
   {
    "duration": 10,
    "start_time": "2023-02-06T20:13:01.534Z"
   },
   {
    "duration": 72,
    "start_time": "2023-02-06T20:13:01.546Z"
   },
   {
    "duration": 12,
    "start_time": "2023-02-06T20:13:01.620Z"
   },
   {
    "duration": 2343,
    "start_time": "2023-02-06T20:13:01.634Z"
   },
   {
    "duration": 13,
    "start_time": "2023-02-06T20:13:03.979Z"
   },
   {
    "duration": 14,
    "start_time": "2023-02-06T20:13:04.004Z"
   },
   {
    "duration": 7,
    "start_time": "2023-02-06T20:13:04.020Z"
   },
   {
    "duration": 7,
    "start_time": "2023-02-06T20:13:04.030Z"
   },
   {
    "duration": 15,
    "start_time": "2023-02-06T20:13:04.039Z"
   },
   {
    "duration": 6,
    "start_time": "2023-02-06T20:13:04.056Z"
   },
   {
    "duration": 4,
    "start_time": "2023-02-06T20:13:04.064Z"
   },
   {
    "duration": 19,
    "start_time": "2023-02-06T20:13:04.069Z"
   },
   {
    "duration": 36,
    "start_time": "2023-02-06T20:13:04.089Z"
   },
   {
    "duration": 4,
    "start_time": "2023-02-06T20:13:04.126Z"
   },
   {
    "duration": 10,
    "start_time": "2023-02-06T20:13:04.131Z"
   },
   {
    "duration": 23,
    "start_time": "2023-02-06T20:13:04.143Z"
   },
   {
    "duration": 9,
    "start_time": "2023-02-06T20:13:04.167Z"
   },
   {
    "duration": 47,
    "start_time": "2023-02-06T20:13:04.178Z"
   },
   {
    "duration": 4,
    "start_time": "2023-02-06T20:13:04.227Z"
   },
   {
    "duration": 9,
    "start_time": "2023-02-06T20:13:04.232Z"
   },
   {
    "duration": 7,
    "start_time": "2023-02-06T20:13:04.242Z"
   },
   {
    "duration": 6,
    "start_time": "2023-02-06T20:13:04.250Z"
   },
   {
    "duration": 12,
    "start_time": "2023-02-06T20:13:04.258Z"
   },
   {
    "duration": 5,
    "start_time": "2023-02-06T20:13:04.272Z"
   },
   {
    "duration": 30,
    "start_time": "2023-02-06T20:13:04.278Z"
   },
   {
    "duration": 9,
    "start_time": "2023-02-06T20:13:04.312Z"
   },
   {
    "duration": 22,
    "start_time": "2023-02-06T20:13:04.322Z"
   },
   {
    "duration": 10,
    "start_time": "2023-02-06T20:13:04.346Z"
   },
   {
    "duration": 8,
    "start_time": "2023-02-06T20:13:04.357Z"
   },
   {
    "duration": 7,
    "start_time": "2023-02-06T20:13:04.366Z"
   },
   {
    "duration": 15,
    "start_time": "2023-02-06T20:13:04.375Z"
   },
   {
    "duration": 12,
    "start_time": "2023-02-06T20:13:04.396Z"
   },
   {
    "duration": 11,
    "start_time": "2023-02-06T20:13:04.409Z"
   },
   {
    "duration": 318,
    "start_time": "2023-02-06T20:13:04.421Z"
   },
   {
    "duration": 120,
    "start_time": "2023-02-06T20:13:04.740Z"
   },
   {
    "duration": 0,
    "start_time": "2023-02-06T20:13:04.861Z"
   },
   {
    "duration": 0,
    "start_time": "2023-02-06T20:13:04.864Z"
   },
   {
    "duration": 0,
    "start_time": "2023-02-06T20:13:04.865Z"
   },
   {
    "duration": 0,
    "start_time": "2023-02-06T20:13:04.865Z"
   },
   {
    "duration": 0,
    "start_time": "2023-02-06T20:13:04.866Z"
   },
   {
    "duration": 0,
    "start_time": "2023-02-06T20:13:04.868Z"
   },
   {
    "duration": 0,
    "start_time": "2023-02-06T20:13:04.868Z"
   },
   {
    "duration": 0,
    "start_time": "2023-02-06T20:13:04.869Z"
   },
   {
    "duration": 0,
    "start_time": "2023-02-06T20:13:04.886Z"
   },
   {
    "duration": 0,
    "start_time": "2023-02-06T20:13:04.888Z"
   },
   {
    "duration": 0,
    "start_time": "2023-02-06T20:13:04.889Z"
   },
   {
    "duration": 0,
    "start_time": "2023-02-06T20:13:04.891Z"
   },
   {
    "duration": 0,
    "start_time": "2023-02-06T20:13:04.893Z"
   },
   {
    "duration": 0,
    "start_time": "2023-02-06T20:13:04.895Z"
   },
   {
    "duration": 0,
    "start_time": "2023-02-06T20:13:04.897Z"
   },
   {
    "duration": 0,
    "start_time": "2023-02-06T20:13:04.898Z"
   },
   {
    "duration": 0,
    "start_time": "2023-02-06T20:13:04.900Z"
   },
   {
    "duration": 0,
    "start_time": "2023-02-06T20:13:04.902Z"
   },
   {
    "duration": 0,
    "start_time": "2023-02-06T20:13:04.905Z"
   },
   {
    "duration": 0,
    "start_time": "2023-02-06T20:13:04.907Z"
   },
   {
    "duration": 0,
    "start_time": "2023-02-06T20:13:04.909Z"
   },
   {
    "duration": 0,
    "start_time": "2023-02-06T20:13:04.910Z"
   },
   {
    "duration": 0,
    "start_time": "2023-02-06T20:13:04.911Z"
   },
   {
    "duration": 0,
    "start_time": "2023-02-06T20:13:04.912Z"
   },
   {
    "duration": 0,
    "start_time": "2023-02-06T20:13:04.913Z"
   },
   {
    "duration": 0,
    "start_time": "2023-02-06T20:13:04.914Z"
   },
   {
    "duration": 0,
    "start_time": "2023-02-06T20:13:04.914Z"
   },
   {
    "duration": 0,
    "start_time": "2023-02-06T20:13:04.915Z"
   },
   {
    "duration": 0,
    "start_time": "2023-02-06T20:13:04.916Z"
   },
   {
    "duration": 0,
    "start_time": "2023-02-06T20:13:04.917Z"
   },
   {
    "duration": 0,
    "start_time": "2023-02-06T20:13:04.918Z"
   },
   {
    "duration": 0,
    "start_time": "2023-02-06T20:13:04.919Z"
   },
   {
    "duration": 0,
    "start_time": "2023-02-06T20:13:04.920Z"
   },
   {
    "duration": 0,
    "start_time": "2023-02-06T20:13:04.921Z"
   },
   {
    "duration": 0,
    "start_time": "2023-02-06T20:13:04.921Z"
   },
   {
    "duration": 1,
    "start_time": "2023-02-06T20:13:04.922Z"
   },
   {
    "duration": 0,
    "start_time": "2023-02-06T20:13:04.923Z"
   },
   {
    "duration": 0,
    "start_time": "2023-02-06T20:13:04.924Z"
   },
   {
    "duration": 0,
    "start_time": "2023-02-06T20:13:04.925Z"
   },
   {
    "duration": 0,
    "start_time": "2023-02-06T20:13:04.926Z"
   },
   {
    "duration": 0,
    "start_time": "2023-02-06T20:13:04.927Z"
   },
   {
    "duration": 0,
    "start_time": "2023-02-06T20:13:04.928Z"
   },
   {
    "duration": 0,
    "start_time": "2023-02-06T20:13:04.929Z"
   },
   {
    "duration": 0,
    "start_time": "2023-02-06T20:13:04.930Z"
   },
   {
    "duration": 0,
    "start_time": "2023-02-06T20:13:04.931Z"
   },
   {
    "duration": 0,
    "start_time": "2023-02-06T20:13:04.932Z"
   },
   {
    "duration": 0,
    "start_time": "2023-02-06T20:13:04.932Z"
   },
   {
    "duration": 0,
    "start_time": "2023-02-06T20:13:04.933Z"
   },
   {
    "duration": 0,
    "start_time": "2023-02-06T20:13:04.933Z"
   },
   {
    "duration": 0,
    "start_time": "2023-02-06T20:13:04.934Z"
   },
   {
    "duration": 0,
    "start_time": "2023-02-06T20:13:04.934Z"
   },
   {
    "duration": 0,
    "start_time": "2023-02-06T20:13:04.935Z"
   },
   {
    "duration": 1193,
    "start_time": "2023-02-06T20:14:04.471Z"
   },
   {
    "duration": 3,
    "start_time": "2023-02-06T20:14:05.666Z"
   },
   {
    "duration": 15,
    "start_time": "2023-02-06T20:14:05.671Z"
   },
   {
    "duration": 75,
    "start_time": "2023-02-06T20:14:05.693Z"
   },
   {
    "duration": 17,
    "start_time": "2023-02-06T20:14:05.769Z"
   },
   {
    "duration": 2475,
    "start_time": "2023-02-06T20:14:05.793Z"
   },
   {
    "duration": 5,
    "start_time": "2023-02-06T20:14:08.270Z"
   },
   {
    "duration": 7,
    "start_time": "2023-02-06T20:14:08.277Z"
   },
   {
    "duration": 29,
    "start_time": "2023-02-06T20:14:08.286Z"
   },
   {
    "duration": 11,
    "start_time": "2023-02-06T20:14:08.318Z"
   },
   {
    "duration": 15,
    "start_time": "2023-02-06T20:14:08.331Z"
   },
   {
    "duration": 5,
    "start_time": "2023-02-06T20:14:08.347Z"
   },
   {
    "duration": 8,
    "start_time": "2023-02-06T20:14:08.353Z"
   },
   {
    "duration": 7,
    "start_time": "2023-02-06T20:14:08.362Z"
   },
   {
    "duration": 36,
    "start_time": "2023-02-06T20:14:08.370Z"
   },
   {
    "duration": 5,
    "start_time": "2023-02-06T20:14:08.408Z"
   },
   {
    "duration": 6,
    "start_time": "2023-02-06T20:14:08.415Z"
   },
   {
    "duration": 6,
    "start_time": "2023-02-06T20:14:08.423Z"
   },
   {
    "duration": 7,
    "start_time": "2023-02-06T20:14:08.430Z"
   },
   {
    "duration": 23,
    "start_time": "2023-02-06T20:14:08.438Z"
   },
   {
    "duration": 4,
    "start_time": "2023-02-06T20:14:08.463Z"
   },
   {
    "duration": 20,
    "start_time": "2023-02-06T20:14:08.469Z"
   },
   {
    "duration": 28,
    "start_time": "2023-02-06T20:14:08.491Z"
   },
   {
    "duration": 4,
    "start_time": "2023-02-06T20:14:08.520Z"
   },
   {
    "duration": 14,
    "start_time": "2023-02-06T20:14:08.526Z"
   },
   {
    "duration": 8,
    "start_time": "2023-02-06T20:14:08.541Z"
   },
   {
    "duration": 7,
    "start_time": "2023-02-06T20:14:08.551Z"
   },
   {
    "duration": 8,
    "start_time": "2023-02-06T20:14:08.562Z"
   },
   {
    "duration": 24,
    "start_time": "2023-02-06T20:14:08.571Z"
   },
   {
    "duration": 27,
    "start_time": "2023-02-06T20:14:08.596Z"
   },
   {
    "duration": 4,
    "start_time": "2023-02-06T20:14:08.625Z"
   },
   {
    "duration": 8,
    "start_time": "2023-02-06T20:14:08.631Z"
   },
   {
    "duration": 13,
    "start_time": "2023-02-06T20:14:08.641Z"
   },
   {
    "duration": 7,
    "start_time": "2023-02-06T20:14:08.655Z"
   },
   {
    "duration": 12,
    "start_time": "2023-02-06T20:14:08.664Z"
   },
   {
    "duration": 338,
    "start_time": "2023-02-06T20:14:08.678Z"
   },
   {
    "duration": 3,
    "start_time": "2023-02-06T20:14:09.018Z"
   },
   {
    "duration": 7,
    "start_time": "2023-02-06T20:14:09.023Z"
   },
   {
    "duration": 42201,
    "start_time": "2023-02-06T20:14:09.031Z"
   },
   {
    "duration": 3,
    "start_time": "2023-02-06T20:14:51.233Z"
   },
   {
    "duration": 29,
    "start_time": "2023-02-06T20:14:51.237Z"
   },
   {
    "duration": 181,
    "start_time": "2023-02-06T20:14:51.268Z"
   },
   {
    "duration": 0,
    "start_time": "2023-02-06T20:14:51.451Z"
   },
   {
    "duration": 0,
    "start_time": "2023-02-06T20:14:51.452Z"
   },
   {
    "duration": 0,
    "start_time": "2023-02-06T20:14:51.453Z"
   },
   {
    "duration": 0,
    "start_time": "2023-02-06T20:14:51.454Z"
   },
   {
    "duration": 0,
    "start_time": "2023-02-06T20:14:51.455Z"
   },
   {
    "duration": 0,
    "start_time": "2023-02-06T20:14:51.456Z"
   },
   {
    "duration": 0,
    "start_time": "2023-02-06T20:14:51.458Z"
   },
   {
    "duration": 0,
    "start_time": "2023-02-06T20:14:51.459Z"
   },
   {
    "duration": 0,
    "start_time": "2023-02-06T20:14:51.460Z"
   },
   {
    "duration": 0,
    "start_time": "2023-02-06T20:14:51.461Z"
   },
   {
    "duration": 0,
    "start_time": "2023-02-06T20:14:51.462Z"
   },
   {
    "duration": 0,
    "start_time": "2023-02-06T20:14:51.463Z"
   },
   {
    "duration": 0,
    "start_time": "2023-02-06T20:14:51.464Z"
   },
   {
    "duration": 0,
    "start_time": "2023-02-06T20:14:51.465Z"
   },
   {
    "duration": 0,
    "start_time": "2023-02-06T20:14:51.466Z"
   },
   {
    "duration": 0,
    "start_time": "2023-02-06T20:14:51.481Z"
   },
   {
    "duration": 0,
    "start_time": "2023-02-06T20:14:51.483Z"
   },
   {
    "duration": 0,
    "start_time": "2023-02-06T20:14:51.484Z"
   },
   {
    "duration": 0,
    "start_time": "2023-02-06T20:14:51.485Z"
   },
   {
    "duration": 0,
    "start_time": "2023-02-06T20:14:51.487Z"
   },
   {
    "duration": 0,
    "start_time": "2023-02-06T20:14:51.488Z"
   },
   {
    "duration": 0,
    "start_time": "2023-02-06T20:14:51.489Z"
   },
   {
    "duration": 0,
    "start_time": "2023-02-06T20:14:51.490Z"
   },
   {
    "duration": 0,
    "start_time": "2023-02-06T20:14:51.490Z"
   },
   {
    "duration": 0,
    "start_time": "2023-02-06T20:14:51.491Z"
   },
   {
    "duration": 0,
    "start_time": "2023-02-06T20:14:51.492Z"
   },
   {
    "duration": 0,
    "start_time": "2023-02-06T20:14:51.493Z"
   },
   {
    "duration": 0,
    "start_time": "2023-02-06T20:14:51.493Z"
   },
   {
    "duration": 0,
    "start_time": "2023-02-06T20:14:51.494Z"
   },
   {
    "duration": 0,
    "start_time": "2023-02-06T20:14:51.495Z"
   },
   {
    "duration": 0,
    "start_time": "2023-02-06T20:14:51.496Z"
   },
   {
    "duration": 0,
    "start_time": "2023-02-06T20:14:51.496Z"
   },
   {
    "duration": 0,
    "start_time": "2023-02-06T20:14:51.497Z"
   },
   {
    "duration": 0,
    "start_time": "2023-02-06T20:14:51.498Z"
   },
   {
    "duration": 0,
    "start_time": "2023-02-06T20:14:51.498Z"
   },
   {
    "duration": 0,
    "start_time": "2023-02-06T20:14:51.499Z"
   },
   {
    "duration": 0,
    "start_time": "2023-02-06T20:14:51.500Z"
   },
   {
    "duration": 0,
    "start_time": "2023-02-06T20:14:51.501Z"
   },
   {
    "duration": 0,
    "start_time": "2023-02-06T20:14:51.501Z"
   },
   {
    "duration": 0,
    "start_time": "2023-02-06T20:14:51.502Z"
   },
   {
    "duration": 0,
    "start_time": "2023-02-06T20:14:51.503Z"
   },
   {
    "duration": 0,
    "start_time": "2023-02-06T20:14:51.504Z"
   },
   {
    "duration": 0,
    "start_time": "2023-02-06T20:14:51.504Z"
   },
   {
    "duration": 0,
    "start_time": "2023-02-06T20:14:51.505Z"
   },
   {
    "duration": 0,
    "start_time": "2023-02-06T20:14:51.506Z"
   },
   {
    "duration": 1,
    "start_time": "2023-02-06T20:14:51.506Z"
   },
   {
    "duration": 0,
    "start_time": "2023-02-06T20:14:51.507Z"
   },
   {
    "duration": 1185,
    "start_time": "2023-02-06T20:22:26.566Z"
   },
   {
    "duration": 3,
    "start_time": "2023-02-06T20:22:27.753Z"
   },
   {
    "duration": 14,
    "start_time": "2023-02-06T20:22:27.757Z"
   },
   {
    "duration": 79,
    "start_time": "2023-02-06T20:22:27.773Z"
   },
   {
    "duration": 13,
    "start_time": "2023-02-06T20:22:27.854Z"
   },
   {
    "duration": 2565,
    "start_time": "2023-02-06T20:22:27.868Z"
   },
   {
    "duration": 5,
    "start_time": "2023-02-06T20:22:30.435Z"
   },
   {
    "duration": 71,
    "start_time": "2023-02-06T20:22:30.442Z"
   },
   {
    "duration": 26,
    "start_time": "2023-02-06T20:22:30.516Z"
   },
   {
    "duration": 80,
    "start_time": "2023-02-06T20:22:30.545Z"
   },
   {
    "duration": 74,
    "start_time": "2023-02-06T20:22:30.627Z"
   },
   {
    "duration": 40,
    "start_time": "2023-02-06T20:22:30.712Z"
   },
   {
    "duration": 61,
    "start_time": "2023-02-06T20:22:30.754Z"
   },
   {
    "duration": 27,
    "start_time": "2023-02-06T20:22:30.817Z"
   },
   {
    "duration": 33,
    "start_time": "2023-02-06T20:22:30.845Z"
   },
   {
    "duration": 56,
    "start_time": "2023-02-06T20:22:30.880Z"
   },
   {
    "duration": 22,
    "start_time": "2023-02-06T20:22:30.938Z"
   },
   {
    "duration": 64,
    "start_time": "2023-02-06T20:22:30.962Z"
   },
   {
    "duration": 10,
    "start_time": "2023-02-06T20:22:31.028Z"
   },
   {
    "duration": 99,
    "start_time": "2023-02-06T20:22:31.040Z"
   },
   {
    "duration": 85,
    "start_time": "2023-02-06T20:22:31.141Z"
   },
   {
    "duration": 21,
    "start_time": "2023-02-06T20:22:31.228Z"
   },
   {
    "duration": 28,
    "start_time": "2023-02-06T20:22:31.251Z"
   },
   {
    "duration": 50,
    "start_time": "2023-02-06T20:22:31.281Z"
   },
   {
    "duration": 18,
    "start_time": "2023-02-06T20:22:31.333Z"
   },
   {
    "duration": 16,
    "start_time": "2023-02-06T20:22:31.352Z"
   },
   {
    "duration": 37,
    "start_time": "2023-02-06T20:22:31.370Z"
   },
   {
    "duration": 31,
    "start_time": "2023-02-06T20:22:31.412Z"
   },
   {
    "duration": 74,
    "start_time": "2023-02-06T20:22:31.445Z"
   },
   {
    "duration": 25,
    "start_time": "2023-02-06T20:22:31.521Z"
   },
   {
    "duration": 40,
    "start_time": "2023-02-06T20:22:31.548Z"
   },
   {
    "duration": 41,
    "start_time": "2023-02-06T20:22:31.592Z"
   },
   {
    "duration": 51,
    "start_time": "2023-02-06T20:22:31.635Z"
   },
   {
    "duration": 47,
    "start_time": "2023-02-06T20:22:31.689Z"
   },
   {
    "duration": 47,
    "start_time": "2023-02-06T20:22:31.738Z"
   },
   {
    "duration": 278,
    "start_time": "2023-02-06T20:22:31.786Z"
   },
   {
    "duration": 9,
    "start_time": "2023-02-06T20:22:32.066Z"
   },
   {
    "duration": 0,
    "start_time": "2023-02-06T20:22:32.077Z"
   },
   {
    "duration": 0,
    "start_time": "2023-02-06T20:22:32.078Z"
   },
   {
    "duration": 0,
    "start_time": "2023-02-06T20:22:32.080Z"
   },
   {
    "duration": 0,
    "start_time": "2023-02-06T20:22:32.092Z"
   },
   {
    "duration": 0,
    "start_time": "2023-02-06T20:22:32.093Z"
   },
   {
    "duration": 0,
    "start_time": "2023-02-06T20:22:32.094Z"
   },
   {
    "duration": 0,
    "start_time": "2023-02-06T20:22:32.095Z"
   },
   {
    "duration": 0,
    "start_time": "2023-02-06T20:22:32.102Z"
   },
   {
    "duration": 0,
    "start_time": "2023-02-06T20:22:32.103Z"
   },
   {
    "duration": 0,
    "start_time": "2023-02-06T20:22:32.104Z"
   },
   {
    "duration": 0,
    "start_time": "2023-02-06T20:22:32.105Z"
   },
   {
    "duration": 0,
    "start_time": "2023-02-06T20:22:32.106Z"
   },
   {
    "duration": 0,
    "start_time": "2023-02-06T20:22:32.118Z"
   },
   {
    "duration": 0,
    "start_time": "2023-02-06T20:22:32.121Z"
   },
   {
    "duration": 0,
    "start_time": "2023-02-06T20:22:32.122Z"
   },
   {
    "duration": 0,
    "start_time": "2023-02-06T20:22:32.122Z"
   },
   {
    "duration": 0,
    "start_time": "2023-02-06T20:22:32.125Z"
   },
   {
    "duration": 0,
    "start_time": "2023-02-06T20:22:32.126Z"
   },
   {
    "duration": 0,
    "start_time": "2023-02-06T20:22:32.130Z"
   },
   {
    "duration": 0,
    "start_time": "2023-02-06T20:22:32.131Z"
   },
   {
    "duration": 0,
    "start_time": "2023-02-06T20:22:32.132Z"
   },
   {
    "duration": 0,
    "start_time": "2023-02-06T20:22:32.134Z"
   },
   {
    "duration": 0,
    "start_time": "2023-02-06T20:22:32.135Z"
   },
   {
    "duration": 0,
    "start_time": "2023-02-06T20:22:32.137Z"
   },
   {
    "duration": 0,
    "start_time": "2023-02-06T20:22:32.138Z"
   },
   {
    "duration": 0,
    "start_time": "2023-02-06T20:22:32.141Z"
   },
   {
    "duration": 0,
    "start_time": "2023-02-06T20:22:32.142Z"
   },
   {
    "duration": 0,
    "start_time": "2023-02-06T20:22:32.144Z"
   },
   {
    "duration": 0,
    "start_time": "2023-02-06T20:22:32.145Z"
   },
   {
    "duration": 0,
    "start_time": "2023-02-06T20:22:32.146Z"
   },
   {
    "duration": 0,
    "start_time": "2023-02-06T20:22:32.148Z"
   },
   {
    "duration": 0,
    "start_time": "2023-02-06T20:22:32.181Z"
   },
   {
    "duration": 0,
    "start_time": "2023-02-06T20:22:32.182Z"
   },
   {
    "duration": 0,
    "start_time": "2023-02-06T20:22:32.185Z"
   },
   {
    "duration": 0,
    "start_time": "2023-02-06T20:22:32.188Z"
   },
   {
    "duration": 0,
    "start_time": "2023-02-06T20:22:32.189Z"
   },
   {
    "duration": 0,
    "start_time": "2023-02-06T20:22:32.189Z"
   },
   {
    "duration": 0,
    "start_time": "2023-02-06T20:22:32.190Z"
   },
   {
    "duration": 0,
    "start_time": "2023-02-06T20:22:32.191Z"
   },
   {
    "duration": 0,
    "start_time": "2023-02-06T20:22:32.191Z"
   },
   {
    "duration": 0,
    "start_time": "2023-02-06T20:22:32.192Z"
   },
   {
    "duration": 0,
    "start_time": "2023-02-06T20:22:32.193Z"
   },
   {
    "duration": 0,
    "start_time": "2023-02-06T20:22:32.193Z"
   },
   {
    "duration": 0,
    "start_time": "2023-02-06T20:22:32.194Z"
   },
   {
    "duration": 0,
    "start_time": "2023-02-06T20:22:32.194Z"
   },
   {
    "duration": 0,
    "start_time": "2023-02-06T20:22:32.199Z"
   },
   {
    "duration": 0,
    "start_time": "2023-02-06T20:22:32.200Z"
   },
   {
    "duration": 0,
    "start_time": "2023-02-06T20:22:32.201Z"
   },
   {
    "duration": 0,
    "start_time": "2023-02-06T20:22:32.203Z"
   },
   {
    "duration": 0,
    "start_time": "2023-02-06T20:22:32.204Z"
   },
   {
    "duration": 0,
    "start_time": "2023-02-06T20:22:32.205Z"
   },
   {
    "duration": 0,
    "start_time": "2023-02-06T20:22:32.206Z"
   },
   {
    "duration": 1260,
    "start_time": "2023-02-06T20:23:17.876Z"
   },
   {
    "duration": 4,
    "start_time": "2023-02-06T20:23:19.138Z"
   },
   {
    "duration": 16,
    "start_time": "2023-02-06T20:23:19.144Z"
   },
   {
    "duration": 97,
    "start_time": "2023-02-06T20:23:19.162Z"
   },
   {
    "duration": 12,
    "start_time": "2023-02-06T20:23:19.261Z"
   },
   {
    "duration": 2643,
    "start_time": "2023-02-06T20:23:19.274Z"
   },
   {
    "duration": 4,
    "start_time": "2023-02-06T20:23:21.920Z"
   },
   {
    "duration": 12,
    "start_time": "2023-02-06T20:23:21.926Z"
   },
   {
    "duration": 19,
    "start_time": "2023-02-06T20:23:21.940Z"
   },
   {
    "duration": 25,
    "start_time": "2023-02-06T20:23:21.962Z"
   },
   {
    "duration": 59,
    "start_time": "2023-02-06T20:23:21.989Z"
   },
   {
    "duration": 6,
    "start_time": "2023-02-06T20:23:22.050Z"
   },
   {
    "duration": 5,
    "start_time": "2023-02-06T20:23:22.057Z"
   },
   {
    "duration": 14,
    "start_time": "2023-02-06T20:23:22.063Z"
   },
   {
    "duration": 53,
    "start_time": "2023-02-06T20:23:22.078Z"
   },
   {
    "duration": 16,
    "start_time": "2023-02-06T20:23:22.133Z"
   },
   {
    "duration": 21,
    "start_time": "2023-02-06T20:23:22.151Z"
   },
   {
    "duration": 15,
    "start_time": "2023-02-06T20:23:22.174Z"
   },
   {
    "duration": 35,
    "start_time": "2023-02-06T20:23:22.191Z"
   },
   {
    "duration": 30,
    "start_time": "2023-02-06T20:23:22.227Z"
   },
   {
    "duration": 5,
    "start_time": "2023-02-06T20:23:22.258Z"
   },
   {
    "duration": 22,
    "start_time": "2023-02-06T20:23:22.265Z"
   },
   {
    "duration": 49,
    "start_time": "2023-02-06T20:23:22.289Z"
   },
   {
    "duration": 6,
    "start_time": "2023-02-06T20:23:22.340Z"
   },
   {
    "duration": 16,
    "start_time": "2023-02-06T20:23:22.348Z"
   },
   {
    "duration": 8,
    "start_time": "2023-02-06T20:23:22.366Z"
   },
   {
    "duration": 46,
    "start_time": "2023-02-06T20:23:22.375Z"
   },
   {
    "duration": 18,
    "start_time": "2023-02-06T20:23:22.426Z"
   },
   {
    "duration": 22,
    "start_time": "2023-02-06T20:23:22.445Z"
   },
   {
    "duration": 17,
    "start_time": "2023-02-06T20:23:22.469Z"
   },
   {
    "duration": 39,
    "start_time": "2023-02-06T20:23:22.488Z"
   },
   {
    "duration": 24,
    "start_time": "2023-02-06T20:23:22.529Z"
   },
   {
    "duration": 21,
    "start_time": "2023-02-06T20:23:22.555Z"
   },
   {
    "duration": 55,
    "start_time": "2023-02-06T20:23:22.578Z"
   },
   {
    "duration": 8,
    "start_time": "2023-02-06T20:23:22.635Z"
   },
   {
    "duration": 371,
    "start_time": "2023-02-06T20:23:22.645Z"
   },
   {
    "duration": 4,
    "start_time": "2023-02-06T20:23:23.018Z"
   },
   {
    "duration": 27,
    "start_time": "2023-02-06T20:23:23.024Z"
   },
   {
    "duration": 44995,
    "start_time": "2023-02-06T20:23:23.053Z"
   },
   {
    "duration": 4,
    "start_time": "2023-02-06T20:24:08.050Z"
   },
   {
    "duration": 9,
    "start_time": "2023-02-06T20:24:08.055Z"
   },
   {
    "duration": 2141,
    "start_time": "2023-02-06T20:24:08.066Z"
   },
   {
    "duration": 3,
    "start_time": "2023-02-06T20:24:10.209Z"
   },
   {
    "duration": 70,
    "start_time": "2023-02-06T20:24:10.214Z"
   },
   {
    "duration": 161,
    "start_time": "2023-02-06T20:24:10.286Z"
   },
   {
    "duration": 0,
    "start_time": "2023-02-06T20:24:10.448Z"
   },
   {
    "duration": 0,
    "start_time": "2023-02-06T20:24:10.450Z"
   },
   {
    "duration": 0,
    "start_time": "2023-02-06T20:24:10.450Z"
   },
   {
    "duration": 0,
    "start_time": "2023-02-06T20:24:10.451Z"
   },
   {
    "duration": 0,
    "start_time": "2023-02-06T20:24:10.452Z"
   },
   {
    "duration": 0,
    "start_time": "2023-02-06T20:24:10.453Z"
   },
   {
    "duration": 0,
    "start_time": "2023-02-06T20:24:10.454Z"
   },
   {
    "duration": 0,
    "start_time": "2023-02-06T20:24:10.455Z"
   },
   {
    "duration": 0,
    "start_time": "2023-02-06T20:24:10.456Z"
   },
   {
    "duration": 0,
    "start_time": "2023-02-06T20:24:10.457Z"
   },
   {
    "duration": 0,
    "start_time": "2023-02-06T20:24:10.458Z"
   },
   {
    "duration": 0,
    "start_time": "2023-02-06T20:24:10.459Z"
   },
   {
    "duration": 1,
    "start_time": "2023-02-06T20:24:10.493Z"
   },
   {
    "duration": 0,
    "start_time": "2023-02-06T20:24:10.500Z"
   },
   {
    "duration": 0,
    "start_time": "2023-02-06T20:24:10.507Z"
   },
   {
    "duration": 0,
    "start_time": "2023-02-06T20:24:10.510Z"
   },
   {
    "duration": 0,
    "start_time": "2023-02-06T20:24:10.512Z"
   },
   {
    "duration": 0,
    "start_time": "2023-02-06T20:24:10.513Z"
   },
   {
    "duration": 0,
    "start_time": "2023-02-06T20:24:10.514Z"
   },
   {
    "duration": 0,
    "start_time": "2023-02-06T20:24:10.515Z"
   },
   {
    "duration": 0,
    "start_time": "2023-02-06T20:24:10.517Z"
   },
   {
    "duration": 0,
    "start_time": "2023-02-06T20:24:10.518Z"
   },
   {
    "duration": 0,
    "start_time": "2023-02-06T20:24:10.519Z"
   },
   {
    "duration": 0,
    "start_time": "2023-02-06T20:24:10.521Z"
   },
   {
    "duration": 0,
    "start_time": "2023-02-06T20:24:10.522Z"
   },
   {
    "duration": 0,
    "start_time": "2023-02-06T20:24:10.523Z"
   },
   {
    "duration": 0,
    "start_time": "2023-02-06T20:24:10.524Z"
   },
   {
    "duration": 0,
    "start_time": "2023-02-06T20:24:10.525Z"
   },
   {
    "duration": 0,
    "start_time": "2023-02-06T20:24:10.527Z"
   },
   {
    "duration": 0,
    "start_time": "2023-02-06T20:24:10.528Z"
   },
   {
    "duration": 0,
    "start_time": "2023-02-06T20:24:10.529Z"
   },
   {
    "duration": 0,
    "start_time": "2023-02-06T20:24:10.531Z"
   },
   {
    "duration": 0,
    "start_time": "2023-02-06T20:24:10.532Z"
   },
   {
    "duration": 0,
    "start_time": "2023-02-06T20:24:10.533Z"
   },
   {
    "duration": 0,
    "start_time": "2023-02-06T20:24:10.535Z"
   },
   {
    "duration": 0,
    "start_time": "2023-02-06T20:24:10.536Z"
   },
   {
    "duration": 0,
    "start_time": "2023-02-06T20:24:10.537Z"
   },
   {
    "duration": 0,
    "start_time": "2023-02-06T20:24:10.587Z"
   },
   {
    "duration": 0,
    "start_time": "2023-02-06T20:24:10.588Z"
   },
   {
    "duration": 0,
    "start_time": "2023-02-06T20:24:10.589Z"
   },
   {
    "duration": 0,
    "start_time": "2023-02-06T20:24:10.590Z"
   },
   {
    "duration": 0,
    "start_time": "2023-02-06T20:24:10.591Z"
   },
   {
    "duration": 0,
    "start_time": "2023-02-06T20:24:10.592Z"
   },
   {
    "duration": 0,
    "start_time": "2023-02-06T20:24:10.593Z"
   },
   {
    "duration": 1392,
    "start_time": "2023-02-08T02:41:30.775Z"
   },
   {
    "duration": 3,
    "start_time": "2023-02-08T02:41:32.169Z"
   },
   {
    "duration": 2,
    "start_time": "2023-02-08T02:41:32.173Z"
   },
   {
    "duration": 148,
    "start_time": "2023-02-08T02:41:32.183Z"
   },
   {
    "duration": 17,
    "start_time": "2023-02-08T02:41:32.334Z"
   },
   {
    "duration": 3105,
    "start_time": "2023-02-08T02:41:32.353Z"
   },
   {
    "duration": 5,
    "start_time": "2023-02-08T02:41:35.461Z"
   },
   {
    "duration": 26,
    "start_time": "2023-02-08T02:41:35.468Z"
   },
   {
    "duration": 13,
    "start_time": "2023-02-08T02:41:35.496Z"
   },
   {
    "duration": 23,
    "start_time": "2023-02-08T02:41:35.516Z"
   },
   {
    "duration": 27,
    "start_time": "2023-02-08T02:41:35.542Z"
   },
   {
    "duration": 24,
    "start_time": "2023-02-08T02:41:35.571Z"
   },
   {
    "duration": 5,
    "start_time": "2023-02-08T02:41:35.597Z"
   },
   {
    "duration": 10,
    "start_time": "2023-02-08T02:41:35.604Z"
   },
   {
    "duration": 17,
    "start_time": "2023-02-08T02:41:35.616Z"
   },
   {
    "duration": 5,
    "start_time": "2023-02-08T02:41:35.635Z"
   },
   {
    "duration": 28,
    "start_time": "2023-02-08T02:41:35.654Z"
   },
   {
    "duration": 7,
    "start_time": "2023-02-08T02:41:35.685Z"
   },
   {
    "duration": 8,
    "start_time": "2023-02-08T02:41:35.693Z"
   },
   {
    "duration": 37,
    "start_time": "2023-02-08T02:41:35.703Z"
   },
   {
    "duration": 5,
    "start_time": "2023-02-08T02:41:35.742Z"
   },
   {
    "duration": 33,
    "start_time": "2023-02-08T02:41:35.749Z"
   },
   {
    "duration": 11,
    "start_time": "2023-02-08T02:41:35.785Z"
   },
   {
    "duration": 7,
    "start_time": "2023-02-08T02:41:35.798Z"
   },
   {
    "duration": 18,
    "start_time": "2023-02-08T02:41:35.807Z"
   },
   {
    "duration": 7,
    "start_time": "2023-02-08T02:41:35.827Z"
   },
   {
    "duration": 6,
    "start_time": "2023-02-08T02:41:35.837Z"
   },
   {
    "duration": 38,
    "start_time": "2023-02-08T02:41:35.850Z"
   },
   {
    "duration": 33,
    "start_time": "2023-02-08T02:41:35.891Z"
   },
   {
    "duration": 16,
    "start_time": "2023-02-08T02:41:35.926Z"
   },
   {
    "duration": 10,
    "start_time": "2023-02-08T02:41:35.944Z"
   },
   {
    "duration": 30,
    "start_time": "2023-02-08T02:41:35.956Z"
   },
   {
    "duration": 13,
    "start_time": "2023-02-08T02:41:35.988Z"
   },
   {
    "duration": 12,
    "start_time": "2023-02-08T02:41:36.003Z"
   },
   {
    "duration": 8,
    "start_time": "2023-02-08T02:41:36.019Z"
   },
   {
    "duration": 420,
    "start_time": "2023-02-08T02:41:36.030Z"
   },
   {
    "duration": 4,
    "start_time": "2023-02-08T02:41:36.452Z"
   },
   {
    "duration": 32,
    "start_time": "2023-02-08T02:41:36.458Z"
   },
   {
    "duration": 52395,
    "start_time": "2023-02-08T02:41:36.492Z"
   },
   {
    "duration": 5,
    "start_time": "2023-02-08T02:42:28.889Z"
   },
   {
    "duration": 27,
    "start_time": "2023-02-08T02:42:28.896Z"
   },
   {
    "duration": 2270,
    "start_time": "2023-02-08T02:42:28.924Z"
   },
   {
    "duration": 3,
    "start_time": "2023-02-08T02:42:31.259Z"
   },
   {
    "duration": 53,
    "start_time": "2023-02-08T02:42:31.266Z"
   },
   {
    "duration": 448,
    "start_time": "2023-02-08T02:42:31.322Z"
   },
   {
    "duration": 156,
    "start_time": "2023-02-08T02:42:31.773Z"
   },
   {
    "duration": 0,
    "start_time": "2023-02-08T02:42:31.931Z"
   },
   {
    "duration": 0,
    "start_time": "2023-02-08T02:42:31.932Z"
   },
   {
    "duration": 0,
    "start_time": "2023-02-08T02:42:31.934Z"
   },
   {
    "duration": 0,
    "start_time": "2023-02-08T02:42:31.935Z"
   },
   {
    "duration": 0,
    "start_time": "2023-02-08T02:42:31.936Z"
   },
   {
    "duration": 0,
    "start_time": "2023-02-08T02:42:31.937Z"
   },
   {
    "duration": 0,
    "start_time": "2023-02-08T02:42:31.939Z"
   },
   {
    "duration": 0,
    "start_time": "2023-02-08T02:42:31.940Z"
   },
   {
    "duration": 0,
    "start_time": "2023-02-08T02:42:31.941Z"
   },
   {
    "duration": 0,
    "start_time": "2023-02-08T02:42:31.941Z"
   },
   {
    "duration": 0,
    "start_time": "2023-02-08T02:42:31.942Z"
   },
   {
    "duration": 0,
    "start_time": "2023-02-08T02:42:31.942Z"
   },
   {
    "duration": 0,
    "start_time": "2023-02-08T02:42:31.943Z"
   },
   {
    "duration": 0,
    "start_time": "2023-02-08T02:42:31.943Z"
   },
   {
    "duration": 0,
    "start_time": "2023-02-08T02:42:31.944Z"
   },
   {
    "duration": 0,
    "start_time": "2023-02-08T02:42:31.944Z"
   },
   {
    "duration": 0,
    "start_time": "2023-02-08T02:42:31.954Z"
   },
   {
    "duration": 0,
    "start_time": "2023-02-08T02:42:31.955Z"
   },
   {
    "duration": 0,
    "start_time": "2023-02-08T02:42:31.956Z"
   },
   {
    "duration": 0,
    "start_time": "2023-02-08T02:42:31.958Z"
   },
   {
    "duration": 0,
    "start_time": "2023-02-08T02:42:31.966Z"
   },
   {
    "duration": 0,
    "start_time": "2023-02-08T02:42:31.968Z"
   },
   {
    "duration": 0,
    "start_time": "2023-02-08T02:42:31.970Z"
   },
   {
    "duration": 0,
    "start_time": "2023-02-08T02:42:31.971Z"
   },
   {
    "duration": 0,
    "start_time": "2023-02-08T02:42:31.973Z"
   },
   {
    "duration": 0,
    "start_time": "2023-02-08T02:42:31.975Z"
   },
   {
    "duration": 0,
    "start_time": "2023-02-08T02:42:31.977Z"
   },
   {
    "duration": 0,
    "start_time": "2023-02-08T02:42:31.979Z"
   },
   {
    "duration": 0,
    "start_time": "2023-02-08T02:42:31.981Z"
   },
   {
    "duration": 0,
    "start_time": "2023-02-08T02:42:31.983Z"
   },
   {
    "duration": 0,
    "start_time": "2023-02-08T02:42:31.985Z"
   },
   {
    "duration": 0,
    "start_time": "2023-02-08T02:42:31.986Z"
   },
   {
    "duration": 0,
    "start_time": "2023-02-08T02:42:31.988Z"
   },
   {
    "duration": 0,
    "start_time": "2023-02-08T02:42:31.990Z"
   },
   {
    "duration": 0,
    "start_time": "2023-02-08T02:42:31.992Z"
   },
   {
    "duration": 0,
    "start_time": "2023-02-08T02:42:31.994Z"
   },
   {
    "duration": 0,
    "start_time": "2023-02-08T02:42:31.997Z"
   },
   {
    "duration": 0,
    "start_time": "2023-02-08T02:42:31.998Z"
   },
   {
    "duration": 0,
    "start_time": "2023-02-08T02:42:32.000Z"
   },
   {
    "duration": 0,
    "start_time": "2023-02-08T02:42:32.001Z"
   },
   {
    "duration": 0,
    "start_time": "2023-02-08T02:42:32.003Z"
   },
   {
    "duration": 1388,
    "start_time": "2023-02-08T02:46:07.262Z"
   },
   {
    "duration": 9,
    "start_time": "2023-02-08T02:46:08.653Z"
   },
   {
    "duration": 11,
    "start_time": "2023-02-08T02:46:08.666Z"
   },
   {
    "duration": 79,
    "start_time": "2023-02-08T02:46:08.681Z"
   },
   {
    "duration": 19,
    "start_time": "2023-02-08T02:46:08.764Z"
   },
   {
    "duration": 2894,
    "start_time": "2023-02-08T02:46:08.785Z"
   },
   {
    "duration": 6,
    "start_time": "2023-02-08T02:46:11.680Z"
   },
   {
    "duration": 21,
    "start_time": "2023-02-08T02:46:11.688Z"
   },
   {
    "duration": 11,
    "start_time": "2023-02-08T02:46:11.712Z"
   },
   {
    "duration": 13,
    "start_time": "2023-02-08T02:46:11.727Z"
   },
   {
    "duration": 27,
    "start_time": "2023-02-08T02:46:11.742Z"
   },
   {
    "duration": 6,
    "start_time": "2023-02-08T02:46:11.771Z"
   },
   {
    "duration": 7,
    "start_time": "2023-02-08T02:46:11.779Z"
   },
   {
    "duration": 10,
    "start_time": "2023-02-08T02:46:11.787Z"
   },
   {
    "duration": 13,
    "start_time": "2023-02-08T02:46:11.799Z"
   },
   {
    "duration": 7,
    "start_time": "2023-02-08T02:46:11.814Z"
   },
   {
    "duration": 33,
    "start_time": "2023-02-08T02:46:11.826Z"
   },
   {
    "duration": 12,
    "start_time": "2023-02-08T02:46:11.861Z"
   },
   {
    "duration": 8,
    "start_time": "2023-02-08T02:46:11.876Z"
   },
   {
    "duration": 33,
    "start_time": "2023-02-08T02:46:11.886Z"
   },
   {
    "duration": 5,
    "start_time": "2023-02-08T02:46:11.922Z"
   },
   {
    "duration": 12,
    "start_time": "2023-02-08T02:46:11.929Z"
   },
   {
    "duration": 22,
    "start_time": "2023-02-08T02:46:11.942Z"
   },
   {
    "duration": 6,
    "start_time": "2023-02-08T02:46:11.967Z"
   },
   {
    "duration": 15,
    "start_time": "2023-02-08T02:46:11.975Z"
   },
   {
    "duration": 12,
    "start_time": "2023-02-08T02:46:11.992Z"
   },
   {
    "duration": 9,
    "start_time": "2023-02-08T02:46:12.006Z"
   },
   {
    "duration": 11,
    "start_time": "2023-02-08T02:46:12.020Z"
   },
   {
    "duration": 46,
    "start_time": "2023-02-08T02:46:12.033Z"
   },
   {
    "duration": 139,
    "start_time": "2023-02-08T02:46:12.081Z"
   },
   {
    "duration": 9,
    "start_time": "2023-02-08T02:46:12.222Z"
   },
   {
    "duration": 10,
    "start_time": "2023-02-08T02:46:12.233Z"
   },
   {
    "duration": 25,
    "start_time": "2023-02-08T02:46:12.244Z"
   },
   {
    "duration": 20,
    "start_time": "2023-02-08T02:46:12.271Z"
   },
   {
    "duration": 37,
    "start_time": "2023-02-08T02:46:12.293Z"
   },
   {
    "duration": 426,
    "start_time": "2023-02-08T02:46:12.333Z"
   },
   {
    "duration": 4,
    "start_time": "2023-02-08T02:46:12.762Z"
   },
   {
    "duration": 9,
    "start_time": "2023-02-08T02:46:12.768Z"
   },
   {
    "duration": 43879,
    "start_time": "2023-02-08T02:46:12.779Z"
   },
   {
    "duration": 3,
    "start_time": "2023-02-08T02:46:56.660Z"
   },
   {
    "duration": 6,
    "start_time": "2023-02-08T02:46:56.665Z"
   },
   {
    "duration": 1899,
    "start_time": "2023-02-08T02:46:56.673Z"
   },
   {
    "duration": 3,
    "start_time": "2023-02-08T02:46:58.653Z"
   },
   {
    "duration": 6,
    "start_time": "2023-02-08T02:46:58.658Z"
   },
   {
    "duration": 412,
    "start_time": "2023-02-08T02:46:58.666Z"
   },
   {
    "duration": 3,
    "start_time": "2023-02-08T02:46:59.080Z"
   },
   {
    "duration": 7,
    "start_time": "2023-02-08T02:46:59.085Z"
   },
   {
    "duration": 48171,
    "start_time": "2023-02-08T02:46:59.094Z"
   },
   {
    "duration": 8,
    "start_time": "2023-02-08T02:47:47.270Z"
   },
   {
    "duration": 16,
    "start_time": "2023-02-08T02:47:47.280Z"
   },
   {
    "duration": 2060,
    "start_time": "2023-02-08T02:47:47.301Z"
   },
   {
    "duration": 5,
    "start_time": "2023-02-08T02:47:49.367Z"
   },
   {
    "duration": 84,
    "start_time": "2023-02-08T02:47:49.375Z"
   },
   {
    "duration": 14,
    "start_time": "2023-02-08T02:47:49.461Z"
   },
   {
    "duration": 8,
    "start_time": "2023-02-08T02:47:49.477Z"
   },
   {
    "duration": 21,
    "start_time": "2023-02-08T02:47:49.488Z"
   },
   {
    "duration": 12,
    "start_time": "2023-02-08T02:47:49.511Z"
   },
   {
    "duration": 411,
    "start_time": "2023-02-08T02:47:49.525Z"
   },
   {
    "duration": 3,
    "start_time": "2023-02-08T02:47:49.938Z"
   },
   {
    "duration": 18,
    "start_time": "2023-02-08T02:47:49.943Z"
   },
   {
    "duration": 59637,
    "start_time": "2023-02-08T02:47:49.963Z"
   },
   {
    "duration": 3,
    "start_time": "2023-02-08T02:48:49.602Z"
   },
   {
    "duration": 7,
    "start_time": "2023-02-08T02:48:49.608Z"
   },
   {
    "duration": 2959,
    "start_time": "2023-02-08T02:48:49.616Z"
   },
   {
    "duration": 6,
    "start_time": "2023-02-08T02:48:52.657Z"
   },
   {
    "duration": 95,
    "start_time": "2023-02-08T02:48:52.665Z"
   },
   {
    "duration": 5,
    "start_time": "2023-02-08T02:48:52.763Z"
   },
   {
    "duration": 14,
    "start_time": "2023-02-08T02:48:52.770Z"
   },
   {
    "duration": 4,
    "start_time": "2023-02-08T02:48:52.786Z"
   },
   {
    "duration": 240,
    "start_time": "2023-02-08T02:48:52.791Z"
   },
   {
    "duration": 3,
    "start_time": "2023-02-08T02:48:53.034Z"
   },
   {
    "duration": 22,
    "start_time": "2023-02-08T02:48:53.039Z"
   },
   {
    "duration": 28552,
    "start_time": "2023-02-08T02:48:53.063Z"
   },
   {
    "duration": 3,
    "start_time": "2023-02-08T02:49:21.618Z"
   },
   {
    "duration": 13,
    "start_time": "2023-02-08T02:49:21.623Z"
   },
   {
    "duration": 1023,
    "start_time": "2023-02-08T02:49:21.638Z"
   },
   {
    "duration": 5,
    "start_time": "2023-02-08T02:49:22.663Z"
   },
   {
    "duration": 86,
    "start_time": "2023-02-08T02:49:22.672Z"
   },
   {
    "duration": 87,
    "start_time": "2023-02-08T02:49:22.767Z"
   },
   {
    "duration": 13,
    "start_time": "2023-02-08T02:49:22.857Z"
   },
   {
    "duration": 15,
    "start_time": "2023-02-08T02:49:22.872Z"
   },
   {
    "duration": 17,
    "start_time": "2023-02-08T02:49:22.893Z"
   },
   {
    "duration": 705,
    "start_time": "2023-02-08T02:49:22.912Z"
   },
   {
    "duration": 7,
    "start_time": "2023-02-08T02:49:23.619Z"
   },
   {
    "duration": 63,
    "start_time": "2023-02-08T02:49:23.628Z"
   },
   {
    "duration": 7,
    "start_time": "2023-02-08T02:49:23.693Z"
   },
   {
    "duration": 13,
    "start_time": "2023-02-08T02:49:23.701Z"
   },
   {
    "duration": 12,
    "start_time": "2023-02-08T02:51:06.951Z"
   },
   {
    "duration": 1249,
    "start_time": "2023-02-09T07:41:54.182Z"
   },
   {
    "duration": 2,
    "start_time": "2023-02-09T07:41:55.433Z"
   },
   {
    "duration": 14,
    "start_time": "2023-02-09T07:41:55.437Z"
   },
   {
    "duration": 198,
    "start_time": "2023-02-09T07:41:55.453Z"
   },
   {
    "duration": 12,
    "start_time": "2023-02-09T07:41:55.653Z"
   },
   {
    "duration": 2581,
    "start_time": "2023-02-09T07:41:55.667Z"
   },
   {
    "duration": 4,
    "start_time": "2023-02-09T07:41:58.250Z"
   },
   {
    "duration": 20,
    "start_time": "2023-02-09T07:41:58.255Z"
   },
   {
    "duration": 9,
    "start_time": "2023-02-09T07:41:58.276Z"
   },
   {
    "duration": 43,
    "start_time": "2023-02-09T07:41:58.287Z"
   },
   {
    "duration": 23,
    "start_time": "2023-02-09T07:41:58.332Z"
   },
   {
    "duration": 6,
    "start_time": "2023-02-09T07:41:58.357Z"
   },
   {
    "duration": 6,
    "start_time": "2023-02-09T07:41:58.365Z"
   },
   {
    "duration": 8,
    "start_time": "2023-02-09T07:41:58.373Z"
   },
   {
    "duration": 40,
    "start_time": "2023-02-09T07:41:58.382Z"
   },
   {
    "duration": 14,
    "start_time": "2023-02-09T07:41:58.424Z"
   },
   {
    "duration": 22,
    "start_time": "2023-02-09T07:41:58.440Z"
   },
   {
    "duration": 26,
    "start_time": "2023-02-09T07:41:58.463Z"
   },
   {
    "duration": 41,
    "start_time": "2023-02-09T07:41:58.491Z"
   },
   {
    "duration": 19,
    "start_time": "2023-02-09T07:41:58.534Z"
   },
   {
    "duration": 14,
    "start_time": "2023-02-09T07:41:58.555Z"
   },
   {
    "duration": 14,
    "start_time": "2023-02-09T07:41:58.570Z"
   },
   {
    "duration": 35,
    "start_time": "2023-02-09T07:41:58.585Z"
   },
   {
    "duration": 20,
    "start_time": "2023-02-09T07:41:58.622Z"
   },
   {
    "duration": 21,
    "start_time": "2023-02-09T07:41:58.644Z"
   },
   {
    "duration": 20,
    "start_time": "2023-02-09T07:41:58.667Z"
   },
   {
    "duration": 37,
    "start_time": "2023-02-09T07:41:58.688Z"
   },
   {
    "duration": 19,
    "start_time": "2023-02-09T07:41:58.729Z"
   },
   {
    "duration": 31,
    "start_time": "2023-02-09T07:41:58.749Z"
   },
   {
    "duration": 14,
    "start_time": "2023-02-09T07:41:58.781Z"
   },
   {
    "duration": 27,
    "start_time": "2023-02-09T07:41:58.797Z"
   },
   {
    "duration": 9,
    "start_time": "2023-02-09T07:41:58.826Z"
   },
   {
    "duration": 12,
    "start_time": "2023-02-09T07:41:58.836Z"
   },
   {
    "duration": 14,
    "start_time": "2023-02-09T07:41:58.850Z"
   },
   {
    "duration": 18,
    "start_time": "2023-02-09T07:41:58.865Z"
   },
   {
    "duration": 361,
    "start_time": "2023-02-09T07:41:58.885Z"
   },
   {
    "duration": 3,
    "start_time": "2023-02-09T07:41:59.248Z"
   },
   {
    "duration": 15,
    "start_time": "2023-02-09T07:41:59.252Z"
   },
   {
    "duration": 42765,
    "start_time": "2023-02-09T07:41:59.268Z"
   },
   {
    "duration": 3,
    "start_time": "2023-02-09T07:42:42.035Z"
   },
   {
    "duration": 23,
    "start_time": "2023-02-09T07:42:42.039Z"
   },
   {
    "duration": 2638,
    "start_time": "2023-02-09T07:42:42.063Z"
   },
   {
    "duration": 3,
    "start_time": "2023-02-09T07:42:44.706Z"
   },
   {
    "duration": 111,
    "start_time": "2023-02-09T07:42:44.711Z"
   },
   {
    "duration": 350,
    "start_time": "2023-02-09T07:42:44.823Z"
   },
   {
    "duration": 4,
    "start_time": "2023-02-09T07:42:45.179Z"
   },
   {
    "duration": 39,
    "start_time": "2023-02-09T07:42:45.185Z"
   },
   {
    "duration": 41046,
    "start_time": "2023-02-09T07:42:45.225Z"
   },
   {
    "duration": 3,
    "start_time": "2023-02-09T07:43:26.274Z"
   },
   {
    "duration": 15,
    "start_time": "2023-02-09T07:43:26.279Z"
   },
   {
    "duration": 2906,
    "start_time": "2023-02-09T07:43:26.296Z"
   },
   {
    "duration": 85,
    "start_time": "2023-02-09T07:43:29.206Z"
   },
   {
    "duration": 31,
    "start_time": "2023-02-09T07:43:29.293Z"
   },
   {
    "duration": 26,
    "start_time": "2023-02-09T07:43:29.326Z"
   },
   {
    "duration": 14,
    "start_time": "2023-02-09T07:43:29.357Z"
   },
   {
    "duration": 18,
    "start_time": "2023-02-09T07:43:29.373Z"
   },
   {
    "duration": 32,
    "start_time": "2023-02-09T07:43:29.393Z"
   },
   {
    "duration": 403,
    "start_time": "2023-02-09T07:43:29.427Z"
   },
   {
    "duration": 3,
    "start_time": "2023-02-09T07:43:29.832Z"
   },
   {
    "duration": 23,
    "start_time": "2023-02-09T07:43:29.837Z"
   },
   {
    "duration": 56091,
    "start_time": "2023-02-09T07:43:29.861Z"
   },
   {
    "duration": 3,
    "start_time": "2023-02-09T07:44:25.954Z"
   },
   {
    "duration": 10,
    "start_time": "2023-02-09T07:44:25.958Z"
   },
   {
    "duration": 3336,
    "start_time": "2023-02-09T07:44:25.969Z"
   },
   {
    "duration": 5,
    "start_time": "2023-02-09T07:44:29.393Z"
   },
   {
    "duration": 99,
    "start_time": "2023-02-09T07:44:29.400Z"
   },
   {
    "duration": 5,
    "start_time": "2023-02-09T07:44:29.501Z"
   },
   {
    "duration": 13,
    "start_time": "2023-02-09T07:44:29.508Z"
   },
   {
    "duration": 3,
    "start_time": "2023-02-09T07:44:29.523Z"
   },
   {
    "duration": 165,
    "start_time": "2023-02-09T07:44:29.527Z"
   },
   {
    "duration": 3,
    "start_time": "2023-02-09T07:44:29.694Z"
   },
   {
    "duration": 11,
    "start_time": "2023-02-09T07:44:29.698Z"
   },
   {
    "duration": 23553,
    "start_time": "2023-02-09T07:44:29.710Z"
   },
   {
    "duration": 3,
    "start_time": "2023-02-09T07:44:53.266Z"
   },
   {
    "duration": 28,
    "start_time": "2023-02-09T07:44:53.271Z"
   },
   {
    "duration": 2005,
    "start_time": "2023-02-09T07:44:53.301Z"
   },
   {
    "duration": 6,
    "start_time": "2023-02-09T07:44:55.398Z"
   },
   {
    "duration": 96,
    "start_time": "2023-02-09T07:44:55.407Z"
   },
   {
    "duration": 33,
    "start_time": "2023-02-09T07:44:55.505Z"
   },
   {
    "duration": 21,
    "start_time": "2023-02-09T07:44:55.540Z"
   },
   {
    "duration": 15,
    "start_time": "2023-02-09T07:44:55.563Z"
   },
   {
    "duration": 12,
    "start_time": "2023-02-09T07:44:55.583Z"
   },
   {
    "duration": 505,
    "start_time": "2023-02-09T07:44:55.596Z"
   },
   {
    "duration": 5,
    "start_time": "2023-02-09T07:44:56.103Z"
   },
   {
    "duration": 50,
    "start_time": "2023-02-09T07:44:56.110Z"
   },
   {
    "duration": 4,
    "start_time": "2023-02-09T07:44:56.162Z"
   },
   {
    "duration": 20,
    "start_time": "2023-02-09T07:44:56.168Z"
   },
   {
    "duration": 12,
    "start_time": "2023-02-09T07:45:35.680Z"
   },
   {
    "duration": 10,
    "start_time": "2023-02-09T08:04:15.366Z"
   },
   {
    "duration": 12,
    "start_time": "2023-02-09T08:04:26.358Z"
   },
   {
    "duration": 11,
    "start_time": "2023-02-09T08:05:28.659Z"
   },
   {
    "duration": 9,
    "start_time": "2023-02-09T08:05:32.271Z"
   },
   {
    "duration": 9,
    "start_time": "2023-02-09T08:05:37.066Z"
   },
   {
    "duration": 9,
    "start_time": "2023-02-09T08:06:18.377Z"
   },
   {
    "duration": 9,
    "start_time": "2023-02-09T08:09:00.919Z"
   },
   {
    "duration": 4,
    "start_time": "2023-02-09T08:17:36.671Z"
   },
   {
    "duration": 7,
    "start_time": "2023-02-09T08:19:07.677Z"
   },
   {
    "duration": 6,
    "start_time": "2023-02-09T08:19:57.882Z"
   },
   {
    "duration": 9,
    "start_time": "2023-02-09T08:20:01.014Z"
   },
   {
    "duration": 63,
    "start_time": "2023-02-09T08:20:12.893Z"
   },
   {
    "duration": 6,
    "start_time": "2023-02-09T08:20:19.736Z"
   },
   {
    "duration": 21,
    "start_time": "2023-02-09T08:20:28.678Z"
   },
   {
    "duration": 7,
    "start_time": "2023-02-09T08:20:31.854Z"
   },
   {
    "duration": 6,
    "start_time": "2023-02-09T08:20:37.116Z"
   },
   {
    "duration": 6,
    "start_time": "2023-02-09T08:20:40.822Z"
   },
   {
    "duration": 9,
    "start_time": "2023-02-09T08:38:53.360Z"
   },
   {
    "duration": 10,
    "start_time": "2023-02-09T08:39:09.908Z"
   },
   {
    "duration": 8,
    "start_time": "2023-02-09T08:39:12.466Z"
   },
   {
    "duration": 1136,
    "start_time": "2023-02-09T08:55:26.730Z"
   },
   {
    "duration": 3,
    "start_time": "2023-02-09T08:55:27.869Z"
   },
   {
    "duration": 9,
    "start_time": "2023-02-09T08:55:27.874Z"
   },
   {
    "duration": 88,
    "start_time": "2023-02-09T08:55:27.885Z"
   },
   {
    "duration": 14,
    "start_time": "2023-02-09T08:55:27.976Z"
   },
   {
    "duration": 2445,
    "start_time": "2023-02-09T08:55:27.991Z"
   },
   {
    "duration": 5,
    "start_time": "2023-02-09T08:55:30.439Z"
   },
   {
    "duration": 20,
    "start_time": "2023-02-09T08:55:30.446Z"
   },
   {
    "duration": 36,
    "start_time": "2023-02-09T08:55:30.468Z"
   },
   {
    "duration": 39,
    "start_time": "2023-02-09T08:55:30.506Z"
   },
   {
    "duration": 44,
    "start_time": "2023-02-09T08:55:30.547Z"
   },
   {
    "duration": 24,
    "start_time": "2023-02-09T08:55:30.593Z"
   },
   {
    "duration": 30,
    "start_time": "2023-02-09T08:55:30.619Z"
   },
   {
    "duration": 46,
    "start_time": "2023-02-09T08:55:30.654Z"
   },
   {
    "duration": 37,
    "start_time": "2023-02-09T08:55:30.702Z"
   },
   {
    "duration": 41,
    "start_time": "2023-02-09T08:55:30.741Z"
   },
   {
    "duration": 34,
    "start_time": "2023-02-09T08:55:30.783Z"
   },
   {
    "duration": 40,
    "start_time": "2023-02-09T08:55:30.819Z"
   },
   {
    "duration": 37,
    "start_time": "2023-02-09T08:55:30.861Z"
   },
   {
    "duration": 45,
    "start_time": "2023-02-09T08:55:30.900Z"
   },
   {
    "duration": 16,
    "start_time": "2023-02-09T08:55:30.947Z"
   },
   {
    "duration": 43,
    "start_time": "2023-02-09T08:55:30.965Z"
   },
   {
    "duration": 44,
    "start_time": "2023-02-09T08:55:31.011Z"
   },
   {
    "duration": 23,
    "start_time": "2023-02-09T08:55:31.057Z"
   },
   {
    "duration": 39,
    "start_time": "2023-02-09T08:55:31.082Z"
   },
   {
    "duration": 34,
    "start_time": "2023-02-09T08:55:31.123Z"
   },
   {
    "duration": 26,
    "start_time": "2023-02-09T08:55:31.159Z"
   },
   {
    "duration": 63,
    "start_time": "2023-02-09T08:55:31.187Z"
   },
   {
    "duration": 70,
    "start_time": "2023-02-09T08:55:31.253Z"
   },
   {
    "duration": 15,
    "start_time": "2023-02-09T08:55:31.325Z"
   },
   {
    "duration": 32,
    "start_time": "2023-02-09T08:55:31.342Z"
   },
   {
    "duration": 48,
    "start_time": "2023-02-09T08:55:31.376Z"
   },
   {
    "duration": 48,
    "start_time": "2023-02-09T08:55:31.427Z"
   },
   {
    "duration": 52,
    "start_time": "2023-02-09T08:55:31.477Z"
   },
   {
    "duration": 37,
    "start_time": "2023-02-09T08:55:31.531Z"
   },
   {
    "duration": 457,
    "start_time": "2023-02-09T08:55:31.571Z"
   },
   {
    "duration": 4,
    "start_time": "2023-02-09T08:55:32.030Z"
   },
   {
    "duration": 101,
    "start_time": "2023-02-09T08:55:32.036Z"
   },
   {
    "duration": 42931,
    "start_time": "2023-02-09T08:55:32.139Z"
   },
   {
    "duration": 3,
    "start_time": "2023-02-09T08:56:15.073Z"
   },
   {
    "duration": 11,
    "start_time": "2023-02-09T08:56:15.082Z"
   },
   {
    "duration": 2104,
    "start_time": "2023-02-09T08:56:15.095Z"
   },
   {
    "duration": 3,
    "start_time": "2023-02-09T08:56:17.200Z"
   },
   {
    "duration": 192,
    "start_time": "2023-02-09T08:56:17.205Z"
   },
   {
    "duration": 340,
    "start_time": "2023-02-09T08:56:17.399Z"
   },
   {
    "duration": 4,
    "start_time": "2023-02-09T08:56:17.742Z"
   },
   {
    "duration": 7,
    "start_time": "2023-02-09T08:56:17.747Z"
   },
   {
    "duration": 41769,
    "start_time": "2023-02-09T08:56:17.756Z"
   },
   {
    "duration": 3,
    "start_time": "2023-02-09T08:56:59.527Z"
   },
   {
    "duration": 10,
    "start_time": "2023-02-09T08:56:59.532Z"
   },
   {
    "duration": 1759,
    "start_time": "2023-02-09T08:56:59.544Z"
   },
   {
    "duration": 4,
    "start_time": "2023-02-09T08:57:01.308Z"
   },
   {
    "duration": 83,
    "start_time": "2023-02-09T08:57:01.314Z"
   },
   {
    "duration": 127,
    "start_time": "2023-02-09T08:57:01.403Z"
   },
   {
    "duration": 41,
    "start_time": "2023-02-09T08:57:01.533Z"
   },
   {
    "duration": 45,
    "start_time": "2023-02-09T08:57:01.575Z"
   },
   {
    "duration": 21,
    "start_time": "2023-02-09T08:57:01.622Z"
   },
   {
    "duration": 453,
    "start_time": "2023-02-09T08:57:01.645Z"
   },
   {
    "duration": 5,
    "start_time": "2023-02-09T08:57:02.102Z"
   },
   {
    "duration": 50,
    "start_time": "2023-02-09T08:57:02.109Z"
   },
   {
    "duration": 58404,
    "start_time": "2023-02-09T08:57:02.161Z"
   },
   {
    "duration": 3,
    "start_time": "2023-02-09T08:58:00.567Z"
   },
   {
    "duration": 20,
    "start_time": "2023-02-09T08:58:00.572Z"
   },
   {
    "duration": 3098,
    "start_time": "2023-02-09T08:58:00.594Z"
   },
   {
    "duration": 6,
    "start_time": "2023-02-09T08:58:03.694Z"
   },
   {
    "duration": 102,
    "start_time": "2023-02-09T08:58:03.704Z"
   },
   {
    "duration": 11,
    "start_time": "2023-02-09T08:58:03.808Z"
   },
   {
    "duration": 23,
    "start_time": "2023-02-09T08:58:03.821Z"
   },
   {
    "duration": 7,
    "start_time": "2023-02-09T08:58:03.845Z"
   },
   {
    "duration": 174,
    "start_time": "2023-02-09T08:58:03.853Z"
   },
   {
    "duration": 3,
    "start_time": "2023-02-09T08:58:04.028Z"
   },
   {
    "duration": 22,
    "start_time": "2023-02-09T08:58:04.032Z"
   },
   {
    "duration": 25212,
    "start_time": "2023-02-09T08:58:04.056Z"
   },
   {
    "duration": 3,
    "start_time": "2023-02-09T08:58:29.271Z"
   },
   {
    "duration": 17,
    "start_time": "2023-02-09T08:58:29.276Z"
   },
   {
    "duration": 1836,
    "start_time": "2023-02-09T08:58:29.295Z"
   },
   {
    "duration": 68,
    "start_time": "2023-02-09T08:58:31.132Z"
   },
   {
    "duration": 102,
    "start_time": "2023-02-09T08:58:31.204Z"
   },
   {
    "duration": 41,
    "start_time": "2023-02-09T08:58:31.313Z"
   },
   {
    "duration": 48,
    "start_time": "2023-02-09T08:58:31.356Z"
   },
   {
    "duration": 44,
    "start_time": "2023-02-09T08:58:31.406Z"
   },
   {
    "duration": 30,
    "start_time": "2023-02-09T08:58:31.452Z"
   },
   {
    "duration": 594,
    "start_time": "2023-02-09T08:58:31.484Z"
   },
   {
    "duration": 6,
    "start_time": "2023-02-09T08:58:32.080Z"
   },
   {
    "duration": 73,
    "start_time": "2023-02-09T08:58:32.092Z"
   },
   {
    "duration": 6,
    "start_time": "2023-02-09T08:58:32.168Z"
   },
   {
    "duration": 13,
    "start_time": "2023-02-09T08:58:32.176Z"
   },
   {
    "duration": 37,
    "start_time": "2023-02-09T08:58:32.191Z"
   }
  ],
  "kernelspec": {
   "display_name": "Python 3 (ipykernel)",
   "language": "python",
   "name": "python3"
  },
  "language_info": {
   "codemirror_mode": {
    "name": "ipython",
    "version": 3
   },
   "file_extension": ".py",
   "mimetype": "text/x-python",
   "name": "python",
   "nbconvert_exporter": "python",
   "pygments_lexer": "ipython3",
   "version": "3.9.13"
  },
  "toc": {
   "base_numbering": 1,
   "nav_menu": {},
   "number_sections": true,
   "sideBar": true,
   "skip_h1_title": true,
   "title_cell": "Содержание",
   "title_sidebar": "Contents",
   "toc_cell": true,
   "toc_position": {
    "height": "calc(100% - 180px)",
    "left": "10px",
    "top": "150px",
    "width": "267.797px"
   },
   "toc_section_display": true,
   "toc_window_display": false
  }
 },
 "nbformat": 4,
 "nbformat_minor": 2
}
