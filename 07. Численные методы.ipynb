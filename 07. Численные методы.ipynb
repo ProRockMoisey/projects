{
 "cells": [
  {
   "cell_type": "markdown",
   "metadata": {},
   "source": [
    "# Определение стоимости автомобилей"
   ]
  },
  {
   "cell_type": "markdown",
   "metadata": {},
   "source": [
    "Сервис по продаже автомобилей с пробегом «Не бит, не крашен» разрабатывает приложение для привлечения новых клиентов. В нём можно быстро узнать рыночную стоимость своего автомобиля. В вашем распоряжении исторические данные: технические характеристики, комплектации и цены автомобилей. Вам нужно построить модель для определения стоимости. \n",
    "\n",
    "Заказчику важны:\n",
    "\n",
    "- качество предсказания;\n",
    "- скорость предсказания;\n",
    "- время обучения."
   ]
  },
  {
   "cell_type": "markdown",
   "metadata": {},
   "source": [
    "## Подготовка данных"
   ]
  },
  {
   "cell_type": "code",
   "execution_count": 1,
   "metadata": {},
   "outputs": [],
   "source": [
    "import pandas as pd\n",
    "import matplotlib.pyplot as plt\n",
    "import seaborn as sns\n",
    "import re"
   ]
  },
  {
   "cell_type": "code",
   "execution_count": 2,
   "metadata": {},
   "outputs": [],
   "source": [
    "from sklearn.preprocessing import OrdinalEncoder, StandardScaler\n",
    "from sklearn.model_selection import train_test_split, GridSearchCV, cross_val_score"
   ]
  },
  {
   "cell_type": "code",
   "execution_count": 3,
   "metadata": {},
   "outputs": [],
   "source": [
    "from sklearn.metrics import mean_squared_error, make_scorer"
   ]
  },
  {
   "cell_type": "code",
   "execution_count": 4,
   "metadata": {},
   "outputs": [],
   "source": [
    "from sklearn.ensemble import RandomForestRegressor\n",
    "from sklearn.linear_model import LinearRegression\n",
    "from catboost import CatBoostRegressor\n",
    "from lightgbm import LGBMRegressor"
   ]
  },
  {
   "cell_type": "code",
   "execution_count": 5,
   "metadata": {},
   "outputs": [],
   "source": [
    "import time\n",
    "import warnings\n",
    "warnings.filterwarnings('ignore')"
   ]
  },
  {
   "cell_type": "code",
   "execution_count": 6,
   "metadata": {},
   "outputs": [
    {
     "data": {
      "text/html": [
       "<div>\n",
       "<style scoped>\n",
       "    .dataframe tbody tr th:only-of-type {\n",
       "        vertical-align: middle;\n",
       "    }\n",
       "\n",
       "    .dataframe tbody tr th {\n",
       "        vertical-align: top;\n",
       "    }\n",
       "\n",
       "    .dataframe thead th {\n",
       "        text-align: right;\n",
       "    }\n",
       "</style>\n",
       "<table border=\"1\" class=\"dataframe\">\n",
       "  <thead>\n",
       "    <tr style=\"text-align: right;\">\n",
       "      <th></th>\n",
       "      <th>DateCrawled</th>\n",
       "      <th>Price</th>\n",
       "      <th>VehicleType</th>\n",
       "      <th>RegistrationYear</th>\n",
       "      <th>Gearbox</th>\n",
       "      <th>Power</th>\n",
       "      <th>Model</th>\n",
       "      <th>Kilometer</th>\n",
       "      <th>RegistrationMonth</th>\n",
       "      <th>FuelType</th>\n",
       "      <th>Brand</th>\n",
       "      <th>Repaired</th>\n",
       "      <th>DateCreated</th>\n",
       "      <th>NumberOfPictures</th>\n",
       "      <th>PostalCode</th>\n",
       "      <th>LastSeen</th>\n",
       "    </tr>\n",
       "  </thead>\n",
       "  <tbody>\n",
       "    <tr>\n",
       "      <th>0</th>\n",
       "      <td>2016-03-24 11:52:17</td>\n",
       "      <td>480</td>\n",
       "      <td>NaN</td>\n",
       "      <td>1993</td>\n",
       "      <td>manual</td>\n",
       "      <td>0</td>\n",
       "      <td>golf</td>\n",
       "      <td>150000</td>\n",
       "      <td>0</td>\n",
       "      <td>petrol</td>\n",
       "      <td>volkswagen</td>\n",
       "      <td>NaN</td>\n",
       "      <td>2016-03-24 00:00:00</td>\n",
       "      <td>0</td>\n",
       "      <td>70435</td>\n",
       "      <td>2016-04-07 03:16:57</td>\n",
       "    </tr>\n",
       "    <tr>\n",
       "      <th>1</th>\n",
       "      <td>2016-03-24 10:58:45</td>\n",
       "      <td>18300</td>\n",
       "      <td>coupe</td>\n",
       "      <td>2011</td>\n",
       "      <td>manual</td>\n",
       "      <td>190</td>\n",
       "      <td>NaN</td>\n",
       "      <td>125000</td>\n",
       "      <td>5</td>\n",
       "      <td>gasoline</td>\n",
       "      <td>audi</td>\n",
       "      <td>yes</td>\n",
       "      <td>2016-03-24 00:00:00</td>\n",
       "      <td>0</td>\n",
       "      <td>66954</td>\n",
       "      <td>2016-04-07 01:46:50</td>\n",
       "    </tr>\n",
       "    <tr>\n",
       "      <th>2</th>\n",
       "      <td>2016-03-14 12:52:21</td>\n",
       "      <td>9800</td>\n",
       "      <td>suv</td>\n",
       "      <td>2004</td>\n",
       "      <td>auto</td>\n",
       "      <td>163</td>\n",
       "      <td>grand</td>\n",
       "      <td>125000</td>\n",
       "      <td>8</td>\n",
       "      <td>gasoline</td>\n",
       "      <td>jeep</td>\n",
       "      <td>NaN</td>\n",
       "      <td>2016-03-14 00:00:00</td>\n",
       "      <td>0</td>\n",
       "      <td>90480</td>\n",
       "      <td>2016-04-05 12:47:46</td>\n",
       "    </tr>\n",
       "    <tr>\n",
       "      <th>3</th>\n",
       "      <td>2016-03-17 16:54:04</td>\n",
       "      <td>1500</td>\n",
       "      <td>small</td>\n",
       "      <td>2001</td>\n",
       "      <td>manual</td>\n",
       "      <td>75</td>\n",
       "      <td>golf</td>\n",
       "      <td>150000</td>\n",
       "      <td>6</td>\n",
       "      <td>petrol</td>\n",
       "      <td>volkswagen</td>\n",
       "      <td>no</td>\n",
       "      <td>2016-03-17 00:00:00</td>\n",
       "      <td>0</td>\n",
       "      <td>91074</td>\n",
       "      <td>2016-03-17 17:40:17</td>\n",
       "    </tr>\n",
       "    <tr>\n",
       "      <th>4</th>\n",
       "      <td>2016-03-31 17:25:20</td>\n",
       "      <td>3600</td>\n",
       "      <td>small</td>\n",
       "      <td>2008</td>\n",
       "      <td>manual</td>\n",
       "      <td>69</td>\n",
       "      <td>fabia</td>\n",
       "      <td>90000</td>\n",
       "      <td>7</td>\n",
       "      <td>gasoline</td>\n",
       "      <td>skoda</td>\n",
       "      <td>no</td>\n",
       "      <td>2016-03-31 00:00:00</td>\n",
       "      <td>0</td>\n",
       "      <td>60437</td>\n",
       "      <td>2016-04-06 10:17:21</td>\n",
       "    </tr>\n",
       "  </tbody>\n",
       "</table>\n",
       "</div>"
      ],
      "text/plain": [
       "           DateCrawled  Price VehicleType  RegistrationYear Gearbox  Power  \\\n",
       "0  2016-03-24 11:52:17    480         NaN              1993  manual      0   \n",
       "1  2016-03-24 10:58:45  18300       coupe              2011  manual    190   \n",
       "2  2016-03-14 12:52:21   9800         suv              2004    auto    163   \n",
       "3  2016-03-17 16:54:04   1500       small              2001  manual     75   \n",
       "4  2016-03-31 17:25:20   3600       small              2008  manual     69   \n",
       "\n",
       "   Model  Kilometer  RegistrationMonth  FuelType       Brand Repaired  \\\n",
       "0   golf     150000                  0    petrol  volkswagen      NaN   \n",
       "1    NaN     125000                  5  gasoline        audi      yes   \n",
       "2  grand     125000                  8  gasoline        jeep      NaN   \n",
       "3   golf     150000                  6    petrol  volkswagen       no   \n",
       "4  fabia      90000                  7  gasoline       skoda       no   \n",
       "\n",
       "           DateCreated  NumberOfPictures  PostalCode             LastSeen  \n",
       "0  2016-03-24 00:00:00                 0       70435  2016-04-07 03:16:57  \n",
       "1  2016-03-24 00:00:00                 0       66954  2016-04-07 01:46:50  \n",
       "2  2016-03-14 00:00:00                 0       90480  2016-04-05 12:47:46  \n",
       "3  2016-03-17 00:00:00                 0       91074  2016-03-17 17:40:17  \n",
       "4  2016-03-31 00:00:00                 0       60437  2016-04-06 10:17:21  "
      ]
     },
     "execution_count": 6,
     "metadata": {},
     "output_type": "execute_result"
    }
   ],
   "source": [
    "df = pd.read_csv('/datasets/autos.csv', encoding='utf-8')\n",
    "df.head()"
   ]
  },
  {
   "cell_type": "code",
   "execution_count": 7,
   "metadata": {},
   "outputs": [
    {
     "name": "stdout",
     "output_type": "stream",
     "text": [
      "<class 'pandas.core.frame.DataFrame'>\n",
      "RangeIndex: 354369 entries, 0 to 354368\n",
      "Data columns (total 16 columns):\n",
      " #   Column             Non-Null Count   Dtype \n",
      "---  ------             --------------   ----- \n",
      " 0   DateCrawled        354369 non-null  object\n",
      " 1   Price              354369 non-null  int64 \n",
      " 2   VehicleType        316879 non-null  object\n",
      " 3   RegistrationYear   354369 non-null  int64 \n",
      " 4   Gearbox            334536 non-null  object\n",
      " 5   Power              354369 non-null  int64 \n",
      " 6   Model              334664 non-null  object\n",
      " 7   Kilometer          354369 non-null  int64 \n",
      " 8   RegistrationMonth  354369 non-null  int64 \n",
      " 9   FuelType           321474 non-null  object\n",
      " 10  Brand              354369 non-null  object\n",
      " 11  Repaired           283215 non-null  object\n",
      " 12  DateCreated        354369 non-null  object\n",
      " 13  NumberOfPictures   354369 non-null  int64 \n",
      " 14  PostalCode         354369 non-null  int64 \n",
      " 15  LastSeen           354369 non-null  object\n",
      "dtypes: int64(7), object(9)\n",
      "memory usage: 43.3+ MB\n"
     ]
    }
   ],
   "source": [
    "df.info()"
   ]
  },
  {
   "cell_type": "markdown",
   "metadata": {},
   "source": [
    "### Вывод."
   ]
  },
  {
   "cell_type": "markdown",
   "metadata": {},
   "source": [
    "- Первое, что бросается в глаза - наименования столбцов написаны не в той нотации, нужно будет привести к правильной;\n",
    "- Столбцы `DateCrawled`, `DateCreated` и `LastSeen` имеют неправильный тип данных, имеет смысл преобразовать к типу `DateTime`;\n",
    "- В столбцах `VehicleType`, `Gearbox`, `Model`, `FuelType` и `Repaired` имеются пропуски в данных, необходимо будет их обработать."
   ]
  },
  {
   "cell_type": "markdown",
   "metadata": {},
   "source": [
    "### Переименование столбцов."
   ]
  },
  {
   "cell_type": "code",
   "execution_count": 8,
   "metadata": {},
   "outputs": [
    {
     "data": {
      "text/plain": [
       "Index(['date_crawled', 'price', 'vehicle_type', 'registration_year', 'gearbox',\n",
       "       'power', 'model', 'kilometer', 'registration_month', 'fuel_type',\n",
       "       'brand', 'repaired', 'date_created', 'number_of_pictures',\n",
       "       'postal_code', 'last_seen'],\n",
       "      dtype='object')"
      ]
     },
     "execution_count": 8,
     "metadata": {},
     "output_type": "execute_result"
    }
   ],
   "source": [
    "df.columns = [re.sub(r'(?<!^)(?=[A-Z])', '_', i).lower() for i in df.columns]\n",
    "df.columns"
   ]
  },
  {
   "cell_type": "markdown",
   "metadata": {},
   "source": [
    "### Столбцы 'date_crawled', 'date_created' и 'last_seen'."
   ]
  },
  {
   "cell_type": "code",
   "execution_count": 9,
   "metadata": {},
   "outputs": [],
   "source": [
    "df['date_crawled'] = pd.to_datetime(df['date_crawled'], format='%Y-%m-%d %H:%M:%S')\n",
    "df['date_created'] = pd.to_datetime(df['date_created'], format='%Y-%m-%d %H:%M:%S')\n",
    "df['last_seen'] = pd.to_datetime(df['last_seen'], format='%Y-%m-%d %H:%M:%S')"
   ]
  },
  {
   "cell_type": "markdown",
   "metadata": {},
   "source": [
    "### Столбец 'price'."
   ]
  },
  {
   "cell_type": "code",
   "execution_count": 10,
   "metadata": {},
   "outputs": [
    {
     "data": {
      "image/png": "[encoded data removed]",
      "text/plain": [
       "<Figure size 1080x504 with 1 Axes>"
      ]
     },
     "metadata": {},
     "output_type": "display_data"
    }
   ],
   "source": [
    "sns.set_style('darkgrid')\n",
    "df['price'].hist(bins=50, figsize=(15, 7))\n",
    "plt.title('График распределения стоимости автомобилей.')\n",
    "plt.xlabel('Стоимость, евро')\n",
    "plt.ylabel('Количество')\n",
    "plt.show()"
   ]
  },
  {
   "cell_type": "code",
   "execution_count": 11,
   "metadata": {},
   "outputs": [
    {
     "data": {
      "text/plain": [
       "count    354369.000000\n",
       "mean       4416.656776\n",
       "std        4514.158514\n",
       "min           0.000000\n",
       "25%        1050.000000\n",
       "50%        2700.000000\n",
       "75%        6400.000000\n",
       "max       20000.000000\n",
       "Name: price, dtype: float64"
      ]
     },
     "execution_count": 11,
     "metadata": {},
     "output_type": "execute_result"
    }
   ],
   "source": [
    "df['price'].describe()"
   ]
  },
  {
   "cell_type": "code",
   "execution_count": 12,
   "metadata": {},
   "outputs": [
    {
     "data": {
      "text/plain": [
       "10772"
      ]
     },
     "execution_count": 12,
     "metadata": {},
     "output_type": "execute_result"
    }
   ],
   "source": [
    "df.query('price == 0')['price'].count()"
   ]
  },
  {
   "cell_type": "markdown",
   "metadata": {},
   "source": [
    "Значения, равные нулю нам мало интересны. Скорее всего это либо автомобили для равноценного обмена, либо под разбор. От таких данных лучше избавиться."
   ]
  },
  {
   "cell_type": "code",
   "execution_count": 13,
   "metadata": {},
   "outputs": [],
   "source": [
    "df = df.query('price != 0')"
   ]
  },
  {
   "cell_type": "code",
   "execution_count": 14,
   "metadata": {},
   "outputs": [
    {
     "data": {
      "text/plain": [
       "0"
      ]
     },
     "execution_count": 14,
     "metadata": {},
     "output_type": "execute_result"
    }
   ],
   "source": [
    "df.query('price == 0')['price'].count()"
   ]
  },
  {
   "cell_type": "markdown",
   "metadata": {},
   "source": [
    "### Столбец 'vehicle_type'."
   ]
  },
  {
   "cell_type": "code",
   "execution_count": 15,
   "metadata": {},
   "outputs": [
    {
     "data": {
      "text/plain": [
       "array([nan, 'coupe', 'suv', 'small', 'sedan', 'convertible', 'bus',\n",
       "       'wagon', 'other'], dtype=object)"
      ]
     },
     "execution_count": 15,
     "metadata": {},
     "output_type": "execute_result"
    }
   ],
   "source": [
    "df['vehicle_type'].unique()"
   ]
  },
  {
   "cell_type": "code",
   "execution_count": 16,
   "metadata": {},
   "outputs": [
    {
     "data": {
      "text/plain": [
       "33750"
      ]
     },
     "execution_count": 16,
     "metadata": {},
     "output_type": "execute_result"
    }
   ],
   "source": [
    "df['vehicle_type'].isna().sum()"
   ]
  },
  {
   "cell_type": "markdown",
   "metadata": {},
   "source": [
    "Если удалить такое количество данных, мы можем потерять ценные данные в других столбцах. Можно заполнить пропуски значением `unknown`."
   ]
  },
  {
   "cell_type": "code",
   "execution_count": 17,
   "metadata": {},
   "outputs": [],
   "source": [
    "df['vehicle_type'].fillna('unknown', inplace=True)"
   ]
  },
  {
   "cell_type": "code",
   "execution_count": 18,
   "metadata": {},
   "outputs": [
    {
     "data": {
      "text/plain": [
       "0"
      ]
     },
     "execution_count": 18,
     "metadata": {},
     "output_type": "execute_result"
    }
   ],
   "source": [
    "df['vehicle_type'].isna().sum()"
   ]
  },
  {
   "cell_type": "markdown",
   "metadata": {},
   "source": [
    "### Столбец 'registration_year'."
   ]
  },
  {
   "cell_type": "code",
   "execution_count": 19,
   "metadata": {},
   "outputs": [
    {
     "data": {
      "text/plain": [
       "[1000,\n",
       " 1001,\n",
       " 1039,\n",
       " 1111,\n",
       " 1234,\n",
       " 1255,\n",
       " 1300,\n",
       " 1400,\n",
       " 1500,\n",
       " 1600,\n",
       " 1602,\n",
       " 1800,\n",
       " 1910,\n",
       " 1923,\n",
       " 1925,\n",
       " 1927,\n",
       " 1928,\n",
       " 1929,\n",
       " 1930,\n",
       " 1931,\n",
       " 1932,\n",
       " 1933,\n",
       " 1934,\n",
       " 1935,\n",
       " 1936,\n",
       " 1937,\n",
       " 1938,\n",
       " 1940,\n",
       " 1941,\n",
       " 1942,\n",
       " 1943,\n",
       " 1944,\n",
       " 1945,\n",
       " 1946,\n",
       " 1947,\n",
       " 1948,\n",
       " 1949,\n",
       " 1950,\n",
       " 1951,\n",
       " 1952,\n",
       " 1953,\n",
       " 1954,\n",
       " 1955,\n",
       " 1956,\n",
       " 1957,\n",
       " 1958,\n",
       " 1959,\n",
       " 1960,\n",
       " 1961,\n",
       " 1962,\n",
       " 1963,\n",
       " 1964,\n",
       " 1965,\n",
       " 1966,\n",
       " 1967,\n",
       " 1968,\n",
       " 1969,\n",
       " 1970,\n",
       " 1971,\n",
       " 1972,\n",
       " 1973,\n",
       " 1974,\n",
       " 1975,\n",
       " 1976,\n",
       " 1977,\n",
       " 1978,\n",
       " 1979,\n",
       " 1980,\n",
       " 1981,\n",
       " 1982,\n",
       " 1983,\n",
       " 1984,\n",
       " 1985,\n",
       " 1986,\n",
       " 1987,\n",
       " 1988,\n",
       " 1989,\n",
       " 1990,\n",
       " 1991,\n",
       " 1992,\n",
       " 1993,\n",
       " 1994,\n",
       " 1995,\n",
       " 1996,\n",
       " 1997,\n",
       " 1998,\n",
       " 1999,\n",
       " 2000,\n",
       " 2001,\n",
       " 2002,\n",
       " 2003,\n",
       " 2004,\n",
       " 2005,\n",
       " 2006,\n",
       " 2007,\n",
       " 2008,\n",
       " 2009,\n",
       " 2010,\n",
       " 2011,\n",
       " 2012,\n",
       " 2013,\n",
       " 2014,\n",
       " 2015,\n",
       " 2016,\n",
       " 2017,\n",
       " 2018,\n",
       " 2019,\n",
       " 2066,\n",
       " 2200,\n",
       " 2222,\n",
       " 2290,\n",
       " 2500,\n",
       " 2800,\n",
       " 2900,\n",
       " 3000,\n",
       " 3200,\n",
       " 3700,\n",
       " 3800,\n",
       " 4000,\n",
       " 4100,\n",
       " 4500,\n",
       " 4800,\n",
       " 5000,\n",
       " 5300,\n",
       " 5555,\n",
       " 5600,\n",
       " 5900,\n",
       " 5911,\n",
       " 6000,\n",
       " 6500,\n",
       " 7000,\n",
       " 7100,\n",
       " 7800,\n",
       " 8000,\n",
       " 8200,\n",
       " 8500,\n",
       " 8888,\n",
       " 9000,\n",
       " 9450,\n",
       " 9999]"
      ]
     },
     "execution_count": 19,
     "metadata": {},
     "output_type": "execute_result"
    }
   ],
   "source": [
    "sorted(df['registration_year'].unique())"
   ]
  },
  {
   "cell_type": "code",
   "execution_count": 20,
   "metadata": {},
   "outputs": [
    {
     "data": {
      "image/png": "[encoded data removed]",
      "text/plain": [
       "<Figure size 1080x504 with 1 Axes>"
      ]
     },
     "metadata": {},
     "output_type": "display_data"
    }
   ],
   "source": [
    "pd.Series(df['registration_year'].unique()).hist(bins=100, figsize=(15, 7));"
   ]
  },
  {
   "cell_type": "markdown",
   "metadata": {},
   "source": [
    "Подавляющее большинство годов регистрации автомобилей лежит около 2000 года. Определим год выгрузки анкет из базы и отсортируем данные по этой дате. Также избавимся от совсем старых автомобилей."
   ]
  },
  {
   "cell_type": "code",
   "execution_count": 21,
   "metadata": {},
   "outputs": [
    {
     "data": {
      "text/plain": [
       "2016"
      ]
     },
     "execution_count": 21,
     "metadata": {},
     "output_type": "execute_result"
    }
   ],
   "source": [
    "df['date_crawled'].max().year"
   ]
  },
  {
   "cell_type": "code",
   "execution_count": 22,
   "metadata": {},
   "outputs": [
    {
     "data": {
      "text/plain": [
       "318436"
      ]
     },
     "execution_count": 22,
     "metadata": {},
     "output_type": "execute_result"
    }
   ],
   "source": [
    "df.query('1990 < registration_year < 2017')['registration_year'].count()"
   ]
  },
  {
   "cell_type": "code",
   "execution_count": 23,
   "metadata": {},
   "outputs": [],
   "source": [
    "df = df.query('1990 < registration_year < 2017')"
   ]
  },
  {
   "cell_type": "code",
   "execution_count": 24,
   "metadata": {},
   "outputs": [
    {
     "name": "stdout",
     "output_type": "stream",
     "text": [
      "<class 'pandas.core.frame.DataFrame'>\n",
      "Int64Index: 318436 entries, 0 to 354368\n",
      "Data columns (total 16 columns):\n",
      " #   Column              Non-Null Count   Dtype         \n",
      "---  ------              --------------   -----         \n",
      " 0   date_crawled        318436 non-null  datetime64[ns]\n",
      " 1   price               318436 non-null  int64         \n",
      " 2   vehicle_type        318436 non-null  object        \n",
      " 3   registration_year   318436 non-null  int64         \n",
      " 4   gearbox             304367 non-null  object        \n",
      " 5   power               318436 non-null  int64         \n",
      " 6   model               304474 non-null  object        \n",
      " 7   kilometer           318436 non-null  int64         \n",
      " 8   registration_month  318436 non-null  int64         \n",
      " 9   fuel_type           296111 non-null  object        \n",
      " 10  brand               318436 non-null  object        \n",
      " 11  repaired            262037 non-null  object        \n",
      " 12  date_created        318436 non-null  datetime64[ns]\n",
      " 13  number_of_pictures  318436 non-null  int64         \n",
      " 14  postal_code         318436 non-null  int64         \n",
      " 15  last_seen           318436 non-null  datetime64[ns]\n",
      "dtypes: datetime64[ns](3), int64(7), object(6)\n",
      "memory usage: 41.3+ MB\n"
     ]
    }
   ],
   "source": [
    "df.info()"
   ]
  },
  {
   "cell_type": "markdown",
   "metadata": {},
   "source": [
    "### Столбец 'gearbox'."
   ]
  },
  {
   "cell_type": "code",
   "execution_count": 25,
   "metadata": {
    "scrolled": true
   },
   "outputs": [
    {
     "data": {
      "text/html": [
       "<div>\n",
       "<style scoped>\n",
       "    .dataframe tbody tr th:only-of-type {\n",
       "        vertical-align: middle;\n",
       "    }\n",
       "\n",
       "    .dataframe tbody tr th {\n",
       "        vertical-align: top;\n",
       "    }\n",
       "\n",
       "    .dataframe thead th {\n",
       "        text-align: right;\n",
       "    }\n",
       "</style>\n",
       "<table border=\"1\" class=\"dataframe\">\n",
       "  <thead>\n",
       "    <tr style=\"text-align: right;\">\n",
       "      <th></th>\n",
       "      <th>date_crawled</th>\n",
       "      <th>price</th>\n",
       "      <th>vehicle_type</th>\n",
       "      <th>registration_year</th>\n",
       "      <th>gearbox</th>\n",
       "      <th>power</th>\n",
       "      <th>model</th>\n",
       "      <th>kilometer</th>\n",
       "      <th>registration_month</th>\n",
       "      <th>fuel_type</th>\n",
       "      <th>brand</th>\n",
       "      <th>repaired</th>\n",
       "      <th>date_created</th>\n",
       "      <th>number_of_pictures</th>\n",
       "      <th>postal_code</th>\n",
       "      <th>last_seen</th>\n",
       "    </tr>\n",
       "  </thead>\n",
       "  <tbody>\n",
       "    <tr>\n",
       "      <th>16</th>\n",
       "      <td>2016-04-01 12:46:46</td>\n",
       "      <td>300</td>\n",
       "      <td>unknown</td>\n",
       "      <td>2016</td>\n",
       "      <td>NaN</td>\n",
       "      <td>60</td>\n",
       "      <td>polo</td>\n",
       "      <td>150000</td>\n",
       "      <td>0</td>\n",
       "      <td>petrol</td>\n",
       "      <td>volkswagen</td>\n",
       "      <td>NaN</td>\n",
       "      <td>2016-04-01</td>\n",
       "      <td>0</td>\n",
       "      <td>38871</td>\n",
       "      <td>2016-04-01 12:46:46</td>\n",
       "    </tr>\n",
       "    <tr>\n",
       "      <th>32</th>\n",
       "      <td>2016-03-15 20:59:01</td>\n",
       "      <td>245</td>\n",
       "      <td>sedan</td>\n",
       "      <td>1994</td>\n",
       "      <td>NaN</td>\n",
       "      <td>0</td>\n",
       "      <td>golf</td>\n",
       "      <td>150000</td>\n",
       "      <td>2</td>\n",
       "      <td>petrol</td>\n",
       "      <td>volkswagen</td>\n",
       "      <td>no</td>\n",
       "      <td>2016-03-15</td>\n",
       "      <td>0</td>\n",
       "      <td>44145</td>\n",
       "      <td>2016-03-17 18:17:43</td>\n",
       "    </tr>\n",
       "    <tr>\n",
       "      <th>37</th>\n",
       "      <td>2016-03-28 17:50:15</td>\n",
       "      <td>1500</td>\n",
       "      <td>unknown</td>\n",
       "      <td>2016</td>\n",
       "      <td>NaN</td>\n",
       "      <td>0</td>\n",
       "      <td>kangoo</td>\n",
       "      <td>150000</td>\n",
       "      <td>1</td>\n",
       "      <td>gasoline</td>\n",
       "      <td>renault</td>\n",
       "      <td>no</td>\n",
       "      <td>2016-03-28</td>\n",
       "      <td>0</td>\n",
       "      <td>46483</td>\n",
       "      <td>2016-03-30 09:18:02</td>\n",
       "    </tr>\n",
       "    <tr>\n",
       "      <th>69</th>\n",
       "      <td>2016-04-01 11:56:40</td>\n",
       "      <td>1200</td>\n",
       "      <td>coupe</td>\n",
       "      <td>2001</td>\n",
       "      <td>NaN</td>\n",
       "      <td>0</td>\n",
       "      <td>astra</td>\n",
       "      <td>150000</td>\n",
       "      <td>0</td>\n",
       "      <td>NaN</td>\n",
       "      <td>opel</td>\n",
       "      <td>NaN</td>\n",
       "      <td>2016-04-01</td>\n",
       "      <td>0</td>\n",
       "      <td>47249</td>\n",
       "      <td>2016-04-07 08:46:07</td>\n",
       "    </tr>\n",
       "    <tr>\n",
       "      <th>92</th>\n",
       "      <td>2016-03-16 07:56:19</td>\n",
       "      <td>250</td>\n",
       "      <td>unknown</td>\n",
       "      <td>2000</td>\n",
       "      <td>NaN</td>\n",
       "      <td>60</td>\n",
       "      <td>ka</td>\n",
       "      <td>150000</td>\n",
       "      <td>0</td>\n",
       "      <td>NaN</td>\n",
       "      <td>ford</td>\n",
       "      <td>NaN</td>\n",
       "      <td>2016-03-16</td>\n",
       "      <td>0</td>\n",
       "      <td>51427</td>\n",
       "      <td>2016-03-21 09:47:08</td>\n",
       "    </tr>\n",
       "    <tr>\n",
       "      <th>...</th>\n",
       "      <td>...</td>\n",
       "      <td>...</td>\n",
       "      <td>...</td>\n",
       "      <td>...</td>\n",
       "      <td>...</td>\n",
       "      <td>...</td>\n",
       "      <td>...</td>\n",
       "      <td>...</td>\n",
       "      <td>...</td>\n",
       "      <td>...</td>\n",
       "      <td>...</td>\n",
       "      <td>...</td>\n",
       "      <td>...</td>\n",
       "      <td>...</td>\n",
       "      <td>...</td>\n",
       "      <td>...</td>\n",
       "    </tr>\n",
       "    <tr>\n",
       "      <th>354288</th>\n",
       "      <td>2016-03-16 13:36:25</td>\n",
       "      <td>3300</td>\n",
       "      <td>wagon</td>\n",
       "      <td>2006</td>\n",
       "      <td>NaN</td>\n",
       "      <td>0</td>\n",
       "      <td>touran</td>\n",
       "      <td>150000</td>\n",
       "      <td>7</td>\n",
       "      <td>gasoline</td>\n",
       "      <td>volkswagen</td>\n",
       "      <td>NaN</td>\n",
       "      <td>2016-03-16</td>\n",
       "      <td>0</td>\n",
       "      <td>12057</td>\n",
       "      <td>2016-03-17 12:17:07</td>\n",
       "    </tr>\n",
       "    <tr>\n",
       "      <th>354305</th>\n",
       "      <td>2016-04-03 13:46:24</td>\n",
       "      <td>3500</td>\n",
       "      <td>unknown</td>\n",
       "      <td>1995</td>\n",
       "      <td>NaN</td>\n",
       "      <td>0</td>\n",
       "      <td>polo</td>\n",
       "      <td>150000</td>\n",
       "      <td>0</td>\n",
       "      <td>NaN</td>\n",
       "      <td>volkswagen</td>\n",
       "      <td>NaN</td>\n",
       "      <td>2016-04-03</td>\n",
       "      <td>0</td>\n",
       "      <td>74579</td>\n",
       "      <td>2016-04-05 12:44:38</td>\n",
       "    </tr>\n",
       "    <tr>\n",
       "      <th>354329</th>\n",
       "      <td>2016-03-30 20:55:30</td>\n",
       "      <td>350</td>\n",
       "      <td>small</td>\n",
       "      <td>1996</td>\n",
       "      <td>NaN</td>\n",
       "      <td>65</td>\n",
       "      <td>punto</td>\n",
       "      <td>150000</td>\n",
       "      <td>0</td>\n",
       "      <td>NaN</td>\n",
       "      <td>fiat</td>\n",
       "      <td>NaN</td>\n",
       "      <td>2016-03-30</td>\n",
       "      <td>0</td>\n",
       "      <td>25436</td>\n",
       "      <td>2016-04-07 13:50:41</td>\n",
       "    </tr>\n",
       "    <tr>\n",
       "      <th>354338</th>\n",
       "      <td>2016-03-31 19:52:33</td>\n",
       "      <td>180</td>\n",
       "      <td>unknown</td>\n",
       "      <td>1995</td>\n",
       "      <td>NaN</td>\n",
       "      <td>0</td>\n",
       "      <td>NaN</td>\n",
       "      <td>125000</td>\n",
       "      <td>3</td>\n",
       "      <td>petrol</td>\n",
       "      <td>opel</td>\n",
       "      <td>NaN</td>\n",
       "      <td>2016-03-31</td>\n",
       "      <td>0</td>\n",
       "      <td>41470</td>\n",
       "      <td>2016-04-06 14:18:04</td>\n",
       "    </tr>\n",
       "    <tr>\n",
       "      <th>354365</th>\n",
       "      <td>2016-03-14 17:48:27</td>\n",
       "      <td>2200</td>\n",
       "      <td>unknown</td>\n",
       "      <td>2005</td>\n",
       "      <td>NaN</td>\n",
       "      <td>0</td>\n",
       "      <td>NaN</td>\n",
       "      <td>20000</td>\n",
       "      <td>1</td>\n",
       "      <td>NaN</td>\n",
       "      <td>sonstige_autos</td>\n",
       "      <td>NaN</td>\n",
       "      <td>2016-03-14</td>\n",
       "      <td>0</td>\n",
       "      <td>39576</td>\n",
       "      <td>2016-04-06 00:46:52</td>\n",
       "    </tr>\n",
       "  </tbody>\n",
       "</table>\n",
       "<p>14069 rows × 16 columns</p>\n",
       "</div>"
      ],
      "text/plain": [
       "              date_crawled  price vehicle_type  registration_year gearbox  \\\n",
       "16     2016-04-01 12:46:46    300      unknown               2016     NaN   \n",
       "32     2016-03-15 20:59:01    245        sedan               1994     NaN   \n",
       "37     2016-03-28 17:50:15   1500      unknown               2016     NaN   \n",
       "69     2016-04-01 11:56:40   1200        coupe               2001     NaN   \n",
       "92     2016-03-16 07:56:19    250      unknown               2000     NaN   \n",
       "...                    ...    ...          ...                ...     ...   \n",
       "354288 2016-03-16 13:36:25   3300        wagon               2006     NaN   \n",
       "354305 2016-04-03 13:46:24   3500      unknown               1995     NaN   \n",
       "354329 2016-03-30 20:55:30    350        small               1996     NaN   \n",
       "354338 2016-03-31 19:52:33    180      unknown               1995     NaN   \n",
       "354365 2016-03-14 17:48:27   2200      unknown               2005     NaN   \n",
       "\n",
       "        power   model  kilometer  registration_month fuel_type  \\\n",
       "16         60    polo     150000                   0    petrol   \n",
       "32          0    golf     150000                   2    petrol   \n",
       "37          0  kangoo     150000                   1  gasoline   \n",
       "69          0   astra     150000                   0       NaN   \n",
       "92         60      ka     150000                   0       NaN   \n",
       "...       ...     ...        ...                 ...       ...   \n",
       "354288      0  touran     150000                   7  gasoline   \n",
       "354305      0    polo     150000                   0       NaN   \n",
       "354329     65   punto     150000                   0       NaN   \n",
       "354338      0     NaN     125000                   3    petrol   \n",
       "354365      0     NaN      20000                   1       NaN   \n",
       "\n",
       "                 brand repaired date_created  number_of_pictures  postal_code  \\\n",
       "16          volkswagen      NaN   2016-04-01                   0        38871   \n",
       "32          volkswagen       no   2016-03-15                   0        44145   \n",
       "37             renault       no   2016-03-28                   0        46483   \n",
       "69                opel      NaN   2016-04-01                   0        47249   \n",
       "92                ford      NaN   2016-03-16                   0        51427   \n",
       "...                ...      ...          ...                 ...          ...   \n",
       "354288      volkswagen      NaN   2016-03-16                   0        12057   \n",
       "354305      volkswagen      NaN   2016-04-03                   0        74579   \n",
       "354329            fiat      NaN   2016-03-30                   0        25436   \n",
       "354338            opel      NaN   2016-03-31                   0        41470   \n",
       "354365  sonstige_autos      NaN   2016-03-14                   0        39576   \n",
       "\n",
       "                 last_seen  \n",
       "16     2016-04-01 12:46:46  \n",
       "32     2016-03-17 18:17:43  \n",
       "37     2016-03-30 09:18:02  \n",
       "69     2016-04-07 08:46:07  \n",
       "92     2016-03-21 09:47:08  \n",
       "...                    ...  \n",
       "354288 2016-03-17 12:17:07  \n",
       "354305 2016-04-05 12:44:38  \n",
       "354329 2016-04-07 13:50:41  \n",
       "354338 2016-04-06 14:18:04  \n",
       "354365 2016-04-06 00:46:52  \n",
       "\n",
       "[14069 rows x 16 columns]"
      ]
     },
     "execution_count": 25,
     "metadata": {},
     "output_type": "execute_result"
    }
   ],
   "source": [
    "df.query('gearbox.isna()')"
   ]
  },
  {
   "cell_type": "markdown",
   "metadata": {},
   "source": [
    "Так как информация о коробке передач является очень важным параметром при обучении модели, от пропущенных значений лучше избавиться. К тому же, в данных строках присутствует множество ошибочных значений по другим столбцам."
   ]
  },
  {
   "cell_type": "code",
   "execution_count": 26,
   "metadata": {},
   "outputs": [],
   "source": [
    "df.dropna(subset=['gearbox'], inplace=True)"
   ]
  },
  {
   "cell_type": "code",
   "execution_count": 27,
   "metadata": {},
   "outputs": [
    {
     "data": {
      "text/plain": [
       "array(['manual', 'auto'], dtype=object)"
      ]
     },
     "execution_count": 27,
     "metadata": {},
     "output_type": "execute_result"
    }
   ],
   "source": [
    "df['gearbox'].unique()"
   ]
  },
  {
   "cell_type": "markdown",
   "metadata": {},
   "source": [
    "### Столбец 'power'."
   ]
  },
  {
   "cell_type": "code",
   "execution_count": 28,
   "metadata": {},
   "outputs": [
    {
     "data": {
      "image/png": "[encoded data removed]",
      "text/plain": [
       "<Figure size 1080x504 with 1 Axes>"
      ]
     },
     "metadata": {},
     "output_type": "display_data"
    }
   ],
   "source": [
    "df['power'].hist(bins=200, figsize=(15, 7));"
   ]
  },
  {
   "cell_type": "code",
   "execution_count": 29,
   "metadata": {},
   "outputs": [
    {
     "data": {
      "image/png": "[encoded data removed]",
      "text/plain": [
       "<Figure size 1080x504 with 1 Axes>"
      ]
     },
     "metadata": {},
     "output_type": "display_data"
    }
   ],
   "source": [
    "df['power'].hist(bins=200, figsize=(15, 7))\n",
    "plt.xlim(0, 1500)\n",
    "plt.show()"
   ]
  },
  {
   "cell_type": "code",
   "execution_count": 30,
   "metadata": {},
   "outputs": [
    {
     "data": {
      "text/plain": [
       "360"
      ]
     },
     "execution_count": 30,
     "metadata": {},
     "output_type": "execute_result"
    }
   ],
   "source": [
    "df.query('power > 500')['power'].count()"
   ]
  },
  {
   "cell_type": "code",
   "execution_count": 31,
   "metadata": {},
   "outputs": [
    {
     "data": {
      "text/plain": [
       "21397"
      ]
     },
     "execution_count": 31,
     "metadata": {},
     "output_type": "execute_result"
    }
   ],
   "source": [
    "df.query('power == 0')['power'].count()"
   ]
  },
  {
   "cell_type": "markdown",
   "metadata": {},
   "source": [
    "По графику видно, что мощностей больше 500 почти нет. Также присутствует большое количество значений, равных нулю. Имеет смысл их удалить."
   ]
  },
  {
   "cell_type": "code",
   "execution_count": 32,
   "metadata": {},
   "outputs": [],
   "source": [
    "df = df.query('power != 0 & power <= 500')"
   ]
  },
  {
   "cell_type": "code",
   "execution_count": 33,
   "metadata": {},
   "outputs": [
    {
     "name": "stdout",
     "output_type": "stream",
     "text": [
      "<class 'pandas.core.frame.DataFrame'>\n",
      "Int64Index: 282610 entries, 1 to 354368\n",
      "Data columns (total 16 columns):\n",
      " #   Column              Non-Null Count   Dtype         \n",
      "---  ------              --------------   -----         \n",
      " 0   date_crawled        282610 non-null  datetime64[ns]\n",
      " 1   price               282610 non-null  int64         \n",
      " 2   vehicle_type        282610 non-null  object        \n",
      " 3   registration_year   282610 non-null  int64         \n",
      " 4   gearbox             282610 non-null  object        \n",
      " 5   power               282610 non-null  int64         \n",
      " 6   model               273059 non-null  object        \n",
      " 7   kilometer           282610 non-null  int64         \n",
      " 8   registration_month  282610 non-null  int64         \n",
      " 9   fuel_type           268870 non-null  object        \n",
      " 10  brand               282610 non-null  object        \n",
      " 11  repaired            243886 non-null  object        \n",
      " 12  date_created        282610 non-null  datetime64[ns]\n",
      " 13  number_of_pictures  282610 non-null  int64         \n",
      " 14  postal_code         282610 non-null  int64         \n",
      " 15  last_seen           282610 non-null  datetime64[ns]\n",
      "dtypes: datetime64[ns](3), int64(7), object(6)\n",
      "memory usage: 36.7+ MB\n"
     ]
    }
   ],
   "source": [
    "df.info()"
   ]
  },
  {
   "cell_type": "markdown",
   "metadata": {},
   "source": [
    "### Столбец 'model'."
   ]
  },
  {
   "cell_type": "code",
   "execution_count": 34,
   "metadata": {
    "scrolled": true
   },
   "outputs": [
    {
     "data": {
      "text/html": [
       "<div>\n",
       "<style scoped>\n",
       "    .dataframe tbody tr th:only-of-type {\n",
       "        vertical-align: middle;\n",
       "    }\n",
       "\n",
       "    .dataframe tbody tr th {\n",
       "        vertical-align: top;\n",
       "    }\n",
       "\n",
       "    .dataframe thead th {\n",
       "        text-align: right;\n",
       "    }\n",
       "</style>\n",
       "<table border=\"1\" class=\"dataframe\">\n",
       "  <thead>\n",
       "    <tr style=\"text-align: right;\">\n",
       "      <th></th>\n",
       "      <th>date_crawled</th>\n",
       "      <th>price</th>\n",
       "      <th>vehicle_type</th>\n",
       "      <th>registration_year</th>\n",
       "      <th>gearbox</th>\n",
       "      <th>power</th>\n",
       "      <th>model</th>\n",
       "      <th>kilometer</th>\n",
       "      <th>registration_month</th>\n",
       "      <th>fuel_type</th>\n",
       "      <th>brand</th>\n",
       "      <th>repaired</th>\n",
       "      <th>date_created</th>\n",
       "      <th>number_of_pictures</th>\n",
       "      <th>postal_code</th>\n",
       "      <th>last_seen</th>\n",
       "    </tr>\n",
       "  </thead>\n",
       "  <tbody>\n",
       "    <tr>\n",
       "      <th>1</th>\n",
       "      <td>2016-03-24 10:58:45</td>\n",
       "      <td>18300</td>\n",
       "      <td>coupe</td>\n",
       "      <td>2011</td>\n",
       "      <td>manual</td>\n",
       "      <td>190</td>\n",
       "      <td>NaN</td>\n",
       "      <td>125000</td>\n",
       "      <td>5</td>\n",
       "      <td>gasoline</td>\n",
       "      <td>audi</td>\n",
       "      <td>yes</td>\n",
       "      <td>2016-03-24</td>\n",
       "      <td>0</td>\n",
       "      <td>66954</td>\n",
       "      <td>2016-04-07 01:46:50</td>\n",
       "    </tr>\n",
       "    <tr>\n",
       "      <th>59</th>\n",
       "      <td>2016-03-29 15:48:15</td>\n",
       "      <td>1</td>\n",
       "      <td>suv</td>\n",
       "      <td>1994</td>\n",
       "      <td>manual</td>\n",
       "      <td>286</td>\n",
       "      <td>NaN</td>\n",
       "      <td>150000</td>\n",
       "      <td>11</td>\n",
       "      <td>NaN</td>\n",
       "      <td>sonstige_autos</td>\n",
       "      <td>NaN</td>\n",
       "      <td>2016-03-29</td>\n",
       "      <td>0</td>\n",
       "      <td>53721</td>\n",
       "      <td>2016-04-06 01:44:38</td>\n",
       "    </tr>\n",
       "    <tr>\n",
       "      <th>81</th>\n",
       "      <td>2016-04-03 12:56:45</td>\n",
       "      <td>350</td>\n",
       "      <td>small</td>\n",
       "      <td>1997</td>\n",
       "      <td>manual</td>\n",
       "      <td>54</td>\n",
       "      <td>NaN</td>\n",
       "      <td>150000</td>\n",
       "      <td>3</td>\n",
       "      <td>NaN</td>\n",
       "      <td>fiat</td>\n",
       "      <td>yes</td>\n",
       "      <td>2016-04-03</td>\n",
       "      <td>0</td>\n",
       "      <td>45665</td>\n",
       "      <td>2016-04-05 11:47:13</td>\n",
       "    </tr>\n",
       "    <tr>\n",
       "      <th>135</th>\n",
       "      <td>2016-03-27 20:51:23</td>\n",
       "      <td>1450</td>\n",
       "      <td>sedan</td>\n",
       "      <td>1992</td>\n",
       "      <td>manual</td>\n",
       "      <td>136</td>\n",
       "      <td>NaN</td>\n",
       "      <td>150000</td>\n",
       "      <td>0</td>\n",
       "      <td>NaN</td>\n",
       "      <td>audi</td>\n",
       "      <td>no</td>\n",
       "      <td>2016-03-27</td>\n",
       "      <td>0</td>\n",
       "      <td>38709</td>\n",
       "      <td>2016-04-05 20:17:31</td>\n",
       "    </tr>\n",
       "    <tr>\n",
       "      <th>273</th>\n",
       "      <td>2016-03-29 23:38:02</td>\n",
       "      <td>1500</td>\n",
       "      <td>coupe</td>\n",
       "      <td>1994</td>\n",
       "      <td>manual</td>\n",
       "      <td>116</td>\n",
       "      <td>NaN</td>\n",
       "      <td>150000</td>\n",
       "      <td>8</td>\n",
       "      <td>NaN</td>\n",
       "      <td>audi</td>\n",
       "      <td>no</td>\n",
       "      <td>2016-03-29</td>\n",
       "      <td>0</td>\n",
       "      <td>32791</td>\n",
       "      <td>2016-04-06 20:16:34</td>\n",
       "    </tr>\n",
       "    <tr>\n",
       "      <th>...</th>\n",
       "      <td>...</td>\n",
       "      <td>...</td>\n",
       "      <td>...</td>\n",
       "      <td>...</td>\n",
       "      <td>...</td>\n",
       "      <td>...</td>\n",
       "      <td>...</td>\n",
       "      <td>...</td>\n",
       "      <td>...</td>\n",
       "      <td>...</td>\n",
       "      <td>...</td>\n",
       "      <td>...</td>\n",
       "      <td>...</td>\n",
       "      <td>...</td>\n",
       "      <td>...</td>\n",
       "      <td>...</td>\n",
       "    </tr>\n",
       "    <tr>\n",
       "      <th>354077</th>\n",
       "      <td>2016-03-21 08:36:18</td>\n",
       "      <td>200</td>\n",
       "      <td>small</td>\n",
       "      <td>1998</td>\n",
       "      <td>manual</td>\n",
       "      <td>37</td>\n",
       "      <td>NaN</td>\n",
       "      <td>150000</td>\n",
       "      <td>4</td>\n",
       "      <td>petrol</td>\n",
       "      <td>volkswagen</td>\n",
       "      <td>yes</td>\n",
       "      <td>2016-03-21</td>\n",
       "      <td>0</td>\n",
       "      <td>26382</td>\n",
       "      <td>2016-04-06 02:45:28</td>\n",
       "    </tr>\n",
       "    <tr>\n",
       "      <th>354234</th>\n",
       "      <td>2016-03-19 01:47:31</td>\n",
       "      <td>5000</td>\n",
       "      <td>sedan</td>\n",
       "      <td>2002</td>\n",
       "      <td>auto</td>\n",
       "      <td>170</td>\n",
       "      <td>NaN</td>\n",
       "      <td>150000</td>\n",
       "      <td>0</td>\n",
       "      <td>petrol</td>\n",
       "      <td>audi</td>\n",
       "      <td>no</td>\n",
       "      <td>2016-03-18</td>\n",
       "      <td>0</td>\n",
       "      <td>85221</td>\n",
       "      <td>2016-04-06 03:45:36</td>\n",
       "    </tr>\n",
       "    <tr>\n",
       "      <th>354245</th>\n",
       "      <td>2016-03-07 16:37:42</td>\n",
       "      <td>560</td>\n",
       "      <td>small</td>\n",
       "      <td>2001</td>\n",
       "      <td>auto</td>\n",
       "      <td>170</td>\n",
       "      <td>NaN</td>\n",
       "      <td>90000</td>\n",
       "      <td>0</td>\n",
       "      <td>petrol</td>\n",
       "      <td>fiat</td>\n",
       "      <td>yes</td>\n",
       "      <td>2016-03-07</td>\n",
       "      <td>0</td>\n",
       "      <td>55743</td>\n",
       "      <td>2016-03-12 21:45:25</td>\n",
       "    </tr>\n",
       "    <tr>\n",
       "      <th>354321</th>\n",
       "      <td>2016-03-15 13:52:34</td>\n",
       "      <td>9400</td>\n",
       "      <td>wagon</td>\n",
       "      <td>2007</td>\n",
       "      <td>manual</td>\n",
       "      <td>200</td>\n",
       "      <td>NaN</td>\n",
       "      <td>150000</td>\n",
       "      <td>4</td>\n",
       "      <td>gasoline</td>\n",
       "      <td>sonstige_autos</td>\n",
       "      <td>yes</td>\n",
       "      <td>2016-03-15</td>\n",
       "      <td>0</td>\n",
       "      <td>91186</td>\n",
       "      <td>2016-03-17 08:16:25</td>\n",
       "    </tr>\n",
       "    <tr>\n",
       "      <th>354351</th>\n",
       "      <td>2016-03-11 23:40:32</td>\n",
       "      <td>1900</td>\n",
       "      <td>unknown</td>\n",
       "      <td>2000</td>\n",
       "      <td>manual</td>\n",
       "      <td>110</td>\n",
       "      <td>NaN</td>\n",
       "      <td>150000</td>\n",
       "      <td>7</td>\n",
       "      <td>NaN</td>\n",
       "      <td>volkswagen</td>\n",
       "      <td>no</td>\n",
       "      <td>2016-03-11</td>\n",
       "      <td>0</td>\n",
       "      <td>87700</td>\n",
       "      <td>2016-03-12 14:16:51</td>\n",
       "    </tr>\n",
       "  </tbody>\n",
       "</table>\n",
       "<p>9551 rows × 16 columns</p>\n",
       "</div>"
      ],
      "text/plain": [
       "              date_crawled  price vehicle_type  registration_year gearbox  \\\n",
       "1      2016-03-24 10:58:45  18300        coupe               2011  manual   \n",
       "59     2016-03-29 15:48:15      1          suv               1994  manual   \n",
       "81     2016-04-03 12:56:45    350        small               1997  manual   \n",
       "135    2016-03-27 20:51:23   1450        sedan               1992  manual   \n",
       "273    2016-03-29 23:38:02   1500        coupe               1994  manual   \n",
       "...                    ...    ...          ...                ...     ...   \n",
       "354077 2016-03-21 08:36:18    200        small               1998  manual   \n",
       "354234 2016-03-19 01:47:31   5000        sedan               2002    auto   \n",
       "354245 2016-03-07 16:37:42    560        small               2001    auto   \n",
       "354321 2016-03-15 13:52:34   9400        wagon               2007  manual   \n",
       "354351 2016-03-11 23:40:32   1900      unknown               2000  manual   \n",
       "\n",
       "        power model  kilometer  registration_month fuel_type           brand  \\\n",
       "1         190   NaN     125000                   5  gasoline            audi   \n",
       "59        286   NaN     150000                  11       NaN  sonstige_autos   \n",
       "81         54   NaN     150000                   3       NaN            fiat   \n",
       "135       136   NaN     150000                   0       NaN            audi   \n",
       "273       116   NaN     150000                   8       NaN            audi   \n",
       "...       ...   ...        ...                 ...       ...             ...   \n",
       "354077     37   NaN     150000                   4    petrol      volkswagen   \n",
       "354234    170   NaN     150000                   0    petrol            audi   \n",
       "354245    170   NaN      90000                   0    petrol            fiat   \n",
       "354321    200   NaN     150000                   4  gasoline  sonstige_autos   \n",
       "354351    110   NaN     150000                   7       NaN      volkswagen   \n",
       "\n",
       "       repaired date_created  number_of_pictures  postal_code  \\\n",
       "1           yes   2016-03-24                   0        66954   \n",
       "59          NaN   2016-03-29                   0        53721   \n",
       "81          yes   2016-04-03                   0        45665   \n",
       "135          no   2016-03-27                   0        38709   \n",
       "273          no   2016-03-29                   0        32791   \n",
       "...         ...          ...                 ...          ...   \n",
       "354077      yes   2016-03-21                   0        26382   \n",
       "354234       no   2016-03-18                   0        85221   \n",
       "354245      yes   2016-03-07                   0        55743   \n",
       "354321      yes   2016-03-15                   0        91186   \n",
       "354351       no   2016-03-11                   0        87700   \n",
       "\n",
       "                 last_seen  \n",
       "1      2016-04-07 01:46:50  \n",
       "59     2016-04-06 01:44:38  \n",
       "81     2016-04-05 11:47:13  \n",
       "135    2016-04-05 20:17:31  \n",
       "273    2016-04-06 20:16:34  \n",
       "...                    ...  \n",
       "354077 2016-04-06 02:45:28  \n",
       "354234 2016-04-06 03:45:36  \n",
       "354245 2016-03-12 21:45:25  \n",
       "354321 2016-03-17 08:16:25  \n",
       "354351 2016-03-12 14:16:51  \n",
       "\n",
       "[9551 rows x 16 columns]"
      ]
     },
     "execution_count": 34,
     "metadata": {},
     "output_type": "execute_result"
    }
   ],
   "source": [
    "df.query('model.isna()')"
   ]
  },
  {
   "cell_type": "markdown",
   "metadata": {},
   "source": [
    "Модель авто является таким же основным фактором, как и коробка, поэтому заменять пропуски на какое-либо значение будет неправильно. Имеет смысл удалить пропуски."
   ]
  },
  {
   "cell_type": "code",
   "execution_count": 35,
   "metadata": {},
   "outputs": [],
   "source": [
    "df.dropna(subset=['model'], inplace=True)"
   ]
  },
  {
   "cell_type": "code",
   "execution_count": 36,
   "metadata": {},
   "outputs": [
    {
     "name": "stdout",
     "output_type": "stream",
     "text": [
      "<class 'pandas.core.frame.DataFrame'>\n",
      "Int64Index: 273059 entries, 2 to 354368\n",
      "Data columns (total 16 columns):\n",
      " #   Column              Non-Null Count   Dtype         \n",
      "---  ------              --------------   -----         \n",
      " 0   date_crawled        273059 non-null  datetime64[ns]\n",
      " 1   price               273059 non-null  int64         \n",
      " 2   vehicle_type        273059 non-null  object        \n",
      " 3   registration_year   273059 non-null  int64         \n",
      " 4   gearbox             273059 non-null  object        \n",
      " 5   power               273059 non-null  int64         \n",
      " 6   model               273059 non-null  object        \n",
      " 7   kilometer           273059 non-null  int64         \n",
      " 8   registration_month  273059 non-null  int64         \n",
      " 9   fuel_type           261552 non-null  object        \n",
      " 10  brand               273059 non-null  object        \n",
      " 11  repaired            237374 non-null  object        \n",
      " 12  date_created        273059 non-null  datetime64[ns]\n",
      " 13  number_of_pictures  273059 non-null  int64         \n",
      " 14  postal_code         273059 non-null  int64         \n",
      " 15  last_seen           273059 non-null  datetime64[ns]\n",
      "dtypes: datetime64[ns](3), int64(7), object(6)\n",
      "memory usage: 35.4+ MB\n"
     ]
    }
   ],
   "source": [
    "df.info()"
   ]
  },
  {
   "cell_type": "markdown",
   "metadata": {},
   "source": [
    "### Столбец 'kilometer'."
   ]
  },
  {
   "cell_type": "code",
   "execution_count": 37,
   "metadata": {},
   "outputs": [
    {
     "data": {
      "text/plain": [
       "count    273059.000000\n",
       "mean     128547.218733\n",
       "std       36320.024123\n",
       "min        5000.000000\n",
       "25%      125000.000000\n",
       "50%      150000.000000\n",
       "75%      150000.000000\n",
       "max      150000.000000\n",
       "Name: kilometer, dtype: float64"
      ]
     },
     "execution_count": 37,
     "metadata": {},
     "output_type": "execute_result"
    }
   ],
   "source": [
    "df['kilometer'].describe()"
   ]
  },
  {
   "cell_type": "markdown",
   "metadata": {},
   "source": [
    "С этим столбцом все в порядке."
   ]
  },
  {
   "cell_type": "markdown",
   "metadata": {},
   "source": [
    "### Столбец 'registration_month'."
   ]
  },
  {
   "cell_type": "code",
   "execution_count": 38,
   "metadata": {},
   "outputs": [
    {
     "data": {
      "text/plain": [
       "[0, 1, 2, 3, 4, 5, 6, 7, 8, 9, 10, 11, 12]"
      ]
     },
     "execution_count": 38,
     "metadata": {},
     "output_type": "execute_result"
    }
   ],
   "source": [
    "sorted(df['registration_month'].unique())"
   ]
  },
  {
   "cell_type": "code",
   "execution_count": 39,
   "metadata": {},
   "outputs": [
    {
     "data": {
      "text/plain": [
       "3     28424\n",
       "6     25566\n",
       "4     23904\n",
       "5     23770\n",
       "7     21944\n",
       "10    21539\n",
       "12    19867\n",
       "11    19783\n",
       "9     19696\n",
       "1     18753\n",
       "8     18443\n",
       "2     17593\n",
       "0     13777\n",
       "Name: registration_month, dtype: int64"
      ]
     },
     "execution_count": 39,
     "metadata": {},
     "output_type": "execute_result"
    }
   ],
   "source": [
    "df['registration_month'].value_counts()"
   ]
  },
  {
   "cell_type": "markdown",
   "metadata": {},
   "source": [
    "Данные в этом столбце не влияют на цену. При удалении некорректных данных, мы можем потерять важную информацию в других столбцах, поэтому заменим нули на среднее значение."
   ]
  },
  {
   "cell_type": "code",
   "execution_count": 40,
   "metadata": {},
   "outputs": [],
   "source": [
    "df.loc[df['registration_month'] == 0, 'registration_month'] = 6"
   ]
  },
  {
   "cell_type": "code",
   "execution_count": 41,
   "metadata": {},
   "outputs": [
    {
     "data": {
      "text/plain": [
       "[1, 2, 3, 4, 5, 6, 7, 8, 9, 10, 11, 12]"
      ]
     },
     "execution_count": 41,
     "metadata": {},
     "output_type": "execute_result"
    }
   ],
   "source": [
    "sorted(df['registration_month'].unique())"
   ]
  },
  {
   "cell_type": "markdown",
   "metadata": {},
   "source": [
    "### Столбец 'fuel_type'."
   ]
  },
  {
   "cell_type": "code",
   "execution_count": 42,
   "metadata": {},
   "outputs": [
    {
     "data": {
      "text/plain": [
       "array(['gasoline', 'petrol', nan, 'lpg', 'other', 'hybrid', 'cng',\n",
       "       'electric'], dtype=object)"
      ]
     },
     "execution_count": 42,
     "metadata": {},
     "output_type": "execute_result"
    }
   ],
   "source": [
    "df['fuel_type'].unique()"
   ]
  },
  {
   "cell_type": "code",
   "execution_count": 43,
   "metadata": {},
   "outputs": [
    {
     "data": {
      "text/plain": [
       "11507"
      ]
     },
     "execution_count": 43,
     "metadata": {},
     "output_type": "execute_result"
    }
   ],
   "source": [
    "df['fuel_type'].isna().sum()"
   ]
  },
  {
   "cell_type": "markdown",
   "metadata": {},
   "source": [
    "Так как тип топлива зависит от типа двигателя, заполнять пропуски каким-либо определенным значением будет не совсем корректно. Поэтому заменим отсутствующие значения на `other`."
   ]
  },
  {
   "cell_type": "code",
   "execution_count": 44,
   "metadata": {},
   "outputs": [],
   "source": [
    "df['fuel_type'].fillna('other', inplace=True)"
   ]
  },
  {
   "cell_type": "code",
   "execution_count": 45,
   "metadata": {},
   "outputs": [
    {
     "data": {
      "text/plain": [
       "array(['gasoline', 'petrol', 'other', 'lpg', 'hybrid', 'cng', 'electric'],\n",
       "      dtype=object)"
      ]
     },
     "execution_count": 45,
     "metadata": {},
     "output_type": "execute_result"
    }
   ],
   "source": [
    "df['fuel_type'].unique()"
   ]
  },
  {
   "cell_type": "markdown",
   "metadata": {},
   "source": [
    "### Столбец 'brand'."
   ]
  },
  {
   "cell_type": "code",
   "execution_count": 46,
   "metadata": {},
   "outputs": [
    {
     "data": {
      "text/plain": [
       "array(['jeep', 'volkswagen', 'skoda', 'bmw', 'peugeot', 'ford', 'mazda',\n",
       "       'nissan', 'renault', 'mercedes_benz', 'seat', 'honda', 'fiat',\n",
       "       'opel', 'mini', 'smart', 'hyundai', 'audi', 'alfa_romeo', 'subaru',\n",
       "       'volvo', 'mitsubishi', 'kia', 'lancia', 'citroen', 'toyota',\n",
       "       'chevrolet', 'dacia', 'suzuki', 'daihatsu', 'chrysler', 'jaguar',\n",
       "       'daewoo', 'rover', 'porsche', 'saab', 'land_rover', 'lada',\n",
       "       'trabant'], dtype=object)"
      ]
     },
     "execution_count": 46,
     "metadata": {},
     "output_type": "execute_result"
    }
   ],
   "source": [
    "df['brand'].unique()"
   ]
  },
  {
   "cell_type": "markdown",
   "metadata": {},
   "source": [
    "В этом столбце проблем нет."
   ]
  },
  {
   "cell_type": "markdown",
   "metadata": {},
   "source": [
    "### Столбец 'repaired'."
   ]
  },
  {
   "cell_type": "code",
   "execution_count": 47,
   "metadata": {},
   "outputs": [
    {
     "data": {
      "text/plain": [
       "array([nan, 'no', 'yes'], dtype=object)"
      ]
     },
     "execution_count": 47,
     "metadata": {},
     "output_type": "execute_result"
    }
   ],
   "source": [
    "df['repaired'].unique()"
   ]
  },
  {
   "cell_type": "code",
   "execution_count": 48,
   "metadata": {},
   "outputs": [
    {
     "data": {
      "text/plain": [
       "35685"
      ]
     },
     "execution_count": 48,
     "metadata": {},
     "output_type": "execute_result"
    }
   ],
   "source": [
    "df['repaired'].isna().sum()"
   ]
  },
  {
   "cell_type": "markdown",
   "metadata": {},
   "source": [
    "Продавцы могут намеренно не указывать был автомобиль в ремонте или нет. Предположение, что все пропуски - это отсутствие ремонта, может быть ошибочным. Такое количество строк лучше не удалять, а заменить на значение `unknown`."
   ]
  },
  {
   "cell_type": "code",
   "execution_count": 49,
   "metadata": {},
   "outputs": [],
   "source": [
    "df['repaired'].fillna('unknown', inplace=True)"
   ]
  },
  {
   "cell_type": "code",
   "execution_count": 50,
   "metadata": {},
   "outputs": [
    {
     "data": {
      "text/plain": [
       "array(['unknown', 'no', 'yes'], dtype=object)"
      ]
     },
     "execution_count": 50,
     "metadata": {},
     "output_type": "execute_result"
    }
   ],
   "source": [
    "df['repaired'].unique()"
   ]
  },
  {
   "cell_type": "markdown",
   "metadata": {},
   "source": [
    "### Столбец 'number_of_pictures'."
   ]
  },
  {
   "cell_type": "code",
   "execution_count": 51,
   "metadata": {},
   "outputs": [
    {
     "data": {
      "text/plain": [
       "count    273059.0\n",
       "mean          0.0\n",
       "std           0.0\n",
       "min           0.0\n",
       "25%           0.0\n",
       "50%           0.0\n",
       "75%           0.0\n",
       "max           0.0\n",
       "Name: number_of_pictures, dtype: float64"
      ]
     },
     "execution_count": 51,
     "metadata": {},
     "output_type": "execute_result"
    }
   ],
   "source": [
    "df['number_of_pictures'].describe()"
   ]
  },
  {
   "cell_type": "markdown",
   "metadata": {},
   "source": [
    "В столбце содержатся только нули. Пользы этот столбец не несет. Его можно удалить."
   ]
  },
  {
   "cell_type": "code",
   "execution_count": 52,
   "metadata": {},
   "outputs": [],
   "source": [
    "df = df.drop('number_of_pictures', axis=1)"
   ]
  },
  {
   "cell_type": "code",
   "execution_count": 53,
   "metadata": {},
   "outputs": [
    {
     "data": {
      "text/plain": [
       "Index(['date_crawled', 'price', 'vehicle_type', 'registration_year', 'gearbox',\n",
       "       'power', 'model', 'kilometer', 'registration_month', 'fuel_type',\n",
       "       'brand', 'repaired', 'date_created', 'postal_code', 'last_seen'],\n",
       "      dtype='object')"
      ]
     },
     "execution_count": 53,
     "metadata": {},
     "output_type": "execute_result"
    }
   ],
   "source": [
    "df.columns"
   ]
  },
  {
   "cell_type": "markdown",
   "metadata": {},
   "source": [
    "### Столбец 'postal_code'."
   ]
  },
  {
   "cell_type": "code",
   "execution_count": 54,
   "metadata": {},
   "outputs": [
    {
     "data": {
      "text/plain": [
       "count    273059.000000\n",
       "mean      51334.872083\n",
       "std       25746.594942\n",
       "min        1067.000000\n",
       "25%       31008.000000\n",
       "50%       50374.000000\n",
       "75%       72131.000000\n",
       "max       99998.000000\n",
       "Name: postal_code, dtype: float64"
      ]
     },
     "execution_count": 54,
     "metadata": {},
     "output_type": "execute_result"
    }
   ],
   "source": [
    "df['postal_code'].describe()"
   ]
  },
  {
   "cell_type": "markdown",
   "metadata": {},
   "source": [
    "Проблем с этим столбцом также не наблюдается."
   ]
  },
  {
   "cell_type": "markdown",
   "metadata": {},
   "source": [
    "### Корреляция параметров."
   ]
  },
  {
   "cell_type": "markdown",
   "metadata": {},
   "source": [
    "Посмотрим, как взаимосвязаны данные после проведения предобработки."
   ]
  },
  {
   "cell_type": "code",
   "execution_count": 55,
   "metadata": {},
   "outputs": [
    {
     "data": {
      "text/html": [
       "<div>\n",
       "<style scoped>\n",
       "    .dataframe tbody tr th:only-of-type {\n",
       "        vertical-align: middle;\n",
       "    }\n",
       "\n",
       "    .dataframe tbody tr th {\n",
       "        vertical-align: top;\n",
       "    }\n",
       "\n",
       "    .dataframe thead th {\n",
       "        text-align: right;\n",
       "    }\n",
       "</style>\n",
       "<table border=\"1\" class=\"dataframe\">\n",
       "  <thead>\n",
       "    <tr style=\"text-align: right;\">\n",
       "      <th></th>\n",
       "      <th>price</th>\n",
       "      <th>registration_year</th>\n",
       "      <th>power</th>\n",
       "      <th>kilometer</th>\n",
       "      <th>registration_month</th>\n",
       "      <th>postal_code</th>\n",
       "    </tr>\n",
       "  </thead>\n",
       "  <tbody>\n",
       "    <tr>\n",
       "      <th>price</th>\n",
       "      <td>1.000000</td>\n",
       "      <td>0.631893</td>\n",
       "      <td>0.513408</td>\n",
       "      <td>-0.402917</td>\n",
       "      <td>0.016373</td>\n",
       "      <td>0.063654</td>\n",
       "    </tr>\n",
       "    <tr>\n",
       "      <th>registration_year</th>\n",
       "      <td>0.631893</td>\n",
       "      <td>1.000000</td>\n",
       "      <td>0.136084</td>\n",
       "      <td>-0.431737</td>\n",
       "      <td>-0.006448</td>\n",
       "      <td>0.035182</td>\n",
       "    </tr>\n",
       "    <tr>\n",
       "      <th>power</th>\n",
       "      <td>0.513408</td>\n",
       "      <td>0.136084</td>\n",
       "      <td>1.000000</td>\n",
       "      <td>0.099961</td>\n",
       "      <td>0.022696</td>\n",
       "      <td>0.053588</td>\n",
       "    </tr>\n",
       "    <tr>\n",
       "      <th>kilometer</th>\n",
       "      <td>-0.402917</td>\n",
       "      <td>-0.431737</td>\n",
       "      <td>0.099961</td>\n",
       "      <td>1.000000</td>\n",
       "      <td>0.001599</td>\n",
       "      <td>-0.013015</td>\n",
       "    </tr>\n",
       "    <tr>\n",
       "      <th>registration_month</th>\n",
       "      <td>0.016373</td>\n",
       "      <td>-0.006448</td>\n",
       "      <td>0.022696</td>\n",
       "      <td>0.001599</td>\n",
       "      <td>1.000000</td>\n",
       "      <td>-0.007938</td>\n",
       "    </tr>\n",
       "    <tr>\n",
       "      <th>postal_code</th>\n",
       "      <td>0.063654</td>\n",
       "      <td>0.035182</td>\n",
       "      <td>0.053588</td>\n",
       "      <td>-0.013015</td>\n",
       "      <td>-0.007938</td>\n",
       "      <td>1.000000</td>\n",
       "    </tr>\n",
       "  </tbody>\n",
       "</table>\n",
       "</div>"
      ],
      "text/plain": [
       "                       price  registration_year     power  kilometer  \\\n",
       "price               1.000000           0.631893  0.513408  -0.402917   \n",
       "registration_year   0.631893           1.000000  0.136084  -0.431737   \n",
       "power               0.513408           0.136084  1.000000   0.099961   \n",
       "kilometer          -0.402917          -0.431737  0.099961   1.000000   \n",
       "registration_month  0.016373          -0.006448  0.022696   0.001599   \n",
       "postal_code         0.063654           0.035182  0.053588  -0.013015   \n",
       "\n",
       "                    registration_month  postal_code  \n",
       "price                         0.016373     0.063654  \n",
       "registration_year            -0.006448     0.035182  \n",
       "power                         0.022696     0.053588  \n",
       "kilometer                     0.001599    -0.013015  \n",
       "registration_month            1.000000    -0.007938  \n",
       "postal_code                  -0.007938     1.000000  "
      ]
     },
     "execution_count": 55,
     "metadata": {},
     "output_type": "execute_result"
    }
   ],
   "source": [
    "df.corr()"
   ]
  },
  {
   "cell_type": "markdown",
   "metadata": {},
   "source": [
    "Можно увидеть сильную положительную зависимость стоимости от года регистрации автомобиля и его мощности. В то же время наблюдается сильная отрицательная зависимость от пробега."
   ]
  },
  {
   "cell_type": "markdown",
   "metadata": {},
   "source": [
    "### Вывод."
   ]
  },
  {
   "cell_type": "markdown",
   "metadata": {},
   "source": [
    "Была проведена предобработка данных. В ходе нее было проделано следующее:\n",
    "- Наименования столбцов были приведены к \"змеиной нотации\";\n",
    "- Столбцы `date_crawled`, `date_created` и `last_seen` были приведены к типу `DateTime`;\n",
    "- В столбце `price` были удалены выбросы - нулевые значения;\n",
    "- В столбце `vehicle_type` обработаны пропущенные значения. Было принято решение не удалять их, а заполнить значением `unknown`;\n",
    "- В столбце `registration_year` были удалены некорректные значения, удалены автомобили до 1990 года и сделан срез данных по годам выпуска автомобилей, не превышающим год выгрузки данных из базы;\n",
    "- В столбце `gearbox` были удалены пропущенные значения;\n",
    "- В столбце `power` были удалены строки, в которых значение мощности превышало 500. Помимо этого были также удалены нулевые значения.\n",
    "- В столбце `model` были удалены пропущенные значения;\n",
    "- В столбце `registration_month` были обработаны нулевые значения и принято решение заменить их на среднее значение, равное 6;\n",
    "- В столбце `fuel_type` пропуски были заменены значение `other`;\n",
    "- В столбце `repaired` также были заменены пропуски на значение `unknown`;\n",
    "- Столбец `number_of_pictures` был удален как не несущий никакой информации, так как все значения в нем были равны нулю."
   ]
  },
  {
   "cell_type": "markdown",
   "metadata": {},
   "source": [
    "## Кодирование данных"
   ]
  },
  {
   "cell_type": "markdown",
   "metadata": {},
   "source": [
    "### Удаление неинформативных столбцов."
   ]
  },
  {
   "cell_type": "markdown",
   "metadata": {},
   "source": [
    "Перед тем, как закодировать данные имеет смысл выделить среди них действительно важные для обучения моделей и избавиться от бесполезных."
   ]
  },
  {
   "cell_type": "code",
   "execution_count": 56,
   "metadata": {
    "scrolled": true
   },
   "outputs": [
    {
     "data": {
      "text/html": [
       "<div>\n",
       "<style scoped>\n",
       "    .dataframe tbody tr th:only-of-type {\n",
       "        vertical-align: middle;\n",
       "    }\n",
       "\n",
       "    .dataframe tbody tr th {\n",
       "        vertical-align: top;\n",
       "    }\n",
       "\n",
       "    .dataframe thead th {\n",
       "        text-align: right;\n",
       "    }\n",
       "</style>\n",
       "<table border=\"1\" class=\"dataframe\">\n",
       "  <thead>\n",
       "    <tr style=\"text-align: right;\">\n",
       "      <th></th>\n",
       "      <th>date_crawled</th>\n",
       "      <th>price</th>\n",
       "      <th>vehicle_type</th>\n",
       "      <th>registration_year</th>\n",
       "      <th>gearbox</th>\n",
       "      <th>power</th>\n",
       "      <th>model</th>\n",
       "      <th>kilometer</th>\n",
       "      <th>registration_month</th>\n",
       "      <th>fuel_type</th>\n",
       "      <th>brand</th>\n",
       "      <th>repaired</th>\n",
       "      <th>date_created</th>\n",
       "      <th>postal_code</th>\n",
       "      <th>last_seen</th>\n",
       "    </tr>\n",
       "  </thead>\n",
       "  <tbody>\n",
       "    <tr>\n",
       "      <th>2</th>\n",
       "      <td>2016-03-14 12:52:21</td>\n",
       "      <td>9800</td>\n",
       "      <td>suv</td>\n",
       "      <td>2004</td>\n",
       "      <td>auto</td>\n",
       "      <td>163</td>\n",
       "      <td>grand</td>\n",
       "      <td>125000</td>\n",
       "      <td>8</td>\n",
       "      <td>gasoline</td>\n",
       "      <td>jeep</td>\n",
       "      <td>unknown</td>\n",
       "      <td>2016-03-14</td>\n",
       "      <td>90480</td>\n",
       "      <td>2016-04-05 12:47:46</td>\n",
       "    </tr>\n",
       "    <tr>\n",
       "      <th>3</th>\n",
       "      <td>2016-03-17 16:54:04</td>\n",
       "      <td>1500</td>\n",
       "      <td>small</td>\n",
       "      <td>2001</td>\n",
       "      <td>manual</td>\n",
       "      <td>75</td>\n",
       "      <td>golf</td>\n",
       "      <td>150000</td>\n",
       "      <td>6</td>\n",
       "      <td>petrol</td>\n",
       "      <td>volkswagen</td>\n",
       "      <td>no</td>\n",
       "      <td>2016-03-17</td>\n",
       "      <td>91074</td>\n",
       "      <td>2016-03-17 17:40:17</td>\n",
       "    </tr>\n",
       "    <tr>\n",
       "      <th>4</th>\n",
       "      <td>2016-03-31 17:25:20</td>\n",
       "      <td>3600</td>\n",
       "      <td>small</td>\n",
       "      <td>2008</td>\n",
       "      <td>manual</td>\n",
       "      <td>69</td>\n",
       "      <td>fabia</td>\n",
       "      <td>90000</td>\n",
       "      <td>7</td>\n",
       "      <td>gasoline</td>\n",
       "      <td>skoda</td>\n",
       "      <td>no</td>\n",
       "      <td>2016-03-31</td>\n",
       "      <td>60437</td>\n",
       "      <td>2016-04-06 10:17:21</td>\n",
       "    </tr>\n",
       "    <tr>\n",
       "      <th>5</th>\n",
       "      <td>2016-04-04 17:36:23</td>\n",
       "      <td>650</td>\n",
       "      <td>sedan</td>\n",
       "      <td>1995</td>\n",
       "      <td>manual</td>\n",
       "      <td>102</td>\n",
       "      <td>3er</td>\n",
       "      <td>150000</td>\n",
       "      <td>10</td>\n",
       "      <td>petrol</td>\n",
       "      <td>bmw</td>\n",
       "      <td>yes</td>\n",
       "      <td>2016-04-04</td>\n",
       "      <td>33775</td>\n",
       "      <td>2016-04-06 19:17:07</td>\n",
       "    </tr>\n",
       "    <tr>\n",
       "      <th>6</th>\n",
       "      <td>2016-04-01 20:48:51</td>\n",
       "      <td>2200</td>\n",
       "      <td>convertible</td>\n",
       "      <td>2004</td>\n",
       "      <td>manual</td>\n",
       "      <td>109</td>\n",
       "      <td>2_reihe</td>\n",
       "      <td>150000</td>\n",
       "      <td>8</td>\n",
       "      <td>petrol</td>\n",
       "      <td>peugeot</td>\n",
       "      <td>no</td>\n",
       "      <td>2016-04-01</td>\n",
       "      <td>67112</td>\n",
       "      <td>2016-04-05 18:18:39</td>\n",
       "    </tr>\n",
       "  </tbody>\n",
       "</table>\n",
       "</div>"
      ],
      "text/plain": [
       "         date_crawled  price vehicle_type  registration_year gearbox  power  \\\n",
       "2 2016-03-14 12:52:21   9800          suv               2004    auto    163   \n",
       "3 2016-03-17 16:54:04   1500        small               2001  manual     75   \n",
       "4 2016-03-31 17:25:20   3600        small               2008  manual     69   \n",
       "5 2016-04-04 17:36:23    650        sedan               1995  manual    102   \n",
       "6 2016-04-01 20:48:51   2200  convertible               2004  manual    109   \n",
       "\n",
       "     model  kilometer  registration_month fuel_type       brand repaired  \\\n",
       "2    grand     125000                   8  gasoline        jeep  unknown   \n",
       "3     golf     150000                   6    petrol  volkswagen       no   \n",
       "4    fabia      90000                   7  gasoline       skoda       no   \n",
       "5      3er     150000                  10    petrol         bmw      yes   \n",
       "6  2_reihe     150000                   8    petrol     peugeot       no   \n",
       "\n",
       "  date_created  postal_code           last_seen  \n",
       "2   2016-03-14        90480 2016-04-05 12:47:46  \n",
       "3   2016-03-17        91074 2016-03-17 17:40:17  \n",
       "4   2016-03-31        60437 2016-04-06 10:17:21  \n",
       "5   2016-04-04        33775 2016-04-06 19:17:07  \n",
       "6   2016-04-01        67112 2016-04-05 18:18:39  "
      ]
     },
     "execution_count": 56,
     "metadata": {},
     "output_type": "execute_result"
    }
   ],
   "source": [
    "df.head()"
   ]
  },
  {
   "cell_type": "code",
   "execution_count": 57,
   "metadata": {},
   "outputs": [
    {
     "data": {
      "text/plain": [
       "Index(['date_crawled', 'price', 'vehicle_type', 'registration_year', 'gearbox',\n",
       "       'power', 'model', 'kilometer', 'registration_month', 'fuel_type',\n",
       "       'brand', 'repaired', 'date_created', 'postal_code', 'last_seen'],\n",
       "      dtype='object')"
      ]
     },
     "execution_count": 57,
     "metadata": {},
     "output_type": "execute_result"
    }
   ],
   "source": [
    "df.columns"
   ]
  },
  {
   "cell_type": "code",
   "execution_count": 58,
   "metadata": {},
   "outputs": [],
   "source": [
    "columns = ['price', 'vehicle_type', 'registration_year', 'gearbox', 'power',\n",
    "           'model', 'kilometer', 'fuel_type', 'brand', 'repaired']"
   ]
  },
  {
   "cell_type": "markdown",
   "metadata": {},
   "source": [
    "Создадим новый датафрейм с данными для обучения."
   ]
  },
  {
   "cell_type": "code",
   "execution_count": 59,
   "metadata": {},
   "outputs": [
    {
     "data": {
      "text/html": [
       "<div>\n",
       "<style scoped>\n",
       "    .dataframe tbody tr th:only-of-type {\n",
       "        vertical-align: middle;\n",
       "    }\n",
       "\n",
       "    .dataframe tbody tr th {\n",
       "        vertical-align: top;\n",
       "    }\n",
       "\n",
       "    .dataframe thead th {\n",
       "        text-align: right;\n",
       "    }\n",
       "</style>\n",
       "<table border=\"1\" class=\"dataframe\">\n",
       "  <thead>\n",
       "    <tr style=\"text-align: right;\">\n",
       "      <th></th>\n",
       "      <th>price</th>\n",
       "      <th>vehicle_type</th>\n",
       "      <th>registration_year</th>\n",
       "      <th>gearbox</th>\n",
       "      <th>power</th>\n",
       "      <th>model</th>\n",
       "      <th>kilometer</th>\n",
       "      <th>fuel_type</th>\n",
       "      <th>brand</th>\n",
       "      <th>repaired</th>\n",
       "    </tr>\n",
       "  </thead>\n",
       "  <tbody>\n",
       "    <tr>\n",
       "      <th>2</th>\n",
       "      <td>9800</td>\n",
       "      <td>suv</td>\n",
       "      <td>2004</td>\n",
       "      <td>auto</td>\n",
       "      <td>163</td>\n",
       "      <td>grand</td>\n",
       "      <td>125000</td>\n",
       "      <td>gasoline</td>\n",
       "      <td>jeep</td>\n",
       "      <td>unknown</td>\n",
       "    </tr>\n",
       "    <tr>\n",
       "      <th>3</th>\n",
       "      <td>1500</td>\n",
       "      <td>small</td>\n",
       "      <td>2001</td>\n",
       "      <td>manual</td>\n",
       "      <td>75</td>\n",
       "      <td>golf</td>\n",
       "      <td>150000</td>\n",
       "      <td>petrol</td>\n",
       "      <td>volkswagen</td>\n",
       "      <td>no</td>\n",
       "    </tr>\n",
       "    <tr>\n",
       "      <th>4</th>\n",
       "      <td>3600</td>\n",
       "      <td>small</td>\n",
       "      <td>2008</td>\n",
       "      <td>manual</td>\n",
       "      <td>69</td>\n",
       "      <td>fabia</td>\n",
       "      <td>90000</td>\n",
       "      <td>gasoline</td>\n",
       "      <td>skoda</td>\n",
       "      <td>no</td>\n",
       "    </tr>\n",
       "    <tr>\n",
       "      <th>5</th>\n",
       "      <td>650</td>\n",
       "      <td>sedan</td>\n",
       "      <td>1995</td>\n",
       "      <td>manual</td>\n",
       "      <td>102</td>\n",
       "      <td>3er</td>\n",
       "      <td>150000</td>\n",
       "      <td>petrol</td>\n",
       "      <td>bmw</td>\n",
       "      <td>yes</td>\n",
       "    </tr>\n",
       "    <tr>\n",
       "      <th>6</th>\n",
       "      <td>2200</td>\n",
       "      <td>convertible</td>\n",
       "      <td>2004</td>\n",
       "      <td>manual</td>\n",
       "      <td>109</td>\n",
       "      <td>2_reihe</td>\n",
       "      <td>150000</td>\n",
       "      <td>petrol</td>\n",
       "      <td>peugeot</td>\n",
       "      <td>no</td>\n",
       "    </tr>\n",
       "  </tbody>\n",
       "</table>\n",
       "</div>"
      ],
      "text/plain": [
       "   price vehicle_type  registration_year gearbox  power    model  kilometer  \\\n",
       "2   9800          suv               2004    auto    163    grand     125000   \n",
       "3   1500        small               2001  manual     75     golf     150000   \n",
       "4   3600        small               2008  manual     69    fabia      90000   \n",
       "5    650        sedan               1995  manual    102      3er     150000   \n",
       "6   2200  convertible               2004  manual    109  2_reihe     150000   \n",
       "\n",
       "  fuel_type       brand repaired  \n",
       "2  gasoline        jeep  unknown  \n",
       "3    petrol  volkswagen       no  \n",
       "4  gasoline       skoda       no  \n",
       "5    petrol         bmw      yes  \n",
       "6    petrol     peugeot       no  "
      ]
     },
     "execution_count": 59,
     "metadata": {},
     "output_type": "execute_result"
    }
   ],
   "source": [
    "df_train = df[columns]\n",
    "df_train.head()"
   ]
  },
  {
   "cell_type": "code",
   "execution_count": 60,
   "metadata": {},
   "outputs": [
    {
     "name": "stdout",
     "output_type": "stream",
     "text": [
      "<class 'pandas.core.frame.DataFrame'>\n",
      "Int64Index: 273059 entries, 2 to 354368\n",
      "Data columns (total 10 columns):\n",
      " #   Column             Non-Null Count   Dtype \n",
      "---  ------             --------------   ----- \n",
      " 0   price              273059 non-null  int64 \n",
      " 1   vehicle_type       273059 non-null  object\n",
      " 2   registration_year  273059 non-null  int64 \n",
      " 3   gearbox            273059 non-null  object\n",
      " 4   power              273059 non-null  int64 \n",
      " 5   model              273059 non-null  object\n",
      " 6   kilometer          273059 non-null  int64 \n",
      " 7   fuel_type          273059 non-null  object\n",
      " 8   brand              273059 non-null  object\n",
      " 9   repaired           273059 non-null  object\n",
      "dtypes: int64(4), object(6)\n",
      "memory usage: 22.9+ MB\n"
     ]
    }
   ],
   "source": [
    "df_train.info()"
   ]
  },
  {
   "cell_type": "markdown",
   "metadata": {},
   "source": [
    "Не будет лишним сбросить индексы после проведения предобработки."
   ]
  },
  {
   "cell_type": "code",
   "execution_count": 61,
   "metadata": {},
   "outputs": [
    {
     "name": "stdout",
     "output_type": "stream",
     "text": [
      "<class 'pandas.core.frame.DataFrame'>\n",
      "RangeIndex: 273059 entries, 0 to 273058\n",
      "Data columns (total 10 columns):\n",
      " #   Column             Non-Null Count   Dtype \n",
      "---  ------             --------------   ----- \n",
      " 0   price              273059 non-null  int64 \n",
      " 1   vehicle_type       273059 non-null  object\n",
      " 2   registration_year  273059 non-null  int64 \n",
      " 3   gearbox            273059 non-null  object\n",
      " 4   power              273059 non-null  int64 \n",
      " 5   model              273059 non-null  object\n",
      " 6   kilometer          273059 non-null  int64 \n",
      " 7   fuel_type          273059 non-null  object\n",
      " 8   brand              273059 non-null  object\n",
      " 9   repaired           273059 non-null  object\n",
      "dtypes: int64(4), object(6)\n",
      "memory usage: 20.8+ MB\n"
     ]
    }
   ],
   "source": [
    "df_train = df_train.reset_index(drop=True)\n",
    "df_train.info()"
   ]
  },
  {
   "cell_type": "markdown",
   "metadata": {},
   "source": [
    "### Разделение на основную выборку и целевой параметр."
   ]
  },
  {
   "cell_type": "code",
   "execution_count": 62,
   "metadata": {},
   "outputs": [],
   "source": [
    "target = df_train['price']\n",
    "features = df_train.drop(['price'], axis=1)"
   ]
  },
  {
   "cell_type": "code",
   "execution_count": 63,
   "metadata": {},
   "outputs": [
    {
     "name": "stdout",
     "output_type": "stream",
     "text": [
      "(273059, 9)\n",
      "(273059,)\n"
     ]
    }
   ],
   "source": [
    "print(features.shape)\n",
    "print(target.shape)"
   ]
  },
  {
   "cell_type": "markdown",
   "metadata": {},
   "source": [
    "### Разделение данных на тренировочную и тестовую выборки."
   ]
  },
  {
   "cell_type": "code",
   "execution_count": 64,
   "metadata": {},
   "outputs": [],
   "source": [
    "features_train, features_test, target_train, target_test = train_test_split(features, target, test_size=0.25, random_state=12345)"
   ]
  },
  {
   "cell_type": "code",
   "execution_count": 65,
   "metadata": {},
   "outputs": [
    {
     "name": "stdout",
     "output_type": "stream",
     "text": [
      "train: (204794, 9) (204794,)\n",
      "test: (68265, 9) (68265,)\n"
     ]
    }
   ],
   "source": [
    "print('train:', features_train.shape, target_train.shape)\n",
    "print('test:', features_test.shape, target_test.shape)"
   ]
  },
  {
   "cell_type": "markdown",
   "metadata": {},
   "source": [
    "### Кодирование признаков."
   ]
  },
  {
   "cell_type": "markdown",
   "metadata": {},
   "source": [
    "Данные разделили, выбираем только категориальные признаки и кодируем их с помощью `OrdinalEncoder`."
   ]
  },
  {
   "cell_type": "code",
   "execution_count": 66,
   "metadata": {
    "scrolled": true
   },
   "outputs": [
    {
     "data": {
      "text/html": [
       "<div>\n",
       "<style scoped>\n",
       "    .dataframe tbody tr th:only-of-type {\n",
       "        vertical-align: middle;\n",
       "    }\n",
       "\n",
       "    .dataframe tbody tr th {\n",
       "        vertical-align: top;\n",
       "    }\n",
       "\n",
       "    .dataframe thead th {\n",
       "        text-align: right;\n",
       "    }\n",
       "</style>\n",
       "<table border=\"1\" class=\"dataframe\">\n",
       "  <thead>\n",
       "    <tr style=\"text-align: right;\">\n",
       "      <th></th>\n",
       "      <th>vehicle_type</th>\n",
       "      <th>registration_year</th>\n",
       "      <th>gearbox</th>\n",
       "      <th>power</th>\n",
       "      <th>model</th>\n",
       "      <th>kilometer</th>\n",
       "      <th>fuel_type</th>\n",
       "      <th>brand</th>\n",
       "      <th>repaired</th>\n",
       "    </tr>\n",
       "  </thead>\n",
       "  <tbody>\n",
       "    <tr>\n",
       "      <th>169466</th>\n",
       "      <td>wagon</td>\n",
       "      <td>2000</td>\n",
       "      <td>manual</td>\n",
       "      <td>116</td>\n",
       "      <td>golf</td>\n",
       "      <td>150000</td>\n",
       "      <td>gasoline</td>\n",
       "      <td>volkswagen</td>\n",
       "      <td>no</td>\n",
       "    </tr>\n",
       "    <tr>\n",
       "      <th>116627</th>\n",
       "      <td>small</td>\n",
       "      <td>2006</td>\n",
       "      <td>manual</td>\n",
       "      <td>80</td>\n",
       "      <td>polo</td>\n",
       "      <td>100000</td>\n",
       "      <td>gasoline</td>\n",
       "      <td>volkswagen</td>\n",
       "      <td>no</td>\n",
       "    </tr>\n",
       "    <tr>\n",
       "      <th>197071</th>\n",
       "      <td>convertible</td>\n",
       "      <td>2012</td>\n",
       "      <td>manual</td>\n",
       "      <td>102</td>\n",
       "      <td>other</td>\n",
       "      <td>60000</td>\n",
       "      <td>petrol</td>\n",
       "      <td>renault</td>\n",
       "      <td>no</td>\n",
       "    </tr>\n",
       "    <tr>\n",
       "      <th>121801</th>\n",
       "      <td>sedan</td>\n",
       "      <td>2005</td>\n",
       "      <td>auto</td>\n",
       "      <td>200</td>\n",
       "      <td>golf</td>\n",
       "      <td>150000</td>\n",
       "      <td>petrol</td>\n",
       "      <td>volkswagen</td>\n",
       "      <td>no</td>\n",
       "    </tr>\n",
       "    <tr>\n",
       "      <th>103399</th>\n",
       "      <td>small</td>\n",
       "      <td>2000</td>\n",
       "      <td>manual</td>\n",
       "      <td>54</td>\n",
       "      <td>micra</td>\n",
       "      <td>150000</td>\n",
       "      <td>petrol</td>\n",
       "      <td>nissan</td>\n",
       "      <td>no</td>\n",
       "    </tr>\n",
       "  </tbody>\n",
       "</table>\n",
       "</div>"
      ],
      "text/plain": [
       "       vehicle_type  registration_year gearbox  power  model  kilometer  \\\n",
       "169466        wagon               2000  manual    116   golf     150000   \n",
       "116627        small               2006  manual     80   polo     100000   \n",
       "197071  convertible               2012  manual    102  other      60000   \n",
       "121801        sedan               2005    auto    200   golf     150000   \n",
       "103399        small               2000  manual     54  micra     150000   \n",
       "\n",
       "       fuel_type       brand repaired  \n",
       "169466  gasoline  volkswagen       no  \n",
       "116627  gasoline  volkswagen       no  \n",
       "197071    petrol     renault       no  \n",
       "121801    petrol  volkswagen       no  \n",
       "103399    petrol      nissan       no  "
      ]
     },
     "execution_count": 66,
     "metadata": {},
     "output_type": "execute_result"
    }
   ],
   "source": [
    "features_train.head()"
   ]
  },
  {
   "cell_type": "code",
   "execution_count": 67,
   "metadata": {},
   "outputs": [
    {
     "data": {
      "text/plain": [
       "Index(['vehicle_type', 'registration_year', 'gearbox', 'power', 'model',\n",
       "       'kilometer', 'fuel_type', 'brand', 'repaired'],\n",
       "      dtype='object')"
      ]
     },
     "execution_count": 67,
     "metadata": {},
     "output_type": "execute_result"
    }
   ],
   "source": [
    "features_train.columns"
   ]
  },
  {
   "cell_type": "markdown",
   "metadata": {},
   "source": [
    "Выбираем только категориальные признаки."
   ]
  },
  {
   "cell_type": "code",
   "execution_count": 68,
   "metadata": {},
   "outputs": [],
   "source": [
    "columns = ['vehicle_type', 'gearbox', 'model', 'fuel_type', 'brand', 'repaired']"
   ]
  },
  {
   "cell_type": "code",
   "execution_count": 69,
   "metadata": {},
   "outputs": [
    {
     "data": {
      "text/plain": [
       "OrdinalEncoder()"
      ]
     },
     "execution_count": 69,
     "metadata": {},
     "output_type": "execute_result"
    }
   ],
   "source": [
    "encoder = OrdinalEncoder()\n",
    "encoder.fit(features_train[columns])"
   ]
  },
  {
   "cell_type": "code",
   "execution_count": 70,
   "metadata": {},
   "outputs": [
    {
     "data": {
      "text/html": [
       "<div>\n",
       "<style scoped>\n",
       "    .dataframe tbody tr th:only-of-type {\n",
       "        vertical-align: middle;\n",
       "    }\n",
       "\n",
       "    .dataframe tbody tr th {\n",
       "        vertical-align: top;\n",
       "    }\n",
       "\n",
       "    .dataframe thead th {\n",
       "        text-align: right;\n",
       "    }\n",
       "</style>\n",
       "<table border=\"1\" class=\"dataframe\">\n",
       "  <thead>\n",
       "    <tr style=\"text-align: right;\">\n",
       "      <th></th>\n",
       "      <th>vehicle_type</th>\n",
       "      <th>registration_year</th>\n",
       "      <th>gearbox</th>\n",
       "      <th>power</th>\n",
       "      <th>model</th>\n",
       "      <th>kilometer</th>\n",
       "      <th>fuel_type</th>\n",
       "      <th>brand</th>\n",
       "      <th>repaired</th>\n",
       "    </tr>\n",
       "  </thead>\n",
       "  <tbody>\n",
       "    <tr>\n",
       "      <th>169466</th>\n",
       "      <td>8.0</td>\n",
       "      <td>2000</td>\n",
       "      <td>1.0</td>\n",
       "      <td>116</td>\n",
       "      <td>116.0</td>\n",
       "      <td>150000</td>\n",
       "      <td>2.0</td>\n",
       "      <td>37.0</td>\n",
       "      <td>0.0</td>\n",
       "    </tr>\n",
       "    <tr>\n",
       "      <th>116627</th>\n",
       "      <td>5.0</td>\n",
       "      <td>2006</td>\n",
       "      <td>1.0</td>\n",
       "      <td>80</td>\n",
       "      <td>173.0</td>\n",
       "      <td>100000</td>\n",
       "      <td>2.0</td>\n",
       "      <td>37.0</td>\n",
       "      <td>0.0</td>\n",
       "    </tr>\n",
       "    <tr>\n",
       "      <th>197071</th>\n",
       "      <td>1.0</td>\n",
       "      <td>2012</td>\n",
       "      <td>1.0</td>\n",
       "      <td>102</td>\n",
       "      <td>166.0</td>\n",
       "      <td>60000</td>\n",
       "      <td>6.0</td>\n",
       "      <td>27.0</td>\n",
       "      <td>0.0</td>\n",
       "    </tr>\n",
       "    <tr>\n",
       "      <th>121801</th>\n",
       "      <td>4.0</td>\n",
       "      <td>2005</td>\n",
       "      <td>0.0</td>\n",
       "      <td>200</td>\n",
       "      <td>116.0</td>\n",
       "      <td>150000</td>\n",
       "      <td>6.0</td>\n",
       "      <td>37.0</td>\n",
       "      <td>0.0</td>\n",
       "    </tr>\n",
       "    <tr>\n",
       "      <th>103399</th>\n",
       "      <td>5.0</td>\n",
       "      <td>2000</td>\n",
       "      <td>1.0</td>\n",
       "      <td>54</td>\n",
       "      <td>151.0</td>\n",
       "      <td>150000</td>\n",
       "      <td>6.0</td>\n",
       "      <td>23.0</td>\n",
       "      <td>0.0</td>\n",
       "    </tr>\n",
       "  </tbody>\n",
       "</table>\n",
       "</div>"
      ],
      "text/plain": [
       "        vehicle_type  registration_year  gearbox  power  model  kilometer  \\\n",
       "169466           8.0               2000      1.0    116  116.0     150000   \n",
       "116627           5.0               2006      1.0     80  173.0     100000   \n",
       "197071           1.0               2012      1.0    102  166.0      60000   \n",
       "121801           4.0               2005      0.0    200  116.0     150000   \n",
       "103399           5.0               2000      1.0     54  151.0     150000   \n",
       "\n",
       "        fuel_type  brand  repaired  \n",
       "169466        2.0   37.0       0.0  \n",
       "116627        2.0   37.0       0.0  \n",
       "197071        6.0   27.0       0.0  \n",
       "121801        6.0   37.0       0.0  \n",
       "103399        6.0   23.0       0.0  "
      ]
     },
     "execution_count": 70,
     "metadata": {},
     "output_type": "execute_result"
    }
   ],
   "source": [
    "features_train[columns] = encoder.transform(features_train[columns])\n",
    "features_test[columns] = encoder.transform(features_test[columns])\n",
    "\n",
    "features_train.head()"
   ]
  },
  {
   "cell_type": "markdown",
   "metadata": {},
   "source": [
    "### Масштабирование данных."
   ]
  },
  {
   "cell_type": "markdown",
   "metadata": {},
   "source": [
    "В нашем датасете данные имеют разный масштаб. Для дальнейшей работы приведем их к одному масштабу с помощью `StandardScaler`."
   ]
  },
  {
   "cell_type": "code",
   "execution_count": 71,
   "metadata": {},
   "outputs": [
    {
     "data": {
      "text/plain": [
       "StandardScaler()"
      ]
     },
     "execution_count": 71,
     "metadata": {},
     "output_type": "execute_result"
    }
   ],
   "source": [
    "scaler = StandardScaler()\n",
    "scaler.fit(features_train)"
   ]
  },
  {
   "cell_type": "code",
   "execution_count": 72,
   "metadata": {},
   "outputs": [
    {
     "data": {
      "text/html": [
       "<div>\n",
       "<style scoped>\n",
       "    .dataframe tbody tr th:only-of-type {\n",
       "        vertical-align: middle;\n",
       "    }\n",
       "\n",
       "    .dataframe tbody tr th {\n",
       "        vertical-align: top;\n",
       "    }\n",
       "\n",
       "    .dataframe thead th {\n",
       "        text-align: right;\n",
       "    }\n",
       "</style>\n",
       "<table border=\"1\" class=\"dataframe\">\n",
       "  <thead>\n",
       "    <tr style=\"text-align: right;\">\n",
       "      <th></th>\n",
       "      <th>vehicle_type</th>\n",
       "      <th>registration_year</th>\n",
       "      <th>gearbox</th>\n",
       "      <th>power</th>\n",
       "      <th>model</th>\n",
       "      <th>kilometer</th>\n",
       "      <th>fuel_type</th>\n",
       "      <th>brand</th>\n",
       "      <th>repaired</th>\n",
       "    </tr>\n",
       "  </thead>\n",
       "  <tbody>\n",
       "    <tr>\n",
       "      <th>0</th>\n",
       "      <td>1.412698</td>\n",
       "      <td>-0.644115</td>\n",
       "      <td>0.503303</td>\n",
       "      <td>-0.102662</td>\n",
       "      <td>0.126590</td>\n",
       "      <td>0.591433</td>\n",
       "      <td>-1.461674</td>\n",
       "      <td>1.277815</td>\n",
       "      <td>-0.502643</td>\n",
       "    </tr>\n",
       "    <tr>\n",
       "      <th>1</th>\n",
       "      <td>0.171484</td>\n",
       "      <td>0.470569</td>\n",
       "      <td>0.503303</td>\n",
       "      <td>-0.781044</td>\n",
       "      <td>0.935172</td>\n",
       "      <td>-0.784464</td>\n",
       "      <td>-1.461674</td>\n",
       "      <td>1.277815</td>\n",
       "      <td>-0.502643</td>\n",
       "    </tr>\n",
       "    <tr>\n",
       "      <th>2</th>\n",
       "      <td>-1.483468</td>\n",
       "      <td>1.585253</td>\n",
       "      <td>0.503303</td>\n",
       "      <td>-0.366477</td>\n",
       "      <td>0.835873</td>\n",
       "      <td>-1.885182</td>\n",
       "      <td>0.719225</td>\n",
       "      <td>0.512200</td>\n",
       "      <td>-0.502643</td>\n",
       "    </tr>\n",
       "    <tr>\n",
       "      <th>3</th>\n",
       "      <td>-0.242254</td>\n",
       "      <td>0.284788</td>\n",
       "      <td>-1.986875</td>\n",
       "      <td>1.480229</td>\n",
       "      <td>0.126590</td>\n",
       "      <td>0.591433</td>\n",
       "      <td>0.719225</td>\n",
       "      <td>1.277815</td>\n",
       "      <td>-0.502643</td>\n",
       "    </tr>\n",
       "    <tr>\n",
       "      <th>4</th>\n",
       "      <td>0.171484</td>\n",
       "      <td>-0.644115</td>\n",
       "      <td>0.503303</td>\n",
       "      <td>-1.270987</td>\n",
       "      <td>0.623088</td>\n",
       "      <td>0.591433</td>\n",
       "      <td>0.719225</td>\n",
       "      <td>0.205954</td>\n",
       "      <td>-0.502643</td>\n",
       "    </tr>\n",
       "  </tbody>\n",
       "</table>\n",
       "</div>"
      ],
      "text/plain": [
       "   vehicle_type  registration_year   gearbox     power     model  kilometer  \\\n",
       "0      1.412698          -0.644115  0.503303 -0.102662  0.126590   0.591433   \n",
       "1      0.171484           0.470569  0.503303 -0.781044  0.935172  -0.784464   \n",
       "2     -1.483468           1.585253  0.503303 -0.366477  0.835873  -1.885182   \n",
       "3     -0.242254           0.284788 -1.986875  1.480229  0.126590   0.591433   \n",
       "4      0.171484          -0.644115  0.503303 -1.270987  0.623088   0.591433   \n",
       "\n",
       "   fuel_type     brand  repaired  \n",
       "0  -1.461674  1.277815 -0.502643  \n",
       "1  -1.461674  1.277815 -0.502643  \n",
       "2   0.719225  0.512200 -0.502643  \n",
       "3   0.719225  1.277815 -0.502643  \n",
       "4   0.719225  0.205954 -0.502643  "
      ]
     },
     "execution_count": 72,
     "metadata": {},
     "output_type": "execute_result"
    }
   ],
   "source": [
    "features_train = pd.DataFrame(scaler.transform(features_train), columns=features_train.columns)\n",
    "features_test = pd.DataFrame(scaler.transform(features_test), columns=features_test.columns)\n",
    "\n",
    "features_train.head()"
   ]
  },
  {
   "cell_type": "markdown",
   "metadata": {},
   "source": [
    "## Обучение моделей"
   ]
  },
  {
   "cell_type": "code",
   "execution_count": 76,
   "metadata": {},
   "outputs": [],
   "source": [
    "def rmse(target, predict):\n",
    "    return mean_squared_error(target, predict) ** 0.5\n",
    "\n",
    "rmse_scorer = make_scorer(rmse, greater_is_better=False)"
   ]
  },
  {
   "cell_type": "code",
   "execution_count": 77,
   "metadata": {},
   "outputs": [],
   "source": [
    "def best_hyperparams(estimator, grid_space):\n",
    "    grid = GridSearchCV(estimator=estimator,\n",
    "                        param_grid=grid_space,\n",
    "                        cv=3,\n",
    "                        scoring=rmse_scorer,\n",
    "                        verbose=100)\n",
    "\n",
    "    grid.fit(features_train, target_train)\n",
    "    \n",
    "    return grid"
   ]
  },
  {
   "cell_type": "markdown",
   "metadata": {},
   "source": [
    "### Случайный лес."
   ]
  },
  {
   "cell_type": "code",
   "execution_count": 78,
   "metadata": {},
   "outputs": [],
   "source": [
    "rf_best_params = (100, 19)"
   ]
  },
  {
   "cell_type": "code",
   "execution_count": 79,
   "metadata": {},
   "outputs": [],
   "source": [
    "# grid_space = {'n_estimators': [10, 40, 70, 100],\n",
    "#               'max_depth': [i for i in range(1, 21, 2)],}"
   ]
  },
  {
   "cell_type": "code",
   "execution_count": 80,
   "metadata": {
    "scrolled": true
   },
   "outputs": [],
   "source": [
    "# %%time\n",
    "\n",
    "# grid = best_hyperparams(RandomForestRegressor(random_state=12345), grid_space)"
   ]
  },
  {
   "cell_type": "code",
   "execution_count": 81,
   "metadata": {},
   "outputs": [],
   "source": [
    "# print('best params:', grid.best_params_)\n",
    "# print('best rmse:', abs(grid.best_score_))"
   ]
  },
  {
   "cell_type": "markdown",
   "metadata": {},
   "source": [
    "### CatBoost."
   ]
  },
  {
   "cell_type": "code",
   "execution_count": 82,
   "metadata": {},
   "outputs": [],
   "source": [
    "cb_best_params = (500, 9)"
   ]
  },
  {
   "cell_type": "code",
   "execution_count": 83,
   "metadata": {},
   "outputs": [],
   "source": [
    "# grid_space = {'n_estimators': [i for i in range(100, 510, 50)],\n",
    "#               'max_depth': [i for i in range(1, 11)],}"
   ]
  },
  {
   "cell_type": "code",
   "execution_count": 84,
   "metadata": {
    "scrolled": true
   },
   "outputs": [],
   "source": [
    "# %%time\n",
    "\n",
    "# grid = best_hyperparams(CatBoostRegressor(random_state=12345, learning_rate=0.5, verbose=100), grid_space)"
   ]
  },
  {
   "cell_type": "code",
   "execution_count": 85,
   "metadata": {},
   "outputs": [],
   "source": [
    "# print('best params:', grid.best_params_)\n",
    "# print('best rmse:', abs(grid.best_score_))"
   ]
  },
  {
   "cell_type": "markdown",
   "metadata": {},
   "source": [
    "### LightGBM."
   ]
  },
  {
   "cell_type": "code",
   "execution_count": 86,
   "metadata": {},
   "outputs": [],
   "source": [
    "lgbm_best_params = (500, 8)"
   ]
  },
  {
   "cell_type": "code",
   "execution_count": 87,
   "metadata": {
    "scrolled": true
   },
   "outputs": [],
   "source": [
    "# %%time\n",
    "\n",
    "# grid = best_hyperparams(LGBMRegressor(random_state=12345, learning_rate=0.5), grid_space)"
   ]
  },
  {
   "cell_type": "code",
   "execution_count": 88,
   "metadata": {},
   "outputs": [],
   "source": [
    "# print('best params:', grid.best_params_)\n",
    "# print('best rmse:', abs(grid.best_score_))"
   ]
  },
  {
   "cell_type": "code",
   "execution_count": 89,
   "metadata": {},
   "outputs": [
    {
     "data": {
      "text/html": [
       "<div>\n",
       "<style scoped>\n",
       "    .dataframe tbody tr th:only-of-type {\n",
       "        vertical-align: middle;\n",
       "    }\n",
       "\n",
       "    .dataframe tbody tr th {\n",
       "        vertical-align: top;\n",
       "    }\n",
       "\n",
       "    .dataframe thead th {\n",
       "        text-align: right;\n",
       "    }\n",
       "</style>\n",
       "<table border=\"1\" class=\"dataframe\">\n",
       "  <thead>\n",
       "    <tr style=\"text-align: right;\">\n",
       "      <th></th>\n",
       "      <th>n_estimators</th>\n",
       "      <th>depth</th>\n",
       "    </tr>\n",
       "  </thead>\n",
       "  <tbody>\n",
       "    <tr>\n",
       "      <th>random_forest</th>\n",
       "      <td>100</td>\n",
       "      <td>19</td>\n",
       "    </tr>\n",
       "    <tr>\n",
       "      <th>catboost</th>\n",
       "      <td>500</td>\n",
       "      <td>9</td>\n",
       "    </tr>\n",
       "    <tr>\n",
       "      <th>lightgbm</th>\n",
       "      <td>500</td>\n",
       "      <td>8</td>\n",
       "    </tr>\n",
       "  </tbody>\n",
       "</table>\n",
       "</div>"
      ],
      "text/plain": [
       "               n_estimators  depth\n",
       "random_forest           100     19\n",
       "catboost                500      9\n",
       "lightgbm                500      8"
      ]
     },
     "execution_count": 89,
     "metadata": {},
     "output_type": "execute_result"
    }
   ],
   "source": [
    "best_params = pd.DataFrame([rf_best_params, cb_best_params, lgbm_best_params],\n",
    "                          index=['random_forest', 'catboost', 'lightgbm'],\n",
    "                          columns=['n_estimators', 'max_depth'])\n",
    "\n",
    "best_params"
   ]
  },
  {
   "cell_type": "markdown",
   "metadata": {},
   "source": [
    "### Вывод."
   ]
  },
  {
   "cell_type": "markdown",
   "metadata": {},
   "source": [
    "Были обучены три модели машинного обучения: `RandomForest`, `CatBoost` и `LightGBM`. Для всех моделей были подобраны оптимальные гиперпараметры:\n",
    "- RandomForest: `n_estimators` = 100, `max_depth` = 19;\n",
    "- CatBoost: `n_estimators` = 500, `max_depth` = 9;\n",
    "- LightGBM: `n_estimators` = 500, `max_depth` = 8."
   ]
  },
  {
   "cell_type": "markdown",
   "metadata": {},
   "source": [
    "## Анализ моделей"
   ]
  },
  {
   "cell_type": "code",
   "execution_count": 90,
   "metadata": {},
   "outputs": [],
   "source": [
    "def analyze_parameters(model):\n",
    "    scores = cross_val_score(model, features_train, target_train, cv=5, scoring=rmse_scorer)\n",
    "    final_score = abs(scores.mean())\n",
    "    \n",
    "    start = time.time()\n",
    "    \n",
    "    model.fit(features_train, target_train)\n",
    "    \n",
    "    time_train = time.time() - start\n",
    "    \n",
    "    start = time.time()\n",
    "    \n",
    "    model.predict(features_train)\n",
    "    \n",
    "    time_pred = time.time() - start\n",
    "    \n",
    "    return final_score, time_train, time_pred"
   ]
  },
  {
   "cell_type": "code",
   "execution_count": 91,
   "metadata": {},
   "outputs": [],
   "source": [
    "column = ['RMSE', 'train_time, s', 'pred_time, s']\n",
    "index = ['random_forest', 'catboost', 'lightgbm']\n",
    "\n",
    "comp_table = []"
   ]
  },
  {
   "cell_type": "markdown",
   "metadata": {},
   "source": [
    "### Случайный лес."
   ]
  },
  {
   "cell_type": "code",
   "execution_count": 92,
   "metadata": {},
   "outputs": [
    {
     "name": "stdout",
     "output_type": "stream",
     "text": [
      "CPU times: user 3min 23s, sys: 2.21 s, total: 3min 25s\n",
      "Wall time: 3min 26s\n"
     ]
    },
    {
     "data": {
      "text/plain": [
       "[(1505.0662364362947, 39.217299938201904, 5.005403518676758)]"
      ]
     },
     "execution_count": 92,
     "metadata": {},
     "output_type": "execute_result"
    }
   ],
   "source": [
    "%%time\n",
    "\n",
    "comp_table.append(analyze_parameters(RandomForestRegressor(random_state=12345, n_estimators=100, max_depth=19)))\n",
    "comp_table"
   ]
  },
  {
   "cell_type": "markdown",
   "metadata": {},
   "source": [
    "### CatBoost."
   ]
  },
  {
   "cell_type": "code",
   "execution_count": 93,
   "metadata": {
    "scrolled": true
   },
   "outputs": [
    {
     "name": "stdout",
     "output_type": "stream",
     "text": [
      "0:\tlearn: 3136.2635473\ttotal: 84.4ms\tremaining: 42.1s\n",
      "100:\tlearn: 1382.0895453\ttotal: 3.15s\tremaining: 12.4s\n",
      "200:\tlearn: 1290.9851178\ttotal: 6.17s\tremaining: 9.18s\n",
      "300:\tlearn: 1243.1776558\ttotal: 8.93s\tremaining: 5.9s\n",
      "400:\tlearn: 1206.6157932\ttotal: 11.9s\tremaining: 2.93s\n",
      "499:\tlearn: 1179.8472490\ttotal: 14.8s\tremaining: 0us\n",
      "0:\tlearn: 3144.6148300\ttotal: 32.2ms\tremaining: 16.1s\n",
      "100:\tlearn: 1387.1010729\ttotal: 2.93s\tremaining: 11.6s\n",
      "200:\tlearn: 1299.3468508\ttotal: 5.85s\tremaining: 8.7s\n",
      "300:\tlearn: 1248.5750034\ttotal: 8.74s\tremaining: 5.78s\n",
      "400:\tlearn: 1213.3169943\ttotal: 11.6s\tremaining: 2.87s\n",
      "499:\tlearn: 1186.8628040\ttotal: 14.4s\tremaining: 0us\n",
      "0:\tlearn: 3126.8695819\ttotal: 28.4ms\tremaining: 14.1s\n",
      "100:\tlearn: 1383.4726170\ttotal: 2.85s\tremaining: 11.3s\n",
      "200:\tlearn: 1297.7912469\ttotal: 5.63s\tremaining: 8.37s\n",
      "300:\tlearn: 1243.3486850\ttotal: 8.44s\tremaining: 5.58s\n",
      "400:\tlearn: 1206.8384401\ttotal: 11.3s\tremaining: 2.8s\n",
      "499:\tlearn: 1177.3900943\ttotal: 14.2s\tremaining: 0us\n",
      "0:\tlearn: 3103.1046277\ttotal: 30.2ms\tremaining: 15.1s\n",
      "100:\tlearn: 1385.1209720\ttotal: 3.02s\tremaining: 11.9s\n",
      "200:\tlearn: 1297.3072989\ttotal: 5.88s\tremaining: 8.75s\n",
      "300:\tlearn: 1247.0168982\ttotal: 8.65s\tremaining: 5.72s\n",
      "400:\tlearn: 1209.1992406\ttotal: 11.6s\tremaining: 2.85s\n",
      "499:\tlearn: 1183.9852996\ttotal: 14.5s\tremaining: 0us\n",
      "0:\tlearn: 3131.3851624\ttotal: 30.9ms\tremaining: 15.4s\n",
      "100:\tlearn: 1378.7640080\ttotal: 3.24s\tremaining: 12.8s\n",
      "200:\tlearn: 1295.1705201\ttotal: 6.14s\tremaining: 9.13s\n",
      "300:\tlearn: 1244.7591755\ttotal: 9.06s\tremaining: 5.99s\n",
      "400:\tlearn: 1208.5616990\ttotal: 12s\tremaining: 2.96s\n",
      "499:\tlearn: 1180.5470564\ttotal: 14.9s\tremaining: 0us\n",
      "0:\tlearn: 3103.2301725\ttotal: 44.6ms\tremaining: 22.2s\n",
      "100:\tlearn: 1394.1559773\ttotal: 3.75s\tremaining: 14.8s\n",
      "200:\tlearn: 1310.6102384\ttotal: 7.37s\tremaining: 11s\n",
      "300:\tlearn: 1261.3628415\ttotal: 10.9s\tremaining: 7.19s\n",
      "400:\tlearn: 1227.3522728\ttotal: 14.4s\tremaining: 3.55s\n",
      "499:\tlearn: 1201.6476316\ttotal: 17.8s\tremaining: 0us\n",
      "CPU times: user 1min 31s, sys: 456 ms, total: 1min 32s\n",
      "Wall time: 1min 36s\n"
     ]
    },
    {
     "data": {
      "text/plain": [
       "[(1505.0662364362947, 39.217299938201904, 5.005403518676758),\n",
       " (1462.20626406599, 18.75302219390869, 0.32926487922668457)]"
      ]
     },
     "execution_count": 93,
     "metadata": {},
     "output_type": "execute_result"
    }
   ],
   "source": [
    "%%time\n",
    "\n",
    "comp_table.append(analyze_parameters(CatBoostRegressor(random_state=12345, loss_function='RMSE', verbose=100,\n",
    "                                                       learning_rate=0.5, max_depth=9, n_estimators=500)))\n",
    "comp_table"
   ]
  },
  {
   "cell_type": "markdown",
   "metadata": {},
   "source": [
    "### LightGBM."
   ]
  },
  {
   "cell_type": "code",
   "execution_count": 94,
   "metadata": {},
   "outputs": [
    {
     "name": "stdout",
     "output_type": "stream",
     "text": [
      "CPU times: user 48min 19s, sys: 20.1 s, total: 48min 39s\n",
      "Wall time: 48min 57s\n"
     ]
    },
    {
     "data": {
      "text/plain": [
       "[(1505.0662364362947, 39.217299938201904, 5.005403518676758),\n",
       " (1462.20626406599, 18.75302219390869, 0.32926487922668457),\n",
       " (1474.5629649578468, 11.810840845108032, 4.708601951599121)]"
      ]
     },
     "execution_count": 94,
     "metadata": {},
     "output_type": "execute_result"
    }
   ],
   "source": [
    "%%time\n",
    "\n",
    "comp_table.append(analyze_parameters(LGBMRegressor(random_state=12345, learning_rate=0.5, max_depth=8, n_estimators=500)))\n",
    "comp_table"
   ]
  },
  {
   "cell_type": "code",
   "execution_count": 95,
   "metadata": {},
   "outputs": [
    {
     "data": {
      "text/html": [
       "<div>\n",
       "<style scoped>\n",
       "    .dataframe tbody tr th:only-of-type {\n",
       "        vertical-align: middle;\n",
       "    }\n",
       "\n",
       "    .dataframe tbody tr th {\n",
       "        vertical-align: top;\n",
       "    }\n",
       "\n",
       "    .dataframe thead th {\n",
       "        text-align: right;\n",
       "    }\n",
       "</style>\n",
       "<table border=\"1\" class=\"dataframe\">\n",
       "  <thead>\n",
       "    <tr style=\"text-align: right;\">\n",
       "      <th></th>\n",
       "      <th>RMSE</th>\n",
       "      <th>train_time, s</th>\n",
       "      <th>pred_time, s</th>\n",
       "    </tr>\n",
       "  </thead>\n",
       "  <tbody>\n",
       "    <tr>\n",
       "      <th>random_forest</th>\n",
       "      <td>1505.066236</td>\n",
       "      <td>39.217300</td>\n",
       "      <td>5.005404</td>\n",
       "    </tr>\n",
       "    <tr>\n",
       "      <th>catboost</th>\n",
       "      <td>1462.206264</td>\n",
       "      <td>18.753022</td>\n",
       "      <td>0.329265</td>\n",
       "    </tr>\n",
       "    <tr>\n",
       "      <th>lightgbm</th>\n",
       "      <td>1474.562965</td>\n",
       "      <td>11.810841</td>\n",
       "      <td>4.708602</td>\n",
       "    </tr>\n",
       "  </tbody>\n",
       "</table>\n",
       "</div>"
      ],
      "text/plain": [
       "                      RMSE  train_time, s  pred_time, s\n",
       "random_forest  1505.066236      39.217300      5.005404\n",
       "catboost       1462.206264      18.753022      0.329265\n",
       "lightgbm       1474.562965      11.810841      4.708602"
      ]
     },
     "execution_count": 95,
     "metadata": {},
     "output_type": "execute_result"
    }
   ],
   "source": [
    "pd.DataFrame(comp_table, index=index, columns=column)"
   ]
  },
  {
   "cell_type": "markdown",
   "metadata": {},
   "source": [
    "### Вывод."
   ]
  },
  {
   "cell_type": "markdown",
   "metadata": {},
   "source": [
    "- По целевому показателю `rmse` все модели показали примерно одинаковый результат, но лучше всего - `CatBoost`;\n",
    "- По времени обучения самой быстрой оказалась модель `LightGBM`;\n",
    "- По скорости предсказания `CatBoost` снова оказалась лучшей.\n",
    "\n",
    "Исходя из вышеперечисленного, самым оптимальным выбором будет модель `CatBoost`. Ее возьмем для финального тестирования."
   ]
  },
  {
   "cell_type": "markdown",
   "metadata": {},
   "source": [
    "## Тестирование лучшей модели"
   ]
  },
  {
   "cell_type": "code",
   "execution_count": 96,
   "metadata": {},
   "outputs": [
    {
     "name": "stdout",
     "output_type": "stream",
     "text": [
      "0:\tlearn: 3103.2301725\ttotal: 35.3ms\tremaining: 17.6s\n",
      "100:\tlearn: 1394.1559773\ttotal: 3.34s\tremaining: 13.2s\n",
      "200:\tlearn: 1310.6102384\ttotal: 6.73s\tremaining: 10s\n",
      "300:\tlearn: 1261.3628415\ttotal: 10.2s\tremaining: 6.75s\n",
      "400:\tlearn: 1227.3522728\ttotal: 13.6s\tremaining: 3.37s\n",
      "499:\tlearn: 1201.6476316\ttotal: 16.9s\tremaining: 0us\n"
     ]
    },
    {
     "data": {
      "text/plain": [
       "<catboost.core.CatBoostRegressor at 0x7f53064987c0>"
      ]
     },
     "execution_count": 96,
     "metadata": {},
     "output_type": "execute_result"
    }
   ],
   "source": [
    "model = CatBoostRegressor(random_state=12345, loss_function='RMSE', verbose=100,\n",
    "                          learning_rate=0.5, max_depth=9, n_estimators=500)\n",
    "\n",
    "model.fit(features_train, target_train)"
   ]
  },
  {
   "cell_type": "code",
   "execution_count": 97,
   "metadata": {},
   "outputs": [
    {
     "name": "stdout",
     "output_type": "stream",
     "text": [
      "rmse: 1449.9432950276473\n"
     ]
    }
   ],
   "source": [
    "predictions = model.predict(features_test)\n",
    "print('rmse:', rmse(target_test, predictions))"
   ]
  },
  {
   "cell_type": "markdown",
   "metadata": {},
   "source": [
    "Полученное значение метрики `rmse` соответствует заявленным требованиям."
   ]
  },
  {
   "cell_type": "markdown",
   "metadata": {},
   "source": [
    "## Вывод."
   ]
  },
  {
   "cell_type": "markdown",
   "metadata": {},
   "source": [
    "Было проведено исследование, целью которого являлось определить, какая модель машинного обучения лучше всего подходит заказчику, исходя из его критериев:\n",
    "- качество предсказания;\n",
    "- время обучения модели;\n",
    "- время предсказания модели.\n",
    "\n",
    "В нашем распоряжении были данные, которые требовали предварительной обработки. Результаты этого процесса описаны в пункте `1.18`. Помимо этого была исследована корреляция параметров с целевым признаком (стоимость). Результаты получились следующие:\n",
    "- Заметна сильная положительная зависимость `стоимости` автомобиля от `года регистрации` и `мощности`;\n",
    "- В то же время можно заметить, что `пробег` имеет сильное отрицательное влияние на `стоимость` автомобиля.\n",
    "\n",
    "На обучение были взяты три модели: `RandomForest`, `CatBoost` и `LightGBM`. Для каждой из них были подобраны оптимальные гиперпараметры:\n",
    "- RandomForest: `n_estimators` = 100, `max_depth` = 19;\n",
    "- CatBoost: `n_estimators` = 500, `max_depth` = 9;\n",
    "- LightGBM: `n_estimators` = 500, `max_depth` = 8.\n",
    "\n",
    "В дальнейшем они были обучены с использованием этих гиперпараметров. Результаты получились следующие:\n",
    "- По целевому показателю `rmse` все модели показали примерно одинаковый результат, но лучше всего - `CatBoost`;\n",
    "- По времени обучения самой быстрой оказалась модель `LightGBM`;\n",
    "- По скорости предсказания `CatBoost` снова оказалась лучшей.\n",
    "\n",
    "Исходя из вышеперечисленного, самым оптимальным выбором будет модель `CatBoost`. Несмотря на то, что обучается она немного дольше, чем `LightGBM`, по остальным показателям она является наилучшей. Финальное тестирование также показало, что модель отвечает требованиям заказчика."
   ]
  }
 ],
 "metadata": {
  "ExecuteTimeLog": [
   {
    "duration": 409,
    "start_time": "2023-03-25T21:22:50.941Z"
   },
   {
    "duration": 2645,
    "start_time": "2023-03-25T21:23:45.836Z"
   },
   {
    "duration": 95,
    "start_time": "2023-03-25T21:24:29.960Z"
   },
   {
    "duration": 7291,
    "start_time": "2023-03-25T21:25:29.502Z"
   },
   {
    "duration": 71,
    "start_time": "2023-03-25T21:26:02.752Z"
   },
   {
    "duration": 700,
    "start_time": "2023-03-25T21:26:13.972Z"
   },
   {
    "duration": 733,
    "start_time": "2023-03-25T21:26:34.623Z"
   },
   {
    "duration": 7,
    "start_time": "2023-03-25T21:27:39.784Z"
   },
   {
    "duration": 6,
    "start_time": "2023-03-25T21:31:08.416Z"
   },
   {
    "duration": 2,
    "start_time": "2023-03-25T21:31:18.402Z"
   },
   {
    "duration": 7,
    "start_time": "2023-03-25T21:31:23.743Z"
   },
   {
    "duration": 34,
    "start_time": "2023-03-25T21:36:18.770Z"
   },
   {
    "duration": 18,
    "start_time": "2023-03-25T21:39:39.378Z"
   },
   {
    "duration": 536,
    "start_time": "2023-03-25T21:40:18.262Z"
   },
   {
    "duration": 3904,
    "start_time": "2023-03-25T21:40:26.427Z"
   },
   {
    "duration": 200922,
    "start_time": "2023-03-25T21:40:59.907Z"
   },
   {
    "duration": 490,
    "start_time": "2023-03-25T21:44:47.670Z"
   },
   {
    "duration": 475,
    "start_time": "2023-03-25T21:45:04.517Z"
   },
   {
    "duration": 97614,
    "start_time": "2023-03-25T21:49:27.457Z"
   },
   {
    "duration": 1319,
    "start_time": "2023-03-30T15:32:07.454Z"
   },
   {
    "duration": 1102,
    "start_time": "2023-03-30T15:32:08.775Z"
   },
   {
    "duration": 121,
    "start_time": "2023-03-30T15:32:09.879Z"
   },
   {
    "duration": 801,
    "start_time": "2023-03-30T15:32:10.002Z"
   },
   {
    "duration": 120,
    "start_time": "2023-03-30T15:32:10.805Z"
   },
   {
    "duration": 0,
    "start_time": "2023-03-30T15:32:10.926Z"
   },
   {
    "duration": 13,
    "start_time": "2023-03-30T15:32:17.151Z"
   },
   {
    "duration": 6,
    "start_time": "2023-03-30T15:33:27.839Z"
   },
   {
    "duration": 5,
    "start_time": "2023-03-30T15:33:32.559Z"
   },
   {
    "duration": 55,
    "start_time": "2023-03-30T15:46:26.353Z"
   },
   {
    "duration": 44,
    "start_time": "2023-03-30T15:47:57.738Z"
   },
   {
    "duration": 46,
    "start_time": "2023-03-30T15:48:09.737Z"
   },
   {
    "duration": 34,
    "start_time": "2023-03-30T15:48:42.609Z"
   },
   {
    "duration": 31,
    "start_time": "2023-03-30T15:49:01.161Z"
   },
   {
    "duration": 34,
    "start_time": "2023-03-30T15:49:11.860Z"
   },
   {
    "duration": 34,
    "start_time": "2023-03-30T15:51:49.981Z"
   },
   {
    "duration": 28,
    "start_time": "2023-03-30T15:53:28.375Z"
   },
   {
    "duration": 12,
    "start_time": "2023-03-30T15:57:45.654Z"
   },
   {
    "duration": 6,
    "start_time": "2023-03-30T15:58:35.516Z"
   },
   {
    "duration": 13,
    "start_time": "2023-03-30T15:58:48.052Z"
   },
   {
    "duration": 10,
    "start_time": "2023-03-30T15:59:03.092Z"
   },
   {
    "duration": 14,
    "start_time": "2023-03-30T15:59:18.084Z"
   },
   {
    "duration": 141,
    "start_time": "2023-03-30T16:00:36.954Z"
   },
   {
    "duration": 77,
    "start_time": "2023-03-30T16:00:40.399Z"
   },
   {
    "duration": 137,
    "start_time": "2023-03-30T16:00:44.696Z"
   },
   {
    "duration": 100,
    "start_time": "2023-03-30T16:00:59.832Z"
   },
   {
    "duration": 174,
    "start_time": "2023-03-30T16:01:04.373Z"
   },
   {
    "duration": 244,
    "start_time": "2023-03-30T16:01:16.116Z"
   },
   {
    "duration": 330,
    "start_time": "2023-03-30T16:01:52.323Z"
   },
   {
    "duration": 172,
    "start_time": "2023-03-30T16:02:00.823Z"
   },
   {
    "duration": 189,
    "start_time": "2023-03-30T16:02:16.254Z"
   },
   {
    "duration": 9,
    "start_time": "2023-03-30T16:03:20.572Z"
   },
   {
    "duration": 175,
    "start_time": "2023-03-30T16:03:36.430Z"
   },
   {
    "duration": 173,
    "start_time": "2023-03-30T16:03:51.793Z"
   },
   {
    "duration": 161,
    "start_time": "2023-03-30T16:03:58.656Z"
   },
   {
    "duration": 160,
    "start_time": "2023-03-30T16:05:42.903Z"
   },
   {
    "duration": 12,
    "start_time": "2023-03-30T16:05:56.786Z"
   },
   {
    "duration": 197,
    "start_time": "2023-03-30T16:06:16.409Z"
   },
   {
    "duration": 10,
    "start_time": "2023-03-30T16:07:37.177Z"
   },
   {
    "duration": 174,
    "start_time": "2023-03-30T16:07:56.282Z"
   },
   {
    "duration": 13,
    "start_time": "2023-03-30T16:09:55.113Z"
   },
   {
    "duration": 236,
    "start_time": "2023-03-30T16:10:37.681Z"
   },
   {
    "duration": 159,
    "start_time": "2023-03-30T16:10:58.083Z"
   },
   {
    "duration": 159,
    "start_time": "2023-03-30T16:11:06.875Z"
   },
   {
    "duration": 11,
    "start_time": "2023-03-30T16:11:49.443Z"
   },
   {
    "duration": 165,
    "start_time": "2023-03-30T16:13:41.697Z"
   },
   {
    "duration": 13,
    "start_time": "2023-03-30T16:15:08.252Z"
   },
   {
    "duration": 162,
    "start_time": "2023-03-30T16:15:13.158Z"
   },
   {
    "duration": 157,
    "start_time": "2023-03-30T16:15:40.567Z"
   },
   {
    "duration": 12,
    "start_time": "2023-03-30T16:15:50.258Z"
   },
   {
    "duration": 14,
    "start_time": "2023-03-30T16:15:59.249Z"
   },
   {
    "duration": 169,
    "start_time": "2023-03-30T16:16:16.886Z"
   },
   {
    "duration": 169,
    "start_time": "2023-03-30T16:16:46.806Z"
   },
   {
    "duration": 263,
    "start_time": "2023-03-30T16:16:56.171Z"
   },
   {
    "duration": 191,
    "start_time": "2023-03-30T16:20:23.281Z"
   },
   {
    "duration": 162,
    "start_time": "2023-03-30T16:20:35.341Z"
   },
   {
    "duration": 164,
    "start_time": "2023-03-30T16:25:02.574Z"
   },
   {
    "duration": 176,
    "start_time": "2023-03-30T16:25:26.966Z"
   },
   {
    "duration": 11,
    "start_time": "2023-03-30T16:27:27.450Z"
   },
   {
    "duration": 155,
    "start_time": "2023-03-30T16:27:34.001Z"
   },
   {
    "duration": 3,
    "start_time": "2023-03-30T16:28:34.900Z"
   },
   {
    "duration": 158,
    "start_time": "2023-03-30T16:28:43.661Z"
   },
   {
    "duration": 1132,
    "start_time": "2023-03-30T16:30:43.923Z"
   },
   {
    "duration": 745,
    "start_time": "2023-03-30T16:30:45.057Z"
   },
   {
    "duration": 116,
    "start_time": "2023-03-30T16:30:45.803Z"
   },
   {
    "duration": 820,
    "start_time": "2023-03-30T16:30:45.921Z"
   },
   {
    "duration": 6,
    "start_time": "2023-03-30T16:30:46.743Z"
   },
   {
    "duration": 190,
    "start_time": "2023-03-30T16:30:46.750Z"
   },
   {
    "duration": 222,
    "start_time": "2023-03-30T16:31:01.582Z"
   },
   {
    "duration": 301,
    "start_time": "2023-03-30T16:32:19.298Z"
   },
   {
    "duration": 218,
    "start_time": "2023-03-30T16:32:32.103Z"
   },
   {
    "duration": 227,
    "start_time": "2023-03-30T16:32:41.159Z"
   },
   {
    "duration": 40,
    "start_time": "2023-03-30T16:33:54.336Z"
   },
   {
    "duration": 154,
    "start_time": "2023-03-30T16:35:42.931Z"
   },
   {
    "duration": 10,
    "start_time": "2023-03-30T16:35:51.084Z"
   },
   {
    "duration": 230,
    "start_time": "2023-03-30T16:40:52.348Z"
   },
   {
    "duration": 242,
    "start_time": "2023-03-30T16:41:01.235Z"
   },
   {
    "duration": 246,
    "start_time": "2023-03-30T16:41:09.507Z"
   },
   {
    "duration": 203,
    "start_time": "2023-03-30T16:41:21.520Z"
   },
   {
    "duration": 230,
    "start_time": "2023-03-30T16:41:29.519Z"
   },
   {
    "duration": 250,
    "start_time": "2023-03-30T16:41:36.146Z"
   },
   {
    "duration": 11,
    "start_time": "2023-03-30T16:41:57.040Z"
   },
   {
    "duration": 13,
    "start_time": "2023-03-30T16:42:05.240Z"
   },
   {
    "duration": 29,
    "start_time": "2023-03-30T16:44:57.708Z"
   },
   {
    "duration": 29,
    "start_time": "2023-03-30T16:45:21.579Z"
   },
   {
    "duration": 29,
    "start_time": "2023-03-30T16:45:28.280Z"
   },
   {
    "duration": 29,
    "start_time": "2023-03-30T16:47:07.506Z"
   },
   {
    "duration": 31,
    "start_time": "2023-03-30T16:47:31.478Z"
   },
   {
    "duration": 19,
    "start_time": "2023-03-30T16:47:54.409Z"
   },
   {
    "duration": 1137,
    "start_time": "2023-03-30T16:48:09.446Z"
   },
   {
    "duration": 756,
    "start_time": "2023-03-30T16:48:10.584Z"
   },
   {
    "duration": 117,
    "start_time": "2023-03-30T16:48:11.342Z"
   },
   {
    "duration": 772,
    "start_time": "2023-03-30T16:48:11.461Z"
   },
   {
    "duration": 7,
    "start_time": "2023-03-30T16:48:12.235Z"
   },
   {
    "duration": 263,
    "start_time": "2023-03-30T16:48:12.244Z"
   },
   {
    "duration": 241,
    "start_time": "2023-03-30T16:48:12.508Z"
   },
   {
    "duration": 15,
    "start_time": "2023-03-30T16:48:12.750Z"
   },
   {
    "duration": 106,
    "start_time": "2023-03-30T16:48:12.766Z"
   },
   {
    "duration": 26,
    "start_time": "2023-03-30T16:48:12.874Z"
   },
   {
    "duration": 20,
    "start_time": "2023-03-30T16:48:12.901Z"
   },
   {
    "duration": 212,
    "start_time": "2023-03-30T16:49:03.182Z"
   },
   {
    "duration": 209,
    "start_time": "2023-03-30T16:50:36.806Z"
   },
   {
    "duration": 1134,
    "start_time": "2023-03-30T16:51:01.533Z"
   },
   {
    "duration": 764,
    "start_time": "2023-03-30T16:51:02.669Z"
   },
   {
    "duration": 120,
    "start_time": "2023-03-30T16:51:03.435Z"
   },
   {
    "duration": 746,
    "start_time": "2023-03-30T16:51:03.557Z"
   },
   {
    "duration": 4,
    "start_time": "2023-03-30T16:51:04.305Z"
   },
   {
    "duration": 260,
    "start_time": "2023-03-30T16:51:04.311Z"
   },
   {
    "duration": 233,
    "start_time": "2023-03-30T16:51:04.572Z"
   },
   {
    "duration": 14,
    "start_time": "2023-03-30T16:51:04.807Z"
   },
   {
    "duration": 96,
    "start_time": "2023-03-30T16:51:04.822Z"
   },
   {
    "duration": 422,
    "start_time": "2023-03-30T16:51:04.921Z"
   },
   {
    "duration": 0,
    "start_time": "2023-03-30T16:51:05.345Z"
   },
   {
    "duration": 0,
    "start_time": "2023-03-30T16:51:05.347Z"
   },
   {
    "duration": 169,
    "start_time": "2023-03-30T16:51:51.036Z"
   },
   {
    "duration": 45,
    "start_time": "2023-03-30T16:52:06.294Z"
   },
   {
    "duration": 37,
    "start_time": "2023-03-30T16:52:18.499Z"
   },
   {
    "duration": 1093,
    "start_time": "2023-03-30T16:52:24.917Z"
   },
   {
    "duration": 783,
    "start_time": "2023-03-30T16:52:26.012Z"
   },
   {
    "duration": 147,
    "start_time": "2023-03-30T16:52:26.797Z"
   },
   {
    "duration": 774,
    "start_time": "2023-03-30T16:52:26.947Z"
   },
   {
    "duration": 5,
    "start_time": "2023-03-30T16:52:27.722Z"
   },
   {
    "duration": 242,
    "start_time": "2023-03-30T16:52:27.728Z"
   },
   {
    "duration": 234,
    "start_time": "2023-03-30T16:52:27.972Z"
   },
   {
    "duration": 14,
    "start_time": "2023-03-30T16:52:28.207Z"
   },
   {
    "duration": 95,
    "start_time": "2023-03-30T16:52:28.223Z"
   },
   {
    "duration": 43,
    "start_time": "2023-03-30T16:52:28.320Z"
   },
   {
    "duration": 31,
    "start_time": "2023-03-30T16:52:28.365Z"
   },
   {
    "duration": 20,
    "start_time": "2023-03-30T16:52:28.398Z"
   },
   {
    "duration": 47,
    "start_time": "2023-03-30T17:01:12.658Z"
   },
   {
    "duration": 257,
    "start_time": "2023-03-30T17:01:30.179Z"
   },
   {
    "duration": 56,
    "start_time": "2023-03-30T17:04:01.410Z"
   },
   {
    "duration": 35,
    "start_time": "2023-03-30T17:04:17.423Z"
   },
   {
    "duration": 7,
    "start_time": "2023-03-30T17:05:01.060Z"
   },
   {
    "duration": 1197,
    "start_time": "2023-03-30T17:05:06.014Z"
   },
   {
    "duration": 798,
    "start_time": "2023-03-30T17:05:07.213Z"
   },
   {
    "duration": 138,
    "start_time": "2023-03-30T17:05:08.012Z"
   },
   {
    "duration": 805,
    "start_time": "2023-03-30T17:05:08.152Z"
   },
   {
    "duration": 5,
    "start_time": "2023-03-30T17:05:08.958Z"
   },
   {
    "duration": 495,
    "start_time": "2023-03-30T17:05:08.965Z"
   },
   {
    "duration": 248,
    "start_time": "2023-03-30T17:05:09.462Z"
   },
   {
    "duration": 13,
    "start_time": "2023-03-30T17:05:09.712Z"
   },
   {
    "duration": 136,
    "start_time": "2023-03-30T17:05:09.727Z"
   },
   {
    "duration": 247,
    "start_time": "2023-03-30T17:05:09.865Z"
   },
   {
    "duration": 18,
    "start_time": "2023-03-30T17:05:10.113Z"
   },
   {
    "duration": 31,
    "start_time": "2023-03-30T17:05:10.132Z"
   },
   {
    "duration": 28,
    "start_time": "2023-03-30T17:05:10.165Z"
   },
   {
    "duration": 19,
    "start_time": "2023-03-30T17:05:10.195Z"
   },
   {
    "duration": 48,
    "start_time": "2023-03-30T17:05:10.215Z"
   },
   {
    "duration": 31,
    "start_time": "2023-03-30T17:08:00.024Z"
   },
   {
    "duration": 77,
    "start_time": "2023-03-30T17:08:07.476Z"
   },
   {
    "duration": 21,
    "start_time": "2023-03-30T17:08:15.856Z"
   },
   {
    "duration": 23,
    "start_time": "2023-03-30T17:08:22.135Z"
   },
   {
    "duration": 21,
    "start_time": "2023-03-30T17:08:33.833Z"
   },
   {
    "duration": 20,
    "start_time": "2023-03-30T17:08:43.179Z"
   },
   {
    "duration": 20,
    "start_time": "2023-03-30T17:08:49.213Z"
   },
   {
    "duration": 18,
    "start_time": "2023-03-30T17:09:41.405Z"
   },
   {
    "duration": 173,
    "start_time": "2023-03-30T17:11:35.834Z"
   },
   {
    "duration": 94,
    "start_time": "2023-03-30T17:11:56.913Z"
   },
   {
    "duration": 91,
    "start_time": "2023-03-30T17:12:15.997Z"
   },
   {
    "duration": 8,
    "start_time": "2023-03-30T17:12:44.593Z"
   },
   {
    "duration": 1120,
    "start_time": "2023-03-30T17:13:58.769Z"
   },
   {
    "duration": 810,
    "start_time": "2023-03-30T17:13:59.891Z"
   },
   {
    "duration": 119,
    "start_time": "2023-03-30T17:14:00.703Z"
   },
   {
    "duration": 788,
    "start_time": "2023-03-30T17:14:00.824Z"
   },
   {
    "duration": 5,
    "start_time": "2023-03-30T17:14:01.614Z"
   },
   {
    "duration": 255,
    "start_time": "2023-03-30T17:14:01.621Z"
   },
   {
    "duration": 237,
    "start_time": "2023-03-30T17:14:01.878Z"
   },
   {
    "duration": 9,
    "start_time": "2023-03-30T17:14:02.117Z"
   },
   {
    "duration": 127,
    "start_time": "2023-03-30T17:14:02.127Z"
   },
   {
    "duration": 244,
    "start_time": "2023-03-30T17:14:02.256Z"
   },
   {
    "duration": 20,
    "start_time": "2023-03-30T17:14:02.501Z"
   },
   {
    "duration": 95,
    "start_time": "2023-03-30T17:14:02.522Z"
   },
   {
    "duration": 7,
    "start_time": "2023-03-30T17:14:02.619Z"
   },
   {
    "duration": 31,
    "start_time": "2023-03-30T17:14:02.627Z"
   },
   {
    "duration": 48,
    "start_time": "2023-03-30T17:14:02.660Z"
   },
   {
    "duration": 40,
    "start_time": "2023-03-30T17:14:02.709Z"
   },
   {
    "duration": 18,
    "start_time": "2023-03-30T17:14:02.750Z"
   },
   {
    "duration": 223,
    "start_time": "2023-03-30T17:14:59.416Z"
   },
   {
    "duration": 325,
    "start_time": "2023-03-30T17:15:11.850Z"
   },
   {
    "duration": 254,
    "start_time": "2023-03-30T17:15:27.034Z"
   },
   {
    "duration": 194,
    "start_time": "2023-03-30T17:15:48.183Z"
   },
   {
    "duration": 223,
    "start_time": "2023-03-30T17:16:03.068Z"
   },
   {
    "duration": 319,
    "start_time": "2023-03-30T17:18:02.183Z"
   },
   {
    "duration": 222,
    "start_time": "2023-03-30T17:18:30.894Z"
   },
   {
    "duration": 258,
    "start_time": "2023-03-30T17:18:48.476Z"
   },
   {
    "duration": 12,
    "start_time": "2023-03-30T17:19:17.932Z"
   },
   {
    "duration": 77,
    "start_time": "2023-03-30T17:20:34.618Z"
   },
   {
    "duration": 51,
    "start_time": "2023-03-30T17:20:52.152Z"
   },
   {
    "duration": 7,
    "start_time": "2023-03-30T17:20:53.876Z"
   },
   {
    "duration": 1147,
    "start_time": "2023-03-30T17:20:59.611Z"
   },
   {
    "duration": 798,
    "start_time": "2023-03-30T17:21:00.760Z"
   },
   {
    "duration": 124,
    "start_time": "2023-03-30T17:21:01.559Z"
   },
   {
    "duration": 776,
    "start_time": "2023-03-30T17:21:01.685Z"
   },
   {
    "duration": 5,
    "start_time": "2023-03-30T17:21:02.462Z"
   },
   {
    "duration": 266,
    "start_time": "2023-03-30T17:21:02.469Z"
   },
   {
    "duration": 258,
    "start_time": "2023-03-30T17:21:02.736Z"
   },
   {
    "duration": 10,
    "start_time": "2023-03-30T17:21:02.996Z"
   },
   {
    "duration": 142,
    "start_time": "2023-03-30T17:21:03.007Z"
   },
   {
    "duration": 257,
    "start_time": "2023-03-30T17:21:03.159Z"
   },
   {
    "duration": 23,
    "start_time": "2023-03-30T17:21:03.418Z"
   },
   {
    "duration": 84,
    "start_time": "2023-03-30T17:21:03.442Z"
   },
   {
    "duration": 7,
    "start_time": "2023-03-30T17:21:03.528Z"
   },
   {
    "duration": 249,
    "start_time": "2023-03-30T17:21:03.545Z"
   },
   {
    "duration": 10,
    "start_time": "2023-03-30T17:21:03.796Z"
   },
   {
    "duration": 84,
    "start_time": "2023-03-30T17:21:03.807Z"
   },
   {
    "duration": 8,
    "start_time": "2023-03-30T17:21:03.893Z"
   },
   {
    "duration": 27,
    "start_time": "2023-03-30T17:21:03.903Z"
   },
   {
    "duration": 50,
    "start_time": "2023-03-30T17:21:03.931Z"
   },
   {
    "duration": 24,
    "start_time": "2023-03-30T17:21:03.983Z"
   },
   {
    "duration": 26,
    "start_time": "2023-03-30T17:21:04.010Z"
   },
   {
    "duration": 7,
    "start_time": "2023-03-30T17:27:50.331Z"
   },
   {
    "duration": 1169,
    "start_time": "2023-03-30T17:28:04.751Z"
   },
   {
    "duration": 853,
    "start_time": "2023-03-30T17:28:05.922Z"
   },
   {
    "duration": 144,
    "start_time": "2023-03-30T17:28:06.776Z"
   },
   {
    "duration": 832,
    "start_time": "2023-03-30T17:28:06.921Z"
   },
   {
    "duration": 6,
    "start_time": "2023-03-30T17:28:07.755Z"
   },
   {
    "duration": 244,
    "start_time": "2023-03-30T17:28:07.763Z"
   },
   {
    "duration": 243,
    "start_time": "2023-03-30T17:28:08.009Z"
   },
   {
    "duration": 13,
    "start_time": "2023-03-30T17:28:08.254Z"
   },
   {
    "duration": 130,
    "start_time": "2023-03-30T17:28:08.268Z"
   },
   {
    "duration": 281,
    "start_time": "2023-03-30T17:28:08.400Z"
   },
   {
    "duration": 17,
    "start_time": "2023-03-30T17:28:08.682Z"
   },
   {
    "duration": 99,
    "start_time": "2023-03-30T17:28:08.701Z"
   },
   {
    "duration": 7,
    "start_time": "2023-03-30T17:28:08.802Z"
   },
   {
    "duration": 237,
    "start_time": "2023-03-30T17:28:08.812Z"
   },
   {
    "duration": 12,
    "start_time": "2023-03-30T17:28:09.050Z"
   },
   {
    "duration": 57,
    "start_time": "2023-03-30T17:28:09.063Z"
   },
   {
    "duration": 19,
    "start_time": "2023-03-30T17:28:09.121Z"
   },
   {
    "duration": 29,
    "start_time": "2023-03-30T17:28:09.142Z"
   },
   {
    "duration": 31,
    "start_time": "2023-03-30T17:28:09.173Z"
   },
   {
    "duration": 17,
    "start_time": "2023-03-30T17:28:09.206Z"
   },
   {
    "duration": 37,
    "start_time": "2023-03-30T17:28:09.224Z"
   },
   {
    "duration": 1358,
    "start_time": "2023-04-09T07:09:28.698Z"
   },
   {
    "duration": 2999,
    "start_time": "2023-04-09T07:09:30.058Z"
   },
   {
    "duration": 141,
    "start_time": "2023-04-09T07:09:33.060Z"
   },
   {
    "duration": 6,
    "start_time": "2023-04-09T07:09:33.204Z"
   },
   {
    "duration": 291,
    "start_time": "2023-04-09T07:09:33.212Z"
   },
   {
    "duration": 122,
    "start_time": "2023-04-09T07:09:33.505Z"
   },
   {
    "duration": 0,
    "start_time": "2023-04-09T07:09:33.629Z"
   },
   {
    "duration": 0,
    "start_time": "2023-04-09T07:09:33.630Z"
   },
   {
    "duration": 0,
    "start_time": "2023-04-09T07:09:33.634Z"
   },
   {
    "duration": 0,
    "start_time": "2023-04-09T07:09:33.637Z"
   },
   {
    "duration": 0,
    "start_time": "2023-04-09T07:09:33.638Z"
   },
   {
    "duration": 0,
    "start_time": "2023-04-09T07:09:33.639Z"
   },
   {
    "duration": 0,
    "start_time": "2023-04-09T07:09:33.640Z"
   },
   {
    "duration": 0,
    "start_time": "2023-04-09T07:09:33.641Z"
   },
   {
    "duration": 0,
    "start_time": "2023-04-09T07:09:33.642Z"
   },
   {
    "duration": 0,
    "start_time": "2023-04-09T07:09:33.643Z"
   },
   {
    "duration": 0,
    "start_time": "2023-04-09T07:09:33.645Z"
   },
   {
    "duration": 0,
    "start_time": "2023-04-09T07:09:33.645Z"
   },
   {
    "duration": 0,
    "start_time": "2023-04-09T07:09:33.647Z"
   },
   {
    "duration": 0,
    "start_time": "2023-04-09T07:09:33.648Z"
   },
   {
    "duration": 0,
    "start_time": "2023-04-09T07:09:33.654Z"
   },
   {
    "duration": 0,
    "start_time": "2023-04-09T07:09:33.655Z"
   },
   {
    "duration": 246,
    "start_time": "2023-04-09T07:14:10.811Z"
   },
   {
    "duration": 231,
    "start_time": "2023-04-09T07:15:07.944Z"
   },
   {
    "duration": 248,
    "start_time": "2023-04-09T07:16:57.845Z"
   },
   {
    "duration": 34,
    "start_time": "2023-04-09T07:18:30.626Z"
   },
   {
    "duration": 17,
    "start_time": "2023-04-09T07:18:41.743Z"
   },
   {
    "duration": 21,
    "start_time": "2023-04-09T07:19:24.631Z"
   },
   {
    "duration": 12,
    "start_time": "2023-04-09T07:19:29.176Z"
   },
   {
    "duration": 15,
    "start_time": "2023-04-09T07:19:33.841Z"
   },
   {
    "duration": 13,
    "start_time": "2023-04-09T07:19:39.117Z"
   },
   {
    "duration": 17,
    "start_time": "2023-04-09T07:19:46.774Z"
   },
   {
    "duration": 18,
    "start_time": "2023-04-09T07:20:26.597Z"
   },
   {
    "duration": 12,
    "start_time": "2023-04-09T07:20:42.405Z"
   },
   {
    "duration": 12,
    "start_time": "2023-04-09T07:21:05.550Z"
   },
   {
    "duration": 15,
    "start_time": "2023-04-09T07:21:15.711Z"
   },
   {
    "duration": 13,
    "start_time": "2023-04-09T07:21:48.906Z"
   },
   {
    "duration": 435,
    "start_time": "2023-04-09T07:22:11.713Z"
   },
   {
    "duration": 416,
    "start_time": "2023-04-09T07:22:26.683Z"
   },
   {
    "duration": 16,
    "start_time": "2023-04-09T07:22:52.444Z"
   },
   {
    "duration": 19,
    "start_time": "2023-04-09T07:23:14.518Z"
   },
   {
    "duration": 40,
    "start_time": "2023-04-09T07:24:26.741Z"
   },
   {
    "duration": 10,
    "start_time": "2023-04-09T07:24:48.717Z"
   },
   {
    "duration": 1277,
    "start_time": "2023-04-09T14:19:57.295Z"
   },
   {
    "duration": 2611,
    "start_time": "2023-04-09T14:19:58.574Z"
   },
   {
    "duration": 135,
    "start_time": "2023-04-09T14:20:01.186Z"
   },
   {
    "duration": 28,
    "start_time": "2023-04-09T14:20:01.323Z"
   },
   {
    "duration": 309,
    "start_time": "2023-04-09T14:20:01.352Z"
   },
   {
    "duration": 275,
    "start_time": "2023-04-09T14:20:01.663Z"
   },
   {
    "duration": 18,
    "start_time": "2023-04-09T14:20:01.940Z"
   },
   {
    "duration": 43,
    "start_time": "2023-04-09T14:20:01.960Z"
   },
   {
    "duration": 40,
    "start_time": "2023-04-09T14:20:02.004Z"
   },
   {
    "duration": 7,
    "start_time": "2023-04-09T14:20:02.047Z"
   },
   {
    "duration": 146,
    "start_time": "2023-04-09T14:20:02.055Z"
   },
   {
    "duration": 0,
    "start_time": "2023-04-09T14:20:02.203Z"
   },
   {
    "duration": 0,
    "start_time": "2023-04-09T14:20:02.204Z"
   },
   {
    "duration": 0,
    "start_time": "2023-04-09T14:20:02.205Z"
   },
   {
    "duration": 0,
    "start_time": "2023-04-09T14:20:02.206Z"
   },
   {
    "duration": 1,
    "start_time": "2023-04-09T14:20:02.207Z"
   },
   {
    "duration": 0,
    "start_time": "2023-04-09T14:20:02.208Z"
   },
   {
    "duration": 0,
    "start_time": "2023-04-09T14:20:02.209Z"
   },
   {
    "duration": 0,
    "start_time": "2023-04-09T14:20:02.210Z"
   },
   {
    "duration": 0,
    "start_time": "2023-04-09T14:20:02.211Z"
   },
   {
    "duration": 0,
    "start_time": "2023-04-09T14:20:02.212Z"
   },
   {
    "duration": 0,
    "start_time": "2023-04-09T14:20:02.213Z"
   },
   {
    "duration": 0,
    "start_time": "2023-04-09T14:20:02.214Z"
   },
   {
    "duration": 0,
    "start_time": "2023-04-09T14:20:02.215Z"
   },
   {
    "duration": 0,
    "start_time": "2023-04-09T14:20:02.216Z"
   },
   {
    "duration": 0,
    "start_time": "2023-04-09T14:20:02.217Z"
   },
   {
    "duration": 0,
    "start_time": "2023-04-09T14:20:02.218Z"
   },
   {
    "duration": 14,
    "start_time": "2023-04-09T14:22:52.322Z"
   },
   {
    "duration": 15,
    "start_time": "2023-04-09T14:23:40.398Z"
   },
   {
    "duration": 16,
    "start_time": "2023-04-09T14:23:59.918Z"
   },
   {
    "duration": 19,
    "start_time": "2023-04-09T14:26:24.270Z"
   },
   {
    "duration": 17,
    "start_time": "2023-04-09T14:27:24.568Z"
   },
   {
    "duration": 9,
    "start_time": "2023-04-09T14:27:39.136Z"
   },
   {
    "duration": 8,
    "start_time": "2023-04-09T14:27:51.137Z"
   },
   {
    "duration": 7,
    "start_time": "2023-04-09T14:28:06.657Z"
   },
   {
    "duration": 15,
    "start_time": "2023-04-09T14:28:24.398Z"
   },
   {
    "duration": 19,
    "start_time": "2023-04-09T14:28:51.371Z"
   },
   {
    "duration": 7,
    "start_time": "2023-04-09T14:29:46.294Z"
   },
   {
    "duration": 5,
    "start_time": "2023-04-09T14:30:33.302Z"
   },
   {
    "duration": 10,
    "start_time": "2023-04-09T14:32:30.798Z"
   },
   {
    "duration": 8,
    "start_time": "2023-04-09T14:32:38.035Z"
   },
   {
    "duration": 9,
    "start_time": "2023-04-09T14:34:42.034Z"
   },
   {
    "duration": 173,
    "start_time": "2023-04-09T14:34:54.627Z"
   },
   {
    "duration": 223,
    "start_time": "2023-04-09T14:35:22.923Z"
   },
   {
    "duration": 209,
    "start_time": "2023-04-09T14:35:29.255Z"
   },
   {
    "duration": 149,
    "start_time": "2023-04-09T14:36:22.770Z"
   },
   {
    "duration": 122,
    "start_time": "2023-04-09T14:36:37.589Z"
   },
   {
    "duration": 371,
    "start_time": "2023-04-09T14:37:18.389Z"
   },
   {
    "duration": 378,
    "start_time": "2023-04-09T14:37:37.845Z"
   },
   {
    "duration": 311,
    "start_time": "2023-04-09T14:38:06.388Z"
   },
   {
    "duration": 390,
    "start_time": "2023-04-09T14:38:21.818Z"
   },
   {
    "duration": 375,
    "start_time": "2023-04-09T14:39:01.987Z"
   },
   {
    "duration": 9,
    "start_time": "2023-04-09T14:41:20.801Z"
   },
   {
    "duration": 25,
    "start_time": "2023-04-09T14:41:36.464Z"
   },
   {
    "duration": 10,
    "start_time": "2023-04-09T14:41:44.284Z"
   },
   {
    "duration": 17,
    "start_time": "2023-04-09T14:41:52.742Z"
   },
   {
    "duration": 11,
    "start_time": "2023-04-09T14:41:59.588Z"
   },
   {
    "duration": 37,
    "start_time": "2023-04-09T14:42:25.125Z"
   },
   {
    "duration": 5,
    "start_time": "2023-04-09T14:46:46.503Z"
   },
   {
    "duration": 23,
    "start_time": "2023-04-09T14:48:43.406Z"
   },
   {
    "duration": 71,
    "start_time": "2023-04-09T14:49:05.806Z"
   },
   {
    "duration": 37,
    "start_time": "2023-04-09T14:53:30.484Z"
   },
   {
    "duration": 45,
    "start_time": "2023-04-09T15:00:45.915Z"
   },
   {
    "duration": 28,
    "start_time": "2023-04-09T15:01:13.970Z"
   },
   {
    "duration": 3,
    "start_time": "2023-04-09T15:03:24.525Z"
   },
   {
    "duration": 38,
    "start_time": "2023-04-09T15:03:32.322Z"
   },
   {
    "duration": 29,
    "start_time": "2023-04-09T15:03:33.467Z"
   },
   {
    "duration": 1052,
    "start_time": "2023-04-09T15:03:43.043Z"
   },
   {
    "duration": 3,
    "start_time": "2023-04-09T15:03:44.096Z"
   },
   {
    "duration": 786,
    "start_time": "2023-04-09T15:03:44.100Z"
   },
   {
    "duration": 117,
    "start_time": "2023-04-09T15:03:44.888Z"
   },
   {
    "duration": 4,
    "start_time": "2023-04-09T15:03:45.007Z"
   },
   {
    "duration": 297,
    "start_time": "2023-04-09T15:03:45.012Z"
   },
   {
    "duration": 271,
    "start_time": "2023-04-09T15:03:45.311Z"
   },
   {
    "duration": 18,
    "start_time": "2023-04-09T15:03:45.584Z"
   },
   {
    "duration": 17,
    "start_time": "2023-04-09T15:03:45.603Z"
   },
   {
    "duration": 32,
    "start_time": "2023-04-09T15:03:45.623Z"
   },
   {
    "duration": 30,
    "start_time": "2023-04-09T15:03:45.656Z"
   },
   {
    "duration": 15,
    "start_time": "2023-04-09T15:03:45.688Z"
   },
   {
    "duration": 24,
    "start_time": "2023-04-09T15:03:45.705Z"
   },
   {
    "duration": 24,
    "start_time": "2023-04-09T15:03:45.731Z"
   },
   {
    "duration": 30,
    "start_time": "2023-04-09T15:03:45.757Z"
   },
   {
    "duration": 234,
    "start_time": "2023-04-09T15:03:45.789Z"
   },
   {
    "duration": 4,
    "start_time": "2023-04-09T15:03:46.025Z"
   },
   {
    "duration": 53,
    "start_time": "2023-04-09T15:03:46.030Z"
   },
   {
    "duration": 28,
    "start_time": "2023-04-09T15:03:46.085Z"
   },
   {
    "duration": 96,
    "start_time": "2023-04-09T15:03:46.115Z"
   },
   {
    "duration": 38,
    "start_time": "2023-04-09T15:03:46.214Z"
   },
   {
    "duration": 54,
    "start_time": "2023-04-09T15:03:46.254Z"
   },
   {
    "duration": 22,
    "start_time": "2023-04-09T15:03:46.310Z"
   },
   {
    "duration": 123,
    "start_time": "2023-04-09T15:03:46.334Z"
   },
   {
    "duration": 0,
    "start_time": "2023-04-09T15:03:46.459Z"
   },
   {
    "duration": 0,
    "start_time": "2023-04-09T15:03:46.461Z"
   },
   {
    "duration": 0,
    "start_time": "2023-04-09T15:03:46.462Z"
   },
   {
    "duration": 0,
    "start_time": "2023-04-09T15:03:46.463Z"
   },
   {
    "duration": 0,
    "start_time": "2023-04-09T15:03:46.474Z"
   },
   {
    "duration": 0,
    "start_time": "2023-04-09T15:03:46.475Z"
   },
   {
    "duration": 0,
    "start_time": "2023-04-09T15:03:46.476Z"
   },
   {
    "duration": 0,
    "start_time": "2023-04-09T15:03:46.477Z"
   },
   {
    "duration": 0,
    "start_time": "2023-04-09T15:03:46.487Z"
   },
   {
    "duration": 0,
    "start_time": "2023-04-09T15:03:46.488Z"
   },
   {
    "duration": 0,
    "start_time": "2023-04-09T15:03:46.490Z"
   },
   {
    "duration": 0,
    "start_time": "2023-04-09T15:03:46.491Z"
   },
   {
    "duration": 0,
    "start_time": "2023-04-09T15:03:46.492Z"
   },
   {
    "duration": 0,
    "start_time": "2023-04-09T15:03:46.494Z"
   },
   {
    "duration": 0,
    "start_time": "2023-04-09T15:03:46.495Z"
   },
   {
    "duration": 0,
    "start_time": "2023-04-09T15:03:46.496Z"
   },
   {
    "duration": 268,
    "start_time": "2023-04-09T15:04:28.587Z"
   },
   {
    "duration": 254,
    "start_time": "2023-04-09T15:06:40.501Z"
   },
   {
    "duration": 358,
    "start_time": "2023-04-09T15:06:44.904Z"
   },
   {
    "duration": 384,
    "start_time": "2023-04-09T15:06:54.326Z"
   },
   {
    "duration": 364,
    "start_time": "2023-04-09T15:14:21.132Z"
   },
   {
    "duration": 284,
    "start_time": "2023-04-09T15:14:29.762Z"
   },
   {
    "duration": 436,
    "start_time": "2023-04-09T15:14:54.669Z"
   },
   {
    "duration": 23,
    "start_time": "2023-04-09T15:16:21.369Z"
   },
   {
    "duration": 21,
    "start_time": "2023-04-09T15:16:53.570Z"
   },
   {
    "duration": 11,
    "start_time": "2023-04-09T15:16:59.354Z"
   },
   {
    "duration": 17,
    "start_time": "2023-04-09T15:17:08.282Z"
   },
   {
    "duration": 8,
    "start_time": "2023-04-09T15:17:18.999Z"
   },
   {
    "duration": 7,
    "start_time": "2023-04-09T15:17:28.641Z"
   },
   {
    "duration": 15,
    "start_time": "2023-04-09T15:17:36.291Z"
   },
   {
    "duration": 30,
    "start_time": "2023-04-09T15:24:56.856Z"
   },
   {
    "duration": 75,
    "start_time": "2023-04-09T15:33:25.627Z"
   },
   {
    "duration": 34,
    "start_time": "2023-04-09T15:36:01.611Z"
   },
   {
    "duration": 43,
    "start_time": "2023-04-09T15:42:31.971Z"
   },
   {
    "duration": 69,
    "start_time": "2023-04-09T15:42:39.258Z"
   },
   {
    "duration": 11,
    "start_time": "2023-04-09T15:43:32.116Z"
   },
   {
    "duration": 6,
    "start_time": "2023-04-09T15:45:05.902Z"
   },
   {
    "duration": 5,
    "start_time": "2023-04-09T15:45:15.338Z"
   },
   {
    "duration": 11,
    "start_time": "2023-04-09T15:45:56.305Z"
   },
   {
    "duration": 6,
    "start_time": "2023-04-09T15:49:29.890Z"
   },
   {
    "duration": 5,
    "start_time": "2023-04-09T15:50:08.199Z"
   },
   {
    "duration": 26,
    "start_time": "2023-04-09T15:51:24.660Z"
   },
   {
    "duration": 24,
    "start_time": "2023-04-09T15:52:09.184Z"
   },
   {
    "duration": 54,
    "start_time": "2023-04-09T15:53:13.741Z"
   },
   {
    "duration": 9,
    "start_time": "2023-04-09T15:53:22.739Z"
   },
   {
    "duration": 11,
    "start_time": "2023-04-09T15:53:41.199Z"
   },
   {
    "duration": 13,
    "start_time": "2023-04-09T15:53:48.107Z"
   },
   {
    "duration": 1066,
    "start_time": "2023-04-09T15:54:08.200Z"
   },
   {
    "duration": 2,
    "start_time": "2023-04-09T15:54:09.268Z"
   },
   {
    "duration": 773,
    "start_time": "2023-04-09T15:54:09.272Z"
   },
   {
    "duration": 121,
    "start_time": "2023-04-09T15:54:10.047Z"
   },
   {
    "duration": 30,
    "start_time": "2023-04-09T15:54:10.170Z"
   },
   {
    "duration": 280,
    "start_time": "2023-04-09T15:54:10.201Z"
   },
   {
    "duration": 264,
    "start_time": "2023-04-09T15:54:10.484Z"
   },
   {
    "duration": 18,
    "start_time": "2023-04-09T15:54:10.750Z"
   },
   {
    "duration": 33,
    "start_time": "2023-04-09T15:54:10.771Z"
   },
   {
    "duration": 34,
    "start_time": "2023-04-09T15:54:10.806Z"
   },
   {
    "duration": 7,
    "start_time": "2023-04-09T15:54:10.841Z"
   },
   {
    "duration": 32,
    "start_time": "2023-04-09T15:54:10.849Z"
   },
   {
    "duration": 15,
    "start_time": "2023-04-09T15:54:10.884Z"
   },
   {
    "duration": 23,
    "start_time": "2023-04-09T15:54:10.901Z"
   },
   {
    "duration": 10,
    "start_time": "2023-04-09T15:54:10.925Z"
   },
   {
    "duration": 244,
    "start_time": "2023-04-09T15:54:10.937Z"
   },
   {
    "duration": 7,
    "start_time": "2023-04-09T15:54:11.183Z"
   },
   {
    "duration": 33,
    "start_time": "2023-04-09T15:54:11.192Z"
   },
   {
    "duration": 56,
    "start_time": "2023-04-09T15:54:11.227Z"
   },
   {
    "duration": 69,
    "start_time": "2023-04-09T15:54:11.285Z"
   },
   {
    "duration": 43,
    "start_time": "2023-04-09T15:54:11.356Z"
   },
   {
    "duration": 38,
    "start_time": "2023-04-09T15:54:11.400Z"
   },
   {
    "duration": 16,
    "start_time": "2023-04-09T15:54:11.439Z"
   },
   {
    "duration": 387,
    "start_time": "2023-04-09T15:54:11.456Z"
   },
   {
    "duration": 440,
    "start_time": "2023-04-09T15:54:11.844Z"
   },
   {
    "duration": 7,
    "start_time": "2023-04-09T15:54:12.289Z"
   },
   {
    "duration": 10,
    "start_time": "2023-04-09T15:54:12.298Z"
   },
   {
    "duration": 23,
    "start_time": "2023-04-09T15:54:12.311Z"
   },
   {
    "duration": 86,
    "start_time": "2023-04-09T15:54:12.335Z"
   },
   {
    "duration": 32,
    "start_time": "2023-04-09T15:54:12.422Z"
   },
   {
    "duration": 48,
    "start_time": "2023-04-09T15:54:12.456Z"
   },
   {
    "duration": 58,
    "start_time": "2023-04-09T15:54:12.506Z"
   },
   {
    "duration": 16,
    "start_time": "2023-04-09T15:54:12.573Z"
   },
   {
    "duration": 5,
    "start_time": "2023-04-09T15:54:12.590Z"
   },
   {
    "duration": 8,
    "start_time": "2023-04-09T15:54:12.597Z"
   },
   {
    "duration": 3,
    "start_time": "2023-04-09T15:54:12.607Z"
   },
   {
    "duration": 6,
    "start_time": "2023-04-09T15:54:12.612Z"
   },
   {
    "duration": 15,
    "start_time": "2023-04-09T15:54:12.619Z"
   },
   {
    "duration": 63,
    "start_time": "2023-04-09T15:54:12.635Z"
   },
   {
    "duration": 12,
    "start_time": "2023-04-09T15:54:12.699Z"
   },
   {
    "duration": 115,
    "start_time": "2023-04-09T15:54:12.713Z"
   },
   {
    "duration": 0,
    "start_time": "2023-04-09T15:54:12.830Z"
   },
   {
    "duration": 0,
    "start_time": "2023-04-09T15:54:12.831Z"
   },
   {
    "duration": 0,
    "start_time": "2023-04-09T15:54:12.832Z"
   },
   {
    "duration": 0,
    "start_time": "2023-04-09T15:54:12.833Z"
   },
   {
    "duration": 0,
    "start_time": "2023-04-09T15:54:12.834Z"
   },
   {
    "duration": 16,
    "start_time": "2023-04-09T15:54:20.082Z"
   },
   {
    "duration": 16,
    "start_time": "2023-04-09T15:54:44.209Z"
   },
   {
    "duration": 11,
    "start_time": "2023-04-09T15:55:11.309Z"
   },
   {
    "duration": 6,
    "start_time": "2023-04-09T15:55:19.340Z"
   },
   {
    "duration": 1125,
    "start_time": "2023-04-09T15:55:23.693Z"
   },
   {
    "duration": 2,
    "start_time": "2023-04-09T15:55:24.820Z"
   },
   {
    "duration": 782,
    "start_time": "2023-04-09T15:55:24.824Z"
   },
   {
    "duration": 128,
    "start_time": "2023-04-09T15:55:25.608Z"
   },
   {
    "duration": 6,
    "start_time": "2023-04-09T15:55:25.738Z"
   },
   {
    "duration": 343,
    "start_time": "2023-04-09T15:55:25.745Z"
   },
   {
    "duration": 350,
    "start_time": "2023-04-09T15:55:26.092Z"
   },
   {
    "duration": 33,
    "start_time": "2023-04-09T15:55:26.443Z"
   },
   {
    "duration": 23,
    "start_time": "2023-04-09T15:55:26.478Z"
   },
   {
    "duration": 46,
    "start_time": "2023-04-09T15:55:26.503Z"
   },
   {
    "duration": 7,
    "start_time": "2023-04-09T15:55:26.551Z"
   },
   {
    "duration": 35,
    "start_time": "2023-04-09T15:55:26.560Z"
   },
   {
    "duration": 18,
    "start_time": "2023-04-09T15:55:26.597Z"
   },
   {
    "duration": 14,
    "start_time": "2023-04-09T15:55:26.617Z"
   },
   {
    "duration": 12,
    "start_time": "2023-04-09T15:55:26.633Z"
   },
   {
    "duration": 285,
    "start_time": "2023-04-09T15:55:26.647Z"
   },
   {
    "duration": 5,
    "start_time": "2023-04-09T15:55:26.934Z"
   },
   {
    "duration": 52,
    "start_time": "2023-04-09T15:55:26.941Z"
   },
   {
    "duration": 30,
    "start_time": "2023-04-09T15:55:26.995Z"
   },
   {
    "duration": 109,
    "start_time": "2023-04-09T15:55:27.027Z"
   },
   {
    "duration": 49,
    "start_time": "2023-04-09T15:55:27.138Z"
   },
   {
    "duration": 38,
    "start_time": "2023-04-09T15:55:27.189Z"
   },
   {
    "duration": 19,
    "start_time": "2023-04-09T15:55:27.228Z"
   },
   {
    "duration": 419,
    "start_time": "2023-04-09T15:55:27.249Z"
   },
   {
    "duration": 466,
    "start_time": "2023-04-09T15:55:27.671Z"
   },
   {
    "duration": 8,
    "start_time": "2023-04-09T15:55:28.139Z"
   },
   {
    "duration": 29,
    "start_time": "2023-04-09T15:55:28.148Z"
   },
   {
    "duration": 27,
    "start_time": "2023-04-09T15:55:28.183Z"
   },
   {
    "duration": 81,
    "start_time": "2023-04-09T15:55:28.211Z"
   },
   {
    "duration": 35,
    "start_time": "2023-04-09T15:55:28.295Z"
   },
   {
    "duration": 51,
    "start_time": "2023-04-09T15:55:28.331Z"
   },
   {
    "duration": 63,
    "start_time": "2023-04-09T15:55:28.384Z"
   },
   {
    "duration": 12,
    "start_time": "2023-04-09T15:55:28.448Z"
   },
   {
    "duration": 22,
    "start_time": "2023-04-09T15:55:28.461Z"
   },
   {
    "duration": 7,
    "start_time": "2023-04-09T15:55:28.485Z"
   },
   {
    "duration": 5,
    "start_time": "2023-04-09T15:55:28.493Z"
   },
   {
    "duration": 6,
    "start_time": "2023-04-09T15:55:28.500Z"
   },
   {
    "duration": 17,
    "start_time": "2023-04-09T15:55:28.507Z"
   },
   {
    "duration": 15,
    "start_time": "2023-04-09T15:55:28.525Z"
   },
   {
    "duration": 48,
    "start_time": "2023-04-09T15:55:28.542Z"
   },
   {
    "duration": 22,
    "start_time": "2023-04-09T15:55:28.592Z"
   },
   {
    "duration": 123,
    "start_time": "2023-04-09T15:55:28.616Z"
   },
   {
    "duration": 0,
    "start_time": "2023-04-09T15:55:28.740Z"
   },
   {
    "duration": 0,
    "start_time": "2023-04-09T15:55:28.741Z"
   },
   {
    "duration": 0,
    "start_time": "2023-04-09T15:55:28.742Z"
   },
   {
    "duration": 0,
    "start_time": "2023-04-09T15:55:28.743Z"
   },
   {
    "duration": 19,
    "start_time": "2023-04-09T15:56:43.799Z"
   },
   {
    "duration": 16,
    "start_time": "2023-04-09T15:58:02.734Z"
   },
   {
    "duration": 12,
    "start_time": "2023-04-09T15:58:19.303Z"
   },
   {
    "duration": 13,
    "start_time": "2023-04-09T16:00:09.727Z"
   },
   {
    "duration": 15,
    "start_time": "2023-04-09T16:00:10.569Z"
   },
   {
    "duration": 1205,
    "start_time": "2023-04-09T16:02:21.122Z"
   },
   {
    "duration": 11,
    "start_time": "2023-04-09T16:02:40.532Z"
   },
   {
    "duration": 14,
    "start_time": "2023-04-09T16:05:01.119Z"
   },
   {
    "duration": 3,
    "start_time": "2023-04-09T16:05:09.123Z"
   },
   {
    "duration": 14,
    "start_time": "2023-04-09T16:06:37.628Z"
   },
   {
    "duration": 1378,
    "start_time": "2023-04-15T05:58:39.663Z"
   },
   {
    "duration": 3,
    "start_time": "2023-04-15T05:58:41.044Z"
   },
   {
    "duration": 1122,
    "start_time": "2023-04-15T05:58:41.048Z"
   },
   {
    "duration": 122,
    "start_time": "2023-04-15T05:58:42.172Z"
   },
   {
    "duration": 5,
    "start_time": "2023-04-15T05:58:42.296Z"
   },
   {
    "duration": 256,
    "start_time": "2023-04-15T05:58:42.303Z"
   },
   {
    "duration": 303,
    "start_time": "2023-04-15T05:58:42.560Z"
   },
   {
    "duration": 17,
    "start_time": "2023-04-15T05:58:42.865Z"
   },
   {
    "duration": 22,
    "start_time": "2023-04-15T05:58:42.883Z"
   },
   {
    "duration": 60,
    "start_time": "2023-04-15T05:58:42.908Z"
   },
   {
    "duration": 8,
    "start_time": "2023-04-15T05:58:42.970Z"
   },
   {
    "duration": 13,
    "start_time": "2023-04-15T05:58:42.979Z"
   },
   {
    "duration": 16,
    "start_time": "2023-04-15T05:58:42.994Z"
   },
   {
    "duration": 23,
    "start_time": "2023-04-15T05:58:43.011Z"
   },
   {
    "duration": 20,
    "start_time": "2023-04-15T05:58:43.036Z"
   },
   {
    "duration": 275,
    "start_time": "2023-04-15T05:58:43.058Z"
   },
   {
    "duration": 4,
    "start_time": "2023-04-15T05:58:43.335Z"
   },
   {
    "duration": 51,
    "start_time": "2023-04-15T05:58:43.341Z"
   },
   {
    "duration": 29,
    "start_time": "2023-04-15T05:58:43.394Z"
   },
   {
    "duration": 83,
    "start_time": "2023-04-15T05:58:43.425Z"
   },
   {
    "duration": 52,
    "start_time": "2023-04-15T05:58:43.511Z"
   },
   {
    "duration": 38,
    "start_time": "2023-04-15T05:58:43.565Z"
   },
   {
    "duration": 18,
    "start_time": "2023-04-15T05:58:43.605Z"
   },
   {
    "duration": 519,
    "start_time": "2023-04-15T05:58:43.625Z"
   },
   {
    "duration": 502,
    "start_time": "2023-04-15T05:58:44.146Z"
   },
   {
    "duration": 13,
    "start_time": "2023-04-15T05:58:44.649Z"
   },
   {
    "duration": 12,
    "start_time": "2023-04-15T05:58:44.663Z"
   },
   {
    "duration": 25,
    "start_time": "2023-04-15T05:58:44.678Z"
   },
   {
    "duration": 82,
    "start_time": "2023-04-15T05:58:44.705Z"
   },
   {
    "duration": 35,
    "start_time": "2023-04-15T05:58:44.789Z"
   },
   {
    "duration": 48,
    "start_time": "2023-04-15T05:58:44.826Z"
   },
   {
    "duration": 57,
    "start_time": "2023-04-15T05:58:44.875Z"
   },
   {
    "duration": 24,
    "start_time": "2023-04-15T05:58:44.933Z"
   },
   {
    "duration": 4,
    "start_time": "2023-04-15T05:58:44.959Z"
   },
   {
    "duration": 7,
    "start_time": "2023-04-15T05:58:44.965Z"
   },
   {
    "duration": 6,
    "start_time": "2023-04-15T05:58:44.974Z"
   },
   {
    "duration": 9,
    "start_time": "2023-04-15T05:58:44.981Z"
   },
   {
    "duration": 19,
    "start_time": "2023-04-15T05:58:44.992Z"
   },
   {
    "duration": 45,
    "start_time": "2023-04-15T05:58:45.013Z"
   },
   {
    "duration": 12,
    "start_time": "2023-04-15T05:58:45.060Z"
   },
   {
    "duration": 25,
    "start_time": "2023-04-15T05:58:45.073Z"
   },
   {
    "duration": 17,
    "start_time": "2023-04-15T05:58:45.099Z"
   },
   {
    "duration": 15,
    "start_time": "2023-04-15T05:58:45.118Z"
   },
   {
    "duration": 27,
    "start_time": "2023-04-15T05:58:45.135Z"
   },
   {
    "duration": 15,
    "start_time": "2023-04-15T05:58:45.164Z"
   },
   {
    "duration": 15,
    "start_time": "2023-04-15T05:58:45.181Z"
   },
   {
    "duration": 12,
    "start_time": "2023-04-15T05:58:45.198Z"
   },
   {
    "duration": 45,
    "start_time": "2023-04-15T05:58:45.211Z"
   },
   {
    "duration": 5,
    "start_time": "2023-04-15T05:58:45.258Z"
   },
   {
    "duration": 27,
    "start_time": "2023-04-15T05:58:45.265Z"
   },
   {
    "duration": 1233,
    "start_time": "2023-04-15T06:04:07.017Z"
   },
   {
    "duration": 4,
    "start_time": "2023-04-15T06:04:08.252Z"
   },
   {
    "duration": 856,
    "start_time": "2023-04-15T06:04:08.258Z"
   },
   {
    "duration": 131,
    "start_time": "2023-04-15T06:04:09.116Z"
   },
   {
    "duration": 6,
    "start_time": "2023-04-15T06:04:09.255Z"
   },
   {
    "duration": 316,
    "start_time": "2023-04-15T06:04:09.263Z"
   },
   {
    "duration": 348,
    "start_time": "2023-04-15T06:04:09.580Z"
   },
   {
    "duration": 32,
    "start_time": "2023-04-15T06:04:09.929Z"
   },
   {
    "duration": 25,
    "start_time": "2023-04-15T06:04:09.963Z"
   },
   {
    "duration": 40,
    "start_time": "2023-04-15T06:04:09.990Z"
   },
   {
    "duration": 29,
    "start_time": "2023-04-15T06:04:10.032Z"
   },
   {
    "duration": 18,
    "start_time": "2023-04-15T06:04:10.063Z"
   },
   {
    "duration": 20,
    "start_time": "2023-04-15T06:04:10.082Z"
   },
   {
    "duration": 27,
    "start_time": "2023-04-15T06:04:10.106Z"
   },
   {
    "duration": 23,
    "start_time": "2023-04-15T06:04:10.135Z"
   },
   {
    "duration": 339,
    "start_time": "2023-04-15T06:04:10.160Z"
   },
   {
    "duration": 5,
    "start_time": "2023-04-15T06:04:10.501Z"
   },
   {
    "duration": 57,
    "start_time": "2023-04-15T06:04:10.510Z"
   },
   {
    "duration": 29,
    "start_time": "2023-04-15T06:04:10.569Z"
   },
   {
    "duration": 85,
    "start_time": "2023-04-15T06:04:10.600Z"
   },
   {
    "duration": 45,
    "start_time": "2023-04-15T06:04:10.688Z"
   },
   {
    "duration": 57,
    "start_time": "2023-04-15T06:04:10.735Z"
   },
   {
    "duration": 20,
    "start_time": "2023-04-15T06:04:10.794Z"
   },
   {
    "duration": 525,
    "start_time": "2023-04-15T06:04:10.818Z"
   },
   {
    "duration": 571,
    "start_time": "2023-04-15T06:04:11.345Z"
   },
   {
    "duration": 11,
    "start_time": "2023-04-15T06:04:11.919Z"
   },
   {
    "duration": 34,
    "start_time": "2023-04-15T06:04:11.932Z"
   },
   {
    "duration": 26,
    "start_time": "2023-04-15T06:04:11.968Z"
   },
   {
    "duration": 90,
    "start_time": "2023-04-15T06:04:11.995Z"
   },
   {
    "duration": 44,
    "start_time": "2023-04-15T06:04:12.087Z"
   },
   {
    "duration": 49,
    "start_time": "2023-04-15T06:04:12.134Z"
   },
   {
    "duration": 98,
    "start_time": "2023-04-15T06:04:12.185Z"
   },
   {
    "duration": 15,
    "start_time": "2023-04-15T06:04:12.285Z"
   },
   {
    "duration": 6,
    "start_time": "2023-04-15T06:04:12.301Z"
   },
   {
    "duration": 10,
    "start_time": "2023-04-15T06:04:12.309Z"
   },
   {
    "duration": 34,
    "start_time": "2023-04-15T06:04:12.322Z"
   },
   {
    "duration": 7,
    "start_time": "2023-04-15T06:04:12.358Z"
   },
   {
    "duration": 19,
    "start_time": "2023-04-15T06:04:12.367Z"
   },
   {
    "duration": 14,
    "start_time": "2023-04-15T06:04:12.388Z"
   },
   {
    "duration": 17,
    "start_time": "2023-04-15T06:04:12.403Z"
   },
   {
    "duration": 21,
    "start_time": "2023-04-15T06:04:12.455Z"
   },
   {
    "duration": 19,
    "start_time": "2023-04-15T06:04:12.478Z"
   },
   {
    "duration": 18,
    "start_time": "2023-04-15T06:04:12.500Z"
   },
   {
    "duration": 45,
    "start_time": "2023-04-15T06:04:12.520Z"
   },
   {
    "duration": 13,
    "start_time": "2023-04-15T06:04:12.567Z"
   },
   {
    "duration": 19,
    "start_time": "2023-04-15T06:04:12.582Z"
   },
   {
    "duration": 17,
    "start_time": "2023-04-15T06:04:12.603Z"
   },
   {
    "duration": 46,
    "start_time": "2023-04-15T06:04:12.622Z"
   },
   {
    "duration": 4,
    "start_time": "2023-04-15T06:04:12.670Z"
   },
   {
    "duration": 18,
    "start_time": "2023-04-15T06:04:12.676Z"
   },
   {
    "duration": 21,
    "start_time": "2023-04-15T06:20:34.645Z"
   },
   {
    "duration": 61,
    "start_time": "2023-04-15T06:29:52.512Z"
   },
   {
    "duration": 24,
    "start_time": "2023-04-15T06:37:08.876Z"
   },
   {
    "duration": 4,
    "start_time": "2023-04-15T06:39:12.507Z"
   },
   {
    "duration": 3,
    "start_time": "2023-04-15T06:40:34.644Z"
   },
   {
    "duration": 20,
    "start_time": "2023-04-15T06:41:47.899Z"
   },
   {
    "duration": 67,
    "start_time": "2023-04-15T06:42:39.894Z"
   },
   {
    "duration": 83,
    "start_time": "2023-04-15T06:43:50.708Z"
   },
   {
    "duration": 114,
    "start_time": "2023-04-15T06:44:54.010Z"
   },
   {
    "duration": 13,
    "start_time": "2023-04-15T06:48:50.220Z"
   },
   {
    "duration": 3,
    "start_time": "2023-04-15T06:49:21.687Z"
   },
   {
    "duration": 11,
    "start_time": "2023-04-15T06:50:42.597Z"
   },
   {
    "duration": 5,
    "start_time": "2023-04-15T06:51:08.304Z"
   },
   {
    "duration": 3,
    "start_time": "2023-04-15T06:52:18.418Z"
   },
   {
    "duration": 254,
    "start_time": "2023-04-15T06:53:19.091Z"
   },
   {
    "duration": 85,
    "start_time": "2023-04-15T06:55:19.018Z"
   },
   {
    "duration": 694,
    "start_time": "2023-04-15T06:56:15.575Z"
   },
   {
    "duration": 3,
    "start_time": "2023-04-15T07:00:17.887Z"
   },
   {
    "duration": 113,
    "start_time": "2023-04-15T07:01:49.475Z"
   },
   {
    "duration": 62,
    "start_time": "2023-04-15T07:03:14.905Z"
   },
   {
    "duration": 26,
    "start_time": "2023-04-15T07:04:05.023Z"
   },
   {
    "duration": 15,
    "start_time": "2023-04-15T07:04:29.920Z"
   },
   {
    "duration": 29,
    "start_time": "2023-04-15T07:05:58.955Z"
   },
   {
    "duration": 1396,
    "start_time": "2023-04-15T07:06:05.698Z"
   },
   {
    "duration": 315,
    "start_time": "2023-04-15T07:06:07.096Z"
   },
   {
    "duration": 5,
    "start_time": "2023-04-15T07:06:07.416Z"
   },
   {
    "duration": 1063,
    "start_time": "2023-04-15T07:06:07.425Z"
   },
   {
    "duration": 153,
    "start_time": "2023-04-15T07:06:08.491Z"
   },
   {
    "duration": 23,
    "start_time": "2023-04-15T07:06:08.646Z"
   },
   {
    "duration": 309,
    "start_time": "2023-04-15T07:06:08.677Z"
   },
   {
    "duration": 364,
    "start_time": "2023-04-15T07:06:08.988Z"
   },
   {
    "duration": 38,
    "start_time": "2023-04-15T07:06:09.353Z"
   },
   {
    "duration": 35,
    "start_time": "2023-04-15T07:06:09.396Z"
   },
   {
    "duration": 56,
    "start_time": "2023-04-15T07:06:09.433Z"
   },
   {
    "duration": 11,
    "start_time": "2023-04-15T07:06:09.491Z"
   },
   {
    "duration": 40,
    "start_time": "2023-04-15T07:06:09.503Z"
   },
   {
    "duration": 21,
    "start_time": "2023-04-15T07:06:09.546Z"
   },
   {
    "duration": 29,
    "start_time": "2023-04-15T07:06:09.569Z"
   },
   {
    "duration": 19,
    "start_time": "2023-04-15T07:06:09.604Z"
   },
   {
    "duration": 9,
    "start_time": "2023-04-15T07:06:09.624Z"
   },
   {
    "duration": 378,
    "start_time": "2023-04-15T07:06:09.634Z"
   },
   {
    "duration": 5,
    "start_time": "2023-04-15T07:06:10.014Z"
   },
   {
    "duration": 52,
    "start_time": "2023-04-15T07:06:10.021Z"
   },
   {
    "duration": 35,
    "start_time": "2023-04-15T07:06:10.075Z"
   },
   {
    "duration": 104,
    "start_time": "2023-04-15T07:06:10.112Z"
   },
   {
    "duration": 66,
    "start_time": "2023-04-15T07:06:10.218Z"
   },
   {
    "duration": 52,
    "start_time": "2023-04-15T07:06:10.285Z"
   },
   {
    "duration": 28,
    "start_time": "2023-04-15T07:06:10.339Z"
   },
   {
    "duration": 624,
    "start_time": "2023-04-15T07:06:10.372Z"
   },
   {
    "duration": 556,
    "start_time": "2023-04-15T07:06:10.998Z"
   },
   {
    "duration": 16,
    "start_time": "2023-04-15T07:06:11.556Z"
   },
   {
    "duration": 25,
    "start_time": "2023-04-15T07:06:11.574Z"
   },
   {
    "duration": 34,
    "start_time": "2023-04-15T07:06:11.602Z"
   },
   {
    "duration": 123,
    "start_time": "2023-04-15T07:06:11.638Z"
   },
   {
    "duration": 55,
    "start_time": "2023-04-15T07:06:11.765Z"
   },
   {
    "duration": 48,
    "start_time": "2023-04-15T07:06:11.822Z"
   },
   {
    "duration": 73,
    "start_time": "2023-04-15T07:06:11.879Z"
   },
   {
    "duration": 23,
    "start_time": "2023-04-15T07:06:11.954Z"
   },
   {
    "duration": 6,
    "start_time": "2023-04-15T07:06:11.979Z"
   },
   {
    "duration": 12,
    "start_time": "2023-04-15T07:06:11.989Z"
   },
   {
    "duration": 6,
    "start_time": "2023-04-15T07:06:12.007Z"
   },
   {
    "duration": 8,
    "start_time": "2023-04-15T07:06:12.017Z"
   },
   {
    "duration": 35,
    "start_time": "2023-04-15T07:06:12.027Z"
   },
   {
    "duration": 36,
    "start_time": "2023-04-15T07:06:12.070Z"
   },
   {
    "duration": 14,
    "start_time": "2023-04-15T07:06:12.110Z"
   },
   {
    "duration": 21,
    "start_time": "2023-04-15T07:06:12.126Z"
   },
   {
    "duration": 46,
    "start_time": "2023-04-15T07:06:12.149Z"
   },
   {
    "duration": 30,
    "start_time": "2023-04-15T07:06:12.205Z"
   },
   {
    "duration": 17,
    "start_time": "2023-04-15T07:06:12.237Z"
   },
   {
    "duration": 27,
    "start_time": "2023-04-15T07:06:12.265Z"
   },
   {
    "duration": 23,
    "start_time": "2023-04-15T07:06:12.294Z"
   },
   {
    "duration": 27,
    "start_time": "2023-04-15T07:06:12.319Z"
   },
   {
    "duration": 24,
    "start_time": "2023-04-15T07:06:12.347Z"
   },
   {
    "duration": 15,
    "start_time": "2023-04-15T07:06:12.375Z"
   },
   {
    "duration": 25,
    "start_time": "2023-04-15T07:06:12.394Z"
   },
   {
    "duration": 48,
    "start_time": "2023-04-15T07:06:12.420Z"
   },
   {
    "duration": 20,
    "start_time": "2023-04-15T07:06:12.470Z"
   },
   {
    "duration": 8,
    "start_time": "2023-04-15T07:06:12.492Z"
   },
   {
    "duration": 7,
    "start_time": "2023-04-15T07:06:12.503Z"
   },
   {
    "duration": 22,
    "start_time": "2023-04-15T07:06:12.513Z"
   },
   {
    "duration": 97,
    "start_time": "2023-04-15T07:06:12.537Z"
   },
   {
    "duration": 89,
    "start_time": "2023-04-15T07:06:12.636Z"
   },
   {
    "duration": 16,
    "start_time": "2023-04-15T07:06:12.727Z"
   },
   {
    "duration": 18,
    "start_time": "2023-04-15T07:06:12.744Z"
   },
   {
    "duration": 21,
    "start_time": "2023-04-15T07:06:12.765Z"
   },
   {
    "duration": 4,
    "start_time": "2023-04-15T07:06:12.802Z"
   },
   {
    "duration": 14,
    "start_time": "2023-04-15T07:06:12.808Z"
   },
   {
    "duration": 103,
    "start_time": "2023-04-15T07:06:12.824Z"
   },
   {
    "duration": 975,
    "start_time": "2023-04-15T07:06:12.929Z"
   },
   {
    "duration": 145,
    "start_time": "2023-04-15T07:06:13.907Z"
   },
   {
    "duration": 0,
    "start_time": "2023-04-15T07:06:14.053Z"
   },
   {
    "duration": 71,
    "start_time": "2023-04-15T07:06:21.476Z"
   },
   {
    "duration": 34,
    "start_time": "2023-04-15T07:06:22.696Z"
   },
   {
    "duration": 27,
    "start_time": "2023-04-15T07:06:30.707Z"
   },
   {
    "duration": 45,
    "start_time": "2023-04-15T07:07:18.505Z"
   },
   {
    "duration": 24,
    "start_time": "2023-04-15T07:07:19.498Z"
   },
   {
    "duration": 1400,
    "start_time": "2023-04-15T07:07:35.952Z"
   },
   {
    "duration": 284,
    "start_time": "2023-04-15T07:07:37.354Z"
   },
   {
    "duration": 3,
    "start_time": "2023-04-15T07:07:37.640Z"
   },
   {
    "duration": 1171,
    "start_time": "2023-04-15T07:07:37.645Z"
   },
   {
    "duration": 162,
    "start_time": "2023-04-15T07:07:38.818Z"
   },
   {
    "duration": 7,
    "start_time": "2023-04-15T07:07:38.982Z"
   },
   {
    "duration": 373,
    "start_time": "2023-04-15T07:07:38.991Z"
   },
   {
    "duration": 409,
    "start_time": "2023-04-15T07:07:39.376Z"
   },
   {
    "duration": 21,
    "start_time": "2023-04-15T07:07:39.791Z"
   },
   {
    "duration": 25,
    "start_time": "2023-04-15T07:07:39.815Z"
   },
   {
    "duration": 61,
    "start_time": "2023-04-15T07:07:39.842Z"
   },
   {
    "duration": 10,
    "start_time": "2023-04-15T07:07:39.905Z"
   },
   {
    "duration": 20,
    "start_time": "2023-04-15T07:07:39.917Z"
   },
   {
    "duration": 37,
    "start_time": "2023-04-15T07:07:39.939Z"
   },
   {
    "duration": 21,
    "start_time": "2023-04-15T07:07:39.978Z"
   },
   {
    "duration": 19,
    "start_time": "2023-04-15T07:07:40.001Z"
   },
   {
    "duration": 10,
    "start_time": "2023-04-15T07:07:40.021Z"
   },
   {
    "duration": 351,
    "start_time": "2023-04-15T07:07:40.033Z"
   },
   {
    "duration": 8,
    "start_time": "2023-04-15T07:07:40.387Z"
   },
   {
    "duration": 36,
    "start_time": "2023-04-15T07:07:40.397Z"
   },
   {
    "duration": 52,
    "start_time": "2023-04-15T07:07:40.435Z"
   },
   {
    "duration": 79,
    "start_time": "2023-04-15T07:07:40.489Z"
   },
   {
    "duration": 53,
    "start_time": "2023-04-15T07:07:40.571Z"
   },
   {
    "duration": 67,
    "start_time": "2023-04-15T07:07:40.626Z"
   },
   {
    "duration": 19,
    "start_time": "2023-04-15T07:07:40.696Z"
   },
   {
    "duration": 681,
    "start_time": "2023-04-15T07:07:40.716Z"
   },
   {
    "duration": 525,
    "start_time": "2023-04-15T07:07:41.399Z"
   },
   {
    "duration": 9,
    "start_time": "2023-04-15T07:07:41.928Z"
   },
   {
    "duration": 45,
    "start_time": "2023-04-15T07:07:41.939Z"
   },
   {
    "duration": 29,
    "start_time": "2023-04-15T07:07:41.986Z"
   },
   {
    "duration": 86,
    "start_time": "2023-04-15T07:07:42.016Z"
   },
   {
    "duration": 43,
    "start_time": "2023-04-15T07:07:42.104Z"
   },
   {
    "duration": 56,
    "start_time": "2023-04-15T07:07:42.149Z"
   },
   {
    "duration": 92,
    "start_time": "2023-04-15T07:07:42.207Z"
   },
   {
    "duration": 13,
    "start_time": "2023-04-15T07:07:42.301Z"
   },
   {
    "duration": 5,
    "start_time": "2023-04-15T07:07:42.316Z"
   },
   {
    "duration": 9,
    "start_time": "2023-04-15T07:07:42.323Z"
   },
   {
    "duration": 7,
    "start_time": "2023-04-15T07:07:42.334Z"
   },
   {
    "duration": 16,
    "start_time": "2023-04-15T07:07:42.356Z"
   },
   {
    "duration": 29,
    "start_time": "2023-04-15T07:07:42.380Z"
   },
   {
    "duration": 16,
    "start_time": "2023-04-15T07:07:42.411Z"
   },
   {
    "duration": 14,
    "start_time": "2023-04-15T07:07:42.429Z"
   },
   {
    "duration": 37,
    "start_time": "2023-04-15T07:07:42.445Z"
   },
   {
    "duration": 25,
    "start_time": "2023-04-15T07:07:42.484Z"
   },
   {
    "duration": 24,
    "start_time": "2023-04-15T07:07:42.511Z"
   },
   {
    "duration": 44,
    "start_time": "2023-04-15T07:07:42.537Z"
   },
   {
    "duration": 17,
    "start_time": "2023-04-15T07:07:42.584Z"
   },
   {
    "duration": 16,
    "start_time": "2023-04-15T07:07:42.602Z"
   },
   {
    "duration": 12,
    "start_time": "2023-04-15T07:07:42.620Z"
   },
   {
    "duration": 39,
    "start_time": "2023-04-15T07:07:42.633Z"
   },
   {
    "duration": 6,
    "start_time": "2023-04-15T07:07:42.680Z"
   },
   {
    "duration": 41,
    "start_time": "2023-04-15T07:07:42.687Z"
   },
   {
    "duration": 78,
    "start_time": "2023-04-15T07:07:42.730Z"
   },
   {
    "duration": 13,
    "start_time": "2023-04-15T07:07:42.809Z"
   },
   {
    "duration": 5,
    "start_time": "2023-04-15T07:07:42.824Z"
   },
   {
    "duration": 6,
    "start_time": "2023-04-15T07:07:42.831Z"
   },
   {
    "duration": 55,
    "start_time": "2023-04-15T07:07:42.839Z"
   },
   {
    "duration": 56,
    "start_time": "2023-04-15T07:07:42.896Z"
   },
   {
    "duration": 86,
    "start_time": "2023-04-15T07:07:42.953Z"
   },
   {
    "duration": 21,
    "start_time": "2023-04-15T07:07:43.041Z"
   },
   {
    "duration": 4,
    "start_time": "2023-04-15T07:07:43.065Z"
   },
   {
    "duration": 34,
    "start_time": "2023-04-15T07:07:43.072Z"
   },
   {
    "duration": 9,
    "start_time": "2023-04-15T07:07:43.108Z"
   },
   {
    "duration": 5,
    "start_time": "2023-04-15T07:07:43.119Z"
   },
   {
    "duration": 102,
    "start_time": "2023-04-15T07:07:43.126Z"
   },
   {
    "duration": 937,
    "start_time": "2023-04-15T07:07:43.230Z"
   },
   {
    "duration": 66,
    "start_time": "2023-04-15T07:07:44.169Z"
   },
   {
    "duration": 55,
    "start_time": "2023-04-15T07:07:44.239Z"
   },
   {
    "duration": 29,
    "start_time": "2023-04-15T07:11:19.352Z"
   },
   {
    "duration": 48,
    "start_time": "2023-04-15T07:17:27.626Z"
   },
   {
    "duration": 4,
    "start_time": "2023-04-15T07:19:32.533Z"
   },
   {
    "duration": 4,
    "start_time": "2023-04-15T07:21:18.497Z"
   },
   {
    "duration": 1190,
    "start_time": "2023-04-15T07:23:04.998Z"
   },
   {
    "duration": 259,
    "start_time": "2023-04-15T07:23:06.190Z"
   },
   {
    "duration": 3,
    "start_time": "2023-04-15T07:23:06.451Z"
   },
   {
    "duration": 898,
    "start_time": "2023-04-15T07:23:06.456Z"
   },
   {
    "duration": 148,
    "start_time": "2023-04-15T07:23:07.362Z"
   },
   {
    "duration": 5,
    "start_time": "2023-04-15T07:23:07.513Z"
   },
   {
    "duration": 322,
    "start_time": "2023-04-15T07:23:07.521Z"
   },
   {
    "duration": 315,
    "start_time": "2023-04-15T07:23:07.845Z"
   },
   {
    "duration": 22,
    "start_time": "2023-04-15T07:23:08.162Z"
   },
   {
    "duration": 25,
    "start_time": "2023-04-15T07:23:08.186Z"
   },
   {
    "duration": 65,
    "start_time": "2023-04-15T07:23:08.213Z"
   },
   {
    "duration": 8,
    "start_time": "2023-04-15T07:23:08.280Z"
   },
   {
    "duration": 20,
    "start_time": "2023-04-15T07:23:08.290Z"
   },
   {
    "duration": 30,
    "start_time": "2023-04-15T07:23:08.313Z"
   },
   {
    "duration": 33,
    "start_time": "2023-04-15T07:23:08.344Z"
   },
   {
    "duration": 34,
    "start_time": "2023-04-15T07:23:08.378Z"
   },
   {
    "duration": 38,
    "start_time": "2023-04-15T07:23:08.413Z"
   },
   {
    "duration": 313,
    "start_time": "2023-04-15T07:23:08.454Z"
   },
   {
    "duration": 8,
    "start_time": "2023-04-15T07:23:08.769Z"
   },
   {
    "duration": 36,
    "start_time": "2023-04-15T07:23:08.779Z"
   },
   {
    "duration": 52,
    "start_time": "2023-04-15T07:23:08.817Z"
   },
   {
    "duration": 68,
    "start_time": "2023-04-15T07:23:08.874Z"
   },
   {
    "duration": 56,
    "start_time": "2023-04-15T07:23:08.944Z"
   },
   {
    "duration": 37,
    "start_time": "2023-04-15T07:23:09.002Z"
   },
   {
    "duration": 24,
    "start_time": "2023-04-15T07:23:09.055Z"
   },
   {
    "duration": 589,
    "start_time": "2023-04-15T07:23:09.082Z"
   },
   {
    "duration": 444,
    "start_time": "2023-04-15T07:23:09.674Z"
   },
   {
    "duration": 10,
    "start_time": "2023-04-15T07:23:10.121Z"
   },
   {
    "duration": 35,
    "start_time": "2023-04-15T07:23:10.133Z"
   },
   {
    "duration": 28,
    "start_time": "2023-04-15T07:23:10.170Z"
   },
   {
    "duration": 73,
    "start_time": "2023-04-15T07:23:10.200Z"
   },
   {
    "duration": 39,
    "start_time": "2023-04-15T07:23:10.275Z"
   },
   {
    "duration": 53,
    "start_time": "2023-04-15T07:23:10.316Z"
   },
   {
    "duration": 72,
    "start_time": "2023-04-15T07:23:10.371Z"
   },
   {
    "duration": 26,
    "start_time": "2023-04-15T07:23:10.445Z"
   },
   {
    "duration": 8,
    "start_time": "2023-04-15T07:23:10.474Z"
   },
   {
    "duration": 24,
    "start_time": "2023-04-15T07:23:10.483Z"
   },
   {
    "duration": 25,
    "start_time": "2023-04-15T07:23:10.509Z"
   },
   {
    "duration": 35,
    "start_time": "2023-04-15T07:23:10.535Z"
   },
   {
    "duration": 45,
    "start_time": "2023-04-15T07:23:10.573Z"
   },
   {
    "duration": 60,
    "start_time": "2023-04-15T07:23:10.623Z"
   },
   {
    "duration": 26,
    "start_time": "2023-04-15T07:23:10.685Z"
   },
   {
    "duration": 36,
    "start_time": "2023-04-15T07:23:10.713Z"
   },
   {
    "duration": 30,
    "start_time": "2023-04-15T07:23:10.751Z"
   },
   {
    "duration": 20,
    "start_time": "2023-04-15T07:23:10.783Z"
   },
   {
    "duration": 17,
    "start_time": "2023-04-15T07:23:10.805Z"
   },
   {
    "duration": 20,
    "start_time": "2023-04-15T07:23:10.823Z"
   },
   {
    "duration": 37,
    "start_time": "2023-04-15T07:23:10.845Z"
   },
   {
    "duration": 14,
    "start_time": "2023-04-15T07:23:10.884Z"
   },
   {
    "duration": 19,
    "start_time": "2023-04-15T07:23:10.900Z"
   },
   {
    "duration": 5,
    "start_time": "2023-04-15T07:23:10.921Z"
   },
   {
    "duration": 37,
    "start_time": "2023-04-15T07:23:10.927Z"
   },
   {
    "duration": 49,
    "start_time": "2023-04-15T07:23:10.965Z"
   },
   {
    "duration": 27,
    "start_time": "2023-04-15T07:23:11.016Z"
   },
   {
    "duration": 15,
    "start_time": "2023-04-15T07:23:11.045Z"
   },
   {
    "duration": 4,
    "start_time": "2023-04-15T07:23:11.066Z"
   },
   {
    "duration": 29,
    "start_time": "2023-04-15T07:23:11.071Z"
   },
   {
    "duration": 79,
    "start_time": "2023-04-15T07:23:11.102Z"
   },
   {
    "duration": 98,
    "start_time": "2023-04-15T07:23:11.183Z"
   },
   {
    "duration": 15,
    "start_time": "2023-04-15T07:23:11.284Z"
   },
   {
    "duration": 4,
    "start_time": "2023-04-15T07:23:11.301Z"
   },
   {
    "duration": 20,
    "start_time": "2023-04-15T07:23:11.306Z"
   },
   {
    "duration": 5,
    "start_time": "2023-04-15T07:23:11.328Z"
   },
   {
    "duration": 38,
    "start_time": "2023-04-15T07:23:11.335Z"
   },
   {
    "duration": 105,
    "start_time": "2023-04-15T07:23:11.375Z"
   },
   {
    "duration": 862,
    "start_time": "2023-04-15T07:23:11.482Z"
   },
   {
    "duration": 56,
    "start_time": "2023-04-15T07:23:12.345Z"
   },
   {
    "duration": 26,
    "start_time": "2023-04-15T07:23:12.403Z"
   },
   {
    "duration": 64,
    "start_time": "2023-04-15T07:23:12.431Z"
   },
   {
    "duration": 4,
    "start_time": "2023-04-15T07:23:12.497Z"
   },
   {
    "duration": 3,
    "start_time": "2023-04-15T10:08:19.603Z"
   },
   {
    "duration": 3,
    "start_time": "2023-04-15T10:09:19.893Z"
   },
   {
    "duration": 107,
    "start_time": "2023-04-15T10:11:59.631Z"
   },
   {
    "duration": 157,
    "start_time": "2023-04-15T10:12:05.147Z"
   },
   {
    "duration": 7,
    "start_time": "2023-04-15T10:12:41.161Z"
   },
   {
    "duration": 33,
    "start_time": "2023-04-15T10:14:07.756Z"
   },
   {
    "duration": 25,
    "start_time": "2023-04-15T10:15:10.492Z"
   },
   {
    "duration": 2,
    "start_time": "2023-04-15T10:27:07.687Z"
   },
   {
    "duration": 4,
    "start_time": "2023-04-15T10:28:26.318Z"
   },
   {
    "duration": 129,
    "start_time": "2023-04-15T10:28:42.060Z"
   },
   {
    "duration": 39,
    "start_time": "2023-04-15T10:30:39.792Z"
   },
   {
    "duration": 5,
    "start_time": "2023-04-15T10:30:40.420Z"
   },
   {
    "duration": 1176,
    "start_time": "2023-04-15T10:30:59.110Z"
   },
   {
    "duration": 256,
    "start_time": "2023-04-15T10:31:00.288Z"
   },
   {
    "duration": 3,
    "start_time": "2023-04-15T10:31:00.546Z"
   },
   {
    "duration": 119,
    "start_time": "2023-04-15T10:31:00.551Z"
   },
   {
    "duration": 4,
    "start_time": "2023-04-15T10:31:00.673Z"
   },
   {
    "duration": 1123,
    "start_time": "2023-04-15T10:31:00.680Z"
   },
   {
    "duration": 141,
    "start_time": "2023-04-15T10:31:01.805Z"
   },
   {
    "duration": 7,
    "start_time": "2023-04-15T10:31:01.947Z"
   },
   {
    "duration": 369,
    "start_time": "2023-04-15T10:31:01.955Z"
   },
   {
    "duration": 325,
    "start_time": "2023-04-15T10:31:02.327Z"
   },
   {
    "duration": 28,
    "start_time": "2023-04-15T10:31:02.654Z"
   },
   {
    "duration": 34,
    "start_time": "2023-04-15T10:31:02.685Z"
   },
   {
    "duration": 55,
    "start_time": "2023-04-15T10:31:02.721Z"
   },
   {
    "duration": 9,
    "start_time": "2023-04-15T10:31:02.778Z"
   },
   {
    "duration": 19,
    "start_time": "2023-04-15T10:31:02.789Z"
   },
   {
    "duration": 20,
    "start_time": "2023-04-15T10:31:02.810Z"
   },
   {
    "duration": 39,
    "start_time": "2023-04-15T10:31:02.831Z"
   },
   {
    "duration": 17,
    "start_time": "2023-04-15T10:31:02.873Z"
   },
   {
    "duration": 13,
    "start_time": "2023-04-15T10:31:02.892Z"
   },
   {
    "duration": 418,
    "start_time": "2023-04-15T10:31:02.906Z"
   },
   {
    "duration": 7,
    "start_time": "2023-04-15T10:31:03.326Z"
   },
   {
    "duration": 61,
    "start_time": "2023-04-15T10:31:03.334Z"
   },
   {
    "duration": 31,
    "start_time": "2023-04-15T10:31:03.397Z"
   },
   {
    "duration": 98,
    "start_time": "2023-04-15T10:31:03.430Z"
   },
   {
    "duration": 72,
    "start_time": "2023-04-15T10:31:03.530Z"
   },
   {
    "duration": 38,
    "start_time": "2023-04-15T10:31:03.604Z"
   },
   {
    "duration": 32,
    "start_time": "2023-04-15T10:31:03.644Z"
   },
   {
    "duration": 620,
    "start_time": "2023-04-15T10:31:03.680Z"
   },
   {
    "duration": 509,
    "start_time": "2023-04-15T10:31:04.302Z"
   },
   {
    "duration": 10,
    "start_time": "2023-04-15T10:31:04.813Z"
   },
   {
    "duration": 19,
    "start_time": "2023-04-15T10:31:04.825Z"
   },
   {
    "duration": 43,
    "start_time": "2023-04-15T10:31:04.846Z"
   },
   {
    "duration": 77,
    "start_time": "2023-04-15T10:31:04.891Z"
   },
   {
    "duration": 42,
    "start_time": "2023-04-15T10:31:04.970Z"
   },
   {
    "duration": 54,
    "start_time": "2023-04-15T10:31:05.015Z"
   },
   {
    "duration": 62,
    "start_time": "2023-04-15T10:31:05.071Z"
   },
   {
    "duration": 36,
    "start_time": "2023-04-15T10:31:05.135Z"
   },
   {
    "duration": 8,
    "start_time": "2023-04-15T10:31:05.173Z"
   },
   {
    "duration": 26,
    "start_time": "2023-04-15T10:31:05.183Z"
   },
   {
    "duration": 34,
    "start_time": "2023-04-15T10:31:05.211Z"
   },
   {
    "duration": 21,
    "start_time": "2023-04-15T10:31:05.247Z"
   },
   {
    "duration": 20,
    "start_time": "2023-04-15T10:31:05.270Z"
   },
   {
    "duration": 32,
    "start_time": "2023-04-15T10:31:05.292Z"
   },
   {
    "duration": 26,
    "start_time": "2023-04-15T10:31:05.326Z"
   },
   {
    "duration": 67,
    "start_time": "2023-04-15T10:31:05.354Z"
   },
   {
    "duration": 66,
    "start_time": "2023-04-15T10:31:05.424Z"
   },
   {
    "duration": 30,
    "start_time": "2023-04-15T10:31:05.493Z"
   },
   {
    "duration": 18,
    "start_time": "2023-04-15T10:31:05.525Z"
   },
   {
    "duration": 25,
    "start_time": "2023-04-15T10:31:05.545Z"
   },
   {
    "duration": 18,
    "start_time": "2023-04-15T10:31:05.572Z"
   },
   {
    "duration": 17,
    "start_time": "2023-04-15T10:31:05.593Z"
   },
   {
    "duration": 17,
    "start_time": "2023-04-15T10:31:05.612Z"
   },
   {
    "duration": 4,
    "start_time": "2023-04-15T10:31:05.631Z"
   },
   {
    "duration": 19,
    "start_time": "2023-04-15T10:31:05.662Z"
   },
   {
    "duration": 52,
    "start_time": "2023-04-15T10:31:05.683Z"
   },
   {
    "duration": 40,
    "start_time": "2023-04-15T10:31:05.738Z"
   },
   {
    "duration": 8,
    "start_time": "2023-04-15T10:31:05.780Z"
   },
   {
    "duration": 4,
    "start_time": "2023-04-15T10:31:05.790Z"
   },
   {
    "duration": 27,
    "start_time": "2023-04-15T10:31:05.796Z"
   },
   {
    "duration": 85,
    "start_time": "2023-04-15T10:31:05.824Z"
   },
   {
    "duration": 90,
    "start_time": "2023-04-15T10:31:05.912Z"
   },
   {
    "duration": 17,
    "start_time": "2023-04-15T10:31:06.004Z"
   },
   {
    "duration": 11,
    "start_time": "2023-04-15T10:31:06.023Z"
   },
   {
    "duration": 12,
    "start_time": "2023-04-15T10:31:06.036Z"
   },
   {
    "duration": 14,
    "start_time": "2023-04-15T10:31:06.056Z"
   },
   {
    "duration": 17,
    "start_time": "2023-04-15T10:31:06.072Z"
   },
   {
    "duration": 93,
    "start_time": "2023-04-15T10:31:06.091Z"
   },
   {
    "duration": 802,
    "start_time": "2023-04-15T10:31:06.186Z"
   },
   {
    "duration": 59,
    "start_time": "2023-04-15T10:31:06.989Z"
   },
   {
    "duration": 40,
    "start_time": "2023-04-15T10:31:07.050Z"
   },
   {
    "duration": 38,
    "start_time": "2023-04-15T10:31:07.092Z"
   },
   {
    "duration": 3,
    "start_time": "2023-04-15T10:31:07.132Z"
   },
   {
    "duration": 25,
    "start_time": "2023-04-15T10:31:07.137Z"
   },
   {
    "duration": 70,
    "start_time": "2023-04-15T10:31:07.164Z"
   },
   {
    "duration": 16,
    "start_time": "2023-04-15T10:35:01.243Z"
   },
   {
    "duration": 6682,
    "start_time": "2023-04-15T10:50:31.782Z"
   },
   {
    "duration": 2029,
    "start_time": "2023-04-15T10:52:14.332Z"
   },
   {
    "duration": 2087,
    "start_time": "2023-04-15T10:53:11.012Z"
   },
   {
    "duration": 1225,
    "start_time": "2023-04-15T10:53:29.106Z"
   },
   {
    "duration": 232,
    "start_time": "2023-04-15T10:53:30.335Z"
   },
   {
    "duration": 4,
    "start_time": "2023-04-15T10:53:30.569Z"
   },
   {
    "duration": 144,
    "start_time": "2023-04-15T10:53:30.575Z"
   },
   {
    "duration": 3,
    "start_time": "2023-04-15T10:53:30.722Z"
   },
   {
    "duration": 1012,
    "start_time": "2023-04-15T10:53:30.727Z"
   },
   {
    "duration": 148,
    "start_time": "2023-04-15T10:53:31.741Z"
   },
   {
    "duration": 5,
    "start_time": "2023-04-15T10:53:31.890Z"
   },
   {
    "duration": 335,
    "start_time": "2023-04-15T10:53:31.898Z"
   },
   {
    "duration": 313,
    "start_time": "2023-04-15T10:53:32.235Z"
   },
   {
    "duration": 20,
    "start_time": "2023-04-15T10:53:32.550Z"
   },
   {
    "duration": 23,
    "start_time": "2023-04-15T10:53:32.572Z"
   },
   {
    "duration": 62,
    "start_time": "2023-04-15T10:53:32.597Z"
   },
   {
    "duration": 9,
    "start_time": "2023-04-15T10:53:32.661Z"
   },
   {
    "duration": 23,
    "start_time": "2023-04-15T10:53:32.671Z"
   },
   {
    "duration": 22,
    "start_time": "2023-04-15T10:53:32.696Z"
   },
   {
    "duration": 37,
    "start_time": "2023-04-15T10:53:32.719Z"
   },
   {
    "duration": 25,
    "start_time": "2023-04-15T10:53:32.758Z"
   },
   {
    "duration": 18,
    "start_time": "2023-04-15T10:53:32.785Z"
   },
   {
    "duration": 393,
    "start_time": "2023-04-15T10:53:32.805Z"
   },
   {
    "duration": 6,
    "start_time": "2023-04-15T10:53:33.200Z"
   },
   {
    "duration": 60,
    "start_time": "2023-04-15T10:53:33.208Z"
   },
   {
    "duration": 33,
    "start_time": "2023-04-15T10:53:33.270Z"
   },
   {
    "duration": 98,
    "start_time": "2023-04-15T10:53:33.306Z"
   },
   {
    "duration": 56,
    "start_time": "2023-04-15T10:53:33.406Z"
   },
   {
    "duration": 39,
    "start_time": "2023-04-15T10:53:33.465Z"
   },
   {
    "duration": 17,
    "start_time": "2023-04-15T10:53:33.510Z"
   },
   {
    "duration": 524,
    "start_time": "2023-04-15T10:53:33.529Z"
   },
   {
    "duration": 573,
    "start_time": "2023-04-15T10:53:34.055Z"
   },
   {
    "duration": 9,
    "start_time": "2023-04-15T10:53:34.630Z"
   },
   {
    "duration": 17,
    "start_time": "2023-04-15T10:53:34.655Z"
   },
   {
    "duration": 29,
    "start_time": "2023-04-15T10:53:34.674Z"
   },
   {
    "duration": 86,
    "start_time": "2023-04-15T10:53:34.705Z"
   },
   {
    "duration": 42,
    "start_time": "2023-04-15T10:53:34.793Z"
   },
   {
    "duration": 36,
    "start_time": "2023-04-15T10:53:34.855Z"
   },
   {
    "duration": 78,
    "start_time": "2023-04-15T10:53:34.893Z"
   },
   {
    "duration": 16,
    "start_time": "2023-04-15T10:53:34.973Z"
   },
   {
    "duration": 9,
    "start_time": "2023-04-15T10:53:34.991Z"
   },
   {
    "duration": 8,
    "start_time": "2023-04-15T10:53:35.001Z"
   },
   {
    "duration": 12,
    "start_time": "2023-04-15T10:53:35.011Z"
   },
   {
    "duration": 32,
    "start_time": "2023-04-15T10:53:35.025Z"
   },
   {
    "duration": 17,
    "start_time": "2023-04-15T10:53:35.059Z"
   },
   {
    "duration": 45,
    "start_time": "2023-04-15T10:53:35.078Z"
   },
   {
    "duration": 18,
    "start_time": "2023-04-15T10:53:35.125Z"
   },
   {
    "duration": 29,
    "start_time": "2023-04-15T10:53:35.145Z"
   },
   {
    "duration": 30,
    "start_time": "2023-04-15T10:53:35.176Z"
   },
   {
    "duration": 17,
    "start_time": "2023-04-15T10:53:35.208Z"
   },
   {
    "duration": 22,
    "start_time": "2023-04-15T10:53:35.227Z"
   },
   {
    "duration": 20,
    "start_time": "2023-04-15T10:53:35.251Z"
   },
   {
    "duration": 24,
    "start_time": "2023-04-15T10:53:35.273Z"
   },
   {
    "duration": 20,
    "start_time": "2023-04-15T10:53:35.299Z"
   },
   {
    "duration": 22,
    "start_time": "2023-04-15T10:53:35.321Z"
   },
   {
    "duration": 14,
    "start_time": "2023-04-15T10:53:35.345Z"
   },
   {
    "duration": 21,
    "start_time": "2023-04-15T10:53:35.361Z"
   },
   {
    "duration": 78,
    "start_time": "2023-04-15T10:53:35.384Z"
   },
   {
    "duration": 17,
    "start_time": "2023-04-15T10:53:35.464Z"
   },
   {
    "duration": 11,
    "start_time": "2023-04-15T10:53:35.483Z"
   },
   {
    "duration": 7,
    "start_time": "2023-04-15T10:53:35.496Z"
   },
   {
    "duration": 39,
    "start_time": "2023-04-15T10:53:35.505Z"
   },
   {
    "duration": 66,
    "start_time": "2023-04-15T10:53:35.557Z"
   },
   {
    "duration": 101,
    "start_time": "2023-04-15T10:53:35.626Z"
   },
   {
    "duration": 27,
    "start_time": "2023-04-15T10:53:35.729Z"
   },
   {
    "duration": 23,
    "start_time": "2023-04-15T10:53:35.758Z"
   },
   {
    "duration": 48,
    "start_time": "2023-04-15T10:53:35.783Z"
   },
   {
    "duration": 27,
    "start_time": "2023-04-15T10:53:35.834Z"
   },
   {
    "duration": 21,
    "start_time": "2023-04-15T10:53:35.863Z"
   },
   {
    "duration": 103,
    "start_time": "2023-04-15T10:53:35.886Z"
   },
   {
    "duration": 821,
    "start_time": "2023-04-15T10:53:35.991Z"
   },
   {
    "duration": 71,
    "start_time": "2023-04-15T10:53:36.814Z"
   },
   {
    "duration": 30,
    "start_time": "2023-04-15T10:53:36.887Z"
   },
   {
    "duration": 65,
    "start_time": "2023-04-15T10:53:36.919Z"
   },
   {
    "duration": 5,
    "start_time": "2023-04-15T10:53:36.986Z"
   },
   {
    "duration": 5,
    "start_time": "2023-04-15T10:53:36.994Z"
   },
   {
    "duration": 71,
    "start_time": "2023-04-15T10:53:37.001Z"
   },
   {
    "duration": 10,
    "start_time": "2023-04-15T10:53:37.074Z"
   },
   {
    "duration": 902410,
    "start_time": "2023-04-15T10:53:37.159Z"
   },
   {
    "duration": 5,
    "start_time": "2023-04-15T11:13:43.790Z"
   },
   {
    "duration": 610,
    "start_time": "2023-04-15T11:16:59.721Z"
   },
   {
    "duration": 400729,
    "start_time": "2023-04-15T11:17:39.015Z"
   },
   {
    "duration": 4,
    "start_time": "2023-04-15T11:24:24.517Z"
   },
   {
    "duration": 32250,
    "start_time": "2023-04-15T13:09:44.548Z"
   },
   {
    "duration": 34989,
    "start_time": "2023-04-15T13:11:44.973Z"
   },
   {
    "duration": 63221,
    "start_time": "2023-04-15T13:12:56.622Z"
   },
   {
    "duration": 94704,
    "start_time": "2023-04-15T13:14:42.789Z"
   },
   {
    "duration": 158733,
    "start_time": "2023-04-15T13:16:59.853Z"
   },
   {
    "duration": 34665,
    "start_time": "2023-04-15T15:08:40.378Z"
   },
   {
    "duration": 35201,
    "start_time": "2023-04-15T15:09:48.381Z"
   },
   {
    "duration": 86,
    "start_time": "2023-04-15T15:11:28.212Z"
   },
   {
    "duration": 33635,
    "start_time": "2023-04-15T15:11:38.873Z"
   },
   {
    "duration": 81,
    "start_time": "2023-04-15T15:12:17.099Z"
   },
   {
    "duration": 33345,
    "start_time": "2023-04-15T15:14:36.007Z"
   },
   {
    "duration": 84,
    "start_time": "2023-04-15T15:15:15.166Z"
   },
   {
    "duration": 33550,
    "start_time": "2023-04-15T15:15:22.442Z"
   },
   {
    "duration": 72,
    "start_time": "2023-04-15T15:16:08.581Z"
   },
   {
    "duration": 283980,
    "start_time": "2023-04-15T15:26:39.304Z"
   },
   {
    "duration": 4,
    "start_time": "2023-04-15T15:32:37.874Z"
   },
   {
    "duration": 32022,
    "start_time": "2023-04-15T15:35:45.776Z"
   },
   {
    "duration": 31534,
    "start_time": "2023-04-15T15:36:43.476Z"
   },
   {
    "duration": 31252,
    "start_time": "2023-04-15T15:37:27.142Z"
   },
   {
    "duration": 291079,
    "start_time": "2023-04-15T15:41:18.286Z"
   },
   {
    "duration": 4,
    "start_time": "2023-04-15T15:47:16.050Z"
   },
   {
    "duration": 1329,
    "start_time": "2023-04-16T05:38:16.932Z"
   },
   {
    "duration": 213,
    "start_time": "2023-04-16T05:38:18.263Z"
   },
   {
    "duration": 2,
    "start_time": "2023-04-16T05:38:18.478Z"
   },
   {
    "duration": 88,
    "start_time": "2023-04-16T05:38:18.483Z"
   },
   {
    "duration": 2,
    "start_time": "2023-04-16T05:38:18.573Z"
   },
   {
    "duration": 1093,
    "start_time": "2023-04-16T05:38:18.577Z"
   },
   {
    "duration": 116,
    "start_time": "2023-04-16T05:38:19.672Z"
   },
   {
    "duration": 4,
    "start_time": "2023-04-16T05:38:19.790Z"
   },
   {
    "duration": 292,
    "start_time": "2023-04-16T05:38:19.796Z"
   },
   {
    "duration": 291,
    "start_time": "2023-04-16T05:38:20.090Z"
   },
   {
    "duration": 20,
    "start_time": "2023-04-16T05:38:20.383Z"
   },
   {
    "duration": 23,
    "start_time": "2023-04-16T05:38:20.404Z"
   },
   {
    "duration": 70,
    "start_time": "2023-04-16T05:38:20.429Z"
   },
   {
    "duration": 9,
    "start_time": "2023-04-16T05:38:20.501Z"
   },
   {
    "duration": 26,
    "start_time": "2023-04-16T05:38:20.512Z"
   },
   {
    "duration": 18,
    "start_time": "2023-04-16T05:38:20.540Z"
   },
   {
    "duration": 14,
    "start_time": "2023-04-16T05:38:20.560Z"
   },
   {
    "duration": 16,
    "start_time": "2023-04-16T05:38:20.576Z"
   },
   {
    "duration": 8,
    "start_time": "2023-04-16T05:38:20.594Z"
   },
   {
    "duration": 355,
    "start_time": "2023-04-16T05:38:20.604Z"
   },
   {
    "duration": 5,
    "start_time": "2023-04-16T05:38:20.961Z"
   },
   {
    "duration": 40,
    "start_time": "2023-04-16T05:38:20.968Z"
   },
   {
    "duration": 47,
    "start_time": "2023-04-16T05:38:21.010Z"
   },
   {
    "duration": 70,
    "start_time": "2023-04-16T05:38:21.059Z"
   },
   {
    "duration": 56,
    "start_time": "2023-04-16T05:38:21.131Z"
   },
   {
    "duration": 37,
    "start_time": "2023-04-16T05:38:21.189Z"
   },
   {
    "duration": 35,
    "start_time": "2023-04-16T05:38:21.227Z"
   },
   {
    "duration": 456,
    "start_time": "2023-04-16T05:38:21.266Z"
   },
   {
    "duration": 402,
    "start_time": "2023-04-16T05:38:21.724Z"
   },
   {
    "duration": 10,
    "start_time": "2023-04-16T05:38:22.128Z"
   },
   {
    "duration": 13,
    "start_time": "2023-04-16T05:38:22.155Z"
   },
   {
    "duration": 26,
    "start_time": "2023-04-16T05:38:22.170Z"
   },
   {
    "duration": 84,
    "start_time": "2023-04-16T05:38:22.199Z"
   },
   {
    "duration": 33,
    "start_time": "2023-04-16T05:38:22.284Z"
   },
   {
    "duration": 46,
    "start_time": "2023-04-16T05:38:22.319Z"
   },
   {
    "duration": 57,
    "start_time": "2023-04-16T05:38:22.367Z"
   },
   {
    "duration": 12,
    "start_time": "2023-04-16T05:38:22.426Z"
   },
   {
    "duration": 20,
    "start_time": "2023-04-16T05:38:22.440Z"
   },
   {
    "duration": 9,
    "start_time": "2023-04-16T05:38:22.461Z"
   },
   {
    "duration": 8,
    "start_time": "2023-04-16T05:38:22.471Z"
   },
   {
    "duration": 5,
    "start_time": "2023-04-16T05:38:22.480Z"
   },
   {
    "duration": 19,
    "start_time": "2023-04-16T05:38:22.486Z"
   },
   {
    "duration": 50,
    "start_time": "2023-04-16T05:38:22.506Z"
   },
   {
    "duration": 13,
    "start_time": "2023-04-16T05:38:22.558Z"
   },
   {
    "duration": 19,
    "start_time": "2023-04-16T05:38:22.573Z"
   },
   {
    "duration": 17,
    "start_time": "2023-04-16T05:38:22.594Z"
   },
   {
    "duration": 16,
    "start_time": "2023-04-16T05:38:22.613Z"
   },
   {
    "duration": 12,
    "start_time": "2023-04-16T05:38:22.656Z"
   },
   {
    "duration": 13,
    "start_time": "2023-04-16T05:38:22.669Z"
   },
   {
    "duration": 14,
    "start_time": "2023-04-16T05:38:22.684Z"
   },
   {
    "duration": 12,
    "start_time": "2023-04-16T05:38:22.700Z"
   },
   {
    "duration": 43,
    "start_time": "2023-04-16T05:38:22.713Z"
   },
   {
    "duration": 4,
    "start_time": "2023-04-16T05:38:22.758Z"
   },
   {
    "duration": 16,
    "start_time": "2023-04-16T05:38:22.763Z"
   },
   {
    "duration": 42,
    "start_time": "2023-04-16T05:38:22.781Z"
   },
   {
    "duration": 32,
    "start_time": "2023-04-16T05:38:22.825Z"
   },
   {
    "duration": 5,
    "start_time": "2023-04-16T05:38:22.858Z"
   },
   {
    "duration": 4,
    "start_time": "2023-04-16T05:38:22.865Z"
   },
   {
    "duration": 29,
    "start_time": "2023-04-16T05:38:22.871Z"
   },
   {
    "duration": 117,
    "start_time": "2023-04-16T05:38:22.902Z"
   },
   {
    "duration": 73,
    "start_time": "2023-04-16T05:38:23.021Z"
   },
   {
    "duration": 17,
    "start_time": "2023-04-16T05:38:23.096Z"
   },
   {
    "duration": 6,
    "start_time": "2023-04-16T05:38:23.115Z"
   },
   {
    "duration": 11,
    "start_time": "2023-04-16T05:38:23.122Z"
   },
   {
    "duration": 22,
    "start_time": "2023-04-16T05:38:23.135Z"
   },
   {
    "duration": 3,
    "start_time": "2023-04-16T05:38:23.159Z"
   },
   {
    "duration": 78,
    "start_time": "2023-04-16T05:38:23.163Z"
   },
   {
    "duration": 779,
    "start_time": "2023-04-16T05:38:23.243Z"
   },
   {
    "duration": 84,
    "start_time": "2023-04-16T05:38:24.024Z"
   },
   {
    "duration": 29,
    "start_time": "2023-04-16T05:38:24.109Z"
   },
   {
    "duration": 50,
    "start_time": "2023-04-16T05:38:24.140Z"
   },
   {
    "duration": 5,
    "start_time": "2023-04-16T05:38:24.192Z"
   },
   {
    "duration": 5,
    "start_time": "2023-04-16T05:38:24.199Z"
   },
   {
    "duration": 64,
    "start_time": "2023-04-16T05:38:24.206Z"
   },
   {
    "duration": 87,
    "start_time": "2023-04-16T05:38:24.272Z"
   },
   {
    "duration": 373786,
    "start_time": "2023-04-16T05:38:24.361Z"
   },
   {
    "duration": 7,
    "start_time": "2023-04-16T05:44:38.150Z"
   },
   {
    "duration": 257869,
    "start_time": "2023-04-16T05:44:38.160Z"
   },
   {
    "duration": 4,
    "start_time": "2023-04-16T05:48:56.030Z"
   },
   {
    "duration": 3,
    "start_time": "2023-04-16T06:05:00.029Z"
   },
   {
    "duration": 23221,
    "start_time": "2023-04-16T06:11:58.752Z"
   },
   {
    "duration": 96611,
    "start_time": "2023-04-16T06:13:18.431Z"
   },
   {
    "duration": 308417,
    "start_time": "2023-04-16T06:15:18.647Z"
   },
   {
    "duration": 3,
    "start_time": "2023-04-16T06:28:15.723Z"
   },
   {
    "duration": 1983653,
    "start_time": "2023-04-16T06:30:35.003Z"
   },
   {
    "duration": 4,
    "start_time": "2023-04-16T07:03:47.455Z"
   },
   {
    "duration": 4,
    "start_time": "2023-04-16T07:04:17.125Z"
   },
   {
    "duration": 1204,
    "start_time": "2023-04-16T07:07:33.757Z"
   },
   {
    "duration": 228,
    "start_time": "2023-04-16T07:07:34.963Z"
   },
   {
    "duration": 3,
    "start_time": "2023-04-16T07:07:35.193Z"
   },
   {
    "duration": 92,
    "start_time": "2023-04-16T07:07:35.198Z"
   },
   {
    "duration": 3,
    "start_time": "2023-04-16T07:07:35.292Z"
   },
   {
    "duration": 821,
    "start_time": "2023-04-16T07:07:35.297Z"
   },
   {
    "duration": 119,
    "start_time": "2023-04-16T07:07:36.120Z"
   },
   {
    "duration": 5,
    "start_time": "2023-04-16T07:07:36.241Z"
   },
   {
    "duration": 286,
    "start_time": "2023-04-16T07:07:36.256Z"
   },
   {
    "duration": 286,
    "start_time": "2023-04-16T07:07:36.545Z"
   },
   {
    "duration": 32,
    "start_time": "2023-04-16T07:07:36.833Z"
   },
   {
    "duration": 23,
    "start_time": "2023-04-16T07:07:36.867Z"
   },
   {
    "duration": 40,
    "start_time": "2023-04-16T07:07:36.892Z"
   },
   {
    "duration": 30,
    "start_time": "2023-04-16T07:07:36.934Z"
   },
   {
    "duration": 21,
    "start_time": "2023-04-16T07:07:36.966Z"
   },
   {
    "duration": 22,
    "start_time": "2023-04-16T07:07:36.989Z"
   },
   {
    "duration": 17,
    "start_time": "2023-04-16T07:07:37.013Z"
   },
   {
    "duration": 33,
    "start_time": "2023-04-16T07:07:37.032Z"
   },
   {
    "duration": 9,
    "start_time": "2023-04-16T07:07:37.067Z"
   },
   {
    "duration": 417,
    "start_time": "2023-04-16T07:07:37.078Z"
   },
   {
    "duration": 5,
    "start_time": "2023-04-16T07:07:37.497Z"
   },
   {
    "duration": 37,
    "start_time": "2023-04-16T07:07:37.504Z"
   },
   {
    "duration": 31,
    "start_time": "2023-04-16T07:07:37.555Z"
   },
   {
    "duration": 90,
    "start_time": "2023-04-16T07:07:37.587Z"
   },
   {
    "duration": 44,
    "start_time": "2023-04-16T07:07:37.678Z"
   },
   {
    "duration": 55,
    "start_time": "2023-04-16T07:07:37.724Z"
   },
   {
    "duration": 19,
    "start_time": "2023-04-16T07:07:37.781Z"
   },
   {
    "duration": 531,
    "start_time": "2023-04-16T07:07:37.805Z"
   },
   {
    "duration": 473,
    "start_time": "2023-04-16T07:07:38.338Z"
   },
   {
    "duration": 9,
    "start_time": "2023-04-16T07:07:38.813Z"
   },
   {
    "duration": 35,
    "start_time": "2023-04-16T07:07:38.824Z"
   },
   {
    "duration": 28,
    "start_time": "2023-04-16T07:07:38.861Z"
   },
   {
    "duration": 79,
    "start_time": "2023-04-16T07:07:38.891Z"
   },
   {
    "duration": 40,
    "start_time": "2023-04-16T07:07:38.972Z"
   },
   {
    "duration": 51,
    "start_time": "2023-04-16T07:07:39.014Z"
   },
   {
    "duration": 68,
    "start_time": "2023-04-16T07:07:39.067Z"
   },
   {
    "duration": 30,
    "start_time": "2023-04-16T07:07:39.137Z"
   },
   {
    "duration": 5,
    "start_time": "2023-04-16T07:07:39.169Z"
   },
   {
    "duration": 7,
    "start_time": "2023-04-16T07:07:39.176Z"
   },
   {
    "duration": 6,
    "start_time": "2023-04-16T07:07:39.185Z"
   },
   {
    "duration": 6,
    "start_time": "2023-04-16T07:07:39.193Z"
   },
   {
    "duration": 19,
    "start_time": "2023-04-16T07:07:39.200Z"
   },
   {
    "duration": 48,
    "start_time": "2023-04-16T07:07:39.220Z"
   },
   {
    "duration": 13,
    "start_time": "2023-04-16T07:07:39.269Z"
   },
   {
    "duration": 19,
    "start_time": "2023-04-16T07:07:39.284Z"
   },
   {
    "duration": 27,
    "start_time": "2023-04-16T07:07:39.304Z"
   },
   {
    "duration": 42,
    "start_time": "2023-04-16T07:07:39.333Z"
   },
   {
    "duration": 18,
    "start_time": "2023-04-16T07:07:39.376Z"
   },
   {
    "duration": 22,
    "start_time": "2023-04-16T07:07:39.395Z"
   },
   {
    "duration": 21,
    "start_time": "2023-04-16T07:07:39.419Z"
   },
   {
    "duration": 22,
    "start_time": "2023-04-16T07:07:39.442Z"
   },
   {
    "duration": 19,
    "start_time": "2023-04-16T07:07:39.466Z"
   },
   {
    "duration": 4,
    "start_time": "2023-04-16T07:07:39.487Z"
   },
   {
    "duration": 19,
    "start_time": "2023-04-16T07:07:39.493Z"
   },
   {
    "duration": 69,
    "start_time": "2023-04-16T07:07:39.514Z"
   },
   {
    "duration": 14,
    "start_time": "2023-04-16T07:07:39.585Z"
   },
   {
    "duration": 13,
    "start_time": "2023-04-16T07:07:39.600Z"
   },
   {
    "duration": 9,
    "start_time": "2023-04-16T07:07:39.615Z"
   },
   {
    "duration": 34,
    "start_time": "2023-04-16T07:07:39.625Z"
   },
   {
    "duration": 57,
    "start_time": "2023-04-16T07:07:39.660Z"
   },
   {
    "duration": 85,
    "start_time": "2023-04-16T07:07:39.719Z"
   },
   {
    "duration": 18,
    "start_time": "2023-04-16T07:07:39.805Z"
   },
   {
    "duration": 7,
    "start_time": "2023-04-16T07:07:39.825Z"
   },
   {
    "duration": 28,
    "start_time": "2023-04-16T07:07:39.834Z"
   },
   {
    "duration": 5,
    "start_time": "2023-04-16T07:07:39.865Z"
   },
   {
    "duration": 5,
    "start_time": "2023-04-16T07:07:39.871Z"
   },
   {
    "duration": 102,
    "start_time": "2023-04-16T07:07:39.877Z"
   },
   {
    "duration": 790,
    "start_time": "2023-04-16T07:07:39.980Z"
   },
   {
    "duration": 59,
    "start_time": "2023-04-16T07:07:40.771Z"
   },
   {
    "duration": 48,
    "start_time": "2023-04-16T07:07:40.832Z"
   },
   {
    "duration": 39,
    "start_time": "2023-04-16T07:07:40.882Z"
   },
   {
    "duration": 4,
    "start_time": "2023-04-16T07:07:40.923Z"
   },
   {
    "duration": 26,
    "start_time": "2023-04-16T07:07:40.930Z"
   },
   {
    "duration": 49,
    "start_time": "2023-04-16T07:07:40.959Z"
   },
   {
    "duration": 51,
    "start_time": "2023-04-16T07:07:41.010Z"
   },
   {
    "duration": 352332,
    "start_time": "2023-04-16T07:07:41.063Z"
   },
   {
    "duration": 4,
    "start_time": "2023-04-16T07:13:33.397Z"
   },
   {
    "duration": 1390346,
    "start_time": "2023-04-16T07:13:33.402Z"
   },
   {
    "duration": 22097,
    "start_time": "2023-04-16T07:36:43.755Z"
   },
   {
    "duration": 3,
    "start_time": "2023-04-16T07:37:05.854Z"
   },
   {
    "duration": 22,
    "start_time": "2023-04-16T07:37:05.862Z"
   },
   {
    "duration": 1428585,
    "start_time": "2023-04-16T07:37:26.339Z"
   },
   {
    "duration": 4,
    "start_time": "2023-04-16T08:10:42.942Z"
   },
   {
    "duration": 2119470,
    "start_time": "2023-04-16T08:11:04.886Z"
   },
   {
    "duration": 4,
    "start_time": "2023-04-16T08:46:32.334Z"
   },
   {
    "duration": 98,
    "start_time": "2023-04-16T09:36:47.385Z"
   },
   {
    "duration": 43,
    "start_time": "2023-04-16T09:38:19.516Z"
   },
   {
    "duration": 8,
    "start_time": "2023-04-16T09:38:22.040Z"
   },
   {
    "duration": 3,
    "start_time": "2023-04-16T09:42:19.372Z"
   },
   {
    "duration": 5,
    "start_time": "2023-04-16T09:46:15.233Z"
   },
   {
    "duration": 9,
    "start_time": "2023-04-16T09:46:24.129Z"
   },
   {
    "duration": 10,
    "start_time": "2023-04-16T09:46:55.569Z"
   },
   {
    "duration": 32801,
    "start_time": "2023-04-16T09:51:08.044Z"
   },
   {
    "duration": 32876,
    "start_time": "2023-04-16T09:52:32.596Z"
   },
   {
    "duration": 1201,
    "start_time": "2023-04-16T09:56:15.305Z"
   },
   {
    "duration": 10,
    "start_time": "2023-04-16T09:56:31.993Z"
   },
   {
    "duration": 2,
    "start_time": "2023-04-16T09:59:31.807Z"
   },
   {
    "duration": 130,
    "start_time": "2023-04-16T10:00:24.276Z"
   },
   {
    "duration": 5,
    "start_time": "2023-04-16T10:00:36.945Z"
   },
   {
    "duration": 32253,
    "start_time": "2023-04-16T10:03:38.302Z"
   },
   {
    "duration": 81,
    "start_time": "2023-04-16T10:04:16.835Z"
   },
   {
    "duration": 6,
    "start_time": "2023-04-16T10:04:19.516Z"
   },
   {
    "duration": 1551879,
    "start_time": "2023-04-16T10:09:02.037Z"
   },
   {
    "duration": 2602608,
    "start_time": "2023-04-16T10:35:08.500Z"
   },
   {
    "duration": 12887,
    "start_time": "2023-04-16T11:18:39.285Z"
   },
   {
    "duration": 259770,
    "start_time": "2023-04-16T11:19:05.944Z"
   },
   {
    "duration": 475,
    "start_time": "2023-04-16T11:23:37.503Z"
   },
   {
    "duration": 6,
    "start_time": "2023-04-16T11:23:42.805Z"
   },
   {
    "duration": 1277,
    "start_time": "2023-04-16T11:34:59.933Z"
   },
   {
    "duration": 298,
    "start_time": "2023-04-16T11:35:01.212Z"
   },
   {
    "duration": 4,
    "start_time": "2023-04-16T11:35:01.511Z"
   },
   {
    "duration": 122,
    "start_time": "2023-04-16T11:35:01.517Z"
   },
   {
    "duration": 3,
    "start_time": "2023-04-16T11:35:01.641Z"
   },
   {
    "duration": 1008,
    "start_time": "2023-04-16T11:35:01.646Z"
   },
   {
    "duration": 163,
    "start_time": "2023-04-16T11:35:02.666Z"
   },
   {
    "duration": 6,
    "start_time": "2023-04-16T11:35:02.831Z"
   },
   {
    "duration": 365,
    "start_time": "2023-04-16T11:35:02.838Z"
   },
   {
    "duration": 358,
    "start_time": "2023-04-16T11:35:03.207Z"
   },
   {
    "duration": 29,
    "start_time": "2023-04-16T11:35:03.572Z"
   },
   {
    "duration": 27,
    "start_time": "2023-04-16T11:35:03.603Z"
   },
   {
    "duration": 65,
    "start_time": "2023-04-16T11:35:03.632Z"
   },
   {
    "duration": 9,
    "start_time": "2023-04-16T11:35:03.699Z"
   },
   {
    "duration": 35,
    "start_time": "2023-04-16T11:35:03.710Z"
   },
   {
    "duration": 45,
    "start_time": "2023-04-16T11:35:03.747Z"
   },
   {
    "duration": 18,
    "start_time": "2023-04-16T11:35:03.794Z"
   },
   {
    "duration": 21,
    "start_time": "2023-04-16T11:35:03.814Z"
   },
   {
    "duration": 12,
    "start_time": "2023-04-16T11:35:03.837Z"
   },
   {
    "duration": 463,
    "start_time": "2023-04-16T11:35:03.856Z"
   },
   {
    "duration": 7,
    "start_time": "2023-04-16T11:35:04.321Z"
   },
   {
    "duration": 72,
    "start_time": "2023-04-16T11:35:04.331Z"
   },
   {
    "duration": 32,
    "start_time": "2023-04-16T11:35:04.405Z"
   },
   {
    "duration": 95,
    "start_time": "2023-04-16T11:35:04.439Z"
   },
   {
    "duration": 60,
    "start_time": "2023-04-16T11:35:04.535Z"
   },
   {
    "duration": 50,
    "start_time": "2023-04-16T11:35:04.597Z"
   },
   {
    "duration": 37,
    "start_time": "2023-04-16T11:35:04.649Z"
   },
   {
    "duration": 494,
    "start_time": "2023-04-16T11:35:04.694Z"
   },
   {
    "duration": 487,
    "start_time": "2023-04-16T11:35:05.194Z"
   },
   {
    "duration": 13,
    "start_time": "2023-04-16T11:35:05.686Z"
   },
   {
    "duration": 16,
    "start_time": "2023-04-16T11:35:05.700Z"
   },
   {
    "duration": 45,
    "start_time": "2023-04-16T11:35:05.718Z"
   },
   {
    "duration": 78,
    "start_time": "2023-04-16T11:35:05.765Z"
   },
   {
    "duration": 53,
    "start_time": "2023-04-16T11:35:05.845Z"
   },
   {
    "duration": 42,
    "start_time": "2023-04-16T11:35:05.900Z"
   },
   {
    "duration": 82,
    "start_time": "2023-04-16T11:35:05.944Z"
   },
   {
    "duration": 20,
    "start_time": "2023-04-16T11:35:06.028Z"
   },
   {
    "duration": 20,
    "start_time": "2023-04-16T11:35:06.058Z"
   },
   {
    "duration": 9,
    "start_time": "2023-04-16T11:35:06.081Z"
   },
   {
    "duration": 6,
    "start_time": "2023-04-16T11:35:06.095Z"
   },
   {
    "duration": 11,
    "start_time": "2023-04-16T11:35:06.103Z"
   },
   {
    "duration": 17,
    "start_time": "2023-04-16T11:35:06.115Z"
   },
   {
    "duration": 42,
    "start_time": "2023-04-16T11:35:06.134Z"
   },
   {
    "duration": 19,
    "start_time": "2023-04-16T11:35:06.186Z"
   },
   {
    "duration": 20,
    "start_time": "2023-04-16T11:35:06.207Z"
   },
   {
    "duration": 18,
    "start_time": "2023-04-16T11:35:06.229Z"
   },
   {
    "duration": 39,
    "start_time": "2023-04-16T11:35:06.249Z"
   },
   {
    "duration": 15,
    "start_time": "2023-04-16T11:35:06.289Z"
   },
   {
    "duration": 20,
    "start_time": "2023-04-16T11:35:06.305Z"
   },
   {
    "duration": 27,
    "start_time": "2023-04-16T11:35:06.327Z"
   },
   {
    "duration": 27,
    "start_time": "2023-04-16T11:35:06.355Z"
   },
   {
    "duration": 22,
    "start_time": "2023-04-16T11:35:06.383Z"
   },
   {
    "duration": 6,
    "start_time": "2023-04-16T11:35:06.407Z"
   },
   {
    "duration": 24,
    "start_time": "2023-04-16T11:35:06.414Z"
   },
   {
    "duration": 56,
    "start_time": "2023-04-16T11:35:06.440Z"
   },
   {
    "duration": 13,
    "start_time": "2023-04-16T11:35:06.498Z"
   },
   {
    "duration": 17,
    "start_time": "2023-04-16T11:35:06.513Z"
   },
   {
    "duration": 4,
    "start_time": "2023-04-16T11:35:06.532Z"
   },
   {
    "duration": 32,
    "start_time": "2023-04-16T11:35:06.538Z"
   },
   {
    "duration": 65,
    "start_time": "2023-04-16T11:35:06.571Z"
   },
   {
    "duration": 87,
    "start_time": "2023-04-16T11:35:06.637Z"
   },
   {
    "duration": 16,
    "start_time": "2023-04-16T11:35:06.726Z"
   },
   {
    "duration": 17,
    "start_time": "2023-04-16T11:35:06.743Z"
   },
   {
    "duration": 23,
    "start_time": "2023-04-16T11:35:06.767Z"
   },
   {
    "duration": 16,
    "start_time": "2023-04-16T11:35:06.792Z"
   },
   {
    "duration": 11,
    "start_time": "2023-04-16T11:35:06.810Z"
   },
   {
    "duration": 121,
    "start_time": "2023-04-16T11:35:06.823Z"
   },
   {
    "duration": 869,
    "start_time": "2023-04-16T11:35:06.946Z"
   },
   {
    "duration": 78,
    "start_time": "2023-04-16T11:35:07.817Z"
   },
   {
    "duration": 32,
    "start_time": "2023-04-16T11:35:07.897Z"
   },
   {
    "duration": 57,
    "start_time": "2023-04-16T11:35:07.931Z"
   },
   {
    "duration": 5,
    "start_time": "2023-04-16T11:35:07.991Z"
   },
   {
    "duration": 3,
    "start_time": "2023-04-16T11:35:07.998Z"
   },
   {
    "duration": 66,
    "start_time": "2023-04-16T11:35:08.002Z"
   },
   {
    "duration": 19,
    "start_time": "2023-04-16T11:35:08.069Z"
   },
   {
    "duration": 1368843,
    "start_time": "2023-04-16T11:35:08.090Z"
   },
   {
    "duration": 5,
    "start_time": "2023-04-16T11:57:56.934Z"
   },
   {
    "duration": 1617842,
    "start_time": "2023-04-16T11:57:56.941Z"
   },
   {
    "duration": 11,
    "start_time": "2023-04-16T12:24:54.785Z"
   },
   {
    "duration": 94833,
    "start_time": "2023-04-16T12:24:54.798Z"
   },
   {
    "duration": 4,
    "start_time": "2023-04-16T12:26:29.633Z"
   },
   {
    "duration": 7,
    "start_time": "2023-04-16T12:26:29.643Z"
   },
   {
    "duration": 24315,
    "start_time": "2023-04-16T12:26:29.652Z"
   },
   {
    "duration": 23,
    "start_time": "2023-04-16T12:26:53.975Z"
   },
   {
    "duration": 0,
    "start_time": "2023-04-16T12:26:54.000Z"
   },
   {
    "duration": 0,
    "start_time": "2023-04-16T12:26:54.002Z"
   },
   {
    "duration": 0,
    "start_time": "2023-04-16T12:26:54.003Z"
   },
   {
    "duration": 0,
    "start_time": "2023-04-16T12:26:54.005Z"
   },
   {
    "duration": 0,
    "start_time": "2023-04-16T12:26:54.006Z"
   },
   {
    "duration": 0,
    "start_time": "2023-04-16T12:26:54.007Z"
   },
   {
    "duration": 0,
    "start_time": "2023-04-16T12:26:54.008Z"
   },
   {
    "duration": 1339,
    "start_time": "2023-04-16T12:27:51.038Z"
   },
   {
    "duration": 324,
    "start_time": "2023-04-16T12:27:52.379Z"
   },
   {
    "duration": 3,
    "start_time": "2023-04-16T12:27:52.708Z"
   },
   {
    "duration": 149,
    "start_time": "2023-04-16T12:27:52.714Z"
   },
   {
    "duration": 14,
    "start_time": "2023-04-16T12:27:52.869Z"
   },
   {
    "duration": 1012,
    "start_time": "2023-04-16T12:27:52.893Z"
   },
   {
    "duration": 155,
    "start_time": "2023-04-16T12:27:53.907Z"
   },
   {
    "duration": 7,
    "start_time": "2023-04-16T12:27:54.065Z"
   },
   {
    "duration": 331,
    "start_time": "2023-04-16T12:27:54.073Z"
   },
   {
    "duration": 339,
    "start_time": "2023-04-16T12:27:54.408Z"
   },
   {
    "duration": 28,
    "start_time": "2023-04-16T12:27:54.748Z"
   },
   {
    "duration": 32,
    "start_time": "2023-04-16T12:27:54.778Z"
   },
   {
    "duration": 72,
    "start_time": "2023-04-16T12:27:54.813Z"
   },
   {
    "duration": 10,
    "start_time": "2023-04-16T12:27:54.887Z"
   },
   {
    "duration": 20,
    "start_time": "2023-04-16T12:27:54.899Z"
   },
   {
    "duration": 17,
    "start_time": "2023-04-16T12:27:54.921Z"
   },
   {
    "duration": 37,
    "start_time": "2023-04-16T12:27:54.940Z"
   },
   {
    "duration": 25,
    "start_time": "2023-04-16T12:27:54.987Z"
   },
   {
    "duration": 13,
    "start_time": "2023-04-16T12:27:55.014Z"
   },
   {
    "duration": 505,
    "start_time": "2023-04-16T12:27:55.030Z"
   },
   {
    "duration": 7,
    "start_time": "2023-04-16T12:27:55.537Z"
   },
   {
    "duration": 55,
    "start_time": "2023-04-16T12:27:55.561Z"
   },
   {
    "duration": 43,
    "start_time": "2023-04-16T12:27:55.618Z"
   },
   {
    "duration": 92,
    "start_time": "2023-04-16T12:27:55.667Z"
   },
   {
    "duration": 59,
    "start_time": "2023-04-16T12:27:55.761Z"
   },
   {
    "duration": 68,
    "start_time": "2023-04-16T12:27:55.823Z"
   },
   {
    "duration": 35,
    "start_time": "2023-04-16T12:27:55.893Z"
   },
   {
    "duration": 603,
    "start_time": "2023-04-16T12:27:55.933Z"
   },
   {
    "duration": 584,
    "start_time": "2023-04-16T12:27:56.538Z"
   },
   {
    "duration": 11,
    "start_time": "2023-04-16T12:27:57.124Z"
   },
   {
    "duration": 44,
    "start_time": "2023-04-16T12:27:57.137Z"
   },
   {
    "duration": 31,
    "start_time": "2023-04-16T12:27:57.186Z"
   },
   {
    "duration": 94,
    "start_time": "2023-04-16T12:27:57.220Z"
   },
   {
    "duration": 56,
    "start_time": "2023-04-16T12:27:57.316Z"
   },
   {
    "duration": 49,
    "start_time": "2023-04-16T12:27:57.374Z"
   },
   {
    "duration": 107,
    "start_time": "2023-04-16T12:27:57.425Z"
   },
   {
    "duration": 23,
    "start_time": "2023-04-16T12:27:57.534Z"
   },
   {
    "duration": 7,
    "start_time": "2023-04-16T12:27:57.559Z"
   },
   {
    "duration": 8,
    "start_time": "2023-04-16T12:27:57.568Z"
   },
   {
    "duration": 13,
    "start_time": "2023-04-16T12:27:57.578Z"
   },
   {
    "duration": 13,
    "start_time": "2023-04-16T12:27:57.594Z"
   },
   {
    "duration": 27,
    "start_time": "2023-04-16T12:27:57.609Z"
   },
   {
    "duration": 45,
    "start_time": "2023-04-16T12:27:57.658Z"
   },
   {
    "duration": 15,
    "start_time": "2023-04-16T12:27:57.705Z"
   },
   {
    "duration": 22,
    "start_time": "2023-04-16T12:27:57.721Z"
   },
   {
    "duration": 19,
    "start_time": "2023-04-16T12:27:57.745Z"
   },
   {
    "duration": 25,
    "start_time": "2023-04-16T12:27:57.765Z"
   },
   {
    "duration": 29,
    "start_time": "2023-04-16T12:27:57.792Z"
   },
   {
    "duration": 35,
    "start_time": "2023-04-16T12:27:57.823Z"
   },
   {
    "duration": 23,
    "start_time": "2023-04-16T12:27:57.860Z"
   },
   {
    "duration": 19,
    "start_time": "2023-04-16T12:27:57.887Z"
   },
   {
    "duration": 26,
    "start_time": "2023-04-16T12:27:57.909Z"
   },
   {
    "duration": 25,
    "start_time": "2023-04-16T12:27:57.937Z"
   },
   {
    "duration": 37,
    "start_time": "2023-04-16T12:27:57.964Z"
   },
   {
    "duration": 67,
    "start_time": "2023-04-16T12:27:58.003Z"
   },
   {
    "duration": 21,
    "start_time": "2023-04-16T12:27:58.071Z"
   },
   {
    "duration": 6,
    "start_time": "2023-04-16T12:27:58.094Z"
   },
   {
    "duration": 19,
    "start_time": "2023-04-16T12:27:58.102Z"
   },
   {
    "duration": 32,
    "start_time": "2023-04-16T12:27:58.123Z"
   },
   {
    "duration": 74,
    "start_time": "2023-04-16T12:27:58.157Z"
   },
   {
    "duration": 89,
    "start_time": "2023-04-16T12:27:58.233Z"
   },
   {
    "duration": 16,
    "start_time": "2023-04-16T12:27:58.323Z"
   },
   {
    "duration": 23,
    "start_time": "2023-04-16T12:27:58.340Z"
   },
   {
    "duration": 18,
    "start_time": "2023-04-16T12:27:58.365Z"
   },
   {
    "duration": 6,
    "start_time": "2023-04-16T12:27:58.385Z"
   },
   {
    "duration": 5,
    "start_time": "2023-04-16T12:27:58.393Z"
   },
   {
    "duration": 122,
    "start_time": "2023-04-16T12:27:58.400Z"
   },
   {
    "duration": 965,
    "start_time": "2023-04-16T12:27:58.524Z"
   },
   {
    "duration": 62,
    "start_time": "2023-04-16T12:27:59.491Z"
   },
   {
    "duration": 39,
    "start_time": "2023-04-16T12:27:59.555Z"
   },
   {
    "duration": 37,
    "start_time": "2023-04-16T12:27:59.599Z"
   },
   {
    "duration": 21,
    "start_time": "2023-04-16T12:27:59.638Z"
   },
   {
    "duration": 12,
    "start_time": "2023-04-16T12:27:59.661Z"
   },
   {
    "duration": 69,
    "start_time": "2023-04-16T12:27:59.677Z"
   },
   {
    "duration": 36,
    "start_time": "2023-04-16T12:27:59.759Z"
   },
   {
    "duration": 1420,
    "start_time": "2023-04-16T12:51:51.527Z"
   },
   {
    "duration": 344,
    "start_time": "2023-04-16T12:51:52.949Z"
   },
   {
    "duration": 7,
    "start_time": "2023-04-16T12:51:53.294Z"
   },
   {
    "duration": 102,
    "start_time": "2023-04-16T12:51:53.302Z"
   },
   {
    "duration": 5,
    "start_time": "2023-04-16T12:51:53.406Z"
   },
   {
    "duration": 1051,
    "start_time": "2023-04-16T12:51:53.413Z"
   },
   {
    "duration": 163,
    "start_time": "2023-04-16T12:51:54.466Z"
   },
   {
    "duration": 5,
    "start_time": "2023-04-16T12:51:54.631Z"
   },
   {
    "duration": 385,
    "start_time": "2023-04-16T12:51:54.639Z"
   },
   {
    "duration": 476,
    "start_time": "2023-04-16T12:51:55.038Z"
   },
   {
    "duration": 27,
    "start_time": "2023-04-16T12:51:55.518Z"
   },
   {
    "duration": 39,
    "start_time": "2023-04-16T12:51:55.547Z"
   },
   {
    "duration": 56,
    "start_time": "2023-04-16T12:51:55.588Z"
   },
   {
    "duration": 11,
    "start_time": "2023-04-16T12:51:55.649Z"
   },
   {
    "duration": 39,
    "start_time": "2023-04-16T12:51:55.662Z"
   },
   {
    "duration": 23,
    "start_time": "2023-04-16T12:51:55.703Z"
   },
   {
    "duration": 23,
    "start_time": "2023-04-16T12:51:55.728Z"
   },
   {
    "duration": 25,
    "start_time": "2023-04-16T12:51:55.752Z"
   },
   {
    "duration": 30,
    "start_time": "2023-04-16T12:51:55.780Z"
   },
   {
    "duration": 507,
    "start_time": "2023-04-16T12:51:55.812Z"
   },
   {
    "duration": 7,
    "start_time": "2023-04-16T12:51:56.324Z"
   },
   {
    "duration": 106,
    "start_time": "2023-04-16T12:51:56.333Z"
   },
   {
    "duration": 38,
    "start_time": "2023-04-16T12:51:56.441Z"
   },
   {
    "duration": 135,
    "start_time": "2023-04-16T12:51:56.483Z"
   },
   {
    "duration": 54,
    "start_time": "2023-04-16T12:51:56.620Z"
   },
   {
    "duration": 62,
    "start_time": "2023-04-16T12:51:56.676Z"
   },
   {
    "duration": 28,
    "start_time": "2023-04-16T12:51:56.740Z"
   },
   {
    "duration": 853,
    "start_time": "2023-04-16T12:51:56.771Z"
   },
   {
    "duration": 814,
    "start_time": "2023-04-16T12:51:57.630Z"
   },
   {
    "duration": 15,
    "start_time": "2023-04-16T12:51:58.450Z"
   },
   {
    "duration": 27,
    "start_time": "2023-04-16T12:51:58.468Z"
   },
   {
    "duration": 53,
    "start_time": "2023-04-16T12:51:58.497Z"
   },
   {
    "duration": 106,
    "start_time": "2023-04-16T12:51:58.552Z"
   },
   {
    "duration": 58,
    "start_time": "2023-04-16T12:51:58.659Z"
   },
   {
    "duration": 54,
    "start_time": "2023-04-16T12:51:58.720Z"
   },
   {
    "duration": 139,
    "start_time": "2023-04-16T12:51:58.780Z"
   },
   {
    "duration": 29,
    "start_time": "2023-04-16T12:51:58.921Z"
   },
   {
    "duration": 7,
    "start_time": "2023-04-16T12:51:58.952Z"
   },
   {
    "duration": 11,
    "start_time": "2023-04-16T12:51:58.960Z"
   },
   {
    "duration": 7,
    "start_time": "2023-04-16T12:51:58.974Z"
   },
   {
    "duration": 8,
    "start_time": "2023-04-16T12:51:58.990Z"
   },
   {
    "duration": 31,
    "start_time": "2023-04-16T12:51:59.000Z"
   },
   {
    "duration": 43,
    "start_time": "2023-04-16T12:51:59.033Z"
   },
   {
    "duration": 27,
    "start_time": "2023-04-16T12:51:59.080Z"
   },
   {
    "duration": 33,
    "start_time": "2023-04-16T12:51:59.116Z"
   },
   {
    "duration": 27,
    "start_time": "2023-04-16T12:51:59.151Z"
   },
   {
    "duration": 28,
    "start_time": "2023-04-16T12:51:59.183Z"
   },
   {
    "duration": 34,
    "start_time": "2023-04-16T12:51:59.216Z"
   },
   {
    "duration": 29,
    "start_time": "2023-04-16T12:51:59.256Z"
   },
   {
    "duration": 33,
    "start_time": "2023-04-16T12:51:59.292Z"
   },
   {
    "duration": 26,
    "start_time": "2023-04-16T12:51:59.333Z"
   },
   {
    "duration": 32,
    "start_time": "2023-04-16T12:51:59.366Z"
   },
   {
    "duration": 8,
    "start_time": "2023-04-16T12:51:59.406Z"
   },
   {
    "duration": 37,
    "start_time": "2023-04-16T12:51:59.420Z"
   },
   {
    "duration": 116,
    "start_time": "2023-04-16T12:51:59.464Z"
   },
   {
    "duration": 27,
    "start_time": "2023-04-16T12:51:59.586Z"
   },
   {
    "duration": 12,
    "start_time": "2023-04-16T12:51:59.618Z"
   },
   {
    "duration": 9,
    "start_time": "2023-04-16T12:51:59.633Z"
   },
   {
    "duration": 35,
    "start_time": "2023-04-16T12:51:59.644Z"
   },
   {
    "duration": 84,
    "start_time": "2023-04-16T12:51:59.686Z"
   },
   {
    "duration": 103,
    "start_time": "2023-04-16T12:51:59.776Z"
   },
   {
    "duration": 26,
    "start_time": "2023-04-16T12:51:59.884Z"
   },
   {
    "duration": 6,
    "start_time": "2023-04-16T12:51:59.916Z"
   },
   {
    "duration": 15,
    "start_time": "2023-04-16T12:51:59.923Z"
   },
   {
    "duration": 7,
    "start_time": "2023-04-16T12:51:59.940Z"
   },
   {
    "duration": 4,
    "start_time": "2023-04-16T12:51:59.949Z"
   },
   {
    "duration": 138,
    "start_time": "2023-04-16T12:51:59.964Z"
   },
   {
    "duration": 1247,
    "start_time": "2023-04-16T12:52:00.104Z"
   },
   {
    "duration": 87,
    "start_time": "2023-04-16T12:52:01.354Z"
   },
   {
    "duration": 37,
    "start_time": "2023-04-16T12:52:01.447Z"
   },
   {
    "duration": 48,
    "start_time": "2023-04-16T12:52:01.488Z"
   },
   {
    "duration": 6,
    "start_time": "2023-04-16T12:52:01.539Z"
   },
   {
    "duration": 35,
    "start_time": "2023-04-16T12:52:01.547Z"
   },
   {
    "duration": 123,
    "start_time": "2023-04-16T12:52:01.584Z"
   },
   {
    "duration": 12,
    "start_time": "2023-04-16T12:52:01.709Z"
   },
   {
    "duration": 785893,
    "start_time": "2023-04-16T12:52:01.723Z"
   },
   {
    "duration": 5,
    "start_time": "2023-04-16T13:05:07.618Z"
   },
   {
    "duration": 1750686,
    "start_time": "2023-04-16T13:05:07.625Z"
   },
   {
    "duration": 5,
    "start_time": "2023-04-16T13:34:18.313Z"
   },
   {
    "duration": 211711,
    "start_time": "2023-04-16T13:34:18.319Z"
   },
   {
    "duration": 4,
    "start_time": "2023-04-16T13:37:50.032Z"
   },
   {
    "duration": 9,
    "start_time": "2023-04-16T13:37:50.038Z"
   },
   {
    "duration": 1207,
    "start_time": "2023-04-16T13:39:50.004Z"
   },
   {
    "duration": 337,
    "start_time": "2023-04-16T13:39:51.213Z"
   },
   {
    "duration": 3,
    "start_time": "2023-04-16T13:39:51.552Z"
   },
   {
    "duration": 110,
    "start_time": "2023-04-16T13:39:51.557Z"
   },
   {
    "duration": 8,
    "start_time": "2023-04-16T13:39:51.682Z"
   },
   {
    "duration": 935,
    "start_time": "2023-04-16T13:39:51.699Z"
   },
   {
    "duration": 157,
    "start_time": "2023-04-16T13:39:52.636Z"
   },
   {
    "duration": 7,
    "start_time": "2023-04-16T13:39:52.803Z"
   },
   {
    "duration": 347,
    "start_time": "2023-04-16T13:39:52.812Z"
   },
   {
    "duration": 369,
    "start_time": "2023-04-16T13:39:53.160Z"
   },
   {
    "duration": 43,
    "start_time": "2023-04-16T13:39:53.531Z"
   },
   {
    "duration": 28,
    "start_time": "2023-04-16T13:39:53.582Z"
   },
   {
    "duration": 41,
    "start_time": "2023-04-16T13:39:53.612Z"
   },
   {
    "duration": 25,
    "start_time": "2023-04-16T13:39:53.656Z"
   },
   {
    "duration": 38,
    "start_time": "2023-04-16T13:39:53.685Z"
   },
   {
    "duration": 27,
    "start_time": "2023-04-16T13:39:53.724Z"
   },
   {
    "duration": 52,
    "start_time": "2023-04-16T13:39:53.753Z"
   },
   {
    "duration": 25,
    "start_time": "2023-04-16T13:39:53.808Z"
   },
   {
    "duration": 9,
    "start_time": "2023-04-16T13:39:53.835Z"
   },
   {
    "duration": 462,
    "start_time": "2023-04-16T13:39:53.846Z"
   },
   {
    "duration": 8,
    "start_time": "2023-04-16T13:39:54.312Z"
   },
   {
    "duration": 64,
    "start_time": "2023-04-16T13:39:54.322Z"
   },
   {
    "duration": 39,
    "start_time": "2023-04-16T13:39:54.391Z"
   },
   {
    "duration": 95,
    "start_time": "2023-04-16T13:39:54.432Z"
   },
   {
    "duration": 58,
    "start_time": "2023-04-16T13:39:54.529Z"
   },
   {
    "duration": 45,
    "start_time": "2023-04-16T13:39:54.589Z"
   },
   {
    "duration": 26,
    "start_time": "2023-04-16T13:39:54.636Z"
   },
   {
    "duration": 679,
    "start_time": "2023-04-16T13:39:54.670Z"
   },
   {
    "duration": 569,
    "start_time": "2023-04-16T13:39:55.351Z"
   },
   {
    "duration": 11,
    "start_time": "2023-04-16T13:39:55.922Z"
   },
   {
    "duration": 19,
    "start_time": "2023-04-16T13:39:55.936Z"
   },
   {
    "duration": 42,
    "start_time": "2023-04-16T13:39:55.957Z"
   },
   {
    "duration": 126,
    "start_time": "2023-04-16T13:39:56.002Z"
   },
   {
    "duration": 62,
    "start_time": "2023-04-16T13:39:56.130Z"
   },
   {
    "duration": 46,
    "start_time": "2023-04-16T13:39:56.194Z"
   },
   {
    "duration": 98,
    "start_time": "2023-04-16T13:39:56.242Z"
   },
   {
    "duration": 38,
    "start_time": "2023-04-16T13:39:56.342Z"
   },
   {
    "duration": 16,
    "start_time": "2023-04-16T13:39:56.389Z"
   },
   {
    "duration": 11,
    "start_time": "2023-04-16T13:39:56.407Z"
   },
   {
    "duration": 9,
    "start_time": "2023-04-16T13:39:56.419Z"
   },
   {
    "duration": 6,
    "start_time": "2023-04-16T13:39:56.434Z"
   },
   {
    "duration": 70,
    "start_time": "2023-04-16T13:39:56.442Z"
   },
   {
    "duration": 17,
    "start_time": "2023-04-16T13:39:56.516Z"
   },
   {
    "duration": 19,
    "start_time": "2023-04-16T13:39:56.535Z"
   },
   {
    "duration": 30,
    "start_time": "2023-04-16T13:39:56.561Z"
   },
   {
    "duration": 30,
    "start_time": "2023-04-16T13:39:56.595Z"
   },
   {
    "duration": 44,
    "start_time": "2023-04-16T13:39:56.628Z"
   },
   {
    "duration": 34,
    "start_time": "2023-04-16T13:39:56.674Z"
   },
   {
    "duration": 25,
    "start_time": "2023-04-16T13:39:56.713Z"
   },
   {
    "duration": 58,
    "start_time": "2023-04-16T13:39:56.740Z"
   },
   {
    "duration": 14,
    "start_time": "2023-04-16T13:39:56.806Z"
   },
   {
    "duration": 24,
    "start_time": "2023-04-16T13:39:56.822Z"
   },
   {
    "duration": 6,
    "start_time": "2023-04-16T13:39:56.848Z"
   },
   {
    "duration": 32,
    "start_time": "2023-04-16T13:39:56.863Z"
   },
   {
    "duration": 79,
    "start_time": "2023-04-16T13:39:56.901Z"
   },
   {
    "duration": 27,
    "start_time": "2023-04-16T13:39:56.986Z"
   },
   {
    "duration": 5,
    "start_time": "2023-04-16T13:39:57.015Z"
   },
   {
    "duration": 14,
    "start_time": "2023-04-16T13:39:57.022Z"
   },
   {
    "duration": 38,
    "start_time": "2023-04-16T13:39:57.038Z"
   },
   {
    "duration": 100,
    "start_time": "2023-04-16T13:39:57.079Z"
   },
   {
    "duration": 86,
    "start_time": "2023-04-16T13:39:57.181Z"
   },
   {
    "duration": 32,
    "start_time": "2023-04-16T13:39:57.269Z"
   },
   {
    "duration": 4,
    "start_time": "2023-04-16T13:39:57.309Z"
   },
   {
    "duration": 16,
    "start_time": "2023-04-16T13:39:57.314Z"
   },
   {
    "duration": 14,
    "start_time": "2023-04-16T13:39:57.332Z"
   },
   {
    "duration": 24,
    "start_time": "2023-04-16T13:39:57.349Z"
   },
   {
    "duration": 158,
    "start_time": "2023-04-16T13:39:57.375Z"
   },
   {
    "duration": 987,
    "start_time": "2023-04-16T13:39:57.534Z"
   },
   {
    "duration": 78,
    "start_time": "2023-04-16T13:39:58.523Z"
   },
   {
    "duration": 28,
    "start_time": "2023-04-16T13:39:58.602Z"
   },
   {
    "duration": 59,
    "start_time": "2023-04-16T13:39:58.632Z"
   },
   {
    "duration": 5,
    "start_time": "2023-04-16T13:39:58.693Z"
   },
   {
    "duration": 6,
    "start_time": "2023-04-16T13:39:58.700Z"
   },
   {
    "duration": 70,
    "start_time": "2023-04-16T13:39:58.709Z"
   },
   {
    "duration": 93,
    "start_time": "2023-04-16T13:39:58.784Z"
   },
   {
    "duration": 4,
    "start_time": "2023-04-16T13:39:58.879Z"
   },
   {
    "duration": 15,
    "start_time": "2023-04-16T13:39:58.884Z"
   },
   {
    "duration": 58,
    "start_time": "2023-04-16T13:39:58.900Z"
   },
   {
    "duration": 17,
    "start_time": "2023-04-16T13:39:58.963Z"
   },
   {
    "duration": 2,
    "start_time": "2023-04-16T13:39:58.982Z"
   },
   {
    "duration": 2,
    "start_time": "2023-04-16T13:39:58.986Z"
   },
   {
    "duration": 163,
    "start_time": "2023-04-16T13:39:58.990Z"
   },
   {
    "duration": 0,
    "start_time": "2023-04-16T13:39:59.155Z"
   },
   {
    "duration": 0,
    "start_time": "2023-04-16T13:39:59.161Z"
   },
   {
    "duration": 0,
    "start_time": "2023-04-16T13:39:59.161Z"
   },
   {
    "duration": 0,
    "start_time": "2023-04-16T13:39:59.164Z"
   },
   {
    "duration": 0,
    "start_time": "2023-04-16T13:39:59.167Z"
   },
   {
    "duration": 0,
    "start_time": "2023-04-16T13:39:59.169Z"
   },
   {
    "duration": 0,
    "start_time": "2023-04-16T13:39:59.170Z"
   },
   {
    "duration": 0,
    "start_time": "2023-04-16T13:39:59.171Z"
   },
   {
    "duration": 0,
    "start_time": "2023-04-16T13:39:59.171Z"
   },
   {
    "duration": 0,
    "start_time": "2023-04-16T13:39:59.177Z"
   },
   {
    "duration": 4,
    "start_time": "2023-04-16T13:42:59.135Z"
   },
   {
    "duration": 4,
    "start_time": "2023-04-16T13:43:04.742Z"
   },
   {
    "duration": 5,
    "start_time": "2023-04-16T13:43:30.657Z"
   },
   {
    "duration": 198137,
    "start_time": "2023-04-16T13:56:20.485Z"
   },
   {
    "duration": 1393025,
    "start_time": "2023-04-16T13:59:51.396Z"
   },
   {
    "duration": 4,
    "start_time": "2023-04-16T14:25:06.428Z"
   },
   {
    "duration": 5,
    "start_time": "2023-04-16T14:25:32.909Z"
   },
   {
    "duration": 5,
    "start_time": "2023-04-16T14:30:09.820Z"
   },
   {
    "duration": 18,
    "start_time": "2023-04-16T14:31:41.494Z"
   },
   {
    "duration": 3,
    "start_time": "2023-04-16T14:31:53.618Z"
   },
   {
    "duration": 1446383,
    "start_time": "2023-04-16T14:32:16.714Z"
   },
   {
    "duration": 4,
    "start_time": "2023-04-16T14:56:29.213Z"
   },
   {
    "duration": 4,
    "start_time": "2023-04-16T15:05:40.426Z"
   },
   {
    "duration": 4,
    "start_time": "2023-04-16T15:11:01.238Z"
   },
   {
    "duration": 5,
    "start_time": "2023-04-16T15:11:12.916Z"
   },
   {
    "duration": 614006,
    "start_time": "2023-04-16T15:12:53.011Z"
   },
   {
    "duration": 3,
    "start_time": "2023-04-16T15:27:47.102Z"
   },
   {
    "duration": 4,
    "start_time": "2023-04-16T15:28:44.428Z"
   },
   {
    "duration": 1898629,
    "start_time": "2023-04-16T15:28:59.534Z"
   },
   {
    "duration": 4,
    "start_time": "2023-04-16T16:07:08.436Z"
   },
   {
    "duration": 4,
    "start_time": "2023-04-16T16:08:39.805Z"
   },
   {
    "duration": 926042,
    "start_time": "2023-04-16T16:12:05.566Z"
   },
   {
    "duration": 3,
    "start_time": "2023-04-16T16:35:45.130Z"
   },
   {
    "duration": 827146,
    "start_time": "2023-04-16T16:35:53.448Z"
   },
   {
    "duration": 191390,
    "start_time": "2023-04-16T16:49:51.191Z"
   },
   {
    "duration": 1516949,
    "start_time": "2023-04-16T16:53:17.939Z"
   },
   {
    "duration": 3,
    "start_time": "2023-04-16T17:18:42.818Z"
   },
   {
    "duration": 7338634,
    "start_time": "2023-04-16T17:18:50.036Z"
   },
   {
    "duration": 4,
    "start_time": "2023-04-16T19:49:31.938Z"
   },
   {
    "duration": 1785387,
    "start_time": "2023-04-16T19:50:01.629Z"
   },
   {
    "duration": 5,
    "start_time": "2023-04-16T20:19:58.548Z"
   },
   {
    "duration": 1334,
    "start_time": "2023-04-17T06:30:01.434Z"
   },
   {
    "duration": 433,
    "start_time": "2023-04-17T06:30:02.770Z"
   },
   {
    "duration": 3,
    "start_time": "2023-04-17T06:30:03.205Z"
   },
   {
    "duration": 105,
    "start_time": "2023-04-17T06:30:03.210Z"
   },
   {
    "duration": 46,
    "start_time": "2023-04-17T06:30:03.316Z"
   },
   {
    "duration": 2910,
    "start_time": "2023-04-17T06:30:03.363Z"
   },
   {
    "duration": 127,
    "start_time": "2023-04-17T06:30:06.275Z"
   },
   {
    "duration": 5,
    "start_time": "2023-04-17T06:30:06.403Z"
   },
   {
    "duration": 284,
    "start_time": "2023-04-17T06:30:06.409Z"
   },
   {
    "duration": 280,
    "start_time": "2023-04-17T06:30:06.695Z"
   },
   {
    "duration": 19,
    "start_time": "2023-04-17T06:30:06.977Z"
   },
   {
    "duration": 26,
    "start_time": "2023-04-17T06:30:06.997Z"
   },
   {
    "duration": 95,
    "start_time": "2023-04-17T06:30:07.025Z"
   },
   {
    "duration": 9,
    "start_time": "2023-04-17T06:30:07.122Z"
   },
   {
    "duration": 35,
    "start_time": "2023-04-17T06:30:07.133Z"
   },
   {
    "duration": 29,
    "start_time": "2023-04-17T06:30:07.170Z"
   },
   {
    "duration": 48,
    "start_time": "2023-04-17T06:30:07.200Z"
   },
   {
    "duration": 19,
    "start_time": "2023-04-17T06:30:07.250Z"
   },
   {
    "duration": 21,
    "start_time": "2023-04-17T06:30:07.271Z"
   },
   {
    "duration": 295,
    "start_time": "2023-04-17T06:30:07.294Z"
   },
   {
    "duration": 5,
    "start_time": "2023-04-17T06:30:07.591Z"
   },
   {
    "duration": 34,
    "start_time": "2023-04-17T06:30:07.598Z"
   },
   {
    "duration": 39,
    "start_time": "2023-04-17T06:30:07.633Z"
   },
   {
    "duration": 67,
    "start_time": "2023-04-17T06:30:07.673Z"
   },
   {
    "duration": 44,
    "start_time": "2023-04-17T06:30:07.743Z"
   },
   {
    "duration": 38,
    "start_time": "2023-04-17T06:30:07.789Z"
   },
   {
    "duration": 18,
    "start_time": "2023-04-17T06:30:07.829Z"
   },
   {
    "duration": 399,
    "start_time": "2023-04-17T06:30:07.851Z"
   },
   {
    "duration": 383,
    "start_time": "2023-04-17T06:30:08.252Z"
   },
   {
    "duration": 9,
    "start_time": "2023-04-17T06:30:08.637Z"
   },
   {
    "duration": 27,
    "start_time": "2023-04-17T06:30:08.647Z"
   },
   {
    "duration": 43,
    "start_time": "2023-04-17T06:30:08.676Z"
   },
   {
    "duration": 66,
    "start_time": "2023-04-17T06:30:08.720Z"
   },
   {
    "duration": 35,
    "start_time": "2023-04-17T06:30:08.788Z"
   },
   {
    "duration": 47,
    "start_time": "2023-04-17T06:30:08.825Z"
   },
   {
    "duration": 62,
    "start_time": "2023-04-17T06:30:08.873Z"
   },
   {
    "duration": 12,
    "start_time": "2023-04-17T06:30:08.937Z"
   },
   {
    "duration": 12,
    "start_time": "2023-04-17T06:30:08.950Z"
   },
   {
    "duration": 6,
    "start_time": "2023-04-17T06:30:08.972Z"
   },
   {
    "duration": 6,
    "start_time": "2023-04-17T06:30:08.980Z"
   },
   {
    "duration": 17,
    "start_time": "2023-04-17T06:30:08.988Z"
   },
   {
    "duration": 15,
    "start_time": "2023-04-17T06:30:09.007Z"
   },
   {
    "duration": 26,
    "start_time": "2023-04-17T06:30:09.024Z"
   },
   {
    "duration": 21,
    "start_time": "2023-04-17T06:30:09.051Z"
   },
   {
    "duration": 30,
    "start_time": "2023-04-17T06:30:09.073Z"
   },
   {
    "duration": 23,
    "start_time": "2023-04-17T06:30:09.105Z"
   },
   {
    "duration": 44,
    "start_time": "2023-04-17T06:30:09.130Z"
   },
   {
    "duration": 30,
    "start_time": "2023-04-17T06:30:09.176Z"
   },
   {
    "duration": 18,
    "start_time": "2023-04-17T06:30:09.208Z"
   },
   {
    "duration": 22,
    "start_time": "2023-04-17T06:30:09.227Z"
   },
   {
    "duration": 11,
    "start_time": "2023-04-17T06:30:09.251Z"
   },
   {
    "duration": 29,
    "start_time": "2023-04-17T06:30:09.264Z"
   },
   {
    "duration": 4,
    "start_time": "2023-04-17T06:30:09.294Z"
   },
   {
    "duration": 20,
    "start_time": "2023-04-17T06:30:09.299Z"
   },
   {
    "duration": 63,
    "start_time": "2023-04-17T06:30:09.320Z"
   },
   {
    "duration": 14,
    "start_time": "2023-04-17T06:30:09.384Z"
   },
   {
    "duration": 32,
    "start_time": "2023-04-17T06:30:09.400Z"
   },
   {
    "duration": 17,
    "start_time": "2023-04-17T06:30:09.434Z"
   },
   {
    "duration": 22,
    "start_time": "2023-04-17T06:30:09.453Z"
   },
   {
    "duration": 68,
    "start_time": "2023-04-17T06:30:09.477Z"
   },
   {
    "duration": 68,
    "start_time": "2023-04-17T06:30:09.547Z"
   },
   {
    "duration": 16,
    "start_time": "2023-04-17T06:30:09.617Z"
   },
   {
    "duration": 19,
    "start_time": "2023-04-17T06:30:09.635Z"
   },
   {
    "duration": 19,
    "start_time": "2023-04-17T06:30:09.655Z"
   },
   {
    "duration": 15,
    "start_time": "2023-04-17T06:30:09.675Z"
   },
   {
    "duration": 7,
    "start_time": "2023-04-17T06:30:09.691Z"
   },
   {
    "duration": 90,
    "start_time": "2023-04-17T06:30:09.699Z"
   },
   {
    "duration": 655,
    "start_time": "2023-04-17T06:30:09.790Z"
   },
   {
    "duration": 51,
    "start_time": "2023-04-17T06:30:10.446Z"
   },
   {
    "duration": 26,
    "start_time": "2023-04-17T06:30:10.499Z"
   },
   {
    "duration": 25,
    "start_time": "2023-04-17T06:30:10.526Z"
   },
   {
    "duration": 19,
    "start_time": "2023-04-17T06:30:10.553Z"
   },
   {
    "duration": 3,
    "start_time": "2023-04-17T06:30:10.573Z"
   },
   {
    "duration": 6,
    "start_time": "2023-04-17T06:30:10.577Z"
   },
   {
    "duration": 44,
    "start_time": "2023-04-17T06:30:10.585Z"
   },
   {
    "duration": 143,
    "start_time": "2023-04-17T06:30:10.630Z"
   },
   {
    "duration": 4,
    "start_time": "2023-04-17T06:30:10.775Z"
   },
   {
    "duration": 1208,
    "start_time": "2023-04-17T06:42:05.850Z"
   },
   {
    "duration": 249,
    "start_time": "2023-04-17T06:42:07.060Z"
   },
   {
    "duration": 3,
    "start_time": "2023-04-17T06:42:07.310Z"
   },
   {
    "duration": 115,
    "start_time": "2023-04-17T06:42:07.314Z"
   },
   {
    "duration": 3,
    "start_time": "2023-04-17T06:42:07.431Z"
   },
   {
    "duration": 818,
    "start_time": "2023-04-17T06:42:07.436Z"
   },
   {
    "duration": 127,
    "start_time": "2023-04-17T06:42:08.255Z"
   },
   {
    "duration": 4,
    "start_time": "2023-04-17T06:42:08.384Z"
   },
   {
    "duration": 290,
    "start_time": "2023-04-17T06:42:08.390Z"
   },
   {
    "duration": 277,
    "start_time": "2023-04-17T06:42:08.681Z"
   },
   {
    "duration": 25,
    "start_time": "2023-04-17T06:42:08.960Z"
   },
   {
    "duration": 19,
    "start_time": "2023-04-17T06:42:08.987Z"
   },
   {
    "duration": 37,
    "start_time": "2023-04-17T06:42:09.007Z"
   },
   {
    "duration": 26,
    "start_time": "2023-04-17T06:42:09.047Z"
   },
   {
    "duration": 23,
    "start_time": "2023-04-17T06:42:09.075Z"
   },
   {
    "duration": 32,
    "start_time": "2023-04-17T06:42:09.100Z"
   },
   {
    "duration": 26,
    "start_time": "2023-04-17T06:42:09.134Z"
   },
   {
    "duration": 31,
    "start_time": "2023-04-17T06:42:09.161Z"
   },
   {
    "duration": 9,
    "start_time": "2023-04-17T06:42:09.193Z"
   },
   {
    "duration": 317,
    "start_time": "2023-04-17T06:42:09.204Z"
   },
   {
    "duration": 5,
    "start_time": "2023-04-17T06:42:09.523Z"
   },
   {
    "duration": 46,
    "start_time": "2023-04-17T06:42:09.530Z"
   },
   {
    "duration": 27,
    "start_time": "2023-04-17T06:42:09.578Z"
   },
   {
    "duration": 86,
    "start_time": "2023-04-17T06:42:09.606Z"
   },
   {
    "duration": 37,
    "start_time": "2023-04-17T06:42:09.694Z"
   },
   {
    "duration": 71,
    "start_time": "2023-04-17T06:42:09.733Z"
   },
   {
    "duration": 19,
    "start_time": "2023-04-17T06:42:09.806Z"
   },
   {
    "duration": 411,
    "start_time": "2023-04-17T06:42:09.827Z"
   },
   {
    "duration": 387,
    "start_time": "2023-04-17T06:42:10.240Z"
   },
   {
    "duration": 8,
    "start_time": "2023-04-17T06:42:10.628Z"
   },
   {
    "duration": 16,
    "start_time": "2023-04-17T06:42:10.638Z"
   },
   {
    "duration": 39,
    "start_time": "2023-04-17T06:42:10.656Z"
   },
   {
    "duration": 66,
    "start_time": "2023-04-17T06:42:10.697Z"
   },
   {
    "duration": 35,
    "start_time": "2023-04-17T06:42:10.773Z"
   },
   {
    "duration": 35,
    "start_time": "2023-04-17T06:42:10.810Z"
   },
   {
    "duration": 82,
    "start_time": "2023-04-17T06:42:10.847Z"
   },
   {
    "duration": 12,
    "start_time": "2023-04-17T06:42:10.931Z"
   },
   {
    "duration": 29,
    "start_time": "2023-04-17T06:42:10.945Z"
   },
   {
    "duration": 7,
    "start_time": "2023-04-17T06:42:10.976Z"
   },
   {
    "duration": 16,
    "start_time": "2023-04-17T06:42:10.985Z"
   },
   {
    "duration": 5,
    "start_time": "2023-04-17T06:42:11.007Z"
   },
   {
    "duration": 20,
    "start_time": "2023-04-17T06:42:11.013Z"
   },
   {
    "duration": 18,
    "start_time": "2023-04-17T06:42:11.035Z"
   },
   {
    "duration": 47,
    "start_time": "2023-04-17T06:42:11.072Z"
   },
   {
    "duration": 30,
    "start_time": "2023-04-17T06:42:11.121Z"
   },
   {
    "duration": 21,
    "start_time": "2023-04-17T06:42:11.152Z"
   },
   {
    "duration": 26,
    "start_time": "2023-04-17T06:42:11.175Z"
   },
   {
    "duration": 22,
    "start_time": "2023-04-17T06:42:11.203Z"
   },
   {
    "duration": 14,
    "start_time": "2023-04-17T06:42:11.226Z"
   },
   {
    "duration": 28,
    "start_time": "2023-04-17T06:42:11.242Z"
   },
   {
    "duration": 15,
    "start_time": "2023-04-17T06:42:11.271Z"
   },
   {
    "duration": 18,
    "start_time": "2023-04-17T06:42:11.288Z"
   },
   {
    "duration": 4,
    "start_time": "2023-04-17T06:42:11.307Z"
   },
   {
    "duration": 17,
    "start_time": "2023-04-17T06:42:11.312Z"
   },
   {
    "duration": 76,
    "start_time": "2023-04-17T06:42:11.330Z"
   },
   {
    "duration": 12,
    "start_time": "2023-04-17T06:42:11.408Z"
   },
   {
    "duration": 7,
    "start_time": "2023-04-17T06:42:11.422Z"
   },
   {
    "duration": 5,
    "start_time": "2023-04-17T06:42:11.430Z"
   },
   {
    "duration": 42,
    "start_time": "2023-04-17T06:42:11.436Z"
   },
   {
    "duration": 59,
    "start_time": "2023-04-17T06:42:11.480Z"
   },
   {
    "duration": 88,
    "start_time": "2023-04-17T06:42:11.541Z"
   },
   {
    "duration": 17,
    "start_time": "2023-04-17T06:42:11.631Z"
   },
   {
    "duration": 13,
    "start_time": "2023-04-17T06:42:11.650Z"
   },
   {
    "duration": 12,
    "start_time": "2023-04-17T06:42:11.671Z"
   },
   {
    "duration": 5,
    "start_time": "2023-04-17T06:42:11.685Z"
   },
   {
    "duration": 4,
    "start_time": "2023-04-17T06:42:11.691Z"
   },
   {
    "duration": 133,
    "start_time": "2023-04-17T06:42:11.697Z"
   },
   {
    "duration": 664,
    "start_time": "2023-04-17T06:42:11.832Z"
   },
   {
    "duration": 45,
    "start_time": "2023-04-17T06:42:12.498Z"
   },
   {
    "duration": 37,
    "start_time": "2023-04-17T06:42:12.545Z"
   },
   {
    "duration": 27,
    "start_time": "2023-04-17T06:42:12.583Z"
   },
   {
    "duration": 4,
    "start_time": "2023-04-17T06:42:12.612Z"
   },
   {
    "duration": 5,
    "start_time": "2023-04-17T06:42:12.618Z"
   },
   {
    "duration": 5,
    "start_time": "2023-04-17T06:42:12.624Z"
   },
   {
    "duration": 68,
    "start_time": "2023-04-17T06:42:12.631Z"
   },
   {
    "duration": 78,
    "start_time": "2023-04-17T06:42:12.701Z"
   },
   {
    "duration": 92,
    "start_time": "2023-04-17T06:42:12.781Z"
   },
   {
    "duration": 1117683,
    "start_time": "2023-04-17T06:42:12.875Z"
   },
   {
    "duration": 4,
    "start_time": "2023-04-17T07:00:50.559Z"
   },
   {
    "duration": 9,
    "start_time": "2023-04-17T07:00:50.565Z"
   },
   {
    "duration": 1850737,
    "start_time": "2023-04-17T07:00:50.575Z"
   },
   {
    "duration": 4,
    "start_time": "2023-04-17T07:31:41.313Z"
   },
   {
    "duration": 2373071,
    "start_time": "2023-04-17T07:31:41.319Z"
   },
   {
    "duration": 4,
    "start_time": "2023-04-17T08:11:14.472Z"
   },
   {
    "duration": 131,
    "start_time": "2023-04-17T08:11:14.477Z"
   },
   {
    "duration": 0,
    "start_time": "2023-04-17T08:11:14.609Z"
   },
   {
    "duration": 0,
    "start_time": "2023-04-17T08:11:14.610Z"
   },
   {
    "duration": 0,
    "start_time": "2023-04-17T08:11:14.611Z"
   },
   {
    "duration": 0,
    "start_time": "2023-04-17T08:11:14.612Z"
   },
   {
    "duration": 0,
    "start_time": "2023-04-17T08:11:14.613Z"
   },
   {
    "duration": 0,
    "start_time": "2023-04-17T08:11:14.614Z"
   },
   {
    "duration": 0,
    "start_time": "2023-04-17T08:11:14.615Z"
   },
   {
    "duration": 0,
    "start_time": "2023-04-17T08:11:14.616Z"
   },
   {
    "duration": 0,
    "start_time": "2023-04-17T08:11:14.617Z"
   },
   {
    "duration": 0,
    "start_time": "2023-04-17T08:11:14.618Z"
   },
   {
    "duration": 2,
    "start_time": "2023-04-17T08:22:08.952Z"
   },
   {
    "duration": 38805,
    "start_time": "2023-04-17T08:22:11.561Z"
   },
   {
    "duration": 1744,
    "start_time": "2023-04-17T08:22:52.128Z"
   },
   {
    "duration": 4,
    "start_time": "2023-04-17T08:22:55.581Z"
   },
   {
    "duration": 19498,
    "start_time": "2023-04-17T08:23:00.082Z"
   },
   {
    "duration": 100,
    "start_time": "2023-04-17T08:23:21.839Z"
   },
   {
    "duration": 5,
    "start_time": "2023-04-17T08:23:23.166Z"
   },
   {
    "duration": 13525,
    "start_time": "2023-04-17T08:23:29.752Z"
   },
   {
    "duration": 1733,
    "start_time": "2023-04-17T08:23:47.064Z"
   },
   {
    "duration": 5,
    "start_time": "2023-04-17T08:23:50.144Z"
   },
   {
    "duration": 7,
    "start_time": "2023-04-17T08:24:56.835Z"
   },
   {
    "duration": 1131,
    "start_time": "2023-04-17T12:36:07.220Z"
   },
   {
    "duration": 271,
    "start_time": "2023-04-17T12:36:08.353Z"
   },
   {
    "duration": 3,
    "start_time": "2023-04-17T12:36:08.626Z"
   },
   {
    "duration": 100,
    "start_time": "2023-04-17T12:36:08.631Z"
   },
   {
    "duration": 3,
    "start_time": "2023-04-17T12:36:08.734Z"
   },
   {
    "duration": 816,
    "start_time": "2023-04-17T12:36:08.738Z"
   },
   {
    "duration": 127,
    "start_time": "2023-04-17T12:36:09.556Z"
   },
   {
    "duration": 5,
    "start_time": "2023-04-17T12:36:09.685Z"
   },
   {
    "duration": 297,
    "start_time": "2023-04-17T12:36:09.692Z"
   },
   {
    "duration": 272,
    "start_time": "2023-04-17T12:36:09.991Z"
   },
   {
    "duration": 27,
    "start_time": "2023-04-17T12:36:10.264Z"
   },
   {
    "duration": 21,
    "start_time": "2023-04-17T12:36:10.293Z"
   },
   {
    "duration": 57,
    "start_time": "2023-04-17T12:36:10.315Z"
   },
   {
    "duration": 8,
    "start_time": "2023-04-17T12:36:10.375Z"
   },
   {
    "duration": 19,
    "start_time": "2023-04-17T12:36:10.385Z"
   },
   {
    "duration": 24,
    "start_time": "2023-04-17T12:36:10.405Z"
   },
   {
    "duration": 19,
    "start_time": "2023-04-17T12:36:10.431Z"
   },
   {
    "duration": 31,
    "start_time": "2023-04-17T12:36:10.452Z"
   },
   {
    "duration": 11,
    "start_time": "2023-04-17T12:36:10.484Z"
   },
   {
    "duration": 327,
    "start_time": "2023-04-17T12:36:10.496Z"
   },
   {
    "duration": 5,
    "start_time": "2023-04-17T12:36:10.825Z"
   },
   {
    "duration": 48,
    "start_time": "2023-04-17T12:36:10.831Z"
   },
   {
    "duration": 29,
    "start_time": "2023-04-17T12:36:10.880Z"
   },
   {
    "duration": 86,
    "start_time": "2023-04-17T12:36:10.910Z"
   },
   {
    "duration": 37,
    "start_time": "2023-04-17T12:36:10.998Z"
   },
   {
    "duration": 59,
    "start_time": "2023-04-17T12:36:11.036Z"
   },
   {
    "duration": 19,
    "start_time": "2023-04-17T12:36:11.097Z"
   },
   {
    "duration": 398,
    "start_time": "2023-04-17T12:36:11.117Z"
   },
   {
    "duration": 377,
    "start_time": "2023-04-17T12:36:11.517Z"
   },
   {
    "duration": 8,
    "start_time": "2023-04-17T12:36:11.895Z"
   },
   {
    "duration": 12,
    "start_time": "2023-04-17T12:36:11.904Z"
   },
   {
    "duration": 55,
    "start_time": "2023-04-17T12:36:11.917Z"
   },
   {
    "duration": 122,
    "start_time": "2023-04-17T12:36:11.974Z"
   },
   {
    "duration": 35,
    "start_time": "2023-04-17T12:36:12.097Z"
   },
   {
    "duration": 35,
    "start_time": "2023-04-17T12:36:12.172Z"
   },
   {
    "duration": 66,
    "start_time": "2023-04-17T12:36:12.208Z"
   },
   {
    "duration": 12,
    "start_time": "2023-04-17T12:36:12.275Z"
   },
   {
    "duration": 4,
    "start_time": "2023-04-17T12:36:12.289Z"
   },
   {
    "duration": 7,
    "start_time": "2023-04-17T12:36:12.295Z"
   },
   {
    "duration": 5,
    "start_time": "2023-04-17T12:36:12.303Z"
   },
   {
    "duration": 5,
    "start_time": "2023-04-17T12:36:12.312Z"
   },
   {
    "duration": 18,
    "start_time": "2023-04-17T12:36:12.319Z"
   },
   {
    "duration": 25,
    "start_time": "2023-04-17T12:36:12.338Z"
   },
   {
    "duration": 17,
    "start_time": "2023-04-17T12:36:12.364Z"
   },
   {
    "duration": 25,
    "start_time": "2023-04-17T12:36:12.383Z"
   },
   {
    "duration": 19,
    "start_time": "2023-04-17T12:36:12.409Z"
   },
   {
    "duration": 16,
    "start_time": "2023-04-17T12:36:12.430Z"
   },
   {
    "duration": 25,
    "start_time": "2023-04-17T12:36:12.448Z"
   },
   {
    "duration": 15,
    "start_time": "2023-04-17T12:36:12.474Z"
   },
   {
    "duration": 31,
    "start_time": "2023-04-17T12:36:12.491Z"
   },
   {
    "duration": 12,
    "start_time": "2023-04-17T12:36:12.523Z"
   },
   {
    "duration": 17,
    "start_time": "2023-04-17T12:36:12.537Z"
   },
   {
    "duration": 3,
    "start_time": "2023-04-17T12:36:12.556Z"
   },
   {
    "duration": 18,
    "start_time": "2023-04-17T12:36:12.561Z"
   },
   {
    "duration": 50,
    "start_time": "2023-04-17T12:36:12.580Z"
   },
   {
    "duration": 12,
    "start_time": "2023-04-17T12:36:12.631Z"
   },
   {
    "duration": 5,
    "start_time": "2023-04-17T12:36:12.645Z"
   },
   {
    "duration": 9,
    "start_time": "2023-04-17T12:36:12.652Z"
   },
   {
    "duration": 22,
    "start_time": "2023-04-17T12:36:12.662Z"
   },
   {
    "duration": 59,
    "start_time": "2023-04-17T12:36:12.686Z"
   },
   {
    "duration": 73,
    "start_time": "2023-04-17T12:36:12.747Z"
   },
   {
    "duration": 16,
    "start_time": "2023-04-17T12:36:12.822Z"
   },
   {
    "duration": 12,
    "start_time": "2023-04-17T12:36:12.840Z"
   },
   {
    "duration": 12,
    "start_time": "2023-04-17T12:36:12.854Z"
   },
   {
    "duration": 12,
    "start_time": "2023-04-17T12:36:12.867Z"
   },
   {
    "duration": 5,
    "start_time": "2023-04-17T12:36:12.880Z"
   },
   {
    "duration": 96,
    "start_time": "2023-04-17T12:36:12.886Z"
   },
   {
    "duration": 902,
    "start_time": "2023-04-17T12:36:12.983Z"
   },
   {
    "duration": 45,
    "start_time": "2023-04-17T12:36:13.886Z"
   },
   {
    "duration": 23,
    "start_time": "2023-04-17T12:36:13.932Z"
   },
   {
    "duration": 25,
    "start_time": "2023-04-17T12:36:13.971Z"
   },
   {
    "duration": 4,
    "start_time": "2023-04-17T12:36:13.998Z"
   },
   {
    "duration": 4,
    "start_time": "2023-04-17T12:36:14.004Z"
   },
   {
    "duration": 4,
    "start_time": "2023-04-17T12:36:14.009Z"
   },
   {
    "duration": 8,
    "start_time": "2023-04-17T12:36:14.015Z"
   },
   {
    "duration": 1107310,
    "start_time": "2023-04-17T12:36:14.024Z"
   },
   {
    "duration": 3,
    "start_time": "2023-04-17T12:54:41.336Z"
   },
   {
    "duration": 5,
    "start_time": "2023-04-17T12:54:41.340Z"
   },
   {
    "duration": 1823523,
    "start_time": "2023-04-17T12:54:41.347Z"
   },
   {
    "duration": 3,
    "start_time": "2023-04-17T13:25:04.872Z"
   },
   {
    "duration": 111668,
    "start_time": "2023-04-17T13:25:04.877Z"
   },
   {
    "duration": 3,
    "start_time": "2023-04-17T13:26:56.547Z"
   },
   {
    "duration": 6,
    "start_time": "2023-04-17T13:26:56.551Z"
   },
   {
    "duration": 1159,
    "start_time": "2023-04-17T13:27:15.149Z"
   },
   {
    "duration": 210,
    "start_time": "2023-04-17T13:27:16.310Z"
   },
   {
    "duration": 3,
    "start_time": "2023-04-17T13:27:16.521Z"
   },
   {
    "duration": 88,
    "start_time": "2023-04-17T13:27:16.526Z"
   },
   {
    "duration": 2,
    "start_time": "2023-04-17T13:27:16.616Z"
   },
   {
    "duration": 756,
    "start_time": "2023-04-17T13:27:16.620Z"
   },
   {
    "duration": 121,
    "start_time": "2023-04-17T13:27:17.378Z"
   },
   {
    "duration": 4,
    "start_time": "2023-04-17T13:27:17.501Z"
   },
   {
    "duration": 272,
    "start_time": "2023-04-17T13:27:17.506Z"
   },
   {
    "duration": 253,
    "start_time": "2023-04-17T13:27:17.781Z"
   },
   {
    "duration": 19,
    "start_time": "2023-04-17T13:27:18.036Z"
   },
   {
    "duration": 32,
    "start_time": "2023-04-17T13:27:18.057Z"
   },
   {
    "duration": 36,
    "start_time": "2023-04-17T13:27:18.091Z"
   },
   {
    "duration": 7,
    "start_time": "2023-04-17T13:27:18.128Z"
   },
   {
    "duration": 36,
    "start_time": "2023-04-17T13:27:18.137Z"
   },
   {
    "duration": 21,
    "start_time": "2023-04-17T13:27:18.175Z"
   },
   {
    "duration": 20,
    "start_time": "2023-04-17T13:27:18.197Z"
   },
   {
    "duration": 20,
    "start_time": "2023-04-17T13:27:18.219Z"
   },
   {
    "duration": 13,
    "start_time": "2023-04-17T13:27:18.240Z"
   },
   {
    "duration": 293,
    "start_time": "2023-04-17T13:27:18.254Z"
   },
   {
    "duration": 6,
    "start_time": "2023-04-17T13:27:18.548Z"
   },
   {
    "duration": 44,
    "start_time": "2023-04-17T13:27:18.555Z"
   },
   {
    "duration": 63,
    "start_time": "2023-04-17T13:27:18.600Z"
   },
   {
    "duration": 84,
    "start_time": "2023-04-17T13:27:18.664Z"
   },
   {
    "duration": 35,
    "start_time": "2023-04-17T13:27:18.749Z"
   },
   {
    "duration": 40,
    "start_time": "2023-04-17T13:27:18.785Z"
   },
   {
    "duration": 18,
    "start_time": "2023-04-17T13:27:18.826Z"
   },
   {
    "duration": 388,
    "start_time": "2023-04-17T13:27:18.847Z"
   },
   {
    "duration": 374,
    "start_time": "2023-04-17T13:27:19.237Z"
   },
   {
    "duration": 8,
    "start_time": "2023-04-17T13:27:19.613Z"
   },
   {
    "duration": 11,
    "start_time": "2023-04-17T13:27:19.622Z"
   },
   {
    "duration": 39,
    "start_time": "2023-04-17T13:27:19.635Z"
   },
   {
    "duration": 61,
    "start_time": "2023-04-17T13:27:19.675Z"
   },
   {
    "duration": 46,
    "start_time": "2023-04-17T13:27:19.738Z"
   },
   {
    "duration": 31,
    "start_time": "2023-04-17T13:27:19.786Z"
   },
   {
    "duration": 70,
    "start_time": "2023-04-17T13:27:19.819Z"
   },
   {
    "duration": 12,
    "start_time": "2023-04-17T13:27:19.891Z"
   },
   {
    "duration": 11,
    "start_time": "2023-04-17T13:27:19.904Z"
   },
   {
    "duration": 19,
    "start_time": "2023-04-17T13:27:19.917Z"
   },
   {
    "duration": 8,
    "start_time": "2023-04-17T13:27:19.938Z"
   },
   {
    "duration": 6,
    "start_time": "2023-04-17T13:27:19.947Z"
   },
   {
    "duration": 24,
    "start_time": "2023-04-17T13:27:19.955Z"
   },
   {
    "duration": 22,
    "start_time": "2023-04-17T13:27:19.980Z"
   },
   {
    "duration": 16,
    "start_time": "2023-04-17T13:27:20.003Z"
   },
   {
    "duration": 23,
    "start_time": "2023-04-17T13:27:20.021Z"
   },
   {
    "duration": 17,
    "start_time": "2023-04-17T13:27:20.046Z"
   },
   {
    "duration": 20,
    "start_time": "2023-04-17T13:27:20.064Z"
   },
   {
    "duration": 24,
    "start_time": "2023-04-17T13:27:20.086Z"
   },
   {
    "duration": 13,
    "start_time": "2023-04-17T13:27:20.111Z"
   },
   {
    "duration": 17,
    "start_time": "2023-04-17T13:27:20.126Z"
   },
   {
    "duration": 10,
    "start_time": "2023-04-17T13:27:20.145Z"
   },
   {
    "duration": 17,
    "start_time": "2023-04-17T13:27:20.172Z"
   },
   {
    "duration": 23,
    "start_time": "2023-04-17T13:27:20.191Z"
   },
   {
    "duration": 24,
    "start_time": "2023-04-17T13:27:20.215Z"
   },
   {
    "duration": 44,
    "start_time": "2023-04-17T13:27:20.240Z"
   },
   {
    "duration": 13,
    "start_time": "2023-04-17T13:27:20.286Z"
   },
   {
    "duration": 23,
    "start_time": "2023-04-17T13:27:20.301Z"
   },
   {
    "duration": 5,
    "start_time": "2023-04-17T13:27:20.326Z"
   },
   {
    "duration": 35,
    "start_time": "2023-04-17T13:27:20.332Z"
   },
   {
    "duration": 57,
    "start_time": "2023-04-17T13:27:20.368Z"
   },
   {
    "duration": 80,
    "start_time": "2023-04-17T13:27:20.428Z"
   },
   {
    "duration": 17,
    "start_time": "2023-04-17T13:27:20.510Z"
   },
   {
    "duration": 34,
    "start_time": "2023-04-17T13:27:20.529Z"
   },
   {
    "duration": 37,
    "start_time": "2023-04-17T13:27:20.565Z"
   },
   {
    "duration": 12,
    "start_time": "2023-04-17T13:27:20.604Z"
   },
   {
    "duration": 10,
    "start_time": "2023-04-17T13:27:20.618Z"
   },
   {
    "duration": 96,
    "start_time": "2023-04-17T13:27:20.630Z"
   },
   {
    "duration": 633,
    "start_time": "2023-04-17T13:27:20.727Z"
   },
   {
    "duration": 48,
    "start_time": "2023-04-17T13:27:21.361Z"
   },
   {
    "duration": 24,
    "start_time": "2023-04-17T13:27:21.411Z"
   },
   {
    "duration": 46,
    "start_time": "2023-04-17T13:27:21.436Z"
   },
   {
    "duration": 12,
    "start_time": "2023-04-17T13:27:21.484Z"
   },
   {
    "duration": 18,
    "start_time": "2023-04-17T13:27:21.498Z"
   },
   {
    "duration": 19,
    "start_time": "2023-04-17T13:27:21.518Z"
   },
   {
    "duration": 20,
    "start_time": "2023-04-17T13:27:21.539Z"
   },
   {
    "duration": 1129578,
    "start_time": "2023-04-17T13:27:21.561Z"
   },
   {
    "duration": 3,
    "start_time": "2023-04-17T13:46:11.141Z"
   },
   {
    "duration": 5,
    "start_time": "2023-04-17T13:46:11.146Z"
   },
   {
    "duration": 1752326,
    "start_time": "2023-04-17T13:46:11.153Z"
   },
   {
    "duration": 4,
    "start_time": "2023-04-17T14:15:23.480Z"
   },
   {
    "duration": 2617095,
    "start_time": "2023-04-17T14:15:23.485Z"
   },
   {
    "duration": 4,
    "start_time": "2023-04-17T14:59:00.585Z"
   },
   {
    "duration": 48,
    "start_time": "2023-04-17T14:59:00.591Z"
   },
   {
    "duration": 39834,
    "start_time": "2023-04-17T14:59:00.641Z"
   },
   {
    "duration": 1781,
    "start_time": "2023-04-17T14:59:40.477Z"
   },
   {
    "duration": 5,
    "start_time": "2023-04-17T14:59:42.259Z"
   },
   {
    "duration": 18574,
    "start_time": "2023-04-17T14:59:42.265Z"
   },
   {
    "duration": 123,
    "start_time": "2023-04-17T15:00:00.841Z"
   },
   {
    "duration": 4,
    "start_time": "2023-04-17T15:00:00.965Z"
   },
   {
    "duration": 13700,
    "start_time": "2023-04-17T15:00:00.972Z"
   },
   {
    "duration": 1822,
    "start_time": "2023-04-17T15:00:14.674Z"
   },
   {
    "duration": 76,
    "start_time": "2023-04-17T15:00:16.498Z"
   },
   {
    "duration": 37,
    "start_time": "2023-04-17T15:00:16.576Z"
   },
   {
    "duration": 1235,
    "start_time": "2023-04-23T06:50:59.436Z"
   },
   {
    "duration": 226,
    "start_time": "2023-04-23T06:51:00.674Z"
   },
   {
    "duration": 3,
    "start_time": "2023-04-23T06:51:00.901Z"
   },
   {
    "duration": 95,
    "start_time": "2023-04-23T06:51:00.905Z"
   },
   {
    "duration": 2,
    "start_time": "2023-04-23T06:51:01.003Z"
   },
   {
    "duration": 2700,
    "start_time": "2023-04-23T06:51:01.006Z"
   },
   {
    "duration": 110,
    "start_time": "2023-04-23T06:51:03.707Z"
   },
   {
    "duration": 4,
    "start_time": "2023-04-23T06:51:03.819Z"
   },
   {
    "duration": 345,
    "start_time": "2023-04-23T06:51:03.824Z"
   },
   {
    "duration": 315,
    "start_time": "2023-04-23T06:51:04.171Z"
   },
   {
    "duration": 20,
    "start_time": "2023-04-23T06:51:04.493Z"
   },
   {
    "duration": 24,
    "start_time": "2023-04-23T06:51:04.515Z"
   },
   {
    "duration": 53,
    "start_time": "2023-04-23T06:51:04.541Z"
   },
   {
    "duration": 7,
    "start_time": "2023-04-23T06:51:04.597Z"
   },
   {
    "duration": 21,
    "start_time": "2023-04-23T06:51:04.606Z"
   },
   {
    "duration": 24,
    "start_time": "2023-04-23T06:51:04.628Z"
   },
   {
    "duration": 15,
    "start_time": "2023-04-23T06:51:04.654Z"
   },
   {
    "duration": 13,
    "start_time": "2023-04-23T06:51:04.671Z"
   },
   {
    "duration": 7,
    "start_time": "2023-04-23T06:51:04.695Z"
   },
   {
    "duration": 333,
    "start_time": "2023-04-23T06:51:04.704Z"
   },
   {
    "duration": 5,
    "start_time": "2023-04-23T06:51:05.039Z"
   },
   {
    "duration": 38,
    "start_time": "2023-04-23T06:51:05.045Z"
   },
   {
    "duration": 26,
    "start_time": "2023-04-23T06:51:05.094Z"
   },
   {
    "duration": 75,
    "start_time": "2023-04-23T06:51:05.122Z"
   },
   {
    "duration": 36,
    "start_time": "2023-04-23T06:51:05.199Z"
   },
   {
    "duration": 34,
    "start_time": "2023-04-23T06:51:05.236Z"
   },
   {
    "duration": 37,
    "start_time": "2023-04-23T06:51:05.271Z"
   },
   {
    "duration": 392,
    "start_time": "2023-04-23T06:51:05.310Z"
   },
   {
    "duration": 370,
    "start_time": "2023-04-23T06:51:05.704Z"
   },
   {
    "duration": 18,
    "start_time": "2023-04-23T06:51:06.076Z"
   },
   {
    "duration": 14,
    "start_time": "2023-04-23T06:51:06.096Z"
   },
   {
    "duration": 32,
    "start_time": "2023-04-23T06:51:06.112Z"
   },
   {
    "duration": 61,
    "start_time": "2023-04-23T06:51:06.145Z"
   },
   {
    "duration": 35,
    "start_time": "2023-04-23T06:51:06.208Z"
   },
   {
    "duration": 49,
    "start_time": "2023-04-23T06:51:06.245Z"
   },
   {
    "duration": 56,
    "start_time": "2023-04-23T06:51:06.296Z"
   },
   {
    "duration": 11,
    "start_time": "2023-04-23T06:51:06.353Z"
   },
   {
    "duration": 5,
    "start_time": "2023-04-23T06:51:06.366Z"
   },
   {
    "duration": 26,
    "start_time": "2023-04-23T06:51:06.372Z"
   },
   {
    "duration": 6,
    "start_time": "2023-04-23T06:51:06.400Z"
   },
   {
    "duration": 5,
    "start_time": "2023-04-23T06:51:06.411Z"
   },
   {
    "duration": 15,
    "start_time": "2023-04-23T06:51:06.418Z"
   },
   {
    "duration": 17,
    "start_time": "2023-04-23T06:51:06.434Z"
   },
   {
    "duration": 43,
    "start_time": "2023-04-23T06:51:06.453Z"
   },
   {
    "duration": 16,
    "start_time": "2023-04-23T06:51:06.498Z"
   },
   {
    "duration": 20,
    "start_time": "2023-04-23T06:51:06.516Z"
   },
   {
    "duration": 16,
    "start_time": "2023-04-23T06:51:06.538Z"
   },
   {
    "duration": 12,
    "start_time": "2023-04-23T06:51:06.555Z"
   },
   {
    "duration": 11,
    "start_time": "2023-04-23T06:51:06.595Z"
   },
   {
    "duration": 19,
    "start_time": "2023-04-23T06:51:06.608Z"
   },
   {
    "duration": 10,
    "start_time": "2023-04-23T06:51:06.629Z"
   },
   {
    "duration": 15,
    "start_time": "2023-04-23T06:51:06.640Z"
   },
   {
    "duration": 3,
    "start_time": "2023-04-23T06:51:06.657Z"
   },
   {
    "duration": 38,
    "start_time": "2023-04-23T06:51:06.662Z"
   },
   {
    "duration": 42,
    "start_time": "2023-04-23T06:51:06.701Z"
   },
   {
    "duration": 16,
    "start_time": "2023-04-23T06:51:06.745Z"
   },
   {
    "duration": 6,
    "start_time": "2023-04-23T06:51:06.763Z"
   },
   {
    "duration": 3,
    "start_time": "2023-04-23T06:51:06.770Z"
   },
   {
    "duration": 19,
    "start_time": "2023-04-23T06:51:06.794Z"
   },
   {
    "duration": 51,
    "start_time": "2023-04-23T06:51:06.814Z"
   },
   {
    "duration": 77,
    "start_time": "2023-04-23T06:51:06.867Z"
   },
   {
    "duration": 15,
    "start_time": "2023-04-23T06:51:06.945Z"
   },
   {
    "duration": 4,
    "start_time": "2023-04-23T06:51:06.962Z"
   },
   {
    "duration": 66,
    "start_time": "2023-04-23T06:51:06.967Z"
   },
   {
    "duration": 3,
    "start_time": "2023-04-23T06:51:07.035Z"
   },
   {
    "duration": 13,
    "start_time": "2023-04-23T06:51:07.039Z"
   },
   {
    "duration": 5,
    "start_time": "2023-04-23T06:51:07.053Z"
   },
   {
    "duration": 9,
    "start_time": "2023-04-23T06:51:07.060Z"
   },
   {
    "duration": 92,
    "start_time": "2023-04-23T06:51:07.071Z"
   },
   {
    "duration": 660,
    "start_time": "2023-04-23T06:51:07.164Z"
   },
   {
    "duration": 40,
    "start_time": "2023-04-23T06:51:07.825Z"
   },
   {
    "duration": 44,
    "start_time": "2023-04-23T06:51:07.866Z"
   },
   {
    "duration": 2,
    "start_time": "2023-04-23T06:51:07.911Z"
   },
   {
    "duration": 5,
    "start_time": "2023-04-23T06:51:07.915Z"
   },
   {
    "duration": 7,
    "start_time": "2023-04-23T06:51:07.922Z"
   },
   {
    "duration": 8,
    "start_time": "2023-04-23T06:51:07.931Z"
   },
   {
    "duration": 9,
    "start_time": "2023-04-23T06:51:07.940Z"
   },
   {
    "duration": 99,
    "start_time": "2023-04-23T06:51:07.951Z"
   },
   {
    "duration": 0,
    "start_time": "2023-04-23T06:51:08.051Z"
   },
   {
    "duration": 0,
    "start_time": "2023-04-23T06:51:08.052Z"
   },
   {
    "duration": 0,
    "start_time": "2023-04-23T06:51:08.053Z"
   },
   {
    "duration": 0,
    "start_time": "2023-04-23T06:51:08.055Z"
   },
   {
    "duration": 0,
    "start_time": "2023-04-23T06:51:08.056Z"
   },
   {
    "duration": 0,
    "start_time": "2023-04-23T06:51:08.057Z"
   },
   {
    "duration": 0,
    "start_time": "2023-04-23T06:51:08.058Z"
   },
   {
    "duration": 0,
    "start_time": "2023-04-23T06:51:08.059Z"
   },
   {
    "duration": 0,
    "start_time": "2023-04-23T06:51:08.060Z"
   },
   {
    "duration": 0,
    "start_time": "2023-04-23T06:51:08.061Z"
   },
   {
    "duration": 0,
    "start_time": "2023-04-23T06:51:08.062Z"
   },
   {
    "duration": 0,
    "start_time": "2023-04-23T06:51:08.063Z"
   },
   {
    "duration": 0,
    "start_time": "2023-04-23T06:51:08.063Z"
   },
   {
    "duration": 0,
    "start_time": "2023-04-23T06:51:08.065Z"
   },
   {
    "duration": 0,
    "start_time": "2023-04-23T06:51:08.065Z"
   },
   {
    "duration": 0,
    "start_time": "2023-04-23T06:51:08.066Z"
   },
   {
    "duration": 0,
    "start_time": "2023-04-23T06:51:08.067Z"
   },
   {
    "duration": 0,
    "start_time": "2023-04-23T06:51:08.068Z"
   },
   {
    "duration": 0,
    "start_time": "2023-04-23T06:51:08.069Z"
   },
   {
    "duration": 2,
    "start_time": "2023-04-23T06:52:31.718Z"
   },
   {
    "duration": 961666,
    "start_time": "2023-04-23T06:52:33.192Z"
   },
   {
    "duration": 4,
    "start_time": "2023-04-23T07:16:15.585Z"
   },
   {
    "duration": 4,
    "start_time": "2023-04-23T07:16:22.493Z"
   },
   {
    "duration": 1617618,
    "start_time": "2023-04-23T07:16:24.623Z"
   },
   {
    "duration": 3,
    "start_time": "2023-04-23T07:43:30.921Z"
   },
   {
    "duration": 2314993,
    "start_time": "2023-04-23T07:43:38.908Z"
   },
   {
    "duration": 3,
    "start_time": "2023-04-23T08:28:33.130Z"
   },
   {
    "duration": 25,
    "start_time": "2023-04-23T08:32:14.760Z"
   },
   {
    "duration": 36035,
    "start_time": "2023-04-23T08:33:20.059Z"
   },
   {
    "duration": 1800,
    "start_time": "2023-04-23T08:34:18.497Z"
   },
   {
    "duration": 8,
    "start_time": "2023-04-23T08:34:22.147Z"
   },
   {
    "duration": 3,
    "start_time": "2023-04-23T08:34:29.306Z"
   },
   {
    "duration": 34932,
    "start_time": "2023-04-23T08:34:31.753Z"
   },
   {
    "duration": 1799,
    "start_time": "2023-04-23T08:35:09.958Z"
   },
   {
    "duration": 5,
    "start_time": "2023-04-23T08:35:14.499Z"
   },
   {
    "duration": 4979,
    "start_time": "2023-04-23T08:35:31.266Z"
   },
   {
    "duration": 15,
    "start_time": "2023-04-23T08:35:37.821Z"
   },
   {
    "duration": 35495,
    "start_time": "2023-04-23T08:35:57.634Z"
   },
   {
    "duration": 4936,
    "start_time": "2023-04-23T08:36:35.346Z"
   },
   {
    "duration": 5,
    "start_time": "2023-04-23T08:37:01.247Z"
   },
   {
    "duration": 3,
    "start_time": "2023-04-23T08:37:06.371Z"
   },
   {
    "duration": 5,
    "start_time": "2023-04-23T08:37:09.410Z"
   },
   {
    "duration": 18055,
    "start_time": "2023-04-23T08:37:48.939Z"
   },
   {
    "duration": 322,
    "start_time": "2023-04-23T08:38:09.436Z"
   },
   {
    "duration": 5,
    "start_time": "2023-04-23T08:38:11.546Z"
   },
   {
    "duration": 12511,
    "start_time": "2023-04-23T08:38:18.992Z"
   },
   {
    "duration": 4893,
    "start_time": "2023-04-23T08:38:34.416Z"
   },
   {
    "duration": 5,
    "start_time": "2023-04-23T08:38:41.165Z"
   },
   {
    "duration": 7,
    "start_time": "2023-04-23T08:38:43.975Z"
   },
   {
    "duration": 9,
    "start_time": "2023-04-23T14:09:43.856Z"
   },
   {
    "duration": 3,
    "start_time": "2023-04-23T14:09:54.455Z"
   },
   {
    "duration": 3,
    "start_time": "2023-04-23T14:10:00.231Z"
   },
   {
    "duration": 4,
    "start_time": "2023-04-23T14:48:41.234Z"
   },
   {
    "duration": 3,
    "start_time": "2023-04-23T14:49:46.474Z"
   },
   {
    "duration": 185617,
    "start_time": "2023-04-23T14:52:04.578Z"
   },
   {
    "duration": 4,
    "start_time": "2023-04-23T14:55:40.234Z"
   },
   {
    "duration": 185132,
    "start_time": "2023-04-23T14:55:54.241Z"
   },
   {
    "duration": 2,
    "start_time": "2023-04-23T14:59:28.640Z"
   },
   {
    "duration": 184591,
    "start_time": "2023-04-23T15:00:00.522Z"
   },
   {
    "duration": 91067,
    "start_time": "2023-04-23T15:05:18.752Z"
   },
   {
    "duration": 1230185,
    "start_time": "2023-04-23T15:08:18.823Z"
   },
   {
    "duration": 8,
    "start_time": "2023-04-23T15:29:38.554Z"
   },
   {
    "duration": 1120,
    "start_time": "2023-04-23T15:35:00.222Z"
   },
   {
    "duration": 240,
    "start_time": "2023-04-23T15:35:01.344Z"
   },
   {
    "duration": 2,
    "start_time": "2023-04-23T15:35:01.586Z"
   },
   {
    "duration": 117,
    "start_time": "2023-04-23T15:35:01.590Z"
   },
   {
    "duration": 3,
    "start_time": "2023-04-23T15:35:01.709Z"
   },
   {
    "duration": 766,
    "start_time": "2023-04-23T15:35:01.713Z"
   },
   {
    "duration": 127,
    "start_time": "2023-04-23T15:35:02.481Z"
   },
   {
    "duration": 6,
    "start_time": "2023-04-23T15:35:02.609Z"
   },
   {
    "duration": 258,
    "start_time": "2023-04-23T15:35:02.616Z"
   },
   {
    "duration": 258,
    "start_time": "2023-04-23T15:35:02.876Z"
   },
   {
    "duration": 18,
    "start_time": "2023-04-23T15:35:03.136Z"
   },
   {
    "duration": 22,
    "start_time": "2023-04-23T15:35:03.155Z"
   },
   {
    "duration": 50,
    "start_time": "2023-04-23T15:35:03.179Z"
   },
   {
    "duration": 8,
    "start_time": "2023-04-23T15:35:03.232Z"
   },
   {
    "duration": 22,
    "start_time": "2023-04-23T15:35:03.241Z"
   },
   {
    "duration": 32,
    "start_time": "2023-04-23T15:35:03.264Z"
   },
   {
    "duration": 14,
    "start_time": "2023-04-23T15:35:03.298Z"
   },
   {
    "duration": 16,
    "start_time": "2023-04-23T15:35:03.314Z"
   },
   {
    "duration": 9,
    "start_time": "2023-04-23T15:35:03.332Z"
   },
   {
    "duration": 336,
    "start_time": "2023-04-23T15:35:03.342Z"
   },
   {
    "duration": 4,
    "start_time": "2023-04-23T15:35:03.680Z"
   },
   {
    "duration": 40,
    "start_time": "2023-04-23T15:35:03.686Z"
   },
   {
    "duration": 27,
    "start_time": "2023-04-23T15:35:03.727Z"
   },
   {
    "duration": 76,
    "start_time": "2023-04-23T15:35:03.756Z"
   },
   {
    "duration": 36,
    "start_time": "2023-04-23T15:35:03.834Z"
   },
   {
    "duration": 45,
    "start_time": "2023-04-23T15:35:03.871Z"
   },
   {
    "duration": 18,
    "start_time": "2023-04-23T15:35:03.918Z"
   },
   {
    "duration": 482,
    "start_time": "2023-04-23T15:35:03.937Z"
   },
   {
    "duration": 426,
    "start_time": "2023-04-23T15:35:04.420Z"
   },
   {
    "duration": 9,
    "start_time": "2023-04-23T15:35:04.848Z"
   },
   {
    "duration": 13,
    "start_time": "2023-04-23T15:35:04.858Z"
   },
   {
    "duration": 45,
    "start_time": "2023-04-23T15:35:04.873Z"
   },
   {
    "duration": 74,
    "start_time": "2023-04-23T15:35:04.920Z"
   },
   {
    "duration": 34,
    "start_time": "2023-04-23T15:35:04.996Z"
   },
   {
    "duration": 32,
    "start_time": "2023-04-23T15:35:05.031Z"
   },
   {
    "duration": 70,
    "start_time": "2023-04-23T15:35:05.064Z"
   },
   {
    "duration": 12,
    "start_time": "2023-04-23T15:35:05.135Z"
   },
   {
    "duration": 14,
    "start_time": "2023-04-23T15:35:05.149Z"
   },
   {
    "duration": 10,
    "start_time": "2023-04-23T15:35:05.164Z"
   },
   {
    "duration": 21,
    "start_time": "2023-04-23T15:35:05.175Z"
   },
   {
    "duration": 5,
    "start_time": "2023-04-23T15:35:05.200Z"
   },
   {
    "duration": 15,
    "start_time": "2023-04-23T15:35:05.206Z"
   },
   {
    "duration": 12,
    "start_time": "2023-04-23T15:35:05.222Z"
   },
   {
    "duration": 14,
    "start_time": "2023-04-23T15:35:05.235Z"
   },
   {
    "duration": 16,
    "start_time": "2023-04-23T15:35:05.250Z"
   },
   {
    "duration": 37,
    "start_time": "2023-04-23T15:35:05.268Z"
   },
   {
    "duration": 14,
    "start_time": "2023-04-23T15:35:05.306Z"
   },
   {
    "duration": 12,
    "start_time": "2023-04-23T15:35:05.322Z"
   },
   {
    "duration": 12,
    "start_time": "2023-04-23T15:35:05.336Z"
   },
   {
    "duration": 15,
    "start_time": "2023-04-23T15:35:05.349Z"
   },
   {
    "duration": 11,
    "start_time": "2023-04-23T15:35:05.394Z"
   },
   {
    "duration": 18,
    "start_time": "2023-04-23T15:35:05.407Z"
   },
   {
    "duration": 5,
    "start_time": "2023-04-23T15:35:05.427Z"
   },
   {
    "duration": 20,
    "start_time": "2023-04-23T15:35:05.433Z"
   },
   {
    "duration": 69,
    "start_time": "2023-04-23T15:35:05.455Z"
   },
   {
    "duration": 12,
    "start_time": "2023-04-23T15:35:05.525Z"
   },
   {
    "duration": 9,
    "start_time": "2023-04-23T15:35:05.538Z"
   },
   {
    "duration": 4,
    "start_time": "2023-04-23T15:35:05.548Z"
   },
   {
    "duration": 21,
    "start_time": "2023-04-23T15:35:05.553Z"
   },
   {
    "duration": 67,
    "start_time": "2023-04-23T15:35:05.575Z"
   },
   {
    "duration": 71,
    "start_time": "2023-04-23T15:35:05.643Z"
   },
   {
    "duration": 16,
    "start_time": "2023-04-23T15:35:05.716Z"
   },
   {
    "duration": 5,
    "start_time": "2023-04-23T15:35:05.733Z"
   },
   {
    "duration": 70,
    "start_time": "2023-04-23T15:35:05.739Z"
   },
   {
    "duration": 4,
    "start_time": "2023-04-23T15:35:05.810Z"
   },
   {
    "duration": 18,
    "start_time": "2023-04-23T15:35:05.815Z"
   },
   {
    "duration": 7,
    "start_time": "2023-04-23T15:35:05.834Z"
   },
   {
    "duration": 3,
    "start_time": "2023-04-23T15:35:05.842Z"
   },
   {
    "duration": 70,
    "start_time": "2023-04-23T15:35:05.847Z"
   },
   {
    "duration": 661,
    "start_time": "2023-04-23T15:35:05.918Z"
   },
   {
    "duration": 42,
    "start_time": "2023-04-23T15:35:06.580Z"
   },
   {
    "duration": 28,
    "start_time": "2023-04-23T15:35:06.623Z"
   },
   {
    "duration": 2,
    "start_time": "2023-04-23T15:35:06.652Z"
   },
   {
    "duration": 13,
    "start_time": "2023-04-23T15:35:06.655Z"
   },
   {
    "duration": 4,
    "start_time": "2023-04-23T15:35:06.670Z"
   },
   {
    "duration": 4,
    "start_time": "2023-04-23T15:35:06.676Z"
   },
   {
    "duration": 3,
    "start_time": "2023-04-23T15:35:06.698Z"
   },
   {
    "duration": 17,
    "start_time": "2023-04-23T15:35:06.702Z"
   },
   {
    "duration": 967855,
    "start_time": "2023-04-23T15:35:06.720Z"
   },
   {
    "duration": 3,
    "start_time": "2023-04-23T15:51:14.577Z"
   },
   {
    "duration": 3,
    "start_time": "2023-04-23T15:51:14.582Z"
   },
   {
    "duration": 1650783,
    "start_time": "2023-04-23T15:51:14.593Z"
   },
   {
    "duration": 3,
    "start_time": "2023-04-23T16:18:45.378Z"
   },
   {
    "duration": 1165,
    "start_time": "2023-04-23T16:51:45.909Z"
   },
   {
    "duration": 260,
    "start_time": "2023-04-23T16:51:47.076Z"
   },
   {
    "duration": 3,
    "start_time": "2023-04-23T16:51:47.337Z"
   },
   {
    "duration": 99,
    "start_time": "2023-04-23T16:51:47.342Z"
   },
   {
    "duration": 3,
    "start_time": "2023-04-23T16:51:47.443Z"
   },
   {
    "duration": 840,
    "start_time": "2023-04-23T16:51:47.448Z"
   },
   {
    "duration": 134,
    "start_time": "2023-04-23T16:51:48.290Z"
   },
   {
    "duration": 5,
    "start_time": "2023-04-23T16:51:48.425Z"
   },
   {
    "duration": 293,
    "start_time": "2023-04-23T16:51:48.431Z"
   },
   {
    "duration": 274,
    "start_time": "2023-04-23T16:51:48.725Z"
   },
   {
    "duration": 21,
    "start_time": "2023-04-23T16:51:49.001Z"
   },
   {
    "duration": 22,
    "start_time": "2023-04-23T16:51:49.023Z"
   },
   {
    "duration": 58,
    "start_time": "2023-04-23T16:51:49.047Z"
   },
   {
    "duration": 8,
    "start_time": "2023-04-23T16:51:49.110Z"
   },
   {
    "duration": 18,
    "start_time": "2023-04-23T16:51:49.119Z"
   },
   {
    "duration": 14,
    "start_time": "2023-04-23T16:51:49.138Z"
   },
   {
    "duration": 44,
    "start_time": "2023-04-23T16:51:49.154Z"
   },
   {
    "duration": 17,
    "start_time": "2023-04-23T16:51:49.200Z"
   },
   {
    "duration": 9,
    "start_time": "2023-04-23T16:51:49.218Z"
   },
   {
    "duration": 354,
    "start_time": "2023-04-23T16:51:49.228Z"
   },
   {
    "duration": 4,
    "start_time": "2023-04-23T16:51:49.584Z"
   },
   {
    "duration": 37,
    "start_time": "2023-04-23T16:51:49.598Z"
   },
   {
    "duration": 28,
    "start_time": "2023-04-23T16:51:49.637Z"
   },
   {
    "duration": 93,
    "start_time": "2023-04-23T16:51:49.667Z"
   },
   {
    "duration": 50,
    "start_time": "2023-04-23T16:51:49.762Z"
   },
   {
    "duration": 47,
    "start_time": "2023-04-23T16:51:49.814Z"
   },
   {
    "duration": 17,
    "start_time": "2023-04-23T16:51:49.862Z"
   },
   {
    "duration": 460,
    "start_time": "2023-04-23T16:51:49.895Z"
   },
   {
    "duration": 407,
    "start_time": "2023-04-23T16:51:50.356Z"
   },
   {
    "duration": 9,
    "start_time": "2023-04-23T16:51:50.765Z"
   },
   {
    "duration": 33,
    "start_time": "2023-04-23T16:51:50.775Z"
   },
   {
    "duration": 28,
    "start_time": "2023-04-23T16:51:50.810Z"
   },
   {
    "duration": 69,
    "start_time": "2023-04-23T16:51:50.840Z"
   },
   {
    "duration": 37,
    "start_time": "2023-04-23T16:51:50.912Z"
   },
   {
    "duration": 58,
    "start_time": "2023-04-23T16:51:50.952Z"
   },
   {
    "duration": 79,
    "start_time": "2023-04-23T16:51:51.013Z"
   },
   {
    "duration": 21,
    "start_time": "2023-04-23T16:51:51.094Z"
   },
   {
    "duration": 5,
    "start_time": "2023-04-23T16:51:51.116Z"
   },
   {
    "duration": 9,
    "start_time": "2023-04-23T16:51:51.122Z"
   },
   {
    "duration": 4,
    "start_time": "2023-04-23T16:51:51.132Z"
   },
   {
    "duration": 4,
    "start_time": "2023-04-23T16:51:51.141Z"
   },
   {
    "duration": 22,
    "start_time": "2023-04-23T16:51:51.146Z"
   },
   {
    "duration": 43,
    "start_time": "2023-04-23T16:51:51.169Z"
   },
   {
    "duration": 90,
    "start_time": "2023-04-23T16:51:51.213Z"
   },
   {
    "duration": 39,
    "start_time": "2023-04-23T16:51:51.308Z"
   },
   {
    "duration": 34,
    "start_time": "2023-04-23T16:51:51.349Z"
   },
   {
    "duration": 44,
    "start_time": "2023-04-23T16:51:51.385Z"
   },
   {
    "duration": 21,
    "start_time": "2023-04-23T16:51:51.431Z"
   },
   {
    "duration": 24,
    "start_time": "2023-04-23T16:51:51.454Z"
   },
   {
    "duration": 21,
    "start_time": "2023-04-23T16:51:51.479Z"
   },
   {
    "duration": 15,
    "start_time": "2023-04-23T16:51:51.505Z"
   },
   {
    "duration": 18,
    "start_time": "2023-04-23T16:51:51.522Z"
   },
   {
    "duration": 6,
    "start_time": "2023-04-23T16:51:51.541Z"
   },
   {
    "duration": 18,
    "start_time": "2023-04-23T16:51:51.548Z"
   },
   {
    "duration": 67,
    "start_time": "2023-04-23T16:51:51.568Z"
   },
   {
    "duration": 13,
    "start_time": "2023-04-23T16:51:51.636Z"
   },
   {
    "duration": 5,
    "start_time": "2023-04-23T16:51:51.650Z"
   },
   {
    "duration": 4,
    "start_time": "2023-04-23T16:51:51.656Z"
   },
   {
    "duration": 48,
    "start_time": "2023-04-23T16:51:51.661Z"
   },
   {
    "duration": 56,
    "start_time": "2023-04-23T16:51:51.711Z"
   },
   {
    "duration": 86,
    "start_time": "2023-04-23T16:51:51.769Z"
   },
   {
    "duration": 16,
    "start_time": "2023-04-23T16:51:51.856Z"
   },
   {
    "duration": 4,
    "start_time": "2023-04-23T16:51:51.874Z"
   },
   {
    "duration": 75,
    "start_time": "2023-04-23T16:51:51.879Z"
   },
   {
    "duration": 3,
    "start_time": "2023-04-23T16:51:51.956Z"
   },
   {
    "duration": 10,
    "start_time": "2023-04-23T16:51:51.960Z"
   },
   {
    "duration": 5,
    "start_time": "2023-04-23T16:51:51.971Z"
   },
   {
    "duration": 24,
    "start_time": "2023-04-23T16:51:51.976Z"
   },
   {
    "duration": 60,
    "start_time": "2023-04-23T16:51:52.001Z"
   },
   {
    "duration": 786,
    "start_time": "2023-04-23T16:51:52.062Z"
   },
   {
    "duration": 54,
    "start_time": "2023-04-23T16:51:52.849Z"
   },
   {
    "duration": 34,
    "start_time": "2023-04-23T16:51:52.911Z"
   },
   {
    "duration": 3,
    "start_time": "2023-04-23T16:51:52.947Z"
   },
   {
    "duration": 16,
    "start_time": "2023-04-23T16:51:52.951Z"
   },
   {
    "duration": 2,
    "start_time": "2023-04-23T16:51:52.969Z"
   },
   {
    "duration": 3,
    "start_time": "2023-04-23T16:51:52.973Z"
   },
   {
    "duration": 4,
    "start_time": "2023-04-23T16:51:52.978Z"
   },
   {
    "duration": 11,
    "start_time": "2023-04-23T16:51:52.983Z"
   },
   {
    "duration": 11,
    "start_time": "2023-04-23T16:51:52.996Z"
   },
   {
    "duration": 1,
    "start_time": "2023-04-23T16:51:53.009Z"
   },
   {
    "duration": 20,
    "start_time": "2023-04-23T16:51:53.012Z"
   },
   {
    "duration": 6,
    "start_time": "2023-04-23T16:51:53.034Z"
   },
   {
    "duration": 3,
    "start_time": "2023-04-23T16:51:53.042Z"
   },
   {
    "duration": 2,
    "start_time": "2023-04-23T16:51:53.047Z"
   },
   {
    "duration": 3,
    "start_time": "2023-04-23T16:51:53.051Z"
   },
   {
    "duration": 4,
    "start_time": "2023-04-23T16:51:53.055Z"
   },
   {
    "duration": 4,
    "start_time": "2023-04-23T16:51:53.061Z"
   },
   {
    "duration": 10,
    "start_time": "2023-04-23T16:51:53.066Z"
   },
   {
    "duration": 9,
    "start_time": "2023-04-23T16:51:53.078Z"
   },
   {
    "duration": 34,
    "start_time": "2023-04-23T16:51:53.089Z"
   },
   {
    "duration": 3,
    "start_time": "2023-04-23T16:51:53.124Z"
   },
   {
    "duration": 10809,
    "start_time": "2023-04-23T16:51:53.128Z"
   },
   {
    "duration": 1204,
    "start_time": "2023-04-23T16:52:29.710Z"
   },
   {
    "duration": 223,
    "start_time": "2023-04-23T16:52:30.917Z"
   },
   {
    "duration": 3,
    "start_time": "2023-04-23T16:52:31.141Z"
   },
   {
    "duration": 123,
    "start_time": "2023-04-23T16:52:31.146Z"
   },
   {
    "duration": 3,
    "start_time": "2023-04-23T16:52:31.271Z"
   },
   {
    "duration": 842,
    "start_time": "2023-04-23T16:52:31.275Z"
   },
   {
    "duration": 118,
    "start_time": "2023-04-23T16:52:32.119Z"
   },
   {
    "duration": 4,
    "start_time": "2023-04-23T16:52:32.239Z"
   },
   {
    "duration": 277,
    "start_time": "2023-04-23T16:52:32.245Z"
   },
   {
    "duration": 265,
    "start_time": "2023-04-23T16:52:32.524Z"
   },
   {
    "duration": 21,
    "start_time": "2023-04-23T16:52:32.797Z"
   },
   {
    "duration": 22,
    "start_time": "2023-04-23T16:52:32.820Z"
   },
   {
    "duration": 36,
    "start_time": "2023-04-23T16:52:32.844Z"
   },
   {
    "duration": 13,
    "start_time": "2023-04-23T16:52:32.899Z"
   },
   {
    "duration": 17,
    "start_time": "2023-04-23T16:52:32.914Z"
   },
   {
    "duration": 15,
    "start_time": "2023-04-23T16:52:32.932Z"
   },
   {
    "duration": 16,
    "start_time": "2023-04-23T16:52:32.948Z"
   },
   {
    "duration": 40,
    "start_time": "2023-04-23T16:52:32.965Z"
   },
   {
    "duration": 11,
    "start_time": "2023-04-23T16:52:33.007Z"
   },
   {
    "duration": 343,
    "start_time": "2023-04-23T16:52:33.019Z"
   },
   {
    "duration": 5,
    "start_time": "2023-04-23T16:52:33.364Z"
   },
   {
    "duration": 49,
    "start_time": "2023-04-23T16:52:33.370Z"
   },
   {
    "duration": 29,
    "start_time": "2023-04-23T16:52:33.421Z"
   },
   {
    "duration": 84,
    "start_time": "2023-04-23T16:52:33.464Z"
   },
   {
    "duration": 56,
    "start_time": "2023-04-23T16:52:33.550Z"
   },
   {
    "duration": 35,
    "start_time": "2023-04-23T16:52:33.609Z"
   },
   {
    "duration": 16,
    "start_time": "2023-04-23T16:52:33.646Z"
   },
   {
    "duration": 441,
    "start_time": "2023-04-23T16:52:33.664Z"
   },
   {
    "duration": 465,
    "start_time": "2023-04-23T16:52:34.113Z"
   },
   {
    "duration": 21,
    "start_time": "2023-04-23T16:52:34.580Z"
   },
   {
    "duration": 15,
    "start_time": "2023-04-23T16:52:34.604Z"
   },
   {
    "duration": 27,
    "start_time": "2023-04-23T16:52:34.620Z"
   },
   {
    "duration": 77,
    "start_time": "2023-04-23T16:52:34.649Z"
   },
   {
    "duration": 34,
    "start_time": "2023-04-23T16:52:34.727Z"
   },
   {
    "duration": 46,
    "start_time": "2023-04-23T16:52:34.763Z"
   },
   {
    "duration": 56,
    "start_time": "2023-04-23T16:52:34.811Z"
   },
   {
    "duration": 11,
    "start_time": "2023-04-23T16:52:34.868Z"
   },
   {
    "duration": 21,
    "start_time": "2023-04-23T16:52:34.880Z"
   },
   {
    "duration": 12,
    "start_time": "2023-04-23T16:52:34.902Z"
   },
   {
    "duration": 5,
    "start_time": "2023-04-23T16:52:34.915Z"
   },
   {
    "duration": 5,
    "start_time": "2023-04-23T16:52:34.924Z"
   },
   {
    "duration": 14,
    "start_time": "2023-04-23T16:52:34.930Z"
   },
   {
    "duration": 11,
    "start_time": "2023-04-23T16:52:34.946Z"
   },
   {
    "duration": 40,
    "start_time": "2023-04-23T16:52:34.959Z"
   },
   {
    "duration": 18,
    "start_time": "2023-04-23T16:52:35.001Z"
   },
   {
    "duration": 17,
    "start_time": "2023-04-23T16:52:35.021Z"
   },
   {
    "duration": 13,
    "start_time": "2023-04-23T16:52:35.040Z"
   },
   {
    "duration": 13,
    "start_time": "2023-04-23T16:52:35.055Z"
   },
   {
    "duration": 43,
    "start_time": "2023-04-23T16:52:35.070Z"
   },
   {
    "duration": 15,
    "start_time": "2023-04-23T16:52:35.115Z"
   },
   {
    "duration": 13,
    "start_time": "2023-04-23T16:52:35.131Z"
   },
   {
    "duration": 18,
    "start_time": "2023-04-23T16:52:35.146Z"
   },
   {
    "duration": 3,
    "start_time": "2023-04-23T16:52:35.166Z"
   },
   {
    "duration": 35,
    "start_time": "2023-04-23T16:52:35.171Z"
   },
   {
    "duration": 41,
    "start_time": "2023-04-23T16:52:35.210Z"
   },
   {
    "duration": 15,
    "start_time": "2023-04-23T16:52:35.253Z"
   },
   {
    "duration": 36,
    "start_time": "2023-04-23T16:52:35.270Z"
   },
   {
    "duration": 3,
    "start_time": "2023-04-23T16:52:35.310Z"
   },
   {
    "duration": 24,
    "start_time": "2023-04-23T16:52:35.315Z"
   },
   {
    "duration": 57,
    "start_time": "2023-04-23T16:52:35.341Z"
   },
   {
    "duration": 71,
    "start_time": "2023-04-23T16:52:35.400Z"
   },
   {
    "duration": 28,
    "start_time": "2023-04-23T16:52:35.473Z"
   },
   {
    "duration": 8,
    "start_time": "2023-04-23T16:52:35.502Z"
   },
   {
    "duration": 60,
    "start_time": "2023-04-23T16:52:35.512Z"
   },
   {
    "duration": 3,
    "start_time": "2023-04-23T16:52:35.574Z"
   },
   {
    "duration": 33,
    "start_time": "2023-04-23T16:52:35.578Z"
   },
   {
    "duration": 4,
    "start_time": "2023-04-23T16:52:35.612Z"
   },
   {
    "duration": 2,
    "start_time": "2023-04-23T16:52:35.618Z"
   },
   {
    "duration": 58,
    "start_time": "2023-04-23T16:52:35.622Z"
   },
   {
    "duration": 739,
    "start_time": "2023-04-23T16:52:35.681Z"
   },
   {
    "duration": 40,
    "start_time": "2023-04-23T16:52:36.422Z"
   },
   {
    "duration": 48,
    "start_time": "2023-04-23T16:52:36.463Z"
   },
   {
    "duration": 2,
    "start_time": "2023-04-23T16:52:36.513Z"
   },
   {
    "duration": 4,
    "start_time": "2023-04-23T16:52:36.516Z"
   },
   {
    "duration": 3,
    "start_time": "2023-04-23T16:52:36.521Z"
   },
   {
    "duration": 5,
    "start_time": "2023-04-23T16:52:36.526Z"
   },
   {
    "duration": 4,
    "start_time": "2023-04-23T16:52:36.532Z"
   },
   {
    "duration": 3,
    "start_time": "2023-04-23T16:52:36.537Z"
   },
   {
    "duration": 3,
    "start_time": "2023-04-23T16:52:36.541Z"
   },
   {
    "duration": 5,
    "start_time": "2023-04-23T16:52:36.546Z"
   },
   {
    "duration": 3,
    "start_time": "2023-04-23T16:52:36.553Z"
   },
   {
    "duration": 22,
    "start_time": "2023-04-23T16:52:36.558Z"
   },
   {
    "duration": 16,
    "start_time": "2023-04-23T16:52:36.581Z"
   },
   {
    "duration": 2,
    "start_time": "2023-04-23T16:52:36.598Z"
   },
   {
    "duration": 3,
    "start_time": "2023-04-23T16:52:36.607Z"
   },
   {
    "duration": 5,
    "start_time": "2023-04-23T16:52:36.611Z"
   },
   {
    "duration": 4,
    "start_time": "2023-04-23T16:52:36.618Z"
   },
   {
    "duration": 4,
    "start_time": "2023-04-23T16:52:36.623Z"
   },
   {
    "duration": 9,
    "start_time": "2023-04-23T16:52:36.628Z"
   },
   {
    "duration": 3,
    "start_time": "2023-04-23T16:52:36.639Z"
   },
   {
    "duration": 6,
    "start_time": "2023-04-23T16:52:36.644Z"
   },
   {
    "duration": 206328,
    "start_time": "2023-04-23T16:52:36.652Z"
   },
   {
    "duration": 96880,
    "start_time": "2023-04-23T16:56:02.981Z"
   },
   {
    "duration": 2937455,
    "start_time": "2023-04-23T16:57:39.863Z"
   },
   {
    "duration": 9,
    "start_time": "2023-04-23T17:46:37.320Z"
   },
   {
    "duration": 17831,
    "start_time": "2023-04-23T18:00:34.574Z"
   },
   {
    "duration": 116,
    "start_time": "2023-04-23T18:03:01.418Z"
   }
  ],
  "kernelspec": {
   "display_name": "Python 3 (ipykernel)",
   "language": "python",
   "name": "python3"
  },
  "language_info": {
   "codemirror_mode": {
    "name": "ipython",
    "version": 3
   },
   "file_extension": ".py",
   "mimetype": "text/x-python",
   "name": "python",
   "nbconvert_exporter": "python",
   "pygments_lexer": "ipython3",
   "version": "3.9.13"
  },
  "toc": {
   "base_numbering": 1,
   "nav_menu": {},
   "number_sections": true,
   "sideBar": true,
   "skip_h1_title": true,
   "title_cell": "Table of Contents",
   "title_sidebar": "Contents",
   "toc_cell": false,
   "toc_position": {
    "height": "calc(100% - 180px)",
    "left": "10px",
    "top": "150px",
    "width": "275.833px"
   },
   "toc_section_display": true,
   "toc_window_display": true
  }
 },
 "nbformat": 4,
 "nbformat_minor": 2
}
