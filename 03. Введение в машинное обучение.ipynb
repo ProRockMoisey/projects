{
 "cells": [
  {
   "cell_type": "markdown",
   "metadata": {},
   "source": [
    "# Рекомендация тарифов"
   ]
  },
  {
   "cell_type": "markdown",
   "metadata": {},
   "source": [
    "В вашем распоряжении данные о поведении клиентов, которые уже перешли на эти тарифы (из проекта курса «Статистический анализ данных»). Нужно построить модель для задачи классификации, которая выберет подходящий тариф. Предобработка данных не понадобится — вы её уже сделали.\n",
    "\n",
    "Постройте модель с максимально большим значением *accuracy*. Чтобы сдать проект успешно, нужно довести долю правильных ответов по крайней мере до 0.75. Проверьте *accuracy* на тестовой выборке самостоятельно."
   ]
  },
  {
   "cell_type": "markdown",
   "metadata": {},
   "source": [
    "## Откройте и изучите файл"
   ]
  },
  {
   "cell_type": "code",
   "execution_count": 1,
   "metadata": {},
   "outputs": [],
   "source": [
    "import pandas as pd\n",
    "import numpy as np\n",
    "from sklearn.model_selection import train_test_split\n",
    "from sklearn.tree import DecisionTreeClassifier\n",
    "from sklearn.ensemble import RandomForestClassifier\n",
    "from sklearn.linear_model import LogisticRegression"
   ]
  },
  {
   "cell_type": "code",
   "execution_count": 2,
   "metadata": {},
   "outputs": [
    {
     "data": {
      "text/html": [
       "<div>\n",
       "<style scoped>\n",
       "    .dataframe tbody tr th:only-of-type {\n",
       "        vertical-align: middle;\n",
       "    }\n",
       "\n",
       "    .dataframe tbody tr th {\n",
       "        vertical-align: top;\n",
       "    }\n",
       "\n",
       "    .dataframe thead th {\n",
       "        text-align: right;\n",
       "    }\n",
       "</style>\n",
       "<table border=\"1\" class=\"dataframe\">\n",
       "  <thead>\n",
       "    <tr style=\"text-align: right;\">\n",
       "      <th></th>\n",
       "      <th>calls</th>\n",
       "      <th>minutes</th>\n",
       "      <th>messages</th>\n",
       "      <th>mb_used</th>\n",
       "      <th>is_ultra</th>\n",
       "    </tr>\n",
       "  </thead>\n",
       "  <tbody>\n",
       "    <tr>\n",
       "      <th>0</th>\n",
       "      <td>40.0</td>\n",
       "      <td>311.90</td>\n",
       "      <td>83.0</td>\n",
       "      <td>19915.42</td>\n",
       "      <td>0</td>\n",
       "    </tr>\n",
       "    <tr>\n",
       "      <th>1</th>\n",
       "      <td>85.0</td>\n",
       "      <td>516.75</td>\n",
       "      <td>56.0</td>\n",
       "      <td>22696.96</td>\n",
       "      <td>0</td>\n",
       "    </tr>\n",
       "    <tr>\n",
       "      <th>2</th>\n",
       "      <td>77.0</td>\n",
       "      <td>467.66</td>\n",
       "      <td>86.0</td>\n",
       "      <td>21060.45</td>\n",
       "      <td>0</td>\n",
       "    </tr>\n",
       "    <tr>\n",
       "      <th>3</th>\n",
       "      <td>106.0</td>\n",
       "      <td>745.53</td>\n",
       "      <td>81.0</td>\n",
       "      <td>8437.39</td>\n",
       "      <td>1</td>\n",
       "    </tr>\n",
       "    <tr>\n",
       "      <th>4</th>\n",
       "      <td>66.0</td>\n",
       "      <td>418.74</td>\n",
       "      <td>1.0</td>\n",
       "      <td>14502.75</td>\n",
       "      <td>0</td>\n",
       "    </tr>\n",
       "    <tr>\n",
       "      <th>5</th>\n",
       "      <td>58.0</td>\n",
       "      <td>344.56</td>\n",
       "      <td>21.0</td>\n",
       "      <td>15823.37</td>\n",
       "      <td>0</td>\n",
       "    </tr>\n",
       "    <tr>\n",
       "      <th>6</th>\n",
       "      <td>57.0</td>\n",
       "      <td>431.64</td>\n",
       "      <td>20.0</td>\n",
       "      <td>3738.90</td>\n",
       "      <td>1</td>\n",
       "    </tr>\n",
       "    <tr>\n",
       "      <th>7</th>\n",
       "      <td>15.0</td>\n",
       "      <td>132.40</td>\n",
       "      <td>6.0</td>\n",
       "      <td>21911.60</td>\n",
       "      <td>0</td>\n",
       "    </tr>\n",
       "    <tr>\n",
       "      <th>8</th>\n",
       "      <td>7.0</td>\n",
       "      <td>43.39</td>\n",
       "      <td>3.0</td>\n",
       "      <td>2538.67</td>\n",
       "      <td>1</td>\n",
       "    </tr>\n",
       "    <tr>\n",
       "      <th>9</th>\n",
       "      <td>90.0</td>\n",
       "      <td>665.41</td>\n",
       "      <td>38.0</td>\n",
       "      <td>17358.61</td>\n",
       "      <td>0</td>\n",
       "    </tr>\n",
       "  </tbody>\n",
       "</table>\n",
       "</div>"
      ],
      "text/plain": [
       "   calls  minutes  messages   mb_used  is_ultra\n",
       "0   40.0   311.90      83.0  19915.42         0\n",
       "1   85.0   516.75      56.0  22696.96         0\n",
       "2   77.0   467.66      86.0  21060.45         0\n",
       "3  106.0   745.53      81.0   8437.39         1\n",
       "4   66.0   418.74       1.0  14502.75         0\n",
       "5   58.0   344.56      21.0  15823.37         0\n",
       "6   57.0   431.64      20.0   3738.90         1\n",
       "7   15.0   132.40       6.0  21911.60         0\n",
       "8    7.0    43.39       3.0   2538.67         1\n",
       "9   90.0   665.41      38.0  17358.61         0"
      ]
     },
     "execution_count": 2,
     "metadata": {},
     "output_type": "execute_result"
    }
   ],
   "source": [
    "tariffs = pd.read_csv('/datasets/users_behavior.csv')\n",
    "tariffs.head(10)"
   ]
  },
  {
   "cell_type": "code",
   "execution_count": 3,
   "metadata": {
    "scrolled": true
   },
   "outputs": [
    {
     "name": "stdout",
     "output_type": "stream",
     "text": [
      "<class 'pandas.core.frame.DataFrame'>\n",
      "RangeIndex: 3214 entries, 0 to 3213\n",
      "Data columns (total 5 columns):\n",
      " #   Column    Non-Null Count  Dtype  \n",
      "---  ------    --------------  -----  \n",
      " 0   calls     3214 non-null   float64\n",
      " 1   minutes   3214 non-null   float64\n",
      " 2   messages  3214 non-null   float64\n",
      " 3   mb_used   3214 non-null   float64\n",
      " 4   is_ultra  3214 non-null   int64  \n",
      "dtypes: float64(4), int64(1)\n",
      "memory usage: 125.7 KB\n"
     ]
    }
   ],
   "source": [
    "tariffs.info()"
   ]
  },
  {
   "cell_type": "markdown",
   "metadata": {},
   "source": [
    "## Разбейте данные на выборки"
   ]
  },
  {
   "cell_type": "code",
   "execution_count": 4,
   "metadata": {},
   "outputs": [],
   "source": [
    "# train, valid, test\n",
    "tariffs_train, tariffs_valid = train_test_split(tariffs, test_size=0.2, random_state=12345)\n",
    "tariffs_train, tariffs_test = train_test_split(tariffs_train, test_size=0.25, random_state=12345)"
   ]
  },
  {
   "cell_type": "code",
   "execution_count": 5,
   "metadata": {},
   "outputs": [
    {
     "data": {
      "text/plain": [
       "1928"
      ]
     },
     "execution_count": 5,
     "metadata": {},
     "output_type": "execute_result"
    }
   ],
   "source": [
    "len(tariffs_train)"
   ]
  },
  {
   "cell_type": "code",
   "execution_count": 6,
   "metadata": {},
   "outputs": [
    {
     "data": {
      "text/plain": [
       "643"
      ]
     },
     "execution_count": 6,
     "metadata": {},
     "output_type": "execute_result"
    }
   ],
   "source": [
    "len(tariffs_valid)"
   ]
  },
  {
   "cell_type": "code",
   "execution_count": 7,
   "metadata": {},
   "outputs": [
    {
     "data": {
      "text/plain": [
       "643"
      ]
     },
     "execution_count": 7,
     "metadata": {},
     "output_type": "execute_result"
    }
   ],
   "source": [
    "len(tariffs_test)"
   ]
  },
  {
   "cell_type": "code",
   "execution_count": 8,
   "metadata": {},
   "outputs": [],
   "source": [
    "# train\n",
    "features_train = tariffs_train.drop(['is_ultra'], axis=1)\n",
    "target_train = tariffs_train['is_ultra']"
   ]
  },
  {
   "cell_type": "code",
   "execution_count": 9,
   "metadata": {},
   "outputs": [],
   "source": [
    "# valid\n",
    "features_valid = tariffs_valid.drop(['is_ultra'], axis=1)\n",
    "target_valid = tariffs_valid['is_ultra']"
   ]
  },
  {
   "cell_type": "code",
   "execution_count": 10,
   "metadata": {},
   "outputs": [],
   "source": [
    "# test\n",
    "features_test = tariffs_test.drop(['is_ultra'], axis=1)\n",
    "target_test = tariffs_test['is_ultra']"
   ]
  },
  {
   "cell_type": "markdown",
   "metadata": {},
   "source": [
    "## Исследуйте модели"
   ]
  },
  {
   "cell_type": "code",
   "execution_count": 11,
   "metadata": {
    "scrolled": true
   },
   "outputs": [],
   "source": [
    "# tree classifier\n",
    "best_model_tree = None\n",
    "best_result = 0\n",
    "best_depth = 0\n",
    "\n",
    "for depth in range(1, 11):\n",
    "    model_tree = DecisionTreeClassifier(max_depth=depth, random_state=12345)\n",
    "    model_tree.fit(features_train, target_train)\n",
    "    \n",
    "    result = model_tree.score(features_valid, target_valid)\n",
    "    \n",
    "    if result > best_result:\n",
    "        best_model_tree = model_tree\n",
    "        best_result = result\n",
    "        best_depth = depth"
   ]
  },
  {
   "cell_type": "code",
   "execution_count": 12,
   "metadata": {},
   "outputs": [
    {
     "name": "stdout",
     "output_type": "stream",
     "text": [
      "DecisionTreeClassifier(max_depth=5, random_state=12345)\n",
      "0.7884914463452566\n",
      "5\n"
     ]
    }
   ],
   "source": [
    "print(best_model_tree)\n",
    "print(best_result)\n",
    "print(best_depth)"
   ]
  },
  {
   "cell_type": "code",
   "execution_count": 13,
   "metadata": {},
   "outputs": [],
   "source": [
    "# random forest classifier\n",
    "best_model_forest = None\n",
    "best_result = 0\n",
    "best_est = 0\n",
    "\n",
    "for est in range(1, 21):\n",
    "    model_forest = RandomForestClassifier(n_estimators=est, random_state=12345)\n",
    "    model_forest.fit(features_train, target_train)\n",
    "    \n",
    "    result = model_forest.score(features_valid, target_valid)\n",
    "    \n",
    "    if result > best_result:\n",
    "        best_model_forest = model_forest\n",
    "        best_result = result\n",
    "        best_est = est"
   ]
  },
  {
   "cell_type": "code",
   "execution_count": 14,
   "metadata": {},
   "outputs": [
    {
     "name": "stdout",
     "output_type": "stream",
     "text": [
      "RandomForestClassifier(n_estimators=13, random_state=12345)\n",
      "0.7916018662519441\n",
      "13\n"
     ]
    }
   ],
   "source": [
    "print(best_model_forest)\n",
    "print(best_result)\n",
    "print(best_est)"
   ]
  },
  {
   "cell_type": "code",
   "execution_count": 15,
   "metadata": {},
   "outputs": [],
   "source": [
    "# logistic regression\n",
    "best_model_logistic = None\n",
    "best_result = 0\n",
    "best_coef = 0\n",
    "\n",
    "for coef in np.arange(1.0, 11.0):\n",
    "    model_logistic = LogisticRegression(C=coef, solver='lbfgs', max_iter=1000, random_state=12345)\n",
    "    model_logistic.fit(features_train, target_train)\n",
    "    \n",
    "    result = model_logistic.score(features_valid, target_valid)\n",
    "    \n",
    "    if result > best_result:\n",
    "        best_model_logistic = model_logistic\n",
    "        best_result = result\n",
    "        best_coef = coef"
   ]
  },
  {
   "cell_type": "code",
   "execution_count": 16,
   "metadata": {},
   "outputs": [
    {
     "name": "stdout",
     "output_type": "stream",
     "text": [
      "LogisticRegression(max_iter=1000, random_state=12345)\n",
      "0.7589424572317263\n",
      "1.0\n"
     ]
    }
   ],
   "source": [
    "print(best_model_logistic)\n",
    "print(best_result)\n",
    "print(best_coef)"
   ]
  },
  {
   "cell_type": "code",
   "execution_count": 17,
   "metadata": {},
   "outputs": [],
   "source": [
    "best_model = None\n",
    "best_result = 0\n",
    "best_coef = 0\n",
    "\n",
    "for coef in np.arange(1.0, 11.0):\n",
    "    model_logistic = LogisticRegression(C=coef, solver='liblinear', max_iter=1000, random_state=12345)\n",
    "    model_logistic.fit(features_train, target_train)\n",
    "    \n",
    "    result = model_logistic.score(features_valid, target_valid)\n",
    "    \n",
    "    if result > best_result:\n",
    "        best_model = model_logistic\n",
    "        best_result = result\n",
    "        best_coef = coef"
   ]
  },
  {
   "cell_type": "code",
   "execution_count": 18,
   "metadata": {},
   "outputs": [
    {
     "name": "stdout",
     "output_type": "stream",
     "text": [
      "LogisticRegression(C=9.0, max_iter=1000, random_state=12345, solver='liblinear')\n",
      "0.7542768273716952\n",
      "9.0\n"
     ]
    }
   ],
   "source": [
    "print(best_model)\n",
    "print(best_result)\n",
    "print(best_coef)"
   ]
  },
  {
   "cell_type": "code",
   "execution_count": 19,
   "metadata": {},
   "outputs": [],
   "source": [
    "best_model = None\n",
    "best_result = 0\n",
    "best_coef = 0\n",
    "\n",
    "for coef in np.arange(1.0, 11.0):\n",
    "    model_logistic = LogisticRegression(C=coef, solver='liblinear', class_weight='balanced', max_iter=1000, random_state=12345)\n",
    "    model_logistic.fit(features_train, target_train)\n",
    "    \n",
    "    result = model_logistic.score(features_valid, target_valid)\n",
    "    \n",
    "    if result > best_result:\n",
    "        best_model = model_logistic\n",
    "        best_result = result\n",
    "        best_coef = coef"
   ]
  },
  {
   "cell_type": "code",
   "execution_count": 20,
   "metadata": {},
   "outputs": [
    {
     "name": "stdout",
     "output_type": "stream",
     "text": [
      "LogisticRegression(C=5.0, class_weight='balanced', max_iter=1000,\n",
      "                   random_state=12345, solver='liblinear')\n",
      "0.6236391912908242\n",
      "5.0\n"
     ]
    }
   ],
   "source": [
    "print(best_model)\n",
    "print(best_result)\n",
    "print(best_coef)"
   ]
  },
  {
   "cell_type": "markdown",
   "metadata": {},
   "source": [
    "**Вывод:**\n",
    "- Для решающего дерева наилучшего accuracy удалось добиться при параметре `max_depth` равном 5.\n",
    "- Случайный лес выдает наилучший результат при `n_estimators` = 13.\n",
    "- Логистическая регрессия - при коэффициенте регуляризации `C` = 1.\n",
    "\n",
    "- Также для логистической регрессии рассмотрели параметр `solver`. Изменение параметра не улучшает качество модели.\n",
    "- При изменении параметра `class_weight` логистической регрессии качество модели ухудшается."
   ]
  },
  {
   "cell_type": "markdown",
   "metadata": {},
   "source": [
    "## Проверьте модель на тестовой выборке"
   ]
  },
  {
   "cell_type": "code",
   "execution_count": 21,
   "metadata": {},
   "outputs": [
    {
     "data": {
      "text/plain": [
       "0.7589424572317263"
      ]
     },
     "execution_count": 21,
     "metadata": {},
     "output_type": "execute_result"
    }
   ],
   "source": [
    "# tree classifier\n",
    "result = best_model_tree.score(features_test, target_test)\n",
    "result"
   ]
  },
  {
   "cell_type": "code",
   "execution_count": 22,
   "metadata": {},
   "outputs": [
    {
     "data": {
      "text/plain": [
       "0.7776049766718507"
      ]
     },
     "execution_count": 22,
     "metadata": {},
     "output_type": "execute_result"
    }
   ],
   "source": [
    "# random forest classifier\n",
    "result = best_model_forest.score(features_test, target_test)\n",
    "result"
   ]
  },
  {
   "cell_type": "code",
   "execution_count": 23,
   "metadata": {},
   "outputs": [
    {
     "data": {
      "text/plain": [
       "0.7262830482115086"
      ]
     },
     "execution_count": 23,
     "metadata": {},
     "output_type": "execute_result"
    }
   ],
   "source": [
    "# logistic regression\n",
    "result = best_model_logistic.score(features_test, target_test)\n",
    "result"
   ]
  },
  {
   "cell_type": "markdown",
   "metadata": {},
   "source": [
    "## (бонус) Проверьте модели на адекватность"
   ]
  },
  {
   "cell_type": "code",
   "execution_count": 24,
   "metadata": {},
   "outputs": [
    {
     "data": {
      "text/plain": [
       "0    0.693528\n",
       "1    0.306472\n",
       "Name: is_ultra, dtype: float64"
      ]
     },
     "execution_count": 24,
     "metadata": {},
     "output_type": "execute_result"
    }
   ],
   "source": [
    "tariffs['is_ultra'].value_counts() / len(tariffs)"
   ]
  },
  {
   "cell_type": "markdown",
   "metadata": {},
   "source": [
    "Чтобы проверить модель на адекватность, можно посмотреть, какие доли занимают значения целевого признака (`is_ultra`). Значение наибольшей доли будет минимальной границей для модели, на которую можно ориентироваться. В нашем случае - это 0.69, следовательно значение `accuracy` для моделей не должно быть меньше него."
   ]
  }
 ],
 "metadata": {
  "ExecuteTimeLog": [
   {
    "duration": 1335,
    "start_time": "2023-01-18T13:27:07.266Z"
   },
   {
    "duration": 4,
    "start_time": "2023-01-18T13:27:22.662Z"
   },
   {
    "duration": 48,
    "start_time": "2023-01-18T13:28:32.090Z"
   },
   {
    "duration": 142,
    "start_time": "2023-01-18T13:28:56.657Z"
   },
   {
    "duration": 12,
    "start_time": "2023-01-18T13:29:10.232Z"
   },
   {
    "duration": 4,
    "start_time": "2023-01-18T13:32:49.062Z"
   },
   {
    "duration": 46,
    "start_time": "2023-01-18T13:32:49.707Z"
   },
   {
    "duration": 16,
    "start_time": "2023-01-18T13:32:50.612Z"
   },
   {
    "duration": 5,
    "start_time": "2023-01-18T13:37:07.488Z"
   },
   {
    "duration": 5,
    "start_time": "2023-01-18T13:37:27.179Z"
   },
   {
    "duration": 5,
    "start_time": "2023-01-18T13:37:48.259Z"
   },
   {
    "duration": 5,
    "start_time": "2023-01-18T13:39:22.848Z"
   },
   {
    "duration": 4,
    "start_time": "2023-01-18T13:39:37.538Z"
   },
   {
    "duration": 4,
    "start_time": "2023-01-18T13:39:48.768Z"
   },
   {
    "duration": 4,
    "start_time": "2023-01-18T13:40:00.484Z"
   },
   {
    "duration": 1094,
    "start_time": "2023-01-18T13:40:45.369Z"
   },
   {
    "duration": 43,
    "start_time": "2023-01-18T13:40:46.465Z"
   },
   {
    "duration": 11,
    "start_time": "2023-01-18T13:40:46.510Z"
   },
   {
    "duration": 19,
    "start_time": "2023-01-18T13:40:46.524Z"
   },
   {
    "duration": 12,
    "start_time": "2023-01-18T13:40:46.544Z"
   },
   {
    "duration": 17,
    "start_time": "2023-01-18T13:40:46.558Z"
   },
   {
    "duration": 16,
    "start_time": "2023-01-18T13:40:46.576Z"
   },
   {
    "duration": 3,
    "start_time": "2023-01-18T14:17:12.280Z"
   },
   {
    "duration": 1118,
    "start_time": "2023-01-18T14:23:01.085Z"
   },
   {
    "duration": 43,
    "start_time": "2023-01-18T14:23:02.205Z"
   },
   {
    "duration": 11,
    "start_time": "2023-01-18T14:23:02.250Z"
   },
   {
    "duration": 44,
    "start_time": "2023-01-18T14:23:02.263Z"
   },
   {
    "duration": 43,
    "start_time": "2023-01-18T14:23:02.309Z"
   },
   {
    "duration": 23,
    "start_time": "2023-01-18T14:23:02.354Z"
   },
   {
    "duration": 26,
    "start_time": "2023-01-18T14:23:02.378Z"
   },
   {
    "duration": 17,
    "start_time": "2023-01-18T14:23:02.406Z"
   },
   {
    "duration": 73,
    "start_time": "2023-01-18T14:23:02.425Z"
   },
   {
    "duration": 29,
    "start_time": "2023-01-18T14:23:02.500Z"
   },
   {
    "duration": 200,
    "start_time": "2023-01-18T14:23:02.531Z"
   },
   {
    "duration": 65,
    "start_time": "2023-01-18T14:27:52.331Z"
   },
   {
    "duration": 15,
    "start_time": "2023-01-18T14:27:58.694Z"
   },
   {
    "duration": 13,
    "start_time": "2023-01-18T14:30:31.034Z"
   },
   {
    "duration": 1110,
    "start_time": "2023-01-18T14:30:43.289Z"
   },
   {
    "duration": 46,
    "start_time": "2023-01-18T14:30:44.401Z"
   },
   {
    "duration": 12,
    "start_time": "2023-01-18T14:30:44.450Z"
   },
   {
    "duration": 16,
    "start_time": "2023-01-18T14:30:44.464Z"
   },
   {
    "duration": 7,
    "start_time": "2023-01-18T14:30:44.483Z"
   },
   {
    "duration": 19,
    "start_time": "2023-01-18T14:30:44.492Z"
   },
   {
    "duration": 10,
    "start_time": "2023-01-18T14:30:44.513Z"
   },
   {
    "duration": 14,
    "start_time": "2023-01-18T14:30:44.525Z"
   },
   {
    "duration": 25,
    "start_time": "2023-01-18T14:30:44.541Z"
   },
   {
    "duration": 11,
    "start_time": "2023-01-18T14:30:44.567Z"
   },
   {
    "duration": 29,
    "start_time": "2023-01-18T14:30:44.579Z"
   },
   {
    "duration": 14,
    "start_time": "2023-01-18T14:31:24.987Z"
   },
   {
    "duration": 6,
    "start_time": "2023-01-18T14:31:45.990Z"
   },
   {
    "duration": 11,
    "start_time": "2023-01-18T14:32:00.785Z"
   },
   {
    "duration": 15,
    "start_time": "2023-01-18T14:32:46.395Z"
   },
   {
    "duration": 5,
    "start_time": "2023-01-18T14:33:03.188Z"
   },
   {
    "duration": 16,
    "start_time": "2023-01-18T14:33:35.117Z"
   },
   {
    "duration": 142,
    "start_time": "2023-01-18T14:34:17.396Z"
   },
   {
    "duration": 32,
    "start_time": "2023-01-18T14:34:34.037Z"
   },
   {
    "duration": 36,
    "start_time": "2023-01-18T14:34:57.247Z"
   },
   {
    "duration": 4,
    "start_time": "2023-01-18T14:36:58.449Z"
   },
   {
    "duration": 3,
    "start_time": "2023-01-18T14:38:57.388Z"
   },
   {
    "duration": 79,
    "start_time": "2023-01-18T14:39:14.692Z"
   },
   {
    "duration": 91,
    "start_time": "2023-01-18T14:39:52.537Z"
   },
   {
    "duration": 99,
    "start_time": "2023-01-18T14:40:13.684Z"
   },
   {
    "duration": 1146,
    "start_time": "2023-01-18T14:40:19.341Z"
   },
   {
    "duration": 46,
    "start_time": "2023-01-18T14:40:20.490Z"
   },
   {
    "duration": 16,
    "start_time": "2023-01-18T14:40:20.538Z"
   },
   {
    "duration": 7,
    "start_time": "2023-01-18T14:40:20.556Z"
   },
   {
    "duration": 12,
    "start_time": "2023-01-18T14:40:20.566Z"
   },
   {
    "duration": 19,
    "start_time": "2023-01-18T14:40:20.579Z"
   },
   {
    "duration": 17,
    "start_time": "2023-01-18T14:40:20.600Z"
   },
   {
    "duration": 19,
    "start_time": "2023-01-18T14:40:20.619Z"
   },
   {
    "duration": 11,
    "start_time": "2023-01-18T14:40:20.641Z"
   },
   {
    "duration": 9,
    "start_time": "2023-01-18T14:40:20.654Z"
   },
   {
    "duration": 88,
    "start_time": "2023-01-18T14:40:20.665Z"
   },
   {
    "duration": 74,
    "start_time": "2023-01-18T14:46:06.588Z"
   },
   {
    "duration": 72,
    "start_time": "2023-01-18T14:46:31.681Z"
   },
   {
    "duration": 86,
    "start_time": "2023-01-18T14:50:11.083Z"
   },
   {
    "duration": 335,
    "start_time": "2023-01-18T14:50:24.192Z"
   },
   {
    "duration": 326,
    "start_time": "2023-01-18T14:50:58.070Z"
   },
   {
    "duration": 1080,
    "start_time": "2023-01-18T14:51:09.103Z"
   },
   {
    "duration": 340,
    "start_time": "2023-01-18T14:51:22.224Z"
   },
   {
    "duration": 307,
    "start_time": "2023-01-18T14:51:30.322Z"
   },
   {
    "duration": 4,
    "start_time": "2023-01-18T14:53:32.073Z"
   },
   {
    "duration": 54,
    "start_time": "2023-01-20T11:33:03.662Z"
   },
   {
    "duration": 1257,
    "start_time": "2023-01-20T11:33:09.395Z"
   },
   {
    "duration": 146,
    "start_time": "2023-01-20T11:33:10.654Z"
   },
   {
    "duration": 12,
    "start_time": "2023-01-20T11:33:10.801Z"
   },
   {
    "duration": 14,
    "start_time": "2023-01-20T11:33:10.815Z"
   },
   {
    "duration": 20,
    "start_time": "2023-01-20T11:33:10.831Z"
   },
   {
    "duration": 20,
    "start_time": "2023-01-20T11:33:10.852Z"
   },
   {
    "duration": 27,
    "start_time": "2023-01-20T11:33:10.874Z"
   },
   {
    "duration": 24,
    "start_time": "2023-01-20T11:33:10.903Z"
   },
   {
    "duration": 23,
    "start_time": "2023-01-20T11:33:10.930Z"
   },
   {
    "duration": 24,
    "start_time": "2023-01-20T11:33:10.956Z"
   },
   {
    "duration": 92,
    "start_time": "2023-01-20T11:33:10.981Z"
   },
   {
    "duration": 316,
    "start_time": "2023-01-20T11:33:11.074Z"
   },
   {
    "duration": 113,
    "start_time": "2023-01-20T11:33:11.392Z"
   },
   {
    "duration": 16,
    "start_time": "2023-01-20T11:34:25.918Z"
   },
   {
    "duration": 273,
    "start_time": "2023-01-20T11:35:22.123Z"
   },
   {
    "duration": 240,
    "start_time": "2023-01-20T11:35:59.444Z"
   },
   {
    "duration": 194,
    "start_time": "2023-01-20T11:36:18.046Z"
   },
   {
    "duration": 320,
    "start_time": "2023-01-20T11:36:33.022Z"
   },
   {
    "duration": 281,
    "start_time": "2023-01-20T11:36:54.000Z"
   },
   {
    "duration": 382,
    "start_time": "2023-01-20T11:41:01.015Z"
   },
   {
    "duration": 358,
    "start_time": "2023-01-20T11:41:19.019Z"
   },
   {
    "duration": 304,
    "start_time": "2023-01-20T11:42:25.654Z"
   },
   {
    "duration": 324,
    "start_time": "2023-01-20T11:43:05.066Z"
   },
   {
    "duration": 32393,
    "start_time": "2023-01-20T11:43:25.669Z"
   },
   {
    "duration": 312,
    "start_time": "2023-01-20T11:44:03.794Z"
   },
   {
    "duration": 330,
    "start_time": "2023-01-20T11:46:21.731Z"
   },
   {
    "duration": 295,
    "start_time": "2023-01-20T11:48:01.620Z"
   },
   {
    "duration": 256,
    "start_time": "2023-01-20T11:48:16.486Z"
   },
   {
    "duration": 4,
    "start_time": "2023-01-20T11:48:42.373Z"
   },
   {
    "duration": 592,
    "start_time": "2023-01-20T11:49:02.542Z"
   },
   {
    "duration": 309,
    "start_time": "2023-01-20T11:49:44.739Z"
   },
   {
    "duration": 294,
    "start_time": "2023-01-20T11:49:58.814Z"
   },
   {
    "duration": 308,
    "start_time": "2023-01-20T11:51:51.476Z"
   },
   {
    "duration": 615,
    "start_time": "2023-01-20T11:52:03.845Z"
   },
   {
    "duration": 497,
    "start_time": "2023-01-20T11:52:23.959Z"
   },
   {
    "duration": 600,
    "start_time": "2023-01-20T11:52:46.506Z"
   },
   {
    "duration": 345,
    "start_time": "2023-01-20T11:52:57.748Z"
   },
   {
    "duration": 1139,
    "start_time": "2023-01-20T13:27:01.883Z"
   },
   {
    "duration": 48,
    "start_time": "2023-01-20T13:27:03.024Z"
   },
   {
    "duration": 13,
    "start_time": "2023-01-20T13:27:03.074Z"
   },
   {
    "duration": 18,
    "start_time": "2023-01-20T13:27:03.088Z"
   },
   {
    "duration": 6,
    "start_time": "2023-01-20T13:27:03.109Z"
   },
   {
    "duration": 12,
    "start_time": "2023-01-20T13:27:03.117Z"
   },
   {
    "duration": 9,
    "start_time": "2023-01-20T13:27:03.131Z"
   },
   {
    "duration": 25,
    "start_time": "2023-01-20T13:27:03.142Z"
   },
   {
    "duration": 8,
    "start_time": "2023-01-20T13:27:03.169Z"
   },
   {
    "duration": 8,
    "start_time": "2023-01-20T13:27:03.179Z"
   },
   {
    "duration": 69,
    "start_time": "2023-01-20T13:27:03.189Z"
   },
   {
    "duration": 260,
    "start_time": "2023-01-20T13:27:03.260Z"
   },
   {
    "duration": 327,
    "start_time": "2023-01-20T13:27:03.522Z"
   },
   {
    "duration": 5,
    "start_time": "2023-01-20T13:28:18.139Z"
   },
   {
    "duration": 3,
    "start_time": "2023-01-20T13:28:47.399Z"
   },
   {
    "duration": 3,
    "start_time": "2023-01-20T13:29:21.928Z"
   },
   {
    "duration": 1111,
    "start_time": "2023-01-20T13:29:43.863Z"
   },
   {
    "duration": 56,
    "start_time": "2023-01-20T13:29:44.976Z"
   },
   {
    "duration": 12,
    "start_time": "2023-01-20T13:29:45.034Z"
   },
   {
    "duration": 11,
    "start_time": "2023-01-20T13:29:45.049Z"
   },
   {
    "duration": 12,
    "start_time": "2023-01-20T13:29:45.062Z"
   },
   {
    "duration": 17,
    "start_time": "2023-01-20T13:29:45.076Z"
   },
   {
    "duration": 22,
    "start_time": "2023-01-20T13:29:45.095Z"
   },
   {
    "duration": 9,
    "start_time": "2023-01-20T13:29:45.120Z"
   },
   {
    "duration": 6,
    "start_time": "2023-01-20T13:29:45.131Z"
   },
   {
    "duration": 5,
    "start_time": "2023-01-20T13:29:45.140Z"
   },
   {
    "duration": 81,
    "start_time": "2023-01-20T13:29:45.147Z"
   },
   {
    "duration": 4,
    "start_time": "2023-01-20T13:29:45.230Z"
   },
   {
    "duration": 294,
    "start_time": "2023-01-20T13:29:45.236Z"
   },
   {
    "duration": 4,
    "start_time": "2023-01-20T13:29:45.532Z"
   },
   {
    "duration": 415,
    "start_time": "2023-01-20T13:29:45.538Z"
   },
   {
    "duration": 4,
    "start_time": "2023-01-20T13:29:45.955Z"
   },
   {
    "duration": 304,
    "start_time": "2023-01-20T13:30:52.811Z"
   },
   {
    "duration": 4,
    "start_time": "2023-01-20T13:30:54.018Z"
   },
   {
    "duration": 109,
    "start_time": "2023-01-20T13:33:16.647Z"
   },
   {
    "duration": 303,
    "start_time": "2023-01-20T13:33:53.224Z"
   },
   {
    "duration": 4,
    "start_time": "2023-01-20T13:33:57.726Z"
   },
   {
    "duration": 311,
    "start_time": "2023-01-20T13:34:08.791Z"
   },
   {
    "duration": 4,
    "start_time": "2023-01-20T13:34:09.660Z"
   },
   {
    "duration": 301,
    "start_time": "2023-01-20T13:43:07.551Z"
   },
   {
    "duration": 332,
    "start_time": "2023-01-20T13:43:57.210Z"
   },
   {
    "duration": 317,
    "start_time": "2023-01-20T13:44:08.958Z"
   },
   {
    "duration": 337,
    "start_time": "2023-01-20T13:45:21.747Z"
   },
   {
    "duration": 338,
    "start_time": "2023-01-20T13:45:30.122Z"
   },
   {
    "duration": 1197,
    "start_time": "2023-01-20T13:45:45.005Z"
   },
   {
    "duration": 47,
    "start_time": "2023-01-20T13:45:46.204Z"
   },
   {
    "duration": 12,
    "start_time": "2023-01-20T13:45:46.253Z"
   },
   {
    "duration": 26,
    "start_time": "2023-01-20T13:45:46.267Z"
   },
   {
    "duration": 8,
    "start_time": "2023-01-20T13:45:46.296Z"
   },
   {
    "duration": 20,
    "start_time": "2023-01-20T13:45:46.306Z"
   },
   {
    "duration": 17,
    "start_time": "2023-01-20T13:45:46.328Z"
   },
   {
    "duration": 17,
    "start_time": "2023-01-20T13:45:46.347Z"
   },
   {
    "duration": 26,
    "start_time": "2023-01-20T13:45:46.366Z"
   },
   {
    "duration": 19,
    "start_time": "2023-01-20T13:45:46.394Z"
   },
   {
    "duration": 92,
    "start_time": "2023-01-20T13:45:46.415Z"
   },
   {
    "duration": 5,
    "start_time": "2023-01-20T13:45:46.509Z"
   },
   {
    "duration": 299,
    "start_time": "2023-01-20T13:45:46.515Z"
   },
   {
    "duration": 4,
    "start_time": "2023-01-20T13:45:46.817Z"
   },
   {
    "duration": 370,
    "start_time": "2023-01-20T13:45:46.823Z"
   },
   {
    "duration": 4,
    "start_time": "2023-01-20T13:45:47.194Z"
   },
   {
    "duration": 3,
    "start_time": "2023-01-20T13:46:28.598Z"
   },
   {
    "duration": 1160,
    "start_time": "2023-01-20T13:47:19.346Z"
   },
   {
    "duration": 50,
    "start_time": "2023-01-20T13:47:20.508Z"
   },
   {
    "duration": 14,
    "start_time": "2023-01-20T13:47:20.563Z"
   },
   {
    "duration": 11,
    "start_time": "2023-01-20T13:47:20.579Z"
   },
   {
    "duration": 11,
    "start_time": "2023-01-20T13:47:20.593Z"
   },
   {
    "duration": 6,
    "start_time": "2023-01-20T13:47:20.606Z"
   },
   {
    "duration": 15,
    "start_time": "2023-01-20T13:47:20.614Z"
   },
   {
    "duration": 12,
    "start_time": "2023-01-20T13:47:20.631Z"
   },
   {
    "duration": 38,
    "start_time": "2023-01-20T13:47:20.646Z"
   },
   {
    "duration": 8,
    "start_time": "2023-01-20T13:47:20.686Z"
   },
   {
    "duration": 89,
    "start_time": "2023-01-20T13:47:20.696Z"
   },
   {
    "duration": 6,
    "start_time": "2023-01-20T13:47:20.788Z"
   },
   {
    "duration": 316,
    "start_time": "2023-01-20T13:47:20.797Z"
   },
   {
    "duration": 6,
    "start_time": "2023-01-20T13:47:21.115Z"
   },
   {
    "duration": 355,
    "start_time": "2023-01-20T13:47:21.123Z"
   },
   {
    "duration": 4,
    "start_time": "2023-01-20T13:47:21.480Z"
   },
   {
    "duration": 6,
    "start_time": "2023-01-20T13:47:21.486Z"
   },
   {
    "duration": 15,
    "start_time": "2023-01-20T13:47:21.493Z"
   },
   {
    "duration": 13,
    "start_time": "2023-01-20T13:47:21.510Z"
   },
   {
    "duration": 1007,
    "start_time": "2023-01-20T13:57:51.101Z"
   },
   {
    "duration": 146,
    "start_time": "2023-01-20T13:57:52.110Z"
   },
   {
    "duration": 10,
    "start_time": "2023-01-20T13:57:52.258Z"
   },
   {
    "duration": 11,
    "start_time": "2023-01-20T13:57:52.269Z"
   },
   {
    "duration": 17,
    "start_time": "2023-01-20T13:57:52.281Z"
   },
   {
    "duration": 9,
    "start_time": "2023-01-20T13:57:52.300Z"
   },
   {
    "duration": 6,
    "start_time": "2023-01-20T13:57:52.311Z"
   },
   {
    "duration": 5,
    "start_time": "2023-01-20T13:57:52.319Z"
   },
   {
    "duration": 17,
    "start_time": "2023-01-20T13:57:52.325Z"
   },
   {
    "duration": 16,
    "start_time": "2023-01-20T13:57:52.343Z"
   },
   {
    "duration": 63,
    "start_time": "2023-01-20T13:57:52.360Z"
   },
   {
    "duration": 4,
    "start_time": "2023-01-20T13:57:52.424Z"
   },
   {
    "duration": 249,
    "start_time": "2023-01-20T13:57:52.429Z"
   },
   {
    "duration": 3,
    "start_time": "2023-01-20T13:57:52.681Z"
   },
   {
    "duration": 321,
    "start_time": "2023-01-20T13:57:52.685Z"
   },
   {
    "duration": 3,
    "start_time": "2023-01-20T13:57:53.008Z"
   },
   {
    "duration": 108,
    "start_time": "2023-01-20T13:57:53.012Z"
   },
   {
    "duration": 0,
    "start_time": "2023-01-20T13:57:53.121Z"
   },
   {
    "duration": 0,
    "start_time": "2023-01-20T13:57:53.122Z"
   },
   {
    "duration": 0,
    "start_time": "2023-01-20T13:57:53.123Z"
   },
   {
    "duration": 0,
    "start_time": "2023-01-20T13:57:53.124Z"
   },
   {
    "duration": 0,
    "start_time": "2023-01-20T13:57:53.125Z"
   },
   {
    "duration": 1107,
    "start_time": "2023-01-20T13:58:32.889Z"
   },
   {
    "duration": 49,
    "start_time": "2023-01-20T13:58:33.998Z"
   },
   {
    "duration": 10,
    "start_time": "2023-01-20T13:58:34.048Z"
   },
   {
    "duration": 4,
    "start_time": "2023-01-20T13:58:34.060Z"
   },
   {
    "duration": 3,
    "start_time": "2023-01-20T13:58:34.067Z"
   },
   {
    "duration": 8,
    "start_time": "2023-01-20T13:58:34.072Z"
   },
   {
    "duration": 6,
    "start_time": "2023-01-20T13:58:34.081Z"
   },
   {
    "duration": 16,
    "start_time": "2023-01-20T13:58:34.088Z"
   },
   {
    "duration": 12,
    "start_time": "2023-01-20T13:58:34.107Z"
   },
   {
    "duration": 7,
    "start_time": "2023-01-20T13:58:34.123Z"
   },
   {
    "duration": 79,
    "start_time": "2023-01-20T13:58:34.132Z"
   },
   {
    "duration": 4,
    "start_time": "2023-01-20T13:58:34.213Z"
   },
   {
    "duration": 261,
    "start_time": "2023-01-20T13:58:34.219Z"
   },
   {
    "duration": 4,
    "start_time": "2023-01-20T13:58:34.483Z"
   },
   {
    "duration": 325,
    "start_time": "2023-01-20T13:58:34.488Z"
   },
   {
    "duration": 4,
    "start_time": "2023-01-20T13:58:34.815Z"
   },
   {
    "duration": 11,
    "start_time": "2023-01-20T13:58:34.820Z"
   },
   {
    "duration": 16,
    "start_time": "2023-01-20T13:58:34.832Z"
   },
   {
    "duration": 8,
    "start_time": "2023-01-20T13:58:34.849Z"
   },
   {
    "duration": 7,
    "start_time": "2023-01-20T13:58:34.859Z"
   },
   {
    "duration": 13,
    "start_time": "2023-01-20T13:58:34.867Z"
   },
   {
    "duration": 7,
    "start_time": "2023-01-20T13:58:34.881Z"
   },
   {
    "duration": 308,
    "start_time": "2023-01-20T13:59:17.336Z"
   },
   {
    "duration": 4,
    "start_time": "2023-01-20T13:59:22.150Z"
   },
   {
    "duration": 6,
    "start_time": "2023-01-20T13:59:29.891Z"
   },
   {
    "duration": 4,
    "start_time": "2023-01-20T13:59:31.287Z"
   },
   {
    "duration": 1073,
    "start_time": "2023-01-20T13:59:42.366Z"
   },
   {
    "duration": 42,
    "start_time": "2023-01-20T13:59:43.441Z"
   },
   {
    "duration": 10,
    "start_time": "2023-01-20T13:59:43.484Z"
   },
   {
    "duration": 9,
    "start_time": "2023-01-20T13:59:43.495Z"
   },
   {
    "duration": 7,
    "start_time": "2023-01-20T13:59:43.506Z"
   },
   {
    "duration": 5,
    "start_time": "2023-01-20T13:59:43.515Z"
   },
   {
    "duration": 11,
    "start_time": "2023-01-20T13:59:43.522Z"
   },
   {
    "duration": 5,
    "start_time": "2023-01-20T13:59:43.534Z"
   },
   {
    "duration": 9,
    "start_time": "2023-01-20T13:59:43.540Z"
   },
   {
    "duration": 11,
    "start_time": "2023-01-20T13:59:43.550Z"
   },
   {
    "duration": 66,
    "start_time": "2023-01-20T13:59:43.563Z"
   },
   {
    "duration": 4,
    "start_time": "2023-01-20T13:59:43.631Z"
   },
   {
    "duration": 262,
    "start_time": "2023-01-20T13:59:43.636Z"
   },
   {
    "duration": 4,
    "start_time": "2023-01-20T13:59:43.900Z"
   },
   {
    "duration": 331,
    "start_time": "2023-01-20T13:59:43.905Z"
   },
   {
    "duration": 12,
    "start_time": "2023-01-20T13:59:44.237Z"
   },
   {
    "duration": 8,
    "start_time": "2023-01-20T13:59:44.251Z"
   },
   {
    "duration": 5,
    "start_time": "2023-01-20T13:59:44.261Z"
   },
   {
    "duration": 12,
    "start_time": "2023-01-20T13:59:44.268Z"
   },
   {
    "duration": 5,
    "start_time": "2023-01-20T13:59:44.282Z"
   },
   {
    "duration": 7,
    "start_time": "2023-01-20T13:59:44.288Z"
   },
   {
    "duration": 6,
    "start_time": "2023-01-20T13:59:44.296Z"
   },
   {
    "duration": 125,
    "start_time": "2023-01-20T14:00:07.561Z"
   },
   {
    "duration": 220,
    "start_time": "2023-01-20T14:00:21.511Z"
   },
   {
    "duration": 3,
    "start_time": "2023-01-20T14:00:34.082Z"
   },
   {
    "duration": 6,
    "start_time": "2023-01-20T14:00:44.409Z"
   },
   {
    "duration": 4,
    "start_time": "2023-01-20T14:00:45.429Z"
   },
   {
    "duration": 219,
    "start_time": "2023-01-20T14:01:40.203Z"
   },
   {
    "duration": 222,
    "start_time": "2023-01-20T14:01:47.864Z"
   },
   {
    "duration": 75,
    "start_time": "2023-01-20T14:05:12.360Z"
   },
   {
    "duration": 3,
    "start_time": "2023-01-20T14:05:20.061Z"
   },
   {
    "duration": 5,
    "start_time": "2023-01-20T14:05:27.353Z"
   },
   {
    "duration": 4,
    "start_time": "2023-01-20T14:05:28.245Z"
   },
   {
    "duration": 218,
    "start_time": "2023-01-20T14:05:39.620Z"
   },
   {
    "duration": 4,
    "start_time": "2023-01-20T14:05:42.809Z"
   },
   {
    "duration": 6,
    "start_time": "2023-01-20T14:05:53.130Z"
   },
   {
    "duration": 3,
    "start_time": "2023-01-20T14:06:25.226Z"
   },
   {
    "duration": 944,
    "start_time": "2023-01-20T14:06:55.144Z"
   },
   {
    "duration": 4,
    "start_time": "2023-01-20T14:07:09.400Z"
   },
   {
    "duration": 5,
    "start_time": "2023-01-20T14:07:13.929Z"
   },
   {
    "duration": 4,
    "start_time": "2023-01-20T14:07:29.475Z"
   },
   {
    "duration": 14,
    "start_time": "2023-01-20T14:07:57.786Z"
   },
   {
    "duration": 1581,
    "start_time": "2023-01-20T14:08:16.716Z"
   },
   {
    "duration": 4,
    "start_time": "2023-01-20T14:08:22.849Z"
   },
   {
    "duration": 5,
    "start_time": "2023-01-20T14:08:28.569Z"
   },
   {
    "duration": 3,
    "start_time": "2023-01-20T14:08:42.509Z"
   },
   {
    "duration": 1845,
    "start_time": "2023-01-20T14:08:54.203Z"
   },
   {
    "duration": 3,
    "start_time": "2023-01-20T14:09:01.045Z"
   },
   {
    "duration": 5,
    "start_time": "2023-01-20T14:09:08.145Z"
   },
   {
    "duration": 3,
    "start_time": "2023-01-20T14:09:22.532Z"
   },
   {
    "duration": 72,
    "start_time": "2023-01-20T14:10:08.193Z"
   },
   {
    "duration": 3,
    "start_time": "2023-01-20T14:10:17.449Z"
   },
   {
    "duration": 4,
    "start_time": "2023-01-20T14:10:23.542Z"
   },
   {
    "duration": 4,
    "start_time": "2023-01-20T14:10:25.999Z"
   },
   {
    "duration": 74,
    "start_time": "2023-01-20T14:10:41.545Z"
   },
   {
    "duration": 3,
    "start_time": "2023-01-20T14:10:47.652Z"
   },
   {
    "duration": 6,
    "start_time": "2023-01-20T14:10:52.521Z"
   },
   {
    "duration": 4,
    "start_time": "2023-01-20T14:10:53.158Z"
   },
   {
    "duration": 74,
    "start_time": "2023-01-20T14:13:14.845Z"
   },
   {
    "duration": 4,
    "start_time": "2023-01-20T14:13:19.159Z"
   },
   {
    "duration": 6,
    "start_time": "2023-01-20T14:13:27.238Z"
   },
   {
    "duration": 4,
    "start_time": "2023-01-20T14:13:29.207Z"
   },
   {
    "duration": 143,
    "start_time": "2023-01-20T14:14:28.076Z"
   },
   {
    "duration": 4,
    "start_time": "2023-01-20T14:14:36.002Z"
   },
   {
    "duration": 417,
    "start_time": "2023-01-20T14:14:54.149Z"
   },
   {
    "duration": 4,
    "start_time": "2023-01-20T14:15:00.388Z"
   },
   {
    "duration": 137,
    "start_time": "2023-01-20T14:15:17.981Z"
   },
   {
    "duration": 3,
    "start_time": "2023-01-20T14:15:23.173Z"
   },
   {
    "duration": 210,
    "start_time": "2023-01-20T14:15:37.992Z"
   },
   {
    "duration": 3,
    "start_time": "2023-01-20T14:15:42.183Z"
   },
   {
    "duration": 4,
    "start_time": "2023-01-20T14:15:53.207Z"
   },
   {
    "duration": 4,
    "start_time": "2023-01-20T14:15:56.058Z"
   },
   {
    "duration": 6,
    "start_time": "2023-01-20T14:17:42.928Z"
   },
   {
    "duration": 1092,
    "start_time": "2023-01-20T14:18:01.421Z"
   },
   {
    "duration": 46,
    "start_time": "2023-01-20T14:18:02.515Z"
   },
   {
    "duration": 11,
    "start_time": "2023-01-20T14:18:02.563Z"
   },
   {
    "duration": 11,
    "start_time": "2023-01-20T14:18:02.575Z"
   },
   {
    "duration": 4,
    "start_time": "2023-01-20T14:18:02.588Z"
   },
   {
    "duration": 6,
    "start_time": "2023-01-20T14:18:02.593Z"
   },
   {
    "duration": 5,
    "start_time": "2023-01-20T14:18:02.601Z"
   },
   {
    "duration": 5,
    "start_time": "2023-01-20T14:18:02.607Z"
   },
   {
    "duration": 6,
    "start_time": "2023-01-20T14:18:02.614Z"
   },
   {
    "duration": 27,
    "start_time": "2023-01-20T14:18:02.621Z"
   },
   {
    "duration": 72,
    "start_time": "2023-01-20T14:18:02.650Z"
   },
   {
    "duration": 4,
    "start_time": "2023-01-20T14:18:02.723Z"
   },
   {
    "duration": 285,
    "start_time": "2023-01-20T14:18:02.729Z"
   },
   {
    "duration": 4,
    "start_time": "2023-01-20T14:18:03.017Z"
   },
   {
    "duration": 237,
    "start_time": "2023-01-20T14:18:03.023Z"
   },
   {
    "duration": 4,
    "start_time": "2023-01-20T14:18:03.262Z"
   },
   {
    "duration": 7,
    "start_time": "2023-01-20T14:18:03.267Z"
   },
   {
    "duration": 8,
    "start_time": "2023-01-20T14:18:03.275Z"
   },
   {
    "duration": 8,
    "start_time": "2023-01-20T14:18:03.285Z"
   },
   {
    "duration": 6,
    "start_time": "2023-01-20T14:18:03.294Z"
   },
   {
    "duration": 10,
    "start_time": "2023-01-20T14:18:03.302Z"
   },
   {
    "duration": 12,
    "start_time": "2023-01-20T14:18:03.313Z"
   },
   {
    "duration": 1114,
    "start_time": "2023-01-21T17:24:46.769Z"
   },
   {
    "duration": 78,
    "start_time": "2023-01-21T17:24:47.885Z"
   },
   {
    "duration": 10,
    "start_time": "2023-01-21T17:24:47.965Z"
   },
   {
    "duration": 9,
    "start_time": "2023-01-21T17:24:47.978Z"
   },
   {
    "duration": 4,
    "start_time": "2023-01-21T17:24:47.988Z"
   },
   {
    "duration": 7,
    "start_time": "2023-01-21T17:24:47.994Z"
   },
   {
    "duration": 6,
    "start_time": "2023-01-21T17:24:48.002Z"
   },
   {
    "duration": 9,
    "start_time": "2023-01-21T17:24:48.009Z"
   },
   {
    "duration": 7,
    "start_time": "2023-01-21T17:24:48.019Z"
   },
   {
    "duration": 7,
    "start_time": "2023-01-21T17:24:48.028Z"
   },
   {
    "duration": 110,
    "start_time": "2023-01-21T17:24:48.037Z"
   },
   {
    "duration": 0,
    "start_time": "2023-01-21T17:24:48.149Z"
   },
   {
    "duration": 0,
    "start_time": "2023-01-21T17:24:48.151Z"
   },
   {
    "duration": 0,
    "start_time": "2023-01-21T17:24:48.153Z"
   },
   {
    "duration": 0,
    "start_time": "2023-01-21T17:24:48.154Z"
   },
   {
    "duration": 0,
    "start_time": "2023-01-21T17:24:48.156Z"
   },
   {
    "duration": 0,
    "start_time": "2023-01-21T17:24:48.157Z"
   },
   {
    "duration": 0,
    "start_time": "2023-01-21T17:24:48.158Z"
   },
   {
    "duration": 0,
    "start_time": "2023-01-21T17:24:48.159Z"
   },
   {
    "duration": 0,
    "start_time": "2023-01-21T17:24:48.161Z"
   },
   {
    "duration": 0,
    "start_time": "2023-01-21T17:24:48.162Z"
   },
   {
    "duration": 0,
    "start_time": "2023-01-21T17:24:48.163Z"
   },
   {
    "duration": 1102,
    "start_time": "2023-01-21T17:25:31.681Z"
   },
   {
    "duration": 40,
    "start_time": "2023-01-21T17:25:32.785Z"
   },
   {
    "duration": 10,
    "start_time": "2023-01-21T17:25:32.827Z"
   },
   {
    "duration": 6,
    "start_time": "2023-01-21T17:25:32.838Z"
   },
   {
    "duration": 12,
    "start_time": "2023-01-21T17:25:32.845Z"
   },
   {
    "duration": 20,
    "start_time": "2023-01-21T17:25:32.858Z"
   },
   {
    "duration": 9,
    "start_time": "2023-01-21T17:25:32.880Z"
   },
   {
    "duration": 8,
    "start_time": "2023-01-21T17:25:32.890Z"
   },
   {
    "duration": 6,
    "start_time": "2023-01-21T17:25:32.900Z"
   },
   {
    "duration": 11,
    "start_time": "2023-01-21T17:25:32.908Z"
   },
   {
    "duration": 76,
    "start_time": "2023-01-21T17:25:32.920Z"
   },
   {
    "duration": 4,
    "start_time": "2023-01-21T17:25:32.998Z"
   },
   {
    "duration": 260,
    "start_time": "2023-01-21T17:25:33.003Z"
   },
   {
    "duration": 3,
    "start_time": "2023-01-21T17:25:33.265Z"
   },
   {
    "duration": 261,
    "start_time": "2023-01-21T17:25:33.270Z"
   },
   {
    "duration": 4,
    "start_time": "2023-01-21T17:25:33.533Z"
   },
   {
    "duration": 17,
    "start_time": "2023-01-21T17:25:33.539Z"
   },
   {
    "duration": 8,
    "start_time": "2023-01-21T17:25:33.557Z"
   },
   {
    "duration": 9,
    "start_time": "2023-01-21T17:25:33.567Z"
   },
   {
    "duration": 6,
    "start_time": "2023-01-21T17:25:33.578Z"
   },
   {
    "duration": 11,
    "start_time": "2023-01-21T17:25:33.585Z"
   },
   {
    "duration": 7,
    "start_time": "2023-01-21T17:25:33.597Z"
   },
   {
    "duration": 6,
    "start_time": "2023-01-21T17:27:10.544Z"
   },
   {
    "duration": 6,
    "start_time": "2023-01-21T17:27:49.712Z"
   },
   {
    "duration": 9,
    "start_time": "2023-01-21T17:27:58.903Z"
   },
   {
    "duration": 9,
    "start_time": "2023-01-21T17:28:28.845Z"
   },
   {
    "duration": 1042,
    "start_time": "2023-01-21T17:28:57.951Z"
   },
   {
    "duration": 39,
    "start_time": "2023-01-21T17:28:58.995Z"
   },
   {
    "duration": 11,
    "start_time": "2023-01-21T17:28:59.035Z"
   },
   {
    "duration": 6,
    "start_time": "2023-01-21T17:28:59.047Z"
   },
   {
    "duration": 4,
    "start_time": "2023-01-21T17:28:59.055Z"
   },
   {
    "duration": 6,
    "start_time": "2023-01-21T17:28:59.060Z"
   },
   {
    "duration": 6,
    "start_time": "2023-01-21T17:28:59.067Z"
   },
   {
    "duration": 6,
    "start_time": "2023-01-21T17:28:59.074Z"
   },
   {
    "duration": 12,
    "start_time": "2023-01-21T17:28:59.081Z"
   },
   {
    "duration": 3,
    "start_time": "2023-01-21T17:28:59.095Z"
   },
   {
    "duration": 64,
    "start_time": "2023-01-21T17:28:59.099Z"
   },
   {
    "duration": 4,
    "start_time": "2023-01-21T17:28:59.164Z"
   },
   {
    "duration": 262,
    "start_time": "2023-01-21T17:28:59.169Z"
   },
   {
    "duration": 4,
    "start_time": "2023-01-21T17:28:59.433Z"
   },
   {
    "duration": 243,
    "start_time": "2023-01-21T17:28:59.439Z"
   },
   {
    "duration": 4,
    "start_time": "2023-01-21T17:28:59.693Z"
   },
   {
    "duration": 9,
    "start_time": "2023-01-21T17:28:59.698Z"
   },
   {
    "duration": 8,
    "start_time": "2023-01-21T17:28:59.709Z"
   },
   {
    "duration": 6,
    "start_time": "2023-01-21T17:28:59.718Z"
   },
   {
    "duration": 1051,
    "start_time": "2023-01-21T17:30:07.539Z"
   },
   {
    "duration": 40,
    "start_time": "2023-01-21T17:30:08.592Z"
   },
   {
    "duration": 12,
    "start_time": "2023-01-21T17:30:08.633Z"
   },
   {
    "duration": 6,
    "start_time": "2023-01-21T17:30:08.647Z"
   },
   {
    "duration": 8,
    "start_time": "2023-01-21T17:30:08.654Z"
   },
   {
    "duration": 5,
    "start_time": "2023-01-21T17:30:08.663Z"
   },
   {
    "duration": 5,
    "start_time": "2023-01-21T17:30:08.670Z"
   },
   {
    "duration": 8,
    "start_time": "2023-01-21T17:30:08.677Z"
   },
   {
    "duration": 9,
    "start_time": "2023-01-21T17:30:08.686Z"
   },
   {
    "duration": 4,
    "start_time": "2023-01-21T17:30:08.697Z"
   },
   {
    "duration": 60,
    "start_time": "2023-01-21T17:30:08.703Z"
   },
   {
    "duration": 4,
    "start_time": "2023-01-21T17:30:08.765Z"
   },
   {
    "duration": 272,
    "start_time": "2023-01-21T17:30:08.770Z"
   },
   {
    "duration": 4,
    "start_time": "2023-01-21T17:30:09.043Z"
   },
   {
    "duration": 215,
    "start_time": "2023-01-21T17:30:09.048Z"
   },
   {
    "duration": 3,
    "start_time": "2023-01-21T17:30:09.265Z"
   },
   {
    "duration": 9,
    "start_time": "2023-01-21T17:30:09.270Z"
   },
   {
    "duration": 20,
    "start_time": "2023-01-21T17:30:09.280Z"
   },
   {
    "duration": 6,
    "start_time": "2023-01-21T17:30:09.301Z"
   },
   {
    "duration": 1048,
    "start_time": "2023-01-21T17:30:27.929Z"
   },
   {
    "duration": 38,
    "start_time": "2023-01-21T17:30:28.979Z"
   },
   {
    "duration": 10,
    "start_time": "2023-01-21T17:30:29.019Z"
   },
   {
    "duration": 7,
    "start_time": "2023-01-21T17:30:29.030Z"
   },
   {
    "duration": 10,
    "start_time": "2023-01-21T17:30:29.038Z"
   },
   {
    "duration": 18,
    "start_time": "2023-01-21T17:30:29.049Z"
   },
   {
    "duration": 7,
    "start_time": "2023-01-21T17:30:29.068Z"
   },
   {
    "duration": 8,
    "start_time": "2023-01-21T17:30:29.077Z"
   },
   {
    "duration": 8,
    "start_time": "2023-01-21T17:30:29.087Z"
   },
   {
    "duration": 5,
    "start_time": "2023-01-21T17:30:29.097Z"
   },
   {
    "duration": 73,
    "start_time": "2023-01-21T17:30:29.104Z"
   },
   {
    "duration": 4,
    "start_time": "2023-01-21T17:30:29.179Z"
   },
   {
    "duration": 248,
    "start_time": "2023-01-21T17:30:29.184Z"
   },
   {
    "duration": 3,
    "start_time": "2023-01-21T17:30:29.433Z"
   },
   {
    "duration": 223,
    "start_time": "2023-01-21T17:30:29.438Z"
   },
   {
    "duration": 4,
    "start_time": "2023-01-21T17:30:29.662Z"
   },
   {
    "duration": 21,
    "start_time": "2023-01-21T17:30:29.668Z"
   },
   {
    "duration": 8,
    "start_time": "2023-01-21T17:30:29.693Z"
   },
   {
    "duration": 6,
    "start_time": "2023-01-21T17:30:29.702Z"
   },
   {
    "duration": 5,
    "start_time": "2023-01-21T17:32:55.905Z"
   },
   {
    "duration": 7,
    "start_time": "2023-01-21T17:34:02.153Z"
   },
   {
    "duration": 6,
    "start_time": "2023-01-21T17:34:22.502Z"
   },
   {
    "duration": 6,
    "start_time": "2023-01-21T17:34:31.589Z"
   },
   {
    "duration": 1229,
    "start_time": "2023-01-25T16:57:01.635Z"
   },
   {
    "duration": 80,
    "start_time": "2023-01-25T16:57:02.867Z"
   },
   {
    "duration": 13,
    "start_time": "2023-01-25T16:57:02.949Z"
   },
   {
    "duration": 16,
    "start_time": "2023-01-25T16:57:02.964Z"
   },
   {
    "duration": 17,
    "start_time": "2023-01-25T16:57:02.983Z"
   },
   {
    "duration": 33,
    "start_time": "2023-01-25T16:57:03.002Z"
   },
   {
    "duration": 14,
    "start_time": "2023-01-25T16:57:03.037Z"
   },
   {
    "duration": 22,
    "start_time": "2023-01-25T16:57:03.053Z"
   },
   {
    "duration": 23,
    "start_time": "2023-01-25T16:57:03.076Z"
   },
   {
    "duration": 29,
    "start_time": "2023-01-25T16:57:03.100Z"
   },
   {
    "duration": 76,
    "start_time": "2023-01-25T16:57:03.131Z"
   },
   {
    "duration": 5,
    "start_time": "2023-01-25T16:57:03.209Z"
   },
   {
    "duration": 342,
    "start_time": "2023-01-25T16:57:03.215Z"
   },
   {
    "duration": 4,
    "start_time": "2023-01-25T16:57:03.560Z"
   },
   {
    "duration": 311,
    "start_time": "2023-01-25T16:57:03.566Z"
   },
   {
    "duration": 7,
    "start_time": "2023-01-25T16:57:03.879Z"
   },
   {
    "duration": 14,
    "start_time": "2023-01-25T16:57:03.888Z"
   },
   {
    "duration": 11,
    "start_time": "2023-01-25T16:57:03.904Z"
   },
   {
    "duration": 10,
    "start_time": "2023-01-25T16:57:03.917Z"
   },
   {
    "duration": 13,
    "start_time": "2023-01-25T16:57:03.928Z"
   },
   {
    "duration": 988,
    "start_time": "2023-01-25T16:57:22.403Z"
   },
   {
    "duration": 4,
    "start_time": "2023-01-25T16:57:24.590Z"
   },
   {
    "duration": 11,
    "start_time": "2023-01-25T16:57:39.241Z"
   },
   {
    "duration": 1241,
    "start_time": "2023-01-25T16:58:23.175Z"
   },
   {
    "duration": 43,
    "start_time": "2023-01-25T16:58:24.418Z"
   },
   {
    "duration": 12,
    "start_time": "2023-01-25T16:58:24.463Z"
   },
   {
    "duration": 21,
    "start_time": "2023-01-25T16:58:24.477Z"
   },
   {
    "duration": 24,
    "start_time": "2023-01-25T16:58:24.501Z"
   },
   {
    "duration": 17,
    "start_time": "2023-01-25T16:58:24.527Z"
   },
   {
    "duration": 18,
    "start_time": "2023-01-25T16:58:24.546Z"
   },
   {
    "duration": 8,
    "start_time": "2023-01-25T16:58:24.566Z"
   },
   {
    "duration": 12,
    "start_time": "2023-01-25T16:58:24.576Z"
   },
   {
    "duration": 11,
    "start_time": "2023-01-25T16:58:24.590Z"
   },
   {
    "duration": 79,
    "start_time": "2023-01-25T16:58:24.603Z"
   },
   {
    "duration": 5,
    "start_time": "2023-01-25T16:58:24.684Z"
   },
   {
    "duration": 1011,
    "start_time": "2023-01-25T16:58:24.691Z"
   },
   {
    "duration": 4,
    "start_time": "2023-01-25T16:58:25.704Z"
   },
   {
    "duration": 274,
    "start_time": "2023-01-25T16:58:25.710Z"
   },
   {
    "duration": 4,
    "start_time": "2023-01-25T16:58:25.986Z"
   },
   {
    "duration": 32,
    "start_time": "2023-01-25T16:58:25.992Z"
   },
   {
    "duration": 17,
    "start_time": "2023-01-25T16:58:26.026Z"
   },
   {
    "duration": 15,
    "start_time": "2023-01-25T16:58:26.045Z"
   },
   {
    "duration": 18,
    "start_time": "2023-01-25T16:58:26.062Z"
   },
   {
    "duration": 249,
    "start_time": "2023-01-25T17:21:01.453Z"
   },
   {
    "duration": 81,
    "start_time": "2023-01-25T17:22:45.014Z"
   },
   {
    "duration": 4,
    "start_time": "2023-01-25T17:23:03.090Z"
   },
   {
    "duration": 70,
    "start_time": "2023-01-25T17:25:06.122Z"
   },
   {
    "duration": 119,
    "start_time": "2023-01-25T17:25:13.565Z"
   },
   {
    "duration": 4,
    "start_time": "2023-01-25T17:25:18.398Z"
   },
   {
    "duration": 1247,
    "start_time": "2023-01-25T17:25:33.787Z"
   },
   {
    "duration": 41,
    "start_time": "2023-01-25T17:25:35.037Z"
   },
   {
    "duration": 13,
    "start_time": "2023-01-25T17:25:35.080Z"
   },
   {
    "duration": 13,
    "start_time": "2023-01-25T17:25:35.095Z"
   },
   {
    "duration": 8,
    "start_time": "2023-01-25T17:25:35.110Z"
   },
   {
    "duration": 8,
    "start_time": "2023-01-25T17:25:35.119Z"
   },
   {
    "duration": 10,
    "start_time": "2023-01-25T17:25:35.129Z"
   },
   {
    "duration": 8,
    "start_time": "2023-01-25T17:25:35.141Z"
   },
   {
    "duration": 21,
    "start_time": "2023-01-25T17:25:35.151Z"
   },
   {
    "duration": 9,
    "start_time": "2023-01-25T17:25:35.175Z"
   },
   {
    "duration": 85,
    "start_time": "2023-01-25T17:25:35.186Z"
   },
   {
    "duration": 5,
    "start_time": "2023-01-25T17:25:35.273Z"
   },
   {
    "duration": 989,
    "start_time": "2023-01-25T17:25:35.280Z"
   },
   {
    "duration": 4,
    "start_time": "2023-01-25T17:25:36.271Z"
   },
   {
    "duration": 275,
    "start_time": "2023-01-25T17:25:36.277Z"
   },
   {
    "duration": 4,
    "start_time": "2023-01-25T17:25:36.554Z"
   },
   {
    "duration": 98,
    "start_time": "2023-01-25T17:25:36.560Z"
   },
   {
    "duration": 5,
    "start_time": "2023-01-25T17:25:36.659Z"
   },
   {
    "duration": 109,
    "start_time": "2023-01-25T17:25:36.665Z"
   },
   {
    "duration": 9,
    "start_time": "2023-01-25T17:25:36.776Z"
   },
   {
    "duration": 10,
    "start_time": "2023-01-25T17:25:36.787Z"
   },
   {
    "duration": 12,
    "start_time": "2023-01-25T17:25:36.798Z"
   },
   {
    "duration": 6,
    "start_time": "2023-01-25T17:25:36.812Z"
   },
   {
    "duration": 19,
    "start_time": "2023-01-25T17:25:36.820Z"
   },
   {
    "duration": 222,
    "start_time": "2023-01-25T17:25:50.024Z"
   },
   {
    "duration": 5,
    "start_time": "2023-01-25T17:25:51.086Z"
   },
   {
    "duration": 90,
    "start_time": "2023-01-25T17:26:03.738Z"
   },
   {
    "duration": 4,
    "start_time": "2023-01-25T17:26:05.619Z"
   },
   {
    "duration": 206,
    "start_time": "2023-01-25T17:26:16.402Z"
   },
   {
    "duration": 4,
    "start_time": "2023-01-25T17:26:17.156Z"
   },
   {
    "duration": 92,
    "start_time": "2023-01-25T17:26:25.746Z"
   },
   {
    "duration": 5,
    "start_time": "2023-01-25T17:26:27.223Z"
   },
   {
    "duration": 3146,
    "start_time": "2023-01-25T17:49:22.894Z"
   },
   {
    "duration": 42,
    "start_time": "2023-01-25T17:49:26.042Z"
   },
   {
    "duration": 13,
    "start_time": "2023-01-25T17:49:26.086Z"
   },
   {
    "duration": 9,
    "start_time": "2023-01-25T17:49:26.102Z"
   },
   {
    "duration": 9,
    "start_time": "2023-01-25T17:49:26.112Z"
   },
   {
    "duration": 12,
    "start_time": "2023-01-25T17:49:26.123Z"
   },
   {
    "duration": 5,
    "start_time": "2023-01-25T17:49:26.137Z"
   },
   {
    "duration": 8,
    "start_time": "2023-01-25T17:49:26.144Z"
   },
   {
    "duration": 31,
    "start_time": "2023-01-25T17:49:26.154Z"
   },
   {
    "duration": 22,
    "start_time": "2023-01-25T17:49:26.188Z"
   },
   {
    "duration": 75,
    "start_time": "2023-01-25T17:49:26.212Z"
   },
   {
    "duration": 4,
    "start_time": "2023-01-25T17:49:26.289Z"
   },
   {
    "duration": 1002,
    "start_time": "2023-01-25T17:49:26.295Z"
   },
   {
    "duration": 4,
    "start_time": "2023-01-25T17:49:27.298Z"
   },
   {
    "duration": 262,
    "start_time": "2023-01-25T17:49:27.303Z"
   },
   {
    "duration": 4,
    "start_time": "2023-01-25T17:49:27.567Z"
   },
   {
    "duration": 95,
    "start_time": "2023-01-25T17:49:27.573Z"
   },
   {
    "duration": 3,
    "start_time": "2023-01-25T17:49:27.670Z"
   },
   {
    "duration": 97,
    "start_time": "2023-01-25T17:49:27.675Z"
   },
   {
    "duration": 12,
    "start_time": "2023-01-25T17:49:27.774Z"
   },
   {
    "duration": 12,
    "start_time": "2023-01-25T17:49:27.787Z"
   },
   {
    "duration": 11,
    "start_time": "2023-01-25T17:49:27.801Z"
   },
   {
    "duration": 188,
    "start_time": "2023-01-25T17:49:27.814Z"
   },
   {
    "duration": 17,
    "start_time": "2023-01-25T17:49:28.003Z"
   }
  ],
  "kernelspec": {
   "display_name": "Python 3 (ipykernel)",
   "language": "python",
   "name": "python3"
  },
  "language_info": {
   "codemirror_mode": {
    "name": "ipython",
    "version": 3
   },
   "file_extension": ".py",
   "mimetype": "text/x-python",
   "name": "python",
   "nbconvert_exporter": "python",
   "pygments_lexer": "ipython3",
   "version": "3.9.13"
  },
  "toc": {
   "base_numbering": 1,
   "nav_menu": {},
   "number_sections": true,
   "sideBar": true,
   "skip_h1_title": true,
   "title_cell": "Table of Contents",
   "title_sidebar": "Contents",
   "toc_cell": false,
   "toc_position": {},
   "toc_section_display": true,
   "toc_window_display": false
  }
 },
 "nbformat": 4,
 "nbformat_minor": 2
}
